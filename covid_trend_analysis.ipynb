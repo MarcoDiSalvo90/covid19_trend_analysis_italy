{
 "cells": [
  {
   "cell_type": "code",
   "execution_count": 1,
   "metadata": {},
   "outputs": [],
   "source": [
    "import glob\n",
    "import os\n",
    "import pandas as pd \n",
    "import matplotlib.pyplot as plt\n",
    "from random import choice\n",
    "from datetime import date\n",
    "\n",
    "from bokeh.plotting import figure, output_notebook, show\n",
    "from bokeh.models.tools import HoverTool, PanTool\n",
    "from bokeh.colors import named"
   ]
  },
  {
   "cell_type": "code",
   "execution_count": 2,
   "metadata": {},
   "outputs": [
    {
     "data": {
      "text/html": [
       "\n",
       "    <div class=\"bk-root\">\n",
       "        <a href=\"https://bokeh.org\" target=\"_blank\" class=\"bk-logo bk-logo-small bk-logo-notebook\"></a>\n",
       "        <span id=\"1001\">Loading BokehJS ...</span>\n",
       "    </div>"
      ]
     },
     "metadata": {},
     "output_type": "display_data"
    },
    {
     "data": {
      "application/javascript": [
       "\n",
       "(function(root) {\n",
       "  function now() {\n",
       "    return new Date();\n",
       "  }\n",
       "\n",
       "  var force = true;\n",
       "\n",
       "  if (typeof root._bokeh_onload_callbacks === \"undefined\" || force === true) {\n",
       "    root._bokeh_onload_callbacks = [];\n",
       "    root._bokeh_is_loading = undefined;\n",
       "  }\n",
       "\n",
       "  var JS_MIME_TYPE = 'application/javascript';\n",
       "  var HTML_MIME_TYPE = 'text/html';\n",
       "  var EXEC_MIME_TYPE = 'application/vnd.bokehjs_exec.v0+json';\n",
       "  var CLASS_NAME = 'output_bokeh rendered_html';\n",
       "\n",
       "  /**\n",
       "   * Render data to the DOM node\n",
       "   */\n",
       "  function render(props, node) {\n",
       "    var script = document.createElement(\"script\");\n",
       "    node.appendChild(script);\n",
       "  }\n",
       "\n",
       "  /**\n",
       "   * Handle when an output is cleared or removed\n",
       "   */\n",
       "  function handleClearOutput(event, handle) {\n",
       "    var cell = handle.cell;\n",
       "\n",
       "    var id = cell.output_area._bokeh_element_id;\n",
       "    var server_id = cell.output_area._bokeh_server_id;\n",
       "    // Clean up Bokeh references\n",
       "    if (id != null && id in Bokeh.index) {\n",
       "      Bokeh.index[id].model.document.clear();\n",
       "      delete Bokeh.index[id];\n",
       "    }\n",
       "\n",
       "    if (server_id !== undefined) {\n",
       "      // Clean up Bokeh references\n",
       "      var cmd = \"from bokeh.io.state import curstate; print(curstate().uuid_to_server['\" + server_id + \"'].get_sessions()[0].document.roots[0]._id)\";\n",
       "      cell.notebook.kernel.execute(cmd, {\n",
       "        iopub: {\n",
       "          output: function(msg) {\n",
       "            var id = msg.content.text.trim();\n",
       "            if (id in Bokeh.index) {\n",
       "              Bokeh.index[id].model.document.clear();\n",
       "              delete Bokeh.index[id];\n",
       "            }\n",
       "          }\n",
       "        }\n",
       "      });\n",
       "      // Destroy server and session\n",
       "      var cmd = \"import bokeh.io.notebook as ion; ion.destroy_server('\" + server_id + \"')\";\n",
       "      cell.notebook.kernel.execute(cmd);\n",
       "    }\n",
       "  }\n",
       "\n",
       "  /**\n",
       "   * Handle when a new output is added\n",
       "   */\n",
       "  function handleAddOutput(event, handle) {\n",
       "    var output_area = handle.output_area;\n",
       "    var output = handle.output;\n",
       "\n",
       "    // limit handleAddOutput to display_data with EXEC_MIME_TYPE content only\n",
       "    if ((output.output_type != \"display_data\") || (!output.data.hasOwnProperty(EXEC_MIME_TYPE))) {\n",
       "      return\n",
       "    }\n",
       "\n",
       "    var toinsert = output_area.element.find(\".\" + CLASS_NAME.split(' ')[0]);\n",
       "\n",
       "    if (output.metadata[EXEC_MIME_TYPE][\"id\"] !== undefined) {\n",
       "      toinsert[toinsert.length - 1].firstChild.textContent = output.data[JS_MIME_TYPE];\n",
       "      // store reference to embed id on output_area\n",
       "      output_area._bokeh_element_id = output.metadata[EXEC_MIME_TYPE][\"id\"];\n",
       "    }\n",
       "    if (output.metadata[EXEC_MIME_TYPE][\"server_id\"] !== undefined) {\n",
       "      var bk_div = document.createElement(\"div\");\n",
       "      bk_div.innerHTML = output.data[HTML_MIME_TYPE];\n",
       "      var script_attrs = bk_div.children[0].attributes;\n",
       "      for (var i = 0; i < script_attrs.length; i++) {\n",
       "        toinsert[toinsert.length - 1].firstChild.setAttribute(script_attrs[i].name, script_attrs[i].value);\n",
       "      }\n",
       "      // store reference to server id on output_area\n",
       "      output_area._bokeh_server_id = output.metadata[EXEC_MIME_TYPE][\"server_id\"];\n",
       "    }\n",
       "  }\n",
       "\n",
       "  function register_renderer(events, OutputArea) {\n",
       "\n",
       "    function append_mime(data, metadata, element) {\n",
       "      // create a DOM node to render to\n",
       "      var toinsert = this.create_output_subarea(\n",
       "        metadata,\n",
       "        CLASS_NAME,\n",
       "        EXEC_MIME_TYPE\n",
       "      );\n",
       "      this.keyboard_manager.register_events(toinsert);\n",
       "      // Render to node\n",
       "      var props = {data: data, metadata: metadata[EXEC_MIME_TYPE]};\n",
       "      render(props, toinsert[toinsert.length - 1]);\n",
       "      element.append(toinsert);\n",
       "      return toinsert\n",
       "    }\n",
       "\n",
       "    /* Handle when an output is cleared or removed */\n",
       "    events.on('clear_output.CodeCell', handleClearOutput);\n",
       "    events.on('delete.Cell', handleClearOutput);\n",
       "\n",
       "    /* Handle when a new output is added */\n",
       "    events.on('output_added.OutputArea', handleAddOutput);\n",
       "\n",
       "    /**\n",
       "     * Register the mime type and append_mime function with output_area\n",
       "     */\n",
       "    OutputArea.prototype.register_mime_type(EXEC_MIME_TYPE, append_mime, {\n",
       "      /* Is output safe? */\n",
       "      safe: true,\n",
       "      /* Index of renderer in `output_area.display_order` */\n",
       "      index: 0\n",
       "    });\n",
       "  }\n",
       "\n",
       "  // register the mime type if in Jupyter Notebook environment and previously unregistered\n",
       "  if (root.Jupyter !== undefined) {\n",
       "    var events = require('base/js/events');\n",
       "    var OutputArea = require('notebook/js/outputarea').OutputArea;\n",
       "\n",
       "    if (OutputArea.prototype.mime_types().indexOf(EXEC_MIME_TYPE) == -1) {\n",
       "      register_renderer(events, OutputArea);\n",
       "    }\n",
       "  }\n",
       "\n",
       "  \n",
       "  if (typeof (root._bokeh_timeout) === \"undefined\" || force === true) {\n",
       "    root._bokeh_timeout = Date.now() + 5000;\n",
       "    root._bokeh_failed_load = false;\n",
       "  }\n",
       "\n",
       "  var NB_LOAD_WARNING = {'data': {'text/html':\n",
       "     \"<div style='background-color: #fdd'>\\n\"+\n",
       "     \"<p>\\n\"+\n",
       "     \"BokehJS does not appear to have successfully loaded. If loading BokehJS from CDN, this \\n\"+\n",
       "     \"may be due to a slow or bad network connection. Possible fixes:\\n\"+\n",
       "     \"</p>\\n\"+\n",
       "     \"<ul>\\n\"+\n",
       "     \"<li>re-rerun `output_notebook()` to attempt to load from CDN again, or</li>\\n\"+\n",
       "     \"<li>use INLINE resources instead, as so:</li>\\n\"+\n",
       "     \"</ul>\\n\"+\n",
       "     \"<code>\\n\"+\n",
       "     \"from bokeh.resources import INLINE\\n\"+\n",
       "     \"output_notebook(resources=INLINE)\\n\"+\n",
       "     \"</code>\\n\"+\n",
       "     \"</div>\"}};\n",
       "\n",
       "  function display_loaded() {\n",
       "    var el = document.getElementById(\"1001\");\n",
       "    if (el != null) {\n",
       "      el.textContent = \"BokehJS is loading...\";\n",
       "    }\n",
       "    if (root.Bokeh !== undefined) {\n",
       "      if (el != null) {\n",
       "        el.textContent = \"BokehJS \" + root.Bokeh.version + \" successfully loaded.\";\n",
       "      }\n",
       "    } else if (Date.now() < root._bokeh_timeout) {\n",
       "      setTimeout(display_loaded, 100)\n",
       "    }\n",
       "  }\n",
       "\n",
       "\n",
       "  function run_callbacks() {\n",
       "    try {\n",
       "      root._bokeh_onload_callbacks.forEach(function(callback) {\n",
       "        if (callback != null)\n",
       "          callback();\n",
       "      });\n",
       "    } finally {\n",
       "      delete root._bokeh_onload_callbacks\n",
       "    }\n",
       "    console.debug(\"Bokeh: all callbacks have finished\");\n",
       "  }\n",
       "\n",
       "  function load_libs(css_urls, js_urls, callback) {\n",
       "    if (css_urls == null) css_urls = [];\n",
       "    if (js_urls == null) js_urls = [];\n",
       "\n",
       "    root._bokeh_onload_callbacks.push(callback);\n",
       "    if (root._bokeh_is_loading > 0) {\n",
       "      console.debug(\"Bokeh: BokehJS is being loaded, scheduling callback at\", now());\n",
       "      return null;\n",
       "    }\n",
       "    if (js_urls == null || js_urls.length === 0) {\n",
       "      run_callbacks();\n",
       "      return null;\n",
       "    }\n",
       "    console.debug(\"Bokeh: BokehJS not loaded, scheduling load and callback at\", now());\n",
       "    root._bokeh_is_loading = css_urls.length + js_urls.length;\n",
       "\n",
       "    function on_load() {\n",
       "      root._bokeh_is_loading--;\n",
       "      if (root._bokeh_is_loading === 0) {\n",
       "        console.debug(\"Bokeh: all BokehJS libraries/stylesheets loaded\");\n",
       "        run_callbacks()\n",
       "      }\n",
       "    }\n",
       "\n",
       "    function on_error() {\n",
       "      console.error(\"failed to load \" + url);\n",
       "    }\n",
       "\n",
       "    for (var i = 0; i < css_urls.length; i++) {\n",
       "      var url = css_urls[i];\n",
       "      const element = document.createElement(\"link\");\n",
       "      element.onload = on_load;\n",
       "      element.onerror = on_error;\n",
       "      element.rel = \"stylesheet\";\n",
       "      element.type = \"text/css\";\n",
       "      element.href = url;\n",
       "      console.debug(\"Bokeh: injecting link tag for BokehJS stylesheet: \", url);\n",
       "      document.body.appendChild(element);\n",
       "    }\n",
       "\n",
       "    for (var i = 0; i < js_urls.length; i++) {\n",
       "      var url = js_urls[i];\n",
       "      var element = document.createElement('script');\n",
       "      element.onload = on_load;\n",
       "      element.onerror = on_error;\n",
       "      element.async = false;\n",
       "      element.src = url;\n",
       "      console.debug(\"Bokeh: injecting script tag for BokehJS library: \", url);\n",
       "      document.head.appendChild(element);\n",
       "    }\n",
       "  };var element = document.getElementById(\"1001\");\n",
       "  if (element == null) {\n",
       "    console.error(\"Bokeh: ERROR: autoload.js configured with elementid '1001' but no matching script tag was found. \")\n",
       "    return false;\n",
       "  }\n",
       "\n",
       "  function inject_raw_css(css) {\n",
       "    const element = document.createElement(\"style\");\n",
       "    element.appendChild(document.createTextNode(css));\n",
       "    document.body.appendChild(element);\n",
       "  }\n",
       "\n",
       "  \n",
       "  var js_urls = [\"https://cdn.pydata.org/bokeh/release/bokeh-1.4.0.min.js\", \"https://cdn.pydata.org/bokeh/release/bokeh-widgets-1.4.0.min.js\", \"https://cdn.pydata.org/bokeh/release/bokeh-tables-1.4.0.min.js\", \"https://cdn.pydata.org/bokeh/release/bokeh-gl-1.4.0.min.js\"];\n",
       "  var css_urls = [];\n",
       "  \n",
       "\n",
       "  var inline_js = [\n",
       "    function(Bokeh) {\n",
       "      Bokeh.set_log_level(\"info\");\n",
       "    },\n",
       "    function(Bokeh) {\n",
       "    \n",
       "    \n",
       "    }\n",
       "  ];\n",
       "\n",
       "  function run_inline_js() {\n",
       "    \n",
       "    if (root.Bokeh !== undefined || force === true) {\n",
       "      \n",
       "    for (var i = 0; i < inline_js.length; i++) {\n",
       "      inline_js[i].call(root, root.Bokeh);\n",
       "    }\n",
       "    if (force === true) {\n",
       "        display_loaded();\n",
       "      }} else if (Date.now() < root._bokeh_timeout) {\n",
       "      setTimeout(run_inline_js, 100);\n",
       "    } else if (!root._bokeh_failed_load) {\n",
       "      console.log(\"Bokeh: BokehJS failed to load within specified timeout.\");\n",
       "      root._bokeh_failed_load = true;\n",
       "    } else if (force !== true) {\n",
       "      var cell = $(document.getElementById(\"1001\")).parents('.cell').data().cell;\n",
       "      cell.output_area.append_execute_result(NB_LOAD_WARNING)\n",
       "    }\n",
       "\n",
       "  }\n",
       "\n",
       "  if (root._bokeh_is_loading === 0) {\n",
       "    console.debug(\"Bokeh: BokehJS loaded, going straight to plotting\");\n",
       "    run_inline_js();\n",
       "  } else {\n",
       "    load_libs(css_urls, js_urls, function() {\n",
       "      console.debug(\"Bokeh: BokehJS plotting callback run at\", now());\n",
       "      run_inline_js();\n",
       "    });\n",
       "  }\n",
       "}(window));"
      ],
      "application/vnd.bokehjs_load.v0+json": "\n(function(root) {\n  function now() {\n    return new Date();\n  }\n\n  var force = true;\n\n  if (typeof root._bokeh_onload_callbacks === \"undefined\" || force === true) {\n    root._bokeh_onload_callbacks = [];\n    root._bokeh_is_loading = undefined;\n  }\n\n  \n\n  \n  if (typeof (root._bokeh_timeout) === \"undefined\" || force === true) {\n    root._bokeh_timeout = Date.now() + 5000;\n    root._bokeh_failed_load = false;\n  }\n\n  var NB_LOAD_WARNING = {'data': {'text/html':\n     \"<div style='background-color: #fdd'>\\n\"+\n     \"<p>\\n\"+\n     \"BokehJS does not appear to have successfully loaded. If loading BokehJS from CDN, this \\n\"+\n     \"may be due to a slow or bad network connection. Possible fixes:\\n\"+\n     \"</p>\\n\"+\n     \"<ul>\\n\"+\n     \"<li>re-rerun `output_notebook()` to attempt to load from CDN again, or</li>\\n\"+\n     \"<li>use INLINE resources instead, as so:</li>\\n\"+\n     \"</ul>\\n\"+\n     \"<code>\\n\"+\n     \"from bokeh.resources import INLINE\\n\"+\n     \"output_notebook(resources=INLINE)\\n\"+\n     \"</code>\\n\"+\n     \"</div>\"}};\n\n  function display_loaded() {\n    var el = document.getElementById(\"1001\");\n    if (el != null) {\n      el.textContent = \"BokehJS is loading...\";\n    }\n    if (root.Bokeh !== undefined) {\n      if (el != null) {\n        el.textContent = \"BokehJS \" + root.Bokeh.version + \" successfully loaded.\";\n      }\n    } else if (Date.now() < root._bokeh_timeout) {\n      setTimeout(display_loaded, 100)\n    }\n  }\n\n\n  function run_callbacks() {\n    try {\n      root._bokeh_onload_callbacks.forEach(function(callback) {\n        if (callback != null)\n          callback();\n      });\n    } finally {\n      delete root._bokeh_onload_callbacks\n    }\n    console.debug(\"Bokeh: all callbacks have finished\");\n  }\n\n  function load_libs(css_urls, js_urls, callback) {\n    if (css_urls == null) css_urls = [];\n    if (js_urls == null) js_urls = [];\n\n    root._bokeh_onload_callbacks.push(callback);\n    if (root._bokeh_is_loading > 0) {\n      console.debug(\"Bokeh: BokehJS is being loaded, scheduling callback at\", now());\n      return null;\n    }\n    if (js_urls == null || js_urls.length === 0) {\n      run_callbacks();\n      return null;\n    }\n    console.debug(\"Bokeh: BokehJS not loaded, scheduling load and callback at\", now());\n    root._bokeh_is_loading = css_urls.length + js_urls.length;\n\n    function on_load() {\n      root._bokeh_is_loading--;\n      if (root._bokeh_is_loading === 0) {\n        console.debug(\"Bokeh: all BokehJS libraries/stylesheets loaded\");\n        run_callbacks()\n      }\n    }\n\n    function on_error() {\n      console.error(\"failed to load \" + url);\n    }\n\n    for (var i = 0; i < css_urls.length; i++) {\n      var url = css_urls[i];\n      const element = document.createElement(\"link\");\n      element.onload = on_load;\n      element.onerror = on_error;\n      element.rel = \"stylesheet\";\n      element.type = \"text/css\";\n      element.href = url;\n      console.debug(\"Bokeh: injecting link tag for BokehJS stylesheet: \", url);\n      document.body.appendChild(element);\n    }\n\n    for (var i = 0; i < js_urls.length; i++) {\n      var url = js_urls[i];\n      var element = document.createElement('script');\n      element.onload = on_load;\n      element.onerror = on_error;\n      element.async = false;\n      element.src = url;\n      console.debug(\"Bokeh: injecting script tag for BokehJS library: \", url);\n      document.head.appendChild(element);\n    }\n  };var element = document.getElementById(\"1001\");\n  if (element == null) {\n    console.error(\"Bokeh: ERROR: autoload.js configured with elementid '1001' but no matching script tag was found. \")\n    return false;\n  }\n\n  function inject_raw_css(css) {\n    const element = document.createElement(\"style\");\n    element.appendChild(document.createTextNode(css));\n    document.body.appendChild(element);\n  }\n\n  \n  var js_urls = [\"https://cdn.pydata.org/bokeh/release/bokeh-1.4.0.min.js\", \"https://cdn.pydata.org/bokeh/release/bokeh-widgets-1.4.0.min.js\", \"https://cdn.pydata.org/bokeh/release/bokeh-tables-1.4.0.min.js\", \"https://cdn.pydata.org/bokeh/release/bokeh-gl-1.4.0.min.js\"];\n  var css_urls = [];\n  \n\n  var inline_js = [\n    function(Bokeh) {\n      Bokeh.set_log_level(\"info\");\n    },\n    function(Bokeh) {\n    \n    \n    }\n  ];\n\n  function run_inline_js() {\n    \n    if (root.Bokeh !== undefined || force === true) {\n      \n    for (var i = 0; i < inline_js.length; i++) {\n      inline_js[i].call(root, root.Bokeh);\n    }\n    if (force === true) {\n        display_loaded();\n      }} else if (Date.now() < root._bokeh_timeout) {\n      setTimeout(run_inline_js, 100);\n    } else if (!root._bokeh_failed_load) {\n      console.log(\"Bokeh: BokehJS failed to load within specified timeout.\");\n      root._bokeh_failed_load = true;\n    } else if (force !== true) {\n      var cell = $(document.getElementById(\"1001\")).parents('.cell').data().cell;\n      cell.output_area.append_execute_result(NB_LOAD_WARNING)\n    }\n\n  }\n\n  if (root._bokeh_is_loading === 0) {\n    console.debug(\"Bokeh: BokehJS loaded, going straight to plotting\");\n    run_inline_js();\n  } else {\n    load_libs(css_urls, js_urls, function() {\n      console.debug(\"Bokeh: BokehJS plotting callback run at\", now());\n      run_inline_js();\n    });\n  }\n}(window));"
     },
     "metadata": {},
     "output_type": "display_data"
    }
   ],
   "source": [
    "output_notebook()"
   ]
  },
  {
   "cell_type": "code",
   "execution_count": 3,
   "metadata": {},
   "outputs": [
    {
     "name": "stdout",
     "output_type": "stream",
     "text": [
      "Already up to date.\n",
      "Submodule path 'COVID-19': checked out 'd3f0e79175a481bbc34832f714d7660f39c409e4'\n",
      "Submodule path 'covid19-opendata-vaccini': checked out '8819058280658bec77f0b90506ed347fccd14723'\n"
     ]
    },
    {
     "name": "stderr",
     "output_type": "stream",
     "text": [
      "Fetching submodule COVID-19\n",
      "Fetching submodule covid19-opendata-vaccini\n"
     ]
    }
   ],
   "source": [
    "!git pull --recurse-submodules"
   ]
  },
  {
   "cell_type": "code",
   "execution_count": 4,
   "metadata": {},
   "outputs": [
    {
     "name": "stdout",
     "output_type": "stream",
     "text": [
      "Submodule path 'COVID-19': checked out '1d0ea9a242574477fab976ca99ca03b963922d1d'\n",
      "Submodule path 'covid19-opendata-vaccini': checked out '8d74adc4258502d72db2a4d851814235890991af'\n"
     ]
    }
   ],
   "source": [
    "!git submodule update --remote"
   ]
  },
  {
   "cell_type": "markdown",
   "metadata": {},
   "source": [
    "# COVID-19 INFECTIONS TREND ANALYSIS"
   ]
  },
  {
   "cell_type": "markdown",
   "metadata": {},
   "source": [
    "In this section you can find an analysis of COVID-19 infections, both in a cumulative way and for day, related to:\n",
    "\n",
    "- all the Italy globally considered;\n",
    "- some regions of the Italy;\n",
    "- some provinces;\n",
    "- hospitalizations, healed and dead people"
   ]
  },
  {
   "cell_type": "code",
   "execution_count": 5,
   "metadata": {},
   "outputs": [],
   "source": [
    "nat_path = \"COVID-19/dati-andamento-nazionale/dpc-covid19-ita-andamento-nazionale-*.csv\""
   ]
  },
  {
   "cell_type": "code",
   "execution_count": 6,
   "metadata": {},
   "outputs": [],
   "source": [
    "df = pd.concat(map(pd.read_csv, glob.glob(os.path.join('', f\"{nat_path}\"))))"
   ]
  },
  {
   "cell_type": "code",
   "execution_count": 7,
   "metadata": {},
   "outputs": [],
   "source": [
    "df.sort_values(by='data', inplace=True)"
   ]
  },
  {
   "cell_type": "code",
   "execution_count": 8,
   "metadata": {},
   "outputs": [],
   "source": [
    "df['only_data'] = pd.to_datetime(df['data']).dt.date"
   ]
  },
  {
   "cell_type": "markdown",
   "metadata": {},
   "source": [
    "## Italy globally considered"
   ]
  },
  {
   "cell_type": "code",
   "execution_count": 9,
   "metadata": {},
   "outputs": [
    {
     "data": {
      "text/html": [
       "\n",
       "\n",
       "\n",
       "\n",
       "\n",
       "\n",
       "  <div class=\"bk-root\" id=\"6c92d9b2-bf4c-4b47-9433-889b574eb09b\" data-root-id=\"1002\"></div>\n"
      ]
     },
     "metadata": {},
     "output_type": "display_data"
    },
    {
     "data": {
      "application/javascript": [
       "(function(root) {\n",
       "  function embed_document(root) {\n",
       "    \n",
       "  var docs_json = {\"a726eebd-913c-40d0-95ed-8d888091735d\":{\"roots\":{\"references\":[{\"attributes\":{\"below\":[{\"id\":\"1013\",\"type\":\"DatetimeAxis\"}],\"center\":[{\"id\":\"1017\",\"type\":\"Grid\"},{\"id\":\"1022\",\"type\":\"Grid\"}],\"left\":[{\"id\":\"1018\",\"type\":\"LinearAxis\"}],\"plot_height\":400,\"plot_width\":800,\"renderers\":[{\"id\":\"1039\",\"type\":\"GlyphRenderer\"}],\"title\":{\"id\":\"1003\",\"type\":\"Title\"},\"toolbar\":{\"id\":\"1029\",\"type\":\"Toolbar\"},\"x_range\":{\"id\":\"1005\",\"type\":\"DataRange1d\"},\"x_scale\":{\"id\":\"1009\",\"type\":\"LinearScale\"},\"y_range\":{\"id\":\"1007\",\"type\":\"DataRange1d\"},\"y_scale\":{\"id\":\"1011\",\"type\":\"LinearScale\"}},\"id\":\"1002\",\"subtype\":\"Figure\",\"type\":\"Plot\"},{\"attributes\":{\"callback\":null,\"start\":1582502400000.0},\"id\":\"1005\",\"type\":\"DataRange1d\"},{\"attributes\":{},\"id\":\"1060\",\"type\":\"Selection\"},{\"attributes\":{},\"id\":\"1019\",\"type\":\"BasicTicker\"},{\"attributes\":{\"days\":[1,4,7,10,13,16,19,22,25,28]},\"id\":\"1052\",\"type\":\"DaysTicker\"},{\"attributes\":{\"days\":[1,15]},\"id\":\"1054\",\"type\":\"DaysTicker\"},{\"attributes\":{\"axis_label\":\"infected\",\"formatter\":{\"id\":\"1044\",\"type\":\"BasicTickFormatter\"},\"ticker\":{\"id\":\"1019\",\"type\":\"BasicTicker\"}},\"id\":\"1018\",\"type\":\"LinearAxis\"},{\"attributes\":{\"line_alpha\":0.1,\"line_color\":\"#1f77b4\",\"line_width\":2,\"x\":{\"field\":\"x\"},\"y\":{\"field\":\"y\"}},\"id\":\"1038\",\"type\":\"Line\"},{\"attributes\":{\"months\":[0,4,8]},\"id\":\"1057\",\"type\":\"MonthsTicker\"},{\"attributes\":{\"ticker\":{\"id\":\"1014\",\"type\":\"DatetimeTicker\"}},\"id\":\"1017\",\"type\":\"Grid\"},{\"attributes\":{\"days\":[1,2,3,4,5,6,7,8,9,10,11,12,13,14,15,16,17,18,19,20,21,22,23,24,25,26,27,28,29,30,31]},\"id\":\"1051\",\"type\":\"DaysTicker\"},{\"attributes\":{},\"id\":\"1059\",\"type\":\"YearsTicker\"},{\"attributes\":{},\"id\":\"1023\",\"type\":\"PanTool\"},{\"attributes\":{\"dimension\":1,\"ticker\":{\"id\":\"1019\",\"type\":\"BasicTicker\"}},\"id\":\"1022\",\"type\":\"Grid\"},{\"attributes\":{},\"id\":\"1009\",\"type\":\"LinearScale\"},{\"attributes\":{\"source\":{\"id\":\"1036\",\"type\":\"ColumnDataSource\"}},\"id\":\"1040\",\"type\":\"CDSView\"},{\"attributes\":{\"callback\":null,\"formatters\":{\"x\":\"datetime\"},\"tooltips\":[[\"date\",\"@x{%F}\"],[\"total current infected\",\"@y\"]]},\"id\":\"1041\",\"type\":\"HoverTool\"},{\"attributes\":{},\"id\":\"1024\",\"type\":\"WheelZoomTool\"},{\"attributes\":{\"line_alpha\":0.8,\"line_color\":\"#1f77b4\",\"line_width\":2,\"x\":{\"field\":\"x\"},\"y\":{\"field\":\"y\"}},\"id\":\"1037\",\"type\":\"Line\"},{\"attributes\":{\"num_minor_ticks\":5,\"tickers\":[{\"id\":\"1048\",\"type\":\"AdaptiveTicker\"},{\"id\":\"1049\",\"type\":\"AdaptiveTicker\"},{\"id\":\"1050\",\"type\":\"AdaptiveTicker\"},{\"id\":\"1051\",\"type\":\"DaysTicker\"},{\"id\":\"1052\",\"type\":\"DaysTicker\"},{\"id\":\"1053\",\"type\":\"DaysTicker\"},{\"id\":\"1054\",\"type\":\"DaysTicker\"},{\"id\":\"1055\",\"type\":\"MonthsTicker\"},{\"id\":\"1056\",\"type\":\"MonthsTicker\"},{\"id\":\"1057\",\"type\":\"MonthsTicker\"},{\"id\":\"1058\",\"type\":\"MonthsTicker\"},{\"id\":\"1059\",\"type\":\"YearsTicker\"}]},\"id\":\"1014\",\"type\":\"DatetimeTicker\"},{\"attributes\":{},\"id\":\"1027\",\"type\":\"ResetTool\"},{\"attributes\":{},\"id\":\"1026\",\"type\":\"SaveTool\"},{\"attributes\":{\"callback\":null},\"id\":\"1007\",\"type\":\"DataRange1d\"},{\"attributes\":{\"active_drag\":\"auto\",\"active_inspect\":\"auto\",\"active_multi\":null,\"active_scroll\":\"auto\",\"active_tap\":\"auto\",\"tools\":[{\"id\":\"1023\",\"type\":\"PanTool\"},{\"id\":\"1024\",\"type\":\"WheelZoomTool\"},{\"id\":\"1025\",\"type\":\"BoxZoomTool\"},{\"id\":\"1026\",\"type\":\"SaveTool\"},{\"id\":\"1027\",\"type\":\"ResetTool\"},{\"id\":\"1028\",\"type\":\"HelpTool\"},{\"id\":\"1041\",\"type\":\"HoverTool\"}]},\"id\":\"1029\",\"type\":\"Toolbar\"},{\"attributes\":{\"months\":[0,1,2,3,4,5,6,7,8,9,10,11]},\"id\":\"1055\",\"type\":\"MonthsTicker\"},{\"attributes\":{\"bottom_units\":\"screen\",\"fill_alpha\":{\"value\":0.5},\"fill_color\":{\"value\":\"lightgrey\"},\"left_units\":\"screen\",\"level\":\"overlay\",\"line_alpha\":{\"value\":1.0},\"line_color\":{\"value\":\"black\"},\"line_dash\":[4,4],\"line_width\":{\"value\":2},\"render_mode\":\"css\",\"right_units\":\"screen\",\"top_units\":\"screen\"},\"id\":\"1062\",\"type\":\"BoxAnnotation\"},{\"attributes\":{\"axis_label\":\"date\",\"formatter\":{\"id\":\"1046\",\"type\":\"DatetimeTickFormatter\"},\"ticker\":{\"id\":\"1014\",\"type\":\"DatetimeTicker\"}},\"id\":\"1013\",\"type\":\"DatetimeAxis\"},{\"attributes\":{\"text\":\"Total current infected\"},\"id\":\"1003\",\"type\":\"Title\"},{\"attributes\":{\"base\":60,\"mantissas\":[1,2,5,10,15,20,30],\"max_interval\":1800000.0,\"min_interval\":1000.0,\"num_minor_ticks\":0},\"id\":\"1049\",\"type\":\"AdaptiveTicker\"},{\"attributes\":{},\"id\":\"1011\",\"type\":\"LinearScale\"},{\"attributes\":{},\"id\":\"1028\",\"type\":\"HelpTool\"},{\"attributes\":{\"days\":[1,8,15,22]},\"id\":\"1053\",\"type\":\"DaysTicker\"},{\"attributes\":{},\"id\":\"1061\",\"type\":\"UnionRenderers\"},{\"attributes\":{},\"id\":\"1044\",\"type\":\"BasicTickFormatter\"},{\"attributes\":{\"months\":[0,2,4,6,8,10]},\"id\":\"1056\",\"type\":\"MonthsTicker\"},{\"attributes\":{\"callback\":null,\"data\":{\"x\":[1582502400000.0,1582588800000.0,1582675200000.0,1582761600000.0,1582848000000.0,1582934400000.0,1583020800000.0,1583107200000.0,1583193600000.0,1583280000000.0,1583366400000.0,1583452800000.0,1583539200000.0,1583625600000.0,1583712000000.0,1583798400000.0,1583884800000.0,1583971200000.0,1584057600000.0,1584144000000.0,1584230400000.0,1584316800000.0,1584403200000.0,1584489600000.0,1584576000000.0,1584662400000.0,1584748800000.0,1584835200000.0,1584921600000.0,1585008000000.0,1585094400000.0,1585180800000.0,1585267200000.0,1585353600000.0,1585440000000.0,1585526400000.0,1585612800000.0,1585699200000.0,1585785600000.0,1585872000000.0,1585958400000.0,1586044800000.0,1586131200000.0,1586217600000.0,1586304000000.0,1586390400000.0,1586476800000.0,1586563200000.0,1586649600000.0,1586736000000.0,1586822400000.0,1586908800000.0,1586995200000.0,1587081600000.0,1587168000000.0,1587254400000.0,1587340800000.0,1587427200000.0,1587513600000.0,1587600000000.0,1587686400000.0,1587772800000.0,1587859200000.0,1587945600000.0,1588032000000.0,1588118400000.0,1588204800000.0,1588291200000.0,1588377600000.0,1588464000000.0,1588550400000.0,1588636800000.0,1588723200000.0,1588809600000.0,1588896000000.0,1588982400000.0,1589068800000.0,1589155200000.0,1589241600000.0,1589328000000.0,1589414400000.0,1589500800000.0,1589587200000.0,1589673600000.0,1589760000000.0,1589846400000.0,1589932800000.0,1590019200000.0,1590105600000.0,1590192000000.0,1590278400000.0,1590364800000.0,1590451200000.0,1590537600000.0,1590624000000.0,1590710400000.0,1590796800000.0,1590883200000.0,1590969600000.0,1591056000000.0,1591142400000.0,1591228800000.0,1591315200000.0,1591401600000.0,1591488000000.0,1591574400000.0,1591660800000.0,1591747200000.0,1591833600000.0,1591920000000.0,1592006400000.0,1592092800000.0,1592179200000.0,1592265600000.0,1592352000000.0,1592438400000.0,1592524800000.0,1592611200000.0,1592697600000.0,1592784000000.0,1592870400000.0,1592956800000.0,1593043200000.0,1593129600000.0,1593216000000.0,1593302400000.0,1593388800000.0,1593475200000.0,1593561600000.0,1593648000000.0,1593734400000.0,1593820800000.0,1593907200000.0,1593993600000.0,1594080000000.0,1594166400000.0,1594252800000.0,1594339200000.0,1594425600000.0,1594512000000.0,1594598400000.0,1594684800000.0,1594771200000.0,1594857600000.0,1594944000000.0,1595030400000.0,1595116800000.0,1595203200000.0,1595289600000.0,1595376000000.0,1595462400000.0,1595548800000.0,1595635200000.0,1595721600000.0,1595808000000.0,1595894400000.0,1595980800000.0,1596067200000.0,1596153600000.0,1596240000000.0,1596326400000.0,1596412800000.0,1596499200000.0,1596585600000.0,1596672000000.0,1596758400000.0,1596844800000.0,1596931200000.0,1597017600000.0,1597104000000.0,1597190400000.0,1597276800000.0,1597363200000.0,1597449600000.0,1597536000000.0,1597622400000.0,1597708800000.0,1597795200000.0,1597881600000.0,1597968000000.0,1598054400000.0,1598140800000.0,1598227200000.0,1598313600000.0,1598400000000.0,1598486400000.0,1598572800000.0,1598659200000.0,1598745600000.0,1598832000000.0,1598918400000.0,1599004800000.0,1599091200000.0,1599177600000.0,1599264000000.0,1599350400000.0,1599436800000.0,1599523200000.0,1599609600000.0,1599696000000.0,1599782400000.0,1599868800000.0,1599955200000.0,1600041600000.0,1600128000000.0,1600214400000.0,1600300800000.0,1600387200000.0,1600473600000.0,1600560000000.0,1600646400000.0,1600732800000.0,1600819200000.0,1600905600000.0,1600992000000.0,1601078400000.0,1601164800000.0,1601251200000.0,1601337600000.0,1601424000000.0,1601510400000.0,1601596800000.0,1601683200000.0,1601769600000.0,1601856000000.0,1601942400000.0,1602028800000.0,1602115200000.0,1602201600000.0,1602288000000.0,1602374400000.0,1602460800000.0,1602547200000.0,1602633600000.0,1602720000000.0,1602806400000.0,1602892800000.0,1602979200000.0,1603065600000.0,1603152000000.0,1603238400000.0,1603324800000.0,1603411200000.0,1603497600000.0,1603584000000.0,1603670400000.0,1603756800000.0,1603843200000.0,1603929600000.0,1604016000000.0,1604102400000.0,1604188800000.0,1604275200000.0,1604361600000.0,1604448000000.0,1604534400000.0,1604620800000.0,1604707200000.0,1604793600000.0,1604880000000.0,1604966400000.0,1605052800000.0,1605139200000.0,1605225600000.0,1605312000000.0,1605398400000.0,1605484800000.0,1605571200000.0,1605657600000.0,1605744000000.0,1605830400000.0,1605916800000.0,1606003200000.0,1606089600000.0,1606176000000.0,1606262400000.0,1606348800000.0,1606435200000.0,1606521600000.0,1606608000000.0,1606694400000.0,1606780800000.0,1606867200000.0,1606953600000.0,1607040000000.0,1607126400000.0,1607212800000.0,1607299200000.0,1607385600000.0,1607472000000.0,1607558400000.0,1607644800000.0,1607731200000.0,1607817600000.0,1607904000000.0,1607990400000.0,1608076800000.0,1608163200000.0,1608249600000.0,1608336000000.0,1608422400000.0,1608508800000.0,1608595200000.0,1608681600000.0,1608768000000.0,1608854400000.0,1608940800000.0,1609027200000.0,1609113600000.0,1609200000000.0,1609286400000.0,1609372800000.0,1609459200000.0,1609545600000.0,1609632000000.0,1609718400000.0,1609804800000.0,1609891200000.0,1609977600000.0,1610064000000.0,1610150400000.0,1610236800000.0,1610323200000.0,1610409600000.0,1610496000000.0,1610582400000.0,1610668800000.0,1610755200000.0,1610841600000.0,1610928000000.0,1611014400000.0,1611100800000.0,1611187200000.0,1611273600000.0,1611360000000.0,1611446400000.0,1611532800000.0,1611619200000.0,1611705600000.0,1611792000000.0,1611878400000.0,1611964800000.0,1612051200000.0,1612137600000.0,1612224000000.0,1612310400000.0,1612396800000.0,1612483200000.0,1612569600000.0,1612656000000.0,1612742400000.0,1612828800000.0,1612915200000.0,1613001600000.0,1613088000000.0,1613174400000.0,1613260800000.0,1613347200000.0,1613433600000.0,1613520000000.0,1613606400000.0,1613692800000.0,1613779200000.0,1613865600000.0,1613952000000.0,1614038400000.0,1614124800000.0,1614211200000.0,1614297600000.0,1614384000000.0,1614470400000.0,1614556800000.0,1614643200000.0,1614729600000.0,1614816000000.0,1614902400000.0,1614988800000.0,1615075200000.0,1615161600000.0,1615248000000.0,1615334400000.0,1615420800000.0,1615507200000.0,1615593600000.0,1615680000000.0,1615766400000.0,1615852800000.0,1615939200000.0,1616025600000.0,1616112000000.0,1616198400000.0,1616284800000.0,1616371200000.0,1616457600000.0,1616544000000.0,1616630400000.0,1616716800000.0,1616803200000.0,1616889600000.0,1616976000000.0,1617062400000.0,1617148800000.0,1617235200000.0,1617321600000.0,1617408000000.0,1617494400000.0,1617580800000.0,1617667200000.0,1617753600000.0,1617840000000.0,1617926400000.0,1618012800000.0,1618099200000.0,1618185600000.0,1618272000000.0,1618358400000.0,1618444800000.0,1618531200000.0,1618617600000.0,1618704000000.0,1618790400000.0,1618876800000.0,1618963200000.0,1619049600000.0,1619136000000.0,1619222400000.0,1619308800000.0,1619395200000.0,1619481600000.0,1619568000000.0,1619654400000.0,1619740800000.0,1619827200000.0,1619913600000.0,1620000000000.0,1620086400000.0,1620172800000.0,1620172800000.0],\"y\":[221,311,385,588,821,1049,1577,1835,2263,2706,3296,3916,5061,6387,7985,8514,10590,12839,14955,17750,20603,23073,26062,28710,33190,37860,42681,46638,50418,54030,57521,62013,66414,70065,73880,75528,77635,80572,83049,85388,88274,91246,93187,94067,95262,96877,98273,100269,102253,103616,104291,105418,106607,106962,107771,108257,108237,107709,107699,106848,106527,105847,106103,105813,105205,104657,101551,100943,100704,100179,99980,98467,91528,89624,87961,84842,83324,82488,81266,78457,76440,72070,70187,68351,66553,65129,62752,60960,59322,57752,56594,55300,52942,50966,47986,46175,43691,42097,41367,39893,39297,38429,36976,35877,35262,34730,32872,31710,30637,28997,27485,26274,25909,24569,23925,23101,21543,21212,20972,20637,19573,18655,18303,17638,16836,16681,16496,15563,15255,15060,14884,14621,14642,14709,14242,13595,13459,13428,13303,13179,13157,12919,12493,12473,12456,12368,12440,12404,12248,12322,12404,12301,12442,12565,12581,12609,12616,12230,12422,12457,12456,12474,12482,12646,12694,12924,12953,13263,13368,13561,13791,14081,14249,14406,14733,14867,15089,15360,16014,16678,17503,18438,19195,19714,20753,21932,23035,24156,25205,26078,26754,27817,28915,30099,31194,32078,32993,33789,34734,35708,36767,37503,38509,39187,39712,40532,41413,42457,43161,44098,45079,45489,46114,46780,47718,48593,49618,50323,50630,51263,52647,53997,55566,57429,58903,60134,62576,65952,70110,74829,79075,82764,87193,92445,99266,107312,116935,126237,134003,142739,155442,169302,186002,203182,222241,236684,255090,276457,299191,325786,351386,378129,396512,418142,443235,472348,499118,532536,558636,573334,590110,613358,635054,663926,688435,712490,717784,733810,743168,761671,777176,791746,805947,796849,798386,791697,795845,787893,789308,795771,788471,779945,761230,759982,757702,754169,755306,748819,737525,710515,696527,690323,684848,686031,675109,663313,645706,635343,627798,620166,622760,613582,605955,598816,593632,579886,580943,581760,575221,568728,564395,569896,574767,577062,576214,570458,569161,568712,571055,570389,572842,579932,575979,570040,564774,561380,558068,557717,553374,547059,535524,523553,516568,502053,498834,499278,491630,482417,477969,474617,467824,463352,453968,447589,437765,434722,430277,429118,427034,427024,419604,413967,410111,405019,402174,401413,402783,398098,393686,388864,384501,382448,384623,388895,387903,387948,389433,396143,404664,411966,422367,424333,430996,437421,446439,456470,465812,472862,472533,478883,487074,497350,509317,520061,531266,530357,536115,539008,547510,556539,565453,571672,563067,560654,561308,562958,566711,571815,573172,565930,562765,561053,563479,565295,564855,569035,570096,555705,547837,544330,536361,533085,533005,524417,519220,514660,510023,506738,505308,504611,493489,482715,475635,472196,465543,461448,461212,452812,448149,442771,438709,436270,430542,430906,423558,413889,407129,407129]},\"selected\":{\"id\":\"1060\",\"type\":\"Selection\"},\"selection_policy\":{\"id\":\"1061\",\"type\":\"UnionRenderers\"}},\"id\":\"1036\",\"type\":\"ColumnDataSource\"},{\"attributes\":{\"data_source\":{\"id\":\"1036\",\"type\":\"ColumnDataSource\"},\"glyph\":{\"id\":\"1037\",\"type\":\"Line\"},\"hover_glyph\":null,\"muted_glyph\":null,\"nonselection_glyph\":{\"id\":\"1038\",\"type\":\"Line\"},\"selection_glyph\":null,\"view\":{\"id\":\"1040\",\"type\":\"CDSView\"}},\"id\":\"1039\",\"type\":\"GlyphRenderer\"},{\"attributes\":{\"overlay\":{\"id\":\"1062\",\"type\":\"BoxAnnotation\"}},\"id\":\"1025\",\"type\":\"BoxZoomTool\"},{\"attributes\":{},\"id\":\"1046\",\"type\":\"DatetimeTickFormatter\"},{\"attributes\":{\"months\":[0,6]},\"id\":\"1058\",\"type\":\"MonthsTicker\"},{\"attributes\":{\"base\":24,\"mantissas\":[1,2,4,6,8,12],\"max_interval\":43200000.0,\"min_interval\":3600000.0,\"num_minor_ticks\":0},\"id\":\"1050\",\"type\":\"AdaptiveTicker\"},{\"attributes\":{\"mantissas\":[1,2,5],\"max_interval\":500.0,\"num_minor_ticks\":0},\"id\":\"1048\",\"type\":\"AdaptiveTicker\"}],\"root_ids\":[\"1002\"]},\"title\":\"Bokeh Application\",\"version\":\"1.4.0\"}};\n",
       "  var render_items = [{\"docid\":\"a726eebd-913c-40d0-95ed-8d888091735d\",\"roots\":{\"1002\":\"6c92d9b2-bf4c-4b47-9433-889b574eb09b\"}}];\n",
       "  root.Bokeh.embed.embed_items_notebook(docs_json, render_items);\n",
       "\n",
       "  }\n",
       "  if (root.Bokeh !== undefined) {\n",
       "    embed_document(root);\n",
       "  } else {\n",
       "    var attempts = 0;\n",
       "    var timer = setInterval(function(root) {\n",
       "      if (root.Bokeh !== undefined) {\n",
       "        clearInterval(timer);\n",
       "        embed_document(root);\n",
       "      } else {\n",
       "        attempts++;\n",
       "        if (attempts > 100) {\n",
       "          clearInterval(timer);\n",
       "          console.log(\"Bokeh: ERROR: Unable to run BokehJS code because BokehJS library is missing\");\n",
       "        }\n",
       "      }\n",
       "    }, 10, root)\n",
       "  }\n",
       "})(window);"
      ],
      "application/vnd.bokehjs_exec.v0+json": ""
     },
     "metadata": {
      "application/vnd.bokehjs_exec.v0+json": {
       "id": "1002"
      }
     },
     "output_type": "display_data"
    }
   ],
   "source": [
    "fig = figure(title='Total current infected',\n",
    "             x_axis_label='date',\n",
    "             y_axis_label='infected',\n",
    "             width=800,\n",
    "             height=400,\n",
    "             x_axis_type='datetime')\n",
    "\n",
    "fig.line(df['only_data'],\n",
    "         df['totale_positivi'],\n",
    "         line_alpha=0.8, \n",
    "         line_width=2)\n",
    "\n",
    "fig.add_tools(HoverTool(\n",
    "    tooltips=[('date', '@x{%F}'), ('total current infected', '@y')],\n",
    "    formatters=dict(x='datetime')\n",
    "))\n",
    "fig.x_range.start = df['only_data'].min()\n",
    "\n",
    "show(fig)"
   ]
  },
  {
   "cell_type": "code",
   "execution_count": 10,
   "metadata": {},
   "outputs": [
    {
     "data": {
      "text/html": [
       "\n",
       "\n",
       "\n",
       "\n",
       "\n",
       "\n",
       "  <div class=\"bk-root\" id=\"c130a983-3184-4ca6-b844-6c81c47b10e4\" data-root-id=\"1183\"></div>\n"
      ]
     },
     "metadata": {},
     "output_type": "display_data"
    },
    {
     "data": {
      "application/javascript": [
       "(function(root) {\n",
       "  function embed_document(root) {\n",
       "    \n",
       "  var docs_json = {\"c3b9acf1-11c1-4e3c-93ca-d62c1b89244d\":{\"roots\":{\"references\":[{\"attributes\":{\"below\":[{\"id\":\"1194\",\"type\":\"DatetimeAxis\"}],\"center\":[{\"id\":\"1198\",\"type\":\"Grid\"},{\"id\":\"1203\",\"type\":\"Grid\"}],\"left\":[{\"id\":\"1199\",\"type\":\"LinearAxis\"}],\"plot_height\":400,\"plot_width\":800,\"renderers\":[{\"id\":\"1220\",\"type\":\"GlyphRenderer\"}],\"title\":{\"id\":\"1184\",\"type\":\"Title\"},\"toolbar\":{\"id\":\"1210\",\"type\":\"Toolbar\"},\"x_range\":{\"id\":\"1186\",\"type\":\"DataRange1d\"},\"x_scale\":{\"id\":\"1190\",\"type\":\"LinearScale\"},\"y_range\":{\"id\":\"1188\",\"type\":\"DataRange1d\"},\"y_scale\":{\"id\":\"1192\",\"type\":\"LinearScale\"}},\"id\":\"1183\",\"subtype\":\"Figure\",\"type\":\"Plot\"},{\"attributes\":{\"text\":\"New daily infected trend\"},\"id\":\"1184\",\"type\":\"Title\"},{\"attributes\":{},\"id\":\"1208\",\"type\":\"ResetTool\"},{\"attributes\":{},\"id\":\"1250\",\"type\":\"DatetimeTickFormatter\"},{\"attributes\":{\"days\":[1,4,7,10,13,16,19,22,25,28]},\"id\":\"1256\",\"type\":\"DaysTicker\"},{\"attributes\":{\"base\":24,\"mantissas\":[1,2,4,6,8,12],\"max_interval\":43200000.0,\"min_interval\":3600000.0,\"num_minor_ticks\":0},\"id\":\"1254\",\"type\":\"AdaptiveTicker\"},{\"attributes\":{\"dimension\":1,\"ticker\":{\"id\":\"1200\",\"type\":\"BasicTicker\"}},\"id\":\"1203\",\"type\":\"Grid\"},{\"attributes\":{\"source\":{\"id\":\"1217\",\"type\":\"ColumnDataSource\"}},\"id\":\"1221\",\"type\":\"CDSView\"},{\"attributes\":{},\"id\":\"1192\",\"type\":\"LinearScale\"},{\"attributes\":{\"active_drag\":null,\"active_inspect\":\"auto\",\"active_multi\":null,\"active_scroll\":\"auto\",\"active_tap\":\"auto\",\"tools\":[{\"id\":\"1204\",\"type\":\"PanTool\"},{\"id\":\"1205\",\"type\":\"WheelZoomTool\"},{\"id\":\"1206\",\"type\":\"BoxZoomTool\"},{\"id\":\"1207\",\"type\":\"SaveTool\"},{\"id\":\"1208\",\"type\":\"ResetTool\"},{\"id\":\"1209\",\"type\":\"HelpTool\"},{\"id\":\"1222\",\"type\":\"HoverTool\"},{\"id\":\"1224\",\"type\":\"PanTool\"}]},\"id\":\"1210\",\"type\":\"Toolbar\"},{\"attributes\":{\"axis_label\":\"new infected\",\"formatter\":{\"id\":\"1248\",\"type\":\"BasicTickFormatter\"},\"ticker\":{\"id\":\"1200\",\"type\":\"BasicTicker\"}},\"id\":\"1199\",\"type\":\"LinearAxis\"},{\"attributes\":{},\"id\":\"1264\",\"type\":\"Selection\"},{\"attributes\":{\"callback\":null,\"formatters\":{\"x\":\"datetime\"},\"tooltips\":[[\"date\",\"@x{%F}\"],[\"new infected\",\"@y\"]]},\"id\":\"1222\",\"type\":\"HoverTool\"},{\"attributes\":{\"months\":[0,2,4,6,8,10]},\"id\":\"1260\",\"type\":\"MonthsTicker\"},{\"attributes\":{},\"id\":\"1265\",\"type\":\"UnionRenderers\"},{\"attributes\":{\"data_source\":{\"id\":\"1217\",\"type\":\"ColumnDataSource\"},\"glyph\":{\"id\":\"1218\",\"type\":\"Line\"},\"hover_glyph\":null,\"muted_glyph\":null,\"nonselection_glyph\":{\"id\":\"1219\",\"type\":\"Line\"},\"selection_glyph\":null,\"view\":{\"id\":\"1221\",\"type\":\"CDSView\"}},\"id\":\"1220\",\"type\":\"GlyphRenderer\"},{\"attributes\":{\"callback\":null,\"start\":1582502400000.0},\"id\":\"1186\",\"type\":\"DataRange1d\"},{\"attributes\":{\"line_alpha\":0.1,\"line_color\":\"#1f77b4\",\"line_width\":2,\"x\":{\"field\":\"x\"},\"y\":{\"field\":\"y\"}},\"id\":\"1219\",\"type\":\"Line\"},{\"attributes\":{\"days\":[1,8,15,22]},\"id\":\"1257\",\"type\":\"DaysTicker\"},{\"attributes\":{\"callback\":null},\"id\":\"1188\",\"type\":\"DataRange1d\"},{\"attributes\":{},\"id\":\"1200\",\"type\":\"BasicTicker\"},{\"attributes\":{\"bottom_units\":\"screen\",\"fill_alpha\":{\"value\":0.5},\"fill_color\":{\"value\":\"lightgrey\"},\"left_units\":\"screen\",\"level\":\"overlay\",\"line_alpha\":{\"value\":1.0},\"line_color\":{\"value\":\"black\"},\"line_dash\":[4,4],\"line_width\":{\"value\":2},\"render_mode\":\"css\",\"right_units\":\"screen\",\"top_units\":\"screen\"},\"id\":\"1266\",\"type\":\"BoxAnnotation\"},{\"attributes\":{},\"id\":\"1207\",\"type\":\"SaveTool\"},{\"attributes\":{},\"id\":\"1248\",\"type\":\"BasicTickFormatter\"},{\"attributes\":{\"days\":[1,2,3,4,5,6,7,8,9,10,11,12,13,14,15,16,17,18,19,20,21,22,23,24,25,26,27,28,29,30,31]},\"id\":\"1255\",\"type\":\"DaysTicker\"},{\"attributes\":{\"axis_label\":\"date\",\"formatter\":{\"id\":\"1250\",\"type\":\"DatetimeTickFormatter\"},\"ticker\":{\"id\":\"1195\",\"type\":\"DatetimeTicker\"}},\"id\":\"1194\",\"type\":\"DatetimeAxis\"},{\"attributes\":{\"base\":60,\"mantissas\":[1,2,5,10,15,20,30],\"max_interval\":1800000.0,\"min_interval\":1000.0,\"num_minor_ticks\":0},\"id\":\"1253\",\"type\":\"AdaptiveTicker\"},{\"attributes\":{},\"id\":\"1209\",\"type\":\"HelpTool\"},{\"attributes\":{\"mantissas\":[1,2,5],\"max_interval\":500.0,\"num_minor_ticks\":0},\"id\":\"1252\",\"type\":\"AdaptiveTicker\"},{\"attributes\":{\"dimensions\":\"width\"},\"id\":\"1224\",\"type\":\"PanTool\"},{\"attributes\":{},\"id\":\"1204\",\"type\":\"PanTool\"},{\"attributes\":{\"days\":[1,15]},\"id\":\"1258\",\"type\":\"DaysTicker\"},{\"attributes\":{\"num_minor_ticks\":5,\"tickers\":[{\"id\":\"1252\",\"type\":\"AdaptiveTicker\"},{\"id\":\"1253\",\"type\":\"AdaptiveTicker\"},{\"id\":\"1254\",\"type\":\"AdaptiveTicker\"},{\"id\":\"1255\",\"type\":\"DaysTicker\"},{\"id\":\"1256\",\"type\":\"DaysTicker\"},{\"id\":\"1257\",\"type\":\"DaysTicker\"},{\"id\":\"1258\",\"type\":\"DaysTicker\"},{\"id\":\"1259\",\"type\":\"MonthsTicker\"},{\"id\":\"1260\",\"type\":\"MonthsTicker\"},{\"id\":\"1261\",\"type\":\"MonthsTicker\"},{\"id\":\"1262\",\"type\":\"MonthsTicker\"},{\"id\":\"1263\",\"type\":\"YearsTicker\"}]},\"id\":\"1195\",\"type\":\"DatetimeTicker\"},{\"attributes\":{\"months\":[0,6]},\"id\":\"1262\",\"type\":\"MonthsTicker\"},{\"attributes\":{\"ticker\":{\"id\":\"1195\",\"type\":\"DatetimeTicker\"}},\"id\":\"1198\",\"type\":\"Grid\"},{\"attributes\":{\"overlay\":{\"id\":\"1266\",\"type\":\"BoxAnnotation\"}},\"id\":\"1206\",\"type\":\"BoxZoomTool\"},{\"attributes\":{\"line_alpha\":0.8,\"line_color\":\"#1f77b4\",\"line_width\":2,\"x\":{\"field\":\"x\"},\"y\":{\"field\":\"y\"}},\"id\":\"1218\",\"type\":\"Line\"},{\"attributes\":{\"months\":[0,4,8]},\"id\":\"1261\",\"type\":\"MonthsTicker\"},{\"attributes\":{},\"id\":\"1205\",\"type\":\"WheelZoomTool\"},{\"attributes\":{},\"id\":\"1263\",\"type\":\"YearsTicker\"},{\"attributes\":{\"callback\":null,\"data\":{\"x\":[1582502400000.0,1582588800000.0,1582675200000.0,1582761600000.0,1582848000000.0,1582934400000.0,1583020800000.0,1583107200000.0,1583193600000.0,1583280000000.0,1583366400000.0,1583452800000.0,1583539200000.0,1583625600000.0,1583712000000.0,1583798400000.0,1583884800000.0,1583971200000.0,1584057600000.0,1584144000000.0,1584230400000.0,1584316800000.0,1584403200000.0,1584489600000.0,1584576000000.0,1584662400000.0,1584748800000.0,1584835200000.0,1584921600000.0,1585008000000.0,1585094400000.0,1585180800000.0,1585267200000.0,1585353600000.0,1585440000000.0,1585526400000.0,1585612800000.0,1585699200000.0,1585785600000.0,1585872000000.0,1585958400000.0,1586044800000.0,1586131200000.0,1586217600000.0,1586304000000.0,1586390400000.0,1586476800000.0,1586563200000.0,1586649600000.0,1586736000000.0,1586822400000.0,1586908800000.0,1586995200000.0,1587081600000.0,1587168000000.0,1587254400000.0,1587340800000.0,1587427200000.0,1587513600000.0,1587600000000.0,1587686400000.0,1587772800000.0,1587859200000.0,1587945600000.0,1588032000000.0,1588118400000.0,1588204800000.0,1588291200000.0,1588377600000.0,1588464000000.0,1588550400000.0,1588636800000.0,1588723200000.0,1588809600000.0,1588896000000.0,1588982400000.0,1589068800000.0,1589155200000.0,1589241600000.0,1589328000000.0,1589414400000.0,1589500800000.0,1589587200000.0,1589673600000.0,1589760000000.0,1589846400000.0,1589932800000.0,1590019200000.0,1590105600000.0,1590192000000.0,1590278400000.0,1590364800000.0,1590451200000.0,1590537600000.0,1590624000000.0,1590710400000.0,1590796800000.0,1590883200000.0,1590969600000.0,1591056000000.0,1591142400000.0,1591228800000.0,1591315200000.0,1591401600000.0,1591488000000.0,1591574400000.0,1591660800000.0,1591747200000.0,1591833600000.0,1591920000000.0,1592006400000.0,1592092800000.0,1592179200000.0,1592265600000.0,1592352000000.0,1592438400000.0,1592524800000.0,1592611200000.0,1592697600000.0,1592784000000.0,1592870400000.0,1592956800000.0,1593043200000.0,1593129600000.0,1593216000000.0,1593302400000.0,1593388800000.0,1593475200000.0,1593561600000.0,1593648000000.0,1593734400000.0,1593820800000.0,1593907200000.0,1593993600000.0,1594080000000.0,1594166400000.0,1594252800000.0,1594339200000.0,1594425600000.0,1594512000000.0,1594598400000.0,1594684800000.0,1594771200000.0,1594857600000.0,1594944000000.0,1595030400000.0,1595116800000.0,1595203200000.0,1595289600000.0,1595376000000.0,1595462400000.0,1595548800000.0,1595635200000.0,1595721600000.0,1595808000000.0,1595894400000.0,1595980800000.0,1596067200000.0,1596153600000.0,1596240000000.0,1596326400000.0,1596412800000.0,1596499200000.0,1596585600000.0,1596672000000.0,1596758400000.0,1596844800000.0,1596931200000.0,1597017600000.0,1597104000000.0,1597190400000.0,1597276800000.0,1597363200000.0,1597449600000.0,1597536000000.0,1597622400000.0,1597708800000.0,1597795200000.0,1597881600000.0,1597968000000.0,1598054400000.0,1598140800000.0,1598227200000.0,1598313600000.0,1598400000000.0,1598486400000.0,1598572800000.0,1598659200000.0,1598745600000.0,1598832000000.0,1598918400000.0,1599004800000.0,1599091200000.0,1599177600000.0,1599264000000.0,1599350400000.0,1599436800000.0,1599523200000.0,1599609600000.0,1599696000000.0,1599782400000.0,1599868800000.0,1599955200000.0,1600041600000.0,1600128000000.0,1600214400000.0,1600300800000.0,1600387200000.0,1600473600000.0,1600560000000.0,1600646400000.0,1600732800000.0,1600819200000.0,1600905600000.0,1600992000000.0,1601078400000.0,1601164800000.0,1601251200000.0,1601337600000.0,1601424000000.0,1601510400000.0,1601596800000.0,1601683200000.0,1601769600000.0,1601856000000.0,1601942400000.0,1602028800000.0,1602115200000.0,1602201600000.0,1602288000000.0,1602374400000.0,1602460800000.0,1602547200000.0,1602633600000.0,1602720000000.0,1602806400000.0,1602892800000.0,1602979200000.0,1603065600000.0,1603152000000.0,1603238400000.0,1603324800000.0,1603411200000.0,1603497600000.0,1603584000000.0,1603670400000.0,1603756800000.0,1603843200000.0,1603929600000.0,1604016000000.0,1604102400000.0,1604188800000.0,1604275200000.0,1604361600000.0,1604448000000.0,1604534400000.0,1604620800000.0,1604707200000.0,1604793600000.0,1604880000000.0,1604966400000.0,1605052800000.0,1605139200000.0,1605225600000.0,1605312000000.0,1605398400000.0,1605484800000.0,1605571200000.0,1605657600000.0,1605744000000.0,1605830400000.0,1605916800000.0,1606003200000.0,1606089600000.0,1606176000000.0,1606262400000.0,1606348800000.0,1606435200000.0,1606521600000.0,1606608000000.0,1606694400000.0,1606780800000.0,1606867200000.0,1606953600000.0,1607040000000.0,1607126400000.0,1607212800000.0,1607299200000.0,1607385600000.0,1607472000000.0,1607558400000.0,1607644800000.0,1607731200000.0,1607817600000.0,1607904000000.0,1607990400000.0,1608076800000.0,1608163200000.0,1608249600000.0,1608336000000.0,1608422400000.0,1608508800000.0,1608595200000.0,1608681600000.0,1608768000000.0,1608854400000.0,1608940800000.0,1609027200000.0,1609113600000.0,1609200000000.0,1609286400000.0,1609372800000.0,1609459200000.0,1609545600000.0,1609632000000.0,1609718400000.0,1609804800000.0,1609891200000.0,1609977600000.0,1610064000000.0,1610150400000.0,1610236800000.0,1610323200000.0,1610409600000.0,1610496000000.0,1610582400000.0,1610668800000.0,1610755200000.0,1610841600000.0,1610928000000.0,1611014400000.0,1611100800000.0,1611187200000.0,1611273600000.0,1611360000000.0,1611446400000.0,1611532800000.0,1611619200000.0,1611705600000.0,1611792000000.0,1611878400000.0,1611964800000.0,1612051200000.0,1612137600000.0,1612224000000.0,1612310400000.0,1612396800000.0,1612483200000.0,1612569600000.0,1612656000000.0,1612742400000.0,1612828800000.0,1612915200000.0,1613001600000.0,1613088000000.0,1613174400000.0,1613260800000.0,1613347200000.0,1613433600000.0,1613520000000.0,1613606400000.0,1613692800000.0,1613779200000.0,1613865600000.0,1613952000000.0,1614038400000.0,1614124800000.0,1614211200000.0,1614297600000.0,1614384000000.0,1614470400000.0,1614556800000.0,1614643200000.0,1614729600000.0,1614816000000.0,1614902400000.0,1614988800000.0,1615075200000.0,1615161600000.0,1615248000000.0,1615334400000.0,1615420800000.0,1615507200000.0,1615593600000.0,1615680000000.0,1615766400000.0,1615852800000.0,1615939200000.0,1616025600000.0,1616112000000.0,1616198400000.0,1616284800000.0,1616371200000.0,1616457600000.0,1616544000000.0,1616630400000.0,1616716800000.0,1616803200000.0,1616889600000.0,1616976000000.0,1617062400000.0,1617148800000.0,1617235200000.0,1617321600000.0,1617408000000.0,1617494400000.0,1617580800000.0,1617667200000.0,1617753600000.0,1617840000000.0,1617926400000.0,1618012800000.0,1618099200000.0,1618185600000.0,1618272000000.0,1618358400000.0,1618444800000.0,1618531200000.0,1618617600000.0,1618704000000.0,1618790400000.0,1618876800000.0,1618963200000.0,1619049600000.0,1619136000000.0,1619222400000.0,1619308800000.0,1619395200000.0,1619481600000.0,1619568000000.0,1619654400000.0,1619740800000.0,1619827200000.0,1619913600000.0,1620000000000.0,1620086400000.0,1620172800000.0,1620172800000.0],\"y\":[221,93,78,250,238,240,566,342,466,587,769,778,1247,1492,1797,977,2313,2651,2547,3497,3590,3233,3526,4207,5322,5986,6557,5560,4789,5249,5210,6153,5959,5974,5217,4050,4053,4782,4668,4585,4805,4316,3599,3039,3836,4204,3951,4694,4092,3153,2972,2667,3786,3493,3491,3047,2256,2729,3370,2646,3021,2357,2324,1739,2091,2086,1872,1965,1900,1389,1221,1075,1444,1401,1327,1083,802,744,1402,888,992,789,875,675,451,813,665,642,652,669,531,300,397,584,593,516,416,355,178,318,321,177,518,270,197,280,283,202,379,163,346,338,303,210,329,333,251,262,224,218,122,190,296,259,175,174,126,142,187,201,223,235,192,208,138,193,229,276,188,234,169,114,163,230,233,249,219,190,129,282,306,252,275,255,170,212,289,386,379,295,239,159,190,384,402,552,347,463,259,412,481,523,574,629,479,320,403,642,845,947,1071,1210,953,878,1367,1411,1462,1444,1365,996,978,1326,1397,1733,1694,1297,1108,1370,1434,1597,1616,1501,1458,1008,1229,1452,1585,1907,1638,1587,1350,1392,1640,1786,1912,1869,1766,1494,1648,1851,2548,2499,2844,2578,2257,2677,3678,4458,5372,5724,5456,4619,5901,7332,8804,10010,10925,11705,9338,10874,15199,16079,19143,19644,21273,17012,21994,24991,26831,31084,31758,29907,22253,28244,30550,34505,37809,39811,32616,25271,35098,32961,37978,40902,37255,33979,27354,32191,34282,36176,37242,34767,28337,22930,23232,25853,29003,28352,26323,20648,16377,19350,20709,23225,24099,21052,18887,13720,14842,12756,16999,18727,19903,17938,12030,14844,17572,18236,17992,16308,15104,10872,13318,14522,18040,19037,10431,8913,8585,11224,16202,23477,22211,11831,14245,10800,15378,20331,18020,17533,19978,18627,12532,14242,15774,17246,16146,16310,12545,8825,10497,13571,14078,13633,13331,11629,8562,10593,15204,14372,13574,12715,11252,7925,9660,13189,13659,14218,13442,11641,7970,10630,12956,15146,13908,13532,11068,7351,10386,12074,13762,15479,14931,13452,9630,13314,16424,19886,20499,18916,17455,13114,17083,20884,22865,24036,23641,20765,13902,19749,22409,25673,26824,26062,21315,15267,20396,23059,24935,25735,23832,20159,13846,18765,21267,23798,23987,23776,19611,12916,16013,22516,23649,21932,21261,18025,10680,7767,13708,17221,18938,17567,15746,9789,13447,16168,16974,15943,15370,12694,8864,12074,13844,16050,14761,13817,13158,8444,10404,13385,14320,13446,12965,9148,5948,9116,10585,10585]},\"selected\":{\"id\":\"1264\",\"type\":\"Selection\"},\"selection_policy\":{\"id\":\"1265\",\"type\":\"UnionRenderers\"}},\"id\":\"1217\",\"type\":\"ColumnDataSource\"},{\"attributes\":{\"months\":[0,1,2,3,4,5,6,7,8,9,10,11]},\"id\":\"1259\",\"type\":\"MonthsTicker\"},{\"attributes\":{},\"id\":\"1190\",\"type\":\"LinearScale\"}],\"root_ids\":[\"1183\"]},\"title\":\"Bokeh Application\",\"version\":\"1.4.0\"}};\n",
       "  var render_items = [{\"docid\":\"c3b9acf1-11c1-4e3c-93ca-d62c1b89244d\",\"roots\":{\"1183\":\"c130a983-3184-4ca6-b844-6c81c47b10e4\"}}];\n",
       "  root.Bokeh.embed.embed_items_notebook(docs_json, render_items);\n",
       "\n",
       "  }\n",
       "  if (root.Bokeh !== undefined) {\n",
       "    embed_document(root);\n",
       "  } else {\n",
       "    var attempts = 0;\n",
       "    var timer = setInterval(function(root) {\n",
       "      if (root.Bokeh !== undefined) {\n",
       "        clearInterval(timer);\n",
       "        embed_document(root);\n",
       "      } else {\n",
       "        attempts++;\n",
       "        if (attempts > 100) {\n",
       "          clearInterval(timer);\n",
       "          console.log(\"Bokeh: ERROR: Unable to run BokehJS code because BokehJS library is missing\");\n",
       "        }\n",
       "      }\n",
       "    }, 10, root)\n",
       "  }\n",
       "})(window);"
      ],
      "application/vnd.bokehjs_exec.v0+json": ""
     },
     "metadata": {
      "application/vnd.bokehjs_exec.v0+json": {
       "id": "1183"
      }
     },
     "output_type": "display_data"
    }
   ],
   "source": [
    "fig = figure(title='New daily infected trend',\n",
    "             x_axis_label='date',\n",
    "             y_axis_label='new infected',\n",
    "             width=800,\n",
    "             height=400,\n",
    "             x_axis_type='datetime')\n",
    "\n",
    "fig.line(df['only_data'],\n",
    "         df['nuovi_positivi'],\n",
    "         line_alpha=0.8,\n",
    "         #legend_label='example value', \n",
    "         line_width=2)\n",
    "\n",
    "fig.add_tools(HoverTool(\n",
    "    tooltips=[('date', '@x{%F}'), ('new infected', '@y')],\n",
    "    formatters=dict(x='datetime')\n",
    "    )\n",
    ")\n",
    "fig.add_tools(PanTool(dimensions='width'))\n",
    "fig.toolbar.active_drag = None\n",
    "fig.x_range.start = df['only_data'].min()\n",
    "\n",
    "show(fig)"
   ]
  },
  {
   "cell_type": "code",
   "execution_count": 11,
   "metadata": {},
   "outputs": [],
   "source": [
    "max_date = df['only_data'].max()\n",
    "new_infected_today = df.query('only_data==@max_date')['nuovi_positivi'].iloc[0]"
   ]
  },
  {
   "cell_type": "code",
   "execution_count": 12,
   "metadata": {},
   "outputs": [
    {
     "name": "stdout",
     "output_type": "stream",
     "text": [
      "new infected in Italy for date 2021-05-05 are 10585\n"
     ]
    }
   ],
   "source": [
    "print(f'new infected in Italy for date {max_date} are {new_infected_today}') "
   ]
  },
  {
   "cell_type": "code",
   "execution_count": null,
   "metadata": {},
   "outputs": [],
   "source": []
  },
  {
   "cell_type": "code",
   "execution_count": 13,
   "metadata": {},
   "outputs": [],
   "source": [
    "columns_to_show = ['totale_casi', 'dimessi_guariti', 'deceduti']\n",
    "legend = {'totale_casi': 'total infected', 'dimessi_guariti': 'healed people', 'deceduti': 'dead people'}\n",
    "colors = []\n",
    "n = named.__dict__\n",
    "all_colors = n['__all__']\n",
    "while len(colors) < (len(columns_to_show)):\n",
    "    if choice(all_colors) not in colors:\n",
    "        colors.append(choice(all_colors))"
   ]
  },
  {
   "cell_type": "code",
   "execution_count": 14,
   "metadata": {},
   "outputs": [
    {
     "data": {
      "text/html": [
       "\n",
       "\n",
       "\n",
       "\n",
       "\n",
       "\n",
       "  <div class=\"bk-root\" id=\"c8510cd0-47e9-4048-b4ac-66c4ad43aa79\" data-root-id=\"1387\"></div>\n"
      ]
     },
     "metadata": {},
     "output_type": "display_data"
    },
    {
     "data": {
      "application/javascript": [
       "(function(root) {\n",
       "  function embed_document(root) {\n",
       "    \n",
       "  var docs_json = {\"233f8d84-73d1-4925-adbd-4bc73688aba1\":{\"roots\":{\"references\":[{\"attributes\":{\"below\":[{\"id\":\"1398\",\"type\":\"DatetimeAxis\"}],\"center\":[{\"id\":\"1402\",\"type\":\"Grid\"},{\"id\":\"1407\",\"type\":\"Grid\"},{\"id\":\"1444\",\"type\":\"Legend\"}],\"left\":[{\"id\":\"1403\",\"type\":\"LinearAxis\"}],\"plot_height\":400,\"plot_width\":800,\"renderers\":[{\"id\":\"1424\",\"type\":\"GlyphRenderer\"},{\"id\":\"1449\",\"type\":\"GlyphRenderer\"},{\"id\":\"1475\",\"type\":\"GlyphRenderer\"}],\"title\":{\"id\":\"1388\",\"type\":\"Title\"},\"toolbar\":{\"id\":\"1414\",\"type\":\"Toolbar\"},\"x_range\":{\"id\":\"1390\",\"type\":\"DataRange1d\"},\"x_scale\":{\"id\":\"1394\",\"type\":\"LinearScale\"},\"y_range\":{\"id\":\"1392\",\"type\":\"DataRange1d\"},\"y_scale\":{\"id\":\"1396\",\"type\":\"LinearScale\"}},\"id\":\"1387\",\"subtype\":\"Figure\",\"type\":\"Plot\"},{\"attributes\":{\"callback\":null,\"start\":1582502400000.0},\"id\":\"1390\",\"type\":\"DataRange1d\"},{\"attributes\":{},\"id\":\"1429\",\"type\":\"DatetimeTickFormatter\"},{\"attributes\":{\"items\":[{\"id\":\"1445\",\"type\":\"LegendItem\"},{\"id\":\"1471\",\"type\":\"LegendItem\"},{\"id\":\"1499\",\"type\":\"LegendItem\"}],\"location\":\"top_left\"},\"id\":\"1444\",\"type\":\"Legend\"},{\"attributes\":{},\"id\":\"1409\",\"type\":\"WheelZoomTool\"},{\"attributes\":{},\"id\":\"1411\",\"type\":\"SaveTool\"},{\"attributes\":{\"callback\":null,\"data\":{\"x\":[1582502400000.0,1582588800000.0,1582675200000.0,1582761600000.0,1582848000000.0,1582934400000.0,1583020800000.0,1583107200000.0,1583193600000.0,1583280000000.0,1583366400000.0,1583452800000.0,1583539200000.0,1583625600000.0,1583712000000.0,1583798400000.0,1583884800000.0,1583971200000.0,1584057600000.0,1584144000000.0,1584230400000.0,1584316800000.0,1584403200000.0,1584489600000.0,1584576000000.0,1584662400000.0,1584748800000.0,1584835200000.0,1584921600000.0,1585008000000.0,1585094400000.0,1585180800000.0,1585267200000.0,1585353600000.0,1585440000000.0,1585526400000.0,1585612800000.0,1585699200000.0,1585785600000.0,1585872000000.0,1585958400000.0,1586044800000.0,1586131200000.0,1586217600000.0,1586304000000.0,1586390400000.0,1586476800000.0,1586563200000.0,1586649600000.0,1586736000000.0,1586822400000.0,1586908800000.0,1586995200000.0,1587081600000.0,1587168000000.0,1587254400000.0,1587340800000.0,1587427200000.0,1587513600000.0,1587600000000.0,1587686400000.0,1587772800000.0,1587859200000.0,1587945600000.0,1588032000000.0,1588118400000.0,1588204800000.0,1588291200000.0,1588377600000.0,1588464000000.0,1588550400000.0,1588636800000.0,1588723200000.0,1588809600000.0,1588896000000.0,1588982400000.0,1589068800000.0,1589155200000.0,1589241600000.0,1589328000000.0,1589414400000.0,1589500800000.0,1589587200000.0,1589673600000.0,1589760000000.0,1589846400000.0,1589932800000.0,1590019200000.0,1590105600000.0,1590192000000.0,1590278400000.0,1590364800000.0,1590451200000.0,1590537600000.0,1590624000000.0,1590710400000.0,1590796800000.0,1590883200000.0,1590969600000.0,1591056000000.0,1591142400000.0,1591228800000.0,1591315200000.0,1591401600000.0,1591488000000.0,1591574400000.0,1591660800000.0,1591747200000.0,1591833600000.0,1591920000000.0,1592006400000.0,1592092800000.0,1592179200000.0,1592265600000.0,1592352000000.0,1592438400000.0,1592524800000.0,1592611200000.0,1592697600000.0,1592784000000.0,1592870400000.0,1592956800000.0,1593043200000.0,1593129600000.0,1593216000000.0,1593302400000.0,1593388800000.0,1593475200000.0,1593561600000.0,1593648000000.0,1593734400000.0,1593820800000.0,1593907200000.0,1593993600000.0,1594080000000.0,1594166400000.0,1594252800000.0,1594339200000.0,1594425600000.0,1594512000000.0,1594598400000.0,1594684800000.0,1594771200000.0,1594857600000.0,1594944000000.0,1595030400000.0,1595116800000.0,1595203200000.0,1595289600000.0,1595376000000.0,1595462400000.0,1595548800000.0,1595635200000.0,1595721600000.0,1595808000000.0,1595894400000.0,1595980800000.0,1596067200000.0,1596153600000.0,1596240000000.0,1596326400000.0,1596412800000.0,1596499200000.0,1596585600000.0,1596672000000.0,1596758400000.0,1596844800000.0,1596931200000.0,1597017600000.0,1597104000000.0,1597190400000.0,1597276800000.0,1597363200000.0,1597449600000.0,1597536000000.0,1597622400000.0,1597708800000.0,1597795200000.0,1597881600000.0,1597968000000.0,1598054400000.0,1598140800000.0,1598227200000.0,1598313600000.0,1598400000000.0,1598486400000.0,1598572800000.0,1598659200000.0,1598745600000.0,1598832000000.0,1598918400000.0,1599004800000.0,1599091200000.0,1599177600000.0,1599264000000.0,1599350400000.0,1599436800000.0,1599523200000.0,1599609600000.0,1599696000000.0,1599782400000.0,1599868800000.0,1599955200000.0,1600041600000.0,1600128000000.0,1600214400000.0,1600300800000.0,1600387200000.0,1600473600000.0,1600560000000.0,1600646400000.0,1600732800000.0,1600819200000.0,1600905600000.0,1600992000000.0,1601078400000.0,1601164800000.0,1601251200000.0,1601337600000.0,1601424000000.0,1601510400000.0,1601596800000.0,1601683200000.0,1601769600000.0,1601856000000.0,1601942400000.0,1602028800000.0,1602115200000.0,1602201600000.0,1602288000000.0,1602374400000.0,1602460800000.0,1602547200000.0,1602633600000.0,1602720000000.0,1602806400000.0,1602892800000.0,1602979200000.0,1603065600000.0,1603152000000.0,1603238400000.0,1603324800000.0,1603411200000.0,1603497600000.0,1603584000000.0,1603670400000.0,1603756800000.0,1603843200000.0,1603929600000.0,1604016000000.0,1604102400000.0,1604188800000.0,1604275200000.0,1604361600000.0,1604448000000.0,1604534400000.0,1604620800000.0,1604707200000.0,1604793600000.0,1604880000000.0,1604966400000.0,1605052800000.0,1605139200000.0,1605225600000.0,1605312000000.0,1605398400000.0,1605484800000.0,1605571200000.0,1605657600000.0,1605744000000.0,1605830400000.0,1605916800000.0,1606003200000.0,1606089600000.0,1606176000000.0,1606262400000.0,1606348800000.0,1606435200000.0,1606521600000.0,1606608000000.0,1606694400000.0,1606780800000.0,1606867200000.0,1606953600000.0,1607040000000.0,1607126400000.0,1607212800000.0,1607299200000.0,1607385600000.0,1607472000000.0,1607558400000.0,1607644800000.0,1607731200000.0,1607817600000.0,1607904000000.0,1607990400000.0,1608076800000.0,1608163200000.0,1608249600000.0,1608336000000.0,1608422400000.0,1608508800000.0,1608595200000.0,1608681600000.0,1608768000000.0,1608854400000.0,1608940800000.0,1609027200000.0,1609113600000.0,1609200000000.0,1609286400000.0,1609372800000.0,1609459200000.0,1609545600000.0,1609632000000.0,1609718400000.0,1609804800000.0,1609891200000.0,1609977600000.0,1610064000000.0,1610150400000.0,1610236800000.0,1610323200000.0,1610409600000.0,1610496000000.0,1610582400000.0,1610668800000.0,1610755200000.0,1610841600000.0,1610928000000.0,1611014400000.0,1611100800000.0,1611187200000.0,1611273600000.0,1611360000000.0,1611446400000.0,1611532800000.0,1611619200000.0,1611705600000.0,1611792000000.0,1611878400000.0,1611964800000.0,1612051200000.0,1612137600000.0,1612224000000.0,1612310400000.0,1612396800000.0,1612483200000.0,1612569600000.0,1612656000000.0,1612742400000.0,1612828800000.0,1612915200000.0,1613001600000.0,1613088000000.0,1613174400000.0,1613260800000.0,1613347200000.0,1613433600000.0,1613520000000.0,1613606400000.0,1613692800000.0,1613779200000.0,1613865600000.0,1613952000000.0,1614038400000.0,1614124800000.0,1614211200000.0,1614297600000.0,1614384000000.0,1614470400000.0,1614556800000.0,1614643200000.0,1614729600000.0,1614816000000.0,1614902400000.0,1614988800000.0,1615075200000.0,1615161600000.0,1615248000000.0,1615334400000.0,1615420800000.0,1615507200000.0,1615593600000.0,1615680000000.0,1615766400000.0,1615852800000.0,1615939200000.0,1616025600000.0,1616112000000.0,1616198400000.0,1616284800000.0,1616371200000.0,1616457600000.0,1616544000000.0,1616630400000.0,1616716800000.0,1616803200000.0,1616889600000.0,1616976000000.0,1617062400000.0,1617148800000.0,1617235200000.0,1617321600000.0,1617408000000.0,1617494400000.0,1617580800000.0,1617667200000.0,1617753600000.0,1617840000000.0,1617926400000.0,1618012800000.0,1618099200000.0,1618185600000.0,1618272000000.0,1618358400000.0,1618444800000.0,1618531200000.0,1618617600000.0,1618704000000.0,1618790400000.0,1618876800000.0,1618963200000.0,1619049600000.0,1619136000000.0,1619222400000.0,1619308800000.0,1619395200000.0,1619481600000.0,1619568000000.0,1619654400000.0,1619740800000.0,1619827200000.0,1619913600000.0,1620000000000.0,1620086400000.0,1620172800000.0,1620172800000.0],\"y\":[229,322,400,650,888,1128,1694,2036,2502,3089,3858,4636,5883,7375,9172,10149,12462,15113,17660,21157,24747,27980,31506,35713,41035,47021,53578,59138,63927,69176,74386,80539,86498,92472,97689,101739,105792,110574,115242,119827,124632,128948,132547,135586,139422,143626,147577,152271,156363,159516,162488,165155,168941,172434,175925,178972,181228,183957,187327,189973,192994,195351,197675,199414,201505,203591,205463,207428,209328,210717,211938,213013,214457,215858,217185,218268,219070,219814,221216,222104,223096,223885,224760,225435,225886,226699,227364,228006,228658,229327,229858,230158,230555,231139,231732,232248,232664,233019,233197,233515,233836,234013,234531,234801,234998,235278,235561,235763,236142,236305,236651,236989,237290,237500,237828,238159,238011,238275,238499,238720,238833,239410,239706,239961,240136,240310,240436,240578,240760,240961,241184,241419,241611,241819,241956,242149,242363,242639,242827,243061,243230,243344,243506,243736,243967,244216,244434,244624,244752,245032,245338,245590,245864,246118,246286,246488,246776,247158,247537,247832,248070,248229,248419,248803,249204,249756,250103,250566,250825,251237,251713,252235,252809,253438,253915,254235,254636,255278,256118,257065,258136,259345,260298,261174,262540,263949,265409,266853,268218,269214,270189,271515,272912,274644,276337,277634,278784,280153,281583,283180,284796,286297,287753,288761,289990,291442,293025,294932,296569,298156,299506,300897,302537,304323,306235,308104,309870,311364,313011,314861,317409,319908,322751,325329,327586,330263,333940,338398,343770,349494,354950,359569,365467,372799,381602,391611,402536,414241,423578,434449,449648,465726,484869,504509,525782,542789,564778,589766,616595,647674,679430,709335,731588,759829,790377,824879,862681,902490,935104,960373,995463,1028424,1066401,1107303,1144552,1178529,1205881,1238072,1272352,1308528,1345767,1380531,1408868,1431795,1455022,1480874,1509875,1538217,1564532,1585178,1601554,1620901,1641610,1664829,1688939,1709991,1728878,1742557,1757394,1770149,1787147,1805873,1825775,1843712,1855737,1870576,1888144,1906377,1921778,1938083,1953185,1964054,1977370,1991278,2009317,2028354,2038783,2047696,2056277,2067487,2083689,2107166,2129376,2141201,2155446,2166244,2181619,2201945,2220361,2237890,2257866,2276491,2289021,2303263,2319036,2336279,2352423,2368733,2381277,2390102,2400598,2414166,2428221,2441854,2455185,2466813,2475372,2485956,2501147,2515507,2529070,2541783,2553032,2560957,2570608,2583790,2597446,2611659,2625098,2636738,2644707,2655319,2668266,2683403,2697296,2710819,2721879,2729223,2739591,2751657,2765412,2780882,2795796,2809246,2818863,2832162,2848564,2868435,2888923,2907825,2925265,2938371,2955434,2976274,2999119,3023129,3046762,3067486,3081368,3101093,3123368,3149017,3175807,3201838,3223142,3238394,3258770,3281810,3306711,3332418,3356331,3376376,3400877,3419616,3440862,3464645,3488619,3512390,3531994,3544894,3560945,3583444,3607083,3629000,3650247,3668264,3678944,3686707,3700393,3717602,3736526,3754077,3769814,3779594,3793033,3809193,3826156,3842079,3857443,3870131,3878994,3891063,3904899,3920945,3935703,3949517,3962674,3971114,3981512,3994894,4009208,4022653,4035617,4044762,4050708,4059821,4070400,4070400]},\"selected\":{\"id\":\"1468\",\"type\":\"Selection\"},\"selection_policy\":{\"id\":\"1469\",\"type\":\"UnionRenderers\"}},\"id\":\"1421\",\"type\":\"ColumnDataSource\"},{\"attributes\":{\"data_source\":{\"id\":\"1446\",\"type\":\"ColumnDataSource\"},\"glyph\":{\"id\":\"1447\",\"type\":\"Line\"},\"hover_glyph\":null,\"muted_glyph\":null,\"nonselection_glyph\":{\"id\":\"1448\",\"type\":\"Line\"},\"selection_glyph\":null,\"view\":{\"id\":\"1450\",\"type\":\"CDSView\"}},\"id\":\"1449\",\"type\":\"GlyphRenderer\"},{\"attributes\":{\"label\":{\"value\":\"total infected\"},\"renderers\":[{\"id\":\"1424\",\"type\":\"GlyphRenderer\"}]},\"id\":\"1445\",\"type\":\"LegendItem\"},{\"attributes\":{\"source\":{\"id\":\"1472\",\"type\":\"ColumnDataSource\"}},\"id\":\"1476\",\"type\":\"CDSView\"},{\"attributes\":{\"source\":{\"id\":\"1421\",\"type\":\"ColumnDataSource\"}},\"id\":\"1425\",\"type\":\"CDSView\"},{\"attributes\":{\"label\":{\"value\":\"dead people\"},\"renderers\":[{\"id\":\"1475\",\"type\":\"GlyphRenderer\"}]},\"id\":\"1499\",\"type\":\"LegendItem\"},{\"attributes\":{\"dimensions\":\"width\"},\"id\":\"1502\",\"type\":\"PanTool\"},{\"attributes\":{\"line_color\":\"tomato\",\"line_width\":2,\"x\":{\"field\":\"x\"},\"y\":{\"field\":\"y\"}},\"id\":\"1447\",\"type\":\"Line\"},{\"attributes\":{\"line_alpha\":0.1,\"line_color\":\"#1f77b4\",\"line_width\":2,\"x\":{\"field\":\"x\"},\"y\":{\"field\":\"y\"}},\"id\":\"1474\",\"type\":\"Line\"},{\"attributes\":{\"callback\":null,\"data\":{\"x\":[1582502400000.0,1582588800000.0,1582675200000.0,1582761600000.0,1582848000000.0,1582934400000.0,1583020800000.0,1583107200000.0,1583193600000.0,1583280000000.0,1583366400000.0,1583452800000.0,1583539200000.0,1583625600000.0,1583712000000.0,1583798400000.0,1583884800000.0,1583971200000.0,1584057600000.0,1584144000000.0,1584230400000.0,1584316800000.0,1584403200000.0,1584489600000.0,1584576000000.0,1584662400000.0,1584748800000.0,1584835200000.0,1584921600000.0,1585008000000.0,1585094400000.0,1585180800000.0,1585267200000.0,1585353600000.0,1585440000000.0,1585526400000.0,1585612800000.0,1585699200000.0,1585785600000.0,1585872000000.0,1585958400000.0,1586044800000.0,1586131200000.0,1586217600000.0,1586304000000.0,1586390400000.0,1586476800000.0,1586563200000.0,1586649600000.0,1586736000000.0,1586822400000.0,1586908800000.0,1586995200000.0,1587081600000.0,1587168000000.0,1587254400000.0,1587340800000.0,1587427200000.0,1587513600000.0,1587600000000.0,1587686400000.0,1587772800000.0,1587859200000.0,1587945600000.0,1588032000000.0,1588118400000.0,1588204800000.0,1588291200000.0,1588377600000.0,1588464000000.0,1588550400000.0,1588636800000.0,1588723200000.0,1588809600000.0,1588896000000.0,1588982400000.0,1589068800000.0,1589155200000.0,1589241600000.0,1589328000000.0,1589414400000.0,1589500800000.0,1589587200000.0,1589673600000.0,1589760000000.0,1589846400000.0,1589932800000.0,1590019200000.0,1590105600000.0,1590192000000.0,1590278400000.0,1590364800000.0,1590451200000.0,1590537600000.0,1590624000000.0,1590710400000.0,1590796800000.0,1590883200000.0,1590969600000.0,1591056000000.0,1591142400000.0,1591228800000.0,1591315200000.0,1591401600000.0,1591488000000.0,1591574400000.0,1591660800000.0,1591747200000.0,1591833600000.0,1591920000000.0,1592006400000.0,1592092800000.0,1592179200000.0,1592265600000.0,1592352000000.0,1592438400000.0,1592524800000.0,1592611200000.0,1592697600000.0,1592784000000.0,1592870400000.0,1592956800000.0,1593043200000.0,1593129600000.0,1593216000000.0,1593302400000.0,1593388800000.0,1593475200000.0,1593561600000.0,1593648000000.0,1593734400000.0,1593820800000.0,1593907200000.0,1593993600000.0,1594080000000.0,1594166400000.0,1594252800000.0,1594339200000.0,1594425600000.0,1594512000000.0,1594598400000.0,1594684800000.0,1594771200000.0,1594857600000.0,1594944000000.0,1595030400000.0,1595116800000.0,1595203200000.0,1595289600000.0,1595376000000.0,1595462400000.0,1595548800000.0,1595635200000.0,1595721600000.0,1595808000000.0,1595894400000.0,1595980800000.0,1596067200000.0,1596153600000.0,1596240000000.0,1596326400000.0,1596412800000.0,1596499200000.0,1596585600000.0,1596672000000.0,1596758400000.0,1596844800000.0,1596931200000.0,1597017600000.0,1597104000000.0,1597190400000.0,1597276800000.0,1597363200000.0,1597449600000.0,1597536000000.0,1597622400000.0,1597708800000.0,1597795200000.0,1597881600000.0,1597968000000.0,1598054400000.0,1598140800000.0,1598227200000.0,1598313600000.0,1598400000000.0,1598486400000.0,1598572800000.0,1598659200000.0,1598745600000.0,1598832000000.0,1598918400000.0,1599004800000.0,1599091200000.0,1599177600000.0,1599264000000.0,1599350400000.0,1599436800000.0,1599523200000.0,1599609600000.0,1599696000000.0,1599782400000.0,1599868800000.0,1599955200000.0,1600041600000.0,1600128000000.0,1600214400000.0,1600300800000.0,1600387200000.0,1600473600000.0,1600560000000.0,1600646400000.0,1600732800000.0,1600819200000.0,1600905600000.0,1600992000000.0,1601078400000.0,1601164800000.0,1601251200000.0,1601337600000.0,1601424000000.0,1601510400000.0,1601596800000.0,1601683200000.0,1601769600000.0,1601856000000.0,1601942400000.0,1602028800000.0,1602115200000.0,1602201600000.0,1602288000000.0,1602374400000.0,1602460800000.0,1602547200000.0,1602633600000.0,1602720000000.0,1602806400000.0,1602892800000.0,1602979200000.0,1603065600000.0,1603152000000.0,1603238400000.0,1603324800000.0,1603411200000.0,1603497600000.0,1603584000000.0,1603670400000.0,1603756800000.0,1603843200000.0,1603929600000.0,1604016000000.0,1604102400000.0,1604188800000.0,1604275200000.0,1604361600000.0,1604448000000.0,1604534400000.0,1604620800000.0,1604707200000.0,1604793600000.0,1604880000000.0,1604966400000.0,1605052800000.0,1605139200000.0,1605225600000.0,1605312000000.0,1605398400000.0,1605484800000.0,1605571200000.0,1605657600000.0,1605744000000.0,1605830400000.0,1605916800000.0,1606003200000.0,1606089600000.0,1606176000000.0,1606262400000.0,1606348800000.0,1606435200000.0,1606521600000.0,1606608000000.0,1606694400000.0,1606780800000.0,1606867200000.0,1606953600000.0,1607040000000.0,1607126400000.0,1607212800000.0,1607299200000.0,1607385600000.0,1607472000000.0,1607558400000.0,1607644800000.0,1607731200000.0,1607817600000.0,1607904000000.0,1607990400000.0,1608076800000.0,1608163200000.0,1608249600000.0,1608336000000.0,1608422400000.0,1608508800000.0,1608595200000.0,1608681600000.0,1608768000000.0,1608854400000.0,1608940800000.0,1609027200000.0,1609113600000.0,1609200000000.0,1609286400000.0,1609372800000.0,1609459200000.0,1609545600000.0,1609632000000.0,1609718400000.0,1609804800000.0,1609891200000.0,1609977600000.0,1610064000000.0,1610150400000.0,1610236800000.0,1610323200000.0,1610409600000.0,1610496000000.0,1610582400000.0,1610668800000.0,1610755200000.0,1610841600000.0,1610928000000.0,1611014400000.0,1611100800000.0,1611187200000.0,1611273600000.0,1611360000000.0,1611446400000.0,1611532800000.0,1611619200000.0,1611705600000.0,1611792000000.0,1611878400000.0,1611964800000.0,1612051200000.0,1612137600000.0,1612224000000.0,1612310400000.0,1612396800000.0,1612483200000.0,1612569600000.0,1612656000000.0,1612742400000.0,1612828800000.0,1612915200000.0,1613001600000.0,1613088000000.0,1613174400000.0,1613260800000.0,1613347200000.0,1613433600000.0,1613520000000.0,1613606400000.0,1613692800000.0,1613779200000.0,1613865600000.0,1613952000000.0,1614038400000.0,1614124800000.0,1614211200000.0,1614297600000.0,1614384000000.0,1614470400000.0,1614556800000.0,1614643200000.0,1614729600000.0,1614816000000.0,1614902400000.0,1614988800000.0,1615075200000.0,1615161600000.0,1615248000000.0,1615334400000.0,1615420800000.0,1615507200000.0,1615593600000.0,1615680000000.0,1615766400000.0,1615852800000.0,1615939200000.0,1616025600000.0,1616112000000.0,1616198400000.0,1616284800000.0,1616371200000.0,1616457600000.0,1616544000000.0,1616630400000.0,1616716800000.0,1616803200000.0,1616889600000.0,1616976000000.0,1617062400000.0,1617148800000.0,1617235200000.0,1617321600000.0,1617408000000.0,1617494400000.0,1617580800000.0,1617667200000.0,1617753600000.0,1617840000000.0,1617926400000.0,1618012800000.0,1618099200000.0,1618185600000.0,1618272000000.0,1618358400000.0,1618444800000.0,1618531200000.0,1618617600000.0,1618704000000.0,1618790400000.0,1618876800000.0,1618963200000.0,1619049600000.0,1619136000000.0,1619222400000.0,1619308800000.0,1619395200000.0,1619481600000.0,1619568000000.0,1619654400000.0,1619740800000.0,1619827200000.0,1619913600000.0,1620000000000.0,1620086400000.0,1620172800000.0,1620172800000.0],\"y\":[1,1,3,45,46,50,83,149,160,276,414,523,589,622,724,1004,1045,1258,1439,1966,2335,2749,2941,4025,4440,5129,6072,7024,7432,8326,9362,10361,10950,12384,13030,14620,15729,16847,18278,19758,20996,21815,22837,24392,26491,28470,30455,32534,34211,35435,37130,38092,40164,42727,44927,47055,48877,51600,54543,57576,60498,63120,64928,66624,68941,71252,75945,78249,79914,81654,82879,85231,93245,96276,99023,103031,105186,106587,109039,112541,115288,120205,122810,125176,127326,129401,132282,134560,136720,138840,140479,141981,144658,147101,150604,152844,155633,157507,158355,160092,160938,161895,163781,165078,165837,166584,168646,169939,171338,173085,174865,176370,177010,178526,179455,180544,181907,182453,182893,183426,184585,186111,186725,187615,188584,188891,189196,190248,190717,191083,191467,191944,192108,192241,192815,193640,193978,194273,194579,194928,195106,195441,196016,196246,196483,196806,196949,197162,197431,197628,197842,198192,198320,198446,198593,198756,199031,199796,199974,200229,200460,200589,200766,200976,201323,201642,201947,202098,202248,202461,202697,202923,203326,203640,203786,203968,204142,204506,204686,204960,205203,205470,205662,206015,206329,206554,206902,207224,207536,207653,207944,208201,208490,209027,209610,210015,210238,210801,211272,211885,212432,213191,213634,213950,214645,215265,215954,216807,217716,218351,218703,219670,220665,221762,222716,223693,224417,225190,226506,227704,228844,229970,231217,231914,232681,234099,235303,236363,237549,238525,239709,240600,242028,244065,245964,247872,249127,251461,252959,255005,257374,259456,261808,264117,266203,268626,271988,275404,279282,283567,289426,292380,296017,302275,307378,312339,322925,328891,335074,345289,363023,372113,387758,399238,411434,420810,442364,457798,481967,498987,520022,539524,553098,584493,605330,637149,661180,696647,720861,734503,757507,784595,823335,846809,872385,896308,913494,933132,958629,997895,1027994,1052163,1076891,1093161,1115617,1141406,1175901,1203814,1226086,1249470,1261626,1281258,1301573,1322067,1344785,1377109,1386213,1394011,1408686,1425730,1445690,1463111,1479988,1489154,1503900,1520106,1536129,1556356,1572015,1589590,1606630,1617804,1633839,1653404,1673936,1694051,1713030,1729216,1745726,1760489,1781917,1806932,1827451,1855127,1871189,1882074,1897861,1917117,1936289,1953509,1973388,1990152,2010548,2024523,2043500,2059248,2076928,2091923,2107061,2118441,2133523,2149350,2165817,2185655,2202077,2216050,2225519,2237290,2251734,2268253,2286029,2303199,2315687,2324633,2334968,2347866,2362465,2375318,2387032,2398352,2405199,2416093,2426150,2440218,2453706,2467388,2481372,2494839,2508732,2521731,2535483,2550483,2564926,2579896,2589731,2605538,2619654,2639370,2655346,2671638,2686236,2699762,2732482,2753083,2773215,2794888,2814652,2832939,2850889,2870614,2889301,2913045,2933757,2953377,2974688,2988199,2997522,3019255,3040182,3060411,3086586,3107069,3122555,3140565,3158725,3178976,3200196,3218975,3235459,3248593,3268262,3290715,3311267,3330392,3351461,3369048,3382224,3398763,3413451,3431867,3449955,3465576,3484042,3492679,3505717,3524194,3541266,3541266]},\"selected\":{\"id\":\"1496\",\"type\":\"Selection\"},\"selection_policy\":{\"id\":\"1497\",\"type\":\"UnionRenderers\"}},\"id\":\"1446\",\"type\":\"ColumnDataSource\"},{\"attributes\":{\"active_drag\":\"auto\",\"active_inspect\":\"auto\",\"active_multi\":null,\"active_scroll\":\"auto\",\"active_tap\":\"auto\",\"tools\":[{\"id\":\"1408\",\"type\":\"PanTool\"},{\"id\":\"1409\",\"type\":\"WheelZoomTool\"},{\"id\":\"1410\",\"type\":\"BoxZoomTool\"},{\"id\":\"1411\",\"type\":\"SaveTool\"},{\"id\":\"1412\",\"type\":\"ResetTool\"},{\"id\":\"1413\",\"type\":\"HelpTool\"},{\"id\":\"1500\",\"type\":\"HoverTool\"},{\"id\":\"1502\",\"type\":\"PanTool\"}]},\"id\":\"1414\",\"type\":\"Toolbar\"},{\"attributes\":{\"bottom_units\":\"screen\",\"fill_alpha\":{\"value\":0.5},\"fill_color\":{\"value\":\"lightgrey\"},\"left_units\":\"screen\",\"level\":\"overlay\",\"line_alpha\":{\"value\":1.0},\"line_color\":{\"value\":\"black\"},\"line_dash\":[4,4],\"line_width\":{\"value\":2},\"render_mode\":\"css\",\"right_units\":\"screen\",\"top_units\":\"screen\"},\"id\":\"1443\",\"type\":\"BoxAnnotation\"},{\"attributes\":{\"line_color\":\"darkred\",\"line_width\":2,\"x\":{\"field\":\"x\"},\"y\":{\"field\":\"y\"}},\"id\":\"1473\",\"type\":\"Line\"},{\"attributes\":{},\"id\":\"1496\",\"type\":\"Selection\"},{\"attributes\":{},\"id\":\"1396\",\"type\":\"LinearScale\"},{\"attributes\":{\"source\":{\"id\":\"1446\",\"type\":\"ColumnDataSource\"}},\"id\":\"1450\",\"type\":\"CDSView\"},{\"attributes\":{\"axis_label\":\"date\",\"formatter\":{\"id\":\"1429\",\"type\":\"DatetimeTickFormatter\"},\"ticker\":{\"id\":\"1399\",\"type\":\"DatetimeTicker\"}},\"id\":\"1398\",\"type\":\"DatetimeAxis\"},{\"attributes\":{\"label\":{\"value\":\"healed people\"},\"renderers\":[{\"id\":\"1449\",\"type\":\"GlyphRenderer\"}]},\"id\":\"1471\",\"type\":\"LegendItem\"},{\"attributes\":{},\"id\":\"1497\",\"type\":\"UnionRenderers\"},{\"attributes\":{\"line_alpha\":0.1,\"line_color\":\"#1f77b4\",\"line_width\":2,\"x\":{\"field\":\"x\"},\"y\":{\"field\":\"y\"}},\"id\":\"1448\",\"type\":\"Line\"},{\"attributes\":{},\"id\":\"1408\",\"type\":\"PanTool\"},{\"attributes\":{\"text\":\"Cumulative trend for dead people, healed people and total infected\"},\"id\":\"1388\",\"type\":\"Title\"},{\"attributes\":{},\"id\":\"1404\",\"type\":\"BasicTicker\"},{\"attributes\":{\"callback\":null,\"formatters\":{\"x\":\"datetime\"},\"tooltips\":[[\"date\",\"@x{%F}\"],[\"count\",\"@y\"]]},\"id\":\"1500\",\"type\":\"HoverTool\"},{\"attributes\":{},\"id\":\"1468\",\"type\":\"Selection\"},{\"attributes\":{\"line_alpha\":0.1,\"line_color\":\"#1f77b4\",\"line_width\":2,\"x\":{\"field\":\"x\"},\"y\":{\"field\":\"y\"}},\"id\":\"1423\",\"type\":\"Line\"},{\"attributes\":{\"dimension\":1,\"ticker\":{\"id\":\"1404\",\"type\":\"BasicTicker\"}},\"id\":\"1407\",\"type\":\"Grid\"},{\"attributes\":{\"callback\":null},\"id\":\"1392\",\"type\":\"DataRange1d\"},{\"attributes\":{},\"id\":\"1427\",\"type\":\"BasicTickFormatter\"},{\"attributes\":{},\"id\":\"1469\",\"type\":\"UnionRenderers\"},{\"attributes\":{\"mantissas\":[1,2,5],\"max_interval\":500.0,\"num_minor_ticks\":0},\"id\":\"1431\",\"type\":\"AdaptiveTicker\"},{\"attributes\":{},\"id\":\"1442\",\"type\":\"YearsTicker\"},{\"attributes\":{},\"id\":\"1566\",\"type\":\"UnionRenderers\"},{\"attributes\":{\"base\":60,\"mantissas\":[1,2,5,10,15,20,30],\"max_interval\":1800000.0,\"min_interval\":1000.0,\"num_minor_ticks\":0},\"id\":\"1432\",\"type\":\"AdaptiveTicker\"},{\"attributes\":{\"days\":[1,2,3,4,5,6,7,8,9,10,11,12,13,14,15,16,17,18,19,20,21,22,23,24,25,26,27,28,29,30,31]},\"id\":\"1434\",\"type\":\"DaysTicker\"},{\"attributes\":{\"axis_label\":\"count\",\"formatter\":{\"id\":\"1427\",\"type\":\"BasicTickFormatter\"},\"ticker\":{\"id\":\"1404\",\"type\":\"BasicTicker\"}},\"id\":\"1403\",\"type\":\"LinearAxis\"},{\"attributes\":{\"base\":24,\"mantissas\":[1,2,4,6,8,12],\"max_interval\":43200000.0,\"min_interval\":3600000.0,\"num_minor_ticks\":0},\"id\":\"1433\",\"type\":\"AdaptiveTicker\"},{\"attributes\":{},\"id\":\"1394\",\"type\":\"LinearScale\"},{\"attributes\":{\"overlay\":{\"id\":\"1443\",\"type\":\"BoxAnnotation\"}},\"id\":\"1410\",\"type\":\"BoxZoomTool\"},{\"attributes\":{\"months\":[0,1,2,3,4,5,6,7,8,9,10,11]},\"id\":\"1438\",\"type\":\"MonthsTicker\"},{\"attributes\":{\"num_minor_ticks\":5,\"tickers\":[{\"id\":\"1431\",\"type\":\"AdaptiveTicker\"},{\"id\":\"1432\",\"type\":\"AdaptiveTicker\"},{\"id\":\"1433\",\"type\":\"AdaptiveTicker\"},{\"id\":\"1434\",\"type\":\"DaysTicker\"},{\"id\":\"1435\",\"type\":\"DaysTicker\"},{\"id\":\"1436\",\"type\":\"DaysTicker\"},{\"id\":\"1437\",\"type\":\"DaysTicker\"},{\"id\":\"1438\",\"type\":\"MonthsTicker\"},{\"id\":\"1439\",\"type\":\"MonthsTicker\"},{\"id\":\"1440\",\"type\":\"MonthsTicker\"},{\"id\":\"1441\",\"type\":\"MonthsTicker\"},{\"id\":\"1442\",\"type\":\"YearsTicker\"}]},\"id\":\"1399\",\"type\":\"DatetimeTicker\"},{\"attributes\":{},\"id\":\"1412\",\"type\":\"ResetTool\"},{\"attributes\":{\"data_source\":{\"id\":\"1421\",\"type\":\"ColumnDataSource\"},\"glyph\":{\"id\":\"1422\",\"type\":\"Line\"},\"hover_glyph\":null,\"muted_glyph\":null,\"nonselection_glyph\":{\"id\":\"1423\",\"type\":\"Line\"},\"selection_glyph\":null,\"view\":{\"id\":\"1425\",\"type\":\"CDSView\"}},\"id\":\"1424\",\"type\":\"GlyphRenderer\"},{\"attributes\":{\"months\":[0,2,4,6,8,10]},\"id\":\"1439\",\"type\":\"MonthsTicker\"},{\"attributes\":{},\"id\":\"1565\",\"type\":\"Selection\"},{\"attributes\":{\"days\":[1,4,7,10,13,16,19,22,25,28]},\"id\":\"1435\",\"type\":\"DaysTicker\"},{\"attributes\":{\"data_source\":{\"id\":\"1472\",\"type\":\"ColumnDataSource\"},\"glyph\":{\"id\":\"1473\",\"type\":\"Line\"},\"hover_glyph\":null,\"muted_glyph\":null,\"nonselection_glyph\":{\"id\":\"1474\",\"type\":\"Line\"},\"selection_glyph\":null,\"view\":{\"id\":\"1476\",\"type\":\"CDSView\"}},\"id\":\"1475\",\"type\":\"GlyphRenderer\"},{\"attributes\":{\"ticker\":{\"id\":\"1399\",\"type\":\"DatetimeTicker\"}},\"id\":\"1402\",\"type\":\"Grid\"},{\"attributes\":{\"days\":[1,15]},\"id\":\"1437\",\"type\":\"DaysTicker\"},{\"attributes\":{\"months\":[0,6]},\"id\":\"1441\",\"type\":\"MonthsTicker\"},{\"attributes\":{},\"id\":\"1413\",\"type\":\"HelpTool\"},{\"attributes\":{\"days\":[1,8,15,22]},\"id\":\"1436\",\"type\":\"DaysTicker\"},{\"attributes\":{\"line_color\":\"lightgray\",\"line_width\":2,\"x\":{\"field\":\"x\"},\"y\":{\"field\":\"y\"}},\"id\":\"1422\",\"type\":\"Line\"},{\"attributes\":{\"callback\":null,\"data\":{\"x\":[1582502400000.0,1582588800000.0,1582675200000.0,1582761600000.0,1582848000000.0,1582934400000.0,1583020800000.0,1583107200000.0,1583193600000.0,1583280000000.0,1583366400000.0,1583452800000.0,1583539200000.0,1583625600000.0,1583712000000.0,1583798400000.0,1583884800000.0,1583971200000.0,1584057600000.0,1584144000000.0,1584230400000.0,1584316800000.0,1584403200000.0,1584489600000.0,1584576000000.0,1584662400000.0,1584748800000.0,1584835200000.0,1584921600000.0,1585008000000.0,1585094400000.0,1585180800000.0,1585267200000.0,1585353600000.0,1585440000000.0,1585526400000.0,1585612800000.0,1585699200000.0,1585785600000.0,1585872000000.0,1585958400000.0,1586044800000.0,1586131200000.0,1586217600000.0,1586304000000.0,1586390400000.0,1586476800000.0,1586563200000.0,1586649600000.0,1586736000000.0,1586822400000.0,1586908800000.0,1586995200000.0,1587081600000.0,1587168000000.0,1587254400000.0,1587340800000.0,1587427200000.0,1587513600000.0,1587600000000.0,1587686400000.0,1587772800000.0,1587859200000.0,1587945600000.0,1588032000000.0,1588118400000.0,1588204800000.0,1588291200000.0,1588377600000.0,1588464000000.0,1588550400000.0,1588636800000.0,1588723200000.0,1588809600000.0,1588896000000.0,1588982400000.0,1589068800000.0,1589155200000.0,1589241600000.0,1589328000000.0,1589414400000.0,1589500800000.0,1589587200000.0,1589673600000.0,1589760000000.0,1589846400000.0,1589932800000.0,1590019200000.0,1590105600000.0,1590192000000.0,1590278400000.0,1590364800000.0,1590451200000.0,1590537600000.0,1590624000000.0,1590710400000.0,1590796800000.0,1590883200000.0,1590969600000.0,1591056000000.0,1591142400000.0,1591228800000.0,1591315200000.0,1591401600000.0,1591488000000.0,1591574400000.0,1591660800000.0,1591747200000.0,1591833600000.0,1591920000000.0,1592006400000.0,1592092800000.0,1592179200000.0,1592265600000.0,1592352000000.0,1592438400000.0,1592524800000.0,1592611200000.0,1592697600000.0,1592784000000.0,1592870400000.0,1592956800000.0,1593043200000.0,1593129600000.0,1593216000000.0,1593302400000.0,1593388800000.0,1593475200000.0,1593561600000.0,1593648000000.0,1593734400000.0,1593820800000.0,1593907200000.0,1593993600000.0,1594080000000.0,1594166400000.0,1594252800000.0,1594339200000.0,1594425600000.0,1594512000000.0,1594598400000.0,1594684800000.0,1594771200000.0,1594857600000.0,1594944000000.0,1595030400000.0,1595116800000.0,1595203200000.0,1595289600000.0,1595376000000.0,1595462400000.0,1595548800000.0,1595635200000.0,1595721600000.0,1595808000000.0,1595894400000.0,1595980800000.0,1596067200000.0,1596153600000.0,1596240000000.0,1596326400000.0,1596412800000.0,1596499200000.0,1596585600000.0,1596672000000.0,1596758400000.0,1596844800000.0,1596931200000.0,1597017600000.0,1597104000000.0,1597190400000.0,1597276800000.0,1597363200000.0,1597449600000.0,1597536000000.0,1597622400000.0,1597708800000.0,1597795200000.0,1597881600000.0,1597968000000.0,1598054400000.0,1598140800000.0,1598227200000.0,1598313600000.0,1598400000000.0,1598486400000.0,1598572800000.0,1598659200000.0,1598745600000.0,1598832000000.0,1598918400000.0,1599004800000.0,1599091200000.0,1599177600000.0,1599264000000.0,1599350400000.0,1599436800000.0,1599523200000.0,1599609600000.0,1599696000000.0,1599782400000.0,1599868800000.0,1599955200000.0,1600041600000.0,1600128000000.0,1600214400000.0,1600300800000.0,1600387200000.0,1600473600000.0,1600560000000.0,1600646400000.0,1600732800000.0,1600819200000.0,1600905600000.0,1600992000000.0,1601078400000.0,1601164800000.0,1601251200000.0,1601337600000.0,1601424000000.0,1601510400000.0,1601596800000.0,1601683200000.0,1601769600000.0,1601856000000.0,1601942400000.0,1602028800000.0,1602115200000.0,1602201600000.0,1602288000000.0,1602374400000.0,1602460800000.0,1602547200000.0,1602633600000.0,1602720000000.0,1602806400000.0,1602892800000.0,1602979200000.0,1603065600000.0,1603152000000.0,1603238400000.0,1603324800000.0,1603411200000.0,1603497600000.0,1603584000000.0,1603670400000.0,1603756800000.0,1603843200000.0,1603929600000.0,1604016000000.0,1604102400000.0,1604188800000.0,1604275200000.0,1604361600000.0,1604448000000.0,1604534400000.0,1604620800000.0,1604707200000.0,1604793600000.0,1604880000000.0,1604966400000.0,1605052800000.0,1605139200000.0,1605225600000.0,1605312000000.0,1605398400000.0,1605484800000.0,1605571200000.0,1605657600000.0,1605744000000.0,1605830400000.0,1605916800000.0,1606003200000.0,1606089600000.0,1606176000000.0,1606262400000.0,1606348800000.0,1606435200000.0,1606521600000.0,1606608000000.0,1606694400000.0,1606780800000.0,1606867200000.0,1606953600000.0,1607040000000.0,1607126400000.0,1607212800000.0,1607299200000.0,1607385600000.0,1607472000000.0,1607558400000.0,1607644800000.0,1607731200000.0,1607817600000.0,1607904000000.0,1607990400000.0,1608076800000.0,1608163200000.0,1608249600000.0,1608336000000.0,1608422400000.0,1608508800000.0,1608595200000.0,1608681600000.0,1608768000000.0,1608854400000.0,1608940800000.0,1609027200000.0,1609113600000.0,1609200000000.0,1609286400000.0,1609372800000.0,1609459200000.0,1609545600000.0,1609632000000.0,1609718400000.0,1609804800000.0,1609891200000.0,1609977600000.0,1610064000000.0,1610150400000.0,1610236800000.0,1610323200000.0,1610409600000.0,1610496000000.0,1610582400000.0,1610668800000.0,1610755200000.0,1610841600000.0,1610928000000.0,1611014400000.0,1611100800000.0,1611187200000.0,1611273600000.0,1611360000000.0,1611446400000.0,1611532800000.0,1611619200000.0,1611705600000.0,1611792000000.0,1611878400000.0,1611964800000.0,1612051200000.0,1612137600000.0,1612224000000.0,1612310400000.0,1612396800000.0,1612483200000.0,1612569600000.0,1612656000000.0,1612742400000.0,1612828800000.0,1612915200000.0,1613001600000.0,1613088000000.0,1613174400000.0,1613260800000.0,1613347200000.0,1613433600000.0,1613520000000.0,1613606400000.0,1613692800000.0,1613779200000.0,1613865600000.0,1613952000000.0,1614038400000.0,1614124800000.0,1614211200000.0,1614297600000.0,1614384000000.0,1614470400000.0,1614556800000.0,1614643200000.0,1614729600000.0,1614816000000.0,1614902400000.0,1614988800000.0,1615075200000.0,1615161600000.0,1615248000000.0,1615334400000.0,1615420800000.0,1615507200000.0,1615593600000.0,1615680000000.0,1615766400000.0,1615852800000.0,1615939200000.0,1616025600000.0,1616112000000.0,1616198400000.0,1616284800000.0,1616371200000.0,1616457600000.0,1616544000000.0,1616630400000.0,1616716800000.0,1616803200000.0,1616889600000.0,1616976000000.0,1617062400000.0,1617148800000.0,1617235200000.0,1617321600000.0,1617408000000.0,1617494400000.0,1617580800000.0,1617667200000.0,1617753600000.0,1617840000000.0,1617926400000.0,1618012800000.0,1618099200000.0,1618185600000.0,1618272000000.0,1618358400000.0,1618444800000.0,1618531200000.0,1618617600000.0,1618704000000.0,1618790400000.0,1618876800000.0,1618963200000.0,1619049600000.0,1619136000000.0,1619222400000.0,1619308800000.0,1619395200000.0,1619481600000.0,1619568000000.0,1619654400000.0,1619740800000.0,1619827200000.0,1619913600000.0,1620000000000.0,1620086400000.0,1620172800000.0,1620172800000.0],\"y\":[7,10,12,17,21,29,34,52,79,107,148,197,233,366,463,631,827,1016,1266,1441,1809,2158,2503,2978,3405,4032,4825,5476,6077,6820,7503,8165,9134,10023,10779,11591,12428,13155,13915,14681,15362,15887,16523,17127,17669,18279,18849,19468,19899,20465,21067,21645,22170,22745,23227,23660,24114,24648,25085,25549,25969,26384,26644,26977,27359,27682,27967,28236,28710,28884,29079,29315,29684,29958,30201,30395,30560,30739,30911,31106,31368,31610,31763,31908,32007,32169,32330,32486,32616,32735,32785,32877,32955,33072,33142,33229,33340,33415,33475,33530,33601,33689,33774,33846,33899,33964,34043,34114,34167,34223,34301,34345,34371,34405,34448,34514,34561,34610,34634,34657,34675,34644,34678,34708,34716,34738,34744,34767,34788,34818,34833,34854,34861,34869,34899,34914,34926,34938,34945,34954,34967,34984,34997,35017,35028,35042,35045,35058,35073,35082,35092,35097,35102,35107,35112,35123,35129,35132,35141,35146,35154,35166,35171,35181,35187,35190,35203,35205,35209,35215,35225,35231,35234,35392,35396,35400,35405,35412,35418,35427,35430,35437,35441,35445,35458,35463,35472,35473,35477,35483,35491,35497,35507,35518,35533,35541,35553,35563,35577,35587,35597,35603,35610,35624,35633,35645,35658,35668,35692,35707,35724,35738,35758,35781,35801,35818,35835,35851,35875,35894,35918,35941,35968,35986,36002,36030,36061,36083,36111,36140,36166,36205,36246,36289,36372,36427,36474,36543,36616,36705,36832,36968,37059,37210,37338,37479,37700,37905,38122,38321,38618,38826,39059,39412,39747,40192,40638,41063,41394,41750,42330,42953,43589,44139,44683,45229,45733,46464,47217,47870,48569,49261,49823,50453,51306,52028,52850,53677,54363,54904,55576,56361,57045,58038,58852,59514,60078,60606,61240,61739,62626,63387,64036,64520,65011,65857,66537,67220,67894,68447,68799,69214,69842,70395,70900,71359,71627,71925,72370,73029,73604,74159,74621,74985,75332,75680,76329,76877,77291,77911,78394,78755,79203,79819,80326,80848,81325,81800,82177,82554,83157,83681,84202,84674,85162,85461,85881,86422,86889,87381,87858,88279,88516,88845,89343,89819,90241,90618,91003,91273,91580,92002,92338,92729,93045,93356,93577,93835,94171,94540,94882,95235,95486,95718,95992,96348,96666,96974,97227,97507,97699,97945,98288,98635,98974,99271,99578,99785,100103,100479,100811,101184,101564,101881,102145,102499,103001,103432,103855,104241,104642,104942,105328,105879,106339,106799,107256,107636,107933,108350,108879,109346,109847,110328,110704,111030,111326,111747,112374,112861,113579,113923,114254,114612,115088,115557,115937,116366,116676,116927,117243,117633,117997,118357,118699,119021,119238,119539,119912,120256,120544,120807,121033,121177,121433,121738,122005,122005]},\"selected\":{\"id\":\"1565\",\"type\":\"Selection\"},\"selection_policy\":{\"id\":\"1566\",\"type\":\"UnionRenderers\"}},\"id\":\"1472\",\"type\":\"ColumnDataSource\"},{\"attributes\":{\"months\":[0,4,8]},\"id\":\"1440\",\"type\":\"MonthsTicker\"}],\"root_ids\":[\"1387\"]},\"title\":\"Bokeh Application\",\"version\":\"1.4.0\"}};\n",
       "  var render_items = [{\"docid\":\"233f8d84-73d1-4925-adbd-4bc73688aba1\",\"roots\":{\"1387\":\"c8510cd0-47e9-4048-b4ac-66c4ad43aa79\"}}];\n",
       "  root.Bokeh.embed.embed_items_notebook(docs_json, render_items);\n",
       "\n",
       "  }\n",
       "  if (root.Bokeh !== undefined) {\n",
       "    embed_document(root);\n",
       "  } else {\n",
       "    var attempts = 0;\n",
       "    var timer = setInterval(function(root) {\n",
       "      if (root.Bokeh !== undefined) {\n",
       "        clearInterval(timer);\n",
       "        embed_document(root);\n",
       "      } else {\n",
       "        attempts++;\n",
       "        if (attempts > 100) {\n",
       "          clearInterval(timer);\n",
       "          console.log(\"Bokeh: ERROR: Unable to run BokehJS code because BokehJS library is missing\");\n",
       "        }\n",
       "      }\n",
       "    }, 10, root)\n",
       "  }\n",
       "})(window);"
      ],
      "application/vnd.bokehjs_exec.v0+json": ""
     },
     "metadata": {
      "application/vnd.bokehjs_exec.v0+json": {
       "id": "1387"
      }
     },
     "output_type": "display_data"
    }
   ],
   "source": [
    "fig = figure(title='Cumulative trend for dead people, healed people and total infected',\n",
    "             x_axis_label='date',\n",
    "             y_axis_label='count',\n",
    "             width=800,\n",
    "             height=400,\n",
    "             x_axis_type='datetime')\n",
    "\n",
    "for cl in columns_to_show:\n",
    "    fig.line(df['only_data'],\n",
    "             df[cl],\n",
    "             color=colors[columns_to_show.index(cl)],\n",
    "             legend_label=legend[cl], \n",
    "             line_width=2)\n",
    "\n",
    "fig.add_tools(HoverTool(\n",
    "    tooltips=[('date', '@x{%F}'), ('count', '@y')],\n",
    "    formatters=dict(x='datetime')\n",
    "))\n",
    "fig.add_tools(PanTool(dimensions='width'))\n",
    "fig.legend.location = 'top_left'\n",
    "fig.x_range.start = df['only_data'].min()\n",
    "\n",
    "show(fig)"
   ]
  },
  {
   "cell_type": "code",
   "execution_count": null,
   "metadata": {},
   "outputs": [],
   "source": []
  },
  {
   "cell_type": "markdown",
   "metadata": {},
   "source": [
    "## analysis of the hospitalizations trend"
   ]
  },
  {
   "cell_type": "code",
   "execution_count": 15,
   "metadata": {},
   "outputs": [
    {
     "data": {
      "text/html": [
       "\n",
       "\n",
       "\n",
       "\n",
       "\n",
       "\n",
       "  <div class=\"bk-root\" id=\"5e4cd5c6-4cdd-4bfa-96fe-bf4d2fd3b766\" data-root-id=\"1712\"></div>\n"
      ]
     },
     "metadata": {},
     "output_type": "display_data"
    },
    {
     "data": {
      "application/javascript": [
       "(function(root) {\n",
       "  function embed_document(root) {\n",
       "    \n",
       "  var docs_json = {\"8bb4ae96-00e9-48af-82ae-d417b45a4979\":{\"roots\":{\"references\":[{\"attributes\":{\"below\":[{\"id\":\"1723\",\"type\":\"DatetimeAxis\"}],\"center\":[{\"id\":\"1727\",\"type\":\"Grid\"},{\"id\":\"1732\",\"type\":\"Grid\"},{\"id\":\"1769\",\"type\":\"Legend\"}],\"left\":[{\"id\":\"1728\",\"type\":\"LinearAxis\"}],\"plot_height\":400,\"plot_width\":800,\"renderers\":[{\"id\":\"1749\",\"type\":\"GlyphRenderer\"},{\"id\":\"1774\",\"type\":\"GlyphRenderer\"}],\"title\":{\"id\":\"1713\",\"type\":\"Title\"},\"toolbar\":{\"id\":\"1739\",\"type\":\"Toolbar\"},\"x_range\":{\"id\":\"1715\",\"type\":\"DataRange1d\"},\"x_scale\":{\"id\":\"1719\",\"type\":\"LinearScale\"},\"y_range\":{\"id\":\"1717\",\"type\":\"DataRange1d\"},\"y_scale\":{\"id\":\"1721\",\"type\":\"LinearScale\"}},\"id\":\"1712\",\"subtype\":\"Figure\",\"type\":\"Plot\"},{\"attributes\":{\"bottom_units\":\"screen\",\"fill_alpha\":{\"value\":0.5},\"fill_color\":{\"value\":\"lightgrey\"},\"left_units\":\"screen\",\"level\":\"overlay\",\"line_alpha\":{\"value\":1.0},\"line_color\":{\"value\":\"black\"},\"line_dash\":[4,4],\"line_width\":{\"value\":2},\"render_mode\":\"css\",\"right_units\":\"screen\",\"top_units\":\"screen\"},\"id\":\"1768\",\"type\":\"BoxAnnotation\"},{\"attributes\":{\"line_color\":\"blue\",\"line_width\":2,\"x\":{\"field\":\"x\"},\"y\":{\"field\":\"y\"}},\"id\":\"1772\",\"type\":\"Line\"},{\"attributes\":{},\"id\":\"1721\",\"type\":\"LinearScale\"},{\"attributes\":{\"data_source\":{\"id\":\"1746\",\"type\":\"ColumnDataSource\"},\"glyph\":{\"id\":\"1747\",\"type\":\"Line\"},\"hover_glyph\":null,\"muted_glyph\":null,\"nonselection_glyph\":{\"id\":\"1748\",\"type\":\"Line\"},\"selection_glyph\":null,\"view\":{\"id\":\"1750\",\"type\":\"CDSView\"}},\"id\":\"1749\",\"type\":\"GlyphRenderer\"},{\"attributes\":{},\"id\":\"1729\",\"type\":\"BasicTicker\"},{\"attributes\":{\"source\":{\"id\":\"1746\",\"type\":\"ColumnDataSource\"}},\"id\":\"1750\",\"type\":\"CDSView\"},{\"attributes\":{\"source\":{\"id\":\"1771\",\"type\":\"ColumnDataSource\"}},\"id\":\"1775\",\"type\":\"CDSView\"},{\"attributes\":{},\"id\":\"1734\",\"type\":\"WheelZoomTool\"},{\"attributes\":{\"active_drag\":\"auto\",\"active_inspect\":\"auto\",\"active_multi\":null,\"active_scroll\":\"auto\",\"active_tap\":\"auto\",\"tools\":[{\"id\":\"1733\",\"type\":\"PanTool\"},{\"id\":\"1734\",\"type\":\"WheelZoomTool\"},{\"id\":\"1735\",\"type\":\"BoxZoomTool\"},{\"id\":\"1736\",\"type\":\"SaveTool\"},{\"id\":\"1737\",\"type\":\"ResetTool\"},{\"id\":\"1738\",\"type\":\"HelpTool\"},{\"id\":\"1797\",\"type\":\"HoverTool\"},{\"id\":\"1799\",\"type\":\"PanTool\"}]},\"id\":\"1739\",\"type\":\"Toolbar\"},{\"attributes\":{\"label\":{\"value\":\"intensive care unit\"},\"renderers\":[{\"id\":\"1774\",\"type\":\"GlyphRenderer\"}]},\"id\":\"1796\",\"type\":\"LegendItem\"},{\"attributes\":{\"axis_label\":\"count\",\"formatter\":{\"id\":\"1752\",\"type\":\"BasicTickFormatter\"},\"ticker\":{\"id\":\"1729\",\"type\":\"BasicTicker\"}},\"id\":\"1728\",\"type\":\"LinearAxis\"},{\"attributes\":{\"dimension\":1,\"ticker\":{\"id\":\"1729\",\"type\":\"BasicTicker\"}},\"id\":\"1732\",\"type\":\"Grid\"},{\"attributes\":{\"line_alpha\":0.1,\"line_color\":\"#1f77b4\",\"line_width\":2,\"x\":{\"field\":\"x\"},\"y\":{\"field\":\"y\"}},\"id\":\"1773\",\"type\":\"Line\"},{\"attributes\":{\"ticker\":{\"id\":\"1724\",\"type\":\"DatetimeTicker\"}},\"id\":\"1727\",\"type\":\"Grid\"},{\"attributes\":{},\"id\":\"1752\",\"type\":\"BasicTickFormatter\"},{\"attributes\":{},\"id\":\"1884\",\"type\":\"Selection\"},{\"attributes\":{\"callback\":null,\"start\":1582502400000.0},\"id\":\"1715\",\"type\":\"DataRange1d\"},{\"attributes\":{\"line_alpha\":0.1,\"line_color\":\"#1f77b4\",\"line_width\":2,\"x\":{\"field\":\"x\"},\"y\":{\"field\":\"y\"}},\"id\":\"1748\",\"type\":\"Line\"},{\"attributes\":{},\"id\":\"1719\",\"type\":\"LinearScale\"},{\"attributes\":{},\"id\":\"1793\",\"type\":\"Selection\"},{\"attributes\":{\"months\":[0,4,8]},\"id\":\"1765\",\"type\":\"MonthsTicker\"},{\"attributes\":{\"axis_label\":\"date\",\"formatter\":{\"id\":\"1754\",\"type\":\"DatetimeTickFormatter\"},\"ticker\":{\"id\":\"1724\",\"type\":\"DatetimeTicker\"}},\"id\":\"1723\",\"type\":\"DatetimeAxis\"},{\"attributes\":{},\"id\":\"1736\",\"type\":\"SaveTool\"},{\"attributes\":{\"dimensions\":\"width\"},\"id\":\"1799\",\"type\":\"PanTool\"},{\"attributes\":{},\"id\":\"1754\",\"type\":\"DatetimeTickFormatter\"},{\"attributes\":{},\"id\":\"1794\",\"type\":\"UnionRenderers\"},{\"attributes\":{\"mantissas\":[1,2,5],\"max_interval\":500.0,\"num_minor_ticks\":0},\"id\":\"1756\",\"type\":\"AdaptiveTicker\"},{\"attributes\":{\"base\":60,\"mantissas\":[1,2,5,10,15,20,30],\"max_interval\":1800000.0,\"min_interval\":1000.0,\"num_minor_ticks\":0},\"id\":\"1757\",\"type\":\"AdaptiveTicker\"},{\"attributes\":{},\"id\":\"1733\",\"type\":\"PanTool\"},{\"attributes\":{\"line_color\":\"red\",\"line_width\":2,\"x\":{\"field\":\"x\"},\"y\":{\"field\":\"y\"}},\"id\":\"1747\",\"type\":\"Line\"},{\"attributes\":{\"days\":[1,2,3,4,5,6,7,8,9,10,11,12,13,14,15,16,17,18,19,20,21,22,23,24,25,26,27,28,29,30,31]},\"id\":\"1759\",\"type\":\"DaysTicker\"},{\"attributes\":{\"base\":24,\"mantissas\":[1,2,4,6,8,12],\"max_interval\":43200000.0,\"min_interval\":3600000.0,\"num_minor_ticks\":0},\"id\":\"1758\",\"type\":\"AdaptiveTicker\"},{\"attributes\":{\"label\":{\"value\":\"hospitalized with symptoms\"},\"renderers\":[{\"id\":\"1749\",\"type\":\"GlyphRenderer\"}]},\"id\":\"1770\",\"type\":\"LegendItem\"},{\"attributes\":{\"months\":[0,1,2,3,4,5,6,7,8,9,10,11]},\"id\":\"1763\",\"type\":\"MonthsTicker\"},{\"attributes\":{\"months\":[0,2,4,6,8,10]},\"id\":\"1764\",\"type\":\"MonthsTicker\"},{\"attributes\":{\"days\":[1,4,7,10,13,16,19,22,25,28]},\"id\":\"1760\",\"type\":\"DaysTicker\"},{\"attributes\":{\"days\":[1,15]},\"id\":\"1762\",\"type\":\"DaysTicker\"},{\"attributes\":{\"days\":[1,8,15,22]},\"id\":\"1761\",\"type\":\"DaysTicker\"},{\"attributes\":{\"callback\":null},\"id\":\"1717\",\"type\":\"DataRange1d\"},{\"attributes\":{\"months\":[0,6]},\"id\":\"1766\",\"type\":\"MonthsTicker\"},{\"attributes\":{\"overlay\":{\"id\":\"1768\",\"type\":\"BoxAnnotation\"}},\"id\":\"1735\",\"type\":\"BoxZoomTool\"},{\"attributes\":{\"data_source\":{\"id\":\"1771\",\"type\":\"ColumnDataSource\"},\"glyph\":{\"id\":\"1772\",\"type\":\"Line\"},\"hover_glyph\":null,\"muted_glyph\":null,\"nonselection_glyph\":{\"id\":\"1773\",\"type\":\"Line\"},\"selection_glyph\":null,\"view\":{\"id\":\"1775\",\"type\":\"CDSView\"}},\"id\":\"1774\",\"type\":\"GlyphRenderer\"},{\"attributes\":{},\"id\":\"1767\",\"type\":\"YearsTicker\"},{\"attributes\":{},\"id\":\"1738\",\"type\":\"HelpTool\"},{\"attributes\":{},\"id\":\"1737\",\"type\":\"ResetTool\"},{\"attributes\":{\"callback\":null,\"data\":{\"x\":[1582502400000.0,1582588800000.0,1582675200000.0,1582761600000.0,1582848000000.0,1582934400000.0,1583020800000.0,1583107200000.0,1583193600000.0,1583280000000.0,1583366400000.0,1583452800000.0,1583539200000.0,1583625600000.0,1583712000000.0,1583798400000.0,1583884800000.0,1583971200000.0,1584057600000.0,1584144000000.0,1584230400000.0,1584316800000.0,1584403200000.0,1584489600000.0,1584576000000.0,1584662400000.0,1584748800000.0,1584835200000.0,1584921600000.0,1585008000000.0,1585094400000.0,1585180800000.0,1585267200000.0,1585353600000.0,1585440000000.0,1585526400000.0,1585612800000.0,1585699200000.0,1585785600000.0,1585872000000.0,1585958400000.0,1586044800000.0,1586131200000.0,1586217600000.0,1586304000000.0,1586390400000.0,1586476800000.0,1586563200000.0,1586649600000.0,1586736000000.0,1586822400000.0,1586908800000.0,1586995200000.0,1587081600000.0,1587168000000.0,1587254400000.0,1587340800000.0,1587427200000.0,1587513600000.0,1587600000000.0,1587686400000.0,1587772800000.0,1587859200000.0,1587945600000.0,1588032000000.0,1588118400000.0,1588204800000.0,1588291200000.0,1588377600000.0,1588464000000.0,1588550400000.0,1588636800000.0,1588723200000.0,1588809600000.0,1588896000000.0,1588982400000.0,1589068800000.0,1589155200000.0,1589241600000.0,1589328000000.0,1589414400000.0,1589500800000.0,1589587200000.0,1589673600000.0,1589760000000.0,1589846400000.0,1589932800000.0,1590019200000.0,1590105600000.0,1590192000000.0,1590278400000.0,1590364800000.0,1590451200000.0,1590537600000.0,1590624000000.0,1590710400000.0,1590796800000.0,1590883200000.0,1590969600000.0,1591056000000.0,1591142400000.0,1591228800000.0,1591315200000.0,1591401600000.0,1591488000000.0,1591574400000.0,1591660800000.0,1591747200000.0,1591833600000.0,1591920000000.0,1592006400000.0,1592092800000.0,1592179200000.0,1592265600000.0,1592352000000.0,1592438400000.0,1592524800000.0,1592611200000.0,1592697600000.0,1592784000000.0,1592870400000.0,1592956800000.0,1593043200000.0,1593129600000.0,1593216000000.0,1593302400000.0,1593388800000.0,1593475200000.0,1593561600000.0,1593648000000.0,1593734400000.0,1593820800000.0,1593907200000.0,1593993600000.0,1594080000000.0,1594166400000.0,1594252800000.0,1594339200000.0,1594425600000.0,1594512000000.0,1594598400000.0,1594684800000.0,1594771200000.0,1594857600000.0,1594944000000.0,1595030400000.0,1595116800000.0,1595203200000.0,1595289600000.0,1595376000000.0,1595462400000.0,1595548800000.0,1595635200000.0,1595721600000.0,1595808000000.0,1595894400000.0,1595980800000.0,1596067200000.0,1596153600000.0,1596240000000.0,1596326400000.0,1596412800000.0,1596499200000.0,1596585600000.0,1596672000000.0,1596758400000.0,1596844800000.0,1596931200000.0,1597017600000.0,1597104000000.0,1597190400000.0,1597276800000.0,1597363200000.0,1597449600000.0,1597536000000.0,1597622400000.0,1597708800000.0,1597795200000.0,1597881600000.0,1597968000000.0,1598054400000.0,1598140800000.0,1598227200000.0,1598313600000.0,1598400000000.0,1598486400000.0,1598572800000.0,1598659200000.0,1598745600000.0,1598832000000.0,1598918400000.0,1599004800000.0,1599091200000.0,1599177600000.0,1599264000000.0,1599350400000.0,1599436800000.0,1599523200000.0,1599609600000.0,1599696000000.0,1599782400000.0,1599868800000.0,1599955200000.0,1600041600000.0,1600128000000.0,1600214400000.0,1600300800000.0,1600387200000.0,1600473600000.0,1600560000000.0,1600646400000.0,1600732800000.0,1600819200000.0,1600905600000.0,1600992000000.0,1601078400000.0,1601164800000.0,1601251200000.0,1601337600000.0,1601424000000.0,1601510400000.0,1601596800000.0,1601683200000.0,1601769600000.0,1601856000000.0,1601942400000.0,1602028800000.0,1602115200000.0,1602201600000.0,1602288000000.0,1602374400000.0,1602460800000.0,1602547200000.0,1602633600000.0,1602720000000.0,1602806400000.0,1602892800000.0,1602979200000.0,1603065600000.0,1603152000000.0,1603238400000.0,1603324800000.0,1603411200000.0,1603497600000.0,1603584000000.0,1603670400000.0,1603756800000.0,1603843200000.0,1603929600000.0,1604016000000.0,1604102400000.0,1604188800000.0,1604275200000.0,1604361600000.0,1604448000000.0,1604534400000.0,1604620800000.0,1604707200000.0,1604793600000.0,1604880000000.0,1604966400000.0,1605052800000.0,1605139200000.0,1605225600000.0,1605312000000.0,1605398400000.0,1605484800000.0,1605571200000.0,1605657600000.0,1605744000000.0,1605830400000.0,1605916800000.0,1606003200000.0,1606089600000.0,1606176000000.0,1606262400000.0,1606348800000.0,1606435200000.0,1606521600000.0,1606608000000.0,1606694400000.0,1606780800000.0,1606867200000.0,1606953600000.0,1607040000000.0,1607126400000.0,1607212800000.0,1607299200000.0,1607385600000.0,1607472000000.0,1607558400000.0,1607644800000.0,1607731200000.0,1607817600000.0,1607904000000.0,1607990400000.0,1608076800000.0,1608163200000.0,1608249600000.0,1608336000000.0,1608422400000.0,1608508800000.0,1608595200000.0,1608681600000.0,1608768000000.0,1608854400000.0,1608940800000.0,1609027200000.0,1609113600000.0,1609200000000.0,1609286400000.0,1609372800000.0,1609459200000.0,1609545600000.0,1609632000000.0,1609718400000.0,1609804800000.0,1609891200000.0,1609977600000.0,1610064000000.0,1610150400000.0,1610236800000.0,1610323200000.0,1610409600000.0,1610496000000.0,1610582400000.0,1610668800000.0,1610755200000.0,1610841600000.0,1610928000000.0,1611014400000.0,1611100800000.0,1611187200000.0,1611273600000.0,1611360000000.0,1611446400000.0,1611532800000.0,1611619200000.0,1611705600000.0,1611792000000.0,1611878400000.0,1611964800000.0,1612051200000.0,1612137600000.0,1612224000000.0,1612310400000.0,1612396800000.0,1612483200000.0,1612569600000.0,1612656000000.0,1612742400000.0,1612828800000.0,1612915200000.0,1613001600000.0,1613088000000.0,1613174400000.0,1613260800000.0,1613347200000.0,1613433600000.0,1613520000000.0,1613606400000.0,1613692800000.0,1613779200000.0,1613865600000.0,1613952000000.0,1614038400000.0,1614124800000.0,1614211200000.0,1614297600000.0,1614384000000.0,1614470400000.0,1614556800000.0,1614643200000.0,1614729600000.0,1614816000000.0,1614902400000.0,1614988800000.0,1615075200000.0,1615161600000.0,1615248000000.0,1615334400000.0,1615420800000.0,1615507200000.0,1615593600000.0,1615680000000.0,1615766400000.0,1615852800000.0,1615939200000.0,1616025600000.0,1616112000000.0,1616198400000.0,1616284800000.0,1616371200000.0,1616457600000.0,1616544000000.0,1616630400000.0,1616716800000.0,1616803200000.0,1616889600000.0,1616976000000.0,1617062400000.0,1617148800000.0,1617235200000.0,1617321600000.0,1617408000000.0,1617494400000.0,1617580800000.0,1617667200000.0,1617753600000.0,1617840000000.0,1617926400000.0,1618012800000.0,1618099200000.0,1618185600000.0,1618272000000.0,1618358400000.0,1618444800000.0,1618531200000.0,1618617600000.0,1618704000000.0,1618790400000.0,1618876800000.0,1618963200000.0,1619049600000.0,1619136000000.0,1619222400000.0,1619308800000.0,1619395200000.0,1619481600000.0,1619568000000.0,1619654400000.0,1619740800000.0,1619827200000.0,1619913600000.0,1620000000000.0,1620086400000.0,1620172800000.0,1620172800000.0],\"y\":[101,114,128,248,345,401,639,742,1034,1346,1790,2394,2651,3557,4316,5038,5838,6650,7426,8372,9663,11025,12894,14363,15757,16020,17708,19846,20692,21937,23112,24753,26029,26676,27386,27795,28192,28403,28540,28741,29010,28949,28976,28718,28485,28399,28242,28144,27847,28023,28011,27643,26893,25786,25007,25033,24906,24134,23805,22871,22068,21533,21372,20353,19723,19210,18149,17569,17357,17242,16823,16270,15769,15174,14636,13834,13618,13539,12865,12172,11453,10792,10400,10311,10207,9991,9624,9269,8957,8695,8613,8185,7917,7729,7379,7094,6680,6387,6099,5916,5742,5503,5301,5002,4864,4729,4581,4320,4131,3893,3747,3594,3489,3301,3113,2867,2632,2474,2314,2038,1853,1610,1515,1356,1260,1160,1120,1090,1025,963,956,940,945,946,940,899,871,844,826,776,768,777,797,750,771,757,743,745,732,724,713,713,731,735,740,749,731,748,716,705,708,734,761,764,762,779,771,763,779,801,779,786,771,764,787,810,843,866,883,919,924,971,1045,1058,1055,1131,1178,1168,1251,1288,1380,1437,1505,1607,1620,1683,1719,1760,1778,1836,1849,1951,2042,2122,2222,2285,2348,2387,2380,2365,2475,2604,2658,2731,2737,2746,2846,2977,3048,3047,3097,3142,3205,3287,3487,3625,3782,3925,4086,4336,4519,4821,5076,5470,5796,6178,6617,7131,7676,8454,9057,9694,10549,11287,12006,12997,13955,14981,15964,16994,17966,18902,19840,21114,22116,23256,24005,25109,26440,27636,28633,29444,29873,30914,31398,32047,32536,33074,33504,33610,33957,34063,34279,34697,34577,34313,34038,33684,33299,32879,33187,32811,32454,31772,31200,30158,30391,30524,30081,29653,29088,28562,28066,27735,27765,27342,26897,26427,25769,25364,25158,25145,24948,24546,24070,23402,23312,23571,23932,23662,23566,23151,22822,22948,23075,23317,23395,23174,23291,23313,23260,23427,23603,23712,23525,23110,22841,22784,22757,22884,22699,22469,22045,21691,21403,21309,21424,21355,21161,20778,20397,20098,20096,20260,20317,20071,19743,19575,19408,19266,19527,19512,19280,18942,18736,18500,18449,18515,18463,18274,17963,17831,17725,17804,18155,18295,18217,18257,18292,18372,18638,19112,19570,19763,20157,20374,20701,21144,21831,22393,22882,23247,23656,24153,24518,25338,26098,26517,26694,26858,27061,27484,28049,28428,28438,28424,28472,28621,28701,29163,29231,29180,28949,28704,28489,28432,28785,29337,29316,28851,28146,27654,27251,27329,26952,26369,25587,24743,24100,23648,23742,23255,22784,22094,21440,20971,20662,20635,20312,19860,19351,18940,18381,18345,18395,18176,17520,17520]},\"selected\":{\"id\":\"1793\",\"type\":\"Selection\"},\"selection_policy\":{\"id\":\"1794\",\"type\":\"UnionRenderers\"}},\"id\":\"1746\",\"type\":\"ColumnDataSource\"},{\"attributes\":{\"items\":[{\"id\":\"1770\",\"type\":\"LegendItem\"},{\"id\":\"1796\",\"type\":\"LegendItem\"}],\"location\":\"top_left\"},\"id\":\"1769\",\"type\":\"Legend\"},{\"attributes\":{\"callback\":null,\"data\":{\"x\":[1582502400000.0,1582588800000.0,1582675200000.0,1582761600000.0,1582848000000.0,1582934400000.0,1583020800000.0,1583107200000.0,1583193600000.0,1583280000000.0,1583366400000.0,1583452800000.0,1583539200000.0,1583625600000.0,1583712000000.0,1583798400000.0,1583884800000.0,1583971200000.0,1584057600000.0,1584144000000.0,1584230400000.0,1584316800000.0,1584403200000.0,1584489600000.0,1584576000000.0,1584662400000.0,1584748800000.0,1584835200000.0,1584921600000.0,1585008000000.0,1585094400000.0,1585180800000.0,1585267200000.0,1585353600000.0,1585440000000.0,1585526400000.0,1585612800000.0,1585699200000.0,1585785600000.0,1585872000000.0,1585958400000.0,1586044800000.0,1586131200000.0,1586217600000.0,1586304000000.0,1586390400000.0,1586476800000.0,1586563200000.0,1586649600000.0,1586736000000.0,1586822400000.0,1586908800000.0,1586995200000.0,1587081600000.0,1587168000000.0,1587254400000.0,1587340800000.0,1587427200000.0,1587513600000.0,1587600000000.0,1587686400000.0,1587772800000.0,1587859200000.0,1587945600000.0,1588032000000.0,1588118400000.0,1588204800000.0,1588291200000.0,1588377600000.0,1588464000000.0,1588550400000.0,1588636800000.0,1588723200000.0,1588809600000.0,1588896000000.0,1588982400000.0,1589068800000.0,1589155200000.0,1589241600000.0,1589328000000.0,1589414400000.0,1589500800000.0,1589587200000.0,1589673600000.0,1589760000000.0,1589846400000.0,1589932800000.0,1590019200000.0,1590105600000.0,1590192000000.0,1590278400000.0,1590364800000.0,1590451200000.0,1590537600000.0,1590624000000.0,1590710400000.0,1590796800000.0,1590883200000.0,1590969600000.0,1591056000000.0,1591142400000.0,1591228800000.0,1591315200000.0,1591401600000.0,1591488000000.0,1591574400000.0,1591660800000.0,1591747200000.0,1591833600000.0,1591920000000.0,1592006400000.0,1592092800000.0,1592179200000.0,1592265600000.0,1592352000000.0,1592438400000.0,1592524800000.0,1592611200000.0,1592697600000.0,1592784000000.0,1592870400000.0,1592956800000.0,1593043200000.0,1593129600000.0,1593216000000.0,1593302400000.0,1593388800000.0,1593475200000.0,1593561600000.0,1593648000000.0,1593734400000.0,1593820800000.0,1593907200000.0,1593993600000.0,1594080000000.0,1594166400000.0,1594252800000.0,1594339200000.0,1594425600000.0,1594512000000.0,1594598400000.0,1594684800000.0,1594771200000.0,1594857600000.0,1594944000000.0,1595030400000.0,1595116800000.0,1595203200000.0,1595289600000.0,1595376000000.0,1595462400000.0,1595548800000.0,1595635200000.0,1595721600000.0,1595808000000.0,1595894400000.0,1595980800000.0,1596067200000.0,1596153600000.0,1596240000000.0,1596326400000.0,1596412800000.0,1596499200000.0,1596585600000.0,1596672000000.0,1596758400000.0,1596844800000.0,1596931200000.0,1597017600000.0,1597104000000.0,1597190400000.0,1597276800000.0,1597363200000.0,1597449600000.0,1597536000000.0,1597622400000.0,1597708800000.0,1597795200000.0,1597881600000.0,1597968000000.0,1598054400000.0,1598140800000.0,1598227200000.0,1598313600000.0,1598400000000.0,1598486400000.0,1598572800000.0,1598659200000.0,1598745600000.0,1598832000000.0,1598918400000.0,1599004800000.0,1599091200000.0,1599177600000.0,1599264000000.0,1599350400000.0,1599436800000.0,1599523200000.0,1599609600000.0,1599696000000.0,1599782400000.0,1599868800000.0,1599955200000.0,1600041600000.0,1600128000000.0,1600214400000.0,1600300800000.0,1600387200000.0,1600473600000.0,1600560000000.0,1600646400000.0,1600732800000.0,1600819200000.0,1600905600000.0,1600992000000.0,1601078400000.0,1601164800000.0,1601251200000.0,1601337600000.0,1601424000000.0,1601510400000.0,1601596800000.0,1601683200000.0,1601769600000.0,1601856000000.0,1601942400000.0,1602028800000.0,1602115200000.0,1602201600000.0,1602288000000.0,1602374400000.0,1602460800000.0,1602547200000.0,1602633600000.0,1602720000000.0,1602806400000.0,1602892800000.0,1602979200000.0,1603065600000.0,1603152000000.0,1603238400000.0,1603324800000.0,1603411200000.0,1603497600000.0,1603584000000.0,1603670400000.0,1603756800000.0,1603843200000.0,1603929600000.0,1604016000000.0,1604102400000.0,1604188800000.0,1604275200000.0,1604361600000.0,1604448000000.0,1604534400000.0,1604620800000.0,1604707200000.0,1604793600000.0,1604880000000.0,1604966400000.0,1605052800000.0,1605139200000.0,1605225600000.0,1605312000000.0,1605398400000.0,1605484800000.0,1605571200000.0,1605657600000.0,1605744000000.0,1605830400000.0,1605916800000.0,1606003200000.0,1606089600000.0,1606176000000.0,1606262400000.0,1606348800000.0,1606435200000.0,1606521600000.0,1606608000000.0,1606694400000.0,1606780800000.0,1606867200000.0,1606953600000.0,1607040000000.0,1607126400000.0,1607212800000.0,1607299200000.0,1607385600000.0,1607472000000.0,1607558400000.0,1607644800000.0,1607731200000.0,1607817600000.0,1607904000000.0,1607990400000.0,1608076800000.0,1608163200000.0,1608249600000.0,1608336000000.0,1608422400000.0,1608508800000.0,1608595200000.0,1608681600000.0,1608768000000.0,1608854400000.0,1608940800000.0,1609027200000.0,1609113600000.0,1609200000000.0,1609286400000.0,1609372800000.0,1609459200000.0,1609545600000.0,1609632000000.0,1609718400000.0,1609804800000.0,1609891200000.0,1609977600000.0,1610064000000.0,1610150400000.0,1610236800000.0,1610323200000.0,1610409600000.0,1610496000000.0,1610582400000.0,1610668800000.0,1610755200000.0,1610841600000.0,1610928000000.0,1611014400000.0,1611100800000.0,1611187200000.0,1611273600000.0,1611360000000.0,1611446400000.0,1611532800000.0,1611619200000.0,1611705600000.0,1611792000000.0,1611878400000.0,1611964800000.0,1612051200000.0,1612137600000.0,1612224000000.0,1612310400000.0,1612396800000.0,1612483200000.0,1612569600000.0,1612656000000.0,1612742400000.0,1612828800000.0,1612915200000.0,1613001600000.0,1613088000000.0,1613174400000.0,1613260800000.0,1613347200000.0,1613433600000.0,1613520000000.0,1613606400000.0,1613692800000.0,1613779200000.0,1613865600000.0,1613952000000.0,1614038400000.0,1614124800000.0,1614211200000.0,1614297600000.0,1614384000000.0,1614470400000.0,1614556800000.0,1614643200000.0,1614729600000.0,1614816000000.0,1614902400000.0,1614988800000.0,1615075200000.0,1615161600000.0,1615248000000.0,1615334400000.0,1615420800000.0,1615507200000.0,1615593600000.0,1615680000000.0,1615766400000.0,1615852800000.0,1615939200000.0,1616025600000.0,1616112000000.0,1616198400000.0,1616284800000.0,1616371200000.0,1616457600000.0,1616544000000.0,1616630400000.0,1616716800000.0,1616803200000.0,1616889600000.0,1616976000000.0,1617062400000.0,1617148800000.0,1617235200000.0,1617321600000.0,1617408000000.0,1617494400000.0,1617580800000.0,1617667200000.0,1617753600000.0,1617840000000.0,1617926400000.0,1618012800000.0,1618099200000.0,1618185600000.0,1618272000000.0,1618358400000.0,1618444800000.0,1618531200000.0,1618617600000.0,1618704000000.0,1618790400000.0,1618876800000.0,1618963200000.0,1619049600000.0,1619136000000.0,1619222400000.0,1619308800000.0,1619395200000.0,1619481600000.0,1619568000000.0,1619654400000.0,1619740800000.0,1619827200000.0,1619913600000.0,1620000000000.0,1620086400000.0,1620172800000.0,1620172800000.0],\"y\":[26,35,36,56,64,105,140,166,229,295,351,462,567,650,733,877,1028,1153,1328,1518,1672,1851,2060,2257,2498,2655,2857,3009,3204,3396,3489,3612,3732,3856,3906,3981,4023,4035,4053,4068,3994,3977,3898,3792,3693,3605,3497,3381,3343,3260,3186,3079,2936,2812,2733,2635,2573,2471,2384,2267,2173,2102,2009,1956,1863,1795,1694,1578,1539,1501,1479,1427,1333,1311,1168,1034,1027,999,952,893,855,808,775,762,749,716,676,640,595,572,553,541,521,505,489,475,450,435,424,408,353,338,316,293,287,283,263,249,236,227,220,209,207,177,163,168,161,152,148,127,115,107,103,105,97,98,96,93,87,82,79,71,74,72,70,71,69,65,67,68,65,60,57,53,50,50,49,47,49,48,49,46,41,44,45,40,38,47,41,43,42,41,41,41,42,42,43,45,46,49,53,55,56,55,56,58,58,66,68,69,64,69,65,66,69,67,74,79,86,94,107,109,120,121,121,133,142,143,150,164,175,182,187,197,201,207,212,208,215,222,232,239,244,246,244,247,254,264,271,280,291,294,297,303,323,319,337,358,387,390,420,452,514,539,586,638,705,750,797,870,926,992,1049,1128,1208,1284,1411,1536,1651,1746,1843,1939,2022,2225,2292,2391,2515,2634,2749,2849,2971,3081,3170,3230,3306,3422,3492,3612,3670,3712,3748,3758,3801,3810,3816,3848,3846,3782,3762,3753,3744,3663,3616,3597,3567,3517,3454,3382,3345,3320,3291,3265,3199,3158,3095,3003,2926,2855,2819,2784,2743,2731,2687,2624,2589,2584,2580,2580,2565,2549,2528,2555,2553,2569,2583,2579,2569,2571,2587,2587,2593,2615,2642,2636,2579,2557,2522,2520,2503,2544,2487,2461,2418,2390,2386,2400,2421,2372,2352,2288,2270,2218,2215,2252,2214,2145,2151,2142,2110,2107,2143,2143,2128,2126,2095,2062,2085,2089,2074,2043,2045,2059,2063,2094,2118,2146,2157,2168,2194,2216,2231,2289,2327,2411,2475,2525,2571,2605,2700,2756,2827,2859,2914,2982,3082,3157,3256,3317,3333,3364,3387,3448,3510,3546,3588,3620,3628,3635,3679,3721,3716,3710,3681,3704,3714,3703,3737,3743,3683,3663,3603,3588,3585,3593,3526,3490,3417,3366,3340,3311,3244,3151,3076,3021,2979,2894,2862,2849,2748,2711,2640,2583,2522,2524,2490,2423,2368,2368]},\"selected\":{\"id\":\"1884\",\"type\":\"Selection\"},\"selection_policy\":{\"id\":\"1885\",\"type\":\"UnionRenderers\"}},\"id\":\"1771\",\"type\":\"ColumnDataSource\"},{\"attributes\":{},\"id\":\"1885\",\"type\":\"UnionRenderers\"},{\"attributes\":{\"text\":\"hospitalizations trend\"},\"id\":\"1713\",\"type\":\"Title\"},{\"attributes\":{\"num_minor_ticks\":5,\"tickers\":[{\"id\":\"1756\",\"type\":\"AdaptiveTicker\"},{\"id\":\"1757\",\"type\":\"AdaptiveTicker\"},{\"id\":\"1758\",\"type\":\"AdaptiveTicker\"},{\"id\":\"1759\",\"type\":\"DaysTicker\"},{\"id\":\"1760\",\"type\":\"DaysTicker\"},{\"id\":\"1761\",\"type\":\"DaysTicker\"},{\"id\":\"1762\",\"type\":\"DaysTicker\"},{\"id\":\"1763\",\"type\":\"MonthsTicker\"},{\"id\":\"1764\",\"type\":\"MonthsTicker\"},{\"id\":\"1765\",\"type\":\"MonthsTicker\"},{\"id\":\"1766\",\"type\":\"MonthsTicker\"},{\"id\":\"1767\",\"type\":\"YearsTicker\"}]},\"id\":\"1724\",\"type\":\"DatetimeTicker\"},{\"attributes\":{\"callback\":null,\"formatters\":{\"x\":\"datetime\"},\"tooltips\":[[\"date\",\"@x{%F}\"],[\"count\",\"@y\"]]},\"id\":\"1797\",\"type\":\"HoverTool\"}],\"root_ids\":[\"1712\"]},\"title\":\"Bokeh Application\",\"version\":\"1.4.0\"}};\n",
       "  var render_items = [{\"docid\":\"8bb4ae96-00e9-48af-82ae-d417b45a4979\",\"roots\":{\"1712\":\"5e4cd5c6-4cdd-4bfa-96fe-bf4d2fd3b766\"}}];\n",
       "  root.Bokeh.embed.embed_items_notebook(docs_json, render_items);\n",
       "\n",
       "  }\n",
       "  if (root.Bokeh !== undefined) {\n",
       "    embed_document(root);\n",
       "  } else {\n",
       "    var attempts = 0;\n",
       "    var timer = setInterval(function(root) {\n",
       "      if (root.Bokeh !== undefined) {\n",
       "        clearInterval(timer);\n",
       "        embed_document(root);\n",
       "      } else {\n",
       "        attempts++;\n",
       "        if (attempts > 100) {\n",
       "          clearInterval(timer);\n",
       "          console.log(\"Bokeh: ERROR: Unable to run BokehJS code because BokehJS library is missing\");\n",
       "        }\n",
       "      }\n",
       "    }, 10, root)\n",
       "  }\n",
       "})(window);"
      ],
      "application/vnd.bokehjs_exec.v0+json": ""
     },
     "metadata": {
      "application/vnd.bokehjs_exec.v0+json": {
       "id": "1712"
      }
     },
     "output_type": "display_data"
    }
   ],
   "source": [
    "fig = figure(title='hospitalizations trend',\n",
    "             x_axis_label='date',\n",
    "             y_axis_label='count',\n",
    "             width=800,\n",
    "             height=400,\n",
    "             x_axis_type='datetime')\n",
    "\n",
    "fig.line(df['only_data'],\n",
    "         df['ricoverati_con_sintomi'],\n",
    "         legend_label='hospitalized with symptoms', \n",
    "         color='red',\n",
    "         line_width=2)\n",
    "fig.line(df['only_data'],\n",
    "         df['terapia_intensiva'],\n",
    "         legend_label='intensive care unit', \n",
    "         color='blue',\n",
    "         line_width=2)\n",
    "\n",
    "# add the hover tool\n",
    "fig.add_tools(HoverTool(\n",
    "    tooltips=[('date', '@x{%F}'), ('count', '@y')],\n",
    "    formatters=dict(x='datetime')\n",
    "))\n",
    "fig.add_tools(PanTool(dimensions='width'))\n",
    "fig.legend.location = 'top_left'\n",
    "fig.x_range.start = df['only_data'].min()\n",
    "\n",
    "# show the figure\n",
    "show(fig)"
   ]
  },
  {
   "cell_type": "code",
   "execution_count": null,
   "metadata": {},
   "outputs": [],
   "source": []
  },
  {
   "cell_type": "markdown",
   "metadata": {},
   "source": [
    "## trend for regions"
   ]
  },
  {
   "cell_type": "code",
   "execution_count": 16,
   "metadata": {},
   "outputs": [],
   "source": [
    "reg_path = \"COVID-19/dati-regioni/dpc-covid19-ita-regioni-*.csv\""
   ]
  },
  {
   "cell_type": "code",
   "execution_count": 17,
   "metadata": {},
   "outputs": [],
   "source": [
    "df_reg = pd.concat(map(pd.read_csv, glob.glob(os.path.join('', f\"{reg_path}\"))))"
   ]
  },
  {
   "cell_type": "code",
   "execution_count": 18,
   "metadata": {},
   "outputs": [],
   "source": [
    "df_reg['only_data'] = pd.to_datetime(df_reg['data']).dt.date\n",
    "df_reg['week'] = pd.to_datetime(df_reg[\"data\"]).dt.strftime(\"%Y\")+\"_\"+pd.to_datetime(df_reg[\"data\"]).dt.strftime(\"%W\")"
   ]
  },
  {
   "cell_type": "code",
   "execution_count": 19,
   "metadata": {},
   "outputs": [],
   "source": [
    "new_infected_puglia = df_reg.query('only_data==@max_date & denominazione_regione==\"Puglia\"')['nuovi_positivi'].iloc[0]"
   ]
  },
  {
   "cell_type": "code",
   "execution_count": 20,
   "metadata": {},
   "outputs": [
    {
     "name": "stdout",
     "output_type": "stream",
     "text": [
      "new infected in Puglia for date 2021-05-05 are 1171\n"
     ]
    }
   ],
   "source": [
    "print(f'new infected in Puglia for date {max_date} are {new_infected_puglia}') "
   ]
  },
  {
   "cell_type": "markdown",
   "metadata": {},
   "source": [
    "This analysis is done for 'Puglia', 'Sicilia', 'Sardegna' regions..if you want to analyze other regions, put them in the below \"regioni\" list"
   ]
  },
  {
   "cell_type": "code",
   "execution_count": 21,
   "metadata": {},
   "outputs": [],
   "source": [
    "regioni = ['Puglia', 'Sicilia', 'Sardegna']\n",
    "colors = []\n",
    "n = named.__dict__\n",
    "all_colors = n['__all__']\n",
    "while len(colors) < (len(regioni)):\n",
    "    if choice(all_colors) not in colors:\n",
    "        colors.append(choice(all_colors))"
   ]
  },
  {
   "cell_type": "code",
   "execution_count": 22,
   "metadata": {},
   "outputs": [
    {
     "data": {
      "text/html": [
       "\n",
       "\n",
       "\n",
       "\n",
       "\n",
       "\n",
       "  <div class=\"bk-root\" id=\"3a917a96-5272-47b7-b4ca-2252965af295\" data-root-id=\"2019\"></div>\n"
      ]
     },
     "metadata": {},
     "output_type": "display_data"
    },
    {
     "data": {
      "application/javascript": [
       "(function(root) {\n",
       "  function embed_document(root) {\n",
       "    \n",
       "  var docs_json = {\"5176cdbc-524e-425d-819d-0124e27905fc\":{\"roots\":{\"references\":[{\"attributes\":{\"below\":[{\"id\":\"2030\",\"type\":\"DatetimeAxis\"}],\"center\":[{\"id\":\"2034\",\"type\":\"Grid\"},{\"id\":\"2039\",\"type\":\"Grid\"},{\"id\":\"2076\",\"type\":\"Legend\"}],\"left\":[{\"id\":\"2035\",\"type\":\"LinearAxis\"}],\"plot_height\":400,\"plot_width\":1000,\"renderers\":[{\"id\":\"2056\",\"type\":\"GlyphRenderer\"},{\"id\":\"2081\",\"type\":\"GlyphRenderer\"},{\"id\":\"2107\",\"type\":\"GlyphRenderer\"}],\"title\":{\"id\":\"2020\",\"type\":\"Title\"},\"toolbar\":{\"id\":\"2046\",\"type\":\"Toolbar\"},\"x_range\":{\"id\":\"2022\",\"type\":\"DataRange1d\"},\"x_scale\":{\"id\":\"2026\",\"type\":\"LinearScale\"},\"y_range\":{\"id\":\"2024\",\"type\":\"DataRange1d\"},\"y_scale\":{\"id\":\"2028\",\"type\":\"LinearScale\"}},\"id\":\"2019\",\"subtype\":\"Figure\",\"type\":\"Plot\"},{\"attributes\":{\"ticker\":{\"id\":\"2031\",\"type\":\"DatetimeTicker\"}},\"id\":\"2034\",\"type\":\"Grid\"},{\"attributes\":{\"days\":[1,8,15,22]},\"id\":\"2068\",\"type\":\"DaysTicker\"},{\"attributes\":{\"items\":[{\"id\":\"2077\",\"type\":\"LegendItem\"},{\"id\":\"2103\",\"type\":\"LegendItem\"},{\"id\":\"2131\",\"type\":\"LegendItem\"}],\"location\":\"top_left\"},\"id\":\"2076\",\"type\":\"Legend\"},{\"attributes\":{},\"id\":\"2041\",\"type\":\"WheelZoomTool\"},{\"attributes\":{\"line_color\":\"sandybrown\",\"line_width\":1.5,\"x\":{\"field\":\"x\"},\"y\":{\"field\":\"y\"}},\"id\":\"2105\",\"type\":\"Line\"},{\"attributes\":{\"line_alpha\":0.1,\"line_color\":\"#1f77b4\",\"line_width\":1.5,\"x\":{\"field\":\"x\"},\"y\":{\"field\":\"y\"}},\"id\":\"2055\",\"type\":\"Line\"},{\"attributes\":{\"data_source\":{\"id\":\"2053\",\"type\":\"ColumnDataSource\"},\"glyph\":{\"id\":\"2054\",\"type\":\"Line\"},\"hover_glyph\":null,\"muted_glyph\":null,\"nonselection_glyph\":{\"id\":\"2055\",\"type\":\"Line\"},\"selection_glyph\":null,\"view\":{\"id\":\"2057\",\"type\":\"CDSView\"}},\"id\":\"2056\",\"type\":\"GlyphRenderer\"},{\"attributes\":{\"label\":{\"value\":\"Sicilia\"},\"renderers\":[{\"id\":\"2081\",\"type\":\"GlyphRenderer\"}]},\"id\":\"2103\",\"type\":\"LegendItem\"},{\"attributes\":{\"label\":{\"value\":\"Sardegna\"},\"renderers\":[{\"id\":\"2107\",\"type\":\"GlyphRenderer\"}]},\"id\":\"2131\",\"type\":\"LegendItem\"},{\"attributes\":{},\"id\":\"2061\",\"type\":\"DatetimeTickFormatter\"},{\"attributes\":{\"num_minor_ticks\":5,\"tickers\":[{\"id\":\"2063\",\"type\":\"AdaptiveTicker\"},{\"id\":\"2064\",\"type\":\"AdaptiveTicker\"},{\"id\":\"2065\",\"type\":\"AdaptiveTicker\"},{\"id\":\"2066\",\"type\":\"DaysTicker\"},{\"id\":\"2067\",\"type\":\"DaysTicker\"},{\"id\":\"2068\",\"type\":\"DaysTicker\"},{\"id\":\"2069\",\"type\":\"DaysTicker\"},{\"id\":\"2070\",\"type\":\"MonthsTicker\"},{\"id\":\"2071\",\"type\":\"MonthsTicker\"},{\"id\":\"2072\",\"type\":\"MonthsTicker\"},{\"id\":\"2073\",\"type\":\"MonthsTicker\"},{\"id\":\"2074\",\"type\":\"YearsTicker\"}]},\"id\":\"2031\",\"type\":\"DatetimeTicker\"},{\"attributes\":{\"source\":{\"id\":\"2078\",\"type\":\"ColumnDataSource\"}},\"id\":\"2082\",\"type\":\"CDSView\"},{\"attributes\":{},\"id\":\"2044\",\"type\":\"ResetTool\"},{\"attributes\":{\"base\":24,\"mantissas\":[1,2,4,6,8,12],\"max_interval\":43200000.0,\"min_interval\":3600000.0,\"num_minor_ticks\":0},\"id\":\"2065\",\"type\":\"AdaptiveTicker\"},{\"attributes\":{},\"id\":\"2040\",\"type\":\"PanTool\"},{\"attributes\":{\"data_source\":{\"id\":\"2078\",\"type\":\"ColumnDataSource\"},\"glyph\":{\"id\":\"2079\",\"type\":\"Line\"},\"hover_glyph\":null,\"muted_glyph\":null,\"nonselection_glyph\":{\"id\":\"2080\",\"type\":\"Line\"},\"selection_glyph\":null,\"view\":{\"id\":\"2082\",\"type\":\"CDSView\"}},\"id\":\"2081\",\"type\":\"GlyphRenderer\"},{\"attributes\":{\"axis_label\":\"new infected\",\"formatter\":{\"id\":\"2059\",\"type\":\"BasicTickFormatter\"},\"ticker\":{\"id\":\"2036\",\"type\":\"BasicTicker\"}},\"id\":\"2035\",\"type\":\"LinearAxis\"},{\"attributes\":{},\"id\":\"2036\",\"type\":\"BasicTicker\"},{\"attributes\":{\"callback\":null,\"start\":1582502400000.0},\"id\":\"2022\",\"type\":\"DataRange1d\"},{\"attributes\":{\"bottom_units\":\"screen\",\"fill_alpha\":{\"value\":0.5},\"fill_color\":{\"value\":\"lightgrey\"},\"left_units\":\"screen\",\"level\":\"overlay\",\"line_alpha\":{\"value\":1.0},\"line_color\":{\"value\":\"black\"},\"line_dash\":[4,4],\"line_width\":{\"value\":2},\"render_mode\":\"css\",\"right_units\":\"screen\",\"top_units\":\"screen\"},\"id\":\"2075\",\"type\":\"BoxAnnotation\"},{\"attributes\":{\"dimension\":1,\"ticker\":{\"id\":\"2036\",\"type\":\"BasicTicker\"}},\"id\":\"2039\",\"type\":\"Grid\"},{\"attributes\":{},\"id\":\"2026\",\"type\":\"LinearScale\"},{\"attributes\":{\"axis_label\":\"date\",\"formatter\":{\"id\":\"2061\",\"type\":\"DatetimeTickFormatter\"},\"ticker\":{\"id\":\"2031\",\"type\":\"DatetimeTicker\"}},\"id\":\"2030\",\"type\":\"DatetimeAxis\"},{\"attributes\":{\"source\":{\"id\":\"2053\",\"type\":\"ColumnDataSource\"}},\"id\":\"2057\",\"type\":\"CDSView\"},{\"attributes\":{},\"id\":\"2045\",\"type\":\"HelpTool\"},{\"attributes\":{\"text\":\"new daily infected for some regions\"},\"id\":\"2020\",\"type\":\"Title\"},{\"attributes\":{\"months\":[0,4,8]},\"id\":\"2072\",\"type\":\"MonthsTicker\"},{\"attributes\":{\"base\":60,\"mantissas\":[1,2,5,10,15,20,30],\"max_interval\":1800000.0,\"min_interval\":1000.0,\"num_minor_ticks\":0},\"id\":\"2064\",\"type\":\"AdaptiveTicker\"},{\"attributes\":{\"line_color\":\"limegreen\",\"line_width\":1.5,\"x\":{\"field\":\"x\"},\"y\":{\"field\":\"y\"}},\"id\":\"2054\",\"type\":\"Line\"},{\"attributes\":{\"line_alpha\":0.1,\"line_color\":\"#1f77b4\",\"line_width\":1.5,\"x\":{\"field\":\"x\"},\"y\":{\"field\":\"y\"}},\"id\":\"2106\",\"type\":\"Line\"},{\"attributes\":{},\"id\":\"2244\",\"type\":\"UnionRenderers\"},{\"attributes\":{\"callback\":null,\"data\":{\"x\":[1582502400000.0,1582588800000.0,1582675200000.0,1582761600000.0,1582848000000.0,1582934400000.0,1583020800000.0,1583107200000.0,1583193600000.0,1583280000000.0,1583366400000.0,1583452800000.0,1583539200000.0,1583625600000.0,1583712000000.0,1583798400000.0,1583884800000.0,1583971200000.0,1584057600000.0,1584144000000.0,1584230400000.0,1584316800000.0,1584403200000.0,1584489600000.0,1584576000000.0,1584662400000.0,1584748800000.0,1584835200000.0,1584921600000.0,1585008000000.0,1585094400000.0,1585180800000.0,1585267200000.0,1585353600000.0,1585440000000.0,1585526400000.0,1585612800000.0,1585699200000.0,1585785600000.0,1585872000000.0,1585958400000.0,1586044800000.0,1586131200000.0,1586217600000.0,1586304000000.0,1586390400000.0,1586476800000.0,1586563200000.0,1586649600000.0,1586736000000.0,1586822400000.0,1586908800000.0,1586995200000.0,1587081600000.0,1587168000000.0,1587254400000.0,1587340800000.0,1587427200000.0,1587513600000.0,1587600000000.0,1587686400000.0,1587772800000.0,1587859200000.0,1587945600000.0,1588032000000.0,1588118400000.0,1588204800000.0,1588291200000.0,1588377600000.0,1588464000000.0,1588550400000.0,1588636800000.0,1588723200000.0,1588809600000.0,1588896000000.0,1588982400000.0,1589068800000.0,1589155200000.0,1589241600000.0,1589328000000.0,1589414400000.0,1589500800000.0,1589587200000.0,1589673600000.0,1589760000000.0,1589846400000.0,1589932800000.0,1590019200000.0,1590105600000.0,1590192000000.0,1590278400000.0,1590364800000.0,1590451200000.0,1590537600000.0,1590624000000.0,1590710400000.0,1590796800000.0,1590883200000.0,1590969600000.0,1591056000000.0,1591142400000.0,1591228800000.0,1591315200000.0,1591401600000.0,1591488000000.0,1591574400000.0,1591660800000.0,1591747200000.0,1591833600000.0,1591920000000.0,1592006400000.0,1592092800000.0,1592179200000.0,1592265600000.0,1592352000000.0,1592438400000.0,1592524800000.0,1592611200000.0,1592697600000.0,1592784000000.0,1592870400000.0,1592956800000.0,1593043200000.0,1593129600000.0,1593216000000.0,1593302400000.0,1593388800000.0,1593475200000.0,1593561600000.0,1593648000000.0,1593734400000.0,1593820800000.0,1593907200000.0,1593993600000.0,1594080000000.0,1594166400000.0,1594252800000.0,1594339200000.0,1594425600000.0,1594512000000.0,1594598400000.0,1594684800000.0,1594771200000.0,1594857600000.0,1594944000000.0,1595030400000.0,1595116800000.0,1595203200000.0,1595289600000.0,1595376000000.0,1595462400000.0,1595548800000.0,1595635200000.0,1595721600000.0,1595808000000.0,1595894400000.0,1595980800000.0,1596067200000.0,1596153600000.0,1596240000000.0,1596326400000.0,1596412800000.0,1596499200000.0,1596585600000.0,1596672000000.0,1596758400000.0,1596844800000.0,1596931200000.0,1597017600000.0,1597104000000.0,1597190400000.0,1597276800000.0,1597363200000.0,1597449600000.0,1597536000000.0,1597622400000.0,1597708800000.0,1597795200000.0,1597881600000.0,1597968000000.0,1598054400000.0,1598140800000.0,1598227200000.0,1598313600000.0,1598400000000.0,1598486400000.0,1598572800000.0,1598659200000.0,1598745600000.0,1598832000000.0,1598918400000.0,1599004800000.0,1599091200000.0,1599177600000.0,1599264000000.0,1599350400000.0,1599436800000.0,1599523200000.0,1599609600000.0,1599696000000.0,1599782400000.0,1599868800000.0,1599955200000.0,1600041600000.0,1600128000000.0,1600214400000.0,1600300800000.0,1600387200000.0,1600473600000.0,1600560000000.0,1600646400000.0,1600732800000.0,1600819200000.0,1600905600000.0,1600992000000.0,1601078400000.0,1601164800000.0,1601251200000.0,1601337600000.0,1601424000000.0,1601510400000.0,1601596800000.0,1601683200000.0,1601769600000.0,1601856000000.0,1601942400000.0,1602028800000.0,1602115200000.0,1602201600000.0,1602288000000.0,1602374400000.0,1602460800000.0,1602547200000.0,1602633600000.0,1602720000000.0,1602806400000.0,1602892800000.0,1602979200000.0,1603065600000.0,1603152000000.0,1603238400000.0,1603324800000.0,1603411200000.0,1603497600000.0,1603584000000.0,1603670400000.0,1603756800000.0,1603843200000.0,1603929600000.0,1604016000000.0,1604102400000.0,1604188800000.0,1604275200000.0,1604361600000.0,1604448000000.0,1604534400000.0,1604620800000.0,1604707200000.0,1604793600000.0,1604880000000.0,1604966400000.0,1605052800000.0,1605139200000.0,1605225600000.0,1605312000000.0,1605398400000.0,1605484800000.0,1605571200000.0,1605657600000.0,1605744000000.0,1605830400000.0,1605916800000.0,1606003200000.0,1606089600000.0,1606176000000.0,1606262400000.0,1606348800000.0,1606435200000.0,1606521600000.0,1606608000000.0,1606694400000.0,1606780800000.0,1606867200000.0,1606953600000.0,1607040000000.0,1607126400000.0,1607212800000.0,1607299200000.0,1607385600000.0,1607472000000.0,1607558400000.0,1607644800000.0,1607731200000.0,1607817600000.0,1607904000000.0,1607990400000.0,1608076800000.0,1608163200000.0,1608249600000.0,1608336000000.0,1608422400000.0,1608508800000.0,1608595200000.0,1608681600000.0,1608768000000.0,1608854400000.0,1608940800000.0,1609027200000.0,1609113600000.0,1609200000000.0,1609286400000.0,1609372800000.0,1609459200000.0,1609545600000.0,1609632000000.0,1609718400000.0,1609804800000.0,1609891200000.0,1609977600000.0,1610064000000.0,1610150400000.0,1610236800000.0,1610323200000.0,1610409600000.0,1610496000000.0,1610582400000.0,1610668800000.0,1610755200000.0,1610841600000.0,1610928000000.0,1611014400000.0,1611100800000.0,1611187200000.0,1611273600000.0,1611360000000.0,1611446400000.0,1611532800000.0,1611619200000.0,1611705600000.0,1611792000000.0,1611878400000.0,1611964800000.0,1612051200000.0,1612137600000.0,1612224000000.0,1612310400000.0,1612396800000.0,1612483200000.0,1612569600000.0,1612656000000.0,1612742400000.0,1612828800000.0,1612915200000.0,1613001600000.0,1613088000000.0,1613174400000.0,1613260800000.0,1613347200000.0,1613433600000.0,1613520000000.0,1613606400000.0,1613692800000.0,1613779200000.0,1613865600000.0,1613952000000.0,1614038400000.0,1614124800000.0,1614211200000.0,1614297600000.0,1614384000000.0,1614470400000.0,1614556800000.0,1614643200000.0,1614729600000.0,1614816000000.0,1614902400000.0,1614988800000.0,1615075200000.0,1615161600000.0,1615248000000.0,1615334400000.0,1615420800000.0,1615507200000.0,1615593600000.0,1615680000000.0,1615766400000.0,1615852800000.0,1615939200000.0,1616025600000.0,1616112000000.0,1616198400000.0,1616284800000.0,1616371200000.0,1616457600000.0,1616544000000.0,1616630400000.0,1616716800000.0,1616803200000.0,1616889600000.0,1616976000000.0,1617062400000.0,1617148800000.0,1617235200000.0,1617321600000.0,1617408000000.0,1617494400000.0,1617580800000.0,1617667200000.0,1617753600000.0,1617840000000.0,1617926400000.0,1618012800000.0,1618099200000.0,1618185600000.0,1618272000000.0,1618358400000.0,1618444800000.0,1618531200000.0,1618617600000.0,1618704000000.0,1618790400000.0,1618876800000.0,1618963200000.0,1619049600000.0,1619136000000.0,1619222400000.0,1619308800000.0,1619395200000.0,1619481600000.0,1619568000000.0,1619654400000.0,1619740800000.0,1619827200000.0,1619913600000.0,1620000000000.0,1620086400000.0,1620172800000.0,1620172800000.0],\"y\":[0,0,0,1,2,0,0,1,2,3,5,3,9,14,10,9,18,27,25,37,64,0,110,43,95,103,94,111,120,99,88,89,152,124,91,163,91,143,131,105,58,77,127,70,120,82,93,95,85,76,53,66,74,69,82,120,38,55,108,109,42,31,36,10,22,49,43,27,34,11,9,17,26,49,11,30,27,14,10,11,9,9,8,5,7,10,11,6,27,8,10,9,2,10,2,1,8,4,4,0,1,4,4,4,0,1,0,0,1,2,0,0,1,0,0,3,1,5,2,0,2,0,1,1,0,0,0,0,0,0,3,3,0,0,0,1,0,4,1,0,0,0,0,1,5,3,7,0,0,0,9,13,8,3,3,4,10,3,2,20,8,9,7,23,7,11,9,9,26,20,33,16,12,22,15,4,20,33,20,35,22,33,45,49,51,47,51,65,69,38,39,67,78,117,55,60,43,143,97,70,82,76,82,61,76,103,63,84,108,50,81,67,89,73,90,51,76,90,76,99,114,72,111,151,83,106,196,248,249,184,212,157,180,315,257,313,350,301,321,295,324,485,590,631,515,424,611,772,716,791,762,680,626,1163,994,850,946,1054,766,730,1245,1332,1434,1350,1741,905,1044,1234,1368,1263,1456,1377,1327,980,1567,1511,1436,1737,1573,907,1102,1659,1668,1602,1419,1884,1789,1001,915,917,1332,1813,1478,1175,656,1023,1388,1073,1314,1382,791,788,876,942,1458,1011,544,221,645,749,1470,1661,1395,344,950,631,1081,1581,657,1349,1499,1162,622,1261,1082,1524,1295,1123,908,403,850,1159,1275,1018,1023,954,401,995,1233,1159,1069,871,1069,379,879,1044,975,1215,926,765,377,681,1063,1248,1020,945,732,345,694,883,844,874,905,758,343,823,991,1154,1104,1123,1053,631,1021,1261,1438,1418,1483,1155,594,1286,1571,1634,1774,1700,1542,715,1126,1734,2082,1785,1983,1546,844,1664,1709,2033,2162,2008,1788,786,1527,1962,2369,2044,2142,1628,677,475,1255,1974,1791,1804,1359,815,1191,1488,1867,1537,1525,1278,584,1180,1141,1895,1692,1255,1203,477,1056,1282,1501,1344,1130,810,335,1028,1171,1171]},\"selected\":{\"id\":\"2100\",\"type\":\"Selection\"},\"selection_policy\":{\"id\":\"2101\",\"type\":\"UnionRenderers\"}},\"id\":\"2053\",\"type\":\"ColumnDataSource\"},{\"attributes\":{\"source\":{\"id\":\"2104\",\"type\":\"ColumnDataSource\"}},\"id\":\"2108\",\"type\":\"CDSView\"},{\"attributes\":{\"mantissas\":[1,2,5],\"max_interval\":500.0,\"num_minor_ticks\":0},\"id\":\"2063\",\"type\":\"AdaptiveTicker\"},{\"attributes\":{\"data_source\":{\"id\":\"2104\",\"type\":\"ColumnDataSource\"},\"glyph\":{\"id\":\"2105\",\"type\":\"Line\"},\"hover_glyph\":null,\"muted_glyph\":null,\"nonselection_glyph\":{\"id\":\"2106\",\"type\":\"Line\"},\"selection_glyph\":null,\"view\":{\"id\":\"2108\",\"type\":\"CDSView\"}},\"id\":\"2107\",\"type\":\"GlyphRenderer\"},{\"attributes\":{},\"id\":\"2059\",\"type\":\"BasicTickFormatter\"},{\"attributes\":{},\"id\":\"2243\",\"type\":\"Selection\"},{\"attributes\":{\"days\":[1,2,3,4,5,6,7,8,9,10,11,12,13,14,15,16,17,18,19,20,21,22,23,24,25,26,27,28,29,30,31]},\"id\":\"2066\",\"type\":\"DaysTicker\"},{\"attributes\":{\"days\":[1,15]},\"id\":\"2069\",\"type\":\"DaysTicker\"},{\"attributes\":{\"dimensions\":\"width\"},\"id\":\"2134\",\"type\":\"PanTool\"},{\"attributes\":{\"line_alpha\":0.1,\"line_color\":\"#1f77b4\",\"line_width\":1.5,\"x\":{\"field\":\"x\"},\"y\":{\"field\":\"y\"}},\"id\":\"2080\",\"type\":\"Line\"},{\"attributes\":{\"overlay\":{\"id\":\"2075\",\"type\":\"BoxAnnotation\"}},\"id\":\"2042\",\"type\":\"BoxZoomTool\"},{\"attributes\":{\"active_drag\":\"auto\",\"active_inspect\":\"auto\",\"active_multi\":null,\"active_scroll\":\"auto\",\"active_tap\":\"auto\",\"tools\":[{\"id\":\"2040\",\"type\":\"PanTool\"},{\"id\":\"2041\",\"type\":\"WheelZoomTool\"},{\"id\":\"2042\",\"type\":\"BoxZoomTool\"},{\"id\":\"2043\",\"type\":\"SaveTool\"},{\"id\":\"2044\",\"type\":\"ResetTool\"},{\"id\":\"2045\",\"type\":\"HelpTool\"},{\"id\":\"2132\",\"type\":\"HoverTool\"},{\"id\":\"2134\",\"type\":\"PanTool\"}]},\"id\":\"2046\",\"type\":\"Toolbar\"},{\"attributes\":{\"months\":[0,6]},\"id\":\"2073\",\"type\":\"MonthsTicker\"},{\"attributes\":{},\"id\":\"2043\",\"type\":\"SaveTool\"},{\"attributes\":{\"days\":[1,4,7,10,13,16,19,22,25,28]},\"id\":\"2067\",\"type\":\"DaysTicker\"},{\"attributes\":{\"callback\":null,\"formatters\":{\"x\":\"datetime\"},\"tooltips\":[[\"data\",\"@x{%F}\"],[\"new infected\",\"@y\"]]},\"id\":\"2132\",\"type\":\"HoverTool\"},{\"attributes\":{\"months\":[0,1,2,3,4,5,6,7,8,9,10,11]},\"id\":\"2070\",\"type\":\"MonthsTicker\"},{\"attributes\":{\"callback\":null,\"data\":{\"x\":[1582502400000.0,1582588800000.0,1582675200000.0,1582761600000.0,1582848000000.0,1582934400000.0,1583020800000.0,1583107200000.0,1583193600000.0,1583280000000.0,1583366400000.0,1583452800000.0,1583539200000.0,1583625600000.0,1583712000000.0,1583798400000.0,1583884800000.0,1583971200000.0,1584057600000.0,1584144000000.0,1584230400000.0,1584316800000.0,1584403200000.0,1584489600000.0,1584576000000.0,1584662400000.0,1584748800000.0,1584835200000.0,1584921600000.0,1585008000000.0,1585094400000.0,1585180800000.0,1585267200000.0,1585353600000.0,1585440000000.0,1585526400000.0,1585612800000.0,1585699200000.0,1585785600000.0,1585872000000.0,1585958400000.0,1586044800000.0,1586131200000.0,1586217600000.0,1586304000000.0,1586390400000.0,1586476800000.0,1586563200000.0,1586649600000.0,1586736000000.0,1586822400000.0,1586908800000.0,1586995200000.0,1587081600000.0,1587168000000.0,1587254400000.0,1587340800000.0,1587427200000.0,1587513600000.0,1587600000000.0,1587686400000.0,1587772800000.0,1587859200000.0,1587945600000.0,1588032000000.0,1588118400000.0,1588204800000.0,1588291200000.0,1588377600000.0,1588464000000.0,1588550400000.0,1588636800000.0,1588723200000.0,1588809600000.0,1588896000000.0,1588982400000.0,1589068800000.0,1589155200000.0,1589241600000.0,1589328000000.0,1589414400000.0,1589500800000.0,1589587200000.0,1589673600000.0,1589760000000.0,1589846400000.0,1589932800000.0,1590019200000.0,1590105600000.0,1590192000000.0,1590278400000.0,1590364800000.0,1590451200000.0,1590537600000.0,1590624000000.0,1590710400000.0,1590796800000.0,1590883200000.0,1590969600000.0,1591056000000.0,1591142400000.0,1591228800000.0,1591315200000.0,1591401600000.0,1591488000000.0,1591574400000.0,1591660800000.0,1591747200000.0,1591833600000.0,1591920000000.0,1592006400000.0,1592092800000.0,1592179200000.0,1592265600000.0,1592352000000.0,1592438400000.0,1592524800000.0,1592611200000.0,1592697600000.0,1592784000000.0,1592870400000.0,1592956800000.0,1593043200000.0,1593129600000.0,1593216000000.0,1593302400000.0,1593388800000.0,1593475200000.0,1593561600000.0,1593648000000.0,1593734400000.0,1593820800000.0,1593907200000.0,1593993600000.0,1594080000000.0,1594166400000.0,1594252800000.0,1594339200000.0,1594425600000.0,1594512000000.0,1594598400000.0,1594684800000.0,1594771200000.0,1594857600000.0,1594944000000.0,1595030400000.0,1595116800000.0,1595203200000.0,1595289600000.0,1595376000000.0,1595462400000.0,1595548800000.0,1595635200000.0,1595721600000.0,1595808000000.0,1595894400000.0,1595980800000.0,1596067200000.0,1596153600000.0,1596240000000.0,1596326400000.0,1596412800000.0,1596499200000.0,1596585600000.0,1596672000000.0,1596758400000.0,1596844800000.0,1596931200000.0,1597017600000.0,1597104000000.0,1597190400000.0,1597276800000.0,1597363200000.0,1597449600000.0,1597536000000.0,1597622400000.0,1597708800000.0,1597795200000.0,1597881600000.0,1597968000000.0,1598054400000.0,1598140800000.0,1598227200000.0,1598313600000.0,1598400000000.0,1598486400000.0,1598572800000.0,1598659200000.0,1598745600000.0,1598832000000.0,1598918400000.0,1599004800000.0,1599091200000.0,1599177600000.0,1599264000000.0,1599350400000.0,1599436800000.0,1599523200000.0,1599609600000.0,1599696000000.0,1599782400000.0,1599868800000.0,1599955200000.0,1600041600000.0,1600128000000.0,1600214400000.0,1600300800000.0,1600387200000.0,1600473600000.0,1600560000000.0,1600646400000.0,1600732800000.0,1600819200000.0,1600905600000.0,1600992000000.0,1601078400000.0,1601164800000.0,1601251200000.0,1601337600000.0,1601424000000.0,1601510400000.0,1601596800000.0,1601683200000.0,1601769600000.0,1601856000000.0,1601942400000.0,1602028800000.0,1602115200000.0,1602201600000.0,1602288000000.0,1602374400000.0,1602460800000.0,1602547200000.0,1602633600000.0,1602720000000.0,1602806400000.0,1602892800000.0,1602979200000.0,1603065600000.0,1603152000000.0,1603238400000.0,1603324800000.0,1603411200000.0,1603497600000.0,1603584000000.0,1603670400000.0,1603756800000.0,1603843200000.0,1603929600000.0,1604016000000.0,1604102400000.0,1604188800000.0,1604275200000.0,1604361600000.0,1604448000000.0,1604534400000.0,1604620800000.0,1604707200000.0,1604793600000.0,1604880000000.0,1604966400000.0,1605052800000.0,1605139200000.0,1605225600000.0,1605312000000.0,1605398400000.0,1605484800000.0,1605571200000.0,1605657600000.0,1605744000000.0,1605830400000.0,1605916800000.0,1606003200000.0,1606089600000.0,1606176000000.0,1606262400000.0,1606348800000.0,1606435200000.0,1606521600000.0,1606608000000.0,1606694400000.0,1606780800000.0,1606867200000.0,1606953600000.0,1607040000000.0,1607126400000.0,1607212800000.0,1607299200000.0,1607385600000.0,1607472000000.0,1607558400000.0,1607644800000.0,1607731200000.0,1607817600000.0,1607904000000.0,1607990400000.0,1608076800000.0,1608163200000.0,1608249600000.0,1608336000000.0,1608422400000.0,1608508800000.0,1608595200000.0,1608681600000.0,1608768000000.0,1608854400000.0,1608940800000.0,1609027200000.0,1609113600000.0,1609200000000.0,1609286400000.0,1609372800000.0,1609459200000.0,1609545600000.0,1609632000000.0,1609718400000.0,1609804800000.0,1609891200000.0,1609977600000.0,1610064000000.0,1610150400000.0,1610236800000.0,1610323200000.0,1610409600000.0,1610496000000.0,1610582400000.0,1610668800000.0,1610755200000.0,1610841600000.0,1610928000000.0,1611014400000.0,1611100800000.0,1611187200000.0,1611273600000.0,1611360000000.0,1611446400000.0,1611532800000.0,1611619200000.0,1611705600000.0,1611792000000.0,1611878400000.0,1611964800000.0,1612051200000.0,1612137600000.0,1612224000000.0,1612310400000.0,1612396800000.0,1612483200000.0,1612569600000.0,1612656000000.0,1612742400000.0,1612828800000.0,1612915200000.0,1613001600000.0,1613088000000.0,1613174400000.0,1613260800000.0,1613347200000.0,1613433600000.0,1613520000000.0,1613606400000.0,1613692800000.0,1613779200000.0,1613865600000.0,1613952000000.0,1614038400000.0,1614124800000.0,1614211200000.0,1614297600000.0,1614384000000.0,1614470400000.0,1614556800000.0,1614643200000.0,1614729600000.0,1614816000000.0,1614902400000.0,1614988800000.0,1615075200000.0,1615161600000.0,1615248000000.0,1615334400000.0,1615420800000.0,1615507200000.0,1615593600000.0,1615680000000.0,1615766400000.0,1615852800000.0,1615939200000.0,1616025600000.0,1616112000000.0,1616198400000.0,1616284800000.0,1616371200000.0,1616457600000.0,1616544000000.0,1616630400000.0,1616716800000.0,1616803200000.0,1616889600000.0,1616976000000.0,1617062400000.0,1617148800000.0,1617235200000.0,1617321600000.0,1617408000000.0,1617494400000.0,1617580800000.0,1617667200000.0,1617753600000.0,1617840000000.0,1617926400000.0,1618012800000.0,1618099200000.0,1618185600000.0,1618272000000.0,1618358400000.0,1618444800000.0,1618531200000.0,1618617600000.0,1618704000000.0,1618790400000.0,1618876800000.0,1618963200000.0,1619049600000.0,1619136000000.0,1619222400000.0,1619308800000.0,1619395200000.0,1619481600000.0,1619568000000.0,1619654400000.0,1619740800000.0,1619827200000.0,1619913600000.0,1620000000000.0,1620086400000.0,1620172800000.0,1620172800000.0],\"y\":[0,0,0,0,0,0,0,0,1,1,0,3,0,6,8,1,17,2,4,4,30,30,10,17,72,87,37,9,20,62,21,52,36,94,14,44,40,23,49,31,49,33,15,13,40,51,37,28,22,15,10,23,3,14,20,17,13,8,11,7,3,14,9,3,2,5,5,18,2,4,-2,1,1,5,6,4,6,3,1,1,0,3,4,1,0,1,1,1,0,0,0,-2,0,1,0,1,0,0,1,0,0,0,2,3,0,0,-1,0,1,1,0,0,0,2,1,1,1,1,0,0,0,1,1,0,1,1,0,2,0,2,1,0,1,1,0,0,0,1,0,0,1,1,2,1,0,1,1,0,0,1,2,3,3,0,0,6,2,0,10,6,4,2,2,9,3,3,0,6,2,20,1,17,5,5,5,7,12,37,23,42,44,81,91,34,53,57,55,70,22,79,50,73,39,66,65,19,59,51,47,63,65,51,33,54,36,27,51,66,59,72,64,53,49,66,57,63,139,37,82,51,96,60,62,111,88,63,101,127,134,124,143,129,157,122,186,133,130,230,159,221,167,243,349,329,195,231,174,362,282,298,325,399,324,302,184,413,359,425,424,327,489,416,301,623,396,370,411,502,422,479,581,511,404,505,290,351,405,375,311,416,329,420,445,538,551,464,293,366,226,253,248,198,168,633,228,231,405,268,285,380,311,297,184,269,331,409,173,96,156,116,328,368,365,189,194,177,232,335,340,243,305,301,231,411,233,275,260,368,202,136,109,216,238,212,191,175,207,138,251,237,257,229,167,123,71,143,205,169,125,154,56,81,161,125,87,87,83,56,66,109,100,44,73,33,77,47,65,80,70,87,77,45,70,101,81,89,73,95,68,146,65,128,106,103,118,74,79,92,121,134,102,176,161,159,153,211,178,287,284,164,205,444,351,473,328,323,261,128,263,305,380,425,369,307,327,502,279,348,320,351,199,271,303,328,267,254,290,135,199,264,207,247,184,124,61,104,166,166]},\"selected\":{\"id\":\"2243\",\"type\":\"Selection\"},\"selection_policy\":{\"id\":\"2244\",\"type\":\"UnionRenderers\"}},\"id\":\"2104\",\"type\":\"ColumnDataSource\"},{\"attributes\":{},\"id\":\"2028\",\"type\":\"LinearScale\"},{\"attributes\":{},\"id\":\"2101\",\"type\":\"UnionRenderers\"},{\"attributes\":{\"label\":{\"value\":\"Puglia\"},\"renderers\":[{\"id\":\"2056\",\"type\":\"GlyphRenderer\"}]},\"id\":\"2077\",\"type\":\"LegendItem\"},{\"attributes\":{\"months\":[0,2,4,6,8,10]},\"id\":\"2071\",\"type\":\"MonthsTicker\"},{\"attributes\":{},\"id\":\"2100\",\"type\":\"Selection\"},{\"attributes\":{},\"id\":\"2128\",\"type\":\"Selection\"},{\"attributes\":{},\"id\":\"2129\",\"type\":\"UnionRenderers\"},{\"attributes\":{},\"id\":\"2074\",\"type\":\"YearsTicker\"},{\"attributes\":{\"callback\":null,\"data\":{\"x\":[1582502400000.0,1582588800000.0,1582675200000.0,1582761600000.0,1582848000000.0,1582934400000.0,1583020800000.0,1583107200000.0,1583193600000.0,1583280000000.0,1583366400000.0,1583452800000.0,1583539200000.0,1583625600000.0,1583712000000.0,1583798400000.0,1583884800000.0,1583971200000.0,1584057600000.0,1584144000000.0,1584230400000.0,1584316800000.0,1584403200000.0,1584489600000.0,1584576000000.0,1584662400000.0,1584748800000.0,1584835200000.0,1584921600000.0,1585008000000.0,1585094400000.0,1585180800000.0,1585267200000.0,1585353600000.0,1585440000000.0,1585526400000.0,1585612800000.0,1585699200000.0,1585785600000.0,1585872000000.0,1585958400000.0,1586044800000.0,1586131200000.0,1586217600000.0,1586304000000.0,1586390400000.0,1586476800000.0,1586563200000.0,1586649600000.0,1586736000000.0,1586822400000.0,1586908800000.0,1586995200000.0,1587081600000.0,1587168000000.0,1587254400000.0,1587340800000.0,1587427200000.0,1587513600000.0,1587600000000.0,1587686400000.0,1587772800000.0,1587859200000.0,1587945600000.0,1588032000000.0,1588118400000.0,1588204800000.0,1588291200000.0,1588377600000.0,1588464000000.0,1588550400000.0,1588636800000.0,1588723200000.0,1588809600000.0,1588896000000.0,1588982400000.0,1589068800000.0,1589155200000.0,1589241600000.0,1589328000000.0,1589414400000.0,1589500800000.0,1589587200000.0,1589673600000.0,1589760000000.0,1589846400000.0,1589932800000.0,1590019200000.0,1590105600000.0,1590192000000.0,1590278400000.0,1590364800000.0,1590451200000.0,1590537600000.0,1590624000000.0,1590710400000.0,1590796800000.0,1590883200000.0,1590969600000.0,1591056000000.0,1591142400000.0,1591228800000.0,1591315200000.0,1591401600000.0,1591488000000.0,1591574400000.0,1591660800000.0,1591747200000.0,1591833600000.0,1591920000000.0,1592006400000.0,1592092800000.0,1592179200000.0,1592265600000.0,1592352000000.0,1592438400000.0,1592524800000.0,1592611200000.0,1592697600000.0,1592784000000.0,1592870400000.0,1592956800000.0,1593043200000.0,1593129600000.0,1593216000000.0,1593302400000.0,1593388800000.0,1593475200000.0,1593561600000.0,1593648000000.0,1593734400000.0,1593820800000.0,1593907200000.0,1593993600000.0,1594080000000.0,1594166400000.0,1594252800000.0,1594339200000.0,1594425600000.0,1594512000000.0,1594598400000.0,1594684800000.0,1594771200000.0,1594857600000.0,1594944000000.0,1595030400000.0,1595116800000.0,1595203200000.0,1595289600000.0,1595376000000.0,1595462400000.0,1595548800000.0,1595635200000.0,1595721600000.0,1595808000000.0,1595894400000.0,1595980800000.0,1596067200000.0,1596153600000.0,1596240000000.0,1596326400000.0,1596412800000.0,1596499200000.0,1596585600000.0,1596672000000.0,1596758400000.0,1596844800000.0,1596931200000.0,1597017600000.0,1597104000000.0,1597190400000.0,1597276800000.0,1597363200000.0,1597449600000.0,1597536000000.0,1597622400000.0,1597708800000.0,1597795200000.0,1597881600000.0,1597968000000.0,1598054400000.0,1598140800000.0,1598227200000.0,1598313600000.0,1598400000000.0,1598486400000.0,1598572800000.0,1598659200000.0,1598745600000.0,1598832000000.0,1598918400000.0,1599004800000.0,1599091200000.0,1599177600000.0,1599264000000.0,1599350400000.0,1599436800000.0,1599523200000.0,1599609600000.0,1599696000000.0,1599782400000.0,1599868800000.0,1599955200000.0,1600041600000.0,1600128000000.0,1600214400000.0,1600300800000.0,1600387200000.0,1600473600000.0,1600560000000.0,1600646400000.0,1600732800000.0,1600819200000.0,1600905600000.0,1600992000000.0,1601078400000.0,1601164800000.0,1601251200000.0,1601337600000.0,1601424000000.0,1601510400000.0,1601596800000.0,1601683200000.0,1601769600000.0,1601856000000.0,1601942400000.0,1602028800000.0,1602115200000.0,1602201600000.0,1602288000000.0,1602374400000.0,1602460800000.0,1602547200000.0,1602633600000.0,1602720000000.0,1602806400000.0,1602892800000.0,1602979200000.0,1603065600000.0,1603152000000.0,1603238400000.0,1603324800000.0,1603411200000.0,1603497600000.0,1603584000000.0,1603670400000.0,1603756800000.0,1603843200000.0,1603929600000.0,1604016000000.0,1604102400000.0,1604188800000.0,1604275200000.0,1604361600000.0,1604448000000.0,1604534400000.0,1604620800000.0,1604707200000.0,1604793600000.0,1604880000000.0,1604966400000.0,1605052800000.0,1605139200000.0,1605225600000.0,1605312000000.0,1605398400000.0,1605484800000.0,1605571200000.0,1605657600000.0,1605744000000.0,1605830400000.0,1605916800000.0,1606003200000.0,1606089600000.0,1606176000000.0,1606262400000.0,1606348800000.0,1606435200000.0,1606521600000.0,1606608000000.0,1606694400000.0,1606780800000.0,1606867200000.0,1606953600000.0,1607040000000.0,1607126400000.0,1607212800000.0,1607299200000.0,1607385600000.0,1607472000000.0,1607558400000.0,1607644800000.0,1607731200000.0,1607817600000.0,1607904000000.0,1607990400000.0,1608076800000.0,1608163200000.0,1608249600000.0,1608336000000.0,1608422400000.0,1608508800000.0,1608595200000.0,1608681600000.0,1608768000000.0,1608854400000.0,1608940800000.0,1609027200000.0,1609113600000.0,1609200000000.0,1609286400000.0,1609372800000.0,1609459200000.0,1609545600000.0,1609632000000.0,1609718400000.0,1609804800000.0,1609891200000.0,1609977600000.0,1610064000000.0,1610150400000.0,1610236800000.0,1610323200000.0,1610409600000.0,1610496000000.0,1610582400000.0,1610668800000.0,1610755200000.0,1610841600000.0,1610928000000.0,1611014400000.0,1611100800000.0,1611187200000.0,1611273600000.0,1611360000000.0,1611446400000.0,1611532800000.0,1611619200000.0,1611705600000.0,1611792000000.0,1611878400000.0,1611964800000.0,1612051200000.0,1612137600000.0,1612224000000.0,1612310400000.0,1612396800000.0,1612483200000.0,1612569600000.0,1612656000000.0,1612742400000.0,1612828800000.0,1612915200000.0,1613001600000.0,1613088000000.0,1613174400000.0,1613260800000.0,1613347200000.0,1613433600000.0,1613520000000.0,1613606400000.0,1613692800000.0,1613779200000.0,1613865600000.0,1613952000000.0,1614038400000.0,1614124800000.0,1614211200000.0,1614297600000.0,1614384000000.0,1614470400000.0,1614556800000.0,1614643200000.0,1614729600000.0,1614816000000.0,1614902400000.0,1614988800000.0,1615075200000.0,1615161600000.0,1615248000000.0,1615334400000.0,1615420800000.0,1615507200000.0,1615593600000.0,1615680000000.0,1615766400000.0,1615852800000.0,1615939200000.0,1616025600000.0,1616112000000.0,1616198400000.0,1616284800000.0,1616371200000.0,1616457600000.0,1616544000000.0,1616630400000.0,1616716800000.0,1616803200000.0,1616889600000.0,1616976000000.0,1617062400000.0,1617148800000.0,1617235200000.0,1617321600000.0,1617408000000.0,1617494400000.0,1617580800000.0,1617667200000.0,1617753600000.0,1617840000000.0,1617926400000.0,1618012800000.0,1618099200000.0,1618185600000.0,1618272000000.0,1618358400000.0,1618444800000.0,1618531200000.0,1618617600000.0,1618704000000.0,1618790400000.0,1618876800000.0,1618963200000.0,1619049600000.0,1619136000000.0,1619222400000.0,1619308800000.0,1619395200000.0,1619481600000.0,1619568000000.0,1619654400000.0,1619740800000.0,1619827200000.0,1619913600000.0,1620000000000.0,1620086400000.0,1620172800000.0,1620172800000.0],\"y\":[0,3,0,1,0,0,5,-2,0,11,0,6,11,18,1,8,21,32,15,26,32,25,24,45,58,68,82,140,91,125,148,170,86,109,101,95,92,71,73,68,73,62,52,51,62,73,70,62,52,42,43,34,44,46,47,45,42,76,48,43,55,39,35,30,35,20,26,28,19,27,15,12,14,7,13,12,14,12,4,11,12,8,8,6,7,8,8,6,4,0,2,4,3,5,3,2,2,1,0,4,0,0,1,2,1,1,2,1,0,0,1,1,1,2,2,2,3,0,2,0,1,1,2,0,1,0,1,2,1,9,1,3,0,1,1,1,1,0,1,0,1,15,0,17,4,4,2,2,2,7,5,8,13,14,3,19,18,39,16,10,7,3,10,21,30,27,28,29,32,89,29,42,36,46,39,14,13,45,37,44,48,35,65,24,33,50,54,29,34,26,33,83,54,78,114,37,49,84,77,106,104,44,61,65,77,90,96,179,98,116,75,108,89,125,107,110,107,102,163,170,156,140,182,85,128,198,213,259,233,285,297,298,334,366,399,578,475,548,362,574,562,796,730,886,695,568,860,708,789,984,952,1095,1024,1048,1155,1322,1423,1363,1083,1023,1201,1487,1692,1707,1729,1422,1461,1698,1837,1871,1634,1838,1258,1249,1306,1317,1768,1566,1189,1024,1138,1399,1483,1294,1365,1240,1022,918,1148,753,1059,999,1016,808,914,1087,1065,872,731,878,792,669,894,932,853,720,337,682,650,995,1084,1299,1122,734,1047,1391,1576,1692,1435,1842,1839,1733,1587,1913,1969,1867,1945,1954,1439,1278,1641,1486,1230,1355,1158,875,885,970,996,994,944,846,716,766,984,886,789,616,836,574,478,744,695,760,491,543,479,332,625,484,480,440,474,411,412,452,542,613,578,518,453,478,566,539,560,519,592,576,515,595,695,672,679,650,613,523,598,782,789,859,782,699,666,751,765,895,892,890,953,799,0,1673,1282,1222,1014,1015,909,783,998,1287,1505,1229,1120,1110,1384,1542,1450,1370,1301,875,1123,1148,1288,1412,930,1095,1061,1069,940,980,1061,861,1000,772,734,902,782,782]},\"selected\":{\"id\":\"2128\",\"type\":\"Selection\"},\"selection_policy\":{\"id\":\"2129\",\"type\":\"UnionRenderers\"}},\"id\":\"2078\",\"type\":\"ColumnDataSource\"},{\"attributes\":{\"callback\":null},\"id\":\"2024\",\"type\":\"DataRange1d\"},{\"attributes\":{\"line_color\":\"deeppink\",\"line_width\":1.5,\"x\":{\"field\":\"x\"},\"y\":{\"field\":\"y\"}},\"id\":\"2079\",\"type\":\"Line\"}],\"root_ids\":[\"2019\"]},\"title\":\"Bokeh Application\",\"version\":\"1.4.0\"}};\n",
       "  var render_items = [{\"docid\":\"5176cdbc-524e-425d-819d-0124e27905fc\",\"roots\":{\"2019\":\"3a917a96-5272-47b7-b4ca-2252965af295\"}}];\n",
       "  root.Bokeh.embed.embed_items_notebook(docs_json, render_items);\n",
       "\n",
       "  }\n",
       "  if (root.Bokeh !== undefined) {\n",
       "    embed_document(root);\n",
       "  } else {\n",
       "    var attempts = 0;\n",
       "    var timer = setInterval(function(root) {\n",
       "      if (root.Bokeh !== undefined) {\n",
       "        clearInterval(timer);\n",
       "        embed_document(root);\n",
       "      } else {\n",
       "        attempts++;\n",
       "        if (attempts > 100) {\n",
       "          clearInterval(timer);\n",
       "          console.log(\"Bokeh: ERROR: Unable to run BokehJS code because BokehJS library is missing\");\n",
       "        }\n",
       "      }\n",
       "    }, 10, root)\n",
       "  }\n",
       "})(window);"
      ],
      "application/vnd.bokehjs_exec.v0+json": ""
     },
     "metadata": {
      "application/vnd.bokehjs_exec.v0+json": {
       "id": "2019"
      }
     },
     "output_type": "display_data"
    }
   ],
   "source": [
    "fig = figure(title='new daily infected for some regions', \n",
    "             width=1000, \n",
    "             height=400,\n",
    "             x_axis_label='date',\n",
    "             y_axis_label='new infected',\n",
    "             x_axis_type='datetime')\n",
    "\n",
    "for p in regioni:\n",
    "    df_reg_filtered = df_reg.query('denominazione_regione==@p').sort_values(by='only_data')\n",
    "    fig.line(df_reg_filtered['only_data'], df_reg_filtered['nuovi_positivi'], \n",
    "             color=colors[regioni.index(p)],\n",
    "             legend_label=p, \n",
    "             line_width=1.5)\n",
    "\n",
    "\n",
    "# add the hover tool\n",
    "fig.add_tools(HoverTool(\n",
    "    tooltips=[('data', '@x{%F}'), ('new infected', '@y')],\n",
    "    formatters=dict(x='datetime')\n",
    "))\n",
    "fig.add_tools(PanTool(dimensions='width'))\n",
    "fig.legend.location = 'top_left'\n",
    "fig.x_range.start = df_reg['only_data'].min()\n",
    "    \n",
    "# Show the figure\n",
    "show(fig)"
   ]
  },
  {
   "cell_type": "code",
   "execution_count": 23,
   "metadata": {},
   "outputs": [
    {
     "data": {
      "text/html": [
       "\n",
       "\n",
       "\n",
       "\n",
       "\n",
       "\n",
       "  <div class=\"bk-root\" id=\"f22523c8-366b-40f6-bf5c-a79586ef50ed\" data-root-id=\"2390\"></div>\n"
      ]
     },
     "metadata": {},
     "output_type": "display_data"
    },
    {
     "data": {
      "application/javascript": [
       "(function(root) {\n",
       "  function embed_document(root) {\n",
       "    \n",
       "  var docs_json = {\"d90bf456-06fa-4344-aa56-7ee369bf4ba3\":{\"roots\":{\"references\":[{\"attributes\":{\"below\":[{\"id\":\"2401\",\"type\":\"DatetimeAxis\"}],\"center\":[{\"id\":\"2405\",\"type\":\"Grid\"},{\"id\":\"2410\",\"type\":\"Grid\"},{\"id\":\"2447\",\"type\":\"Legend\"}],\"left\":[{\"id\":\"2406\",\"type\":\"LinearAxis\"}],\"plot_height\":400,\"plot_width\":1000,\"renderers\":[{\"id\":\"2427\",\"type\":\"GlyphRenderer\"},{\"id\":\"2452\",\"type\":\"GlyphRenderer\"},{\"id\":\"2478\",\"type\":\"GlyphRenderer\"}],\"title\":{\"id\":\"2391\",\"type\":\"Title\"},\"toolbar\":{\"id\":\"2417\",\"type\":\"Toolbar\"},\"x_range\":{\"id\":\"2393\",\"type\":\"DataRange1d\"},\"x_scale\":{\"id\":\"2397\",\"type\":\"LinearScale\"},\"y_range\":{\"id\":\"2395\",\"type\":\"DataRange1d\"},\"y_scale\":{\"id\":\"2399\",\"type\":\"LinearScale\"}},\"id\":\"2390\",\"subtype\":\"Figure\",\"type\":\"Plot\"},{\"attributes\":{\"items\":[{\"id\":\"2448\",\"type\":\"LegendItem\"},{\"id\":\"2474\",\"type\":\"LegendItem\"},{\"id\":\"2502\",\"type\":\"LegendItem\"}],\"location\":\"top_left\"},\"id\":\"2447\",\"type\":\"Legend\"},{\"attributes\":{},\"id\":\"2471\",\"type\":\"Selection\"},{\"attributes\":{\"dimension\":1,\"ticker\":{\"id\":\"2407\",\"type\":\"BasicTicker\"}},\"id\":\"2410\",\"type\":\"Grid\"},{\"attributes\":{\"axis_label\":\"new infected\",\"formatter\":{\"id\":\"2430\",\"type\":\"BasicTickFormatter\"},\"ticker\":{\"id\":\"2407\",\"type\":\"BasicTicker\"}},\"id\":\"2406\",\"type\":\"LinearAxis\"},{\"attributes\":{\"line_alpha\":0.1,\"line_color\":\"#1f77b4\",\"line_width\":1.5,\"x\":{\"field\":\"x\"},\"y\":{\"field\":\"y\"}},\"id\":\"2451\",\"type\":\"Line\"},{\"attributes\":{\"callback\":null},\"id\":\"2395\",\"type\":\"DataRange1d\"},{\"attributes\":{},\"id\":\"2472\",\"type\":\"UnionRenderers\"},{\"attributes\":{\"data_source\":{\"id\":\"2424\",\"type\":\"ColumnDataSource\"},\"glyph\":{\"id\":\"2425\",\"type\":\"Line\"},\"hover_glyph\":null,\"muted_glyph\":null,\"nonselection_glyph\":{\"id\":\"2426\",\"type\":\"Line\"},\"selection_glyph\":null,\"view\":{\"id\":\"2428\",\"type\":\"CDSView\"}},\"id\":\"2427\",\"type\":\"GlyphRenderer\"},{\"attributes\":{\"line_color\":\"limegreen\",\"line_width\":1.5,\"x\":{\"field\":\"x\"},\"y\":{\"field\":\"y\"}},\"id\":\"2425\",\"type\":\"Line\"},{\"attributes\":{\"line_color\":\"sandybrown\",\"line_width\":1.5,\"x\":{\"field\":\"x\"},\"y\":{\"field\":\"y\"}},\"id\":\"2476\",\"type\":\"Line\"},{\"attributes\":{},\"id\":\"2414\",\"type\":\"SaveTool\"},{\"attributes\":{\"line_alpha\":0.1,\"line_color\":\"#1f77b4\",\"line_width\":1.5,\"x\":{\"field\":\"x\"},\"y\":{\"field\":\"y\"}},\"id\":\"2477\",\"type\":\"Line\"},{\"attributes\":{\"data_source\":{\"id\":\"2475\",\"type\":\"ColumnDataSource\"},\"glyph\":{\"id\":\"2476\",\"type\":\"Line\"},\"hover_glyph\":null,\"muted_glyph\":null,\"nonselection_glyph\":{\"id\":\"2477\",\"type\":\"Line\"},\"selection_glyph\":null,\"view\":{\"id\":\"2479\",\"type\":\"CDSView\"}},\"id\":\"2478\",\"type\":\"GlyphRenderer\"},{\"attributes\":{\"num_minor_ticks\":5,\"tickers\":[{\"id\":\"2434\",\"type\":\"AdaptiveTicker\"},{\"id\":\"2435\",\"type\":\"AdaptiveTicker\"},{\"id\":\"2436\",\"type\":\"AdaptiveTicker\"},{\"id\":\"2437\",\"type\":\"DaysTicker\"},{\"id\":\"2438\",\"type\":\"DaysTicker\"},{\"id\":\"2439\",\"type\":\"DaysTicker\"},{\"id\":\"2440\",\"type\":\"DaysTicker\"},{\"id\":\"2441\",\"type\":\"MonthsTicker\"},{\"id\":\"2442\",\"type\":\"MonthsTicker\"},{\"id\":\"2443\",\"type\":\"MonthsTicker\"},{\"id\":\"2444\",\"type\":\"MonthsTicker\"},{\"id\":\"2445\",\"type\":\"YearsTicker\"}]},\"id\":\"2402\",\"type\":\"DatetimeTicker\"},{\"attributes\":{\"callback\":null,\"data\":{\"x\":{\"__ndarray__\":\"AACARzYJd0IAAMAPdwt3QgAAANi3DXdCAABAoPgPd0IAAIBoORJ3QgAAwDB6FHdCAAAA+boWd0IAAEDB+xh3QgAAgIk8G3dCAADAUX0dd0IAAAAavh93QgAAQOL+IXdCAACAqj8kd0IAAMBygCZ3QgAAADvBKHdCAABAAwIrd0IAAIDLQi13QgAAwJODL3dCAAAAXMQxd0IAAEAkBTR3QgAAgOxFNndCAADAtIY4d0IAAAB9xzp3QgAAQEUIPXdCAACADUk/d0IAAMDViUF3QgAAAJ7KQ3dCAABAZgtGd0IAAIAuTEh3QgAAwPaMSndCAAAAv81Md0IAAECHDk93QgAAgE9PUXdCAADAF5BTd0IAAADg0FV3QgAAQKgRWHdCAACAcFJad0IAAMA4k1x3QgAAAAHUXndCAABAyRRhd0IAAICRVWN3QgAAwFmWZXdCAAAAItdnd0IAAEDqF2p3QgAAgLJYbHdCAADAeplud0IAAABD2nB3QgAAQAsbc3dCAACA01t1d0IAAMCbnHd3QgAAAGTdeXdCAABALB58d0IAAID0Xn53QgAAwLyfgHdCAAAAheCCd0IAAEBNIYV3QgAAgBVih3dCAADA3aKJd0IAAACm44t3QgAAQG4kjndCAACANmWQd0IAAMD+pZJ3QgAAAMfmlHdC\",\"dtype\":\"float64\",\"shape\":[63]},\"y\":[9,44,135,442,830,534,422,301,338,185,87,61,35,20,8,6,12,5,17,5,43,51,112,148,313,236,289,425,525,721,721,998,1613,2998,4605,5956,8418,10261,11597,9419,8941,6701,6339,5087,6931,11508,12674,9023,6351,5451,4190,3246,3568,3830,4419,5032,5812,7005,7831,9032,8057,6683,3200]},\"selected\":{\"id\":\"2499\",\"type\":\"Selection\"},\"selection_policy\":{\"id\":\"2500\",\"type\":\"UnionRenderers\"}},\"id\":\"2449\",\"type\":\"ColumnDataSource\"},{\"attributes\":{},\"id\":\"2430\",\"type\":\"BasicTickFormatter\"},{\"attributes\":{\"line_alpha\":0.1,\"line_color\":\"#1f77b4\",\"line_width\":1.5,\"x\":{\"field\":\"x\"},\"y\":{\"field\":\"y\"}},\"id\":\"2426\",\"type\":\"Line\"},{\"attributes\":{\"data_source\":{\"id\":\"2449\",\"type\":\"ColumnDataSource\"},\"glyph\":{\"id\":\"2450\",\"type\":\"Line\"},\"hover_glyph\":null,\"muted_glyph\":null,\"nonselection_glyph\":{\"id\":\"2451\",\"type\":\"Line\"},\"selection_glyph\":null,\"view\":{\"id\":\"2453\",\"type\":\"CDSView\"}},\"id\":\"2452\",\"type\":\"GlyphRenderer\"},{\"attributes\":{\"callback\":null,\"start\":1582502400000.0},\"id\":\"2393\",\"type\":\"DataRange1d\"},{\"attributes\":{\"source\":{\"id\":\"2449\",\"type\":\"ColumnDataSource\"}},\"id\":\"2453\",\"type\":\"CDSView\"},{\"attributes\":{\"callback\":null,\"formatters\":{\"x\":\"datetime\"},\"tooltips\":[[\"data\",\"@x{%F}\"],[\"new infected\",\"@y\"]]},\"id\":\"2503\",\"type\":\"HoverTool\"},{\"attributes\":{\"axis_label\":\"date\",\"formatter\":{\"id\":\"2432\",\"type\":\"DatetimeTickFormatter\"},\"ticker\":{\"id\":\"2402\",\"type\":\"DatetimeTicker\"}},\"id\":\"2401\",\"type\":\"DatetimeAxis\"},{\"attributes\":{\"source\":{\"id\":\"2424\",\"type\":\"ColumnDataSource\"}},\"id\":\"2428\",\"type\":\"CDSView\"},{\"attributes\":{\"active_drag\":\"auto\",\"active_inspect\":\"auto\",\"active_multi\":null,\"active_scroll\":\"auto\",\"active_tap\":\"auto\",\"tools\":[{\"id\":\"2411\",\"type\":\"PanTool\"},{\"id\":\"2412\",\"type\":\"WheelZoomTool\"},{\"id\":\"2413\",\"type\":\"BoxZoomTool\"},{\"id\":\"2414\",\"type\":\"SaveTool\"},{\"id\":\"2415\",\"type\":\"ResetTool\"},{\"id\":\"2416\",\"type\":\"HelpTool\"},{\"id\":\"2503\",\"type\":\"HoverTool\"},{\"id\":\"2505\",\"type\":\"PanTool\"}]},\"id\":\"2417\",\"type\":\"Toolbar\"},{\"attributes\":{\"label\":{\"value\":\"Sicilia\"},\"renderers\":[{\"id\":\"2452\",\"type\":\"GlyphRenderer\"}]},\"id\":\"2474\",\"type\":\"LegendItem\"},{\"attributes\":{\"days\":[1,4,7,10,13,16,19,22,25,28]},\"id\":\"2438\",\"type\":\"DaysTicker\"},{\"attributes\":{},\"id\":\"2411\",\"type\":\"PanTool\"},{\"attributes\":{\"months\":[0,6]},\"id\":\"2444\",\"type\":\"MonthsTicker\"},{\"attributes\":{\"label\":{\"value\":\"Sardegna\"},\"renderers\":[{\"id\":\"2478\",\"type\":\"GlyphRenderer\"}]},\"id\":\"2502\",\"type\":\"LegendItem\"},{\"attributes\":{\"months\":[0,2,4,6,8,10]},\"id\":\"2442\",\"type\":\"MonthsTicker\"},{\"attributes\":{\"bottom_units\":\"screen\",\"fill_alpha\":{\"value\":0.5},\"fill_color\":{\"value\":\"lightgrey\"},\"left_units\":\"screen\",\"level\":\"overlay\",\"line_alpha\":{\"value\":1.0},\"line_color\":{\"value\":\"black\"},\"line_dash\":[4,4],\"line_width\":{\"value\":2},\"render_mode\":\"css\",\"right_units\":\"screen\",\"top_units\":\"screen\"},\"id\":\"2446\",\"type\":\"BoxAnnotation\"},{\"attributes\":{\"months\":[0,1,2,3,4,5,6,7,8,9,10,11]},\"id\":\"2441\",\"type\":\"MonthsTicker\"},{\"attributes\":{},\"id\":\"2499\",\"type\":\"Selection\"},{\"attributes\":{\"line_color\":\"deeppink\",\"line_width\":1.5,\"x\":{\"field\":\"x\"},\"y\":{\"field\":\"y\"}},\"id\":\"2450\",\"type\":\"Line\"},{\"attributes\":{},\"id\":\"2445\",\"type\":\"YearsTicker\"},{\"attributes\":{\"label\":{\"value\":\"Puglia\"},\"renderers\":[{\"id\":\"2427\",\"type\":\"GlyphRenderer\"}]},\"id\":\"2448\",\"type\":\"LegendItem\"},{\"attributes\":{\"base\":24,\"mantissas\":[1,2,4,6,8,12],\"max_interval\":43200000.0,\"min_interval\":3600000.0,\"num_minor_ticks\":0},\"id\":\"2436\",\"type\":\"AdaptiveTicker\"},{\"attributes\":{},\"id\":\"2397\",\"type\":\"LinearScale\"},{\"attributes\":{\"days\":[1,2,3,4,5,6,7,8,9,10,11,12,13,14,15,16,17,18,19,20,21,22,23,24,25,26,27,28,29,30,31]},\"id\":\"2437\",\"type\":\"DaysTicker\"},{\"attributes\":{},\"id\":\"2638\",\"type\":\"Selection\"},{\"attributes\":{\"days\":[1,8,15,22]},\"id\":\"2439\",\"type\":\"DaysTicker\"},{\"attributes\":{\"source\":{\"id\":\"2475\",\"type\":\"ColumnDataSource\"}},\"id\":\"2479\",\"type\":\"CDSView\"},{\"attributes\":{\"base\":60,\"mantissas\":[1,2,5,10,15,20,30],\"max_interval\":1800000.0,\"min_interval\":1000.0,\"num_minor_ticks\":0},\"id\":\"2435\",\"type\":\"AdaptiveTicker\"},{\"attributes\":{},\"id\":\"2416\",\"type\":\"HelpTool\"},{\"attributes\":{\"mantissas\":[1,2,5],\"max_interval\":500.0,\"num_minor_ticks\":0},\"id\":\"2434\",\"type\":\"AdaptiveTicker\"},{\"attributes\":{},\"id\":\"2415\",\"type\":\"ResetTool\"},{\"attributes\":{},\"id\":\"2639\",\"type\":\"UnionRenderers\"},{\"attributes\":{},\"id\":\"2407\",\"type\":\"BasicTicker\"},{\"attributes\":{\"ticker\":{\"id\":\"2402\",\"type\":\"DatetimeTicker\"}},\"id\":\"2405\",\"type\":\"Grid\"},{\"attributes\":{\"text\":\"New weekly infected for some regions\"},\"id\":\"2391\",\"type\":\"Title\"},{\"attributes\":{\"days\":[1,15]},\"id\":\"2440\",\"type\":\"DaysTicker\"},{\"attributes\":{},\"id\":\"2399\",\"type\":\"LinearScale\"},{\"attributes\":{\"callback\":null,\"data\":{\"x\":{\"__ndarray__\":\"AACARzYJd0IAAMAPdwt3QgAAANi3DXdCAABAoPgPd0IAAIBoORJ3QgAAwDB6FHdCAAAA+boWd0IAAEDB+xh3QgAAgIk8G3dCAADAUX0dd0IAAAAavh93QgAAQOL+IXdCAACAqj8kd0IAAMBygCZ3QgAAADvBKHdCAABAAwIrd0IAAIDLQi13QgAAwJODL3dCAAAAXMQxd0IAAEAkBTR3QgAAgOxFNndCAADAtIY4d0IAAAB9xzp3QgAAQEUIPXdCAACADUk/d0IAAMDViUF3QgAAAJ7KQ3dCAABAZgtGd0IAAIAuTEh3QgAAwPaMSndCAAAAv81Md0IAAECHDk93QgAAgE9PUXdCAADAF5BTd0IAAADg0FV3QgAAQKgRWHdCAACAcFJad0IAAMA4k1x3QgAAAAHUXndCAABAyRRhd0IAAICRVWN3QgAAwFmWZXdCAAAAItdnd0IAAEDqF2p3QgAAgLJYbHdCAADAeplud0IAAABD2nB3QgAAQAsbc3dCAACA01t1d0IAAMCbnHd3QgAAAGTdeXdCAABALB58d0IAAID0Xn53QgAAwLyfgHdCAAAAheCCd0IAAEBNIYV3QgAAgBVih3dCAADA3aKJd0IAAACm44t3QgAAQG4kjndCAACANmWQd0IAAMD+pZJ3QgAAAMfmlHdC\",\"dtype\":\"float64\",\"shape\":[63]},\"y\":[0,11,66,262,299,269,206,102,65,39,21,13,3,0,6,1,6,4,6,2,7,9,28,25,55,246,382,391,369,365,491,499,780,1087,1663,2071,2431,2922,3310,2653,3040,2092,2108,1759,1716,1933,1980,1277,1486,990,680,481,503,554,734,778,1433,2288,2131,2434,1912,1360,497]},\"selected\":{\"id\":\"2638\",\"type\":\"Selection\"},\"selection_policy\":{\"id\":\"2639\",\"type\":\"UnionRenderers\"}},\"id\":\"2475\",\"type\":\"ColumnDataSource\"},{\"attributes\":{\"overlay\":{\"id\":\"2446\",\"type\":\"BoxAnnotation\"}},\"id\":\"2413\",\"type\":\"BoxZoomTool\"},{\"attributes\":{\"callback\":null,\"data\":{\"x\":{\"__ndarray__\":\"AACARzYJd0IAAMAPdwt3QgAAANi3DXdCAABAoPgPd0IAAIBoORJ3QgAAwDB6FHdCAAAA+boWd0IAAEDB+xh3QgAAgIk8G3dCAADAUX0dd0IAAAAavh93QgAAQOL+IXdCAACAqj8kd0IAAMBygCZ3QgAAADvBKHdCAABAAwIrd0IAAIDLQi13QgAAwJODL3dCAAAAXMQxd0IAAEAkBTR3QgAAgOxFNndCAADAtIY4d0IAAAB9xzp3QgAAQEUIPXdCAACADUk/d0IAAMDViUF3QgAAAJ7KQ3dCAABAZgtGd0IAAIAuTEh3QgAAwPaMSndCAAAAv81Md0IAAECHDk93QgAAgE9PUXdCAADAF5BTd0IAAADg0FV3QgAAQKgRWHdCAACAcFJad0IAAMA4k1x3QgAAAAHUXndCAABAyRRhd0IAAICRVWN3QgAAwFmWZXdCAAAAItdnd0IAAEDqF2p3QgAAgLJYbHdCAADAeplud0IAAABD2nB3QgAAQAsbc3dCAACA01t1d0IAAMCbnHd3QgAAAGTdeXdCAABALB58d0IAAID0Xn53QgAAwLyfgHdCAAAAheCCd0IAAEBNIYV3QgAAgBVih3dCAADA3aKJd0IAAACm44t3QgAAQG4kjndCAACANmWQd0IAAMD+pZJ3QgAAAMfmlHdC\",\"dtype\":\"float64\",\"shape\":[63]},\"y\":[3,37,190,556,763,768,672,540,419,196,169,66,79,36,17,4,12,4,6,6,16,33,50,75,144,167,377,454,593,545,527,713,1278,1873,3161,4756,6399,8737,9069,9711,11123,8631,7627,5840,7214,7960,7815,6682,6797,6183,6066,5303,6591,8407,10101,10971,12208,12458,9335,9701,8950,7600,3705]},\"selected\":{\"id\":\"2471\",\"type\":\"Selection\"},\"selection_policy\":{\"id\":\"2472\",\"type\":\"UnionRenderers\"}},\"id\":\"2424\",\"type\":\"ColumnDataSource\"},{\"attributes\":{},\"id\":\"2412\",\"type\":\"WheelZoomTool\"},{\"attributes\":{},\"id\":\"2432\",\"type\":\"DatetimeTickFormatter\"},{\"attributes\":{\"dimensions\":\"width\"},\"id\":\"2505\",\"type\":\"PanTool\"},{\"attributes\":{\"months\":[0,4,8]},\"id\":\"2443\",\"type\":\"MonthsTicker\"},{\"attributes\":{},\"id\":\"2500\",\"type\":\"UnionRenderers\"}],\"root_ids\":[\"2390\"]},\"title\":\"Bokeh Application\",\"version\":\"1.4.0\"}};\n",
       "  var render_items = [{\"docid\":\"d90bf456-06fa-4344-aa56-7ee369bf4ba3\",\"roots\":{\"2390\":\"f22523c8-366b-40f6-bf5c-a79586ef50ed\"}}];\n",
       "  root.Bokeh.embed.embed_items_notebook(docs_json, render_items);\n",
       "\n",
       "  }\n",
       "  if (root.Bokeh !== undefined) {\n",
       "    embed_document(root);\n",
       "  } else {\n",
       "    var attempts = 0;\n",
       "    var timer = setInterval(function(root) {\n",
       "      if (root.Bokeh !== undefined) {\n",
       "        clearInterval(timer);\n",
       "        embed_document(root);\n",
       "      } else {\n",
       "        attempts++;\n",
       "        if (attempts > 100) {\n",
       "          clearInterval(timer);\n",
       "          console.log(\"Bokeh: ERROR: Unable to run BokehJS code because BokehJS library is missing\");\n",
       "        }\n",
       "      }\n",
       "    }, 10, root)\n",
       "  }\n",
       "})(window);"
      ],
      "application/vnd.bokehjs_exec.v0+json": ""
     },
     "metadata": {
      "application/vnd.bokehjs_exec.v0+json": {
       "id": "2390"
      }
     },
     "output_type": "display_data"
    }
   ],
   "source": [
    "fig = figure(title='New weekly infected for some regions', \n",
    "             width=1000, \n",
    "             height=400,\n",
    "             x_axis_label='date',\n",
    "             y_axis_label='new infected',\n",
    "             x_axis_type='datetime')\n",
    "\n",
    "for p in regioni:\n",
    "    df_reg_filtered = df_reg.query('denominazione_regione==@p')[['only_data', 'nuovi_positivi']]\n",
    "    df_reg_filtered = df_reg_filtered.set_index(pd.to_datetime(df_reg_filtered['only_data']))['nuovi_positivi'].resample('W').sum()\n",
    "    fig.line(df_reg_filtered.index, df_reg_filtered, \n",
    "             color=colors[regioni.index(p)],\n",
    "             legend_label=p, \n",
    "             line_width=1.5)\n",
    "\n",
    "\n",
    "# add the hover tool\n",
    "fig.add_tools(HoverTool(\n",
    "    tooltips=[('data', '@x{%F}'), ('new infected', '@y')],\n",
    "    formatters=dict(x='datetime')\n",
    "))\n",
    "fig.add_tools(PanTool(dimensions='width'))\n",
    "fig.legend.location = 'top_left'\n",
    "fig.x_range.start = df_reg['only_data'].min()\n",
    "    \n",
    "# Show the figure\n",
    "show(fig)"
   ]
  },
  {
   "cell_type": "markdown",
   "metadata": {},
   "source": [
    "### new weekly infected on 100000 inhabitants in Puglia"
   ]
  },
  {
   "cell_type": "code",
   "execution_count": 24,
   "metadata": {},
   "outputs": [],
   "source": [
    "df_reg_filtered = df_reg.query('denominazione_regione==\"Puglia\"')[['only_data', 'nuovi_positivi']]\n",
    "df_reg_filtered = df_reg_filtered.set_index(pd.to_datetime(df_reg_filtered['only_data']))['nuovi_positivi'].resample('W').sum()"
   ]
  },
  {
   "cell_type": "code",
   "execution_count": 25,
   "metadata": {},
   "outputs": [
    {
     "data": {
      "text/html": [
       "\n",
       "\n",
       "\n",
       "\n",
       "\n",
       "\n",
       "  <div class=\"bk-root\" id=\"f8d4db9b-260b-4469-8fa3-46fcc568a46d\" data-root-id=\"2785\"></div>\n"
      ]
     },
     "metadata": {},
     "output_type": "display_data"
    },
    {
     "data": {
      "application/javascript": [
       "(function(root) {\n",
       "  function embed_document(root) {\n",
       "    \n",
       "  var docs_json = {\"ded3e190-4396-4af3-8eeb-2a83cd8304c2\":{\"roots\":{\"references\":[{\"attributes\":{\"below\":[{\"id\":\"2796\",\"type\":\"DatetimeAxis\"}],\"center\":[{\"id\":\"2800\",\"type\":\"Grid\"},{\"id\":\"2805\",\"type\":\"Grid\"},{\"id\":\"2842\",\"type\":\"Legend\"}],\"left\":[{\"id\":\"2801\",\"type\":\"LinearAxis\"}],\"plot_height\":400,\"plot_width\":1000,\"renderers\":[{\"id\":\"2822\",\"type\":\"GlyphRenderer\"},{\"id\":\"2847\",\"type\":\"GlyphRenderer\"}],\"title\":{\"id\":\"2786\",\"type\":\"Title\"},\"toolbar\":{\"id\":\"2812\",\"type\":\"Toolbar\"},\"x_range\":{\"id\":\"2788\",\"type\":\"DataRange1d\"},\"x_scale\":{\"id\":\"2792\",\"type\":\"LinearScale\"},\"y_range\":{\"id\":\"2790\",\"type\":\"DataRange1d\"},\"y_scale\":{\"id\":\"2794\",\"type\":\"LinearScale\"}},\"id\":\"2785\",\"subtype\":\"Figure\",\"type\":\"Plot\"},{\"attributes\":{\"callback\":null,\"data\":{\"x\":{\"__ndarray__\":\"AACARzYJd0IAAMAPdwt3QgAAANi3DXdCAABAoPgPd0IAAIBoORJ3QgAAwDB6FHdCAAAA+boWd0IAAEDB+xh3QgAAgIk8G3dCAADAUX0dd0IAAAAavh93QgAAQOL+IXdCAACAqj8kd0IAAMBygCZ3QgAAADvBKHdCAABAAwIrd0IAAIDLQi13QgAAwJODL3dCAAAAXMQxd0IAAEAkBTR3QgAAgOxFNndCAADAtIY4d0IAAAB9xzp3QgAAQEUIPXdCAACADUk/d0IAAMDViUF3QgAAAJ7KQ3dCAABAZgtGd0IAAIAuTEh3QgAAwPaMSndCAAAAv81Md0IAAECHDk93QgAAgE9PUXdCAADAF5BTd0IAAADg0FV3QgAAQKgRWHdCAACAcFJad0IAAMA4k1x3QgAAAAHUXndCAABAyRRhd0IAAICRVWN3QgAAwFmWZXdCAAAAItdnd0IAAEDqF2p3QgAAgLJYbHdCAADAeplud0IAAABD2nB3QgAAQAsbc3dCAACA01t1d0IAAMCbnHd3QgAAAGTdeXdCAABALB58d0IAAID0Xn53QgAAwLyfgHdCAAAAheCCd0IAAEBNIYV3QgAAgBVih3dCAADA3aKJd0IAAACm44t3QgAAQG4kjndCAACANmWQd0IAAMD+pZJ3QgAAAMfmlHdC\",\"dtype\":\"float64\",\"shape\":[63]},\"y\":{\"__ndarray__\":\"2cM7aqiOsz9DIxz5mCbuP3kky1OBWhNA54gmLzlRLEA9YDX8D24zQNnDO2qojjNAXUv0XNMcMUBoC2TVnIArQF02lW7+ViVAmAIdl/b2E0ANmyzo5jYRQEotEpIn5Po/gC7B7A8YAEDFpVmf/FXtP8iq1OvDtNs/y69POIsTuj/ZwztqqI7TP8uvTziLE7o/2cM7aqiOwz/ZwztqqI7DP8uvTziLE9o/Si0Skifk6j9XQf7DRF/0PwJi/SXnjv4/xaVZn/xVDUCu+7vRvwIRQPGs9gJkMyNA4ajuclQfJ0AbS7i+ojMuQKDScLHNwStAcgV2zB3XKkAnfPWvGygyQPO5YyCyRUBApuDfsh/ZR0Aa/6QgtR9UQN+GImcxR15A2X6kJ3ReZED1vGYTqM9rQLX3ztcy3mxAbLbo8FrpbkBNuf6n/LNxQP80PFZHeWtA03A1JiJHaEDSzqS/7pZiQF+sZumV9mZAEW73hn1WaUD8RCD4VOBoQJR/3v4QRWVA9N0wO8eiZUD3ZOg7cK5jQJyB4sYYT2NAlNVbx1bhYED4XPZq6fpkQDAHsoe+wmpAzYDTkJQTcEAL/Fg9DnZxQD1gNfwPbnNAg1cJVOzTc0AbDhNN9bZtQIUdZ9U04W5AX48VKjp9bECX7b2oITFoQHOUH55NlldA\",\"dtype\":\"float64\",\"shape\":[63]}},\"selected\":{\"id\":\"3004\",\"type\":\"Selection\"},\"selection_policy\":{\"id\":\"3005\",\"type\":\"UnionRenderers\"}},\"id\":\"2819\",\"type\":\"ColumnDataSource\"},{\"attributes\":{\"base\":24,\"mantissas\":[1,2,4,6,8,12],\"max_interval\":43200000.0,\"min_interval\":3600000.0,\"num_minor_ticks\":0},\"id\":\"2831\",\"type\":\"AdaptiveTicker\"},{\"attributes\":{\"mantissas\":[1,2,5],\"max_interval\":500.0,\"num_minor_ticks\":0},\"id\":\"2829\",\"type\":\"AdaptiveTicker\"},{\"attributes\":{\"ticker\":{\"id\":\"2797\",\"type\":\"DatetimeTicker\"}},\"id\":\"2800\",\"type\":\"Grid\"},{\"attributes\":{\"days\":[1,2,3,4,5,6,7,8,9,10,11,12,13,14,15,16,17,18,19,20,21,22,23,24,25,26,27,28,29,30,31]},\"id\":\"2832\",\"type\":\"DaysTicker\"},{\"attributes\":{\"text\":\"new weekly infected trend on 100000 inhabitants in Puglia\"},\"id\":\"2786\",\"type\":\"Title\"},{\"attributes\":{},\"id\":\"2792\",\"type\":\"LinearScale\"},{\"attributes\":{\"data_source\":{\"id\":\"2844\",\"type\":\"ColumnDataSource\"},\"glyph\":{\"id\":\"2845\",\"type\":\"Line\"},\"hover_glyph\":null,\"muted_glyph\":null,\"nonselection_glyph\":{\"id\":\"2846\",\"type\":\"Line\"},\"selection_glyph\":null,\"view\":{\"id\":\"2848\",\"type\":\"CDSView\"}},\"id\":\"2847\",\"type\":\"GlyphRenderer\"},{\"attributes\":{\"num_minor_ticks\":5,\"tickers\":[{\"id\":\"2829\",\"type\":\"AdaptiveTicker\"},{\"id\":\"2830\",\"type\":\"AdaptiveTicker\"},{\"id\":\"2831\",\"type\":\"AdaptiveTicker\"},{\"id\":\"2832\",\"type\":\"DaysTicker\"},{\"id\":\"2833\",\"type\":\"DaysTicker\"},{\"id\":\"2834\",\"type\":\"DaysTicker\"},{\"id\":\"2835\",\"type\":\"DaysTicker\"},{\"id\":\"2836\",\"type\":\"MonthsTicker\"},{\"id\":\"2837\",\"type\":\"MonthsTicker\"},{\"id\":\"2838\",\"type\":\"MonthsTicker\"},{\"id\":\"2839\",\"type\":\"MonthsTicker\"},{\"id\":\"2840\",\"type\":\"YearsTicker\"}]},\"id\":\"2797\",\"type\":\"DatetimeTicker\"},{\"attributes\":{\"callback\":null,\"formatters\":{\"x\":\"datetime\"},\"tooltips\":[[\"data\",\"@x{%F}\"],[\"new infected\",\"@y\"]]},\"id\":\"2849\",\"type\":\"HoverTool\"},{\"attributes\":{},\"id\":\"2794\",\"type\":\"LinearScale\"},{\"attributes\":{\"months\":[0,6]},\"id\":\"2839\",\"type\":\"MonthsTicker\"},{\"attributes\":{},\"id\":\"3006\",\"type\":\"Selection\"},{\"attributes\":{\"axis_label\":\"new infected on 100000 inhabitants\",\"formatter\":{\"id\":\"2825\",\"type\":\"BasicTickFormatter\"},\"ticker\":{\"id\":\"2802\",\"type\":\"BasicTicker\"}},\"id\":\"2801\",\"type\":\"LinearAxis\"},{\"attributes\":{\"days\":[1,4,7,10,13,16,19,22,25,28]},\"id\":\"2833\",\"type\":\"DaysTicker\"},{\"attributes\":{},\"id\":\"2840\",\"type\":\"YearsTicker\"},{\"attributes\":{\"line_alpha\":0.1,\"line_color\":\"#1f77b4\",\"line_width\":1.5,\"x\":{\"field\":\"x\"},\"y\":{\"field\":\"y\"}},\"id\":\"2821\",\"type\":\"Line\"},{\"attributes\":{},\"id\":\"3005\",\"type\":\"UnionRenderers\"},{\"attributes\":{\"days\":[1,15]},\"id\":\"2835\",\"type\":\"DaysTicker\"},{\"attributes\":{\"dimensions\":\"width\"},\"id\":\"2851\",\"type\":\"PanTool\"},{\"attributes\":{\"axis_label\":\"date\",\"formatter\":{\"id\":\"2827\",\"type\":\"DatetimeTickFormatter\"},\"ticker\":{\"id\":\"2797\",\"type\":\"DatetimeTicker\"}},\"id\":\"2796\",\"type\":\"DatetimeAxis\"},{\"attributes\":{\"months\":[0,1,2,3,4,5,6,7,8,9,10,11]},\"id\":\"2836\",\"type\":\"MonthsTicker\"},{\"attributes\":{},\"id\":\"2802\",\"type\":\"BasicTicker\"},{\"attributes\":{\"active_drag\":\"auto\",\"active_inspect\":\"auto\",\"active_multi\":null,\"active_scroll\":\"auto\",\"active_tap\":\"auto\",\"tools\":[{\"id\":\"2806\",\"type\":\"PanTool\"},{\"id\":\"2807\",\"type\":\"WheelZoomTool\"},{\"id\":\"2808\",\"type\":\"BoxZoomTool\"},{\"id\":\"2809\",\"type\":\"SaveTool\"},{\"id\":\"2810\",\"type\":\"ResetTool\"},{\"id\":\"2811\",\"type\":\"HelpTool\"},{\"id\":\"2849\",\"type\":\"HoverTool\"},{\"id\":\"2851\",\"type\":\"PanTool\"}]},\"id\":\"2812\",\"type\":\"Toolbar\"},{\"attributes\":{\"months\":[0,4,8]},\"id\":\"2838\",\"type\":\"MonthsTicker\"},{\"attributes\":{\"callback\":null},\"id\":\"2790\",\"type\":\"DataRange1d\"},{\"attributes\":{},\"id\":\"2827\",\"type\":\"DatetimeTickFormatter\"},{\"attributes\":{\"months\":[0,2,4,6,8,10]},\"id\":\"2837\",\"type\":\"MonthsTicker\"},{\"attributes\":{\"label\":{\"value\":\"Puglia\"},\"renderers\":[{\"id\":\"2822\",\"type\":\"GlyphRenderer\"}]},\"id\":\"2843\",\"type\":\"LegendItem\"},{\"attributes\":{\"bottom_units\":\"screen\",\"fill_alpha\":{\"value\":0.5},\"fill_color\":{\"value\":\"lightgrey\"},\"left_units\":\"screen\",\"level\":\"overlay\",\"line_alpha\":{\"value\":1.0},\"line_color\":{\"value\":\"black\"},\"line_dash\":[4,4],\"line_width\":{\"value\":2},\"render_mode\":\"css\",\"right_units\":\"screen\",\"top_units\":\"screen\"},\"id\":\"2841\",\"type\":\"BoxAnnotation\"},{\"attributes\":{\"overlay\":{\"id\":\"2841\",\"type\":\"BoxAnnotation\"}},\"id\":\"2808\",\"type\":\"BoxZoomTool\"},{\"attributes\":{},\"id\":\"3004\",\"type\":\"Selection\"},{\"attributes\":{\"data_source\":{\"id\":\"2819\",\"type\":\"ColumnDataSource\"},\"glyph\":{\"id\":\"2820\",\"type\":\"Line\"},\"hover_glyph\":null,\"muted_glyph\":null,\"nonselection_glyph\":{\"id\":\"2821\",\"type\":\"Line\"},\"selection_glyph\":null,\"view\":{\"id\":\"2823\",\"type\":\"CDSView\"}},\"id\":\"2822\",\"type\":\"GlyphRenderer\"},{\"attributes\":{\"line_color\":\"blue\",\"line_width\":1.5,\"x\":{\"field\":\"x\"},\"y\":{\"field\":\"y\"}},\"id\":\"2820\",\"type\":\"Line\"},{\"attributes\":{\"items\":[{\"id\":\"2843\",\"type\":\"LegendItem\"}],\"location\":\"top_left\"},\"id\":\"2842\",\"type\":\"Legend\"},{\"attributes\":{},\"id\":\"2810\",\"type\":\"ResetTool\"},{\"attributes\":{},\"id\":\"2809\",\"type\":\"SaveTool\"},{\"attributes\":{},\"id\":\"3007\",\"type\":\"UnionRenderers\"},{\"attributes\":{\"base\":60,\"mantissas\":[1,2,5,10,15,20,30],\"max_interval\":1800000.0,\"min_interval\":1000.0,\"num_minor_ticks\":0},\"id\":\"2830\",\"type\":\"AdaptiveTicker\"},{\"attributes\":{\"callback\":null,\"data\":{\"x\":{\"__ndarray__\":\"AACARzYJd0IAAMAPdwt3QgAAANi3DXdCAABAoPgPd0IAAIBoORJ3QgAAwDB6FHdCAAAA+boWd0IAAEDB+xh3QgAAgIk8G3dCAADAUX0dd0IAAAAavh93QgAAQOL+IXdCAACAqj8kd0IAAMBygCZ3QgAAADvBKHdCAABAAwIrd0IAAIDLQi13QgAAwJODL3dCAAAAXMQxd0IAAEAkBTR3QgAAgOxFNndCAADAtIY4d0IAAAB9xzp3QgAAQEUIPXdCAACADUk/d0IAAMDViUF3QgAAAJ7KQ3dCAABAZgtGd0IAAIAuTEh3QgAAwPaMSndCAAAAv81Md0IAAECHDk93QgAAgE9PUXdCAADAF5BTd0IAAADg0FV3QgAAQKgRWHdCAACAcFJad0IAAMA4k1x3QgAAAAHUXndCAABAyRRhd0IAAICRVWN3QgAAwFmWZXdCAAAAItdnd0IAAEDqF2p3QgAAgLJYbHdCAADAeplud0IAAABD2nB3QgAAQAsbc3dCAACA01t1d0IAAMCbnHd3QgAAAGTdeXdCAABALB58d0IAAID0Xn53QgAAwLyfgHdCAAAAheCCd0IAAEBNIYV3QgAAgBVih3dCAADA3aKJd0IAAACm44t3QgAAQG4kjndCAACANmWQd0IAAMD+pZJ3QgAAAMfmlHdC\",\"dtype\":\"float64\",\"shape\":[63]}},\"selected\":{\"id\":\"3006\",\"type\":\"Selection\"},\"selection_policy\":{\"id\":\"3007\",\"type\":\"UnionRenderers\"}},\"id\":\"2844\",\"type\":\"ColumnDataSource\"},{\"attributes\":{\"days\":[1,8,15,22]},\"id\":\"2834\",\"type\":\"DaysTicker\"},{\"attributes\":{\"callback\":null,\"start\":1583020800000.0},\"id\":\"2788\",\"type\":\"DataRange1d\"},{\"attributes\":{\"line_color\":\"red\",\"x\":{\"field\":\"x\"},\"y\":{\"value\":250}},\"id\":\"2845\",\"type\":\"Line\"},{\"attributes\":{\"dimension\":1,\"ticker\":{\"id\":\"2802\",\"type\":\"BasicTicker\"}},\"id\":\"2805\",\"type\":\"Grid\"},{\"attributes\":{},\"id\":\"2825\",\"type\":\"BasicTickFormatter\"},{\"attributes\":{},\"id\":\"2807\",\"type\":\"WheelZoomTool\"},{\"attributes\":{\"source\":{\"id\":\"2844\",\"type\":\"ColumnDataSource\"}},\"id\":\"2848\",\"type\":\"CDSView\"},{\"attributes\":{},\"id\":\"2811\",\"type\":\"HelpTool\"},{\"attributes\":{\"source\":{\"id\":\"2819\",\"type\":\"ColumnDataSource\"}},\"id\":\"2823\",\"type\":\"CDSView\"},{\"attributes\":{\"line_alpha\":0.1,\"line_color\":\"#1f77b4\",\"x\":{\"field\":\"x\"},\"y\":{\"value\":250}},\"id\":\"2846\",\"type\":\"Line\"},{\"attributes\":{},\"id\":\"2806\",\"type\":\"PanTool\"}],\"root_ids\":[\"2785\"]},\"title\":\"Bokeh Application\",\"version\":\"1.4.0\"}};\n",
       "  var render_items = [{\"docid\":\"ded3e190-4396-4af3-8eeb-2a83cd8304c2\",\"roots\":{\"2785\":\"f8d4db9b-260b-4469-8fa3-46fcc568a46d\"}}];\n",
       "  root.Bokeh.embed.embed_items_notebook(docs_json, render_items);\n",
       "\n",
       "  }\n",
       "  if (root.Bokeh !== undefined) {\n",
       "    embed_document(root);\n",
       "  } else {\n",
       "    var attempts = 0;\n",
       "    var timer = setInterval(function(root) {\n",
       "      if (root.Bokeh !== undefined) {\n",
       "        clearInterval(timer);\n",
       "        embed_document(root);\n",
       "      } else {\n",
       "        attempts++;\n",
       "        if (attempts > 100) {\n",
       "          clearInterval(timer);\n",
       "          console.log(\"Bokeh: ERROR: Unable to run BokehJS code because BokehJS library is missing\");\n",
       "        }\n",
       "      }\n",
       "    }, 10, root)\n",
       "  }\n",
       "})(window);"
      ],
      "application/vnd.bokehjs_exec.v0+json": ""
     },
     "metadata": {
      "application/vnd.bokehjs_exec.v0+json": {
       "id": "2785"
      }
     },
     "output_type": "display_data"
    }
   ],
   "source": [
    "fig = figure(title='new weekly infected trend on 100000 inhabitants in Puglia', \n",
    "             width=1000, \n",
    "             height=400,\n",
    "             x_axis_label='date',\n",
    "             y_axis_label='new infected on 100000 inhabitants',\n",
    "             x_axis_type='datetime')\n",
    "\n",
    "\n",
    "df_reg_filtered = df_reg.query('denominazione_regione==\"Puglia\"')[['only_data', 'nuovi_positivi']]\n",
    "df_reg_filtered = df_reg_filtered.set_index(pd.to_datetime(df_reg_filtered['only_data']))['nuovi_positivi'].resample('W').sum()\n",
    "fig.line(df_reg_filtered.index, \n",
    "         df_reg_filtered*100_000/3_926_931, \n",
    "         color='blue',\n",
    "         legend_label=\"Puglia\", \n",
    "         line_width=1.5)\n",
    "\n",
    "fig.line(df_reg_filtered.index,\n",
    "         250,\n",
    "         color='red',\n",
    "         line_width=1)\n",
    "\n",
    "\n",
    "# add the hover tool\n",
    "fig.add_tools(HoverTool(\n",
    "    tooltips=[('data', '@x{%F}'), ('new infected', '@y')],\n",
    "    formatters=dict(x='datetime')\n",
    "))\n",
    "fig.add_tools(PanTool(dimensions='width'))\n",
    "fig.legend.location = 'top_left'\n",
    "fig.x_range.start = df_reg_filtered.index.min()\n",
    "    \n",
    "# Show the figure\n",
    "show(fig)"
   ]
  },
  {
   "cell_type": "code",
   "execution_count": null,
   "metadata": {},
   "outputs": [],
   "source": []
  },
  {
   "cell_type": "markdown",
   "metadata": {},
   "source": [
    "## Trend for some provinces"
   ]
  },
  {
   "cell_type": "code",
   "execution_count": 26,
   "metadata": {},
   "outputs": [],
   "source": [
    "prov_path = \"COVID-19/dati-province/dpc-covid19-ita-province-*.csv\""
   ]
  },
  {
   "cell_type": "code",
   "execution_count": 27,
   "metadata": {},
   "outputs": [],
   "source": [
    "df_prov = pd.concat(map(pd.read_csv, glob.glob(os.path.join('', f\"{prov_path}\"))))"
   ]
  },
  {
   "cell_type": "code",
   "execution_count": 28,
   "metadata": {},
   "outputs": [],
   "source": [
    "df_prov['only_data'] = pd.to_datetime(df_prov['data']).dt.date"
   ]
  },
  {
   "cell_type": "markdown",
   "metadata": {},
   "source": [
    "This analysis is done for 'Taranto', 'Lecce', 'Messina', 'Cagliari' and  'Bari' provinces..if you want to analyze other provinces, put them in the below \"province\" list"
   ]
  },
  {
   "cell_type": "code",
   "execution_count": 29,
   "metadata": {},
   "outputs": [],
   "source": [
    "province = ['Taranto', 'Lecce', 'Messina', 'Cagliari', 'Bari']\n",
    "colors = []\n",
    "n = named.__dict__\n",
    "all_colors = n['__all__']\n",
    "while len(colors) < (len(province)):\n",
    "    if choice(all_colors) not in colors:\n",
    "        colors.append(choice(all_colors))"
   ]
  },
  {
   "cell_type": "code",
   "execution_count": 30,
   "metadata": {},
   "outputs": [
    {
     "data": {
      "text/html": [
       "\n",
       "\n",
       "\n",
       "\n",
       "\n",
       "\n",
       "  <div class=\"bk-root\" id=\"5cf15d68-ec4c-4370-a2d1-da85bee9dd03\" data-root-id=\"3141\"></div>\n"
      ]
     },
     "metadata": {},
     "output_type": "display_data"
    },
    {
     "data": {
      "application/javascript": [
       "(function(root) {\n",
       "  function embed_document(root) {\n",
       "    \n",
       "  var docs_json = {\"9074bb22-410a-4ec2-a12e-1a0aa7896b72\":{\"roots\":{\"references\":[{\"attributes\":{\"below\":[{\"id\":\"3152\",\"type\":\"DatetimeAxis\"}],\"center\":[{\"id\":\"3156\",\"type\":\"Grid\"},{\"id\":\"3161\",\"type\":\"Grid\"},{\"id\":\"3198\",\"type\":\"Legend\"}],\"left\":[{\"id\":\"3157\",\"type\":\"LinearAxis\"}],\"plot_height\":400,\"plot_width\":1000,\"renderers\":[{\"id\":\"3178\",\"type\":\"GlyphRenderer\"},{\"id\":\"3203\",\"type\":\"GlyphRenderer\"},{\"id\":\"3229\",\"type\":\"GlyphRenderer\"},{\"id\":\"3257\",\"type\":\"GlyphRenderer\"},{\"id\":\"3287\",\"type\":\"GlyphRenderer\"}],\"title\":{\"id\":\"3142\",\"type\":\"Title\"},\"toolbar\":{\"id\":\"3168\",\"type\":\"Toolbar\"},\"x_range\":{\"id\":\"3144\",\"type\":\"DataRange1d\"},\"x_scale\":{\"id\":\"3148\",\"type\":\"LinearScale\"},\"y_range\":{\"id\":\"3146\",\"type\":\"DataRange1d\"},\"y_scale\":{\"id\":\"3150\",\"type\":\"LinearScale\"}},\"id\":\"3141\",\"subtype\":\"Figure\",\"type\":\"Plot\"},{\"attributes\":{\"callback\":null,\"data\":{\"x\":[1582502400000.0,1582588800000.0,1582675200000.0,1582761600000.0,1582848000000.0,1582934400000.0,1583020800000.0,1583107200000.0,1583193600000.0,1583280000000.0,1583366400000.0,1583452800000.0,1583539200000.0,1583625600000.0,1583712000000.0,1583798400000.0,1583884800000.0,1583971200000.0,1584057600000.0,1584144000000.0,1584230400000.0,1584316800000.0,1584403200000.0,1584489600000.0,1584576000000.0,1584662400000.0,1584748800000.0,1584835200000.0,1584921600000.0,1585008000000.0,1585094400000.0,1585180800000.0,1585267200000.0,1585353600000.0,1585440000000.0,1585526400000.0,1585612800000.0,1585699200000.0,1585785600000.0,1585872000000.0,1585958400000.0,1586044800000.0,1586131200000.0,1586217600000.0,1586304000000.0,1586390400000.0,1586476800000.0,1586563200000.0,1586649600000.0,1586736000000.0,1586822400000.0,1586908800000.0,1586995200000.0,1587081600000.0,1587168000000.0,1587254400000.0,1587340800000.0,1587427200000.0,1587513600000.0,1587600000000.0,1587686400000.0,1587772800000.0,1587859200000.0,1587945600000.0,1588032000000.0,1588118400000.0,1588204800000.0,1588291200000.0,1588377600000.0,1588464000000.0,1588550400000.0,1588636800000.0,1588723200000.0,1588809600000.0,1588896000000.0,1588982400000.0,1589068800000.0,1589155200000.0,1589241600000.0,1589328000000.0,1589414400000.0,1589500800000.0,1589587200000.0,1589673600000.0,1589760000000.0,1589846400000.0,1589932800000.0,1590019200000.0,1590105600000.0,1590192000000.0,1590278400000.0,1590364800000.0,1590451200000.0,1590537600000.0,1590624000000.0,1590710400000.0,1590796800000.0,1590883200000.0,1590969600000.0,1591056000000.0,1591142400000.0,1591228800000.0,1591315200000.0,1591401600000.0,1591488000000.0,1591574400000.0,1591660800000.0,1591747200000.0,1591833600000.0,1591920000000.0,1592006400000.0,1592092800000.0,1592179200000.0,1592265600000.0,1592352000000.0,1592438400000.0,1592524800000.0,1592611200000.0,1592697600000.0,1592784000000.0,1592870400000.0,1592956800000.0,1593043200000.0,1593129600000.0,1593216000000.0,1593302400000.0,1593388800000.0,1593475200000.0,1593561600000.0,1593648000000.0,1593734400000.0,1593820800000.0,1593907200000.0,1593993600000.0,1594080000000.0,1594166400000.0,1594252800000.0,1594339200000.0,1594425600000.0,1594512000000.0,1594598400000.0,1594684800000.0,1594771200000.0,1594857600000.0,1594944000000.0,1595030400000.0,1595116800000.0,1595203200000.0,1595289600000.0,1595376000000.0,1595462400000.0,1595548800000.0,1595635200000.0,1595721600000.0,1595808000000.0,1595894400000.0,1595980800000.0,1596067200000.0,1596153600000.0,1596240000000.0,1596326400000.0,1596412800000.0,1596499200000.0,1596585600000.0,1596672000000.0,1596758400000.0,1596844800000.0,1596931200000.0,1597017600000.0,1597104000000.0,1597190400000.0,1597276800000.0,1597363200000.0,1597449600000.0,1597536000000.0,1597622400000.0,1597708800000.0,1597795200000.0,1597881600000.0,1597968000000.0,1598054400000.0,1598140800000.0,1598227200000.0,1598313600000.0,1598400000000.0,1598486400000.0,1598572800000.0,1598659200000.0,1598745600000.0,1598832000000.0,1598918400000.0,1599004800000.0,1599091200000.0,1599177600000.0,1599264000000.0,1599350400000.0,1599436800000.0,1599523200000.0,1599609600000.0,1599696000000.0,1599782400000.0,1599868800000.0,1599955200000.0,1600041600000.0,1600128000000.0,1600214400000.0,1600300800000.0,1600387200000.0,1600473600000.0,1600560000000.0,1600646400000.0,1600732800000.0,1600819200000.0,1600905600000.0,1600992000000.0,1601078400000.0,1601164800000.0,1601251200000.0,1601337600000.0,1601424000000.0,1601510400000.0,1601596800000.0,1601683200000.0,1601769600000.0,1601856000000.0,1601942400000.0,1602028800000.0,1602115200000.0,1602201600000.0,1602288000000.0,1602374400000.0,1602460800000.0,1602547200000.0,1602633600000.0,1602720000000.0,1602806400000.0,1602892800000.0,1602979200000.0,1603065600000.0,1603152000000.0,1603238400000.0,1603324800000.0,1603411200000.0,1603497600000.0,1603584000000.0,1603670400000.0,1603756800000.0,1603843200000.0,1603929600000.0,1604016000000.0,1604102400000.0,1604188800000.0,1604275200000.0,1604361600000.0,1604448000000.0,1604534400000.0,1604620800000.0,1604707200000.0,1604793600000.0,1604880000000.0,1604966400000.0,1605052800000.0,1605139200000.0,1605225600000.0,1605312000000.0,1605398400000.0,1605484800000.0,1605571200000.0,1605657600000.0,1605744000000.0,1605830400000.0,1605916800000.0,1606003200000.0,1606089600000.0,1606176000000.0,1606262400000.0,1606348800000.0,1606435200000.0,1606521600000.0,1606608000000.0,1606694400000.0,1606780800000.0,1606867200000.0,1606953600000.0,1607040000000.0,1607126400000.0,1607212800000.0,1607299200000.0,1607385600000.0,1607472000000.0,1607558400000.0,1607644800000.0,1607731200000.0,1607817600000.0,1607904000000.0,1607990400000.0,1608076800000.0,1608163200000.0,1608249600000.0,1608336000000.0,1608422400000.0,1608508800000.0,1608595200000.0,1608681600000.0,1608768000000.0,1608854400000.0,1608940800000.0,1609027200000.0,1609113600000.0,1609200000000.0,1609286400000.0,1609372800000.0,1609459200000.0,1609545600000.0,1609632000000.0,1609718400000.0,1609804800000.0,1609891200000.0,1609977600000.0,1610064000000.0,1610150400000.0,1610236800000.0,1610323200000.0,1610409600000.0,1610496000000.0,1610582400000.0,1610668800000.0,1610755200000.0,1610841600000.0,1610928000000.0,1611014400000.0,1611100800000.0,1611187200000.0,1611273600000.0,1611360000000.0,1611446400000.0,1611532800000.0,1611619200000.0,1611705600000.0,1611792000000.0,1611878400000.0,1611964800000.0,1612051200000.0,1612137600000.0,1612224000000.0,1612310400000.0,1612396800000.0,1612483200000.0,1612569600000.0,1612656000000.0,1612742400000.0,1612828800000.0,1612915200000.0,1613001600000.0,1613088000000.0,1613174400000.0,1613260800000.0,1613347200000.0,1613433600000.0,1613520000000.0,1613606400000.0,1613692800000.0,1613779200000.0,1613865600000.0,1613952000000.0,1614038400000.0,1614124800000.0,1614211200000.0,1614297600000.0,1614384000000.0,1614470400000.0,1614556800000.0,1614643200000.0,1614729600000.0,1614816000000.0,1614902400000.0,1614988800000.0,1615075200000.0,1615161600000.0,1615248000000.0,1615334400000.0,1615420800000.0,1615507200000.0,1615593600000.0,1615680000000.0,1615766400000.0,1615852800000.0,1615939200000.0,1616025600000.0,1616112000000.0,1616198400000.0,1616284800000.0,1616371200000.0,1616457600000.0,1616544000000.0,1616630400000.0,1616716800000.0,1616803200000.0,1616889600000.0,1616976000000.0,1617062400000.0,1617148800000.0,1617235200000.0,1617321600000.0,1617408000000.0,1617494400000.0,1617580800000.0,1617667200000.0,1617753600000.0,1617840000000.0,1617926400000.0,1618012800000.0,1618099200000.0,1618185600000.0,1618272000000.0,1618358400000.0,1618444800000.0,1618531200000.0,1618617600000.0,1618704000000.0,1618790400000.0,1618876800000.0,1618963200000.0,1619049600000.0,1619136000000.0,1619222400000.0,1619308800000.0,1619395200000.0,1619481600000.0,1619568000000.0,1619654400000.0,1619740800000.0,1619827200000.0,1619913600000.0,1620000000000.0,1620086400000.0,1620172800000.0,1620172800000.0],\"y\":[0,0,0,0,0,0,0,0,0,0,0,0,2,2,2,2,4,9,9,9,10,11,16,16,16,39,70,112,120,139,174,221,227,279,289,305,311,319,323,337,344,353,362,370,376,399,412,422,429,436,439,449,456,467,481,489,497,513,515,519,525,530,533,533,533,533,538,548,549,550,550,551,552,552,552,553,557,557,558,558,558,558,560,560,560,560,562,562,562,562,563,563,564,564,565,565,565,565,565,565,565,565,565,565,565,565,565,565,565,565,565,565,565,565,566,566,470,470,472,472,472,472,473,473,473,473,474,474,474,474,474,474,474,474,474,474,474,474,474,474,474,474,474,474,474,474,474,475,475,475,475,480,481,483,483,487,491,493,494,495,495,495,496,501,507,510,511,511,512,512,512,516,519,520,521,526,529,531,538,539,550,558,559,564,568,575,585,590,593,594,596,596,619,631,642,645,651,655,670,675,680,680,680,680,682,686,694,698,707,710,715,718,719,725,727,729,735,736,741,748,758,762,773,776,786,791,802,825,847,891,954,1014,1048,1087,1109,1152,1166,1189,1196,1224,1277,1324,1398,1446,1498,1587,1639,1663,1751,1822,1923,2029,2121,2201,2304,2403,2560,2633,2833,2966,3068,3206,3311,3427,3730,3941,4051,4235,4559,4823,5009,5154,5248,5293,5453,5517,5643,5778,5937,6063,6161,6247,6489,6615,6889,6978,7060,7169,7274,7312,7455,7573,7741,7824,8025,8135,8388,8529,8618,8808,8897,8930,9129,9370,9447,9648,9752,9947,10059,10346,10578,10840,11011,11114,11303,11513,11735,11942,12304,12665,12948,13235,13481,13812,14192,14414,14741,15175,15420,15621,15819,16071,16198,16495,16754,16978,17144,17248,17440,17597,17734,17819,17961,18041,18167,18290,18339,18392,18502,18600,18717,18788,18881,18947,19036,19103,19204,19255,19293,19349,19400,19454,19488,19544,19587,19608,19648,19717,19783,19814,19841,19899,19926,19962,20013,20041,20104,20130,20153,20197,20230,20281,20325,20356,20400,20459,20477,20502,20565,20646,20695,20751,20803,20851,20929,20987,21017,21100,21221,21272,21272,21433,21539,21671,21795,21875,21908,22032,22120,22189,22317,22431,22593,22714,22827,22954,23076,23211,23316,23395,23482,23607,23705,23801,23860,23956,24102,24203,24274,24324,24393,24506,24599,24688,24749,24799,24864,24864]},\"selected\":{\"id\":\"3280\",\"type\":\"Selection\"},\"selection_policy\":{\"id\":\"3281\",\"type\":\"UnionRenderers\"}},\"id\":\"3226\",\"type\":\"ColumnDataSource\"},{\"attributes\":{\"months\":[0,1,2,3,4,5,6,7,8,9,10,11]},\"id\":\"3192\",\"type\":\"MonthsTicker\"},{\"attributes\":{},\"id\":\"3250\",\"type\":\"Selection\"},{\"attributes\":{\"line_color\":\"darkmagenta\",\"line_width\":1.5,\"x\":{\"field\":\"x\"},\"y\":{\"field\":\"y\"}},\"id\":\"3176\",\"type\":\"Line\"},{\"attributes\":{\"active_drag\":\"auto\",\"active_inspect\":\"auto\",\"active_multi\":null,\"active_scroll\":\"auto\",\"active_tap\":\"auto\",\"tools\":[{\"id\":\"3162\",\"type\":\"PanTool\"},{\"id\":\"3163\",\"type\":\"WheelZoomTool\"},{\"id\":\"3164\",\"type\":\"BoxZoomTool\"},{\"id\":\"3165\",\"type\":\"SaveTool\"},{\"id\":\"3166\",\"type\":\"ResetTool\"},{\"id\":\"3167\",\"type\":\"HelpTool\"},{\"id\":\"3316\",\"type\":\"HoverTool\"},{\"id\":\"3318\",\"type\":\"PanTool\"}]},\"id\":\"3168\",\"type\":\"Toolbar\"},{\"attributes\":{\"callback\":null,\"formatters\":{\"x\":\"datetime\"},\"tooltips\":[[\"data\",\"@x{%F}\"],[\"total infected\",\"@y\"]]},\"id\":\"3316\",\"type\":\"HoverTool\"},{\"attributes\":{},\"id\":\"3148\",\"type\":\"LinearScale\"},{\"attributes\":{\"callback\":null},\"id\":\"3146\",\"type\":\"DataRange1d\"},{\"attributes\":{\"line_alpha\":0.1,\"line_color\":\"#1f77b4\",\"line_width\":1.5,\"x\":{\"field\":\"x\"},\"y\":{\"field\":\"y\"}},\"id\":\"3286\",\"type\":\"Line\"},{\"attributes\":{},\"id\":\"3222\",\"type\":\"Selection\"},{\"attributes\":{\"label\":{\"value\":\"Bari\"},\"renderers\":[{\"id\":\"3287\",\"type\":\"GlyphRenderer\"}]},\"id\":\"3315\",\"type\":\"LegendItem\"},{\"attributes\":{\"num_minor_ticks\":5,\"tickers\":[{\"id\":\"3185\",\"type\":\"AdaptiveTicker\"},{\"id\":\"3186\",\"type\":\"AdaptiveTicker\"},{\"id\":\"3187\",\"type\":\"AdaptiveTicker\"},{\"id\":\"3188\",\"type\":\"DaysTicker\"},{\"id\":\"3189\",\"type\":\"DaysTicker\"},{\"id\":\"3190\",\"type\":\"DaysTicker\"},{\"id\":\"3191\",\"type\":\"DaysTicker\"},{\"id\":\"3192\",\"type\":\"MonthsTicker\"},{\"id\":\"3193\",\"type\":\"MonthsTicker\"},{\"id\":\"3194\",\"type\":\"MonthsTicker\"},{\"id\":\"3195\",\"type\":\"MonthsTicker\"},{\"id\":\"3196\",\"type\":\"YearsTicker\"}]},\"id\":\"3153\",\"type\":\"DatetimeTicker\"},{\"attributes\":{\"source\":{\"id\":\"3175\",\"type\":\"ColumnDataSource\"}},\"id\":\"3179\",\"type\":\"CDSView\"},{\"attributes\":{\"months\":[0,4,8]},\"id\":\"3194\",\"type\":\"MonthsTicker\"},{\"attributes\":{\"callback\":null,\"data\":{\"x\":[1582502400000.0,1582588800000.0,1582675200000.0,1582761600000.0,1582848000000.0,1582934400000.0,1583020800000.0,1583107200000.0,1583193600000.0,1583280000000.0,1583366400000.0,1583452800000.0,1583539200000.0,1583625600000.0,1583712000000.0,1583798400000.0,1583884800000.0,1583971200000.0,1584057600000.0,1584144000000.0,1584230400000.0,1584316800000.0,1584403200000.0,1584489600000.0,1584576000000.0,1584662400000.0,1584748800000.0,1584835200000.0,1584921600000.0,1585008000000.0,1585094400000.0,1585180800000.0,1585267200000.0,1585353600000.0,1585440000000.0,1585526400000.0,1585612800000.0,1585699200000.0,1585785600000.0,1585872000000.0,1585958400000.0,1586044800000.0,1586131200000.0,1586217600000.0,1586304000000.0,1586390400000.0,1586476800000.0,1586563200000.0,1586649600000.0,1586736000000.0,1586822400000.0,1586908800000.0,1586995200000.0,1587081600000.0,1587168000000.0,1587254400000.0,1587340800000.0,1587427200000.0,1587513600000.0,1587600000000.0,1587686400000.0,1587772800000.0,1587859200000.0,1587945600000.0,1588032000000.0,1588118400000.0,1588204800000.0,1588291200000.0,1588377600000.0,1588464000000.0,1588550400000.0,1588636800000.0,1588723200000.0,1588809600000.0,1588896000000.0,1588982400000.0,1589068800000.0,1589155200000.0,1589241600000.0,1589328000000.0,1589414400000.0,1589500800000.0,1589587200000.0,1589673600000.0,1589760000000.0,1589846400000.0,1589932800000.0,1590019200000.0,1590105600000.0,1590192000000.0,1590278400000.0,1590364800000.0,1590451200000.0,1590537600000.0,1590624000000.0,1590710400000.0,1590796800000.0,1590883200000.0,1590969600000.0,1591056000000.0,1591142400000.0,1591228800000.0,1591315200000.0,1591401600000.0,1591488000000.0,1591574400000.0,1591660800000.0,1591747200000.0,1591833600000.0,1591920000000.0,1592006400000.0,1592092800000.0,1592179200000.0,1592265600000.0,1592352000000.0,1592438400000.0,1592524800000.0,1592611200000.0,1592697600000.0,1592784000000.0,1592870400000.0,1592956800000.0,1593043200000.0,1593129600000.0,1593216000000.0,1593302400000.0,1593388800000.0,1593475200000.0,1593561600000.0,1593648000000.0,1593734400000.0,1593820800000.0,1593907200000.0,1593993600000.0,1594080000000.0,1594166400000.0,1594252800000.0,1594339200000.0,1594425600000.0,1594512000000.0,1594598400000.0,1594684800000.0,1594771200000.0,1594857600000.0,1594944000000.0,1595030400000.0,1595116800000.0,1595203200000.0,1595289600000.0,1595376000000.0,1595462400000.0,1595548800000.0,1595635200000.0,1595721600000.0,1595808000000.0,1595894400000.0,1595980800000.0,1596067200000.0,1596153600000.0,1596240000000.0,1596326400000.0,1596412800000.0,1596499200000.0,1596585600000.0,1596672000000.0,1596758400000.0,1596844800000.0,1596931200000.0,1597017600000.0,1597104000000.0,1597190400000.0,1597276800000.0,1597363200000.0,1597449600000.0,1597536000000.0,1597622400000.0,1597708800000.0,1597795200000.0,1597881600000.0,1597968000000.0,1598054400000.0,1598140800000.0,1598227200000.0,1598313600000.0,1598400000000.0,1598486400000.0,1598572800000.0,1598659200000.0,1598745600000.0,1598832000000.0,1598918400000.0,1599004800000.0,1599091200000.0,1599177600000.0,1599264000000.0,1599350400000.0,1599436800000.0,1599523200000.0,1599609600000.0,1599696000000.0,1599782400000.0,1599868800000.0,1599955200000.0,1600041600000.0,1600128000000.0,1600214400000.0,1600300800000.0,1600387200000.0,1600473600000.0,1600560000000.0,1600646400000.0,1600732800000.0,1600819200000.0,1600905600000.0,1600992000000.0,1601078400000.0,1601164800000.0,1601251200000.0,1601337600000.0,1601424000000.0,1601510400000.0,1601596800000.0,1601683200000.0,1601769600000.0,1601856000000.0,1601942400000.0,1602028800000.0,1602115200000.0,1602201600000.0,1602288000000.0,1602374400000.0,1602460800000.0,1602547200000.0,1602633600000.0,1602720000000.0,1602806400000.0,1602892800000.0,1602979200000.0,1603065600000.0,1603152000000.0,1603238400000.0,1603324800000.0,1603411200000.0,1603497600000.0,1603584000000.0,1603670400000.0,1603756800000.0,1603843200000.0,1603929600000.0,1604016000000.0,1604102400000.0,1604188800000.0,1604275200000.0,1604361600000.0,1604448000000.0,1604534400000.0,1604620800000.0,1604707200000.0,1604793600000.0,1604880000000.0,1604966400000.0,1605052800000.0,1605139200000.0,1605225600000.0,1605312000000.0,1605398400000.0,1605484800000.0,1605571200000.0,1605657600000.0,1605744000000.0,1605830400000.0,1605916800000.0,1606003200000.0,1606089600000.0,1606176000000.0,1606262400000.0,1606348800000.0,1606435200000.0,1606521600000.0,1606608000000.0,1606694400000.0,1606780800000.0,1606867200000.0,1606953600000.0,1607040000000.0,1607126400000.0,1607212800000.0,1607299200000.0,1607385600000.0,1607472000000.0,1607558400000.0,1607644800000.0,1607731200000.0,1607817600000.0,1607904000000.0,1607990400000.0,1608076800000.0,1608163200000.0,1608249600000.0,1608336000000.0,1608422400000.0,1608508800000.0,1608595200000.0,1608681600000.0,1608768000000.0,1608854400000.0,1608940800000.0,1609027200000.0,1609113600000.0,1609200000000.0,1609286400000.0,1609372800000.0,1609459200000.0,1609545600000.0,1609632000000.0,1609718400000.0,1609804800000.0,1609891200000.0,1609977600000.0,1610064000000.0,1610150400000.0,1610236800000.0,1610323200000.0,1610409600000.0,1610496000000.0,1610582400000.0,1610668800000.0,1610755200000.0,1610841600000.0,1610928000000.0,1611014400000.0,1611100800000.0,1611187200000.0,1611273600000.0,1611360000000.0,1611446400000.0,1611532800000.0,1611619200000.0,1611705600000.0,1611792000000.0,1611878400000.0,1611964800000.0,1612051200000.0,1612137600000.0,1612224000000.0,1612310400000.0,1612396800000.0,1612483200000.0,1612569600000.0,1612656000000.0,1612742400000.0,1612828800000.0,1612915200000.0,1613001600000.0,1613088000000.0,1613174400000.0,1613260800000.0,1613347200000.0,1613433600000.0,1613520000000.0,1613606400000.0,1613692800000.0,1613779200000.0,1613865600000.0,1613952000000.0,1614038400000.0,1614124800000.0,1614211200000.0,1614297600000.0,1614384000000.0,1614470400000.0,1614556800000.0,1614643200000.0,1614729600000.0,1614816000000.0,1614902400000.0,1614988800000.0,1615075200000.0,1615161600000.0,1615248000000.0,1615334400000.0,1615420800000.0,1615507200000.0,1615593600000.0,1615680000000.0,1615766400000.0,1615852800000.0,1615939200000.0,1616025600000.0,1616112000000.0,1616198400000.0,1616284800000.0,1616371200000.0,1616457600000.0,1616544000000.0,1616630400000.0,1616716800000.0,1616803200000.0,1616889600000.0,1616976000000.0,1617062400000.0,1617148800000.0,1617235200000.0,1617321600000.0,1617408000000.0,1617494400000.0,1617580800000.0,1617667200000.0,1617753600000.0,1617840000000.0,1617926400000.0,1618012800000.0,1618099200000.0,1618185600000.0,1618272000000.0,1618358400000.0,1618444800000.0,1618531200000.0,1618617600000.0,1618704000000.0,1618790400000.0,1618876800000.0,1618963200000.0,1619049600000.0,1619136000000.0,1619222400000.0,1619308800000.0,1619395200000.0,1619481600000.0,1619568000000.0,1619654400000.0,1619740800000.0,1619827200000.0,1619913600000.0,1620000000000.0,1620086400000.0,1620172800000.0,1620172800000.0],\"y\":[0,0,0,1,0,0,0,1,2,2,2,3,5,5,6,15,18,25,38,42,58,58,95,112,137,165,194,231,268,304,336,387,444,469,518,594,616,655,700,741,762,790,807,834,861,870,886,913,921,962,989,1013,1029,1050,1075,1110,1138,1160,1188,1247,1268,1274,1282,1285,1285,1301,1313,1316,1319,1322,1328,1328,1333,1362,1371,1391,1413,1420,1427,1429,1431,1432,1434,1435,1442,1442,1443,1447,1461,1462,1465,1474,1474,1473,1472,1474,1481,1483,1486,1487,1487,1488,1488,1489,1488,1489,1488,1488,1488,1488,1488,1488,1488,1488,1488,1489,1489,1490,1491,1491,1491,1491,1491,1491,1491,1491,1491,1491,1491,1491,1493,1494,1494,1493,1492,1492,1492,1493,1494,1494,1494,1494,1494,1494,1497,1497,1498,1498,1497,1497,1500,1500,1502,1502,1502,1502,1503,1503,1504,1508,1508,1511,1513,1516,1519,1524,1526,1527,1538,1547,1563,1568,1571,1578,1586,1589,1593,1600,1604,1618,1630,1641,1671,1696,1718,1745,1765,1821,1862,1890,1914,1964,1989,2059,2091,2113,2135,2209,2273,2305,2336,2383,2439,2487,2521,2572,2605,2640,2680,2709,2746,2780,2809,2846,2869,2896,2926,2978,3002,3034,3108,3136,3201,3298,3327,3357,3425,3600,3666,3718,3789,3903,3995,4164,4308,4470,4628,4782,4947,5060,5183,5361,5595,5879,6087,6285,6524,6883,7123,7425,7688,7838,8044,8760,9133,9410,9669,9946,10106,10382,10961,11638,12317,12789,13373,13574,13841,14336,14948,15503,15981,16489,16892,17296,17833,18386,19005,19680,20190,20324,20839,21416,22294,23015,23756,24385,25168,25446,25661,25984,26250,26917,27455,27975,28187,28554,29101,29624,30110,30676,31090,31327,31667,31973,32539,33051,33212,33341,33560,33847,34429,35127,35691,35805,36232,36550,36936,37534,37704,38104,38598,39101,39329,39727,40162,40607,41060,41466,41877,42052,42423,42893,43371,43741,44075,44408,44538,44810,45269,45726,46070,46412,46766,46892,47266,47618,48120,48481,48777,49109,49251,49456,49806,50237,50675,50990,51301,51416,51653,51995,52321,52680,53048,53384,53558,53866,54427,54847,55276,55782,56355,56647,57057,57643,58289,58899,59499,60069,60370,60894,61691,62416,63130,63908,64595,64952,65397,65967,67015,67667,68491,69114,69614,70252,71007,71865,72682,73502,74063,74413,74934,75701,76561,77337,78048,78636,78847,79008,79408,80217,80842,81372,81935,82232,82488,83143,83824,84386,84952,85426,85704,85971,86377,87107,87765,88098,88596,88696,88890,89392,89814,90134,90511,90724,90778,91095,91529,91529]},\"selected\":{\"id\":\"3501\",\"type\":\"Selection\"},\"selection_policy\":{\"id\":\"3502\",\"type\":\"UnionRenderers\"}},\"id\":\"3284\",\"type\":\"ColumnDataSource\"},{\"attributes\":{\"days\":[1,15]},\"id\":\"3191\",\"type\":\"DaysTicker\"},{\"attributes\":{\"data_source\":{\"id\":\"3284\",\"type\":\"ColumnDataSource\"},\"glyph\":{\"id\":\"3285\",\"type\":\"Line\"},\"hover_glyph\":null,\"muted_glyph\":null,\"nonselection_glyph\":{\"id\":\"3286\",\"type\":\"Line\"},\"selection_glyph\":null,\"view\":{\"id\":\"3288\",\"type\":\"CDSView\"}},\"id\":\"3287\",\"type\":\"GlyphRenderer\"},{\"attributes\":{\"months\":[0,2,4,6,8,10]},\"id\":\"3193\",\"type\":\"MonthsTicker\"},{\"attributes\":{\"callback\":null,\"data\":{\"x\":[1582502400000.0,1582588800000.0,1582675200000.0,1582761600000.0,1582848000000.0,1582934400000.0,1583020800000.0,1583107200000.0,1583193600000.0,1583280000000.0,1583366400000.0,1583452800000.0,1583539200000.0,1583625600000.0,1583712000000.0,1583798400000.0,1583884800000.0,1583971200000.0,1584057600000.0,1584144000000.0,1584230400000.0,1584316800000.0,1584403200000.0,1584489600000.0,1584576000000.0,1584662400000.0,1584748800000.0,1584835200000.0,1584921600000.0,1585008000000.0,1585094400000.0,1585180800000.0,1585267200000.0,1585353600000.0,1585440000000.0,1585526400000.0,1585612800000.0,1585699200000.0,1585785600000.0,1585872000000.0,1585958400000.0,1586044800000.0,1586131200000.0,1586217600000.0,1586304000000.0,1586390400000.0,1586476800000.0,1586563200000.0,1586649600000.0,1586736000000.0,1586822400000.0,1586908800000.0,1586995200000.0,1587081600000.0,1587168000000.0,1587254400000.0,1587340800000.0,1587427200000.0,1587513600000.0,1587600000000.0,1587686400000.0,1587772800000.0,1587859200000.0,1587945600000.0,1588032000000.0,1588118400000.0,1588204800000.0,1588291200000.0,1588377600000.0,1588464000000.0,1588550400000.0,1588636800000.0,1588723200000.0,1588809600000.0,1588896000000.0,1588982400000.0,1589068800000.0,1589155200000.0,1589241600000.0,1589328000000.0,1589414400000.0,1589500800000.0,1589587200000.0,1589673600000.0,1589760000000.0,1589846400000.0,1589932800000.0,1590019200000.0,1590105600000.0,1590192000000.0,1590278400000.0,1590364800000.0,1590451200000.0,1590537600000.0,1590624000000.0,1590710400000.0,1590796800000.0,1590883200000.0,1590969600000.0,1591056000000.0,1591142400000.0,1591228800000.0,1591315200000.0,1591401600000.0,1591488000000.0,1591574400000.0,1591660800000.0,1591747200000.0,1591833600000.0,1591920000000.0,1592006400000.0,1592092800000.0,1592179200000.0,1592265600000.0,1592352000000.0,1592438400000.0,1592524800000.0,1592611200000.0,1592697600000.0,1592784000000.0,1592870400000.0,1592956800000.0,1593043200000.0,1593129600000.0,1593216000000.0,1593302400000.0,1593388800000.0,1593475200000.0,1593561600000.0,1593648000000.0,1593734400000.0,1593820800000.0,1593907200000.0,1593993600000.0,1594080000000.0,1594166400000.0,1594252800000.0,1594339200000.0,1594425600000.0,1594512000000.0,1594598400000.0,1594684800000.0,1594771200000.0,1594857600000.0,1594944000000.0,1595030400000.0,1595116800000.0,1595203200000.0,1595289600000.0,1595376000000.0,1595462400000.0,1595548800000.0,1595635200000.0,1595721600000.0,1595808000000.0,1595894400000.0,1595980800000.0,1596067200000.0,1596153600000.0,1596240000000.0,1596326400000.0,1596412800000.0,1596499200000.0,1596585600000.0,1596672000000.0,1596758400000.0,1596844800000.0,1596931200000.0,1597017600000.0,1597104000000.0,1597190400000.0,1597276800000.0,1597363200000.0,1597449600000.0,1597536000000.0,1597622400000.0,1597708800000.0,1597795200000.0,1597881600000.0,1597968000000.0,1598054400000.0,1598140800000.0,1598227200000.0,1598313600000.0,1598400000000.0,1598486400000.0,1598572800000.0,1598659200000.0,1598745600000.0,1598832000000.0,1598918400000.0,1599004800000.0,1599091200000.0,1599177600000.0,1599264000000.0,1599350400000.0,1599436800000.0,1599523200000.0,1599609600000.0,1599696000000.0,1599782400000.0,1599868800000.0,1599955200000.0,1600041600000.0,1600128000000.0,1600214400000.0,1600300800000.0,1600387200000.0,1600473600000.0,1600560000000.0,1600646400000.0,1600732800000.0,1600819200000.0,1600905600000.0,1600992000000.0,1601078400000.0,1601164800000.0,1601251200000.0,1601337600000.0,1601424000000.0,1601510400000.0,1601596800000.0,1601683200000.0,1601769600000.0,1601856000000.0,1601942400000.0,1602028800000.0,1602115200000.0,1602201600000.0,1602288000000.0,1602374400000.0,1602460800000.0,1602547200000.0,1602633600000.0,1602720000000.0,1602806400000.0,1602892800000.0,1602979200000.0,1603065600000.0,1603152000000.0,1603238400000.0,1603324800000.0,1603411200000.0,1603497600000.0,1603584000000.0,1603670400000.0,1603756800000.0,1603843200000.0,1603929600000.0,1604016000000.0,1604102400000.0,1604188800000.0,1604275200000.0,1604361600000.0,1604448000000.0,1604534400000.0,1604620800000.0,1604707200000.0,1604793600000.0,1604880000000.0,1604966400000.0,1605052800000.0,1605139200000.0,1605225600000.0,1605312000000.0,1605398400000.0,1605484800000.0,1605571200000.0,1605657600000.0,1605744000000.0,1605830400000.0,1605916800000.0,1606003200000.0,1606089600000.0,1606176000000.0,1606262400000.0,1606348800000.0,1606435200000.0,1606521600000.0,1606608000000.0,1606694400000.0,1606780800000.0,1606867200000.0,1606953600000.0,1607040000000.0,1607126400000.0,1607212800000.0,1607299200000.0,1607385600000.0,1607472000000.0,1607558400000.0,1607644800000.0,1607731200000.0,1607817600000.0,1607904000000.0,1607990400000.0,1608076800000.0,1608163200000.0,1608249600000.0,1608336000000.0,1608422400000.0,1608508800000.0,1608595200000.0,1608681600000.0,1608768000000.0,1608854400000.0,1608940800000.0,1609027200000.0,1609113600000.0,1609200000000.0,1609286400000.0,1609372800000.0,1609459200000.0,1609545600000.0,1609632000000.0,1609718400000.0,1609804800000.0,1609891200000.0,1609977600000.0,1610064000000.0,1610150400000.0,1610236800000.0,1610323200000.0,1610409600000.0,1610496000000.0,1610582400000.0,1610668800000.0,1610755200000.0,1610841600000.0,1610928000000.0,1611014400000.0,1611100800000.0,1611187200000.0,1611273600000.0,1611360000000.0,1611446400000.0,1611532800000.0,1611619200000.0,1611705600000.0,1611792000000.0,1611878400000.0,1611964800000.0,1612051200000.0,1612137600000.0,1612224000000.0,1612310400000.0,1612396800000.0,1612483200000.0,1612569600000.0,1612656000000.0,1612742400000.0,1612828800000.0,1612915200000.0,1613001600000.0,1613088000000.0,1613174400000.0,1613260800000.0,1613347200000.0,1613433600000.0,1613520000000.0,1613606400000.0,1613692800000.0,1613779200000.0,1613865600000.0,1613952000000.0,1614038400000.0,1614124800000.0,1614211200000.0,1614297600000.0,1614384000000.0,1614470400000.0,1614556800000.0,1614643200000.0,1614729600000.0,1614816000000.0,1614902400000.0,1614988800000.0,1615075200000.0,1615161600000.0,1615248000000.0,1615334400000.0,1615420800000.0,1615507200000.0,1615593600000.0,1615680000000.0,1615766400000.0,1615852800000.0,1615939200000.0,1616025600000.0,1616112000000.0,1616198400000.0,1616284800000.0,1616371200000.0,1616457600000.0,1616544000000.0,1616630400000.0,1616716800000.0,1616803200000.0,1616889600000.0,1616976000000.0,1617062400000.0,1617148800000.0,1617235200000.0,1617321600000.0,1617408000000.0,1617494400000.0,1617580800000.0,1617667200000.0,1617753600000.0,1617840000000.0,1617926400000.0,1618012800000.0,1618099200000.0,1618185600000.0,1618272000000.0,1618358400000.0,1618444800000.0,1618531200000.0,1618617600000.0,1618704000000.0,1618790400000.0,1618876800000.0,1618963200000.0,1619049600000.0,1619136000000.0,1619222400000.0,1619308800000.0,1619395200000.0,1619481600000.0,1619568000000.0,1619654400000.0,1619740800000.0,1619827200000.0,1619913600000.0,1620000000000.0,1620086400000.0,1620172800000.0,1620172800000.0],\"y\":[0,0,0,0,0,0,0,0,0,1,1,3,4,10,10,10,12,18,19,24,38,38,62,65,71,88,103,120,149,161,164,177,215,239,239,293,303,321,353,359,362,368,378,384,389,395,403,418,418,424,425,426,427,434,443,451,452,452,461,466,466,470,475,476,480,484,487,489,495,497,497,498,500,502,503,503,504,505,505,508,508,507,508,508,508,509,509,509,511,511,511,511,511,511,513,515,515,515,515,515,515,517,519,519,519,519,519,519,519,519,519,519,520,520,520,520,520,520,520,520,520,520,520,521,521,521,521,521,521,521,521,522,522,522,522,522,522,525,525,525,525,525,525,525,525,525,527,527,527,527,530,537,540,543,545,547,554,557,557,561,562,567,567,575,577,580,584,585,591,597,597,598,606,606,610,610,619,634,637,642,643,647,649,661,662,664,667,668,669,670,672,675,676,684,686,700,701,704,709,710,712,716,722,722,723,732,738,743,749,755,759,765,767,772,781,787,790,794,795,797,803,807,818,821,822,829,839,849,873,882,889,893,900,911,919,924,933,940,960,964,974,993,1012,1048,1091,1119,1134,1173,1221,1262,1287,1360,1447,1492,1518,1591,1697,1792,1855,1953,2012,2122,2243,2356,2478,2601,2672,2766,2863,2961,3136,3237,3388,3404,3513,3617,3728,3865,4000,4054,4119,4197,4295,4430,4527,4666,4886,4971,5056,5153,5318,5421,5513,5608,5667,5813,5955,6115,6205,6260,6348,6381,6445,6535,6606,6649,6678,6695,6781,6840,6988,7090,7170,7180,7267,7338,7449,7607,7688,7808,7989,8128,8212,8294,8398,8536,8623,8702,8802,8864,8949,9053,9191,9300,9405,9480,9544,9707,9851,9987,10153,10264,10344,10426,10492,10575,10661,10767,10875,10950,11011,11078,11186,11258,11341,11382,11426,11469,11517,11589,11664,11743,11829,11907,11954,12024,12123,12222,12298,12371,12440,12524,12629,12754,12841,13039,13209,13293,13410,13557,13758,13901,14121,14337,14510,14637,14832,15079,15270,15509,15776,15945,16034,16273,16582,16734,16977,17213,17509,17608,17850,18134,18425,18642,18898,19129,19254,19344,19537,19734,19910,20123,20246,20470,20649,20789,20961,21122,21285,21422,21499,21627,21829,22038,22214,22359,22525,22608,22775,22961,23187,23370,23529,23675,23775,23971,24140,24140]},\"selected\":{\"id\":\"3250\",\"type\":\"Selection\"},\"selection_policy\":{\"id\":\"3251\",\"type\":\"UnionRenderers\"}},\"id\":\"3200\",\"type\":\"ColumnDataSource\"},{\"attributes\":{\"months\":[0,6]},\"id\":\"3195\",\"type\":\"MonthsTicker\"},{\"attributes\":{\"ticker\":{\"id\":\"3153\",\"type\":\"DatetimeTicker\"}},\"id\":\"3156\",\"type\":\"Grid\"},{\"attributes\":{\"label\":{\"value\":\"Messina\"},\"renderers\":[{\"id\":\"3229\",\"type\":\"GlyphRenderer\"}]},\"id\":\"3253\",\"type\":\"LegendItem\"},{\"attributes\":{},\"id\":\"3313\",\"type\":\"UnionRenderers\"},{\"attributes\":{},\"id\":\"3196\",\"type\":\"YearsTicker\"},{\"attributes\":{\"base\":24,\"mantissas\":[1,2,4,6,8,12],\"max_interval\":43200000.0,\"min_interval\":3600000.0,\"num_minor_ticks\":0},\"id\":\"3187\",\"type\":\"AdaptiveTicker\"},{\"attributes\":{},\"id\":\"3167\",\"type\":\"HelpTool\"},{\"attributes\":{\"source\":{\"id\":\"3284\",\"type\":\"ColumnDataSource\"}},\"id\":\"3288\",\"type\":\"CDSView\"},{\"attributes\":{\"text\":\"Total infected trend for some provinces\"},\"id\":\"3142\",\"type\":\"Title\"},{\"attributes\":{\"data_source\":{\"id\":\"3226\",\"type\":\"ColumnDataSource\"},\"glyph\":{\"id\":\"3227\",\"type\":\"Line\"},\"hover_glyph\":null,\"muted_glyph\":null,\"nonselection_glyph\":{\"id\":\"3228\",\"type\":\"Line\"},\"selection_glyph\":null,\"view\":{\"id\":\"3230\",\"type\":\"CDSView\"}},\"id\":\"3229\",\"type\":\"GlyphRenderer\"},{\"attributes\":{\"dimensions\":\"width\"},\"id\":\"3318\",\"type\":\"PanTool\"},{\"attributes\":{},\"id\":\"3162\",\"type\":\"PanTool\"},{\"attributes\":{\"days\":[1,8,15,22]},\"id\":\"3190\",\"type\":\"DaysTicker\"},{\"attributes\":{\"line_color\":\"palevioletred\",\"line_width\":1.5,\"x\":{\"field\":\"x\"},\"y\":{\"field\":\"y\"}},\"id\":\"3285\",\"type\":\"Line\"},{\"attributes\":{},\"id\":\"3181\",\"type\":\"BasicTickFormatter\"},{\"attributes\":{},\"id\":\"3150\",\"type\":\"LinearScale\"},{\"attributes\":{\"bottom_units\":\"screen\",\"fill_alpha\":{\"value\":0.5},\"fill_color\":{\"value\":\"lightgrey\"},\"left_units\":\"screen\",\"level\":\"overlay\",\"line_alpha\":{\"value\":1.0},\"line_color\":{\"value\":\"black\"},\"line_dash\":[4,4],\"line_width\":{\"value\":2},\"render_mode\":\"css\",\"right_units\":\"screen\",\"top_units\":\"screen\"},\"id\":\"3197\",\"type\":\"BoxAnnotation\"},{\"attributes\":{\"callback\":null,\"data\":{\"x\":[1582502400000.0,1582588800000.0,1582675200000.0,1582761600000.0,1582848000000.0,1582934400000.0,1583020800000.0,1583107200000.0,1583193600000.0,1583280000000.0,1583366400000.0,1583452800000.0,1583539200000.0,1583625600000.0,1583712000000.0,1583798400000.0,1583884800000.0,1583971200000.0,1584057600000.0,1584144000000.0,1584230400000.0,1584316800000.0,1584403200000.0,1584489600000.0,1584576000000.0,1584662400000.0,1584748800000.0,1584835200000.0,1584921600000.0,1585008000000.0,1585094400000.0,1585180800000.0,1585267200000.0,1585353600000.0,1585440000000.0,1585526400000.0,1585612800000.0,1585699200000.0,1585785600000.0,1585872000000.0,1585958400000.0,1586044800000.0,1586131200000.0,1586217600000.0,1586304000000.0,1586390400000.0,1586476800000.0,1586563200000.0,1586649600000.0,1586736000000.0,1586822400000.0,1586908800000.0,1586995200000.0,1587081600000.0,1587168000000.0,1587254400000.0,1587340800000.0,1587427200000.0,1587513600000.0,1587600000000.0,1587686400000.0,1587772800000.0,1587859200000.0,1587945600000.0,1588032000000.0,1588118400000.0,1588204800000.0,1588291200000.0,1588377600000.0,1588464000000.0,1588550400000.0,1588636800000.0,1588723200000.0,1588809600000.0,1588896000000.0,1588982400000.0,1589068800000.0,1589155200000.0,1589241600000.0,1589328000000.0,1589414400000.0,1589500800000.0,1589587200000.0,1589673600000.0,1589760000000.0,1589846400000.0,1589932800000.0,1590019200000.0,1590105600000.0,1590192000000.0,1590278400000.0,1590364800000.0,1590451200000.0,1590537600000.0,1590624000000.0,1590710400000.0,1590796800000.0,1590883200000.0,1590969600000.0,1591056000000.0,1591142400000.0,1591228800000.0,1591315200000.0,1591401600000.0,1591488000000.0,1591574400000.0,1591660800000.0,1591747200000.0,1591833600000.0,1591920000000.0,1592006400000.0,1592092800000.0,1592179200000.0,1592265600000.0,1592352000000.0,1592438400000.0,1592524800000.0,1592611200000.0,1592697600000.0,1592784000000.0,1592870400000.0,1592956800000.0,1593043200000.0,1593129600000.0,1593216000000.0,1593302400000.0,1593388800000.0,1593475200000.0,1593561600000.0,1593648000000.0,1593734400000.0,1593820800000.0,1593907200000.0,1593993600000.0,1594080000000.0,1594166400000.0,1594252800000.0,1594339200000.0,1594425600000.0,1594512000000.0,1594598400000.0,1594684800000.0,1594771200000.0,1594857600000.0,1594944000000.0,1595030400000.0,1595116800000.0,1595203200000.0,1595289600000.0,1595376000000.0,1595462400000.0,1595548800000.0,1595635200000.0,1595721600000.0,1595808000000.0,1595894400000.0,1595980800000.0,1596067200000.0,1596153600000.0,1596240000000.0,1596326400000.0,1596412800000.0,1596499200000.0,1596585600000.0,1596672000000.0,1596758400000.0,1596844800000.0,1596931200000.0,1597017600000.0,1597104000000.0,1597190400000.0,1597276800000.0,1597363200000.0,1597449600000.0,1597536000000.0,1597622400000.0,1597708800000.0,1597795200000.0,1597881600000.0,1597968000000.0,1598054400000.0,1598140800000.0,1598227200000.0,1598313600000.0,1598400000000.0,1598486400000.0,1598572800000.0,1598659200000.0,1598745600000.0,1598832000000.0,1598918400000.0,1599004800000.0,1599091200000.0,1599177600000.0,1599264000000.0,1599350400000.0,1599436800000.0,1599523200000.0,1599609600000.0,1599696000000.0,1599782400000.0,1599868800000.0,1599955200000.0,1600041600000.0,1600128000000.0,1600214400000.0,1600300800000.0,1600387200000.0,1600473600000.0,1600560000000.0,1600646400000.0,1600732800000.0,1600819200000.0,1600905600000.0,1600992000000.0,1601078400000.0,1601164800000.0,1601251200000.0,1601337600000.0,1601424000000.0,1601510400000.0,1601596800000.0,1601683200000.0,1601769600000.0,1601856000000.0,1601942400000.0,1602028800000.0,1602115200000.0,1602201600000.0,1602288000000.0,1602374400000.0,1602460800000.0,1602547200000.0,1602633600000.0,1602720000000.0,1602806400000.0,1602892800000.0,1602979200000.0,1603065600000.0,1603152000000.0,1603238400000.0,1603324800000.0,1603411200000.0,1603497600000.0,1603584000000.0,1603670400000.0,1603756800000.0,1603843200000.0,1603929600000.0,1604016000000.0,1604102400000.0,1604188800000.0,1604275200000.0,1604361600000.0,1604448000000.0,1604534400000.0,1604620800000.0,1604707200000.0,1604793600000.0,1604880000000.0,1604966400000.0,1605052800000.0,1605139200000.0,1605225600000.0,1605312000000.0,1605398400000.0,1605484800000.0,1605571200000.0,1605657600000.0,1605744000000.0,1605830400000.0,1605916800000.0,1606003200000.0,1606089600000.0,1606176000000.0,1606262400000.0,1606348800000.0,1606435200000.0,1606521600000.0,1606608000000.0,1606694400000.0,1606780800000.0,1606867200000.0,1606953600000.0,1607040000000.0,1607126400000.0,1607212800000.0,1607299200000.0,1607385600000.0,1607472000000.0,1607558400000.0,1607644800000.0,1607731200000.0,1607817600000.0,1607904000000.0,1607990400000.0,1608076800000.0,1608163200000.0,1608249600000.0,1608336000000.0,1608422400000.0,1608508800000.0,1608595200000.0,1608681600000.0,1608768000000.0,1608854400000.0,1608940800000.0,1609027200000.0,1609113600000.0,1609200000000.0,1609286400000.0,1609372800000.0,1609459200000.0,1609545600000.0,1609632000000.0,1609718400000.0,1609804800000.0,1609891200000.0,1609977600000.0,1610064000000.0,1610150400000.0,1610236800000.0,1610323200000.0,1610409600000.0,1610496000000.0,1610582400000.0,1610668800000.0,1610755200000.0,1610841600000.0,1610928000000.0,1611014400000.0,1611100800000.0,1611187200000.0,1611273600000.0,1611360000000.0,1611446400000.0,1611532800000.0,1611619200000.0,1611705600000.0,1611792000000.0,1611878400000.0,1611964800000.0,1612051200000.0,1612137600000.0,1612224000000.0,1612310400000.0,1612396800000.0,1612483200000.0,1612569600000.0,1612656000000.0,1612742400000.0,1612828800000.0,1612915200000.0,1613001600000.0,1613088000000.0,1613174400000.0,1613260800000.0,1613347200000.0,1613433600000.0,1613520000000.0,1613606400000.0,1613692800000.0,1613779200000.0,1613865600000.0,1613952000000.0,1614038400000.0,1614124800000.0,1614211200000.0,1614297600000.0,1614384000000.0,1614470400000.0,1614556800000.0,1614643200000.0,1614729600000.0,1614816000000.0,1614902400000.0,1614988800000.0,1615075200000.0,1615161600000.0,1615248000000.0,1615334400000.0,1615420800000.0,1615507200000.0,1615593600000.0,1615680000000.0,1615766400000.0,1615852800000.0,1615939200000.0,1616025600000.0,1616112000000.0,1616198400000.0,1616284800000.0,1616371200000.0,1616457600000.0,1616544000000.0,1616630400000.0,1616716800000.0,1616803200000.0,1616889600000.0,1616976000000.0,1617062400000.0,1617148800000.0,1617235200000.0,1617321600000.0,1617408000000.0,1617494400000.0,1617580800000.0,1617667200000.0,1617753600000.0,1617840000000.0,1617926400000.0,1618012800000.0,1618099200000.0,1618185600000.0,1618272000000.0,1618358400000.0,1618444800000.0,1618531200000.0,1618617600000.0,1618704000000.0,1618790400000.0,1618876800000.0,1618963200000.0,1619049600000.0,1619136000000.0,1619222400000.0,1619308800000.0,1619395200000.0,1619481600000.0,1619568000000.0,1619654400000.0,1619740800000.0,1619827200000.0,1619913600000.0,1620000000000.0,1620086400000.0,1620172800000.0,1620172800000.0],\"y\":[0,0,0,0,3,3,3,3,3,3,3,3,3,3,3,3,4,6,8,8,10,10,17,19,23,33,35,41,46,51,56,74,78,93,99,121,126,148,163,178,180,182,190,192,201,206,208,218,221,225,226,228,235,235,239,242,243,244,249,251,253,253,255,255,255,255,258,261,263,263,265,265,268,270,270,270,270,271,272,273,275,275,275,275,275,275,276,276,278,278,278,280,280,280,281,281,281,281,281,281,281,281,281,281,281,281,281,281,281,281,280,280,280,280,280,280,280,280,280,280,280,280,281,281,281,281,281,281,281,281,281,281,281,281,281,281,281,281,281,281,281,281,281,281,281,281,281,281,281,281,281,281,281,281,281,281,281,281,281,281,281,281,281,281,282,282,282,282,282,284,285,285,288,290,290,290,290,290,291,291,293,293,294,296,302,304,309,309,313,313,316,323,347,370,378,382,382,415,418,435,444,451,453,460,470,474,484,490,493,495,496,503,509,515,518,520,532,532,538,540,548,550,564,572,574,599,626,643,670,713,723,730,748,785,825,877,931,944,957,1003,1064,1147,1212,1272,1317,1333,1391,1518,1647,1750,1851,1908,1949,2050,2203,2282,2365,2519,2625,2679,2810,2963,3146,3385,3647,3771,3898,4143,4260,4447,4562,4723,4920,5059,5201,5385,5605,5855,6120,6246,6408,6567,6741,6904,7039,7294,7553,7653,7943,7976,8133,8352,8633,8725,8738,8867,9009,9144,9312,9621,9699,9716,9915,10123,10369,10479,10497,10520,10536,10642,10890,11115,11287,11308,11386,11407,11618,11911,12040,12308,12580,12690,12708,12940,13050,13500,13778,14017,14082,14100,14307,14593,14800,14990,15273,15447,15477,15723,15926,16126,16237,16488,16651,16683,16826,17123,17286,17566,17753,17902,17931,18099,18406,18710,18964,19132,19248,19301,19480,19677,19862,20035,20212,20330,20346,20520,20716,20949,21207,21460,21526,21626,21749,21997,22331,22604,22914,23048,23077,23333,23643,23934,24286,24620,24835,24859,25048,25403,25724,26039,26410,26660,26685,27039,27333,27683,28064,28464,28819,28862,29210,29539,29913,30328,30902,31186,31230,31245,31568,31891,32218,32594,32781,32807,33037,33405,33802,34130,34373,34584,34607,34822,35111,35382,35659,35896,36017,36025,36257,36536,36715,36972,37189,37215,37226,37395,37631,37631]},\"selected\":{\"id\":\"3222\",\"type\":\"Selection\"},\"selection_policy\":{\"id\":\"3223\",\"type\":\"UnionRenderers\"}},\"id\":\"3175\",\"type\":\"ColumnDataSource\"},{\"attributes\":{\"callback\":null,\"start\":1582502400000.0},\"id\":\"3144\",\"type\":\"DataRange1d\"},{\"attributes\":{\"line_alpha\":0.1,\"line_color\":\"#1f77b4\",\"line_width\":1.5,\"x\":{\"field\":\"x\"},\"y\":{\"field\":\"y\"}},\"id\":\"3177\",\"type\":\"Line\"},{\"attributes\":{\"source\":{\"id\":\"3226\",\"type\":\"ColumnDataSource\"}},\"id\":\"3230\",\"type\":\"CDSView\"},{\"attributes\":{\"axis_label\":\"date\",\"formatter\":{\"id\":\"3183\",\"type\":\"DatetimeTickFormatter\"},\"ticker\":{\"id\":\"3153\",\"type\":\"DatetimeTicker\"}},\"id\":\"3152\",\"type\":\"DatetimeAxis\"},{\"attributes\":{},\"id\":\"3163\",\"type\":\"WheelZoomTool\"},{\"attributes\":{\"days\":[1,4,7,10,13,16,19,22,25,28]},\"id\":\"3189\",\"type\":\"DaysTicker\"},{\"attributes\":{},\"id\":\"3223\",\"type\":\"UnionRenderers\"},{\"attributes\":{\"overlay\":{\"id\":\"3197\",\"type\":\"BoxAnnotation\"}},\"id\":\"3164\",\"type\":\"BoxZoomTool\"},{\"attributes\":{},\"id\":\"3312\",\"type\":\"Selection\"},{\"attributes\":{},\"id\":\"3165\",\"type\":\"SaveTool\"},{\"attributes\":{\"label\":{\"value\":\"Lecce\"},\"renderers\":[{\"id\":\"3203\",\"type\":\"GlyphRenderer\"}]},\"id\":\"3225\",\"type\":\"LegendItem\"},{\"attributes\":{},\"id\":\"3158\",\"type\":\"BasicTicker\"},{\"attributes\":{\"axis_label\":\"total infected\",\"formatter\":{\"id\":\"3181\",\"type\":\"BasicTickFormatter\"},\"ticker\":{\"id\":\"3158\",\"type\":\"BasicTicker\"}},\"id\":\"3157\",\"type\":\"LinearAxis\"},{\"attributes\":{\"source\":{\"id\":\"3200\",\"type\":\"ColumnDataSource\"}},\"id\":\"3204\",\"type\":\"CDSView\"},{\"attributes\":{\"line_color\":\"mediumorchid\",\"line_width\":1.5,\"x\":{\"field\":\"x\"},\"y\":{\"field\":\"y\"}},\"id\":\"3227\",\"type\":\"Line\"},{\"attributes\":{\"data_source\":{\"id\":\"3200\",\"type\":\"ColumnDataSource\"},\"glyph\":{\"id\":\"3201\",\"type\":\"Line\"},\"hover_glyph\":null,\"muted_glyph\":null,\"nonselection_glyph\":{\"id\":\"3202\",\"type\":\"Line\"},\"selection_glyph\":null,\"view\":{\"id\":\"3204\",\"type\":\"CDSView\"}},\"id\":\"3203\",\"type\":\"GlyphRenderer\"},{\"attributes\":{},\"id\":\"3166\",\"type\":\"ResetTool\"},{\"attributes\":{\"dimension\":1,\"ticker\":{\"id\":\"3158\",\"type\":\"BasicTicker\"}},\"id\":\"3161\",\"type\":\"Grid\"},{\"attributes\":{\"base\":60,\"mantissas\":[1,2,5,10,15,20,30],\"max_interval\":1800000.0,\"min_interval\":1000.0,\"num_minor_ticks\":0},\"id\":\"3186\",\"type\":\"AdaptiveTicker\"},{\"attributes\":{\"days\":[1,2,3,4,5,6,7,8,9,10,11,12,13,14,15,16,17,18,19,20,21,22,23,24,25,26,27,28,29,30,31]},\"id\":\"3188\",\"type\":\"DaysTicker\"},{\"attributes\":{\"line_alpha\":0.1,\"line_color\":\"#1f77b4\",\"line_width\":1.5,\"x\":{\"field\":\"x\"},\"y\":{\"field\":\"y\"}},\"id\":\"3228\",\"type\":\"Line\"},{\"attributes\":{\"line_color\":\"lightgrey\",\"line_width\":1.5,\"x\":{\"field\":\"x\"},\"y\":{\"field\":\"y\"}},\"id\":\"3201\",\"type\":\"Line\"},{\"attributes\":{},\"id\":\"3183\",\"type\":\"DatetimeTickFormatter\"},{\"attributes\":{},\"id\":\"3251\",\"type\":\"UnionRenderers\"},{\"attributes\":{\"line_alpha\":0.1,\"line_color\":\"#1f77b4\",\"line_width\":1.5,\"x\":{\"field\":\"x\"},\"y\":{\"field\":\"y\"}},\"id\":\"3202\",\"type\":\"Line\"},{\"attributes\":{},\"id\":\"3501\",\"type\":\"Selection\"},{\"attributes\":{\"mantissas\":[1,2,5],\"max_interval\":500.0,\"num_minor_ticks\":0},\"id\":\"3185\",\"type\":\"AdaptiveTicker\"},{\"attributes\":{},\"id\":\"3502\",\"type\":\"UnionRenderers\"},{\"attributes\":{},\"id\":\"3281\",\"type\":\"UnionRenderers\"},{\"attributes\":{\"data_source\":{\"id\":\"3175\",\"type\":\"ColumnDataSource\"},\"glyph\":{\"id\":\"3176\",\"type\":\"Line\"},\"hover_glyph\":null,\"muted_glyph\":null,\"nonselection_glyph\":{\"id\":\"3177\",\"type\":\"Line\"},\"selection_glyph\":null,\"view\":{\"id\":\"3179\",\"type\":\"CDSView\"}},\"id\":\"3178\",\"type\":\"GlyphRenderer\"},{\"attributes\":{\"label\":{\"value\":\"Cagliari\"},\"renderers\":[{\"id\":\"3257\",\"type\":\"GlyphRenderer\"}]},\"id\":\"3283\",\"type\":\"LegendItem\"},{\"attributes\":{},\"id\":\"3280\",\"type\":\"Selection\"},{\"attributes\":{\"callback\":null,\"data\":{\"x\":[1582502400000.0,1582588800000.0,1582675200000.0,1582761600000.0,1582848000000.0,1582934400000.0,1583020800000.0,1583107200000.0,1583193600000.0,1583280000000.0,1583366400000.0,1583452800000.0,1583539200000.0,1583625600000.0,1583712000000.0,1583798400000.0,1583884800000.0,1583971200000.0,1584057600000.0,1584144000000.0,1584230400000.0,1584316800000.0,1584403200000.0,1584489600000.0,1584576000000.0,1584662400000.0,1584748800000.0,1584835200000.0,1584921600000.0,1585008000000.0,1585094400000.0,1585180800000.0,1585267200000.0,1585353600000.0,1585440000000.0,1585526400000.0,1585612800000.0,1585699200000.0,1585785600000.0,1585872000000.0,1585958400000.0,1586044800000.0,1586131200000.0,1586217600000.0,1586304000000.0,1586390400000.0,1586476800000.0,1586563200000.0,1586649600000.0,1586736000000.0,1586822400000.0,1586908800000.0,1586995200000.0,1587081600000.0,1587168000000.0,1587254400000.0,1587340800000.0,1587427200000.0,1587513600000.0,1587600000000.0,1587686400000.0,1587772800000.0,1587859200000.0,1587945600000.0,1588032000000.0,1588118400000.0,1588204800000.0,1588291200000.0,1588377600000.0,1588464000000.0,1588550400000.0,1588636800000.0,1588723200000.0,1588809600000.0,1588896000000.0,1588982400000.0,1589068800000.0,1589155200000.0,1589241600000.0,1589328000000.0,1589414400000.0,1589500800000.0,1589587200000.0,1589673600000.0,1589760000000.0,1589846400000.0,1589932800000.0,1590019200000.0,1590105600000.0,1590192000000.0,1590278400000.0,1590364800000.0,1590451200000.0,1590537600000.0,1590624000000.0,1590710400000.0,1590796800000.0,1590883200000.0,1590969600000.0,1591056000000.0,1591142400000.0,1591228800000.0,1591315200000.0,1591401600000.0,1591488000000.0,1591574400000.0,1591660800000.0,1591747200000.0,1591833600000.0,1591920000000.0,1592006400000.0,1592092800000.0,1592179200000.0,1592265600000.0,1592352000000.0,1592438400000.0,1592524800000.0,1592611200000.0,1592697600000.0,1592784000000.0,1592870400000.0,1592956800000.0,1593043200000.0,1593129600000.0,1593216000000.0,1593302400000.0,1593388800000.0,1593475200000.0,1593561600000.0,1593648000000.0,1593734400000.0,1593820800000.0,1593907200000.0,1593993600000.0,1594080000000.0,1594166400000.0,1594252800000.0,1594339200000.0,1594425600000.0,1594512000000.0,1594598400000.0,1594684800000.0,1594771200000.0,1594857600000.0,1594944000000.0,1595030400000.0,1595116800000.0,1595203200000.0,1595289600000.0,1595376000000.0,1595462400000.0,1595548800000.0,1595635200000.0,1595721600000.0,1595808000000.0,1595894400000.0,1595980800000.0,1596067200000.0,1596153600000.0,1596240000000.0,1596326400000.0,1596412800000.0,1596499200000.0,1596585600000.0,1596672000000.0,1596758400000.0,1596844800000.0,1596931200000.0,1597017600000.0,1597104000000.0,1597190400000.0,1597276800000.0,1597363200000.0,1597449600000.0,1597536000000.0,1597622400000.0,1597708800000.0,1597795200000.0,1597881600000.0,1597968000000.0,1598054400000.0,1598140800000.0,1598227200000.0,1598313600000.0,1598400000000.0,1598486400000.0,1598572800000.0,1598659200000.0,1598745600000.0,1598832000000.0,1598918400000.0,1599004800000.0,1599091200000.0,1599177600000.0,1599264000000.0,1599350400000.0,1599436800000.0,1599523200000.0,1599609600000.0,1599696000000.0,1599782400000.0,1599868800000.0,1599955200000.0,1600041600000.0,1600128000000.0,1600214400000.0,1600300800000.0,1600387200000.0,1600473600000.0,1600560000000.0,1600646400000.0,1600732800000.0,1600819200000.0,1600905600000.0,1600992000000.0,1601078400000.0,1601164800000.0,1601251200000.0,1601337600000.0,1601424000000.0,1601510400000.0,1601596800000.0,1601683200000.0,1601769600000.0,1601856000000.0,1601942400000.0,1602028800000.0,1602115200000.0,1602201600000.0,1602288000000.0,1602374400000.0,1602460800000.0,1602547200000.0,1602633600000.0,1602720000000.0,1602806400000.0,1602892800000.0,1602979200000.0,1603065600000.0,1603152000000.0,1603238400000.0,1603324800000.0,1603411200000.0,1603497600000.0,1603584000000.0,1603670400000.0,1603756800000.0,1603843200000.0,1603929600000.0,1604016000000.0,1604102400000.0,1604188800000.0,1604275200000.0,1604361600000.0,1604448000000.0,1604534400000.0,1604620800000.0,1604707200000.0,1604793600000.0,1604880000000.0,1604966400000.0,1605052800000.0,1605139200000.0,1605225600000.0,1605312000000.0,1605398400000.0,1605484800000.0,1605571200000.0,1605657600000.0,1605744000000.0,1605830400000.0,1605916800000.0,1606003200000.0,1606089600000.0,1606176000000.0,1606262400000.0,1606348800000.0,1606435200000.0,1606521600000.0,1606608000000.0,1606694400000.0,1606780800000.0,1606867200000.0,1606953600000.0,1607040000000.0,1607126400000.0,1607212800000.0,1607299200000.0,1607385600000.0,1607472000000.0,1607558400000.0,1607644800000.0,1607731200000.0,1607817600000.0,1607904000000.0,1607990400000.0,1608076800000.0,1608163200000.0,1608249600000.0,1608336000000.0,1608422400000.0,1608508800000.0,1608595200000.0,1608681600000.0,1608768000000.0,1608854400000.0,1608940800000.0,1609027200000.0,1609113600000.0,1609200000000.0,1609286400000.0,1609372800000.0,1609459200000.0,1609545600000.0,1609632000000.0,1609718400000.0,1609804800000.0,1609891200000.0,1609977600000.0,1610064000000.0,1610150400000.0,1610236800000.0,1610323200000.0,1610409600000.0,1610496000000.0,1610582400000.0,1610668800000.0,1610755200000.0,1610841600000.0,1610928000000.0,1611014400000.0,1611100800000.0,1611187200000.0,1611273600000.0,1611360000000.0,1611446400000.0,1611532800000.0,1611619200000.0,1611705600000.0,1611792000000.0,1611878400000.0,1611964800000.0,1612051200000.0,1612137600000.0,1612224000000.0,1612310400000.0,1612396800000.0,1612483200000.0,1612569600000.0,1612656000000.0,1612742400000.0,1612828800000.0,1612915200000.0,1613001600000.0,1613088000000.0,1613174400000.0,1613260800000.0,1613347200000.0,1613433600000.0,1613520000000.0,1613606400000.0,1613692800000.0,1613779200000.0,1613865600000.0,1613952000000.0,1614038400000.0,1614124800000.0,1614211200000.0,1614297600000.0,1614384000000.0,1614470400000.0,1614556800000.0,1614643200000.0,1614729600000.0,1614816000000.0,1614902400000.0,1614988800000.0,1615075200000.0,1615161600000.0,1615248000000.0,1615334400000.0,1615420800000.0,1615507200000.0,1615593600000.0,1615680000000.0,1615766400000.0,1615852800000.0,1615939200000.0,1616025600000.0,1616112000000.0,1616198400000.0,1616284800000.0,1616371200000.0,1616457600000.0,1616544000000.0,1616630400000.0,1616716800000.0,1616803200000.0,1616889600000.0,1616976000000.0,1617062400000.0,1617148800000.0,1617235200000.0,1617321600000.0,1617408000000.0,1617494400000.0,1617580800000.0,1617667200000.0,1617753600000.0,1617840000000.0,1617926400000.0,1618012800000.0,1618099200000.0,1618185600000.0,1618272000000.0,1618358400000.0,1618444800000.0,1618531200000.0,1618617600000.0,1618704000000.0,1618790400000.0,1618876800000.0,1618963200000.0,1619049600000.0,1619136000000.0,1619222400000.0,1619308800000.0,1619395200000.0,1619481600000.0,1619568000000.0,1619654400000.0,1619740800000.0,1619827200000.0,1619913600000.0,1620000000000.0,1620086400000.0,1620172800000.0,1620172800000.0],\"y\":[0,0,0,0,0,0,0,0,1,2,2,3,3,9,14,15,15,11,15,16,18,24,27,32,41,43,45,52,61,64,74,83,83,97,102,103,111,116,126,134,144,146,146,148,151,161,179,185,191,197,201,207,208,211,212,217,218,226,228,228,229,230,231,232,232,234,235,239,240,241,242,243,243,243,243,243,244,245,246,246,246,246,247,248,248,249,249,249,249,249,249,249,249,250,250,251,251,251,252,252,252,252,252,252,252,252,252,252,252,252,252,252,252,252,252,252,252,252,252,252,250,250,251,251,252,253,253,253,253,253,253,253,253,254,254,254,254,255,255,255,255,256,258,259,259,259,259,259,259,259,259,259,259,259,259,261,261,261,261,261,261,262,262,267,269,271,271,271,271,271,272,276,277,277,278,279,280,283,290,303,309,326,331,334,343,349,362,378,383,401,406,418,423,431,434,435,445,447,454,460,466,473,478,483,488,489,495,504,508,514,531,536,550,557,565,571,581,585,591,601,610,618,621,639,650,669,684,706,744,763,785,794,832,851,881,904,928,998,1044,1114,1141,1223,1309,1359,1418,1463,1543,1676,1745,1796,1885,1971,2050,2127,2203,2264,2310,2364,2465,2547,2648,2776,2880,2992,3063,3123,3223,3349,3440,3556,3675,3783,3866,3951,4016,4095,4157,4245,4321,4434,4496,4581,4628,4779,4886,4998,5151,5290,5353,5385,5493,5557,5602,5667,5722,5782,5894,5958,6035,6151,6268,6379,6407,6470,6558,6678,6716,6743,6775,6821,6882,6974,7060,7128,7142,7224,7293,7353,7430,7502,7551,7645,7733,7870,7921,7963,8021,8143,8207,8254,8284,8328,8376,8431,8467,8517,8567,8595,8647,8707,8757,8799,8861,8888,8913,8948,9015,9065,9091,9140,9167,9181,9209,9271,9313,9357,9414,9438,9457,9480,9537,9558,9580,9603,9644,9660,9677,9700,9726,9759,9790,9814,9841,9872,9901,9951,9982,10042,10088,10190,10204,10261,10304,10331,10392,10434,10461,10484,10538,10571,10634,10726,10797,10846,10906,10956,11029,11089,11200,11286,11365,11455,11580,11687,11774,11874,11955,12045,12121,12197,12284,12431,12523,12603,12715,12882,12972,13128,13262,13352,13435,13499,13552,13653,13753,13797,13927,13977,14057,14110,14181,14259,14307,14352,14389,14408,14442,14442]},\"selected\":{\"id\":\"3312\",\"type\":\"Selection\"},\"selection_policy\":{\"id\":\"3313\",\"type\":\"UnionRenderers\"}},\"id\":\"3254\",\"type\":\"ColumnDataSource\"},{\"attributes\":{\"data_source\":{\"id\":\"3254\",\"type\":\"ColumnDataSource\"},\"glyph\":{\"id\":\"3255\",\"type\":\"Line\"},\"hover_glyph\":null,\"muted_glyph\":null,\"nonselection_glyph\":{\"id\":\"3256\",\"type\":\"Line\"},\"selection_glyph\":null,\"view\":{\"id\":\"3258\",\"type\":\"CDSView\"}},\"id\":\"3257\",\"type\":\"GlyphRenderer\"},{\"attributes\":{\"line_color\":\"blue\",\"line_width\":1.5,\"x\":{\"field\":\"x\"},\"y\":{\"field\":\"y\"}},\"id\":\"3255\",\"type\":\"Line\"},{\"attributes\":{\"source\":{\"id\":\"3254\",\"type\":\"ColumnDataSource\"}},\"id\":\"3258\",\"type\":\"CDSView\"},{\"attributes\":{\"line_alpha\":0.1,\"line_color\":\"#1f77b4\",\"line_width\":1.5,\"x\":{\"field\":\"x\"},\"y\":{\"field\":\"y\"}},\"id\":\"3256\",\"type\":\"Line\"},{\"attributes\":{\"label\":{\"value\":\"Taranto\"},\"renderers\":[{\"id\":\"3178\",\"type\":\"GlyphRenderer\"}]},\"id\":\"3199\",\"type\":\"LegendItem\"},{\"attributes\":{\"items\":[{\"id\":\"3199\",\"type\":\"LegendItem\"},{\"id\":\"3225\",\"type\":\"LegendItem\"},{\"id\":\"3253\",\"type\":\"LegendItem\"},{\"id\":\"3283\",\"type\":\"LegendItem\"},{\"id\":\"3315\",\"type\":\"LegendItem\"}],\"location\":\"top_left\"},\"id\":\"3198\",\"type\":\"Legend\"}],\"root_ids\":[\"3141\"]},\"title\":\"Bokeh Application\",\"version\":\"1.4.0\"}};\n",
       "  var render_items = [{\"docid\":\"9074bb22-410a-4ec2-a12e-1a0aa7896b72\",\"roots\":{\"3141\":\"5cf15d68-ec4c-4370-a2d1-da85bee9dd03\"}}];\n",
       "  root.Bokeh.embed.embed_items_notebook(docs_json, render_items);\n",
       "\n",
       "  }\n",
       "  if (root.Bokeh !== undefined) {\n",
       "    embed_document(root);\n",
       "  } else {\n",
       "    var attempts = 0;\n",
       "    var timer = setInterval(function(root) {\n",
       "      if (root.Bokeh !== undefined) {\n",
       "        clearInterval(timer);\n",
       "        embed_document(root);\n",
       "      } else {\n",
       "        attempts++;\n",
       "        if (attempts > 100) {\n",
       "          clearInterval(timer);\n",
       "          console.log(\"Bokeh: ERROR: Unable to run BokehJS code because BokehJS library is missing\");\n",
       "        }\n",
       "      }\n",
       "    }, 10, root)\n",
       "  }\n",
       "})(window);"
      ],
      "application/vnd.bokehjs_exec.v0+json": ""
     },
     "metadata": {
      "application/vnd.bokehjs_exec.v0+json": {
       "id": "3141"
      }
     },
     "output_type": "display_data"
    }
   ],
   "source": [
    "fig = figure(title='Total infected trend for some provinces', \n",
    "             width=1000, \n",
    "             height=400,\n",
    "             x_axis_label='date',\n",
    "             y_axis_label='total infected',\n",
    "             x_axis_type='datetime')\n",
    "\n",
    "for p in province:\n",
    "    df_prov_filtered = df_prov.query('denominazione_provincia==@p').sort_values(by='only_data')\n",
    "    fig.line(df_prov_filtered['only_data'], df_prov_filtered['totale_casi'], \n",
    "             color=colors[province.index(p)],\n",
    "             legend_label=p, \n",
    "             line_width=1.5)\n",
    "\n",
    "\n",
    "# add the hover tool\n",
    "fig.add_tools(HoverTool(\n",
    "    tooltips=[('data', '@x{%F}'), ('total infected', '@y')],\n",
    "    formatters=dict(x='datetime')\n",
    "))\n",
    "\n",
    "fig.add_tools(PanTool(dimensions='width'))\n",
    "fig.legend.location = 'top_left'\n",
    "fig.x_range.start = df_prov['only_data'].min()\n",
    "    \n",
    "# Show the figure\n",
    "show(fig)"
   ]
  },
  {
   "cell_type": "code",
   "execution_count": null,
   "metadata": {},
   "outputs": [],
   "source": []
  },
  {
   "cell_type": "markdown",
   "metadata": {},
   "source": [
    "# Analysis on the use of vaccines"
   ]
  },
  {
   "cell_type": "markdown",
   "metadata": {},
   "source": [
    "In this section you can find an analysis of the vaccines use against COVID-19, both in a cumulative way and for day, related to:\n",
    "\n",
    "- all the Italy globally considered;\n",
    "- some regions of the Italy;\n",
    "- for supplier;\n",
    "- for range of age"
   ]
  },
  {
   "cell_type": "code",
   "execution_count": 31,
   "metadata": {},
   "outputs": [],
   "source": [
    "dati_vaccini = pd.read_csv('covid19-opendata-vaccini/dati/somministrazioni-vaccini-latest.csv')"
   ]
  },
  {
   "cell_type": "code",
   "execution_count": 32,
   "metadata": {},
   "outputs": [],
   "source": [
    "dati_vaccini['data_somministrazione'] = pd.to_datetime(dati_vaccini['data_somministrazione']).dt.date"
   ]
  },
  {
   "cell_type": "code",
   "execution_count": 33,
   "metadata": {},
   "outputs": [],
   "source": [
    "dati_vaccini['totale_somministrazioni'] = dati_vaccini['sesso_maschile'] + dati_vaccini['sesso_femminile']"
   ]
  },
  {
   "cell_type": "markdown",
   "metadata": {},
   "source": [
    "## Italy globally considered"
   ]
  },
  {
   "cell_type": "code",
   "execution_count": 34,
   "metadata": {},
   "outputs": [
    {
     "data": {
      "text/html": [
       "\n",
       "\n",
       "\n",
       "\n",
       "\n",
       "\n",
       "  <div class=\"bk-root\" id=\"2a2c0e9c-3d3f-4ffb-b83e-03b64dc90f1d\" data-root-id=\"3672\"></div>\n"
      ]
     },
     "metadata": {},
     "output_type": "display_data"
    },
    {
     "data": {
      "application/javascript": [
       "(function(root) {\n",
       "  function embed_document(root) {\n",
       "    \n",
       "  var docs_json = {\"6201a557-75a1-4704-81f2-a97d869c8a97\":{\"roots\":{\"references\":[{\"attributes\":{\"below\":[{\"id\":\"3683\",\"type\":\"DatetimeAxis\"}],\"center\":[{\"id\":\"3687\",\"type\":\"Grid\"},{\"id\":\"3692\",\"type\":\"Grid\"}],\"left\":[{\"id\":\"3688\",\"type\":\"LinearAxis\"}],\"plot_height\":400,\"plot_width\":800,\"renderers\":[{\"id\":\"3709\",\"type\":\"GlyphRenderer\"}],\"title\":{\"id\":\"3673\",\"type\":\"Title\"},\"toolbar\":{\"id\":\"3699\",\"type\":\"Toolbar\"},\"x_range\":{\"id\":\"3675\",\"type\":\"DataRange1d\"},\"x_scale\":{\"id\":\"3679\",\"type\":\"LinearScale\"},\"y_range\":{\"id\":\"3677\",\"type\":\"DataRange1d\"},\"y_scale\":{\"id\":\"3681\",\"type\":\"LinearScale\"}},\"id\":\"3672\",\"subtype\":\"Figure\",\"type\":\"Plot\"},{\"attributes\":{\"days\":[1,15]},\"id\":\"3910\",\"type\":\"DaysTicker\"},{\"attributes\":{},\"id\":\"3697\",\"type\":\"ResetTool\"},{\"attributes\":{\"months\":[0,6]},\"id\":\"3914\",\"type\":\"MonthsTicker\"},{\"attributes\":{},\"id\":\"3915\",\"type\":\"YearsTicker\"},{\"attributes\":{\"months\":[0,1,2,3,4,5,6,7,8,9,10,11]},\"id\":\"3911\",\"type\":\"MonthsTicker\"},{\"attributes\":{\"active_drag\":\"auto\",\"active_inspect\":\"auto\",\"active_multi\":null,\"active_scroll\":\"auto\",\"active_tap\":\"auto\",\"tools\":[{\"id\":\"3693\",\"type\":\"PanTool\"},{\"id\":\"3694\",\"type\":\"WheelZoomTool\"},{\"id\":\"3695\",\"type\":\"BoxZoomTool\"},{\"id\":\"3696\",\"type\":\"SaveTool\"},{\"id\":\"3697\",\"type\":\"ResetTool\"},{\"id\":\"3698\",\"type\":\"HelpTool\"},{\"id\":\"3711\",\"type\":\"HoverTool\"},{\"id\":\"3713\",\"type\":\"PanTool\"}]},\"id\":\"3699\",\"type\":\"Toolbar\"},{\"attributes\":{\"dimensions\":\"width\"},\"id\":\"3713\",\"type\":\"PanTool\"},{\"attributes\":{\"base\":24,\"mantissas\":[1,2,4,6,8,12],\"max_interval\":43200000.0,\"min_interval\":3600000.0,\"num_minor_ticks\":0},\"id\":\"3906\",\"type\":\"AdaptiveTicker\"},{\"attributes\":{\"months\":[0,4,8]},\"id\":\"3913\",\"type\":\"MonthsTicker\"},{\"attributes\":{\"overlay\":{\"id\":\"3918\",\"type\":\"BoxAnnotation\"}},\"id\":\"3695\",\"type\":\"BoxZoomTool\"},{\"attributes\":{\"days\":[1,2,3,4,5,6,7,8,9,10,11,12,13,14,15,16,17,18,19,20,21,22,23,24,25,26,27,28,29,30,31]},\"id\":\"3907\",\"type\":\"DaysTicker\"},{\"attributes\":{\"mantissas\":[1,2,5],\"max_interval\":500.0,\"num_minor_ticks\":0},\"id\":\"3904\",\"type\":\"AdaptiveTicker\"},{\"attributes\":{\"callback\":null,\"formatters\":{\"x\":\"datetime\"},\"tooltips\":[[\"date\",\"@x{%F}\"],[\"total\",\"@y\"]]},\"id\":\"3711\",\"type\":\"HoverTool\"},{\"attributes\":{},\"id\":\"3916\",\"type\":\"Selection\"},{\"attributes\":{},\"id\":\"3900\",\"type\":\"BasicTickFormatter\"},{\"attributes\":{\"ticker\":{\"id\":\"3684\",\"type\":\"DatetimeTicker\"}},\"id\":\"3687\",\"type\":\"Grid\"},{\"attributes\":{},\"id\":\"3917\",\"type\":\"UnionRenderers\"},{\"attributes\":{\"data_source\":{\"id\":\"3706\",\"type\":\"ColumnDataSource\"},\"glyph\":{\"id\":\"3707\",\"type\":\"Line\"},\"hover_glyph\":null,\"muted_glyph\":null,\"nonselection_glyph\":{\"id\":\"3708\",\"type\":\"Line\"},\"selection_glyph\":null,\"view\":{\"id\":\"3710\",\"type\":\"CDSView\"}},\"id\":\"3709\",\"type\":\"GlyphRenderer\"},{\"attributes\":{},\"id\":\"3694\",\"type\":\"WheelZoomTool\"},{\"attributes\":{\"months\":[0,2,4,6,8,10]},\"id\":\"3912\",\"type\":\"MonthsTicker\"},{\"attributes\":{\"source\":{\"id\":\"3706\",\"type\":\"ColumnDataSource\"}},\"id\":\"3710\",\"type\":\"CDSView\"},{\"attributes\":{\"num_minor_ticks\":5,\"tickers\":[{\"id\":\"3904\",\"type\":\"AdaptiveTicker\"},{\"id\":\"3905\",\"type\":\"AdaptiveTicker\"},{\"id\":\"3906\",\"type\":\"AdaptiveTicker\"},{\"id\":\"3907\",\"type\":\"DaysTicker\"},{\"id\":\"3908\",\"type\":\"DaysTicker\"},{\"id\":\"3909\",\"type\":\"DaysTicker\"},{\"id\":\"3910\",\"type\":\"DaysTicker\"},{\"id\":\"3911\",\"type\":\"MonthsTicker\"},{\"id\":\"3912\",\"type\":\"MonthsTicker\"},{\"id\":\"3913\",\"type\":\"MonthsTicker\"},{\"id\":\"3914\",\"type\":\"MonthsTicker\"},{\"id\":\"3915\",\"type\":\"YearsTicker\"}]},\"id\":\"3684\",\"type\":\"DatetimeTicker\"},{\"attributes\":{\"days\":[1,4,7,10,13,16,19,22,25,28]},\"id\":\"3908\",\"type\":\"DaysTicker\"},{\"attributes\":{\"base\":60,\"mantissas\":[1,2,5,10,15,20,30],\"max_interval\":1800000.0,\"min_interval\":1000.0,\"num_minor_ticks\":0},\"id\":\"3905\",\"type\":\"AdaptiveTicker\"},{\"attributes\":{},\"id\":\"3689\",\"type\":\"BasicTicker\"},{\"attributes\":{},\"id\":\"3693\",\"type\":\"PanTool\"},{\"attributes\":{},\"id\":\"3679\",\"type\":\"LinearScale\"},{\"attributes\":{},\"id\":\"3681\",\"type\":\"LinearScale\"},{\"attributes\":{\"bottom_units\":\"screen\",\"fill_alpha\":{\"value\":0.5},\"fill_color\":{\"value\":\"lightgrey\"},\"left_units\":\"screen\",\"level\":\"overlay\",\"line_alpha\":{\"value\":1.0},\"line_color\":{\"value\":\"black\"},\"line_dash\":[4,4],\"line_width\":{\"value\":2},\"render_mode\":\"css\",\"right_units\":\"screen\",\"top_units\":\"screen\"},\"id\":\"3918\",\"type\":\"BoxAnnotation\"},{\"attributes\":{\"days\":[1,8,15,22]},\"id\":\"3909\",\"type\":\"DaysTicker\"},{\"attributes\":{},\"id\":\"3902\",\"type\":\"DatetimeTickFormatter\"},{\"attributes\":{\"axis_label\":\"total\",\"formatter\":{\"id\":\"3900\",\"type\":\"BasicTickFormatter\"},\"ticker\":{\"id\":\"3689\",\"type\":\"BasicTicker\"}},\"id\":\"3688\",\"type\":\"LinearAxis\"},{\"attributes\":{\"axis_label\":\"date\",\"formatter\":{\"id\":\"3902\",\"type\":\"DatetimeTickFormatter\"},\"ticker\":{\"id\":\"3684\",\"type\":\"DatetimeTicker\"}},\"id\":\"3683\",\"type\":\"DatetimeAxis\"},{\"attributes\":{\"line_color\":\"#1f77b4\",\"line_width\":2,\"x\":{\"field\":\"x\"},\"y\":{\"field\":\"y\"}},\"id\":\"3707\",\"type\":\"Line\"},{\"attributes\":{\"dimension\":1,\"ticker\":{\"id\":\"3689\",\"type\":\"BasicTicker\"}},\"id\":\"3692\",\"type\":\"Grid\"},{\"attributes\":{\"callback\":null,\"data\":{\"x\":[1609027200000.0,1609113600000.0,1609200000000.0,1609286400000.0,1609372800000.0,1609459200000.0,1609545600000.0,1609632000000.0,1609718400000.0,1609804800000.0,1609891200000.0,1609977600000.0,1610064000000.0,1610150400000.0,1610236800000.0,1610323200000.0,1610409600000.0,1610496000000.0,1610582400000.0,1610668800000.0,1610755200000.0,1610841600000.0,1610928000000.0,1611014400000.0,1611100800000.0,1611187200000.0,1611273600000.0,1611360000000.0,1611446400000.0,1611532800000.0,1611619200000.0,1611705600000.0,1611792000000.0,1611878400000.0,1611964800000.0,1612051200000.0,1612137600000.0,1612224000000.0,1612310400000.0,1612396800000.0,1612483200000.0,1612569600000.0,1612656000000.0,1612742400000.0,1612828800000.0,1612915200000.0,1613001600000.0,1613088000000.0,1613174400000.0,1613260800000.0,1613347200000.0,1613433600000.0,1613520000000.0,1613606400000.0,1613692800000.0,1613779200000.0,1613865600000.0,1613952000000.0,1614038400000.0,1614124800000.0,1614211200000.0,1614297600000.0,1614384000000.0,1614470400000.0,1614556800000.0,1614643200000.0,1614729600000.0,1614816000000.0,1614902400000.0,1614988800000.0,1615075200000.0,1615161600000.0,1615248000000.0,1615334400000.0,1615420800000.0,1615507200000.0,1615593600000.0,1615680000000.0,1615766400000.0,1615852800000.0,1615939200000.0,1616025600000.0,1616112000000.0,1616198400000.0,1616284800000.0,1616371200000.0,1616457600000.0,1616544000000.0,1616630400000.0,1616716800000.0,1616803200000.0,1616889600000.0,1616976000000.0,1617062400000.0,1617148800000.0,1617235200000.0,1617321600000.0,1617408000000.0,1617494400000.0,1617580800000.0,1617667200000.0,1617753600000.0,1617840000000.0,1617926400000.0,1618012800000.0,1618099200000.0,1618185600000.0,1618272000000.0,1618358400000.0,1618444800000.0,1618531200000.0,1618617600000.0,1618704000000.0,1618790400000.0,1618876800000.0,1618963200000.0,1619049600000.0,1619136000000.0,1619222400000.0,1619308800000.0,1619395200000.0,1619481600000.0,1619568000000.0,1619654400000.0,1619740800000.0,1619827200000.0,1619913600000.0,1620000000000.0,1620086400000.0,1620172800000.0],\"y\":[7175,1424,1009,4728,25481,11061,38523,35164,68771,79798,65189,92255,95630,86993,60367,80979,82063,94558,93775,89693,64973,37068,43824,32892,30696,35529,26603,38772,33886,69068,80290,70864,93553,97785,90281,59570,85615,87891,99590,107500,107172,76967,41742,66809,66681,72688,74637,73945,52644,29437,62759,71108,79945,89599,92382,77958,50979,105458,106486,122000,128186,136416,126261,77964,135458,160461,185753,195858,203212,176402,101101,178441,191169,211916,219373,208850,176017,105417,170962,140082,165265,163189,174873,174147,129573,192025,221435,251982,264591,265879,238635,161868,239109,264697,301465,283359,279628,228388,96133,170179,282332,320750,332156,332543,318803,201378,265662,287103,318907,348661,377212,355704,240903,309327,331469,371027,395431,401349,383000,266071,342444,368319,404726,522112,519045,427515,366237,395469,422463,145703]},\"selected\":{\"id\":\"3916\",\"type\":\"Selection\"},\"selection_policy\":{\"id\":\"3917\",\"type\":\"UnionRenderers\"}},\"id\":\"3706\",\"type\":\"ColumnDataSource\"},{\"attributes\":{\"text\":\"trend for the daily vaccines done\"},\"id\":\"3673\",\"type\":\"Title\"},{\"attributes\":{\"line_alpha\":0.1,\"line_color\":\"#1f77b4\",\"line_width\":2,\"x\":{\"field\":\"x\"},\"y\":{\"field\":\"y\"}},\"id\":\"3708\",\"type\":\"Line\"},{\"attributes\":{},\"id\":\"3696\",\"type\":\"SaveTool\"},{\"attributes\":{\"callback\":null},\"id\":\"3677\",\"type\":\"DataRange1d\"},{\"attributes\":{},\"id\":\"3698\",\"type\":\"HelpTool\"},{\"attributes\":{\"callback\":null,\"start\":1609027200000.0},\"id\":\"3675\",\"type\":\"DataRange1d\"}],\"root_ids\":[\"3672\"]},\"title\":\"Bokeh Application\",\"version\":\"1.4.0\"}};\n",
       "  var render_items = [{\"docid\":\"6201a557-75a1-4704-81f2-a97d869c8a97\",\"roots\":{\"3672\":\"2a2c0e9c-3d3f-4ffb-b83e-03b64dc90f1d\"}}];\n",
       "  root.Bokeh.embed.embed_items_notebook(docs_json, render_items);\n",
       "\n",
       "  }\n",
       "  if (root.Bokeh !== undefined) {\n",
       "    embed_document(root);\n",
       "  } else {\n",
       "    var attempts = 0;\n",
       "    var timer = setInterval(function(root) {\n",
       "      if (root.Bokeh !== undefined) {\n",
       "        clearInterval(timer);\n",
       "        embed_document(root);\n",
       "      } else {\n",
       "        attempts++;\n",
       "        if (attempts > 100) {\n",
       "          clearInterval(timer);\n",
       "          console.log(\"Bokeh: ERROR: Unable to run BokehJS code because BokehJS library is missing\");\n",
       "        }\n",
       "      }\n",
       "    }, 10, root)\n",
       "  }\n",
       "})(window);"
      ],
      "application/vnd.bokehjs_exec.v0+json": ""
     },
     "metadata": {
      "application/vnd.bokehjs_exec.v0+json": {
       "id": "3672"
      }
     },
     "output_type": "display_data"
    }
   ],
   "source": [
    "fig = figure(title='trend for the daily vaccines done',\n",
    "             x_axis_label='date',\n",
    "             y_axis_label='total',\n",
    "             width=800,\n",
    "             height=400,\n",
    "             x_axis_type='datetime')\n",
    "\n",
    "df = dati_vaccini[['data_somministrazione', 'totale_somministrazioni']].groupby('data_somministrazione').sum()\n",
    "fig.line(df.index,\n",
    "         df['totale_somministrazioni'],\n",
    "         #legend_label='example value', \n",
    "         line_width=2)\n",
    "\n",
    "fig.add_tools(HoverTool(\n",
    "    tooltips=[('date', '@x{%F}'), ('total', '@y')],\n",
    "    formatters=dict(x='datetime')\n",
    "))\n",
    "fig.add_tools(PanTool(dimensions='width'))\n",
    "fig.x_range.start = dati_vaccini['data_somministrazione'].min()\n",
    "\n",
    "show(fig)"
   ]
  },
  {
   "cell_type": "code",
   "execution_count": 35,
   "metadata": {},
   "outputs": [
    {
     "data": {
      "text/html": [
       "\n",
       "\n",
       "\n",
       "\n",
       "\n",
       "\n",
       "  <div class=\"bk-root\" id=\"43e02e89-f5d8-4492-a8ae-06b35421de58\" data-root-id=\"4039\"></div>\n"
      ]
     },
     "metadata": {},
     "output_type": "display_data"
    },
    {
     "data": {
      "application/javascript": [
       "(function(root) {\n",
       "  function embed_document(root) {\n",
       "    \n",
       "  var docs_json = {\"edfeff2a-9914-46bf-842f-6e855fcffbe7\":{\"roots\":{\"references\":[{\"attributes\":{\"below\":[{\"id\":\"4050\",\"type\":\"DatetimeAxis\"}],\"center\":[{\"id\":\"4054\",\"type\":\"Grid\"},{\"id\":\"4059\",\"type\":\"Grid\"},{\"id\":\"4096\",\"type\":\"Legend\"}],\"left\":[{\"id\":\"4055\",\"type\":\"LinearAxis\"}],\"plot_height\":400,\"plot_width\":800,\"renderers\":[{\"id\":\"4076\",\"type\":\"GlyphRenderer\"},{\"id\":\"4101\",\"type\":\"GlyphRenderer\"}],\"title\":{\"id\":\"4040\",\"type\":\"Title\"},\"toolbar\":{\"id\":\"4066\",\"type\":\"Toolbar\"},\"x_range\":{\"id\":\"4042\",\"type\":\"DataRange1d\"},\"x_scale\":{\"id\":\"4046\",\"type\":\"LinearScale\"},\"y_range\":{\"id\":\"4044\",\"type\":\"DataRange1d\"},\"y_scale\":{\"id\":\"4048\",\"type\":\"LinearScale\"}},\"id\":\"4039\",\"subtype\":\"Figure\",\"type\":\"Plot\"},{\"attributes\":{\"callback\":null},\"id\":\"4044\",\"type\":\"DataRange1d\"},{\"attributes\":{},\"id\":\"4046\",\"type\":\"LinearScale\"},{\"attributes\":{\"line_alpha\":0.1,\"line_color\":\"#1f77b4\",\"line_width\":2,\"x\":{\"field\":\"x\"},\"y\":{\"field\":\"y\"}},\"id\":\"4075\",\"type\":\"Line\"},{\"attributes\":{\"ticker\":{\"id\":\"4051\",\"type\":\"DatetimeTicker\"}},\"id\":\"4054\",\"type\":\"Grid\"},{\"attributes\":{\"axis_label\":\"total\",\"formatter\":{\"id\":\"4079\",\"type\":\"BasicTickFormatter\"},\"ticker\":{\"id\":\"4056\",\"type\":\"BasicTicker\"}},\"id\":\"4055\",\"type\":\"LinearAxis\"},{\"attributes\":{},\"id\":\"4056\",\"type\":\"BasicTicker\"},{\"attributes\":{\"dimensions\":\"width\"},\"id\":\"4126\",\"type\":\"PanTool\"},{\"attributes\":{\"dimension\":1,\"ticker\":{\"id\":\"4056\",\"type\":\"BasicTicker\"}},\"id\":\"4059\",\"type\":\"Grid\"},{\"attributes\":{\"line_color\":\"red\",\"line_width\":2,\"x\":{\"field\":\"x\"},\"y\":{\"field\":\"y\"}},\"id\":\"4074\",\"type\":\"Line\"},{\"attributes\":{},\"id\":\"4061\",\"type\":\"WheelZoomTool\"},{\"attributes\":{\"active_drag\":\"auto\",\"active_inspect\":\"auto\",\"active_multi\":null,\"active_scroll\":\"auto\",\"active_tap\":\"auto\",\"tools\":[{\"id\":\"4060\",\"type\":\"PanTool\"},{\"id\":\"4061\",\"type\":\"WheelZoomTool\"},{\"id\":\"4062\",\"type\":\"BoxZoomTool\"},{\"id\":\"4063\",\"type\":\"SaveTool\"},{\"id\":\"4064\",\"type\":\"ResetTool\"},{\"id\":\"4065\",\"type\":\"HelpTool\"},{\"id\":\"4124\",\"type\":\"HoverTool\"},{\"id\":\"4126\",\"type\":\"PanTool\"}]},\"id\":\"4066\",\"type\":\"Toolbar\"},{\"attributes\":{},\"id\":\"4120\",\"type\":\"Selection\"},{\"attributes\":{},\"id\":\"4060\",\"type\":\"PanTool\"},{\"attributes\":{},\"id\":\"4081\",\"type\":\"DatetimeTickFormatter\"},{\"attributes\":{},\"id\":\"4065\",\"type\":\"HelpTool\"},{\"attributes\":{},\"id\":\"4063\",\"type\":\"SaveTool\"},{\"attributes\":{},\"id\":\"4121\",\"type\":\"UnionRenderers\"},{\"attributes\":{\"overlay\":{\"id\":\"4095\",\"type\":\"BoxAnnotation\"}},\"id\":\"4062\",\"type\":\"BoxZoomTool\"},{\"attributes\":{\"callback\":null,\"formatters\":{\"x\":\"datetime\"},\"tooltips\":[[\"date\",\"@x{%F}\"],[\"total\",\"@y\"]]},\"id\":\"4124\",\"type\":\"HoverTool\"},{\"attributes\":{},\"id\":\"4064\",\"type\":\"ResetTool\"},{\"attributes\":{\"mantissas\":[1,2,5],\"max_interval\":500.0,\"num_minor_ticks\":0},\"id\":\"4083\",\"type\":\"AdaptiveTicker\"},{\"attributes\":{\"data_source\":{\"id\":\"4073\",\"type\":\"ColumnDataSource\"},\"glyph\":{\"id\":\"4074\",\"type\":\"Line\"},\"hover_glyph\":null,\"muted_glyph\":null,\"nonselection_glyph\":{\"id\":\"4075\",\"type\":\"Line\"},\"selection_glyph\":null,\"view\":{\"id\":\"4077\",\"type\":\"CDSView\"}},\"id\":\"4076\",\"type\":\"GlyphRenderer\"},{\"attributes\":{\"base\":60,\"mantissas\":[1,2,5,10,15,20,30],\"max_interval\":1800000.0,\"min_interval\":1000.0,\"num_minor_ticks\":0},\"id\":\"4084\",\"type\":\"AdaptiveTicker\"},{\"attributes\":{\"callback\":null,\"data\":{\"x\":[1609027200000.0,1609113600000.0,1609200000000.0,1609286400000.0,1609372800000.0,1609459200000.0,1609545600000.0,1609632000000.0,1609718400000.0,1609804800000.0,1609891200000.0,1609977600000.0,1610064000000.0,1610150400000.0,1610236800000.0,1610323200000.0,1610409600000.0,1610496000000.0,1610582400000.0,1610668800000.0,1610755200000.0,1610841600000.0,1610928000000.0,1611014400000.0,1611100800000.0,1611187200000.0,1611273600000.0,1611360000000.0,1611446400000.0,1611532800000.0,1611619200000.0,1611705600000.0,1611792000000.0,1611878400000.0,1611964800000.0,1612051200000.0,1612137600000.0,1612224000000.0,1612310400000.0,1612396800000.0,1612483200000.0,1612569600000.0,1612656000000.0,1612742400000.0,1612828800000.0,1612915200000.0,1613001600000.0,1613088000000.0,1613174400000.0,1613260800000.0,1613347200000.0,1613433600000.0,1613520000000.0,1613606400000.0,1613692800000.0,1613779200000.0,1613865600000.0,1613952000000.0,1614038400000.0,1614124800000.0,1614211200000.0,1614297600000.0,1614384000000.0,1614470400000.0,1614556800000.0,1614643200000.0,1614729600000.0,1614816000000.0,1614902400000.0,1614988800000.0,1615075200000.0,1615161600000.0,1615248000000.0,1615334400000.0,1615420800000.0,1615507200000.0,1615593600000.0,1615680000000.0,1615766400000.0,1615852800000.0,1615939200000.0,1616025600000.0,1616112000000.0,1616198400000.0,1616284800000.0,1616371200000.0,1616457600000.0,1616544000000.0,1616630400000.0,1616716800000.0,1616803200000.0,1616889600000.0,1616976000000.0,1617062400000.0,1617148800000.0,1617235200000.0,1617321600000.0,1617408000000.0,1617494400000.0,1617580800000.0,1617667200000.0,1617753600000.0,1617840000000.0,1617926400000.0,1618012800000.0,1618099200000.0,1618185600000.0,1618272000000.0,1618358400000.0,1618444800000.0,1618531200000.0,1618617600000.0,1618704000000.0,1618790400000.0,1618876800000.0,1618963200000.0,1619049600000.0,1619136000000.0,1619222400000.0,1619308800000.0,1619395200000.0,1619481600000.0,1619568000000.0,1619654400000.0,1619740800000.0,1619827200000.0,1619913600000.0,1620000000000.0,1620086400000.0,1620172800000.0],\"y\":[7175,1424,1009,4728,25481,11061,38523,35164,68771,79798,65189,92255,95630,86993,60367,80979,82063,94558,93775,89693,64973,34154,38884,31190,26185,15934,12635,5989,3256,4827,4381,6223,4829,4877,4297,2644,4311,6426,9254,13336,17875,14645,9167,26829,34584,44937,55317,58750,45975,26882,56828,65005,70581,81764,86001,73628,48774,100229,101220,114100,116301,121653,114515,69826,111086,129857,143862,148675,151140,137353,81071,131075,141784,157196,160247,148060,127721,72262,100900,68267,84813,84139,96675,112226,84339,126365,150405,166650,181399,187991,172100,121516,173090,189474,211236,193973,201072,168347,75724,132441,207190,234810,244482,251148,250592,160297,203715,220110,239428,250563,278320,272721,187160,221878,234813,252817,261437,272914,270083,219714,261097,258301,266598,351085,333199,281161,250518,280646,298688,95032]},\"selected\":{\"id\":\"4120\",\"type\":\"Selection\"},\"selection_policy\":{\"id\":\"4121\",\"type\":\"UnionRenderers\"}},\"id\":\"4073\",\"type\":\"ColumnDataSource\"},{\"attributes\":{\"days\":[1,2,3,4,5,6,7,8,9,10,11,12,13,14,15,16,17,18,19,20,21,22,23,24,25,26,27,28,29,30,31]},\"id\":\"4086\",\"type\":\"DaysTicker\"},{\"attributes\":{\"base\":24,\"mantissas\":[1,2,4,6,8,12],\"max_interval\":43200000.0,\"min_interval\":3600000.0,\"num_minor_ticks\":0},\"id\":\"4085\",\"type\":\"AdaptiveTicker\"},{\"attributes\":{},\"id\":\"4352\",\"type\":\"UnionRenderers\"},{\"attributes\":{},\"id\":\"4094\",\"type\":\"YearsTicker\"},{\"attributes\":{\"months\":[0,2,4,6,8,10]},\"id\":\"4091\",\"type\":\"MonthsTicker\"},{\"attributes\":{\"days\":[1,4,7,10,13,16,19,22,25,28]},\"id\":\"4087\",\"type\":\"DaysTicker\"},{\"attributes\":{\"months\":[0,1,2,3,4,5,6,7,8,9,10,11]},\"id\":\"4090\",\"type\":\"MonthsTicker\"},{\"attributes\":{\"months\":[0,6]},\"id\":\"4093\",\"type\":\"MonthsTicker\"},{\"attributes\":{\"days\":[1,8,15,22]},\"id\":\"4088\",\"type\":\"DaysTicker\"},{\"attributes\":{},\"id\":\"4079\",\"type\":\"BasicTickFormatter\"},{\"attributes\":{\"months\":[0,4,8]},\"id\":\"4092\",\"type\":\"MonthsTicker\"},{\"attributes\":{\"source\":{\"id\":\"4073\",\"type\":\"ColumnDataSource\"}},\"id\":\"4077\",\"type\":\"CDSView\"},{\"attributes\":{\"days\":[1,15]},\"id\":\"4089\",\"type\":\"DaysTicker\"},{\"attributes\":{\"data_source\":{\"id\":\"4098\",\"type\":\"ColumnDataSource\"},\"glyph\":{\"id\":\"4099\",\"type\":\"Line\"},\"hover_glyph\":null,\"muted_glyph\":null,\"nonselection_glyph\":{\"id\":\"4100\",\"type\":\"Line\"},\"selection_glyph\":null,\"view\":{\"id\":\"4102\",\"type\":\"CDSView\"}},\"id\":\"4101\",\"type\":\"GlyphRenderer\"},{\"attributes\":{\"label\":{\"value\":\"only first dose\"},\"renderers\":[{\"id\":\"4076\",\"type\":\"GlyphRenderer\"}]},\"id\":\"4097\",\"type\":\"LegendItem\"},{\"attributes\":{\"line_color\":\"blue\",\"line_width\":2,\"x\":{\"field\":\"x\"},\"y\":{\"field\":\"y\"}},\"id\":\"4099\",\"type\":\"Line\"},{\"attributes\":{},\"id\":\"4351\",\"type\":\"Selection\"},{\"attributes\":{\"items\":[{\"id\":\"4097\",\"type\":\"LegendItem\"},{\"id\":\"4123\",\"type\":\"LegendItem\"}],\"location\":\"top_left\"},\"id\":\"4096\",\"type\":\"Legend\"},{\"attributes\":{\"text\":\"trend for the daily vaccines done as first and second dose\"},\"id\":\"4040\",\"type\":\"Title\"},{\"attributes\":{\"callback\":null,\"data\":{\"x\":[1609027200000.0,1609113600000.0,1609200000000.0,1609286400000.0,1609372800000.0,1609459200000.0,1609545600000.0,1609632000000.0,1609718400000.0,1609804800000.0,1609891200000.0,1609977600000.0,1610064000000.0,1610150400000.0,1610236800000.0,1610323200000.0,1610409600000.0,1610496000000.0,1610582400000.0,1610668800000.0,1610755200000.0,1610841600000.0,1610928000000.0,1611014400000.0,1611100800000.0,1611187200000.0,1611273600000.0,1611360000000.0,1611446400000.0,1611532800000.0,1611619200000.0,1611705600000.0,1611792000000.0,1611878400000.0,1611964800000.0,1612051200000.0,1612137600000.0,1612224000000.0,1612310400000.0,1612396800000.0,1612483200000.0,1612569600000.0,1612656000000.0,1612742400000.0,1612828800000.0,1612915200000.0,1613001600000.0,1613088000000.0,1613174400000.0,1613260800000.0,1613347200000.0,1613433600000.0,1613520000000.0,1613606400000.0,1613692800000.0,1613779200000.0,1613865600000.0,1613952000000.0,1614038400000.0,1614124800000.0,1614211200000.0,1614297600000.0,1614384000000.0,1614470400000.0,1614556800000.0,1614643200000.0,1614729600000.0,1614816000000.0,1614902400000.0,1614988800000.0,1615075200000.0,1615161600000.0,1615248000000.0,1615334400000.0,1615420800000.0,1615507200000.0,1615593600000.0,1615680000000.0,1615766400000.0,1615852800000.0,1615939200000.0,1616025600000.0,1616112000000.0,1616198400000.0,1616284800000.0,1616371200000.0,1616457600000.0,1616544000000.0,1616630400000.0,1616716800000.0,1616803200000.0,1616889600000.0,1616976000000.0,1617062400000.0,1617148800000.0,1617235200000.0,1617321600000.0,1617408000000.0,1617494400000.0,1617580800000.0,1617667200000.0,1617753600000.0,1617840000000.0,1617926400000.0,1618012800000.0,1618099200000.0,1618185600000.0,1618272000000.0,1618358400000.0,1618444800000.0,1618531200000.0,1618617600000.0,1618704000000.0,1618790400000.0,1618876800000.0,1618963200000.0,1619049600000.0,1619136000000.0,1619222400000.0,1619308800000.0,1619395200000.0,1619481600000.0,1619568000000.0,1619654400000.0,1619740800000.0,1619827200000.0,1619913600000.0,1620000000000.0,1620086400000.0,1620172800000.0],\"y\":[0,0,0,0,0,0,0,0,0,0,0,0,0,0,0,0,0,0,0,0,0,2914,4940,1702,4511,19595,13968,32783,30630,64241,75909,64641,88724,92908,85984,56926,81304,81465,90336,94164,89297,62322,32575,39980,32097,27751,19320,15195,6669,2555,5931,6103,9364,7835,6381,4330,2205,5229,5266,7900,11885,14763,11746,8138,24372,30604,41891,47183,52072,39049,20030,47366,49385,54720,59126,60790,48296,33155,70062,71815,80452,79050,78198,61921,45234,65660,71030,85332,83192,77888,66535,40352,66019,75223,90229,89386,78556,60041,20409,37738,75142,85940,87674,81395,68211,41081,61947,66993,79479,98098,98892,82983,53743,87449,96656,118210,133994,128435,112917,46357,81347,110018,138128,171027,185846,146354,115719,114823,123775,50671]},\"selected\":{\"id\":\"4351\",\"type\":\"Selection\"},\"selection_policy\":{\"id\":\"4352\",\"type\":\"UnionRenderers\"}},\"id\":\"4098\",\"type\":\"ColumnDataSource\"},{\"attributes\":{\"bottom_units\":\"screen\",\"fill_alpha\":{\"value\":0.5},\"fill_color\":{\"value\":\"lightgrey\"},\"left_units\":\"screen\",\"level\":\"overlay\",\"line_alpha\":{\"value\":1.0},\"line_color\":{\"value\":\"black\"},\"line_dash\":[4,4],\"line_width\":{\"value\":2},\"render_mode\":\"css\",\"right_units\":\"screen\",\"top_units\":\"screen\"},\"id\":\"4095\",\"type\":\"BoxAnnotation\"},{\"attributes\":{\"num_minor_ticks\":5,\"tickers\":[{\"id\":\"4083\",\"type\":\"AdaptiveTicker\"},{\"id\":\"4084\",\"type\":\"AdaptiveTicker\"},{\"id\":\"4085\",\"type\":\"AdaptiveTicker\"},{\"id\":\"4086\",\"type\":\"DaysTicker\"},{\"id\":\"4087\",\"type\":\"DaysTicker\"},{\"id\":\"4088\",\"type\":\"DaysTicker\"},{\"id\":\"4089\",\"type\":\"DaysTicker\"},{\"id\":\"4090\",\"type\":\"MonthsTicker\"},{\"id\":\"4091\",\"type\":\"MonthsTicker\"},{\"id\":\"4092\",\"type\":\"MonthsTicker\"},{\"id\":\"4093\",\"type\":\"MonthsTicker\"},{\"id\":\"4094\",\"type\":\"YearsTicker\"}]},\"id\":\"4051\",\"type\":\"DatetimeTicker\"},{\"attributes\":{\"label\":{\"value\":\"also second dose\"},\"renderers\":[{\"id\":\"4101\",\"type\":\"GlyphRenderer\"}]},\"id\":\"4123\",\"type\":\"LegendItem\"},{\"attributes\":{\"callback\":null,\"start\":1609027200000.0},\"id\":\"4042\",\"type\":\"DataRange1d\"},{\"attributes\":{\"source\":{\"id\":\"4098\",\"type\":\"ColumnDataSource\"}},\"id\":\"4102\",\"type\":\"CDSView\"},{\"attributes\":{\"axis_label\":\"data\",\"formatter\":{\"id\":\"4081\",\"type\":\"DatetimeTickFormatter\"},\"ticker\":{\"id\":\"4051\",\"type\":\"DatetimeTicker\"}},\"id\":\"4050\",\"type\":\"DatetimeAxis\"},{\"attributes\":{\"line_alpha\":0.1,\"line_color\":\"#1f77b4\",\"line_width\":2,\"x\":{\"field\":\"x\"},\"y\":{\"field\":\"y\"}},\"id\":\"4100\",\"type\":\"Line\"},{\"attributes\":{},\"id\":\"4048\",\"type\":\"LinearScale\"}],\"root_ids\":[\"4039\"]},\"title\":\"Bokeh Application\",\"version\":\"1.4.0\"}};\n",
       "  var render_items = [{\"docid\":\"edfeff2a-9914-46bf-842f-6e855fcffbe7\",\"roots\":{\"4039\":\"43e02e89-f5d8-4492-a8ae-06b35421de58\"}}];\n",
       "  root.Bokeh.embed.embed_items_notebook(docs_json, render_items);\n",
       "\n",
       "  }\n",
       "  if (root.Bokeh !== undefined) {\n",
       "    embed_document(root);\n",
       "  } else {\n",
       "    var attempts = 0;\n",
       "    var timer = setInterval(function(root) {\n",
       "      if (root.Bokeh !== undefined) {\n",
       "        clearInterval(timer);\n",
       "        embed_document(root);\n",
       "      } else {\n",
       "        attempts++;\n",
       "        if (attempts > 100) {\n",
       "          clearInterval(timer);\n",
       "          console.log(\"Bokeh: ERROR: Unable to run BokehJS code because BokehJS library is missing\");\n",
       "        }\n",
       "      }\n",
       "    }, 10, root)\n",
       "  }\n",
       "})(window);"
      ],
      "application/vnd.bokehjs_exec.v0+json": ""
     },
     "metadata": {
      "application/vnd.bokehjs_exec.v0+json": {
       "id": "4039"
      }
     },
     "output_type": "display_data"
    }
   ],
   "source": [
    "fig = figure(title='trend for the daily vaccines done as first and second dose',\n",
    "             x_axis_label='data',\n",
    "             y_axis_label='total',\n",
    "             width=800,\n",
    "             height=400,\n",
    "             x_axis_type='datetime')\n",
    "\n",
    "df = dati_vaccini[['data_somministrazione', 'prima_dose', 'seconda_dose']].groupby('data_somministrazione').sum()\n",
    "fig.line(df.index,\n",
    "         df['prima_dose'],\n",
    "         legend_label='only first dose', \n",
    "         color='red',\n",
    "         line_width=2)\n",
    "fig.line(df.index,\n",
    "         df['seconda_dose'],\n",
    "         legend_label='also second dose', \n",
    "         color='blue',\n",
    "         line_width=2)\n",
    "\n",
    "fig.add_tools(HoverTool(\n",
    "    tooltips=[('date', '@x{%F}'), ('total', '@y')],\n",
    "    formatters=dict(x='datetime')\n",
    "))\n",
    "fig.add_tools(PanTool(dimensions='width'))\n",
    "fig.legend.location = 'top_left'\n",
    "fig.x_range.start = dati_vaccini['data_somministrazione'].min()\n",
    "\n",
    "show(fig)"
   ]
  },
  {
   "cell_type": "code",
   "execution_count": 36,
   "metadata": {},
   "outputs": [
    {
     "data": {
      "text/html": [
       "\n",
       "\n",
       "\n",
       "\n",
       "\n",
       "\n",
       "  <div class=\"bk-root\" id=\"e2a40a04-4711-4d4e-84ec-ac987f09f9b5\" data-root-id=\"4486\"></div>\n"
      ]
     },
     "metadata": {},
     "output_type": "display_data"
    },
    {
     "data": {
      "application/javascript": [
       "(function(root) {\n",
       "  function embed_document(root) {\n",
       "    \n",
       "  var docs_json = {\"4c7c1428-5011-4e9d-ae45-2ab00378995f\":{\"roots\":{\"references\":[{\"attributes\":{\"below\":[{\"id\":\"4497\",\"type\":\"DatetimeAxis\"}],\"center\":[{\"id\":\"4501\",\"type\":\"Grid\"},{\"id\":\"4506\",\"type\":\"Grid\"},{\"id\":\"4543\",\"type\":\"Legend\"}],\"left\":[{\"id\":\"4502\",\"type\":\"LinearAxis\"}],\"plot_height\":400,\"plot_width\":800,\"renderers\":[{\"id\":\"4523\",\"type\":\"GlyphRenderer\"},{\"id\":\"4548\",\"type\":\"GlyphRenderer\"}],\"title\":{\"id\":\"4487\",\"type\":\"Title\"},\"toolbar\":{\"id\":\"4513\",\"type\":\"Toolbar\"},\"x_range\":{\"id\":\"4489\",\"type\":\"DataRange1d\"},\"x_scale\":{\"id\":\"4493\",\"type\":\"LinearScale\"},\"y_range\":{\"id\":\"4491\",\"type\":\"DataRange1d\"},\"y_scale\":{\"id\":\"4495\",\"type\":\"LinearScale\"}},\"id\":\"4486\",\"subtype\":\"Figure\",\"type\":\"Plot\"},{\"attributes\":{},\"id\":\"4508\",\"type\":\"WheelZoomTool\"},{\"attributes\":{\"axis_label\":\"total\",\"formatter\":{\"id\":\"4526\",\"type\":\"BasicTickFormatter\"},\"ticker\":{\"id\":\"4503\",\"type\":\"BasicTicker\"}},\"id\":\"4502\",\"type\":\"LinearAxis\"},{\"attributes\":{\"days\":[1,8,15,22]},\"id\":\"4535\",\"type\":\"DaysTicker\"},{\"attributes\":{},\"id\":\"4507\",\"type\":\"PanTool\"},{\"attributes\":{\"source\":{\"id\":\"4520\",\"type\":\"ColumnDataSource\"}},\"id\":\"4524\",\"type\":\"CDSView\"},{\"attributes\":{},\"id\":\"4528\",\"type\":\"DatetimeTickFormatter\"},{\"attributes\":{},\"id\":\"4567\",\"type\":\"Selection\"},{\"attributes\":{\"active_drag\":\"auto\",\"active_inspect\":\"auto\",\"active_multi\":null,\"active_scroll\":\"auto\",\"active_tap\":\"auto\",\"tools\":[{\"id\":\"4507\",\"type\":\"PanTool\"},{\"id\":\"4508\",\"type\":\"WheelZoomTool\"},{\"id\":\"4509\",\"type\":\"BoxZoomTool\"},{\"id\":\"4510\",\"type\":\"SaveTool\"},{\"id\":\"4511\",\"type\":\"ResetTool\"},{\"id\":\"4512\",\"type\":\"HelpTool\"},{\"id\":\"4571\",\"type\":\"HoverTool\"},{\"id\":\"4573\",\"type\":\"PanTool\"}]},\"id\":\"4513\",\"type\":\"Toolbar\"},{\"attributes\":{},\"id\":\"4512\",\"type\":\"HelpTool\"},{\"attributes\":{\"overlay\":{\"id\":\"4542\",\"type\":\"BoxAnnotation\"}},\"id\":\"4509\",\"type\":\"BoxZoomTool\"},{\"attributes\":{},\"id\":\"4503\",\"type\":\"BasicTicker\"},{\"attributes\":{\"mantissas\":[1,2,5],\"max_interval\":500.0,\"num_minor_ticks\":0},\"id\":\"4530\",\"type\":\"AdaptiveTicker\"},{\"attributes\":{},\"id\":\"4510\",\"type\":\"SaveTool\"},{\"attributes\":{\"base\":60,\"mantissas\":[1,2,5,10,15,20,30],\"max_interval\":1800000.0,\"min_interval\":1000.0,\"num_minor_ticks\":0},\"id\":\"4531\",\"type\":\"AdaptiveTicker\"},{\"attributes\":{},\"id\":\"4568\",\"type\":\"UnionRenderers\"},{\"attributes\":{},\"id\":\"4511\",\"type\":\"ResetTool\"},{\"attributes\":{\"days\":[1,2,3,4,5,6,7,8,9,10,11,12,13,14,15,16,17,18,19,20,21,22,23,24,25,26,27,28,29,30,31]},\"id\":\"4533\",\"type\":\"DaysTicker\"},{\"attributes\":{\"base\":24,\"mantissas\":[1,2,4,6,8,12],\"max_interval\":43200000.0,\"min_interval\":3600000.0,\"num_minor_ticks\":0},\"id\":\"4532\",\"type\":\"AdaptiveTicker\"},{\"attributes\":{\"callback\":null,\"formatters\":{\"x\":\"datetime\"},\"tooltips\":[[\"date\",\"@x{%F}\"],[\"total\",\"@y\"]]},\"id\":\"4571\",\"type\":\"HoverTool\"},{\"attributes\":{\"months\":[0,1,2,3,4,5,6,7,8,9,10,11]},\"id\":\"4537\",\"type\":\"MonthsTicker\"},{\"attributes\":{\"label\":{\"value\":\"only first dose\"},\"renderers\":[{\"id\":\"4523\",\"type\":\"GlyphRenderer\"}]},\"id\":\"4544\",\"type\":\"LegendItem\"},{\"attributes\":{\"callback\":null,\"start\":1609027200000.0},\"id\":\"4489\",\"type\":\"DataRange1d\"},{\"attributes\":{\"days\":[1,4,7,10,13,16,19,22,25,28]},\"id\":\"4534\",\"type\":\"DaysTicker\"},{\"attributes\":{},\"id\":\"4493\",\"type\":\"LinearScale\"},{\"attributes\":{\"months\":[0,6]},\"id\":\"4540\",\"type\":\"MonthsTicker\"},{\"attributes\":{\"months\":[0,2,4,6,8,10]},\"id\":\"4538\",\"type\":\"MonthsTicker\"},{\"attributes\":{\"days\":[1,15]},\"id\":\"4536\",\"type\":\"DaysTicker\"},{\"attributes\":{\"line_alpha\":0.1,\"line_color\":\"#1f77b4\",\"line_width\":2,\"x\":{\"field\":\"x\"},\"y\":{\"field\":\"y\"}},\"id\":\"4522\",\"type\":\"Line\"},{\"attributes\":{},\"id\":\"4541\",\"type\":\"YearsTicker\"},{\"attributes\":{\"dimension\":1,\"ticker\":{\"id\":\"4503\",\"type\":\"BasicTicker\"}},\"id\":\"4506\",\"type\":\"Grid\"},{\"attributes\":{\"months\":[0,4,8]},\"id\":\"4539\",\"type\":\"MonthsTicker\"},{\"attributes\":{\"label\":{\"value\":\"also second dose\"},\"renderers\":[{\"id\":\"4548\",\"type\":\"GlyphRenderer\"}]},\"id\":\"4570\",\"type\":\"LegendItem\"},{\"attributes\":{\"callback\":null},\"id\":\"4491\",\"type\":\"DataRange1d\"},{\"attributes\":{\"text\":\"trend for the total vaccines done as first and second dose\"},\"id\":\"4487\",\"type\":\"Title\"},{\"attributes\":{\"data_source\":{\"id\":\"4545\",\"type\":\"ColumnDataSource\"},\"glyph\":{\"id\":\"4546\",\"type\":\"Line\"},\"hover_glyph\":null,\"muted_glyph\":null,\"nonselection_glyph\":{\"id\":\"4547\",\"type\":\"Line\"},\"selection_glyph\":null,\"view\":{\"id\":\"4549\",\"type\":\"CDSView\"}},\"id\":\"4548\",\"type\":\"GlyphRenderer\"},{\"attributes\":{},\"id\":\"4526\",\"type\":\"BasicTickFormatter\"},{\"attributes\":{\"line_color\":\"blue\",\"line_width\":2,\"x\":{\"field\":\"x\"},\"y\":{\"field\":\"y\"}},\"id\":\"4546\",\"type\":\"Line\"},{\"attributes\":{\"bottom_units\":\"screen\",\"fill_alpha\":{\"value\":0.5},\"fill_color\":{\"value\":\"lightgrey\"},\"left_units\":\"screen\",\"level\":\"overlay\",\"line_alpha\":{\"value\":1.0},\"line_color\":{\"value\":\"black\"},\"line_dash\":[4,4],\"line_width\":{\"value\":2},\"render_mode\":\"css\",\"right_units\":\"screen\",\"top_units\":\"screen\"},\"id\":\"4542\",\"type\":\"BoxAnnotation\"},{\"attributes\":{},\"id\":\"4495\",\"type\":\"LinearScale\"},{\"attributes\":{\"axis_label\":\"data\",\"formatter\":{\"id\":\"4528\",\"type\":\"DatetimeTickFormatter\"},\"ticker\":{\"id\":\"4498\",\"type\":\"DatetimeTicker\"}},\"id\":\"4497\",\"type\":\"DatetimeAxis\"},{\"attributes\":{},\"id\":\"4821\",\"type\":\"UnionRenderers\"},{\"attributes\":{\"callback\":null,\"data\":{\"x\":[1609027200000.0,1609113600000.0,1609200000000.0,1609286400000.0,1609372800000.0,1609459200000.0,1609545600000.0,1609632000000.0,1609718400000.0,1609804800000.0,1609891200000.0,1609977600000.0,1610064000000.0,1610150400000.0,1610236800000.0,1610323200000.0,1610409600000.0,1610496000000.0,1610582400000.0,1610668800000.0,1610755200000.0,1610841600000.0,1610928000000.0,1611014400000.0,1611100800000.0,1611187200000.0,1611273600000.0,1611360000000.0,1611446400000.0,1611532800000.0,1611619200000.0,1611705600000.0,1611792000000.0,1611878400000.0,1611964800000.0,1612051200000.0,1612137600000.0,1612224000000.0,1612310400000.0,1612396800000.0,1612483200000.0,1612569600000.0,1612656000000.0,1612742400000.0,1612828800000.0,1612915200000.0,1613001600000.0,1613088000000.0,1613174400000.0,1613260800000.0,1613347200000.0,1613433600000.0,1613520000000.0,1613606400000.0,1613692800000.0,1613779200000.0,1613865600000.0,1613952000000.0,1614038400000.0,1614124800000.0,1614211200000.0,1614297600000.0,1614384000000.0,1614470400000.0,1614556800000.0,1614643200000.0,1614729600000.0,1614816000000.0,1614902400000.0,1614988800000.0,1615075200000.0,1615161600000.0,1615248000000.0,1615334400000.0,1615420800000.0,1615507200000.0,1615593600000.0,1615680000000.0,1615766400000.0,1615852800000.0,1615939200000.0,1616025600000.0,1616112000000.0,1616198400000.0,1616284800000.0,1616371200000.0,1616457600000.0,1616544000000.0,1616630400000.0,1616716800000.0,1616803200000.0,1616889600000.0,1616976000000.0,1617062400000.0,1617148800000.0,1617235200000.0,1617321600000.0,1617408000000.0,1617494400000.0,1617580800000.0,1617667200000.0,1617753600000.0,1617840000000.0,1617926400000.0,1618012800000.0,1618099200000.0,1618185600000.0,1618272000000.0,1618358400000.0,1618444800000.0,1618531200000.0,1618617600000.0,1618704000000.0,1618790400000.0,1618876800000.0,1618963200000.0,1619049600000.0,1619136000000.0,1619222400000.0,1619308800000.0,1619395200000.0,1619481600000.0,1619568000000.0,1619654400000.0,1619740800000.0,1619827200000.0,1619913600000.0,1620000000000.0,1620086400000.0,1620172800000.0],\"y\":[0,0,0,0,0,0,0,0,0,0,0,0,0,0,0,0,0,0,0,0,0,2914,7854,9556,14067,33662,47630,80413,111043,175284,251193,315834,404558,497466,583450,640376,721680,803145,893481,987645,1076942,1139264,1171839,1211819,1243916,1271667,1290987,1306182,1312851,1315406,1321337,1327440,1336804,1344639,1351020,1355350,1357555,1362784,1368050,1375950,1387835,1402598,1414344,1422482,1446854,1477458,1519349,1566532,1618604,1657653,1677683,1725049,1774434,1829154,1888280,1949070,1997366,2030521,2100583,2172398,2252850,2331900,2410098,2472019,2517253,2582913,2653943,2739275,2822467,2900355,2966890,3007242,3073261,3148484,3238713,3328099,3406655,3466696,3487105,3524843,3599985,3685925,3773599,3854994,3923205,3964286,4026233,4093226,4172705,4270803,4369695,4452678,4506421,4593870,4690526,4808736,4942730,5071165,5184082,5230439,5311786,5421804,5559932,5730959,5916805,6063159,6178878,6293701,6417476,6468147]},\"selected\":{\"id\":\"4820\",\"type\":\"Selection\"},\"selection_policy\":{\"id\":\"4821\",\"type\":\"UnionRenderers\"}},\"id\":\"4545\",\"type\":\"ColumnDataSource\"},{\"attributes\":{\"items\":[{\"id\":\"4544\",\"type\":\"LegendItem\"},{\"id\":\"4570\",\"type\":\"LegendItem\"}],\"location\":\"top_left\"},\"id\":\"4543\",\"type\":\"Legend\"},{\"attributes\":{\"line_color\":\"red\",\"line_width\":2,\"x\":{\"field\":\"x\"},\"y\":{\"field\":\"y\"}},\"id\":\"4521\",\"type\":\"Line\"},{\"attributes\":{\"dimensions\":\"width\"},\"id\":\"4573\",\"type\":\"PanTool\"},{\"attributes\":{\"source\":{\"id\":\"4545\",\"type\":\"ColumnDataSource\"}},\"id\":\"4549\",\"type\":\"CDSView\"},{\"attributes\":{},\"id\":\"4820\",\"type\":\"Selection\"},{\"attributes\":{\"line_alpha\":0.1,\"line_color\":\"#1f77b4\",\"line_width\":2,\"x\":{\"field\":\"x\"},\"y\":{\"field\":\"y\"}},\"id\":\"4547\",\"type\":\"Line\"},{\"attributes\":{\"num_minor_ticks\":5,\"tickers\":[{\"id\":\"4530\",\"type\":\"AdaptiveTicker\"},{\"id\":\"4531\",\"type\":\"AdaptiveTicker\"},{\"id\":\"4532\",\"type\":\"AdaptiveTicker\"},{\"id\":\"4533\",\"type\":\"DaysTicker\"},{\"id\":\"4534\",\"type\":\"DaysTicker\"},{\"id\":\"4535\",\"type\":\"DaysTicker\"},{\"id\":\"4536\",\"type\":\"DaysTicker\"},{\"id\":\"4537\",\"type\":\"MonthsTicker\"},{\"id\":\"4538\",\"type\":\"MonthsTicker\"},{\"id\":\"4539\",\"type\":\"MonthsTicker\"},{\"id\":\"4540\",\"type\":\"MonthsTicker\"},{\"id\":\"4541\",\"type\":\"YearsTicker\"}]},\"id\":\"4498\",\"type\":\"DatetimeTicker\"},{\"attributes\":{\"callback\":null,\"data\":{\"x\":[1609027200000.0,1609113600000.0,1609200000000.0,1609286400000.0,1609372800000.0,1609459200000.0,1609545600000.0,1609632000000.0,1609718400000.0,1609804800000.0,1609891200000.0,1609977600000.0,1610064000000.0,1610150400000.0,1610236800000.0,1610323200000.0,1610409600000.0,1610496000000.0,1610582400000.0,1610668800000.0,1610755200000.0,1610841600000.0,1610928000000.0,1611014400000.0,1611100800000.0,1611187200000.0,1611273600000.0,1611360000000.0,1611446400000.0,1611532800000.0,1611619200000.0,1611705600000.0,1611792000000.0,1611878400000.0,1611964800000.0,1612051200000.0,1612137600000.0,1612224000000.0,1612310400000.0,1612396800000.0,1612483200000.0,1612569600000.0,1612656000000.0,1612742400000.0,1612828800000.0,1612915200000.0,1613001600000.0,1613088000000.0,1613174400000.0,1613260800000.0,1613347200000.0,1613433600000.0,1613520000000.0,1613606400000.0,1613692800000.0,1613779200000.0,1613865600000.0,1613952000000.0,1614038400000.0,1614124800000.0,1614211200000.0,1614297600000.0,1614384000000.0,1614470400000.0,1614556800000.0,1614643200000.0,1614729600000.0,1614816000000.0,1614902400000.0,1614988800000.0,1615075200000.0,1615161600000.0,1615248000000.0,1615334400000.0,1615420800000.0,1615507200000.0,1615593600000.0,1615680000000.0,1615766400000.0,1615852800000.0,1615939200000.0,1616025600000.0,1616112000000.0,1616198400000.0,1616284800000.0,1616371200000.0,1616457600000.0,1616544000000.0,1616630400000.0,1616716800000.0,1616803200000.0,1616889600000.0,1616976000000.0,1617062400000.0,1617148800000.0,1617235200000.0,1617321600000.0,1617408000000.0,1617494400000.0,1617580800000.0,1617667200000.0,1617753600000.0,1617840000000.0,1617926400000.0,1618012800000.0,1618099200000.0,1618185600000.0,1618272000000.0,1618358400000.0,1618444800000.0,1618531200000.0,1618617600000.0,1618704000000.0,1618790400000.0,1618876800000.0,1618963200000.0,1619049600000.0,1619136000000.0,1619222400000.0,1619308800000.0,1619395200000.0,1619481600000.0,1619568000000.0,1619654400000.0,1619740800000.0,1619827200000.0,1619913600000.0,1620000000000.0,1620086400000.0,1620172800000.0],\"y\":[7175,8599,9608,14336,39817,50878,89401,124565,193336,273134,338323,430578,526208,613201,673568,754547,836610,931168,1024943,1114636,1179609,1213763,1252647,1283837,1310022,1325956,1338591,1344580,1347836,1352663,1357044,1363267,1368096,1372973,1377270,1379914,1384225,1390651,1399905,1413241,1431116,1445761,1454928,1481757,1516341,1561278,1616595,1675345,1721320,1748202,1805030,1870035,1940616,2022380,2108381,2182009,2230783,2331012,2432232,2546332,2662633,2784286,2898801,2968627,3079713,3209570,3353432,3502107,3653247,3790600,3871671,4002746,4144530,4301726,4461973,4610033,4737754,4810016,4910916,4979183,5063996,5148135,5244810,5357036,5441375,5567740,5718145,5884795,6066194,6254185,6426285,6547801,6720891,6910365,7121601,7315574,7516646,7684993,7760717,7893158,8100348,8335158,8579640,8830788,9081380,9241677,9445392,9665502,9904930,10155493,10433813,10706534,10893694,11115572,11350385,11603202,11864639,12137553,12407636,12627350,12888447,13146748,13413346,13764431,14097630,14378791,14629309,14909955,15208643,15303675]},\"selected\":{\"id\":\"4567\",\"type\":\"Selection\"},\"selection_policy\":{\"id\":\"4568\",\"type\":\"UnionRenderers\"}},\"id\":\"4520\",\"type\":\"ColumnDataSource\"},{\"attributes\":{\"ticker\":{\"id\":\"4498\",\"type\":\"DatetimeTicker\"}},\"id\":\"4501\",\"type\":\"Grid\"},{\"attributes\":{\"data_source\":{\"id\":\"4520\",\"type\":\"ColumnDataSource\"},\"glyph\":{\"id\":\"4521\",\"type\":\"Line\"},\"hover_glyph\":null,\"muted_glyph\":null,\"nonselection_glyph\":{\"id\":\"4522\",\"type\":\"Line\"},\"selection_glyph\":null,\"view\":{\"id\":\"4524\",\"type\":\"CDSView\"}},\"id\":\"4523\",\"type\":\"GlyphRenderer\"}],\"root_ids\":[\"4486\"]},\"title\":\"Bokeh Application\",\"version\":\"1.4.0\"}};\n",
       "  var render_items = [{\"docid\":\"4c7c1428-5011-4e9d-ae45-2ab00378995f\",\"roots\":{\"4486\":\"e2a40a04-4711-4d4e-84ec-ac987f09f9b5\"}}];\n",
       "  root.Bokeh.embed.embed_items_notebook(docs_json, render_items);\n",
       "\n",
       "  }\n",
       "  if (root.Bokeh !== undefined) {\n",
       "    embed_document(root);\n",
       "  } else {\n",
       "    var attempts = 0;\n",
       "    var timer = setInterval(function(root) {\n",
       "      if (root.Bokeh !== undefined) {\n",
       "        clearInterval(timer);\n",
       "        embed_document(root);\n",
       "      } else {\n",
       "        attempts++;\n",
       "        if (attempts > 100) {\n",
       "          clearInterval(timer);\n",
       "          console.log(\"Bokeh: ERROR: Unable to run BokehJS code because BokehJS library is missing\");\n",
       "        }\n",
       "      }\n",
       "    }, 10, root)\n",
       "  }\n",
       "})(window);"
      ],
      "application/vnd.bokehjs_exec.v0+json": ""
     },
     "metadata": {
      "application/vnd.bokehjs_exec.v0+json": {
       "id": "4486"
      }
     },
     "output_type": "display_data"
    }
   ],
   "source": [
    "fig = figure(title='trend for the total vaccines done as first and second dose',\n",
    "             x_axis_label='data',\n",
    "             y_axis_label='total',\n",
    "             width=800,\n",
    "             height=400,\n",
    "             x_axis_type='datetime')\n",
    "\n",
    "# Draw the line\n",
    "df = dati_vaccini[['data_somministrazione', 'prima_dose', 'seconda_dose']].groupby('data_somministrazione').sum().cumsum()\n",
    "fig.line(df.index,\n",
    "         df['prima_dose'],\n",
    "         legend_label='only first dose', \n",
    "         color='red',\n",
    "         line_width=2)\n",
    "fig.line(df.index,\n",
    "         df['seconda_dose'],\n",
    "         legend_label='also second dose', \n",
    "         color='blue',\n",
    "         line_width=2)\n",
    "\n",
    "# add the hover tool\n",
    "fig.add_tools(HoverTool(\n",
    "    tooltips=[('date', '@x{%F}'), ('total', '@y')],\n",
    "    formatters=dict(x='datetime')\n",
    "))\n",
    "fig.add_tools(PanTool(dimensions='width'))\n",
    "fig.legend.location = 'top_left'\n",
    "fig.x_range.start = dati_vaccini['data_somministrazione'].min()\n",
    "\n",
    "# show the figure\n",
    "show(fig)"
   ]
  },
  {
   "cell_type": "code",
   "execution_count": null,
   "metadata": {},
   "outputs": [],
   "source": []
  },
  {
   "cell_type": "code",
   "execution_count": null,
   "metadata": {},
   "outputs": [],
   "source": []
  },
  {
   "cell_type": "markdown",
   "metadata": {},
   "source": [
    "## Regional trend"
   ]
  },
  {
   "cell_type": "code",
   "execution_count": 37,
   "metadata": {},
   "outputs": [],
   "source": [
    "regioni_to_show = ['Puglia', 'Sicilia', 'Lombardia']\n",
    "colors = []\n",
    "n = named.__dict__\n",
    "all_colors = n['__all__']\n",
    "while len(colors) < (len(regioni_to_show)):\n",
    "    if choice(all_colors) not in colors:\n",
    "        colors.append(choice(all_colors))"
   ]
  },
  {
   "cell_type": "code",
   "execution_count": 38,
   "metadata": {},
   "outputs": [
    {
     "data": {
      "text/html": [
       "\n",
       "\n",
       "\n",
       "\n",
       "\n",
       "\n",
       "  <div class=\"bk-root\" id=\"7c8e93e2-2379-47e5-a149-daa051bcde00\" data-root-id=\"4955\"></div>\n"
      ]
     },
     "metadata": {},
     "output_type": "display_data"
    },
    {
     "data": {
      "application/javascript": [
       "(function(root) {\n",
       "  function embed_document(root) {\n",
       "    \n",
       "  var docs_json = {\"f5992249-0ef8-4aa8-8656-3ef546066d28\":{\"roots\":{\"references\":[{\"attributes\":{\"below\":[{\"id\":\"4966\",\"type\":\"DatetimeAxis\"}],\"center\":[{\"id\":\"4970\",\"type\":\"Grid\"},{\"id\":\"4975\",\"type\":\"Grid\"},{\"id\":\"5012\",\"type\":\"Legend\"}],\"left\":[{\"id\":\"4971\",\"type\":\"LinearAxis\"}],\"plot_height\":400,\"plot_width\":1000,\"renderers\":[{\"id\":\"4992\",\"type\":\"GlyphRenderer\"},{\"id\":\"5017\",\"type\":\"GlyphRenderer\"},{\"id\":\"5043\",\"type\":\"GlyphRenderer\"}],\"title\":{\"id\":\"4956\",\"type\":\"Title\"},\"toolbar\":{\"id\":\"4982\",\"type\":\"Toolbar\"},\"x_range\":{\"id\":\"4958\",\"type\":\"DataRange1d\"},\"x_scale\":{\"id\":\"4962\",\"type\":\"LinearScale\"},\"y_range\":{\"id\":\"4960\",\"type\":\"DataRange1d\"},\"y_scale\":{\"id\":\"4964\",\"type\":\"LinearScale\"}},\"id\":\"4955\",\"subtype\":\"Figure\",\"type\":\"Plot\"},{\"attributes\":{\"months\":[0,1,2,3,4,5,6,7,8,9,10,11]},\"id\":\"5006\",\"type\":\"MonthsTicker\"},{\"attributes\":{\"line_alpha\":0.1,\"line_color\":\"#1f77b4\",\"line_width\":1.5,\"x\":{\"field\":\"x\"},\"y\":{\"field\":\"y\"}},\"id\":\"4991\",\"type\":\"Line\"},{\"attributes\":{\"data_source\":{\"id\":\"5014\",\"type\":\"ColumnDataSource\"},\"glyph\":{\"id\":\"5015\",\"type\":\"Line\"},\"hover_glyph\":null,\"muted_glyph\":null,\"nonselection_glyph\":{\"id\":\"5016\",\"type\":\"Line\"},\"selection_glyph\":null,\"view\":{\"id\":\"5018\",\"type\":\"CDSView\"}},\"id\":\"5017\",\"type\":\"GlyphRenderer\"},{\"attributes\":{\"months\":[0,2,4,6,8,10]},\"id\":\"5007\",\"type\":\"MonthsTicker\"},{\"attributes\":{\"days\":[1,15]},\"id\":\"5005\",\"type\":\"DaysTicker\"},{\"attributes\":{\"months\":[0,6]},\"id\":\"5009\",\"type\":\"MonthsTicker\"},{\"attributes\":{\"source\":{\"id\":\"4989\",\"type\":\"ColumnDataSource\"}},\"id\":\"4993\",\"type\":\"CDSView\"},{\"attributes\":{\"days\":[1,8,15,22]},\"id\":\"5004\",\"type\":\"DaysTicker\"},{\"attributes\":{\"label\":{\"value\":\"Puglia\"},\"renderers\":[{\"id\":\"4992\",\"type\":\"GlyphRenderer\"}]},\"id\":\"5013\",\"type\":\"LegendItem\"},{\"attributes\":{\"text\":\"trend for the daily vaccines done\"},\"id\":\"4956\",\"type\":\"Title\"},{\"attributes\":{},\"id\":\"5010\",\"type\":\"YearsTicker\"},{\"attributes\":{},\"id\":\"5037\",\"type\":\"UnionRenderers\"},{\"attributes\":{\"base\":60,\"mantissas\":[1,2,5,10,15,20,30],\"max_interval\":1800000.0,\"min_interval\":1000.0,\"num_minor_ticks\":0},\"id\":\"5000\",\"type\":\"AdaptiveTicker\"},{\"attributes\":{\"callback\":null,\"start\":1609027200000.0},\"id\":\"4958\",\"type\":\"DataRange1d\"},{\"attributes\":{},\"id\":\"4995\",\"type\":\"BasicTickFormatter\"},{\"attributes\":{\"callback\":null,\"formatters\":{\"x\":\"datetime\"},\"tooltips\":[[\"data\",\"@x{%F}\"],[\"totale_somministrazioni\",\"@y\"]]},\"id\":\"5068\",\"type\":\"HoverTool\"},{\"attributes\":{\"months\":[0,4,8]},\"id\":\"5008\",\"type\":\"MonthsTicker\"},{\"attributes\":{},\"id\":\"5341\",\"type\":\"Selection\"},{\"attributes\":{\"axis_label\":\"data\",\"formatter\":{\"id\":\"4997\",\"type\":\"DatetimeTickFormatter\"},\"ticker\":{\"id\":\"4967\",\"type\":\"DatetimeTicker\"}},\"id\":\"4966\",\"type\":\"DatetimeAxis\"},{\"attributes\":{\"days\":[1,2,3,4,5,6,7,8,9,10,11,12,13,14,15,16,17,18,19,20,21,22,23,24,25,26,27,28,29,30,31]},\"id\":\"5002\",\"type\":\"DaysTicker\"},{\"attributes\":{},\"id\":\"5342\",\"type\":\"UnionRenderers\"},{\"attributes\":{\"callback\":null,\"data\":{\"x\":[1609027200000.0,1609286400000.0,1609372800000.0,1609459200000.0,1609545600000.0,1609632000000.0,1609718400000.0,1609804800000.0,1609891200000.0,1609977600000.0,1610064000000.0,1610150400000.0,1610236800000.0,1610323200000.0,1610409600000.0,1610496000000.0,1610582400000.0,1610668800000.0,1610755200000.0,1610841600000.0,1610928000000.0,1611014400000.0,1611100800000.0,1611187200000.0,1611273600000.0,1611360000000.0,1611446400000.0,1611532800000.0,1611619200000.0,1611705600000.0,1611792000000.0,1611878400000.0,1611964800000.0,1612051200000.0,1612137600000.0,1612224000000.0,1612310400000.0,1612396800000.0,1612483200000.0,1612569600000.0,1612656000000.0,1612742400000.0,1612828800000.0,1612915200000.0,1613001600000.0,1613088000000.0,1613174400000.0,1613260800000.0,1613347200000.0,1613433600000.0,1613520000000.0,1613606400000.0,1613692800000.0,1613779200000.0,1613865600000.0,1613952000000.0,1614038400000.0,1614124800000.0,1614211200000.0,1614297600000.0,1614384000000.0,1614470400000.0,1614556800000.0,1614643200000.0,1614729600000.0,1614816000000.0,1614902400000.0,1614988800000.0,1615075200000.0,1615161600000.0,1615248000000.0,1615334400000.0,1615420800000.0,1615507200000.0,1615593600000.0,1615680000000.0,1615766400000.0,1615852800000.0,1615939200000.0,1616025600000.0,1616112000000.0,1616198400000.0,1616284800000.0,1616371200000.0,1616457600000.0,1616544000000.0,1616630400000.0,1616716800000.0,1616803200000.0,1616889600000.0,1616976000000.0,1617062400000.0,1617148800000.0,1617235200000.0,1617321600000.0,1617408000000.0,1617494400000.0,1617580800000.0,1617667200000.0,1617753600000.0,1617840000000.0,1617926400000.0,1618012800000.0,1618099200000.0,1618185600000.0,1618272000000.0,1618358400000.0,1618444800000.0,1618531200000.0,1618617600000.0,1618704000000.0,1618790400000.0,1618876800000.0,1618963200000.0,1619049600000.0,1619136000000.0,1619222400000.0,1619308800000.0,1619395200000.0,1619481600000.0,1619568000000.0,1619654400000.0,1619740800000.0,1619827200000.0,1619913600000.0,1620000000000.0,1620086400000.0,1620172800000.0],\"y\":[507,1,1635,146,2948,2007,4503,5099,3942,5715,5580,4877,2349,3750,4208,4537,4067,4551,2507,1308,1846,1221,1546,2130,1409,3037,1669,3821,5358,4576,5465,6192,5527,1808,3962,4339,5031,5898,5631,4510,1578,3993,3839,3635,3698,4099,3723,785,3254,3378,4270,4375,4729,2967,2174,9622,9339,10026,11889,13668,14124,5888,15045,16285,16609,15030,17032,15896,4914,14657,13157,14372,14344,13911,10369,3313,11759,9855,10276,9394,7947,8235,2689,9344,10396,12964,10872,11436,12094,3523,12827,11832,14028,13400,12504,10406,5929,12678,13333,14887,17200,21597,30327,16356,28798,28373,31606,31937,35251,39028,22341,27292,20696,22834,22564,28666,28801,10901,25759,26066,19351,25180,33450,26537,20860,31808,32207,6492]},\"selected\":{\"id\":\"5036\",\"type\":\"Selection\"},\"selection_policy\":{\"id\":\"5037\",\"type\":\"UnionRenderers\"}},\"id\":\"4989\",\"type\":\"ColumnDataSource\"},{\"attributes\":{\"line_color\":\"red\",\"line_width\":1.5,\"x\":{\"field\":\"x\"},\"y\":{\"field\":\"y\"}},\"id\":\"4990\",\"type\":\"Line\"},{\"attributes\":{\"callback\":null,\"data\":{\"x\":[1609027200000.0,1609113600000.0,1609200000000.0,1609286400000.0,1609372800000.0,1609459200000.0,1609545600000.0,1609632000000.0,1609718400000.0,1609804800000.0,1609891200000.0,1609977600000.0,1610064000000.0,1610150400000.0,1610236800000.0,1610323200000.0,1610409600000.0,1610496000000.0,1610582400000.0,1610668800000.0,1610755200000.0,1610841600000.0,1610928000000.0,1611014400000.0,1611100800000.0,1611187200000.0,1611273600000.0,1611360000000.0,1611446400000.0,1611532800000.0,1611619200000.0,1611705600000.0,1611792000000.0,1611878400000.0,1611964800000.0,1612051200000.0,1612137600000.0,1612224000000.0,1612310400000.0,1612396800000.0,1612483200000.0,1612569600000.0,1612656000000.0,1612742400000.0,1612828800000.0,1612915200000.0,1613001600000.0,1613088000000.0,1613174400000.0,1613260800000.0,1613347200000.0,1613433600000.0,1613520000000.0,1613606400000.0,1613692800000.0,1613779200000.0,1613865600000.0,1613952000000.0,1614038400000.0,1614124800000.0,1614211200000.0,1614297600000.0,1614384000000.0,1614470400000.0,1614556800000.0,1614643200000.0,1614729600000.0,1614816000000.0,1614902400000.0,1614988800000.0,1615075200000.0,1615161600000.0,1615248000000.0,1615334400000.0,1615420800000.0,1615507200000.0,1615593600000.0,1615680000000.0,1615766400000.0,1615852800000.0,1615939200000.0,1616025600000.0,1616112000000.0,1616198400000.0,1616284800000.0,1616371200000.0,1616457600000.0,1616544000000.0,1616630400000.0,1616716800000.0,1616803200000.0,1616889600000.0,1616976000000.0,1617062400000.0,1617148800000.0,1617235200000.0,1617321600000.0,1617408000000.0,1617494400000.0,1617580800000.0,1617667200000.0,1617753600000.0,1617840000000.0,1617926400000.0,1618012800000.0,1618099200000.0,1618185600000.0,1618272000000.0,1618358400000.0,1618444800000.0,1618531200000.0,1618617600000.0,1618704000000.0,1618790400000.0,1618876800000.0,1618963200000.0,1619049600000.0,1619136000000.0,1619222400000.0,1619308800000.0,1619395200000.0,1619481600000.0,1619568000000.0,1619654400000.0,1619740800000.0,1619827200000.0,1619913600000.0,1620000000000.0,1620086400000.0,1620172800000.0],\"y\":[90,207,235,173,878,815,4876,4695,8375,10528,6472,9174,8328,7326,3619,5906,4543,5266,5259,5082,2776,1299,1579,1276,810,1342,1241,4200,4343,7517,9531,7535,9335,9365,7840,4113,6080,5542,6107,6971,7217,5071,2349,4086,4372,4434,5336,4747,3107,1058,3987,4414,5434,5507,5179,7285,5178,8042,8951,9602,10175,12249,12450,7181,12985,14958,14721,15217,15948,12956,9300,13587,13247,13991,15506,13146,12466,8835,10876,10177,15460,15647,16556,18944,15228,16871,21146,21189,20573,17986,15816,11043,15057,14630,14676,14515,14084,16410,6988,8194,18212,15770,17042,20699,20690,15512,19109,20165,20677,21421,28851,26214,19800,18595,19364,22652,27102,28945,31347,21330,21984,26404,29576,31852,34968,24430,24778,23579,26583,9426]},\"selected\":{\"id\":\"5064\",\"type\":\"Selection\"},\"selection_policy\":{\"id\":\"5065\",\"type\":\"UnionRenderers\"}},\"id\":\"5014\",\"type\":\"ColumnDataSource\"},{\"attributes\":{},\"id\":\"5064\",\"type\":\"Selection\"},{\"attributes\":{\"dimensions\":\"width\"},\"id\":\"5070\",\"type\":\"PanTool\"},{\"attributes\":{\"base\":24,\"mantissas\":[1,2,4,6,8,12],\"max_interval\":43200000.0,\"min_interval\":3600000.0,\"num_minor_ticks\":0},\"id\":\"5001\",\"type\":\"AdaptiveTicker\"},{\"attributes\":{},\"id\":\"5036\",\"type\":\"Selection\"},{\"attributes\":{\"bottom_units\":\"screen\",\"fill_alpha\":{\"value\":0.5},\"fill_color\":{\"value\":\"lightgrey\"},\"left_units\":\"screen\",\"level\":\"overlay\",\"line_alpha\":{\"value\":1.0},\"line_color\":{\"value\":\"black\"},\"line_dash\":[4,4],\"line_width\":{\"value\":2},\"render_mode\":\"css\",\"right_units\":\"screen\",\"top_units\":\"screen\"},\"id\":\"5011\",\"type\":\"BoxAnnotation\"},{\"attributes\":{\"line_alpha\":0.1,\"line_color\":\"#1f77b4\",\"line_width\":1.5,\"x\":{\"field\":\"x\"},\"y\":{\"field\":\"y\"}},\"id\":\"5042\",\"type\":\"Line\"},{\"attributes\":{\"items\":[{\"id\":\"5013\",\"type\":\"LegendItem\"},{\"id\":\"5039\",\"type\":\"LegendItem\"},{\"id\":\"5067\",\"type\":\"LegendItem\"}],\"location\":\"top_left\"},\"id\":\"5012\",\"type\":\"Legend\"},{\"attributes\":{\"data_source\":{\"id\":\"4989\",\"type\":\"ColumnDataSource\"},\"glyph\":{\"id\":\"4990\",\"type\":\"Line\"},\"hover_glyph\":null,\"muted_glyph\":null,\"nonselection_glyph\":{\"id\":\"4991\",\"type\":\"Line\"},\"selection_glyph\":null,\"view\":{\"id\":\"4993\",\"type\":\"CDSView\"}},\"id\":\"4992\",\"type\":\"GlyphRenderer\"},{\"attributes\":{\"num_minor_ticks\":5,\"tickers\":[{\"id\":\"4999\",\"type\":\"AdaptiveTicker\"},{\"id\":\"5000\",\"type\":\"AdaptiveTicker\"},{\"id\":\"5001\",\"type\":\"AdaptiveTicker\"},{\"id\":\"5002\",\"type\":\"DaysTicker\"},{\"id\":\"5003\",\"type\":\"DaysTicker\"},{\"id\":\"5004\",\"type\":\"DaysTicker\"},{\"id\":\"5005\",\"type\":\"DaysTicker\"},{\"id\":\"5006\",\"type\":\"MonthsTicker\"},{\"id\":\"5007\",\"type\":\"MonthsTicker\"},{\"id\":\"5008\",\"type\":\"MonthsTicker\"},{\"id\":\"5009\",\"type\":\"MonthsTicker\"},{\"id\":\"5010\",\"type\":\"YearsTicker\"}]},\"id\":\"4967\",\"type\":\"DatetimeTicker\"},{\"attributes\":{\"label\":{\"value\":\"Sicilia\"},\"renderers\":[{\"id\":\"5017\",\"type\":\"GlyphRenderer\"}]},\"id\":\"5039\",\"type\":\"LegendItem\"},{\"attributes\":{\"ticker\":{\"id\":\"4967\",\"type\":\"DatetimeTicker\"}},\"id\":\"4970\",\"type\":\"Grid\"},{\"attributes\":{},\"id\":\"4981\",\"type\":\"HelpTool\"},{\"attributes\":{\"source\":{\"id\":\"5014\",\"type\":\"ColumnDataSource\"}},\"id\":\"5018\",\"type\":\"CDSView\"},{\"attributes\":{},\"id\":\"4964\",\"type\":\"LinearScale\"},{\"attributes\":{\"callback\":null},\"id\":\"4960\",\"type\":\"DataRange1d\"},{\"attributes\":{\"line_color\":\"cadetblue\",\"line_width\":1.5,\"x\":{\"field\":\"x\"},\"y\":{\"field\":\"y\"}},\"id\":\"5041\",\"type\":\"Line\"},{\"attributes\":{\"line_alpha\":0.1,\"line_color\":\"#1f77b4\",\"line_width\":1.5,\"x\":{\"field\":\"x\"},\"y\":{\"field\":\"y\"}},\"id\":\"5016\",\"type\":\"Line\"},{\"attributes\":{},\"id\":\"4962\",\"type\":\"LinearScale\"},{\"attributes\":{\"line_color\":\"turquoise\",\"line_width\":1.5,\"x\":{\"field\":\"x\"},\"y\":{\"field\":\"y\"}},\"id\":\"5015\",\"type\":\"Line\"},{\"attributes\":{\"axis_label\":\"total\",\"formatter\":{\"id\":\"4995\",\"type\":\"BasicTickFormatter\"},\"ticker\":{\"id\":\"4972\",\"type\":\"BasicTicker\"}},\"id\":\"4971\",\"type\":\"LinearAxis\"},{\"attributes\":{\"callback\":null,\"data\":{\"x\":[1609027200000.0,1609113600000.0,1609200000000.0,1609286400000.0,1609372800000.0,1609459200000.0,1609545600000.0,1609632000000.0,1609718400000.0,1609804800000.0,1609891200000.0,1609977600000.0,1610064000000.0,1610150400000.0,1610236800000.0,1610323200000.0,1610409600000.0,1610496000000.0,1610582400000.0,1610668800000.0,1610755200000.0,1610841600000.0,1610928000000.0,1611014400000.0,1611100800000.0,1611187200000.0,1611273600000.0,1611360000000.0,1611446400000.0,1611532800000.0,1611619200000.0,1611705600000.0,1611792000000.0,1611878400000.0,1611964800000.0,1612051200000.0,1612137600000.0,1612224000000.0,1612310400000.0,1612396800000.0,1612483200000.0,1612569600000.0,1612656000000.0,1612742400000.0,1612828800000.0,1612915200000.0,1613001600000.0,1613088000000.0,1613174400000.0,1613260800000.0,1613347200000.0,1613433600000.0,1613520000000.0,1613606400000.0,1613692800000.0,1613779200000.0,1613865600000.0,1613952000000.0,1614038400000.0,1614124800000.0,1614211200000.0,1614297600000.0,1614384000000.0,1614470400000.0,1614556800000.0,1614643200000.0,1614729600000.0,1614816000000.0,1614902400000.0,1614988800000.0,1615075200000.0,1615161600000.0,1615248000000.0,1615334400000.0,1615420800000.0,1615507200000.0,1615593600000.0,1615680000000.0,1615766400000.0,1615852800000.0,1615939200000.0,1616025600000.0,1616112000000.0,1616198400000.0,1616284800000.0,1616371200000.0,1616457600000.0,1616544000000.0,1616630400000.0,1616716800000.0,1616803200000.0,1616889600000.0,1616976000000.0,1617062400000.0,1617148800000.0,1617235200000.0,1617321600000.0,1617408000000.0,1617494400000.0,1617580800000.0,1617667200000.0,1617753600000.0,1617840000000.0,1617926400000.0,1618012800000.0,1618099200000.0,1618185600000.0,1618272000000.0,1618358400000.0,1618444800000.0,1618531200000.0,1618617600000.0,1618704000000.0,1618790400000.0,1618876800000.0,1618963200000.0,1619049600000.0,1619136000000.0,1619222400000.0,1619308800000.0,1619395200000.0,1619481600000.0,1619568000000.0,1619654400000.0,1619740800000.0,1619827200000.0,1619913600000.0,1620000000000.0,1620086400000.0,1620172800000.0],\"y\":[717,107,104,114,713,24,199,853,6075,7817,7058,11713,12664,12409,10518,16035,19859,26215,26727,25134,15359,8290,9155,8101,5579,5341,3098,1114,1201,7024,8339,8044,12180,13438,12323,9746,16054,19845,25546,27644,25586,15250,7208,10076,12247,14390,17042,13946,6414,3578,8913,9539,11966,14037,14110,9431,5052,11891,11772,14668,15187,18354,13943,7884,18775,22812,26900,29384,28979,21313,12005,29730,33232,33218,36190,35239,27117,14875,31538,25473,26150,27416,32366,32509,23577,40259,42417,43260,42513,41098,32214,20417,39973,39430,41843,42676,41014,36146,7616,27348,42991,50452,52087,52017,51802,32115,47156,47809,46980,49169,53501,47834,36237,60072,67381,71476,73226,73244,75008,51186,87696,85506,95076,114377,115784,94719,83300,83098,85196,29915]},\"selected\":{\"id\":\"5341\",\"type\":\"Selection\"},\"selection_policy\":{\"id\":\"5342\",\"type\":\"UnionRenderers\"}},\"id\":\"5040\",\"type\":\"ColumnDataSource\"},{\"attributes\":{\"overlay\":{\"id\":\"5011\",\"type\":\"BoxAnnotation\"}},\"id\":\"4978\",\"type\":\"BoxZoomTool\"},{\"attributes\":{},\"id\":\"4997\",\"type\":\"DatetimeTickFormatter\"},{\"attributes\":{},\"id\":\"4972\",\"type\":\"BasicTicker\"},{\"attributes\":{\"dimension\":1,\"ticker\":{\"id\":\"4972\",\"type\":\"BasicTicker\"}},\"id\":\"4975\",\"type\":\"Grid\"},{\"attributes\":{\"days\":[1,4,7,10,13,16,19,22,25,28]},\"id\":\"5003\",\"type\":\"DaysTicker\"},{\"attributes\":{\"label\":{\"value\":\"Lombardia\"},\"renderers\":[{\"id\":\"5043\",\"type\":\"GlyphRenderer\"}]},\"id\":\"5067\",\"type\":\"LegendItem\"},{\"attributes\":{},\"id\":\"4980\",\"type\":\"ResetTool\"},{\"attributes\":{},\"id\":\"4977\",\"type\":\"WheelZoomTool\"},{\"attributes\":{\"active_drag\":\"auto\",\"active_inspect\":\"auto\",\"active_multi\":null,\"active_scroll\":\"auto\",\"active_tap\":\"auto\",\"tools\":[{\"id\":\"4976\",\"type\":\"PanTool\"},{\"id\":\"4977\",\"type\":\"WheelZoomTool\"},{\"id\":\"4978\",\"type\":\"BoxZoomTool\"},{\"id\":\"4979\",\"type\":\"SaveTool\"},{\"id\":\"4980\",\"type\":\"ResetTool\"},{\"id\":\"4981\",\"type\":\"HelpTool\"},{\"id\":\"5068\",\"type\":\"HoverTool\"},{\"id\":\"5070\",\"type\":\"PanTool\"}]},\"id\":\"4982\",\"type\":\"Toolbar\"},{\"attributes\":{\"mantissas\":[1,2,5],\"max_interval\":500.0,\"num_minor_ticks\":0},\"id\":\"4999\",\"type\":\"AdaptiveTicker\"},{\"attributes\":{},\"id\":\"5065\",\"type\":\"UnionRenderers\"},{\"attributes\":{\"source\":{\"id\":\"5040\",\"type\":\"ColumnDataSource\"}},\"id\":\"5044\",\"type\":\"CDSView\"},{\"attributes\":{},\"id\":\"4976\",\"type\":\"PanTool\"},{\"attributes\":{},\"id\":\"4979\",\"type\":\"SaveTool\"},{\"attributes\":{\"data_source\":{\"id\":\"5040\",\"type\":\"ColumnDataSource\"},\"glyph\":{\"id\":\"5041\",\"type\":\"Line\"},\"hover_glyph\":null,\"muted_glyph\":null,\"nonselection_glyph\":{\"id\":\"5042\",\"type\":\"Line\"},\"selection_glyph\":null,\"view\":{\"id\":\"5044\",\"type\":\"CDSView\"}},\"id\":\"5043\",\"type\":\"GlyphRenderer\"}],\"root_ids\":[\"4955\"]},\"title\":\"Bokeh Application\",\"version\":\"1.4.0\"}};\n",
       "  var render_items = [{\"docid\":\"f5992249-0ef8-4aa8-8656-3ef546066d28\",\"roots\":{\"4955\":\"7c8e93e2-2379-47e5-a149-daa051bcde00\"}}];\n",
       "  root.Bokeh.embed.embed_items_notebook(docs_json, render_items);\n",
       "\n",
       "  }\n",
       "  if (root.Bokeh !== undefined) {\n",
       "    embed_document(root);\n",
       "  } else {\n",
       "    var attempts = 0;\n",
       "    var timer = setInterval(function(root) {\n",
       "      if (root.Bokeh !== undefined) {\n",
       "        clearInterval(timer);\n",
       "        embed_document(root);\n",
       "      } else {\n",
       "        attempts++;\n",
       "        if (attempts > 100) {\n",
       "          clearInterval(timer);\n",
       "          console.log(\"Bokeh: ERROR: Unable to run BokehJS code because BokehJS library is missing\");\n",
       "        }\n",
       "      }\n",
       "    }, 10, root)\n",
       "  }\n",
       "})(window);"
      ],
      "application/vnd.bokehjs_exec.v0+json": ""
     },
     "metadata": {
      "application/vnd.bokehjs_exec.v0+json": {
       "id": "4955"
      }
     },
     "output_type": "display_data"
    }
   ],
   "source": [
    "fig = figure(title='trend for the daily vaccines done', \n",
    "             width=1000, \n",
    "             height=400,\n",
    "             x_axis_label='data',\n",
    "             y_axis_label='total',\n",
    "             x_axis_type='datetime')\n",
    "\n",
    "for p in regioni_to_show:\n",
    "    df_filtered = dati_vaccini.query('nome_area==@p')[['data_somministrazione', 'totale_somministrazioni']].groupby('data_somministrazione').sum()\n",
    "    fig.line(df_filtered.index, \n",
    "             df_filtered['totale_somministrazioni'], \n",
    "             color=colors[regioni_to_show.index(p)],\n",
    "             legend_label=p, \n",
    "             line_width=1.5)\n",
    "\n",
    "\n",
    "# add the hover tool\n",
    "fig.add_tools(HoverTool(\n",
    "    tooltips=[('data', '@x{%F}'), ('totale_somministrazioni', '@y')],\n",
    "    formatters=dict(x='datetime')\n",
    "))\n",
    "\n",
    "fig.add_tools(PanTool(dimensions='width'))\n",
    "fig.legend.location = 'top_left'\n",
    "fig.x_range.start = dati_vaccini['data_somministrazione'].min()\n",
    "    \n",
    "# Show the figure\n",
    "show(fig)"
   ]
  },
  {
   "cell_type": "code",
   "execution_count": 39,
   "metadata": {},
   "outputs": [
    {
     "data": {
      "text/html": [
       "\n",
       "\n",
       "\n",
       "\n",
       "\n",
       "\n",
       "  <div class=\"bk-root\" id=\"996e9539-2149-46a5-8270-004e4cead172\" data-root-id=\"5488\"></div>\n"
      ]
     },
     "metadata": {},
     "output_type": "display_data"
    },
    {
     "data": {
      "application/javascript": [
       "(function(root) {\n",
       "  function embed_document(root) {\n",
       "    \n",
       "  var docs_json = {\"79369c0b-c33b-496c-ae73-0ab082853c5e\":{\"roots\":{\"references\":[{\"attributes\":{\"below\":[{\"id\":\"5499\",\"type\":\"DatetimeAxis\"}],\"center\":[{\"id\":\"5503\",\"type\":\"Grid\"},{\"id\":\"5508\",\"type\":\"Grid\"},{\"id\":\"5545\",\"type\":\"Legend\"}],\"left\":[{\"id\":\"5504\",\"type\":\"LinearAxis\"}],\"plot_height\":400,\"plot_width\":1000,\"renderers\":[{\"id\":\"5525\",\"type\":\"GlyphRenderer\"},{\"id\":\"5550\",\"type\":\"GlyphRenderer\"},{\"id\":\"5576\",\"type\":\"GlyphRenderer\"}],\"title\":{\"id\":\"5489\",\"type\":\"Title\"},\"toolbar\":{\"id\":\"5515\",\"type\":\"Toolbar\"},\"x_range\":{\"id\":\"5491\",\"type\":\"DataRange1d\"},\"x_scale\":{\"id\":\"5495\",\"type\":\"LinearScale\"},\"y_range\":{\"id\":\"5493\",\"type\":\"DataRange1d\"},\"y_scale\":{\"id\":\"5497\",\"type\":\"LinearScale\"}},\"id\":\"5488\",\"subtype\":\"Figure\",\"type\":\"Plot\"},{\"attributes\":{\"base\":24,\"mantissas\":[1,2,4,6,8,12],\"max_interval\":43200000.0,\"min_interval\":3600000.0,\"num_minor_ticks\":0},\"id\":\"5534\",\"type\":\"AdaptiveTicker\"},{\"attributes\":{},\"id\":\"5570\",\"type\":\"UnionRenderers\"},{\"attributes\":{\"callback\":null,\"data\":{\"x\":[1609027200000.0,1609113600000.0,1609200000000.0,1609286400000.0,1609372800000.0,1609459200000.0,1609545600000.0,1609632000000.0,1609718400000.0,1609804800000.0,1609891200000.0,1609977600000.0,1610064000000.0,1610150400000.0,1610236800000.0,1610323200000.0,1610409600000.0,1610496000000.0,1610582400000.0,1610668800000.0,1610755200000.0,1610841600000.0,1610928000000.0,1611014400000.0,1611100800000.0,1611187200000.0,1611273600000.0,1611360000000.0,1611446400000.0,1611532800000.0,1611619200000.0,1611705600000.0,1611792000000.0,1611878400000.0,1611964800000.0,1612051200000.0,1612137600000.0,1612224000000.0,1612310400000.0,1612396800000.0,1612483200000.0,1612569600000.0,1612656000000.0,1612742400000.0,1612828800000.0,1612915200000.0,1613001600000.0,1613088000000.0,1613174400000.0,1613260800000.0,1613347200000.0,1613433600000.0,1613520000000.0,1613606400000.0,1613692800000.0,1613779200000.0,1613865600000.0,1613952000000.0,1614038400000.0,1614124800000.0,1614211200000.0,1614297600000.0,1614384000000.0,1614470400000.0,1614556800000.0,1614643200000.0,1614729600000.0,1614816000000.0,1614902400000.0,1614988800000.0,1615075200000.0,1615161600000.0,1615248000000.0,1615334400000.0,1615420800000.0,1615507200000.0,1615593600000.0,1615680000000.0,1615766400000.0,1615852800000.0,1615939200000.0,1616025600000.0,1616112000000.0,1616198400000.0,1616284800000.0,1616371200000.0,1616457600000.0,1616544000000.0,1616630400000.0,1616716800000.0,1616803200000.0,1616889600000.0,1616976000000.0,1617062400000.0,1617148800000.0,1617235200000.0,1617321600000.0,1617408000000.0,1617494400000.0,1617580800000.0,1617667200000.0,1617753600000.0,1617840000000.0,1617926400000.0,1618012800000.0,1618099200000.0,1618185600000.0,1618272000000.0,1618358400000.0,1618444800000.0,1618531200000.0,1618617600000.0,1618704000000.0,1618790400000.0,1618876800000.0,1618963200000.0,1619049600000.0,1619136000000.0,1619222400000.0,1619308800000.0,1619395200000.0,1619481600000.0,1619568000000.0,1619654400000.0,1619740800000.0,1619827200000.0,1619913600000.0,1620000000000.0,1620086400000.0,1620172800000.0],\"y\":[90,297,532,705,1583,2398,7274,11969,20344,30872,37344,46518,54846,62172,65791,71697,76240,81506,86765,91847,94623,95922,97501,98777,99587,100929,102170,106370,110713,118230,127761,135296,144631,153996,161836,165949,172029,177571,183678,190649,197866,202937,205286,209372,213744,218178,223514,228261,231368,232426,236413,240827,246261,251768,256947,264232,269410,277452,286403,296005,306180,318429,330879,338060,351045,366003,380724,395941,411889,424845,434145,447732,460979,474970,490476,503622,516088,524923,535799,545976,561436,577083,593639,612583,627811,644682,665828,687017,707590,725576,741392,752435,767492,782122,796798,811313,825397,841807,848795,856989,875201,890971,908013,928712,949402,964914,984023,1004188,1024865,1046286,1075137,1101351,1121151,1139746,1159110,1181762,1208864,1237809,1269156,1290486,1312470,1338874,1368450,1400302,1435270,1459700,1484478,1508057,1534640,1544066]},\"selected\":{\"id\":\"5597\",\"type\":\"Selection\"},\"selection_policy\":{\"id\":\"5598\",\"type\":\"UnionRenderers\"}},\"id\":\"5547\",\"type\":\"ColumnDataSource\"},{\"attributes\":{\"base\":60,\"mantissas\":[1,2,5,10,15,20,30],\"max_interval\":1800000.0,\"min_interval\":1000.0,\"num_minor_ticks\":0},\"id\":\"5533\",\"type\":\"AdaptiveTicker\"},{\"attributes\":{\"dimensions\":\"width\"},\"id\":\"5603\",\"type\":\"PanTool\"},{\"attributes\":{\"days\":[1,8,15,22]},\"id\":\"5537\",\"type\":\"DaysTicker\"},{\"attributes\":{\"data_source\":{\"id\":\"5573\",\"type\":\"ColumnDataSource\"},\"glyph\":{\"id\":\"5574\",\"type\":\"Line\"},\"hover_glyph\":null,\"muted_glyph\":null,\"nonselection_glyph\":{\"id\":\"5575\",\"type\":\"Line\"},\"selection_glyph\":null,\"view\":{\"id\":\"5577\",\"type\":\"CDSView\"}},\"id\":\"5576\",\"type\":\"GlyphRenderer\"},{\"attributes\":{\"months\":[0,1,2,3,4,5,6,7,8,9,10,11]},\"id\":\"5539\",\"type\":\"MonthsTicker\"},{\"attributes\":{\"days\":[1,4,7,10,13,16,19,22,25,28]},\"id\":\"5536\",\"type\":\"DaysTicker\"},{\"attributes\":{\"callback\":null,\"formatters\":{\"x\":\"datetime\"},\"tooltips\":[[\"data\",\"@x{%F}\"],[\"total\",\"@y\"]]},\"id\":\"5601\",\"type\":\"HoverTool\"},{\"attributes\":{\"items\":[{\"id\":\"5546\",\"type\":\"LegendItem\"},{\"id\":\"5572\",\"type\":\"LegendItem\"},{\"id\":\"5600\",\"type\":\"LegendItem\"}],\"location\":\"top_left\"},\"id\":\"5545\",\"type\":\"Legend\"},{\"attributes\":{\"days\":[1,2,3,4,5,6,7,8,9,10,11,12,13,14,15,16,17,18,19,20,21,22,23,24,25,26,27,28,29,30,31]},\"id\":\"5535\",\"type\":\"DaysTicker\"},{\"attributes\":{\"text\":\"cumulative trend for the total vaccines done\"},\"id\":\"5489\",\"type\":\"Title\"},{\"attributes\":{},\"id\":\"5597\",\"type\":\"Selection\"},{\"attributes\":{\"data_source\":{\"id\":\"5547\",\"type\":\"ColumnDataSource\"},\"glyph\":{\"id\":\"5548\",\"type\":\"Line\"},\"hover_glyph\":null,\"muted_glyph\":null,\"nonselection_glyph\":{\"id\":\"5549\",\"type\":\"Line\"},\"selection_glyph\":null,\"view\":{\"id\":\"5551\",\"type\":\"CDSView\"}},\"id\":\"5550\",\"type\":\"GlyphRenderer\"},{\"attributes\":{\"label\":{\"value\":\"Sicilia\"},\"renderers\":[{\"id\":\"5550\",\"type\":\"GlyphRenderer\"}]},\"id\":\"5572\",\"type\":\"LegendItem\"},{\"attributes\":{},\"id\":\"5899\",\"type\":\"UnionRenderers\"},{\"attributes\":{\"num_minor_ticks\":5,\"tickers\":[{\"id\":\"5532\",\"type\":\"AdaptiveTicker\"},{\"id\":\"5533\",\"type\":\"AdaptiveTicker\"},{\"id\":\"5534\",\"type\":\"AdaptiveTicker\"},{\"id\":\"5535\",\"type\":\"DaysTicker\"},{\"id\":\"5536\",\"type\":\"DaysTicker\"},{\"id\":\"5537\",\"type\":\"DaysTicker\"},{\"id\":\"5538\",\"type\":\"DaysTicker\"},{\"id\":\"5539\",\"type\":\"MonthsTicker\"},{\"id\":\"5540\",\"type\":\"MonthsTicker\"},{\"id\":\"5541\",\"type\":\"MonthsTicker\"},{\"id\":\"5542\",\"type\":\"MonthsTicker\"},{\"id\":\"5543\",\"type\":\"YearsTicker\"}]},\"id\":\"5500\",\"type\":\"DatetimeTicker\"},{\"attributes\":{\"source\":{\"id\":\"5547\",\"type\":\"ColumnDataSource\"}},\"id\":\"5551\",\"type\":\"CDSView\"},{\"attributes\":{\"callback\":null,\"start\":1609027200000.0},\"id\":\"5491\",\"type\":\"DataRange1d\"},{\"attributes\":{\"axis_label\":\"data\",\"formatter\":{\"id\":\"5530\",\"type\":\"DatetimeTickFormatter\"},\"ticker\":{\"id\":\"5500\",\"type\":\"DatetimeTicker\"}},\"id\":\"5499\",\"type\":\"DatetimeAxis\"},{\"attributes\":{\"source\":{\"id\":\"5573\",\"type\":\"ColumnDataSource\"}},\"id\":\"5577\",\"type\":\"CDSView\"},{\"attributes\":{},\"id\":\"5497\",\"type\":\"LinearScale\"},{\"attributes\":{\"line_color\":\"red\",\"line_width\":1.5,\"x\":{\"field\":\"x\"},\"y\":{\"field\":\"y\"}},\"id\":\"5523\",\"type\":\"Line\"},{\"attributes\":{\"line_color\":\"cadetblue\",\"line_width\":1.5,\"x\":{\"field\":\"x\"},\"y\":{\"field\":\"y\"}},\"id\":\"5574\",\"type\":\"Line\"},{\"attributes\":{\"callback\":null},\"id\":\"5493\",\"type\":\"DataRange1d\"},{\"attributes\":{},\"id\":\"5898\",\"type\":\"Selection\"},{\"attributes\":{},\"id\":\"5495\",\"type\":\"LinearScale\"},{\"attributes\":{\"callback\":null,\"data\":{\"x\":[1609027200000.0,1609113600000.0,1609200000000.0,1609286400000.0,1609372800000.0,1609459200000.0,1609545600000.0,1609632000000.0,1609718400000.0,1609804800000.0,1609891200000.0,1609977600000.0,1610064000000.0,1610150400000.0,1610236800000.0,1610323200000.0,1610409600000.0,1610496000000.0,1610582400000.0,1610668800000.0,1610755200000.0,1610841600000.0,1610928000000.0,1611014400000.0,1611100800000.0,1611187200000.0,1611273600000.0,1611360000000.0,1611446400000.0,1611532800000.0,1611619200000.0,1611705600000.0,1611792000000.0,1611878400000.0,1611964800000.0,1612051200000.0,1612137600000.0,1612224000000.0,1612310400000.0,1612396800000.0,1612483200000.0,1612569600000.0,1612656000000.0,1612742400000.0,1612828800000.0,1612915200000.0,1613001600000.0,1613088000000.0,1613174400000.0,1613260800000.0,1613347200000.0,1613433600000.0,1613520000000.0,1613606400000.0,1613692800000.0,1613779200000.0,1613865600000.0,1613952000000.0,1614038400000.0,1614124800000.0,1614211200000.0,1614297600000.0,1614384000000.0,1614470400000.0,1614556800000.0,1614643200000.0,1614729600000.0,1614816000000.0,1614902400000.0,1614988800000.0,1615075200000.0,1615161600000.0,1615248000000.0,1615334400000.0,1615420800000.0,1615507200000.0,1615593600000.0,1615680000000.0,1615766400000.0,1615852800000.0,1615939200000.0,1616025600000.0,1616112000000.0,1616198400000.0,1616284800000.0,1616371200000.0,1616457600000.0,1616544000000.0,1616630400000.0,1616716800000.0,1616803200000.0,1616889600000.0,1616976000000.0,1617062400000.0,1617148800000.0,1617235200000.0,1617321600000.0,1617408000000.0,1617494400000.0,1617580800000.0,1617667200000.0,1617753600000.0,1617840000000.0,1617926400000.0,1618012800000.0,1618099200000.0,1618185600000.0,1618272000000.0,1618358400000.0,1618444800000.0,1618531200000.0,1618617600000.0,1618704000000.0,1618790400000.0,1618876800000.0,1618963200000.0,1619049600000.0,1619136000000.0,1619222400000.0,1619308800000.0,1619395200000.0,1619481600000.0,1619568000000.0,1619654400000.0,1619740800000.0,1619827200000.0,1619913600000.0,1620000000000.0,1620086400000.0,1620172800000.0],\"y\":[717,824,928,1042,1755,1779,1978,2831,8906,16723,23781,35494,48158,60567,71085,87120,106979,133194,159921,185055,200414,208704,217859,225960,231539,236880,239978,241092,242293,249317,257656,265700,277880,291318,303641,313387,329441,349286,374832,402476,428062,443312,450520,460596,472843,487233,504275,518221,524635,528213,537126,546665,558631,572668,586778,596209,601261,613152,624924,639592,654779,673133,687076,694960,713735,736547,763447,792831,821810,843123,855128,884858,918090,951308,987498,1022737,1049854,1064729,1096267,1121740,1147890,1175306,1207672,1240181,1263758,1304017,1346434,1389694,1432207,1473305,1505519,1525936,1565909,1605339,1647182,1689858,1730872,1767018,1774634,1801982,1844973,1895425,1947512,1999529,2051331,2083446,2130602,2178411,2225391,2274560,2328061,2375895,2412132,2472204,2539585,2611061,2684287,2757531,2832539,2883725,2971421,3056927,3152003,3266380,3382164,3476883,3560183,3643281,3728477,3758392]},\"selected\":{\"id\":\"5898\",\"type\":\"Selection\"},\"selection_policy\":{\"id\":\"5899\",\"type\":\"UnionRenderers\"}},\"id\":\"5573\",\"type\":\"ColumnDataSource\"},{\"attributes\":{\"ticker\":{\"id\":\"5500\",\"type\":\"DatetimeTicker\"}},\"id\":\"5503\",\"type\":\"Grid\"},{\"attributes\":{\"source\":{\"id\":\"5522\",\"type\":\"ColumnDataSource\"}},\"id\":\"5526\",\"type\":\"CDSView\"},{\"attributes\":{\"line_alpha\":0.1,\"line_color\":\"#1f77b4\",\"line_width\":1.5,\"x\":{\"field\":\"x\"},\"y\":{\"field\":\"y\"}},\"id\":\"5549\",\"type\":\"Line\"},{\"attributes\":{\"bottom_units\":\"screen\",\"fill_alpha\":{\"value\":0.5},\"fill_color\":{\"value\":\"lightgrey\"},\"left_units\":\"screen\",\"level\":\"overlay\",\"line_alpha\":{\"value\":1.0},\"line_color\":{\"value\":\"black\"},\"line_dash\":[4,4],\"line_width\":{\"value\":2},\"render_mode\":\"css\",\"right_units\":\"screen\",\"top_units\":\"screen\"},\"id\":\"5544\",\"type\":\"BoxAnnotation\"},{\"attributes\":{\"axis_label\":\"total\",\"formatter\":{\"id\":\"5528\",\"type\":\"BasicTickFormatter\"},\"ticker\":{\"id\":\"5505\",\"type\":\"BasicTicker\"}},\"id\":\"5504\",\"type\":\"LinearAxis\"},{\"attributes\":{},\"id\":\"5505\",\"type\":\"BasicTicker\"},{\"attributes\":{\"dimension\":1,\"ticker\":{\"id\":\"5505\",\"type\":\"BasicTicker\"}},\"id\":\"5508\",\"type\":\"Grid\"},{\"attributes\":{},\"id\":\"5510\",\"type\":\"WheelZoomTool\"},{\"attributes\":{\"active_drag\":\"auto\",\"active_inspect\":\"auto\",\"active_multi\":null,\"active_scroll\":\"auto\",\"active_tap\":\"auto\",\"tools\":[{\"id\":\"5509\",\"type\":\"PanTool\"},{\"id\":\"5510\",\"type\":\"WheelZoomTool\"},{\"id\":\"5511\",\"type\":\"BoxZoomTool\"},{\"id\":\"5512\",\"type\":\"SaveTool\"},{\"id\":\"5513\",\"type\":\"ResetTool\"},{\"id\":\"5514\",\"type\":\"HelpTool\"},{\"id\":\"5601\",\"type\":\"HoverTool\"},{\"id\":\"5603\",\"type\":\"PanTool\"}]},\"id\":\"5515\",\"type\":\"Toolbar\"},{\"attributes\":{},\"id\":\"5509\",\"type\":\"PanTool\"},{\"attributes\":{\"callback\":null,\"data\":{\"x\":[1609027200000.0,1609286400000.0,1609372800000.0,1609459200000.0,1609545600000.0,1609632000000.0,1609718400000.0,1609804800000.0,1609891200000.0,1609977600000.0,1610064000000.0,1610150400000.0,1610236800000.0,1610323200000.0,1610409600000.0,1610496000000.0,1610582400000.0,1610668800000.0,1610755200000.0,1610841600000.0,1610928000000.0,1611014400000.0,1611100800000.0,1611187200000.0,1611273600000.0,1611360000000.0,1611446400000.0,1611532800000.0,1611619200000.0,1611705600000.0,1611792000000.0,1611878400000.0,1611964800000.0,1612051200000.0,1612137600000.0,1612224000000.0,1612310400000.0,1612396800000.0,1612483200000.0,1612569600000.0,1612656000000.0,1612742400000.0,1612828800000.0,1612915200000.0,1613001600000.0,1613088000000.0,1613174400000.0,1613260800000.0,1613347200000.0,1613433600000.0,1613520000000.0,1613606400000.0,1613692800000.0,1613779200000.0,1613865600000.0,1613952000000.0,1614038400000.0,1614124800000.0,1614211200000.0,1614297600000.0,1614384000000.0,1614470400000.0,1614556800000.0,1614643200000.0,1614729600000.0,1614816000000.0,1614902400000.0,1614988800000.0,1615075200000.0,1615161600000.0,1615248000000.0,1615334400000.0,1615420800000.0,1615507200000.0,1615593600000.0,1615680000000.0,1615766400000.0,1615852800000.0,1615939200000.0,1616025600000.0,1616112000000.0,1616198400000.0,1616284800000.0,1616371200000.0,1616457600000.0,1616544000000.0,1616630400000.0,1616716800000.0,1616803200000.0,1616889600000.0,1616976000000.0,1617062400000.0,1617148800000.0,1617235200000.0,1617321600000.0,1617408000000.0,1617494400000.0,1617580800000.0,1617667200000.0,1617753600000.0,1617840000000.0,1617926400000.0,1618012800000.0,1618099200000.0,1618185600000.0,1618272000000.0,1618358400000.0,1618444800000.0,1618531200000.0,1618617600000.0,1618704000000.0,1618790400000.0,1618876800000.0,1618963200000.0,1619049600000.0,1619136000000.0,1619222400000.0,1619308800000.0,1619395200000.0,1619481600000.0,1619568000000.0,1619654400000.0,1619740800000.0,1619827200000.0,1619913600000.0,1620000000000.0,1620086400000.0,1620172800000.0],\"y\":[507,508,2143,2289,5237,7244,11747,16846,20788,26503,32083,36960,39309,43059,47267,51804,55871,60422,62929,64237,66083,67304,68850,70980,72389,75426,77095,80916,86274,90850,96315,102507,108034,109842,113804,118143,123174,129072,134703,139213,140791,144784,148623,152258,155956,160055,163778,164563,167817,171195,175465,179840,184569,187536,189710,199332,208671,218697,230586,244254,258378,264266,279311,295596,312205,327235,344267,360163,365077,379734,392891,407263,421607,435518,445887,449200,460959,470814,481090,490484,498431,506666,509355,518699,529095,542059,552931,564367,576461,579984,592811,604643,618671,632071,644575,654981,660910,673588,686921,701808,719008,740605,770932,787288,816086,844459,876065,908002,943253,982281,1004622,1031914,1052610,1075444,1098008,1126674,1155475,1166376,1192135,1218201,1237552,1262732,1296182,1322719,1343579,1375387,1407594,1414086]},\"selected\":{\"id\":\"5569\",\"type\":\"Selection\"},\"selection_policy\":{\"id\":\"5570\",\"type\":\"UnionRenderers\"}},\"id\":\"5522\",\"type\":\"ColumnDataSource\"},{\"attributes\":{},\"id\":\"5514\",\"type\":\"HelpTool\"},{\"attributes\":{},\"id\":\"5598\",\"type\":\"UnionRenderers\"},{\"attributes\":{\"mantissas\":[1,2,5],\"max_interval\":500.0,\"num_minor_ticks\":0},\"id\":\"5532\",\"type\":\"AdaptiveTicker\"},{\"attributes\":{\"overlay\":{\"id\":\"5544\",\"type\":\"BoxAnnotation\"}},\"id\":\"5511\",\"type\":\"BoxZoomTool\"},{\"attributes\":{},\"id\":\"5512\",\"type\":\"SaveTool\"},{\"attributes\":{\"line_alpha\":0.1,\"line_color\":\"#1f77b4\",\"line_width\":1.5,\"x\":{\"field\":\"x\"},\"y\":{\"field\":\"y\"}},\"id\":\"5524\",\"type\":\"Line\"},{\"attributes\":{},\"id\":\"5513\",\"type\":\"ResetTool\"},{\"attributes\":{\"months\":[0,4,8]},\"id\":\"5541\",\"type\":\"MonthsTicker\"},{\"attributes\":{\"data_source\":{\"id\":\"5522\",\"type\":\"ColumnDataSource\"},\"glyph\":{\"id\":\"5523\",\"type\":\"Line\"},\"hover_glyph\":null,\"muted_glyph\":null,\"nonselection_glyph\":{\"id\":\"5524\",\"type\":\"Line\"},\"selection_glyph\":null,\"view\":{\"id\":\"5526\",\"type\":\"CDSView\"}},\"id\":\"5525\",\"type\":\"GlyphRenderer\"},{\"attributes\":{\"months\":[0,6]},\"id\":\"5542\",\"type\":\"MonthsTicker\"},{\"attributes\":{\"days\":[1,15]},\"id\":\"5538\",\"type\":\"DaysTicker\"},{\"attributes\":{\"label\":{\"value\":\"Puglia\"},\"renderers\":[{\"id\":\"5525\",\"type\":\"GlyphRenderer\"}]},\"id\":\"5546\",\"type\":\"LegendItem\"},{\"attributes\":{\"label\":{\"value\":\"Lombardia\"},\"renderers\":[{\"id\":\"5576\",\"type\":\"GlyphRenderer\"}]},\"id\":\"5600\",\"type\":\"LegendItem\"},{\"attributes\":{\"line_alpha\":0.1,\"line_color\":\"#1f77b4\",\"line_width\":1.5,\"x\":{\"field\":\"x\"},\"y\":{\"field\":\"y\"}},\"id\":\"5575\",\"type\":\"Line\"},{\"attributes\":{},\"id\":\"5528\",\"type\":\"BasicTickFormatter\"},{\"attributes\":{},\"id\":\"5543\",\"type\":\"YearsTicker\"},{\"attributes\":{},\"id\":\"5569\",\"type\":\"Selection\"},{\"attributes\":{\"line_color\":\"turquoise\",\"line_width\":1.5,\"x\":{\"field\":\"x\"},\"y\":{\"field\":\"y\"}},\"id\":\"5548\",\"type\":\"Line\"},{\"attributes\":{},\"id\":\"5530\",\"type\":\"DatetimeTickFormatter\"},{\"attributes\":{\"months\":[0,2,4,6,8,10]},\"id\":\"5540\",\"type\":\"MonthsTicker\"}],\"root_ids\":[\"5488\"]},\"title\":\"Bokeh Application\",\"version\":\"1.4.0\"}};\n",
       "  var render_items = [{\"docid\":\"79369c0b-c33b-496c-ae73-0ab082853c5e\",\"roots\":{\"5488\":\"996e9539-2149-46a5-8270-004e4cead172\"}}];\n",
       "  root.Bokeh.embed.embed_items_notebook(docs_json, render_items);\n",
       "\n",
       "  }\n",
       "  if (root.Bokeh !== undefined) {\n",
       "    embed_document(root);\n",
       "  } else {\n",
       "    var attempts = 0;\n",
       "    var timer = setInterval(function(root) {\n",
       "      if (root.Bokeh !== undefined) {\n",
       "        clearInterval(timer);\n",
       "        embed_document(root);\n",
       "      } else {\n",
       "        attempts++;\n",
       "        if (attempts > 100) {\n",
       "          clearInterval(timer);\n",
       "          console.log(\"Bokeh: ERROR: Unable to run BokehJS code because BokehJS library is missing\");\n",
       "        }\n",
       "      }\n",
       "    }, 10, root)\n",
       "  }\n",
       "})(window);"
      ],
      "application/vnd.bokehjs_exec.v0+json": ""
     },
     "metadata": {
      "application/vnd.bokehjs_exec.v0+json": {
       "id": "5488"
      }
     },
     "output_type": "display_data"
    }
   ],
   "source": [
    "fig = figure(title='cumulative trend for the total vaccines done', \n",
    "             width=1000, \n",
    "             height=400,\n",
    "             x_axis_label='data',\n",
    "             y_axis_label='total',\n",
    "             x_axis_type='datetime')\n",
    "\n",
    "for p in regioni_to_show:\n",
    "    df_filtered = dati_vaccini.query('nome_area==@p')[['data_somministrazione', 'totale_somministrazioni']].groupby('data_somministrazione').sum().cumsum()\n",
    "    fig.line(df_filtered.index, \n",
    "             df_filtered['totale_somministrazioni'], \n",
    "             color=colors[regioni_to_show.index(p)],\n",
    "             legend_label=p, \n",
    "             line_width=1.5)\n",
    "\n",
    "\n",
    "# add the hover tool\n",
    "fig.add_tools(HoverTool(\n",
    "    tooltips=[('data', '@x{%F}'), ('total', '@y')],\n",
    "    formatters=dict(x='datetime')\n",
    "))\n",
    "\n",
    "fig.add_tools(PanTool(dimensions='width'))\n",
    "fig.legend.location = 'top_left'\n",
    "fig.x_range.start = dati_vaccini['data_somministrazione'].min()\n",
    "    \n",
    "# Show the figure\n",
    "show(fig)"
   ]
  },
  {
   "cell_type": "code",
   "execution_count": null,
   "metadata": {},
   "outputs": [],
   "source": []
  },
  {
   "cell_type": "code",
   "execution_count": null,
   "metadata": {},
   "outputs": [],
   "source": []
  },
  {
   "cell_type": "markdown",
   "metadata": {},
   "source": [
    "## analysis on all types of vaccine"
   ]
  },
  {
   "cell_type": "code",
   "execution_count": 40,
   "metadata": {},
   "outputs": [],
   "source": [
    "vaccini = list(dati_vaccini.fornitore.unique())\n",
    "colors = ['red', 'blue', 'green', 'yellow']"
   ]
  },
  {
   "cell_type": "code",
   "execution_count": 41,
   "metadata": {},
   "outputs": [
    {
     "data": {
      "text/html": [
       "\n",
       "\n",
       "\n",
       "\n",
       "\n",
       "\n",
       "  <div class=\"bk-root\" id=\"2e6e12cd-117b-4900-9a8e-cf0671407ca5\" data-root-id=\"6045\"></div>\n"
      ]
     },
     "metadata": {},
     "output_type": "display_data"
    },
    {
     "data": {
      "application/javascript": [
       "(function(root) {\n",
       "  function embed_document(root) {\n",
       "    \n",
       "  var docs_json = {\"060eae65-52d5-4f4f-b285-fb3e67d091fb\":{\"roots\":{\"references\":[{\"attributes\":{\"below\":[{\"id\":\"6056\",\"type\":\"DatetimeAxis\"}],\"center\":[{\"id\":\"6060\",\"type\":\"Grid\"},{\"id\":\"6065\",\"type\":\"Grid\"},{\"id\":\"6102\",\"type\":\"Legend\"}],\"left\":[{\"id\":\"6061\",\"type\":\"LinearAxis\"}],\"plot_height\":400,\"plot_width\":1000,\"renderers\":[{\"id\":\"6082\",\"type\":\"GlyphRenderer\"},{\"id\":\"6107\",\"type\":\"GlyphRenderer\"},{\"id\":\"6133\",\"type\":\"GlyphRenderer\"},{\"id\":\"6161\",\"type\":\"GlyphRenderer\"}],\"title\":{\"id\":\"6046\",\"type\":\"Title\"},\"toolbar\":{\"id\":\"6072\",\"type\":\"Toolbar\"},\"x_range\":{\"id\":\"6048\",\"type\":\"DataRange1d\"},\"x_scale\":{\"id\":\"6052\",\"type\":\"LinearScale\"},\"y_range\":{\"id\":\"6050\",\"type\":\"DataRange1d\"},\"y_scale\":{\"id\":\"6054\",\"type\":\"LinearScale\"}},\"id\":\"6045\",\"subtype\":\"Figure\",\"type\":\"Plot\"},{\"attributes\":{\"callback\":null,\"data\":{\"x\":[1611273600000.0,1611964800000.0,1612051200000.0,1612137600000.0,1612224000000.0,1612483200000.0,1612656000000.0,1612742400000.0,1612915200000.0,1613001600000.0,1613088000000.0,1613174400000.0,1613260800000.0,1613347200000.0,1613433600000.0,1613520000000.0,1613606400000.0,1613692800000.0,1613779200000.0,1613865600000.0,1613952000000.0,1614038400000.0,1614124800000.0,1614211200000.0,1614297600000.0,1614384000000.0,1614470400000.0,1614556800000.0,1614643200000.0,1614729600000.0,1614816000000.0,1614902400000.0,1614988800000.0,1615075200000.0,1615161600000.0,1615248000000.0,1615334400000.0,1615420800000.0,1615507200000.0,1615593600000.0,1615680000000.0,1615766400000.0,1615852800000.0,1615939200000.0,1616025600000.0,1616112000000.0,1616198400000.0,1616284800000.0,1616371200000.0,1616457600000.0,1616544000000.0,1616630400000.0,1616716800000.0,1616803200000.0,1616889600000.0,1616976000000.0,1617062400000.0,1617148800000.0,1617235200000.0,1617321600000.0,1617408000000.0,1617494400000.0,1617580800000.0,1617667200000.0,1617753600000.0,1617840000000.0,1617926400000.0,1618012800000.0,1618099200000.0,1618185600000.0,1618272000000.0,1618358400000.0,1618444800000.0,1618531200000.0,1618617600000.0,1618704000000.0,1618790400000.0,1618876800000.0,1618963200000.0,1619049600000.0,1619136000000.0,1619222400000.0,1619308800000.0,1619395200000.0,1619481600000.0,1619568000000.0,1619654400000.0,1619740800000.0,1619827200000.0,1619913600000.0,1620000000000.0,1620086400000.0,1620172800000.0],\"y\":[3,1,1,1,10,2,1,1,1,2903,4751,5258,7056,6974,9262,12598,17387,19060,18979,10649,23310,24780,27209,31539,40189,44563,26400,39909,55586,56930,58967,63759,62692,35670,57038,59480,63317,67617,69697,66153,40308,46979,415,319,162,17977,49389,44002,67231,75795,73081,77527,78807,66771,54970,69336,71402,68197,52908,64612,46939,38105,58786,83767,79851,56207,51942,60464,37256,78503,95793,100504,90428,107173,108497,72866,95925,96992,101625,91132,96243,93171,75730,64546,67667,76666,88253,85219,67554,64514,88040,111588,36327]},\"selected\":{\"id\":\"6184\",\"type\":\"Selection\"},\"selection_policy\":{\"id\":\"6185\",\"type\":\"UnionRenderers\"}},\"id\":\"6130\",\"type\":\"ColumnDataSource\"},{\"attributes\":{\"label\":{\"value\":\"Pfizer/BioNTech\"},\"renderers\":[{\"id\":\"6082\",\"type\":\"GlyphRenderer\"}]},\"id\":\"6103\",\"type\":\"LegendItem\"},{\"attributes\":{\"days\":[1,15]},\"id\":\"6095\",\"type\":\"DaysTicker\"},{\"attributes\":{},\"id\":\"6155\",\"type\":\"UnionRenderers\"},{\"attributes\":{},\"id\":\"6054\",\"type\":\"LinearScale\"},{\"attributes\":{\"days\":[1,2,3,4,5,6,7,8,9,10,11,12,13,14,15,16,17,18,19,20,21,22,23,24,25,26,27,28,29,30,31]},\"id\":\"6092\",\"type\":\"DaysTicker\"},{\"attributes\":{},\"id\":\"6127\",\"type\":\"UnionRenderers\"},{\"attributes\":{},\"id\":\"6085\",\"type\":\"BasicTickFormatter\"},{\"attributes\":{\"data_source\":{\"id\":\"6079\",\"type\":\"ColumnDataSource\"},\"glyph\":{\"id\":\"6080\",\"type\":\"Line\"},\"hover_glyph\":null,\"muted_glyph\":null,\"nonselection_glyph\":{\"id\":\"6081\",\"type\":\"Line\"},\"selection_glyph\":null,\"view\":{\"id\":\"6083\",\"type\":\"CDSView\"}},\"id\":\"6082\",\"type\":\"GlyphRenderer\"},{\"attributes\":{\"label\":{\"value\":\"Janssen\"},\"renderers\":[{\"id\":\"6161\",\"type\":\"GlyphRenderer\"}]},\"id\":\"6187\",\"type\":\"LegendItem\"},{\"attributes\":{\"mantissas\":[1,2,5],\"max_interval\":500.0,\"num_minor_ticks\":0},\"id\":\"6089\",\"type\":\"AdaptiveTicker\"},{\"attributes\":{\"months\":[0,1,2,3,4,5,6,7,8,9,10,11]},\"id\":\"6096\",\"type\":\"MonthsTicker\"},{\"attributes\":{\"callback\":null,\"formatters\":{\"x\":\"datetime\"},\"tooltips\":[[\"data\",\"@x{%F}\"],[\"total\",\"@y\"]]},\"id\":\"6188\",\"type\":\"HoverTool\"},{\"attributes\":{\"months\":[0,2,4,6,8,10]},\"id\":\"6097\",\"type\":\"MonthsTicker\"},{\"attributes\":{\"base\":60,\"mantissas\":[1,2,5,10,15,20,30],\"max_interval\":1800000.0,\"min_interval\":1000.0,\"num_minor_ticks\":0},\"id\":\"6090\",\"type\":\"AdaptiveTicker\"},{\"attributes\":{},\"id\":\"6069\",\"type\":\"SaveTool\"},{\"attributes\":{\"callback\":null,\"start\":1609027200000.0},\"id\":\"6048\",\"type\":\"DataRange1d\"},{\"attributes\":{\"source\":{\"id\":\"6158\",\"type\":\"ColumnDataSource\"}},\"id\":\"6162\",\"type\":\"CDSView\"},{\"attributes\":{\"callback\":null,\"data\":{\"x\":[1610064000000.0,1610496000000.0,1610582400000.0,1610668800000.0,1610755200000.0,1610841600000.0,1610928000000.0,1611014400000.0,1611100800000.0,1611187200000.0,1611273600000.0,1611360000000.0,1611446400000.0,1611532800000.0,1611619200000.0,1611705600000.0,1611792000000.0,1611878400000.0,1611964800000.0,1612051200000.0,1612137600000.0,1612224000000.0,1612310400000.0,1612396800000.0,1612483200000.0,1612569600000.0,1612656000000.0,1612742400000.0,1612828800000.0,1612915200000.0,1613001600000.0,1613088000000.0,1613174400000.0,1613260800000.0,1613347200000.0,1613433600000.0,1613520000000.0,1613606400000.0,1613692800000.0,1613779200000.0,1613865600000.0,1613952000000.0,1614038400000.0,1614124800000.0,1614211200000.0,1614297600000.0,1614384000000.0,1614470400000.0,1614556800000.0,1614643200000.0,1614729600000.0,1614816000000.0,1614902400000.0,1614988800000.0,1615075200000.0,1615161600000.0,1615248000000.0,1615334400000.0,1615420800000.0,1615507200000.0,1615593600000.0,1615680000000.0,1615766400000.0,1615852800000.0,1615939200000.0,1616025600000.0,1616112000000.0,1616198400000.0,1616284800000.0,1616371200000.0,1616457600000.0,1616544000000.0,1616630400000.0,1616716800000.0,1616803200000.0,1616889600000.0,1616976000000.0,1617062400000.0,1617148800000.0,1617235200000.0,1617321600000.0,1617408000000.0,1617494400000.0,1617580800000.0,1617667200000.0,1617753600000.0,1617840000000.0,1617926400000.0,1618012800000.0,1618099200000.0,1618185600000.0,1618272000000.0,1618358400000.0,1618444800000.0,1618531200000.0,1618617600000.0,1618704000000.0,1618790400000.0,1618876800000.0,1618963200000.0,1619049600000.0,1619136000000.0,1619222400000.0,1619308800000.0,1619395200000.0,1619481600000.0,1619568000000.0,1619654400000.0,1619740800000.0,1619827200000.0,1619913600000.0,1620000000000.0,1620086400000.0,1620172800000.0],\"y\":[2,1,84,1095,911,293,1218,2091,3277,2792,1736,1000,794,598,747,620,774,809,466,197,551,1122,1404,1643,3225,2090,592,2613,3347,2817,3130,4125,3884,1201,4167,6679,7741,7040,6974,6389,5476,6058,5336,6250,6226,5749,6984,2694,7059,7504,9966,10960,12236,13144,7737,12303,12457,11098,12226,9959,11352,6917,11079,12133,11367,12942,11217,12431,9601,11998,13591,15555,18177,19083,28689,17135,24512,28821,23330,24983,30300,35914,12163,20109,39752,29535,33555,35229,40201,17915,24395,27645,26917,24821,21185,21443,12903,17098,23496,29588,31868,31909,41555,31953,38370,52090,53266,52653,46461,41667,30256,38451,54545,16315]},\"selected\":{\"id\":\"6154\",\"type\":\"Selection\"},\"selection_policy\":{\"id\":\"6155\",\"type\":\"UnionRenderers\"}},\"id\":\"6104\",\"type\":\"ColumnDataSource\"},{\"attributes\":{\"dimensions\":\"width\"},\"id\":\"6190\",\"type\":\"PanTool\"},{\"attributes\":{\"days\":[1,8,15,22]},\"id\":\"6094\",\"type\":\"DaysTicker\"},{\"attributes\":{\"line_color\":\"yellow\",\"line_width\":1.5,\"x\":{\"field\":\"x\"},\"y\":{\"field\":\"y\"}},\"id\":\"6159\",\"type\":\"Line\"},{\"attributes\":{\"callback\":null,\"data\":{\"x\":[1609027200000.0,1609113600000.0,1609200000000.0,1609286400000.0,1609372800000.0,1609459200000.0,1609545600000.0,1609632000000.0,1609718400000.0,1609804800000.0,1609891200000.0,1609977600000.0,1610064000000.0,1610150400000.0,1610236800000.0,1610323200000.0,1610409600000.0,1610496000000.0,1610582400000.0,1610668800000.0,1610755200000.0,1610841600000.0,1610928000000.0,1611014400000.0,1611100800000.0,1611187200000.0,1611273600000.0,1611360000000.0,1611446400000.0,1611532800000.0,1611619200000.0,1611705600000.0,1611792000000.0,1611878400000.0,1611964800000.0,1612051200000.0,1612137600000.0,1612224000000.0,1612310400000.0,1612396800000.0,1612483200000.0,1612569600000.0,1612656000000.0,1612742400000.0,1612828800000.0,1612915200000.0,1613001600000.0,1613088000000.0,1613174400000.0,1613260800000.0,1613347200000.0,1613433600000.0,1613520000000.0,1613606400000.0,1613692800000.0,1613779200000.0,1613865600000.0,1613952000000.0,1614038400000.0,1614124800000.0,1614211200000.0,1614297600000.0,1614384000000.0,1614470400000.0,1614556800000.0,1614643200000.0,1614729600000.0,1614816000000.0,1614902400000.0,1614988800000.0,1615075200000.0,1615161600000.0,1615248000000.0,1615334400000.0,1615420800000.0,1615507200000.0,1615593600000.0,1615680000000.0,1615766400000.0,1615852800000.0,1615939200000.0,1616025600000.0,1616112000000.0,1616198400000.0,1616284800000.0,1616371200000.0,1616457600000.0,1616544000000.0,1616630400000.0,1616716800000.0,1616803200000.0,1616889600000.0,1616976000000.0,1617062400000.0,1617148800000.0,1617235200000.0,1617321600000.0,1617408000000.0,1617494400000.0,1617580800000.0,1617667200000.0,1617753600000.0,1617840000000.0,1617926400000.0,1618012800000.0,1618099200000.0,1618185600000.0,1618272000000.0,1618358400000.0,1618444800000.0,1618531200000.0,1618617600000.0,1618704000000.0,1618790400000.0,1618876800000.0,1618963200000.0,1619049600000.0,1619136000000.0,1619222400000.0,1619308800000.0,1619395200000.0,1619481600000.0,1619568000000.0,1619654400000.0,1619740800000.0,1619827200000.0,1619913600000.0,1620000000000.0,1620086400000.0,1620172800000.0],\"y\":[7175,1424,1009,4728,25481,11061,38523,35164,68771,79798,65189,92255,95628,86993,60367,80979,82063,94557,93691,88598,64062,36775,42606,30801,27419,32737,24864,37772,33092,68470,79543,70244,92779,96976,89814,59372,85063,86759,98186,105857,103945,74877,41149,64195,63334,69870,68604,65069,43502,21180,51618,55167,59606,65172,66348,52590,34854,76090,76370,88541,90421,90478,74714,48870,88490,97371,118857,125931,127217,100566,57694,109100,119232,137501,139530,129194,98512,58192,112904,127534,153579,150085,145679,112327,75970,112796,132049,163346,168887,167989,143175,89763,145261,164474,209938,205468,184716,145535,45865,91284,158808,211364,242394,245372,218138,146207,162764,163665,191486,233412,248854,225764,155134,196304,210981,239814,272142,272663,245472,149823,230338,240943,266983,371973,373427,301073,260473,258565,246040,89592]},\"selected\":{\"id\":\"6126\",\"type\":\"Selection\"},\"selection_policy\":{\"id\":\"6127\",\"type\":\"UnionRenderers\"}},\"id\":\"6079\",\"type\":\"ColumnDataSource\"},{\"attributes\":{\"source\":{\"id\":\"6079\",\"type\":\"ColumnDataSource\"}},\"id\":\"6083\",\"type\":\"CDSView\"},{\"attributes\":{\"months\":[0,4,8]},\"id\":\"6098\",\"type\":\"MonthsTicker\"},{\"attributes\":{},\"id\":\"6512\",\"type\":\"UnionRenderers\"},{\"attributes\":{},\"id\":\"6511\",\"type\":\"Selection\"},{\"attributes\":{\"line_alpha\":0.1,\"line_color\":\"#1f77b4\",\"line_width\":1.5,\"x\":{\"field\":\"x\"},\"y\":{\"field\":\"y\"}},\"id\":\"6132\",\"type\":\"Line\"},{\"attributes\":{\"ticker\":{\"id\":\"6057\",\"type\":\"DatetimeTicker\"}},\"id\":\"6060\",\"type\":\"Grid\"},{\"attributes\":{\"axis_label\":\"total\",\"formatter\":{\"id\":\"6085\",\"type\":\"BasicTickFormatter\"},\"ticker\":{\"id\":\"6062\",\"type\":\"BasicTicker\"}},\"id\":\"6061\",\"type\":\"LinearAxis\"},{\"attributes\":{\"items\":[{\"id\":\"6103\",\"type\":\"LegendItem\"},{\"id\":\"6129\",\"type\":\"LegendItem\"},{\"id\":\"6157\",\"type\":\"LegendItem\"},{\"id\":\"6187\",\"type\":\"LegendItem\"}],\"location\":\"top_left\"},\"id\":\"6102\",\"type\":\"Legend\"},{\"attributes\":{\"callback\":null},\"id\":\"6050\",\"type\":\"DataRange1d\"},{\"attributes\":{\"label\":{\"value\":\"Moderna\"},\"renderers\":[{\"id\":\"6107\",\"type\":\"GlyphRenderer\"}]},\"id\":\"6129\",\"type\":\"LegendItem\"},{\"attributes\":{\"data_source\":{\"id\":\"6104\",\"type\":\"ColumnDataSource\"},\"glyph\":{\"id\":\"6105\",\"type\":\"Line\"},\"hover_glyph\":null,\"muted_glyph\":null,\"nonselection_glyph\":{\"id\":\"6106\",\"type\":\"Line\"},\"selection_glyph\":null,\"view\":{\"id\":\"6108\",\"type\":\"CDSView\"}},\"id\":\"6107\",\"type\":\"GlyphRenderer\"},{\"attributes\":{\"line_color\":\"red\",\"line_width\":1.5,\"x\":{\"field\":\"x\"},\"y\":{\"field\":\"y\"}},\"id\":\"6080\",\"type\":\"Line\"},{\"attributes\":{\"line_alpha\":0.1,\"line_color\":\"#1f77b4\",\"line_width\":1.5,\"x\":{\"field\":\"x\"},\"y\":{\"field\":\"y\"}},\"id\":\"6160\",\"type\":\"Line\"},{\"attributes\":{},\"id\":\"6126\",\"type\":\"Selection\"},{\"attributes\":{},\"id\":\"6185\",\"type\":\"UnionRenderers\"},{\"attributes\":{\"bottom_units\":\"screen\",\"fill_alpha\":{\"value\":0.5},\"fill_color\":{\"value\":\"lightgrey\"},\"left_units\":\"screen\",\"level\":\"overlay\",\"line_alpha\":{\"value\":1.0},\"line_color\":{\"value\":\"black\"},\"line_dash\":[4,4],\"line_width\":{\"value\":2},\"render_mode\":\"css\",\"right_units\":\"screen\",\"top_units\":\"screen\"},\"id\":\"6101\",\"type\":\"BoxAnnotation\"},{\"attributes\":{},\"id\":\"6052\",\"type\":\"LinearScale\"},{\"attributes\":{\"active_drag\":\"auto\",\"active_inspect\":\"auto\",\"active_multi\":null,\"active_scroll\":\"auto\",\"active_tap\":\"auto\",\"tools\":[{\"id\":\"6066\",\"type\":\"PanTool\"},{\"id\":\"6067\",\"type\":\"WheelZoomTool\"},{\"id\":\"6068\",\"type\":\"BoxZoomTool\"},{\"id\":\"6069\",\"type\":\"SaveTool\"},{\"id\":\"6070\",\"type\":\"ResetTool\"},{\"id\":\"6071\",\"type\":\"HelpTool\"},{\"id\":\"6188\",\"type\":\"HoverTool\"},{\"id\":\"6190\",\"type\":\"PanTool\"}]},\"id\":\"6072\",\"type\":\"Toolbar\"},{\"attributes\":{},\"id\":\"6100\",\"type\":\"YearsTicker\"},{\"attributes\":{},\"id\":\"6184\",\"type\":\"Selection\"},{\"attributes\":{\"overlay\":{\"id\":\"6101\",\"type\":\"BoxAnnotation\"}},\"id\":\"6068\",\"type\":\"BoxZoomTool\"},{\"attributes\":{\"line_alpha\":0.1,\"line_color\":\"#1f77b4\",\"line_width\":1.5,\"x\":{\"field\":\"x\"},\"y\":{\"field\":\"y\"}},\"id\":\"6081\",\"type\":\"Line\"},{\"attributes\":{\"data_source\":{\"id\":\"6158\",\"type\":\"ColumnDataSource\"},\"glyph\":{\"id\":\"6159\",\"type\":\"Line\"},\"hover_glyph\":null,\"muted_glyph\":null,\"nonselection_glyph\":{\"id\":\"6160\",\"type\":\"Line\"},\"selection_glyph\":null,\"view\":{\"id\":\"6162\",\"type\":\"CDSView\"}},\"id\":\"6161\",\"type\":\"GlyphRenderer\"},{\"attributes\":{\"num_minor_ticks\":5,\"tickers\":[{\"id\":\"6089\",\"type\":\"AdaptiveTicker\"},{\"id\":\"6090\",\"type\":\"AdaptiveTicker\"},{\"id\":\"6091\",\"type\":\"AdaptiveTicker\"},{\"id\":\"6092\",\"type\":\"DaysTicker\"},{\"id\":\"6093\",\"type\":\"DaysTicker\"},{\"id\":\"6094\",\"type\":\"DaysTicker\"},{\"id\":\"6095\",\"type\":\"DaysTicker\"},{\"id\":\"6096\",\"type\":\"MonthsTicker\"},{\"id\":\"6097\",\"type\":\"MonthsTicker\"},{\"id\":\"6098\",\"type\":\"MonthsTicker\"},{\"id\":\"6099\",\"type\":\"MonthsTicker\"},{\"id\":\"6100\",\"type\":\"YearsTicker\"}]},\"id\":\"6057\",\"type\":\"DatetimeTicker\"},{\"attributes\":{},\"id\":\"6071\",\"type\":\"HelpTool\"},{\"attributes\":{},\"id\":\"6062\",\"type\":\"BasicTicker\"},{\"attributes\":{},\"id\":\"6087\",\"type\":\"DatetimeTickFormatter\"},{\"attributes\":{\"data_source\":{\"id\":\"6130\",\"type\":\"ColumnDataSource\"},\"glyph\":{\"id\":\"6131\",\"type\":\"Line\"},\"hover_glyph\":null,\"muted_glyph\":null,\"nonselection_glyph\":{\"id\":\"6132\",\"type\":\"Line\"},\"selection_glyph\":null,\"view\":{\"id\":\"6134\",\"type\":\"CDSView\"}},\"id\":\"6133\",\"type\":\"GlyphRenderer\"},{\"attributes\":{\"label\":{\"value\":\"Vaxzevria (AstraZeneca)\"},\"renderers\":[{\"id\":\"6133\",\"type\":\"GlyphRenderer\"}]},\"id\":\"6157\",\"type\":\"LegendItem\"},{\"attributes\":{\"line_color\":\"green\",\"line_width\":1.5,\"x\":{\"field\":\"x\"},\"y\":{\"field\":\"y\"}},\"id\":\"6131\",\"type\":\"Line\"},{\"attributes\":{\"callback\":null,\"data\":{\"x\":[1617667200000.0,1619049600000.0,1619136000000.0,1619222400000.0,1619308800000.0,1619395200000.0,1619481600000.0,1619568000000.0,1619654400000.0,1619740800000.0,1619827200000.0,1619913600000.0,1620000000000.0,1620086400000.0,1620172800000.0],\"y\":[5,289,534,2802,8565,9190,7619,7811,9233,13938,17221,10994,10413,10290,3469]},\"selected\":{\"id\":\"6511\",\"type\":\"Selection\"},\"selection_policy\":{\"id\":\"6512\",\"type\":\"UnionRenderers\"}},\"id\":\"6158\",\"type\":\"ColumnDataSource\"},{\"attributes\":{\"line_color\":\"blue\",\"line_width\":1.5,\"x\":{\"field\":\"x\"},\"y\":{\"field\":\"y\"}},\"id\":\"6105\",\"type\":\"Line\"},{\"attributes\":{\"months\":[0,6]},\"id\":\"6099\",\"type\":\"MonthsTicker\"},{\"attributes\":{\"line_alpha\":0.1,\"line_color\":\"#1f77b4\",\"line_width\":1.5,\"x\":{\"field\":\"x\"},\"y\":{\"field\":\"y\"}},\"id\":\"6106\",\"type\":\"Line\"},{\"attributes\":{},\"id\":\"6066\",\"type\":\"PanTool\"},{\"attributes\":{},\"id\":\"6154\",\"type\":\"Selection\"},{\"attributes\":{\"source\":{\"id\":\"6104\",\"type\":\"ColumnDataSource\"}},\"id\":\"6108\",\"type\":\"CDSView\"},{\"attributes\":{\"dimension\":1,\"ticker\":{\"id\":\"6062\",\"type\":\"BasicTicker\"}},\"id\":\"6065\",\"type\":\"Grid\"},{\"attributes\":{\"days\":[1,4,7,10,13,16,19,22,25,28]},\"id\":\"6093\",\"type\":\"DaysTicker\"},{\"attributes\":{},\"id\":\"6070\",\"type\":\"ResetTool\"},{\"attributes\":{\"text\":\"trend for the daily vaccines done by supplier\"},\"id\":\"6046\",\"type\":\"Title\"},{\"attributes\":{\"source\":{\"id\":\"6130\",\"type\":\"ColumnDataSource\"}},\"id\":\"6134\",\"type\":\"CDSView\"},{\"attributes\":{\"base\":24,\"mantissas\":[1,2,4,6,8,12],\"max_interval\":43200000.0,\"min_interval\":3600000.0,\"num_minor_ticks\":0},\"id\":\"6091\",\"type\":\"AdaptiveTicker\"},{\"attributes\":{},\"id\":\"6067\",\"type\":\"WheelZoomTool\"},{\"attributes\":{\"axis_label\":\"date\",\"formatter\":{\"id\":\"6087\",\"type\":\"DatetimeTickFormatter\"},\"ticker\":{\"id\":\"6057\",\"type\":\"DatetimeTicker\"}},\"id\":\"6056\",\"type\":\"DatetimeAxis\"}],\"root_ids\":[\"6045\"]},\"title\":\"Bokeh Application\",\"version\":\"1.4.0\"}};\n",
       "  var render_items = [{\"docid\":\"060eae65-52d5-4f4f-b285-fb3e67d091fb\",\"roots\":{\"6045\":\"2e6e12cd-117b-4900-9a8e-cf0671407ca5\"}}];\n",
       "  root.Bokeh.embed.embed_items_notebook(docs_json, render_items);\n",
       "\n",
       "  }\n",
       "  if (root.Bokeh !== undefined) {\n",
       "    embed_document(root);\n",
       "  } else {\n",
       "    var attempts = 0;\n",
       "    var timer = setInterval(function(root) {\n",
       "      if (root.Bokeh !== undefined) {\n",
       "        clearInterval(timer);\n",
       "        embed_document(root);\n",
       "      } else {\n",
       "        attempts++;\n",
       "        if (attempts > 100) {\n",
       "          clearInterval(timer);\n",
       "          console.log(\"Bokeh: ERROR: Unable to run BokehJS code because BokehJS library is missing\");\n",
       "        }\n",
       "      }\n",
       "    }, 10, root)\n",
       "  }\n",
       "})(window);"
      ],
      "application/vnd.bokehjs_exec.v0+json": ""
     },
     "metadata": {
      "application/vnd.bokehjs_exec.v0+json": {
       "id": "6045"
      }
     },
     "output_type": "display_data"
    }
   ],
   "source": [
    "fig = figure(title='trend for the daily vaccines done by supplier', \n",
    "             width=1000, \n",
    "             height=400,\n",
    "             x_axis_label='date',\n",
    "             y_axis_label='total',\n",
    "             x_axis_type='datetime')\n",
    "\n",
    "for p in vaccini:\n",
    "    df_filtered = dati_vaccini.query('fornitore==@p')[['data_somministrazione', 'totale_somministrazioni']].groupby('data_somministrazione').sum()\n",
    "    fig.line(df_filtered.index, df_filtered['totale_somministrazioni'], \n",
    "             color=colors[vaccini.index(p)],\n",
    "             legend_label=p, \n",
    "             line_width=1.5)\n",
    "\n",
    "\n",
    "# add the hover tool\n",
    "fig.add_tools(HoverTool(\n",
    "    tooltips=[('data', '@x{%F}'), ('total', '@y')],\n",
    "    formatters=dict(x='datetime')\n",
    "))\n",
    "\n",
    "fig.add_tools(PanTool(dimensions='width'))\n",
    "fig.legend.location = 'top_left'\n",
    "fig.x_range.start = dati_vaccini['data_somministrazione'].min()\n",
    "    \n",
    "# Show the figure\n",
    "show(fig)"
   ]
  },
  {
   "cell_type": "code",
   "execution_count": 42,
   "metadata": {},
   "outputs": [
    {
     "data": {
      "text/html": [
       "\n",
       "\n",
       "\n",
       "\n",
       "\n",
       "\n",
       "  <div class=\"bk-root\" id=\"0f721caa-073a-4c74-b7c8-6737239117d5\" data-root-id=\"6670\"></div>\n"
      ]
     },
     "metadata": {},
     "output_type": "display_data"
    },
    {
     "data": {
      "application/javascript": [
       "(function(root) {\n",
       "  function embed_document(root) {\n",
       "    \n",
       "  var docs_json = {\"39aa8558-8251-40d8-8d5c-0f1a2c8efada\":{\"roots\":{\"references\":[{\"attributes\":{\"below\":[{\"id\":\"6681\",\"type\":\"DatetimeAxis\"}],\"center\":[{\"id\":\"6685\",\"type\":\"Grid\"},{\"id\":\"6690\",\"type\":\"Grid\"},{\"id\":\"6727\",\"type\":\"Legend\"}],\"left\":[{\"id\":\"6686\",\"type\":\"LinearAxis\"}],\"plot_height\":400,\"plot_width\":1000,\"renderers\":[{\"id\":\"6707\",\"type\":\"GlyphRenderer\"},{\"id\":\"6732\",\"type\":\"GlyphRenderer\"},{\"id\":\"6758\",\"type\":\"GlyphRenderer\"},{\"id\":\"6786\",\"type\":\"GlyphRenderer\"}],\"title\":{\"id\":\"6671\",\"type\":\"Title\"},\"toolbar\":{\"id\":\"6697\",\"type\":\"Toolbar\"},\"x_range\":{\"id\":\"6673\",\"type\":\"DataRange1d\"},\"x_scale\":{\"id\":\"6677\",\"type\":\"LinearScale\"},\"y_range\":{\"id\":\"6675\",\"type\":\"DataRange1d\"},\"y_scale\":{\"id\":\"6679\",\"type\":\"LinearScale\"}},\"id\":\"6670\",\"subtype\":\"Figure\",\"type\":\"Plot\"},{\"attributes\":{\"data_source\":{\"id\":\"6783\",\"type\":\"ColumnDataSource\"},\"glyph\":{\"id\":\"6784\",\"type\":\"Line\"},\"hover_glyph\":null,\"muted_glyph\":null,\"nonselection_glyph\":{\"id\":\"6785\",\"type\":\"Line\"},\"selection_glyph\":null,\"view\":{\"id\":\"6787\",\"type\":\"CDSView\"}},\"id\":\"6786\",\"type\":\"GlyphRenderer\"},{\"attributes\":{\"text\":\"cumulative trend for the total vaccines done by supplier\"},\"id\":\"6671\",\"type\":\"Title\"},{\"attributes\":{\"line_color\":\"blue\",\"line_width\":1.5,\"x\":{\"field\":\"x\"},\"y\":{\"field\":\"y\"}},\"id\":\"6730\",\"type\":\"Line\"},{\"attributes\":{\"data_source\":{\"id\":\"6729\",\"type\":\"ColumnDataSource\"},\"glyph\":{\"id\":\"6730\",\"type\":\"Line\"},\"hover_glyph\":null,\"muted_glyph\":null,\"nonselection_glyph\":{\"id\":\"6731\",\"type\":\"Line\"},\"selection_glyph\":null,\"view\":{\"id\":\"6733\",\"type\":\"CDSView\"}},\"id\":\"6732\",\"type\":\"GlyphRenderer\"},{\"attributes\":{\"bottom_units\":\"screen\",\"fill_alpha\":{\"value\":0.5},\"fill_color\":{\"value\":\"lightgrey\"},\"left_units\":\"screen\",\"level\":\"overlay\",\"line_alpha\":{\"value\":1.0},\"line_color\":{\"value\":\"black\"},\"line_dash\":[4,4],\"line_width\":{\"value\":2},\"render_mode\":\"css\",\"right_units\":\"screen\",\"top_units\":\"screen\"},\"id\":\"6726\",\"type\":\"BoxAnnotation\"},{\"attributes\":{\"num_minor_ticks\":5,\"tickers\":[{\"id\":\"6714\",\"type\":\"AdaptiveTicker\"},{\"id\":\"6715\",\"type\":\"AdaptiveTicker\"},{\"id\":\"6716\",\"type\":\"AdaptiveTicker\"},{\"id\":\"6717\",\"type\":\"DaysTicker\"},{\"id\":\"6718\",\"type\":\"DaysTicker\"},{\"id\":\"6719\",\"type\":\"DaysTicker\"},{\"id\":\"6720\",\"type\":\"DaysTicker\"},{\"id\":\"6721\",\"type\":\"MonthsTicker\"},{\"id\":\"6722\",\"type\":\"MonthsTicker\"},{\"id\":\"6723\",\"type\":\"MonthsTicker\"},{\"id\":\"6724\",\"type\":\"MonthsTicker\"},{\"id\":\"6725\",\"type\":\"YearsTicker\"}]},\"id\":\"6682\",\"type\":\"DatetimeTicker\"},{\"attributes\":{\"items\":[{\"id\":\"6728\",\"type\":\"LegendItem\"},{\"id\":\"6754\",\"type\":\"LegendItem\"},{\"id\":\"6782\",\"type\":\"LegendItem\"},{\"id\":\"6812\",\"type\":\"LegendItem\"}],\"location\":\"top_left\"},\"id\":\"6727\",\"type\":\"Legend\"},{\"attributes\":{\"line_alpha\":0.1,\"line_color\":\"#1f77b4\",\"line_width\":1.5,\"x\":{\"field\":\"x\"},\"y\":{\"field\":\"y\"}},\"id\":\"6731\",\"type\":\"Line\"},{\"attributes\":{\"callback\":null,\"start\":1609027200000.0},\"id\":\"6673\",\"type\":\"DataRange1d\"},{\"attributes\":{\"axis_label\":\"date\",\"formatter\":{\"id\":\"6712\",\"type\":\"DatetimeTickFormatter\"},\"ticker\":{\"id\":\"6682\",\"type\":\"DatetimeTicker\"}},\"id\":\"6681\",\"type\":\"DatetimeAxis\"},{\"attributes\":{\"callback\":null,\"data\":{\"x\":[1610064000000.0,1610496000000.0,1610582400000.0,1610668800000.0,1610755200000.0,1610841600000.0,1610928000000.0,1611014400000.0,1611100800000.0,1611187200000.0,1611273600000.0,1611360000000.0,1611446400000.0,1611532800000.0,1611619200000.0,1611705600000.0,1611792000000.0,1611878400000.0,1611964800000.0,1612051200000.0,1612137600000.0,1612224000000.0,1612310400000.0,1612396800000.0,1612483200000.0,1612569600000.0,1612656000000.0,1612742400000.0,1612828800000.0,1612915200000.0,1613001600000.0,1613088000000.0,1613174400000.0,1613260800000.0,1613347200000.0,1613433600000.0,1613520000000.0,1613606400000.0,1613692800000.0,1613779200000.0,1613865600000.0,1613952000000.0,1614038400000.0,1614124800000.0,1614211200000.0,1614297600000.0,1614384000000.0,1614470400000.0,1614556800000.0,1614643200000.0,1614729600000.0,1614816000000.0,1614902400000.0,1614988800000.0,1615075200000.0,1615161600000.0,1615248000000.0,1615334400000.0,1615420800000.0,1615507200000.0,1615593600000.0,1615680000000.0,1615766400000.0,1615852800000.0,1615939200000.0,1616025600000.0,1616112000000.0,1616198400000.0,1616284800000.0,1616371200000.0,1616457600000.0,1616544000000.0,1616630400000.0,1616716800000.0,1616803200000.0,1616889600000.0,1616976000000.0,1617062400000.0,1617148800000.0,1617235200000.0,1617321600000.0,1617408000000.0,1617494400000.0,1617580800000.0,1617667200000.0,1617753600000.0,1617840000000.0,1617926400000.0,1618012800000.0,1618099200000.0,1618185600000.0,1618272000000.0,1618358400000.0,1618444800000.0,1618531200000.0,1618617600000.0,1618704000000.0,1618790400000.0,1618876800000.0,1618963200000.0,1619049600000.0,1619136000000.0,1619222400000.0,1619308800000.0,1619395200000.0,1619481600000.0,1619568000000.0,1619654400000.0,1619740800000.0,1619827200000.0,1619913600000.0,1620000000000.0,1620086400000.0,1620172800000.0],\"y\":[2,3,87,1182,2093,2386,3604,5695,8972,11764,13500,14500,15294,15892,16639,17259,18033,18842,19308,19505,20056,21178,22582,24225,27450,29540,30132,32745,36092,38909,42039,46164,50048,51249,55416,62095,69836,76876,83850,90239,95715,101773,107109,113359,119585,125334,132318,135012,142071,149575,159541,170501,182737,195881,203618,215921,228378,239476,251702,261661,273013,279930,291009,303142,314509,327451,338668,351099,360700,372698,386289,401844,420021,439104,467793,484928,509440,538261,561591,586574,616874,652788,664951,685060,724812,754347,787902,823131,863332,881247,905642,933287,960204,985025,1006210,1027653,1040556,1057654,1081150,1110738,1142606,1174515,1216070,1248023,1286393,1338483,1391749,1444402,1490863,1532530,1562786,1601237,1655782,1672097]},\"selected\":{\"id\":\"6779\",\"type\":\"Selection\"},\"selection_policy\":{\"id\":\"6780\",\"type\":\"UnionRenderers\"}},\"id\":\"6729\",\"type\":\"ColumnDataSource\"},{\"attributes\":{},\"id\":\"6679\",\"type\":\"LinearScale\"},{\"attributes\":{\"data_source\":{\"id\":\"6755\",\"type\":\"ColumnDataSource\"},\"glyph\":{\"id\":\"6756\",\"type\":\"Line\"},\"hover_glyph\":null,\"muted_glyph\":null,\"nonselection_glyph\":{\"id\":\"6757\",\"type\":\"Line\"},\"selection_glyph\":null,\"view\":{\"id\":\"6759\",\"type\":\"CDSView\"}},\"id\":\"6758\",\"type\":\"GlyphRenderer\"},{\"attributes\":{\"days\":[1,8,15,22]},\"id\":\"6719\",\"type\":\"DaysTicker\"},{\"attributes\":{\"callback\":null},\"id\":\"6675\",\"type\":\"DataRange1d\"},{\"attributes\":{\"callback\":null,\"data\":{\"x\":[1609027200000.0,1609113600000.0,1609200000000.0,1609286400000.0,1609372800000.0,1609459200000.0,1609545600000.0,1609632000000.0,1609718400000.0,1609804800000.0,1609891200000.0,1609977600000.0,1610064000000.0,1610150400000.0,1610236800000.0,1610323200000.0,1610409600000.0,1610496000000.0,1610582400000.0,1610668800000.0,1610755200000.0,1610841600000.0,1610928000000.0,1611014400000.0,1611100800000.0,1611187200000.0,1611273600000.0,1611360000000.0,1611446400000.0,1611532800000.0,1611619200000.0,1611705600000.0,1611792000000.0,1611878400000.0,1611964800000.0,1612051200000.0,1612137600000.0,1612224000000.0,1612310400000.0,1612396800000.0,1612483200000.0,1612569600000.0,1612656000000.0,1612742400000.0,1612828800000.0,1612915200000.0,1613001600000.0,1613088000000.0,1613174400000.0,1613260800000.0,1613347200000.0,1613433600000.0,1613520000000.0,1613606400000.0,1613692800000.0,1613779200000.0,1613865600000.0,1613952000000.0,1614038400000.0,1614124800000.0,1614211200000.0,1614297600000.0,1614384000000.0,1614470400000.0,1614556800000.0,1614643200000.0,1614729600000.0,1614816000000.0,1614902400000.0,1614988800000.0,1615075200000.0,1615161600000.0,1615248000000.0,1615334400000.0,1615420800000.0,1615507200000.0,1615593600000.0,1615680000000.0,1615766400000.0,1615852800000.0,1615939200000.0,1616025600000.0,1616112000000.0,1616198400000.0,1616284800000.0,1616371200000.0,1616457600000.0,1616544000000.0,1616630400000.0,1616716800000.0,1616803200000.0,1616889600000.0,1616976000000.0,1617062400000.0,1617148800000.0,1617235200000.0,1617321600000.0,1617408000000.0,1617494400000.0,1617580800000.0,1617667200000.0,1617753600000.0,1617840000000.0,1617926400000.0,1618012800000.0,1618099200000.0,1618185600000.0,1618272000000.0,1618358400000.0,1618444800000.0,1618531200000.0,1618617600000.0,1618704000000.0,1618790400000.0,1618876800000.0,1618963200000.0,1619049600000.0,1619136000000.0,1619222400000.0,1619308800000.0,1619395200000.0,1619481600000.0,1619568000000.0,1619654400000.0,1619740800000.0,1619827200000.0,1619913600000.0,1620000000000.0,1620086400000.0,1620172800000.0],\"y\":[7175,8599,9608,14336,39817,50878,89401,124565,193336,273134,338323,430578,526206,613199,673566,754545,836608,931165,1024856,1113454,1177516,1214291,1256897,1287698,1315117,1347854,1372718,1410490,1443582,1512052,1591595,1661839,1754618,1851594,1941408,2000780,2085843,2172602,2270788,2376645,2480590,2555467,2596616,2660811,2724145,2794015,2862619,2927688,2971190,2992370,3043988,3099155,3158761,3223933,3290281,3342871,3377725,3453815,3530185,3618726,3709147,3799625,3874339,3923209,4011699,4109070,4227927,4353858,4481075,4581641,4639335,4748435,4867667,5005168,5144698,5273892,5372404,5430596,5543500,5671034,5824613,5974698,6120377,6232704,6308674,6421470,6553519,6716865,6885752,7053741,7196916,7286679,7431940,7596414,7806352,8011820,8196536,8342071,8387936,8479220,8638028,8849392,9091786,9337158,9555296,9701503,9864267,10027932,10219418,10452830,10701684,10927448,11082582,11278886,11489867,11729681,12001823,12274486,12519958,12669781,12900119,13141062,13408045,13780018,14153445,14454518,14714991,14973556,15219596,15309188]},\"selected\":{\"id\":\"6751\",\"type\":\"Selection\"},\"selection_policy\":{\"id\":\"6752\",\"type\":\"UnionRenderers\"}},\"id\":\"6704\",\"type\":\"ColumnDataSource\"},{\"attributes\":{\"source\":{\"id\":\"6755\",\"type\":\"ColumnDataSource\"}},\"id\":\"6759\",\"type\":\"CDSView\"},{\"attributes\":{},\"id\":\"6677\",\"type\":\"LinearScale\"},{\"attributes\":{\"base\":24,\"mantissas\":[1,2,4,6,8,12],\"max_interval\":43200000.0,\"min_interval\":3600000.0,\"num_minor_ticks\":0},\"id\":\"6716\",\"type\":\"AdaptiveTicker\"},{\"attributes\":{},\"id\":\"6752\",\"type\":\"UnionRenderers\"},{\"attributes\":{\"ticker\":{\"id\":\"6682\",\"type\":\"DatetimeTicker\"}},\"id\":\"6685\",\"type\":\"Grid\"},{\"attributes\":{\"line_alpha\":0.1,\"line_color\":\"#1f77b4\",\"line_width\":1.5,\"x\":{\"field\":\"x\"},\"y\":{\"field\":\"y\"}},\"id\":\"6706\",\"type\":\"Line\"},{\"attributes\":{\"axis_label\":\"total\",\"formatter\":{\"id\":\"6710\",\"type\":\"BasicTickFormatter\"},\"ticker\":{\"id\":\"6687\",\"type\":\"BasicTicker\"}},\"id\":\"6686\",\"type\":\"LinearAxis\"},{\"attributes\":{\"label\":{\"value\":\"Vaxzevria (AstraZeneca)\"},\"renderers\":[{\"id\":\"6758\",\"type\":\"GlyphRenderer\"}]},\"id\":\"6782\",\"type\":\"LegendItem\"},{\"attributes\":{},\"id\":\"6687\",\"type\":\"BasicTicker\"},{\"attributes\":{\"label\":{\"value\":\"Pfizer/BioNTech\"},\"renderers\":[{\"id\":\"6707\",\"type\":\"GlyphRenderer\"}]},\"id\":\"6728\",\"type\":\"LegendItem\"},{\"attributes\":{\"dimension\":1,\"ticker\":{\"id\":\"6687\",\"type\":\"BasicTicker\"}},\"id\":\"6690\",\"type\":\"Grid\"},{\"attributes\":{\"data_source\":{\"id\":\"6704\",\"type\":\"ColumnDataSource\"},\"glyph\":{\"id\":\"6705\",\"type\":\"Line\"},\"hover_glyph\":null,\"muted_glyph\":null,\"nonselection_glyph\":{\"id\":\"6706\",\"type\":\"Line\"},\"selection_glyph\":null,\"view\":{\"id\":\"6708\",\"type\":\"CDSView\"}},\"id\":\"6707\",\"type\":\"GlyphRenderer\"},{\"attributes\":{\"base\":60,\"mantissas\":[1,2,5,10,15,20,30],\"max_interval\":1800000.0,\"min_interval\":1000.0,\"num_minor_ticks\":0},\"id\":\"6715\",\"type\":\"AdaptiveTicker\"},{\"attributes\":{},\"id\":\"6692\",\"type\":\"WheelZoomTool\"},{\"attributes\":{},\"id\":\"6780\",\"type\":\"UnionRenderers\"},{\"attributes\":{\"active_drag\":\"auto\",\"active_inspect\":\"auto\",\"active_multi\":null,\"active_scroll\":\"auto\",\"active_tap\":\"auto\",\"tools\":[{\"id\":\"6691\",\"type\":\"PanTool\"},{\"id\":\"6692\",\"type\":\"WheelZoomTool\"},{\"id\":\"6693\",\"type\":\"BoxZoomTool\"},{\"id\":\"6694\",\"type\":\"SaveTool\"},{\"id\":\"6695\",\"type\":\"ResetTool\"},{\"id\":\"6696\",\"type\":\"HelpTool\"},{\"id\":\"6813\",\"type\":\"HoverTool\"},{\"id\":\"6815\",\"type\":\"PanTool\"}]},\"id\":\"6697\",\"type\":\"Toolbar\"},{\"attributes\":{},\"id\":\"6691\",\"type\":\"PanTool\"},{\"attributes\":{\"callback\":null,\"data\":{\"x\":[1611273600000.0,1611964800000.0,1612051200000.0,1612137600000.0,1612224000000.0,1612483200000.0,1612656000000.0,1612742400000.0,1612915200000.0,1613001600000.0,1613088000000.0,1613174400000.0,1613260800000.0,1613347200000.0,1613433600000.0,1613520000000.0,1613606400000.0,1613692800000.0,1613779200000.0,1613865600000.0,1613952000000.0,1614038400000.0,1614124800000.0,1614211200000.0,1614297600000.0,1614384000000.0,1614470400000.0,1614556800000.0,1614643200000.0,1614729600000.0,1614816000000.0,1614902400000.0,1614988800000.0,1615075200000.0,1615161600000.0,1615248000000.0,1615334400000.0,1615420800000.0,1615507200000.0,1615593600000.0,1615680000000.0,1615766400000.0,1615852800000.0,1615939200000.0,1616025600000.0,1616112000000.0,1616198400000.0,1616284800000.0,1616371200000.0,1616457600000.0,1616544000000.0,1616630400000.0,1616716800000.0,1616803200000.0,1616889600000.0,1616976000000.0,1617062400000.0,1617148800000.0,1617235200000.0,1617321600000.0,1617408000000.0,1617494400000.0,1617580800000.0,1617667200000.0,1617753600000.0,1617840000000.0,1617926400000.0,1618012800000.0,1618099200000.0,1618185600000.0,1618272000000.0,1618358400000.0,1618444800000.0,1618531200000.0,1618617600000.0,1618704000000.0,1618790400000.0,1618876800000.0,1618963200000.0,1619049600000.0,1619136000000.0,1619222400000.0,1619308800000.0,1619395200000.0,1619481600000.0,1619568000000.0,1619654400000.0,1619740800000.0,1619827200000.0,1619913600000.0,1620000000000.0,1620086400000.0,1620172800000.0],\"y\":[3,4,5,6,16,18,19,20,21,2924,7675,12933,19989,26963,36225,48823,66210,85270,104249,114898,138208,162988,190197,221736,261925,306488,332888,372797,428383,485313,544280,608039,670731,706401,763439,822919,886236,953853,1023550,1089703,1130011,1176990,1177405,1177724,1177886,1195863,1245252,1289254,1356485,1432280,1505361,1582888,1661695,1728466,1783436,1852772,1924174,1992371,2045279,2109891,2156830,2194935,2253721,2337488,2417339,2473546,2525488,2585952,2623208,2701711,2797504,2898008,2988436,3095609,3204106,3276972,3372897,3469889,3571514,3662646,3758889,3852060,3927790,3992336,4060003,4136669,4224922,4310141,4377695,4442209,4530249,4641837,4678164]},\"selected\":{\"id\":\"6809\",\"type\":\"Selection\"},\"selection_policy\":{\"id\":\"6810\",\"type\":\"UnionRenderers\"}},\"id\":\"6755\",\"type\":\"ColumnDataSource\"},{\"attributes\":{\"line_color\":\"yellow\",\"line_width\":1.5,\"x\":{\"field\":\"x\"},\"y\":{\"field\":\"y\"}},\"id\":\"6784\",\"type\":\"Line\"},{\"attributes\":{},\"id\":\"6696\",\"type\":\"HelpTool\"},{\"attributes\":{\"mantissas\":[1,2,5],\"max_interval\":500.0,\"num_minor_ticks\":0},\"id\":\"6714\",\"type\":\"AdaptiveTicker\"},{\"attributes\":{\"line_color\":\"green\",\"line_width\":1.5,\"x\":{\"field\":\"x\"},\"y\":{\"field\":\"y\"}},\"id\":\"6756\",\"type\":\"Line\"},{\"attributes\":{\"label\":{\"value\":\"Moderna\"},\"renderers\":[{\"id\":\"6732\",\"type\":\"GlyphRenderer\"}]},\"id\":\"6754\",\"type\":\"LegendItem\"},{\"attributes\":{\"overlay\":{\"id\":\"6726\",\"type\":\"BoxAnnotation\"}},\"id\":\"6693\",\"type\":\"BoxZoomTool\"},{\"attributes\":{\"callback\":null,\"data\":{\"x\":[1617667200000.0,1619049600000.0,1619136000000.0,1619222400000.0,1619308800000.0,1619395200000.0,1619481600000.0,1619568000000.0,1619654400000.0,1619740800000.0,1619827200000.0,1619913600000.0,1620000000000.0,1620086400000.0,1620172800000.0],\"y\":[5,294,828,3630,12195,21385,29004,36815,46048,59986,77207,88201,98614,108904,112373]},\"selected\":{\"id\":\"7162\",\"type\":\"Selection\"},\"selection_policy\":{\"id\":\"7163\",\"type\":\"UnionRenderers\"}},\"id\":\"6783\",\"type\":\"ColumnDataSource\"},{\"attributes\":{\"source\":{\"id\":\"6783\",\"type\":\"ColumnDataSource\"}},\"id\":\"6787\",\"type\":\"CDSView\"},{\"attributes\":{},\"id\":\"6694\",\"type\":\"SaveTool\"},{\"attributes\":{},\"id\":\"6695\",\"type\":\"ResetTool\"},{\"attributes\":{\"line_alpha\":0.1,\"line_color\":\"#1f77b4\",\"line_width\":1.5,\"x\":{\"field\":\"x\"},\"y\":{\"field\":\"y\"}},\"id\":\"6757\",\"type\":\"Line\"},{\"attributes\":{},\"id\":\"6751\",\"type\":\"Selection\"},{\"attributes\":{\"line_color\":\"red\",\"line_width\":1.5,\"x\":{\"field\":\"x\"},\"y\":{\"field\":\"y\"}},\"id\":\"6705\",\"type\":\"Line\"},{\"attributes\":{},\"id\":\"6810\",\"type\":\"UnionRenderers\"},{\"attributes\":{},\"id\":\"6725\",\"type\":\"YearsTicker\"},{\"attributes\":{\"dimensions\":\"width\"},\"id\":\"6815\",\"type\":\"PanTool\"},{\"attributes\":{\"source\":{\"id\":\"6704\",\"type\":\"ColumnDataSource\"}},\"id\":\"6708\",\"type\":\"CDSView\"},{\"attributes\":{\"months\":[0,4,8]},\"id\":\"6723\",\"type\":\"MonthsTicker\"},{\"attributes\":{},\"id\":\"6779\",\"type\":\"Selection\"},{\"attributes\":{\"months\":[0,1,2,3,4,5,6,7,8,9,10,11]},\"id\":\"6721\",\"type\":\"MonthsTicker\"},{\"attributes\":{},\"id\":\"6710\",\"type\":\"BasicTickFormatter\"},{\"attributes\":{\"days\":[1,4,7,10,13,16,19,22,25,28]},\"id\":\"6718\",\"type\":\"DaysTicker\"},{\"attributes\":{\"months\":[0,2,4,6,8,10]},\"id\":\"6722\",\"type\":\"MonthsTicker\"},{\"attributes\":{\"line_alpha\":0.1,\"line_color\":\"#1f77b4\",\"line_width\":1.5,\"x\":{\"field\":\"x\"},\"y\":{\"field\":\"y\"}},\"id\":\"6785\",\"type\":\"Line\"},{\"attributes\":{\"source\":{\"id\":\"6729\",\"type\":\"ColumnDataSource\"}},\"id\":\"6733\",\"type\":\"CDSView\"},{\"attributes\":{\"callback\":null,\"formatters\":{\"x\":\"datetime\"},\"tooltips\":[[\"data\",\"@x{%F}\"],[\"totale_somministrazioni\",\"@y\"]]},\"id\":\"6813\",\"type\":\"HoverTool\"},{\"attributes\":{},\"id\":\"6712\",\"type\":\"DatetimeTickFormatter\"},{\"attributes\":{},\"id\":\"7163\",\"type\":\"UnionRenderers\"},{\"attributes\":{},\"id\":\"7162\",\"type\":\"Selection\"},{\"attributes\":{\"label\":{\"value\":\"Janssen\"},\"renderers\":[{\"id\":\"6786\",\"type\":\"GlyphRenderer\"}]},\"id\":\"6812\",\"type\":\"LegendItem\"},{\"attributes\":{\"days\":[1,2,3,4,5,6,7,8,9,10,11,12,13,14,15,16,17,18,19,20,21,22,23,24,25,26,27,28,29,30,31]},\"id\":\"6717\",\"type\":\"DaysTicker\"},{\"attributes\":{\"days\":[1,15]},\"id\":\"6720\",\"type\":\"DaysTicker\"},{\"attributes\":{},\"id\":\"6809\",\"type\":\"Selection\"},{\"attributes\":{\"months\":[0,6]},\"id\":\"6724\",\"type\":\"MonthsTicker\"}],\"root_ids\":[\"6670\"]},\"title\":\"Bokeh Application\",\"version\":\"1.4.0\"}};\n",
       "  var render_items = [{\"docid\":\"39aa8558-8251-40d8-8d5c-0f1a2c8efada\",\"roots\":{\"6670\":\"0f721caa-073a-4c74-b7c8-6737239117d5\"}}];\n",
       "  root.Bokeh.embed.embed_items_notebook(docs_json, render_items);\n",
       "\n",
       "  }\n",
       "  if (root.Bokeh !== undefined) {\n",
       "    embed_document(root);\n",
       "  } else {\n",
       "    var attempts = 0;\n",
       "    var timer = setInterval(function(root) {\n",
       "      if (root.Bokeh !== undefined) {\n",
       "        clearInterval(timer);\n",
       "        embed_document(root);\n",
       "      } else {\n",
       "        attempts++;\n",
       "        if (attempts > 100) {\n",
       "          clearInterval(timer);\n",
       "          console.log(\"Bokeh: ERROR: Unable to run BokehJS code because BokehJS library is missing\");\n",
       "        }\n",
       "      }\n",
       "    }, 10, root)\n",
       "  }\n",
       "})(window);"
      ],
      "application/vnd.bokehjs_exec.v0+json": ""
     },
     "metadata": {
      "application/vnd.bokehjs_exec.v0+json": {
       "id": "6670"
      }
     },
     "output_type": "display_data"
    }
   ],
   "source": [
    "fig = figure(title='cumulative trend for the total vaccines done by supplier', \n",
    "             width=1000, \n",
    "             height=400,\n",
    "             x_axis_label='date',\n",
    "             y_axis_label='total',\n",
    "             x_axis_type='datetime')\n",
    "\n",
    "for p in vaccini:\n",
    "    df_filtered = dati_vaccini.query('fornitore==@p')[['data_somministrazione', 'totale_somministrazioni']].groupby('data_somministrazione').sum().cumsum()\n",
    "    fig.line(df_filtered.index, df_filtered['totale_somministrazioni'], \n",
    "             color=colors[vaccini.index(p)],\n",
    "             legend_label=p, \n",
    "             line_width=1.5)\n",
    "\n",
    "\n",
    "# add the hover tool\n",
    "fig.add_tools(HoverTool(\n",
    "    tooltips=[('data', '@x{%F}'), ('totale_somministrazioni', '@y')],\n",
    "    formatters=dict(x='datetime')\n",
    "))\n",
    "\n",
    "fig.add_tools(PanTool(dimensions='width'))\n",
    "fig.legend.location = 'top_left'\n",
    "fig.x_range.start = dati_vaccini['data_somministrazione'].min()\n",
    "    \n",
    "# Show the figure\n",
    "show(fig)"
   ]
  },
  {
   "cell_type": "code",
   "execution_count": null,
   "metadata": {},
   "outputs": [],
   "source": []
  },
  {
   "cell_type": "markdown",
   "metadata": {},
   "source": [
    "## analysis based on people age"
   ]
  },
  {
   "cell_type": "code",
   "execution_count": 43,
   "metadata": {},
   "outputs": [],
   "source": [
    "fasce = list(dati_vaccini.fascia_anagrafica.unique())\n",
    "colors = []\n",
    "n = named.__dict__\n",
    "all_colors = n['__all__']\n",
    "while len(colors) < (len(fasce)):\n",
    "    if choice(all_colors) not in colors:\n",
    "        colors.append(choice(all_colors))"
   ]
  },
  {
   "cell_type": "code",
   "execution_count": 44,
   "metadata": {},
   "outputs": [
    {
     "data": {
      "text/html": [
       "\n",
       "\n",
       "\n",
       "\n",
       "\n",
       "\n",
       "  <div class=\"bk-root\" id=\"55432bd4-6317-4e6b-a5ea-92dbf06f2f91\" data-root-id=\"7321\"></div>\n"
      ]
     },
     "metadata": {},
     "output_type": "display_data"
    },
    {
     "data": {
      "application/javascript": [
       "(function(root) {\n",
       "  function embed_document(root) {\n",
       "    \n",
       "  var docs_json = {\"7ebe2e7c-c59b-433c-8f53-9659fb787bd5\":{\"roots\":{\"references\":[{\"attributes\":{\"below\":[{\"id\":\"7332\",\"type\":\"DatetimeAxis\"}],\"center\":[{\"id\":\"7336\",\"type\":\"Grid\"},{\"id\":\"7341\",\"type\":\"Grid\"},{\"id\":\"7378\",\"type\":\"Legend\"}],\"left\":[{\"id\":\"7337\",\"type\":\"LinearAxis\"}],\"plot_height\":400,\"plot_width\":1000,\"renderers\":[{\"id\":\"7358\",\"type\":\"GlyphRenderer\"},{\"id\":\"7383\",\"type\":\"GlyphRenderer\"},{\"id\":\"7409\",\"type\":\"GlyphRenderer\"},{\"id\":\"7437\",\"type\":\"GlyphRenderer\"},{\"id\":\"7467\",\"type\":\"GlyphRenderer\"},{\"id\":\"7499\",\"type\":\"GlyphRenderer\"},{\"id\":\"7533\",\"type\":\"GlyphRenderer\"},{\"id\":\"7569\",\"type\":\"GlyphRenderer\"},{\"id\":\"7607\",\"type\":\"GlyphRenderer\"}],\"title\":{\"id\":\"7322\",\"type\":\"Title\"},\"toolbar\":{\"id\":\"7348\",\"type\":\"Toolbar\"},\"x_range\":{\"id\":\"7324\",\"type\":\"DataRange1d\"},\"x_scale\":{\"id\":\"7328\",\"type\":\"LinearScale\"},\"y_range\":{\"id\":\"7326\",\"type\":\"DataRange1d\"},\"y_scale\":{\"id\":\"7330\",\"type\":\"LinearScale\"}},\"id\":\"7321\",\"subtype\":\"Figure\",\"type\":\"Plot\"},{\"attributes\":{\"bottom_units\":\"screen\",\"fill_alpha\":{\"value\":0.5},\"fill_color\":{\"value\":\"lightgrey\"},\"left_units\":\"screen\",\"level\":\"overlay\",\"line_alpha\":{\"value\":1.0},\"line_color\":{\"value\":\"black\"},\"line_dash\":[4,4],\"line_width\":{\"value\":2},\"render_mode\":\"css\",\"right_units\":\"screen\",\"top_units\":\"screen\"},\"id\":\"7377\",\"type\":\"BoxAnnotation\"},{\"attributes\":{\"ticker\":{\"id\":\"7333\",\"type\":\"DatetimeTicker\"}},\"id\":\"7336\",\"type\":\"Grid\"},{\"attributes\":{\"callback\":null,\"start\":1609027200000.0},\"id\":\"7324\",\"type\":\"DataRange1d\"},{\"attributes\":{\"months\":[0,4,8]},\"id\":\"7374\",\"type\":\"MonthsTicker\"},{\"attributes\":{\"line_color\":\"royalblue\",\"line_width\":1.5,\"x\":{\"field\":\"x\"},\"y\":{\"field\":\"y\"}},\"id\":\"7605\",\"type\":\"Line\"},{\"attributes\":{\"days\":[1,2,3,4,5,6,7,8,9,10,11,12,13,14,15,16,17,18,19,20,21,22,23,24,25,26,27,28,29,30,31]},\"id\":\"7368\",\"type\":\"DaysTicker\"},{\"attributes\":{\"days\":[1,4,7,10,13,16,19,22,25,28]},\"id\":\"7369\",\"type\":\"DaysTicker\"},{\"attributes\":{\"days\":[1,15]},\"id\":\"7371\",\"type\":\"DaysTicker\"},{\"attributes\":{\"base\":60,\"mantissas\":[1,2,5,10,15,20,30],\"max_interval\":1800000.0,\"min_interval\":1000.0,\"num_minor_ticks\":0},\"id\":\"7366\",\"type\":\"AdaptiveTicker\"},{\"attributes\":{},\"id\":\"7347\",\"type\":\"HelpTool\"},{\"attributes\":{},\"id\":\"7330\",\"type\":\"LinearScale\"},{\"attributes\":{\"months\":[0,2,4,6,8,10]},\"id\":\"7373\",\"type\":\"MonthsTicker\"},{\"attributes\":{},\"id\":\"7376\",\"type\":\"YearsTicker\"},{\"attributes\":{\"months\":[0,6]},\"id\":\"7375\",\"type\":\"MonthsTicker\"},{\"attributes\":{\"items\":[{\"id\":\"7379\",\"type\":\"LegendItem\"},{\"id\":\"7405\",\"type\":\"LegendItem\"},{\"id\":\"7433\",\"type\":\"LegendItem\"},{\"id\":\"7463\",\"type\":\"LegendItem\"},{\"id\":\"7495\",\"type\":\"LegendItem\"},{\"id\":\"7529\",\"type\":\"LegendItem\"},{\"id\":\"7565\",\"type\":\"LegendItem\"},{\"id\":\"7603\",\"type\":\"LegendItem\"},{\"id\":\"7643\",\"type\":\"LegendItem\"}],\"location\":\"top_left\"},\"id\":\"7378\",\"type\":\"Legend\"},{\"attributes\":{\"days\":[1,8,15,22]},\"id\":\"7370\",\"type\":\"DaysTicker\"},{\"attributes\":{},\"id\":\"7563\",\"type\":\"UnionRenderers\"},{\"attributes\":{\"dimension\":1,\"ticker\":{\"id\":\"7338\",\"type\":\"BasicTicker\"}},\"id\":\"7341\",\"type\":\"Grid\"},{\"attributes\":{\"months\":[0,1,2,3,4,5,6,7,8,9,10,11]},\"id\":\"7372\",\"type\":\"MonthsTicker\"},{\"attributes\":{\"base\":24,\"mantissas\":[1,2,4,6,8,12],\"max_interval\":43200000.0,\"min_interval\":3600000.0,\"num_minor_ticks\":0},\"id\":\"7367\",\"type\":\"AdaptiveTicker\"},{\"attributes\":{},\"id\":\"7641\",\"type\":\"UnionRenderers\"},{\"attributes\":{\"callback\":null},\"id\":\"7326\",\"type\":\"DataRange1d\"},{\"attributes\":{\"callback\":null,\"data\":{\"x\":[1609027200000.0,1609200000000.0,1609286400000.0,1609372800000.0,1609459200000.0,1609545600000.0,1609632000000.0,1609718400000.0,1609804800000.0,1609891200000.0,1609977600000.0,1610064000000.0,1610150400000.0,1610236800000.0,1610323200000.0,1610409600000.0,1610496000000.0,1610582400000.0,1610668800000.0,1610755200000.0,1610841600000.0,1610928000000.0,1611014400000.0,1611100800000.0,1611187200000.0,1611273600000.0,1611360000000.0,1611446400000.0,1611532800000.0,1611619200000.0,1611705600000.0,1611792000000.0,1611878400000.0,1611964800000.0,1612051200000.0,1612137600000.0,1612224000000.0,1612310400000.0,1612396800000.0,1612483200000.0,1612569600000.0,1612656000000.0,1612742400000.0,1612828800000.0,1612915200000.0,1613001600000.0,1613088000000.0,1613174400000.0,1613260800000.0,1613347200000.0,1613433600000.0,1613520000000.0,1613606400000.0,1613692800000.0,1613779200000.0,1613865600000.0,1613952000000.0,1614038400000.0,1614124800000.0,1614211200000.0,1614297600000.0,1614384000000.0,1614470400000.0,1614556800000.0,1614643200000.0,1614729600000.0,1614816000000.0,1614902400000.0,1614988800000.0,1615075200000.0,1615161600000.0,1615248000000.0,1615334400000.0,1615420800000.0,1615507200000.0,1615593600000.0,1615680000000.0,1615766400000.0,1615852800000.0,1615939200000.0,1616025600000.0,1616112000000.0,1616198400000.0,1616284800000.0,1616371200000.0,1616457600000.0,1616544000000.0,1616630400000.0,1616716800000.0,1616803200000.0,1616889600000.0,1616976000000.0,1617062400000.0,1617148800000.0,1617235200000.0,1617321600000.0,1617408000000.0,1617494400000.0,1617580800000.0,1617667200000.0,1617753600000.0,1617840000000.0,1617926400000.0,1618012800000.0,1618099200000.0,1618185600000.0,1618272000000.0,1618358400000.0,1618444800000.0,1618531200000.0,1618617600000.0,1618704000000.0,1618790400000.0,1618876800000.0,1618963200000.0,1619049600000.0,1619136000000.0,1619222400000.0,1619308800000.0,1619395200000.0,1619481600000.0,1619568000000.0,1619654400000.0,1619740800000.0,1619827200000.0,1619913600000.0,1620000000000.0,1620086400000.0,1620172800000.0],\"y\":[77,86,183,974,1300,2051,2583,3940,5744,7167,10023,12749,15197,16573,19471,23177,28300,34150,39537,42957,44766,48131,51149,53873,56061,58034,59229,59811,61516,63621,65573,68352,71118,73352,74413,77598,81703,86949,93131,99089,102787,104323,108983,114172,119383,124847,129480,132194,133310,136589,141459,147748,156424,164203,171130,176251,185519,196689,212400,226070,238377,249061,255673,266266,278660,297720,318050,335056,346959,353266,369186,383757,403504,424731,443175,457168,464823,479081,499626,524146,545182,563492,578111,587250,603535,620030,644728,671424,694762,713519,723108,744074,765135,792469,816725,837932,853773,857488,867053,885844,906692,927748,947151,967620,976349,990188,1003203,1018123,1035146,1051834,1067154,1075047,1087312,1101534,1119979,1136170,1152472,1166207,1172012,1181636,1192407,1205189,1219612,1233964,1243345,1249599,1257079,1265025,1267449]},\"selected\":{\"id\":\"7640\",\"type\":\"Selection\"},\"selection_policy\":{\"id\":\"7641\",\"type\":\"UnionRenderers\"}},\"id\":\"7566\",\"type\":\"ColumnDataSource\"},{\"attributes\":{\"label\":{\"value\":\"16-19\"},\"renderers\":[{\"id\":\"7607\",\"type\":\"GlyphRenderer\"}]},\"id\":\"7643\",\"type\":\"LegendItem\"},{\"attributes\":{\"line_alpha\":0.1,\"line_color\":\"#1f77b4\",\"line_width\":1.5,\"x\":{\"field\":\"x\"},\"y\":{\"field\":\"y\"}},\"id\":\"7532\",\"type\":\"Line\"},{\"attributes\":{\"line_alpha\":0.1,\"line_color\":\"#1f77b4\",\"line_width\":1.5,\"x\":{\"field\":\"x\"},\"y\":{\"field\":\"y\"}},\"id\":\"7568\",\"type\":\"Line\"},{\"attributes\":{},\"id\":\"7345\",\"type\":\"SaveTool\"},{\"attributes\":{},\"id\":\"8030\",\"type\":\"UnionRenderers\"},{\"attributes\":{},\"id\":\"8029\",\"type\":\"Selection\"},{\"attributes\":{\"overlay\":{\"id\":\"7377\",\"type\":\"BoxAnnotation\"}},\"id\":\"7344\",\"type\":\"BoxZoomTool\"},{\"attributes\":{},\"id\":\"7562\",\"type\":\"Selection\"},{\"attributes\":{},\"id\":\"7346\",\"type\":\"ResetTool\"},{\"attributes\":{\"num_minor_ticks\":5,\"tickers\":[{\"id\":\"7365\",\"type\":\"AdaptiveTicker\"},{\"id\":\"7366\",\"type\":\"AdaptiveTicker\"},{\"id\":\"7367\",\"type\":\"AdaptiveTicker\"},{\"id\":\"7368\",\"type\":\"DaysTicker\"},{\"id\":\"7369\",\"type\":\"DaysTicker\"},{\"id\":\"7370\",\"type\":\"DaysTicker\"},{\"id\":\"7371\",\"type\":\"DaysTicker\"},{\"id\":\"7372\",\"type\":\"MonthsTicker\"},{\"id\":\"7373\",\"type\":\"MonthsTicker\"},{\"id\":\"7374\",\"type\":\"MonthsTicker\"},{\"id\":\"7375\",\"type\":\"MonthsTicker\"},{\"id\":\"7376\",\"type\":\"YearsTicker\"}]},\"id\":\"7333\",\"type\":\"DatetimeTicker\"},{\"attributes\":{},\"id\":\"7640\",\"type\":\"Selection\"},{\"attributes\":{\"axis_label\":\"date\",\"formatter\":{\"id\":\"7363\",\"type\":\"DatetimeTickFormatter\"},\"ticker\":{\"id\":\"7333\",\"type\":\"DatetimeTicker\"}},\"id\":\"7332\",\"type\":\"DatetimeAxis\"},{\"attributes\":{},\"id\":\"7342\",\"type\":\"PanTool\"},{\"attributes\":{\"active_drag\":\"auto\",\"active_inspect\":\"auto\",\"active_multi\":null,\"active_scroll\":\"auto\",\"active_tap\":\"auto\",\"tools\":[{\"id\":\"7342\",\"type\":\"PanTool\"},{\"id\":\"7343\",\"type\":\"WheelZoomTool\"},{\"id\":\"7344\",\"type\":\"BoxZoomTool\"},{\"id\":\"7345\",\"type\":\"SaveTool\"},{\"id\":\"7346\",\"type\":\"ResetTool\"},{\"id\":\"7347\",\"type\":\"HelpTool\"},{\"id\":\"7644\",\"type\":\"HoverTool\"},{\"id\":\"7646\",\"type\":\"PanTool\"}]},\"id\":\"7348\",\"type\":\"Toolbar\"},{\"attributes\":{},\"id\":\"7343\",\"type\":\"WheelZoomTool\"},{\"attributes\":{\"data_source\":{\"id\":\"7566\",\"type\":\"ColumnDataSource\"},\"glyph\":{\"id\":\"7567\",\"type\":\"Line\"},\"hover_glyph\":null,\"muted_glyph\":null,\"nonselection_glyph\":{\"id\":\"7568\",\"type\":\"Line\"},\"selection_glyph\":null,\"view\":{\"id\":\"7570\",\"type\":\"CDSView\"}},\"id\":\"7569\",\"type\":\"GlyphRenderer\"},{\"attributes\":{\"data_source\":{\"id\":\"7380\",\"type\":\"ColumnDataSource\"},\"glyph\":{\"id\":\"7381\",\"type\":\"Line\"},\"hover_glyph\":null,\"muted_glyph\":null,\"nonselection_glyph\":{\"id\":\"7382\",\"type\":\"Line\"},\"selection_glyph\":null,\"view\":{\"id\":\"7384\",\"type\":\"CDSView\"}},\"id\":\"7383\",\"type\":\"GlyphRenderer\"},{\"attributes\":{},\"id\":\"7328\",\"type\":\"LinearScale\"},{\"attributes\":{\"source\":{\"id\":\"7604\",\"type\":\"ColumnDataSource\"}},\"id\":\"7608\",\"type\":\"CDSView\"},{\"attributes\":{\"data_source\":{\"id\":\"7355\",\"type\":\"ColumnDataSource\"},\"glyph\":{\"id\":\"7356\",\"type\":\"Line\"},\"hover_glyph\":null,\"muted_glyph\":null,\"nonselection_glyph\":{\"id\":\"7357\",\"type\":\"Line\"},\"selection_glyph\":null,\"view\":{\"id\":\"7359\",\"type\":\"CDSView\"}},\"id\":\"7358\",\"type\":\"GlyphRenderer\"},{\"attributes\":{\"axis_label\":\"total\",\"formatter\":{\"id\":\"7361\",\"type\":\"BasicTickFormatter\"},\"ticker\":{\"id\":\"7338\",\"type\":\"BasicTicker\"}},\"id\":\"7337\",\"type\":\"LinearAxis\"},{\"attributes\":{\"source\":{\"id\":\"7530\",\"type\":\"ColumnDataSource\"}},\"id\":\"7534\",\"type\":\"CDSView\"},{\"attributes\":{},\"id\":\"7461\",\"type\":\"UnionRenderers\"},{\"attributes\":{},\"id\":\"7338\",\"type\":\"BasicTicker\"},{\"attributes\":{\"label\":{\"value\":\"80-89\"},\"renderers\":[{\"id\":\"7533\",\"type\":\"GlyphRenderer\"}]},\"id\":\"7565\",\"type\":\"LegendItem\"},{\"attributes\":{\"label\":{\"value\":\"30-39\"},\"renderers\":[{\"id\":\"7383\",\"type\":\"GlyphRenderer\"}]},\"id\":\"7405\",\"type\":\"LegendItem\"},{\"attributes\":{\"source\":{\"id\":\"7380\",\"type\":\"ColumnDataSource\"}},\"id\":\"7384\",\"type\":\"CDSView\"},{\"attributes\":{\"line_color\":\"hotpink\",\"line_width\":1.5,\"x\":{\"field\":\"x\"},\"y\":{\"field\":\"y\"}},\"id\":\"7567\",\"type\":\"Line\"},{\"attributes\":{\"label\":{\"value\":\"90+\"},\"renderers\":[{\"id\":\"7569\",\"type\":\"GlyphRenderer\"}]},\"id\":\"7603\",\"type\":\"LegendItem\"},{\"attributes\":{\"data_source\":{\"id\":\"7406\",\"type\":\"ColumnDataSource\"},\"glyph\":{\"id\":\"7407\",\"type\":\"Line\"},\"hover_glyph\":null,\"muted_glyph\":null,\"nonselection_glyph\":{\"id\":\"7408\",\"type\":\"Line\"},\"selection_glyph\":null,\"view\":{\"id\":\"7410\",\"type\":\"CDSView\"}},\"id\":\"7409\",\"type\":\"GlyphRenderer\"},{\"attributes\":{\"source\":{\"id\":\"7566\",\"type\":\"ColumnDataSource\"}},\"id\":\"7570\",\"type\":\"CDSView\"},{\"attributes\":{\"line_alpha\":0.1,\"line_color\":\"#1f77b4\",\"line_width\":1.5,\"x\":{\"field\":\"x\"},\"y\":{\"field\":\"y\"}},\"id\":\"7382\",\"type\":\"Line\"},{\"attributes\":{\"callback\":null,\"data\":{\"x\":[1609027200000.0,1609113600000.0,1609200000000.0,1609286400000.0,1609372800000.0,1609459200000.0,1609545600000.0,1609632000000.0,1609718400000.0,1609804800000.0,1609891200000.0,1609977600000.0,1610064000000.0,1610150400000.0,1610236800000.0,1610323200000.0,1610409600000.0,1610496000000.0,1610582400000.0,1610668800000.0,1610755200000.0,1610841600000.0,1610928000000.0,1611014400000.0,1611100800000.0,1611187200000.0,1611273600000.0,1611360000000.0,1611446400000.0,1611532800000.0,1611619200000.0,1611705600000.0,1611792000000.0,1611878400000.0,1611964800000.0,1612051200000.0,1612137600000.0,1612224000000.0,1612310400000.0,1612396800000.0,1612483200000.0,1612569600000.0,1612656000000.0,1612742400000.0,1612828800000.0,1612915200000.0,1613001600000.0,1613088000000.0,1613174400000.0,1613260800000.0,1613347200000.0,1613433600000.0,1613520000000.0,1613606400000.0,1613692800000.0,1613779200000.0,1613865600000.0,1613952000000.0,1614038400000.0,1614124800000.0,1614211200000.0,1614297600000.0,1614384000000.0,1614470400000.0,1614556800000.0,1614643200000.0,1614729600000.0,1614816000000.0,1614902400000.0,1614988800000.0,1615075200000.0,1615161600000.0,1615248000000.0,1615334400000.0,1615420800000.0,1615507200000.0,1615593600000.0,1615680000000.0,1615766400000.0,1615852800000.0,1615939200000.0,1616025600000.0,1616112000000.0,1616198400000.0,1616284800000.0,1616371200000.0,1616457600000.0,1616544000000.0,1616630400000.0,1616716800000.0,1616803200000.0,1616889600000.0,1616976000000.0,1617062400000.0,1617148800000.0,1617235200000.0,1617321600000.0,1617408000000.0,1617494400000.0,1617580800000.0,1617667200000.0,1617753600000.0,1617840000000.0,1617926400000.0,1618012800000.0,1618099200000.0,1618185600000.0,1618272000000.0,1618358400000.0,1618444800000.0,1618531200000.0,1618617600000.0,1618704000000.0,1618790400000.0,1618876800000.0,1618963200000.0,1619049600000.0,1619136000000.0,1619222400000.0,1619308800000.0,1619395200000.0,1619481600000.0,1619568000000.0,1619654400000.0,1619740800000.0,1619827200000.0,1619913600000.0,1620000000000.0,1620086400000.0,1620172800000.0],\"y\":[1473,1825,2042,3258,8974,11417,19884,27678,42315,59056,71932,90978,110581,127069,138547,154228,169743,187365,204415,220598,231620,237616,245191,250487,255914,262848,267874,275926,283112,297731,314368,328167,347420,367418,384744,396366,412792,429243,447923,467712,487150,500376,507499,518265,528713,539792,551666,564442,573520,578958,588516,599531,611186,624533,639214,650433,657000,671403,685546,700161,714999,732097,748588,757929,774724,795323,817489,841559,868865,892900,906414,929831,953933,978355,1002535,1026698,1046829,1058595,1075186,1082139,1089330,1096054,1106460,1119778,1130246,1145187,1162190,1180389,1199419,1218632,1234764,1245143,1259352,1273588,1289444,1303949,1318258,1327746,1332375,1340290,1353762,1367381,1381837,1397471,1411001,1420459,1430721,1440680,1451955,1465818,1480864,1495321,1504810,1516387,1527928,1540485,1556277,1573609,1589327,1600306,1614446,1630643,1648900,1674590,1701479,1722552,1741179,1761643,1786631,1794221]},\"selected\":{\"id\":\"7460\",\"type\":\"Selection\"},\"selection_policy\":{\"id\":\"7461\",\"type\":\"UnionRenderers\"}},\"id\":\"7406\",\"type\":\"ColumnDataSource\"},{\"attributes\":{\"line_color\":\"darkmagenta\",\"line_width\":1.5,\"x\":{\"field\":\"x\"},\"y\":{\"field\":\"y\"}},\"id\":\"7381\",\"type\":\"Line\"},{\"attributes\":{\"callback\":null,\"data\":{\"x\":[1609286400000.0,1609372800000.0,1609459200000.0,1609545600000.0,1609718400000.0,1609804800000.0,1609891200000.0,1609977600000.0,1610064000000.0,1610150400000.0,1610236800000.0,1610323200000.0,1610409600000.0,1610496000000.0,1610582400000.0,1610668800000.0,1610755200000.0,1610841600000.0,1610928000000.0,1611014400000.0,1611100800000.0,1611187200000.0,1611273600000.0,1611360000000.0,1611446400000.0,1611532800000.0,1611619200000.0,1611705600000.0,1611792000000.0,1611878400000.0,1611964800000.0,1612051200000.0,1612137600000.0,1612224000000.0,1612310400000.0,1612396800000.0,1612483200000.0,1612569600000.0,1612656000000.0,1612742400000.0,1612828800000.0,1612915200000.0,1613001600000.0,1613088000000.0,1613174400000.0,1613260800000.0,1613347200000.0,1613433600000.0,1613520000000.0,1613606400000.0,1613692800000.0,1613779200000.0,1613865600000.0,1613952000000.0,1614038400000.0,1614124800000.0,1614211200000.0,1614297600000.0,1614384000000.0,1614470400000.0,1614556800000.0,1614643200000.0,1614729600000.0,1614816000000.0,1614902400000.0,1614988800000.0,1615075200000.0,1615161600000.0,1615248000000.0,1615334400000.0,1615420800000.0,1615507200000.0,1615593600000.0,1615680000000.0,1615766400000.0,1615852800000.0,1615939200000.0,1616025600000.0,1616112000000.0,1616198400000.0,1616284800000.0,1616371200000.0,1616457600000.0,1616544000000.0,1616630400000.0,1616716800000.0,1616803200000.0,1616889600000.0,1616976000000.0,1617062400000.0,1617148800000.0,1617235200000.0,1617321600000.0,1617408000000.0,1617494400000.0,1617580800000.0,1617667200000.0,1617753600000.0,1617840000000.0,1617926400000.0,1618012800000.0,1618099200000.0,1618185600000.0,1618272000000.0,1618358400000.0,1618444800000.0,1618531200000.0,1618617600000.0,1618704000000.0,1618790400000.0,1618876800000.0,1618963200000.0,1619049600000.0,1619136000000.0,1619222400000.0,1619308800000.0,1619395200000.0,1619481600000.0,1619568000000.0,1619654400000.0,1619740800000.0,1619827200000.0,1619913600000.0,1620000000000.0,1620086400000.0,1620172800000.0],\"y\":[2,25,27,46,58,80,118,149,192,270,414,497,564,711,847,949,1096,1182,1244,1284,1315,1349,1383,1423,1433,1443,1463,1514,1555,1612,1695,1842,1938,2016,2155,2319,2455,2647,2763,2849,2931,3036,3137,3252,3377,3421,3528,3596,3668,3754,3869,3944,3990,4073,4166,4264,4371,4500,4622,4689,4803,4925,5095,5244,5457,5679,5796,6051,6233,6406,6664,6853,6994,7107,7292,7468,7707,7925,8210,8464,8637,8916,9245,9594,10022,10547,10978,11265,11664,12060,12554,13148,13732,14136,14364,14751,15277,15865,16481,17228,18061,18713,19423,20005,20631,21544,22458,23454,24189,24963,25699,26568,27607,28749,29809,30694,31764,32994,34253,36150,37967,39628,41246,42936,44618,45052]},\"selected\":{\"id\":\"8029\",\"type\":\"Selection\"},\"selection_policy\":{\"id\":\"8030\",\"type\":\"UnionRenderers\"}},\"id\":\"7604\",\"type\":\"ColumnDataSource\"},{\"attributes\":{\"data_source\":{\"id\":\"7604\",\"type\":\"ColumnDataSource\"},\"glyph\":{\"id\":\"7605\",\"type\":\"Line\"},\"hover_glyph\":null,\"muted_glyph\":null,\"nonselection_glyph\":{\"id\":\"7606\",\"type\":\"Line\"},\"selection_glyph\":null,\"view\":{\"id\":\"7608\",\"type\":\"CDSView\"}},\"id\":\"7607\",\"type\":\"GlyphRenderer\"},{\"attributes\":{},\"id\":\"7402\",\"type\":\"Selection\"},{\"attributes\":{\"line_alpha\":0.1,\"line_color\":\"#1f77b4\",\"line_width\":1.5,\"x\":{\"field\":\"x\"},\"y\":{\"field\":\"y\"}},\"id\":\"7606\",\"type\":\"Line\"},{\"attributes\":{\"mantissas\":[1,2,5],\"max_interval\":500.0,\"num_minor_ticks\":0},\"id\":\"7365\",\"type\":\"AdaptiveTicker\"},{\"attributes\":{\"callback\":null,\"data\":{\"x\":[1609027200000.0,1609113600000.0,1609200000000.0,1609286400000.0,1609372800000.0,1609459200000.0,1609545600000.0,1609632000000.0,1609718400000.0,1609804800000.0,1609891200000.0,1609977600000.0,1610064000000.0,1610150400000.0,1610236800000.0,1610323200000.0,1610409600000.0,1610496000000.0,1610582400000.0,1610668800000.0,1610755200000.0,1610841600000.0,1610928000000.0,1611014400000.0,1611100800000.0,1611187200000.0,1611273600000.0,1611360000000.0,1611446400000.0,1611532800000.0,1611619200000.0,1611705600000.0,1611792000000.0,1611878400000.0,1611964800000.0,1612051200000.0,1612137600000.0,1612224000000.0,1612310400000.0,1612396800000.0,1612483200000.0,1612569600000.0,1612656000000.0,1612742400000.0,1612828800000.0,1612915200000.0,1613001600000.0,1613088000000.0,1613174400000.0,1613260800000.0,1613347200000.0,1613433600000.0,1613520000000.0,1613606400000.0,1613692800000.0,1613779200000.0,1613865600000.0,1613952000000.0,1614038400000.0,1614124800000.0,1614211200000.0,1614297600000.0,1614384000000.0,1614470400000.0,1614556800000.0,1614643200000.0,1614729600000.0,1614816000000.0,1614902400000.0,1614988800000.0,1615075200000.0,1615161600000.0,1615248000000.0,1615334400000.0,1615420800000.0,1615507200000.0,1615593600000.0,1615680000000.0,1615766400000.0,1615852800000.0,1615939200000.0,1616025600000.0,1616112000000.0,1616198400000.0,1616284800000.0,1616371200000.0,1616457600000.0,1616544000000.0,1616630400000.0,1616716800000.0,1616803200000.0,1616889600000.0,1616976000000.0,1617062400000.0,1617148800000.0,1617235200000.0,1617321600000.0,1617408000000.0,1617494400000.0,1617580800000.0,1617667200000.0,1617753600000.0,1617840000000.0,1617926400000.0,1618012800000.0,1618099200000.0,1618185600000.0,1618272000000.0,1618358400000.0,1618444800000.0,1618531200000.0,1618617600000.0,1618704000000.0,1618790400000.0,1618876800000.0,1618963200000.0,1619049600000.0,1619136000000.0,1619222400000.0,1619308800000.0,1619395200000.0,1619481600000.0,1619568000000.0,1619654400000.0,1619740800000.0,1619827200000.0,1619913600000.0,1620000000000.0,1620086400000.0,1620172800000.0],\"y\":[685,851,930,1407,3795,4722,8241,11714,17688,24520,31108,38830,47864,56761,64238,72583,81226,91484,101873,112163,120263,125278,129527,132648,135179,138015,140181,143570,146829,152953,159600,166941,174840,184200,193327,200490,209585,218909,229959,241824,254329,264041,269936,277073,284088,292388,300977,309850,315678,318618,325065,330689,337328,345244,353393,358900,361793,367644,373667,379561,385731,392717,398501,402373,409652,418686,429240,440957,453730,464595,470105,480258,490235,501066,512575,524565,533929,539451,547823,552557,557291,561586,567248,573711,579669,587654,596166,605106,614644,624197,632947,638563,646066,653307,661766,669537,677161,681736,683609,687569,694650,701704,708887,716764,722984,727591,732459,737066,742059,748312,755522,761745,765682,771025,776275,781848,788550,795692,802210,807237,813828,821475,830221,843169,856897,866888,876076,885993,897686,901083]},\"selected\":{\"id\":\"7402\",\"type\":\"Selection\"},\"selection_policy\":{\"id\":\"7403\",\"type\":\"UnionRenderers\"}},\"id\":\"7355\",\"type\":\"ColumnDataSource\"},{\"attributes\":{\"line_color\":\"darkorchid\",\"line_width\":1.5,\"x\":{\"field\":\"x\"},\"y\":{\"field\":\"y\"}},\"id\":\"7435\",\"type\":\"Line\"},{\"attributes\":{\"label\":{\"value\":\"60-69\"},\"renderers\":[{\"id\":\"7467\",\"type\":\"GlyphRenderer\"}]},\"id\":\"7495\",\"type\":\"LegendItem\"},{\"attributes\":{\"data_source\":{\"id\":\"7496\",\"type\":\"ColumnDataSource\"},\"glyph\":{\"id\":\"7497\",\"type\":\"Line\"},\"hover_glyph\":null,\"muted_glyph\":null,\"nonselection_glyph\":{\"id\":\"7498\",\"type\":\"Line\"},\"selection_glyph\":null,\"view\":{\"id\":\"7500\",\"type\":\"CDSView\"}},\"id\":\"7499\",\"type\":\"GlyphRenderer\"},{\"attributes\":{\"label\":{\"value\":\"70-79\"},\"renderers\":[{\"id\":\"7499\",\"type\":\"GlyphRenderer\"}]},\"id\":\"7529\",\"type\":\"LegendItem\"},{\"attributes\":{\"data_source\":{\"id\":\"7464\",\"type\":\"ColumnDataSource\"},\"glyph\":{\"id\":\"7465\",\"type\":\"Line\"},\"hover_glyph\":null,\"muted_glyph\":null,\"nonselection_glyph\":{\"id\":\"7466\",\"type\":\"Line\"},\"selection_glyph\":null,\"view\":{\"id\":\"7468\",\"type\":\"CDSView\"}},\"id\":\"7467\",\"type\":\"GlyphRenderer\"},{\"attributes\":{},\"id\":\"7527\",\"type\":\"UnionRenderers\"},{\"attributes\":{\"line_color\":\"oldlace\",\"line_width\":1.5,\"x\":{\"field\":\"x\"},\"y\":{\"field\":\"y\"}},\"id\":\"7407\",\"type\":\"Line\"},{\"attributes\":{},\"id\":\"7492\",\"type\":\"Selection\"},{\"attributes\":{\"callback\":null,\"data\":{\"x\":[1609027200000.0,1609200000000.0,1609286400000.0,1609372800000.0,1609459200000.0,1609545600000.0,1609632000000.0,1609718400000.0,1609804800000.0,1609891200000.0,1609977600000.0,1610064000000.0,1610150400000.0,1610236800000.0,1610323200000.0,1610409600000.0,1610496000000.0,1610582400000.0,1610668800000.0,1610755200000.0,1610841600000.0,1610928000000.0,1611014400000.0,1611100800000.0,1611187200000.0,1611273600000.0,1611360000000.0,1611446400000.0,1611532800000.0,1611619200000.0,1611705600000.0,1611792000000.0,1611878400000.0,1611964800000.0,1612051200000.0,1612137600000.0,1612224000000.0,1612310400000.0,1612396800000.0,1612483200000.0,1612569600000.0,1612656000000.0,1612742400000.0,1612828800000.0,1612915200000.0,1613001600000.0,1613088000000.0,1613174400000.0,1613260800000.0,1613347200000.0,1613433600000.0,1613520000000.0,1613606400000.0,1613692800000.0,1613779200000.0,1613865600000.0,1613952000000.0,1614038400000.0,1614124800000.0,1614211200000.0,1614297600000.0,1614384000000.0,1614470400000.0,1614556800000.0,1614643200000.0,1614729600000.0,1614816000000.0,1614902400000.0,1614988800000.0,1615075200000.0,1615161600000.0,1615248000000.0,1615334400000.0,1615420800000.0,1615507200000.0,1615593600000.0,1615680000000.0,1615766400000.0,1615852800000.0,1615939200000.0,1616025600000.0,1616112000000.0,1616198400000.0,1616284800000.0,1616371200000.0,1616457600000.0,1616544000000.0,1616630400000.0,1616716800000.0,1616803200000.0,1616889600000.0,1616976000000.0,1617062400000.0,1617148800000.0,1617235200000.0,1617321600000.0,1617408000000.0,1617494400000.0,1617580800000.0,1617667200000.0,1617753600000.0,1617840000000.0,1617926400000.0,1618012800000.0,1618099200000.0,1618185600000.0,1618272000000.0,1618358400000.0,1618444800000.0,1618531200000.0,1618617600000.0,1618704000000.0,1618790400000.0,1618876800000.0,1618963200000.0,1619049600000.0,1619136000000.0,1619222400000.0,1619308800000.0,1619395200000.0,1619481600000.0,1619568000000.0,1619654400000.0,1619740800000.0,1619827200000.0,1619913600000.0,1620000000000.0,1620086400000.0,1620172800000.0],\"y\":[129,137,231,804,989,1588,2121,3246,4820,6517,8847,11528,14577,16800,19845,23471,27630,32038,36241,39919,41828,44130,46144,48011,49451,50666,51629,52352,53717,55499,57445,59832,62601,65690,67783,71060,74988,79411,84492,89519,93769,95998,99356,102971,107172,111134,114924,117572,118972,121940,124665,127725,130724,133468,135385,136436,138575,140691,143061,145324,147668,149830,151139,153785,156950,162590,168861,176009,181841,184585,189570,194835,200341,208597,216389,225458,231821,241809,247788,255681,265719,280725,303250,321995,349691,384713,418026,458631,505862,548484,584392,636269,694464,754857,808060,874301,932006,971562,1027352,1118122,1214255,1304745,1395778,1492737,1555472,1672785,1800559,1937778,2073108,2224655,2368607,2469622,2603311,2741414,2889954,3040813,3188363,3329618,3439113,3570227,3703847,3839791,4001058,4157881,4285286,4393422,4512290,4635122,4680665]},\"selected\":{\"id\":\"7562\",\"type\":\"Selection\"},\"selection_policy\":{\"id\":\"7563\",\"type\":\"UnionRenderers\"}},\"id\":\"7496\",\"type\":\"ColumnDataSource\"},{\"attributes\":{\"line_color\":\"firebrick\",\"line_width\":1.5,\"x\":{\"field\":\"x\"},\"y\":{\"field\":\"y\"}},\"id\":\"7497\",\"type\":\"Line\"},{\"attributes\":{},\"id\":\"7431\",\"type\":\"UnionRenderers\"},{\"attributes\":{\"line_alpha\":0.1,\"line_color\":\"#1f77b4\",\"line_width\":1.5,\"x\":{\"field\":\"x\"},\"y\":{\"field\":\"y\"}},\"id\":\"7357\",\"type\":\"Line\"},{\"attributes\":{\"label\":{\"value\":\"20-29\"},\"renderers\":[{\"id\":\"7358\",\"type\":\"GlyphRenderer\"}]},\"id\":\"7379\",\"type\":\"LegendItem\"},{\"attributes\":{\"callback\":null,\"data\":{\"x\":[1609027200000.0,1609113600000.0,1609200000000.0,1609286400000.0,1609372800000.0,1609459200000.0,1609545600000.0,1609632000000.0,1609718400000.0,1609804800000.0,1609891200000.0,1609977600000.0,1610064000000.0,1610150400000.0,1610236800000.0,1610323200000.0,1610409600000.0,1610496000000.0,1610582400000.0,1610668800000.0,1610755200000.0,1610841600000.0,1610928000000.0,1611014400000.0,1611100800000.0,1611187200000.0,1611273600000.0,1611360000000.0,1611446400000.0,1611532800000.0,1611619200000.0,1611705600000.0,1611792000000.0,1611878400000.0,1611964800000.0,1612051200000.0,1612137600000.0,1612224000000.0,1612310400000.0,1612396800000.0,1612483200000.0,1612569600000.0,1612656000000.0,1612742400000.0,1612828800000.0,1612915200000.0,1613001600000.0,1613088000000.0,1613174400000.0,1613260800000.0,1613347200000.0,1613433600000.0,1613520000000.0,1613606400000.0,1613692800000.0,1613779200000.0,1613865600000.0,1613952000000.0,1614038400000.0,1614124800000.0,1614211200000.0,1614297600000.0,1614384000000.0,1614470400000.0,1614556800000.0,1614643200000.0,1614729600000.0,1614816000000.0,1614902400000.0,1614988800000.0,1615075200000.0,1615161600000.0,1615248000000.0,1615334400000.0,1615420800000.0,1615507200000.0,1615593600000.0,1615680000000.0,1615766400000.0,1615852800000.0,1615939200000.0,1616025600000.0,1616112000000.0,1616198400000.0,1616284800000.0,1616371200000.0,1616457600000.0,1616544000000.0,1616630400000.0,1616716800000.0,1616803200000.0,1616889600000.0,1616976000000.0,1617062400000.0,1617148800000.0,1617235200000.0,1617321600000.0,1617408000000.0,1617494400000.0,1617580800000.0,1617667200000.0,1617753600000.0,1617840000000.0,1617926400000.0,1618012800000.0,1618099200000.0,1618185600000.0,1618272000000.0,1618358400000.0,1618444800000.0,1618531200000.0,1618617600000.0,1618704000000.0,1618790400000.0,1618876800000.0,1618963200000.0,1619049600000.0,1619136000000.0,1619222400000.0,1619308800000.0,1619395200000.0,1619481600000.0,1619568000000.0,1619654400000.0,1619740800000.0,1619827200000.0,1619913600000.0,1620000000000.0,1620086400000.0,1620172800000.0],\"y\":[1461,1700,1886,2453,5991,7688,14271,20255,32260,46455,58343,73877,89963,106948,117636,130686,143700,157622,170741,183023,192934,198421,204357,208617,212485,217659,221351,228063,233928,245570,259724,272332,288210,304666,322354,332978,346632,360367,375029,390384,405207,417067,423296,431953,440231,449162,457795,465838,471948,474808,480542,486359,492332,498385,504252,508317,510537,515284,519526,525454,533769,544417,555717,564176,575959,593299,613444,633779,654780,675157,685435,701566,718764,736786,756786,776561,795783,806620,821272,828277,837158,846419,857364,869806,880474,895286,914719,937721,961808,985800,1008560,1024510,1045186,1068687,1094512,1120523,1146070,1168477,1177432,1191379,1216774,1244084,1277217,1314501,1350927,1377630,1410917,1451032,1494934,1549433,1615338,1685373,1735924,1795283,1863296,1936584,2016055,2105823,2197508,2273704,2367999,2467015,2572550,2724843,2871080,2999084,3113681,3254295,3401160,3450664]},\"selected\":{\"id\":\"7526\",\"type\":\"Selection\"},\"selection_policy\":{\"id\":\"7527\",\"type\":\"UnionRenderers\"}},\"id\":\"7464\",\"type\":\"ColumnDataSource\"},{\"attributes\":{},\"id\":\"7361\",\"type\":\"BasicTickFormatter\"},{\"attributes\":{\"source\":{\"id\":\"7464\",\"type\":\"ColumnDataSource\"}},\"id\":\"7468\",\"type\":\"CDSView\"},{\"attributes\":{},\"id\":\"7493\",\"type\":\"UnionRenderers\"},{\"attributes\":{},\"id\":\"7403\",\"type\":\"UnionRenderers\"},{\"attributes\":{\"line_color\":\"salmon\",\"line_width\":1.5,\"x\":{\"field\":\"x\"},\"y\":{\"field\":\"y\"}},\"id\":\"7465\",\"type\":\"Line\"},{\"attributes\":{\"label\":{\"value\":\"50-59\"},\"renderers\":[{\"id\":\"7437\",\"type\":\"GlyphRenderer\"}]},\"id\":\"7463\",\"type\":\"LegendItem\"},{\"attributes\":{},\"id\":\"7363\",\"type\":\"DatetimeTickFormatter\"},{\"attributes\":{\"source\":{\"id\":\"7355\",\"type\":\"ColumnDataSource\"}},\"id\":\"7359\",\"type\":\"CDSView\"},{\"attributes\":{\"callback\":null,\"data\":{\"x\":[1609027200000.0,1609113600000.0,1609200000000.0,1609286400000.0,1609372800000.0,1609459200000.0,1609545600000.0,1609632000000.0,1609718400000.0,1609804800000.0,1609891200000.0,1609977600000.0,1610064000000.0,1610150400000.0,1610236800000.0,1610323200000.0,1610409600000.0,1610496000000.0,1610582400000.0,1610668800000.0,1610755200000.0,1610841600000.0,1610928000000.0,1611014400000.0,1611100800000.0,1611187200000.0,1611273600000.0,1611360000000.0,1611446400000.0,1611532800000.0,1611619200000.0,1611705600000.0,1611792000000.0,1611878400000.0,1611964800000.0,1612051200000.0,1612137600000.0,1612224000000.0,1612310400000.0,1612396800000.0,1612483200000.0,1612569600000.0,1612656000000.0,1612742400000.0,1612828800000.0,1612915200000.0,1613001600000.0,1613088000000.0,1613174400000.0,1613260800000.0,1613347200000.0,1613433600000.0,1613520000000.0,1613606400000.0,1613692800000.0,1613779200000.0,1613865600000.0,1613952000000.0,1614038400000.0,1614124800000.0,1614211200000.0,1614297600000.0,1614384000000.0,1614470400000.0,1614556800000.0,1614643200000.0,1614729600000.0,1614816000000.0,1614902400000.0,1614988800000.0,1615075200000.0,1615161600000.0,1615248000000.0,1615334400000.0,1615420800000.0,1615507200000.0,1615593600000.0,1615680000000.0,1615766400000.0,1615852800000.0,1615939200000.0,1616025600000.0,1616112000000.0,1616198400000.0,1616284800000.0,1616371200000.0,1616457600000.0,1616544000000.0,1616630400000.0,1616716800000.0,1616803200000.0,1616889600000.0,1616976000000.0,1617062400000.0,1617148800000.0,1617235200000.0,1617321600000.0,1617408000000.0,1617494400000.0,1617580800000.0,1617667200000.0,1617753600000.0,1617840000000.0,1617926400000.0,1618012800000.0,1618099200000.0,1618185600000.0,1618272000000.0,1618358400000.0,1618444800000.0,1618531200000.0,1618617600000.0,1618704000000.0,1618790400000.0,1618876800000.0,1618963200000.0,1619049600000.0,1619136000000.0,1619222400000.0,1619308800000.0,1619395200000.0,1619481600000.0,1619568000000.0,1619654400000.0,1619740800000.0,1619827200000.0,1619913600000.0,1620000000000.0,1620086400000.0,1620172800000.0],\"y\":[2166,2578,2886,4144,11263,14488,25329,35441,55471,78511,96356,122804,149712,172258,187545,209596,230907,254657,277339,298770,312929,320833,330698,337462,344103,352939,359313,369734,379288,398977,421773,440786,467751,495158,518795,534229,557136,579798,604400,630435,655733,672616,681546,695618,708807,722708,736808,750280,759658,764529,774685,785183,797119,810767,825730,837133,843142,857643,871859,887441,905203,927648,949693,962780,985520,1015035,1046620,1080226,1116668,1147837,1165500,1195519,1226689,1257236,1288894,1320745,1347238,1362598,1384192,1392907,1402460,1411872,1424840,1441796,1455519,1475365,1498097,1522780,1548404,1573580,1595306,1609818,1629245,1649651,1671995,1692695,1713078,1727802,1733375,1744124,1764091,1784449,1806832,1831601,1853551,1869142,1885291,1901706,1920000,1943267,1969158,1994472,2011444,2031485,2051323,2073052,2099574,2129119,2156630,2175281,2200390,2228584,2260954,2308249,2363401,2412640,2460314,2508595,2562084,2579262]},\"selected\":{\"id\":\"7492\",\"type\":\"Selection\"},\"selection_policy\":{\"id\":\"7493\",\"type\":\"UnionRenderers\"}},\"id\":\"7434\",\"type\":\"ColumnDataSource\"},{\"attributes\":{\"line_alpha\":0.1,\"line_color\":\"#1f77b4\",\"line_width\":1.5,\"x\":{\"field\":\"x\"},\"y\":{\"field\":\"y\"}},\"id\":\"7436\",\"type\":\"Line\"},{\"attributes\":{\"line_alpha\":0.1,\"line_color\":\"#1f77b4\",\"line_width\":1.5,\"x\":{\"field\":\"x\"},\"y\":{\"field\":\"y\"}},\"id\":\"7408\",\"type\":\"Line\"},{\"attributes\":{\"source\":{\"id\":\"7406\",\"type\":\"ColumnDataSource\"}},\"id\":\"7410\",\"type\":\"CDSView\"},{\"attributes\":{\"source\":{\"id\":\"7434\",\"type\":\"ColumnDataSource\"}},\"id\":\"7438\",\"type\":\"CDSView\"},{\"attributes\":{},\"id\":\"7430\",\"type\":\"Selection\"},{\"attributes\":{\"callback\":null,\"data\":{\"x\":[1609027200000.0,1609113600000.0,1609200000000.0,1609286400000.0,1609372800000.0,1609459200000.0,1609545600000.0,1609632000000.0,1609718400000.0,1609804800000.0,1609891200000.0,1609977600000.0,1610064000000.0,1610150400000.0,1610236800000.0,1610323200000.0,1610409600000.0,1610496000000.0,1610582400000.0,1610668800000.0,1610755200000.0,1610841600000.0,1610928000000.0,1611014400000.0,1611100800000.0,1611187200000.0,1611273600000.0,1611360000000.0,1611446400000.0,1611532800000.0,1611619200000.0,1611705600000.0,1611792000000.0,1611878400000.0,1611964800000.0,1612051200000.0,1612137600000.0,1612224000000.0,1612310400000.0,1612396800000.0,1612483200000.0,1612569600000.0,1612656000000.0,1612742400000.0,1612828800000.0,1612915200000.0,1613001600000.0,1613088000000.0,1613174400000.0,1613260800000.0,1613347200000.0,1613433600000.0,1613520000000.0,1613606400000.0,1613692800000.0,1613779200000.0,1613865600000.0,1613952000000.0,1614038400000.0,1614124800000.0,1614211200000.0,1614297600000.0,1614384000000.0,1614470400000.0,1614556800000.0,1614643200000.0,1614729600000.0,1614816000000.0,1614902400000.0,1614988800000.0,1615075200000.0,1615161600000.0,1615248000000.0,1615334400000.0,1615420800000.0,1615507200000.0,1615593600000.0,1615680000000.0,1615766400000.0,1615852800000.0,1615939200000.0,1616025600000.0,1616112000000.0,1616198400000.0,1616284800000.0,1616371200000.0,1616457600000.0,1616544000000.0,1616630400000.0,1616716800000.0,1616803200000.0,1616889600000.0,1616976000000.0,1617062400000.0,1617148800000.0,1617235200000.0,1617321600000.0,1617408000000.0,1617494400000.0,1617580800000.0,1617667200000.0,1617753600000.0,1617840000000.0,1617926400000.0,1618012800000.0,1618099200000.0,1618185600000.0,1618272000000.0,1618358400000.0,1618444800000.0,1618531200000.0,1618617600000.0,1618704000000.0,1618790400000.0,1618876800000.0,1618963200000.0,1619049600000.0,1619136000000.0,1619222400000.0,1619308800000.0,1619395200000.0,1619481600000.0,1619568000000.0,1619654400000.0,1619740800000.0,1619827200000.0,1619913600000.0,1620000000000.0,1620086400000.0,1620172800000.0],\"y\":[118,119,128,287,1326,1609,2413,3010,4488,6346,7881,11038,14151,17092,18837,22605,26875,32669,39550,46838,52575,56632,61247,65343,68925,71654,73988,75415,76272,78229,80632,82890,86017,89380,92298,93806,97846,102739,108933,116680,125112,131533,135593,145086,155473,167223,179452,191250,200332,206358,223035,245209,270394,297544,325804,354742,377152,422908,468544,521109,576648,629765,677429,706814,759945,814932,876345,939432,1002422,1058041,1094020,1155976,1228644,1315121,1400738,1479249,1543126,1582470,1656056,1736547,1833384,1930534,2023990,2101834,2154446,2233340,2322775,2428659,2533798,2637038,2732650,2794672,2888888,2998276,3128359,3254603,3368589,3465757,3494714,3557539,3654660,3780426,3913875,4039473,4153902,4220981,4283963,4352248,4433280,4522522,4607594,4678606,4723565,4782900,4849844,4932560,5022146,5104779,5181285,5213953,5266162,5328191,5407315,5498477,5586041,5654952,5703713,5739663,5778143,5793370]},\"selected\":{\"id\":\"7600\",\"type\":\"Selection\"},\"selection_policy\":{\"id\":\"7601\",\"type\":\"UnionRenderers\"}},\"id\":\"7530\",\"type\":\"ColumnDataSource\"},{\"attributes\":{\"line_alpha\":0.1,\"line_color\":\"#1f77b4\",\"line_width\":1.5,\"x\":{\"field\":\"x\"},\"y\":{\"field\":\"y\"}},\"id\":\"7466\",\"type\":\"Line\"},{\"attributes\":{\"source\":{\"id\":\"7496\",\"type\":\"ColumnDataSource\"}},\"id\":\"7500\",\"type\":\"CDSView\"},{\"attributes\":{\"label\":{\"value\":\"40-49\"},\"renderers\":[{\"id\":\"7409\",\"type\":\"GlyphRenderer\"}]},\"id\":\"7433\",\"type\":\"LegendItem\"},{\"attributes\":{\"callback\":null,\"data\":{\"x\":[1609027200000.0,1609113600000.0,1609200000000.0,1609286400000.0,1609372800000.0,1609459200000.0,1609545600000.0,1609632000000.0,1609718400000.0,1609804800000.0,1609891200000.0,1609977600000.0,1610064000000.0,1610150400000.0,1610236800000.0,1610323200000.0,1610409600000.0,1610496000000.0,1610582400000.0,1610668800000.0,1610755200000.0,1610841600000.0,1610928000000.0,1611014400000.0,1611100800000.0,1611187200000.0,1611273600000.0,1611360000000.0,1611446400000.0,1611532800000.0,1611619200000.0,1611705600000.0,1611792000000.0,1611878400000.0,1611964800000.0,1612051200000.0,1612137600000.0,1612224000000.0,1612310400000.0,1612396800000.0,1612483200000.0,1612569600000.0,1612656000000.0,1612742400000.0,1612828800000.0,1612915200000.0,1613001600000.0,1613088000000.0,1613174400000.0,1613260800000.0,1613347200000.0,1613433600000.0,1613520000000.0,1613606400000.0,1613692800000.0,1613779200000.0,1613865600000.0,1613952000000.0,1614038400000.0,1614124800000.0,1614211200000.0,1614297600000.0,1614384000000.0,1614470400000.0,1614556800000.0,1614643200000.0,1614729600000.0,1614816000000.0,1614902400000.0,1614988800000.0,1615075200000.0,1615161600000.0,1615248000000.0,1615334400000.0,1615420800000.0,1615507200000.0,1615593600000.0,1615680000000.0,1615766400000.0,1615852800000.0,1615939200000.0,1616025600000.0,1616112000000.0,1616198400000.0,1616284800000.0,1616371200000.0,1616457600000.0,1616544000000.0,1616630400000.0,1616716800000.0,1616803200000.0,1616889600000.0,1616976000000.0,1617062400000.0,1617148800000.0,1617235200000.0,1617321600000.0,1617408000000.0,1617494400000.0,1617580800000.0,1617667200000.0,1617753600000.0,1617840000000.0,1617926400000.0,1618012800000.0,1618099200000.0,1618185600000.0,1618272000000.0,1618358400000.0,1618444800000.0,1618531200000.0,1618617600000.0,1618704000000.0,1618790400000.0,1618876800000.0,1618963200000.0,1619049600000.0,1619136000000.0,1619222400000.0,1619308800000.0,1619395200000.0,1619481600000.0,1619568000000.0,1619654400000.0,1619740800000.0,1619827200000.0,1619913600000.0,1620000000000.0,1620086400000.0,1620172800000.0],\"y\":[1066,1320,1513,2371,6665,8638,15578,21717,33870,47602,58901,74032,89468,103029,112978,125036,136947,150730,163990,176517,185316,190121,195976,200259,204284,209642,213431,220004,225854,237811,251557,263453,278677,294286,308465,318383,331318,344033,358627,373909,389464,400189,405813,414393,422871,432081,441766,452211,459892,464634,472467,480784,489920,499644,509468,517375,522037,530747,539594,548831,558353,569695,579704,585536,595913,609218,624238,640531,658864,675244,684233,699838,715874,732065,748733,764868,778595,787052,798788,804272,809689,814744,822579,832305,840392,851679,864153,877067,890511,904122,915967,923572,933408,943681,954358,964433,974180,980256,982903,987944,997153,1006227,1015617,1025815,1033802,1039626,1045878,1052229,1058875,1067146,1076085,1084480,1089832,1096776,1103598,1110908,1120177,1130112,1139124,1145489,1153781,1163396,1174105,1189242,1205725,1217575,1228957,1241162,1255650,1260056]},\"selected\":{\"id\":\"7430\",\"type\":\"Selection\"},\"selection_policy\":{\"id\":\"7431\",\"type\":\"UnionRenderers\"}},\"id\":\"7380\",\"type\":\"ColumnDataSource\"},{\"attributes\":{\"line_color\":\"lightsalmon\",\"line_width\":1.5,\"x\":{\"field\":\"x\"},\"y\":{\"field\":\"y\"}},\"id\":\"7531\",\"type\":\"Line\"},{\"attributes\":{\"data_source\":{\"id\":\"7434\",\"type\":\"ColumnDataSource\"},\"glyph\":{\"id\":\"7435\",\"type\":\"Line\"},\"hover_glyph\":null,\"muted_glyph\":null,\"nonselection_glyph\":{\"id\":\"7436\",\"type\":\"Line\"},\"selection_glyph\":null,\"view\":{\"id\":\"7438\",\"type\":\"CDSView\"}},\"id\":\"7437\",\"type\":\"GlyphRenderer\"},{\"attributes\":{\"line_color\":\"deeppink\",\"line_width\":1.5,\"x\":{\"field\":\"x\"},\"y\":{\"field\":\"y\"}},\"id\":\"7356\",\"type\":\"Line\"},{\"attributes\":{},\"id\":\"7526\",\"type\":\"Selection\"},{\"attributes\":{\"text\":\"trend for the daily vaccines done by range of age\"},\"id\":\"7322\",\"type\":\"Title\"},{\"attributes\":{\"line_alpha\":0.1,\"line_color\":\"#1f77b4\",\"line_width\":1.5,\"x\":{\"field\":\"x\"},\"y\":{\"field\":\"y\"}},\"id\":\"7498\",\"type\":\"Line\"},{\"attributes\":{\"data_source\":{\"id\":\"7530\",\"type\":\"ColumnDataSource\"},\"glyph\":{\"id\":\"7531\",\"type\":\"Line\"},\"hover_glyph\":null,\"muted_glyph\":null,\"nonselection_glyph\":{\"id\":\"7532\",\"type\":\"Line\"},\"selection_glyph\":null,\"view\":{\"id\":\"7534\",\"type\":\"CDSView\"}},\"id\":\"7533\",\"type\":\"GlyphRenderer\"},{\"attributes\":{\"callback\":null,\"formatters\":{\"x\":\"datetime\"},\"tooltips\":[[\"data\",\"@x{%F}\"],[\"total\",\"@y\"]]},\"id\":\"7644\",\"type\":\"HoverTool\"},{\"attributes\":{},\"id\":\"7460\",\"type\":\"Selection\"},{\"attributes\":{},\"id\":\"7601\",\"type\":\"UnionRenderers\"},{\"attributes\":{\"dimensions\":\"width\"},\"id\":\"7646\",\"type\":\"PanTool\"},{\"attributes\":{},\"id\":\"7600\",\"type\":\"Selection\"}],\"root_ids\":[\"7321\"]},\"title\":\"Bokeh Application\",\"version\":\"1.4.0\"}};\n",
       "  var render_items = [{\"docid\":\"7ebe2e7c-c59b-433c-8f53-9659fb787bd5\",\"roots\":{\"7321\":\"55432bd4-6317-4e6b-a5ea-92dbf06f2f91\"}}];\n",
       "  root.Bokeh.embed.embed_items_notebook(docs_json, render_items);\n",
       "\n",
       "  }\n",
       "  if (root.Bokeh !== undefined) {\n",
       "    embed_document(root);\n",
       "  } else {\n",
       "    var attempts = 0;\n",
       "    var timer = setInterval(function(root) {\n",
       "      if (root.Bokeh !== undefined) {\n",
       "        clearInterval(timer);\n",
       "        embed_document(root);\n",
       "      } else {\n",
       "        attempts++;\n",
       "        if (attempts > 100) {\n",
       "          clearInterval(timer);\n",
       "          console.log(\"Bokeh: ERROR: Unable to run BokehJS code because BokehJS library is missing\");\n",
       "        }\n",
       "      }\n",
       "    }, 10, root)\n",
       "  }\n",
       "})(window);"
      ],
      "application/vnd.bokehjs_exec.v0+json": ""
     },
     "metadata": {
      "application/vnd.bokehjs_exec.v0+json": {
       "id": "7321"
      }
     },
     "output_type": "display_data"
    }
   ],
   "source": [
    "fig = figure(title='trend for the daily vaccines done by range of age', \n",
    "             width=1000, \n",
    "             height=400,\n",
    "             x_axis_label='date',\n",
    "             y_axis_label='total',\n",
    "             x_axis_type='datetime')\n",
    "\n",
    "for p in fasce:\n",
    "    df_filtered = dati_vaccini.query('fascia_anagrafica==@p')[['data_somministrazione', 'totale_somministrazioni']].groupby('data_somministrazione').sum().cumsum()\n",
    "    fig.line(df_filtered.index, \n",
    "             df_filtered['totale_somministrazioni'], \n",
    "             color=colors[fasce.index(p)],\n",
    "             legend_label=p, \n",
    "             line_width=1.5)\n",
    "\n",
    "\n",
    "# add the hover tool\n",
    "fig.add_tools(HoverTool(\n",
    "    tooltips=[('data', '@x{%F}'), ('total', '@y')],\n",
    "    formatters=dict(x='datetime')\n",
    "))\n",
    "\n",
    "fig.add_tools(PanTool(dimensions='width'))\n",
    "fig.legend.location = 'top_left'\n",
    "fig.x_range.start = dati_vaccini['data_somministrazione'].min()\n",
    "    \n",
    "# Show the figure\n",
    "show(fig)"
   ]
  },
  {
   "cell_type": "code",
   "execution_count": null,
   "metadata": {},
   "outputs": [],
   "source": []
  }
 ],
 "metadata": {
  "kernelspec": {
   "display_name": "Python 3",
   "language": "python",
   "name": "python3"
  },
  "language_info": {
   "codemirror_mode": {
    "name": "ipython",
    "version": 3
   },
   "file_extension": ".py",
   "mimetype": "text/x-python",
   "name": "python",
   "nbconvert_exporter": "python",
   "pygments_lexer": "ipython3",
   "version": "3.8.3"
  }
 },
 "nbformat": 4,
 "nbformat_minor": 4
}
