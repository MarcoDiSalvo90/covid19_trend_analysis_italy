{
 "cells": [
  {
   "cell_type": "code",
   "execution_count": 1,
   "metadata": {},
   "outputs": [],
   "source": [
    "import glob\n",
    "import os\n",
    "import pandas as pd \n",
    "import matplotlib.pyplot as plt\n",
    "from random import choice\n",
    "from datetime import date\n",
    "\n",
    "from bokeh.plotting import figure, output_notebook, show\n",
    "from bokeh.models.tools import HoverTool, PanTool\n",
    "from bokeh.colors import named"
   ]
  },
  {
   "cell_type": "code",
   "execution_count": 2,
   "metadata": {},
   "outputs": [
    {
     "data": {
      "text/html": [
       "\n",
       "    <div class=\"bk-root\">\n",
       "        <a href=\"https://bokeh.org\" target=\"_blank\" class=\"bk-logo bk-logo-small bk-logo-notebook\"></a>\n",
       "        <span id=\"1001\">Loading BokehJS ...</span>\n",
       "    </div>"
      ]
     },
     "metadata": {},
     "output_type": "display_data"
    },
    {
     "data": {
      "application/javascript": [
       "\n",
       "(function(root) {\n",
       "  function now() {\n",
       "    return new Date();\n",
       "  }\n",
       "\n",
       "  var force = true;\n",
       "\n",
       "  if (typeof root._bokeh_onload_callbacks === \"undefined\" || force === true) {\n",
       "    root._bokeh_onload_callbacks = [];\n",
       "    root._bokeh_is_loading = undefined;\n",
       "  }\n",
       "\n",
       "  var JS_MIME_TYPE = 'application/javascript';\n",
       "  var HTML_MIME_TYPE = 'text/html';\n",
       "  var EXEC_MIME_TYPE = 'application/vnd.bokehjs_exec.v0+json';\n",
       "  var CLASS_NAME = 'output_bokeh rendered_html';\n",
       "\n",
       "  /**\n",
       "   * Render data to the DOM node\n",
       "   */\n",
       "  function render(props, node) {\n",
       "    var script = document.createElement(\"script\");\n",
       "    node.appendChild(script);\n",
       "  }\n",
       "\n",
       "  /**\n",
       "   * Handle when an output is cleared or removed\n",
       "   */\n",
       "  function handleClearOutput(event, handle) {\n",
       "    var cell = handle.cell;\n",
       "\n",
       "    var id = cell.output_area._bokeh_element_id;\n",
       "    var server_id = cell.output_area._bokeh_server_id;\n",
       "    // Clean up Bokeh references\n",
       "    if (id != null && id in Bokeh.index) {\n",
       "      Bokeh.index[id].model.document.clear();\n",
       "      delete Bokeh.index[id];\n",
       "    }\n",
       "\n",
       "    if (server_id !== undefined) {\n",
       "      // Clean up Bokeh references\n",
       "      var cmd = \"from bokeh.io.state import curstate; print(curstate().uuid_to_server['\" + server_id + \"'].get_sessions()[0].document.roots[0]._id)\";\n",
       "      cell.notebook.kernel.execute(cmd, {\n",
       "        iopub: {\n",
       "          output: function(msg) {\n",
       "            var id = msg.content.text.trim();\n",
       "            if (id in Bokeh.index) {\n",
       "              Bokeh.index[id].model.document.clear();\n",
       "              delete Bokeh.index[id];\n",
       "            }\n",
       "          }\n",
       "        }\n",
       "      });\n",
       "      // Destroy server and session\n",
       "      var cmd = \"import bokeh.io.notebook as ion; ion.destroy_server('\" + server_id + \"')\";\n",
       "      cell.notebook.kernel.execute(cmd);\n",
       "    }\n",
       "  }\n",
       "\n",
       "  /**\n",
       "   * Handle when a new output is added\n",
       "   */\n",
       "  function handleAddOutput(event, handle) {\n",
       "    var output_area = handle.output_area;\n",
       "    var output = handle.output;\n",
       "\n",
       "    // limit handleAddOutput to display_data with EXEC_MIME_TYPE content only\n",
       "    if ((output.output_type != \"display_data\") || (!output.data.hasOwnProperty(EXEC_MIME_TYPE))) {\n",
       "      return\n",
       "    }\n",
       "\n",
       "    var toinsert = output_area.element.find(\".\" + CLASS_NAME.split(' ')[0]);\n",
       "\n",
       "    if (output.metadata[EXEC_MIME_TYPE][\"id\"] !== undefined) {\n",
       "      toinsert[toinsert.length - 1].firstChild.textContent = output.data[JS_MIME_TYPE];\n",
       "      // store reference to embed id on output_area\n",
       "      output_area._bokeh_element_id = output.metadata[EXEC_MIME_TYPE][\"id\"];\n",
       "    }\n",
       "    if (output.metadata[EXEC_MIME_TYPE][\"server_id\"] !== undefined) {\n",
       "      var bk_div = document.createElement(\"div\");\n",
       "      bk_div.innerHTML = output.data[HTML_MIME_TYPE];\n",
       "      var script_attrs = bk_div.children[0].attributes;\n",
       "      for (var i = 0; i < script_attrs.length; i++) {\n",
       "        toinsert[toinsert.length - 1].firstChild.setAttribute(script_attrs[i].name, script_attrs[i].value);\n",
       "      }\n",
       "      // store reference to server id on output_area\n",
       "      output_area._bokeh_server_id = output.metadata[EXEC_MIME_TYPE][\"server_id\"];\n",
       "    }\n",
       "  }\n",
       "\n",
       "  function register_renderer(events, OutputArea) {\n",
       "\n",
       "    function append_mime(data, metadata, element) {\n",
       "      // create a DOM node to render to\n",
       "      var toinsert = this.create_output_subarea(\n",
       "        metadata,\n",
       "        CLASS_NAME,\n",
       "        EXEC_MIME_TYPE\n",
       "      );\n",
       "      this.keyboard_manager.register_events(toinsert);\n",
       "      // Render to node\n",
       "      var props = {data: data, metadata: metadata[EXEC_MIME_TYPE]};\n",
       "      render(props, toinsert[toinsert.length - 1]);\n",
       "      element.append(toinsert);\n",
       "      return toinsert\n",
       "    }\n",
       "\n",
       "    /* Handle when an output is cleared or removed */\n",
       "    events.on('clear_output.CodeCell', handleClearOutput);\n",
       "    events.on('delete.Cell', handleClearOutput);\n",
       "\n",
       "    /* Handle when a new output is added */\n",
       "    events.on('output_added.OutputArea', handleAddOutput);\n",
       "\n",
       "    /**\n",
       "     * Register the mime type and append_mime function with output_area\n",
       "     */\n",
       "    OutputArea.prototype.register_mime_type(EXEC_MIME_TYPE, append_mime, {\n",
       "      /* Is output safe? */\n",
       "      safe: true,\n",
       "      /* Index of renderer in `output_area.display_order` */\n",
       "      index: 0\n",
       "    });\n",
       "  }\n",
       "\n",
       "  // register the mime type if in Jupyter Notebook environment and previously unregistered\n",
       "  if (root.Jupyter !== undefined) {\n",
       "    var events = require('base/js/events');\n",
       "    var OutputArea = require('notebook/js/outputarea').OutputArea;\n",
       "\n",
       "    if (OutputArea.prototype.mime_types().indexOf(EXEC_MIME_TYPE) == -1) {\n",
       "      register_renderer(events, OutputArea);\n",
       "    }\n",
       "  }\n",
       "\n",
       "  \n",
       "  if (typeof (root._bokeh_timeout) === \"undefined\" || force === true) {\n",
       "    root._bokeh_timeout = Date.now() + 5000;\n",
       "    root._bokeh_failed_load = false;\n",
       "  }\n",
       "\n",
       "  var NB_LOAD_WARNING = {'data': {'text/html':\n",
       "     \"<div style='background-color: #fdd'>\\n\"+\n",
       "     \"<p>\\n\"+\n",
       "     \"BokehJS does not appear to have successfully loaded. If loading BokehJS from CDN, this \\n\"+\n",
       "     \"may be due to a slow or bad network connection. Possible fixes:\\n\"+\n",
       "     \"</p>\\n\"+\n",
       "     \"<ul>\\n\"+\n",
       "     \"<li>re-rerun `output_notebook()` to attempt to load from CDN again, or</li>\\n\"+\n",
       "     \"<li>use INLINE resources instead, as so:</li>\\n\"+\n",
       "     \"</ul>\\n\"+\n",
       "     \"<code>\\n\"+\n",
       "     \"from bokeh.resources import INLINE\\n\"+\n",
       "     \"output_notebook(resources=INLINE)\\n\"+\n",
       "     \"</code>\\n\"+\n",
       "     \"</div>\"}};\n",
       "\n",
       "  function display_loaded() {\n",
       "    var el = document.getElementById(\"1001\");\n",
       "    if (el != null) {\n",
       "      el.textContent = \"BokehJS is loading...\";\n",
       "    }\n",
       "    if (root.Bokeh !== undefined) {\n",
       "      if (el != null) {\n",
       "        el.textContent = \"BokehJS \" + root.Bokeh.version + \" successfully loaded.\";\n",
       "      }\n",
       "    } else if (Date.now() < root._bokeh_timeout) {\n",
       "      setTimeout(display_loaded, 100)\n",
       "    }\n",
       "  }\n",
       "\n",
       "\n",
       "  function run_callbacks() {\n",
       "    try {\n",
       "      root._bokeh_onload_callbacks.forEach(function(callback) {\n",
       "        if (callback != null)\n",
       "          callback();\n",
       "      });\n",
       "    } finally {\n",
       "      delete root._bokeh_onload_callbacks\n",
       "    }\n",
       "    console.debug(\"Bokeh: all callbacks have finished\");\n",
       "  }\n",
       "\n",
       "  function load_libs(css_urls, js_urls, callback) {\n",
       "    if (css_urls == null) css_urls = [];\n",
       "    if (js_urls == null) js_urls = [];\n",
       "\n",
       "    root._bokeh_onload_callbacks.push(callback);\n",
       "    if (root._bokeh_is_loading > 0) {\n",
       "      console.debug(\"Bokeh: BokehJS is being loaded, scheduling callback at\", now());\n",
       "      return null;\n",
       "    }\n",
       "    if (js_urls == null || js_urls.length === 0) {\n",
       "      run_callbacks();\n",
       "      return null;\n",
       "    }\n",
       "    console.debug(\"Bokeh: BokehJS not loaded, scheduling load and callback at\", now());\n",
       "    root._bokeh_is_loading = css_urls.length + js_urls.length;\n",
       "\n",
       "    function on_load() {\n",
       "      root._bokeh_is_loading--;\n",
       "      if (root._bokeh_is_loading === 0) {\n",
       "        console.debug(\"Bokeh: all BokehJS libraries/stylesheets loaded\");\n",
       "        run_callbacks()\n",
       "      }\n",
       "    }\n",
       "\n",
       "    function on_error() {\n",
       "      console.error(\"failed to load \" + url);\n",
       "    }\n",
       "\n",
       "    for (var i = 0; i < css_urls.length; i++) {\n",
       "      var url = css_urls[i];\n",
       "      const element = document.createElement(\"link\");\n",
       "      element.onload = on_load;\n",
       "      element.onerror = on_error;\n",
       "      element.rel = \"stylesheet\";\n",
       "      element.type = \"text/css\";\n",
       "      element.href = url;\n",
       "      console.debug(\"Bokeh: injecting link tag for BokehJS stylesheet: \", url);\n",
       "      document.body.appendChild(element);\n",
       "    }\n",
       "\n",
       "    for (var i = 0; i < js_urls.length; i++) {\n",
       "      var url = js_urls[i];\n",
       "      var element = document.createElement('script');\n",
       "      element.onload = on_load;\n",
       "      element.onerror = on_error;\n",
       "      element.async = false;\n",
       "      element.src = url;\n",
       "      console.debug(\"Bokeh: injecting script tag for BokehJS library: \", url);\n",
       "      document.head.appendChild(element);\n",
       "    }\n",
       "  };var element = document.getElementById(\"1001\");\n",
       "  if (element == null) {\n",
       "    console.error(\"Bokeh: ERROR: autoload.js configured with elementid '1001' but no matching script tag was found. \")\n",
       "    return false;\n",
       "  }\n",
       "\n",
       "  function inject_raw_css(css) {\n",
       "    const element = document.createElement(\"style\");\n",
       "    element.appendChild(document.createTextNode(css));\n",
       "    document.body.appendChild(element);\n",
       "  }\n",
       "\n",
       "  \n",
       "  var js_urls = [\"https://cdn.pydata.org/bokeh/release/bokeh-1.4.0.min.js\", \"https://cdn.pydata.org/bokeh/release/bokeh-widgets-1.4.0.min.js\", \"https://cdn.pydata.org/bokeh/release/bokeh-tables-1.4.0.min.js\", \"https://cdn.pydata.org/bokeh/release/bokeh-gl-1.4.0.min.js\"];\n",
       "  var css_urls = [];\n",
       "  \n",
       "\n",
       "  var inline_js = [\n",
       "    function(Bokeh) {\n",
       "      Bokeh.set_log_level(\"info\");\n",
       "    },\n",
       "    function(Bokeh) {\n",
       "    \n",
       "    \n",
       "    }\n",
       "  ];\n",
       "\n",
       "  function run_inline_js() {\n",
       "    \n",
       "    if (root.Bokeh !== undefined || force === true) {\n",
       "      \n",
       "    for (var i = 0; i < inline_js.length; i++) {\n",
       "      inline_js[i].call(root, root.Bokeh);\n",
       "    }\n",
       "    if (force === true) {\n",
       "        display_loaded();\n",
       "      }} else if (Date.now() < root._bokeh_timeout) {\n",
       "      setTimeout(run_inline_js, 100);\n",
       "    } else if (!root._bokeh_failed_load) {\n",
       "      console.log(\"Bokeh: BokehJS failed to load within specified timeout.\");\n",
       "      root._bokeh_failed_load = true;\n",
       "    } else if (force !== true) {\n",
       "      var cell = $(document.getElementById(\"1001\")).parents('.cell').data().cell;\n",
       "      cell.output_area.append_execute_result(NB_LOAD_WARNING)\n",
       "    }\n",
       "\n",
       "  }\n",
       "\n",
       "  if (root._bokeh_is_loading === 0) {\n",
       "    console.debug(\"Bokeh: BokehJS loaded, going straight to plotting\");\n",
       "    run_inline_js();\n",
       "  } else {\n",
       "    load_libs(css_urls, js_urls, function() {\n",
       "      console.debug(\"Bokeh: BokehJS plotting callback run at\", now());\n",
       "      run_inline_js();\n",
       "    });\n",
       "  }\n",
       "}(window));"
      ],
      "application/vnd.bokehjs_load.v0+json": "\n(function(root) {\n  function now() {\n    return new Date();\n  }\n\n  var force = true;\n\n  if (typeof root._bokeh_onload_callbacks === \"undefined\" || force === true) {\n    root._bokeh_onload_callbacks = [];\n    root._bokeh_is_loading = undefined;\n  }\n\n  \n\n  \n  if (typeof (root._bokeh_timeout) === \"undefined\" || force === true) {\n    root._bokeh_timeout = Date.now() + 5000;\n    root._bokeh_failed_load = false;\n  }\n\n  var NB_LOAD_WARNING = {'data': {'text/html':\n     \"<div style='background-color: #fdd'>\\n\"+\n     \"<p>\\n\"+\n     \"BokehJS does not appear to have successfully loaded. If loading BokehJS from CDN, this \\n\"+\n     \"may be due to a slow or bad network connection. Possible fixes:\\n\"+\n     \"</p>\\n\"+\n     \"<ul>\\n\"+\n     \"<li>re-rerun `output_notebook()` to attempt to load from CDN again, or</li>\\n\"+\n     \"<li>use INLINE resources instead, as so:</li>\\n\"+\n     \"</ul>\\n\"+\n     \"<code>\\n\"+\n     \"from bokeh.resources import INLINE\\n\"+\n     \"output_notebook(resources=INLINE)\\n\"+\n     \"</code>\\n\"+\n     \"</div>\"}};\n\n  function display_loaded() {\n    var el = document.getElementById(\"1001\");\n    if (el != null) {\n      el.textContent = \"BokehJS is loading...\";\n    }\n    if (root.Bokeh !== undefined) {\n      if (el != null) {\n        el.textContent = \"BokehJS \" + root.Bokeh.version + \" successfully loaded.\";\n      }\n    } else if (Date.now() < root._bokeh_timeout) {\n      setTimeout(display_loaded, 100)\n    }\n  }\n\n\n  function run_callbacks() {\n    try {\n      root._bokeh_onload_callbacks.forEach(function(callback) {\n        if (callback != null)\n          callback();\n      });\n    } finally {\n      delete root._bokeh_onload_callbacks\n    }\n    console.debug(\"Bokeh: all callbacks have finished\");\n  }\n\n  function load_libs(css_urls, js_urls, callback) {\n    if (css_urls == null) css_urls = [];\n    if (js_urls == null) js_urls = [];\n\n    root._bokeh_onload_callbacks.push(callback);\n    if (root._bokeh_is_loading > 0) {\n      console.debug(\"Bokeh: BokehJS is being loaded, scheduling callback at\", now());\n      return null;\n    }\n    if (js_urls == null || js_urls.length === 0) {\n      run_callbacks();\n      return null;\n    }\n    console.debug(\"Bokeh: BokehJS not loaded, scheduling load and callback at\", now());\n    root._bokeh_is_loading = css_urls.length + js_urls.length;\n\n    function on_load() {\n      root._bokeh_is_loading--;\n      if (root._bokeh_is_loading === 0) {\n        console.debug(\"Bokeh: all BokehJS libraries/stylesheets loaded\");\n        run_callbacks()\n      }\n    }\n\n    function on_error() {\n      console.error(\"failed to load \" + url);\n    }\n\n    for (var i = 0; i < css_urls.length; i++) {\n      var url = css_urls[i];\n      const element = document.createElement(\"link\");\n      element.onload = on_load;\n      element.onerror = on_error;\n      element.rel = \"stylesheet\";\n      element.type = \"text/css\";\n      element.href = url;\n      console.debug(\"Bokeh: injecting link tag for BokehJS stylesheet: \", url);\n      document.body.appendChild(element);\n    }\n\n    for (var i = 0; i < js_urls.length; i++) {\n      var url = js_urls[i];\n      var element = document.createElement('script');\n      element.onload = on_load;\n      element.onerror = on_error;\n      element.async = false;\n      element.src = url;\n      console.debug(\"Bokeh: injecting script tag for BokehJS library: \", url);\n      document.head.appendChild(element);\n    }\n  };var element = document.getElementById(\"1001\");\n  if (element == null) {\n    console.error(\"Bokeh: ERROR: autoload.js configured with elementid '1001' but no matching script tag was found. \")\n    return false;\n  }\n\n  function inject_raw_css(css) {\n    const element = document.createElement(\"style\");\n    element.appendChild(document.createTextNode(css));\n    document.body.appendChild(element);\n  }\n\n  \n  var js_urls = [\"https://cdn.pydata.org/bokeh/release/bokeh-1.4.0.min.js\", \"https://cdn.pydata.org/bokeh/release/bokeh-widgets-1.4.0.min.js\", \"https://cdn.pydata.org/bokeh/release/bokeh-tables-1.4.0.min.js\", \"https://cdn.pydata.org/bokeh/release/bokeh-gl-1.4.0.min.js\"];\n  var css_urls = [];\n  \n\n  var inline_js = [\n    function(Bokeh) {\n      Bokeh.set_log_level(\"info\");\n    },\n    function(Bokeh) {\n    \n    \n    }\n  ];\n\n  function run_inline_js() {\n    \n    if (root.Bokeh !== undefined || force === true) {\n      \n    for (var i = 0; i < inline_js.length; i++) {\n      inline_js[i].call(root, root.Bokeh);\n    }\n    if (force === true) {\n        display_loaded();\n      }} else if (Date.now() < root._bokeh_timeout) {\n      setTimeout(run_inline_js, 100);\n    } else if (!root._bokeh_failed_load) {\n      console.log(\"Bokeh: BokehJS failed to load within specified timeout.\");\n      root._bokeh_failed_load = true;\n    } else if (force !== true) {\n      var cell = $(document.getElementById(\"1001\")).parents('.cell').data().cell;\n      cell.output_area.append_execute_result(NB_LOAD_WARNING)\n    }\n\n  }\n\n  if (root._bokeh_is_loading === 0) {\n    console.debug(\"Bokeh: BokehJS loaded, going straight to plotting\");\n    run_inline_js();\n  } else {\n    load_libs(css_urls, js_urls, function() {\n      console.debug(\"Bokeh: BokehJS plotting callback run at\", now());\n      run_inline_js();\n    });\n  }\n}(window));"
     },
     "metadata": {},
     "output_type": "display_data"
    }
   ],
   "source": [
    "output_notebook()"
   ]
  },
  {
   "cell_type": "markdown",
   "metadata": {},
   "source": [
    "# COVID-19 INFECTIONS TREND ANALYSIS"
   ]
  },
  {
   "cell_type": "markdown",
   "metadata": {},
   "source": [
    "In this section you can find an analysis of COVID-19 infections, both in a cumulative way and for day, related to:\n",
    "\n",
    "- all the Italy globally considered;\n",
    "- some regions of the Italy;\n",
    "- some provinces;\n",
    "- hospitalizations, healed and dead people"
   ]
  },
  {
   "cell_type": "code",
   "execution_count": 3,
   "metadata": {},
   "outputs": [],
   "source": [
    "nat_path = \"infections/dati-andamento-nazionale/dpc-covid19-ita-andamento-nazionale-*.csv\""
   ]
  },
  {
   "cell_type": "code",
   "execution_count": 4,
   "metadata": {},
   "outputs": [],
   "source": [
    "df = pd.concat(map(pd.read_csv, glob.glob(os.path.join('', f\"{nat_path}\"))))"
   ]
  },
  {
   "cell_type": "code",
   "execution_count": 5,
   "metadata": {},
   "outputs": [],
   "source": [
    "df.sort_values(by='data', inplace=True)"
   ]
  },
  {
   "cell_type": "code",
   "execution_count": 6,
   "metadata": {},
   "outputs": [],
   "source": [
    "df['only_data'] = pd.to_datetime(df['data']).dt.date"
   ]
  },
  {
   "cell_type": "markdown",
   "metadata": {},
   "source": [
    "## Italy globally considered"
   ]
  },
  {
   "cell_type": "code",
   "execution_count": 7,
   "metadata": {},
   "outputs": [
    {
     "data": {
      "text/html": [
       "\n",
       "\n",
       "\n",
       "\n",
       "\n",
       "\n",
       "  <div class=\"bk-root\" id=\"9519521e-ffa7-4ecb-995d-b7345ca7a7ce\" data-root-id=\"1002\"></div>\n"
      ]
     },
     "metadata": {},
     "output_type": "display_data"
    },
    {
     "data": {
      "application/javascript": [
       "(function(root) {\n",
       "  function embed_document(root) {\n",
       "    \n",
       "  var docs_json = {\"86e19f32-e39c-4b0d-bfe4-e801645663cb\":{\"roots\":{\"references\":[{\"attributes\":{\"below\":[{\"id\":\"1013\",\"type\":\"DatetimeAxis\"}],\"center\":[{\"id\":\"1017\",\"type\":\"Grid\"},{\"id\":\"1022\",\"type\":\"Grid\"}],\"left\":[{\"id\":\"1018\",\"type\":\"LinearAxis\"}],\"plot_height\":400,\"plot_width\":800,\"renderers\":[{\"id\":\"1039\",\"type\":\"GlyphRenderer\"}],\"title\":{\"id\":\"1003\",\"type\":\"Title\"},\"toolbar\":{\"id\":\"1029\",\"type\":\"Toolbar\"},\"x_range\":{\"id\":\"1005\",\"type\":\"DataRange1d\"},\"x_scale\":{\"id\":\"1009\",\"type\":\"LinearScale\"},\"y_range\":{\"id\":\"1007\",\"type\":\"DataRange1d\"},\"y_scale\":{\"id\":\"1011\",\"type\":\"LinearScale\"}},\"id\":\"1002\",\"subtype\":\"Figure\",\"type\":\"Plot\"},{\"attributes\":{\"days\":[1,15]},\"id\":\"1056\",\"type\":\"DaysTicker\"},{\"attributes\":{\"dimension\":1,\"ticker\":{\"id\":\"1019\",\"type\":\"BasicTicker\"}},\"id\":\"1022\",\"type\":\"Grid\"},{\"attributes\":{\"months\":[0,6]},\"id\":\"1060\",\"type\":\"MonthsTicker\"},{\"attributes\":{\"days\":[1,2,3,4,5,6,7,8,9,10,11,12,13,14,15,16,17,18,19,20,21,22,23,24,25,26,27,28,29,30,31]},\"id\":\"1053\",\"type\":\"DaysTicker\"},{\"attributes\":{\"line_alpha\":0.1,\"line_color\":\"#1f77b4\",\"line_width\":2,\"x\":{\"field\":\"x\"},\"y\":{\"field\":\"y\"}},\"id\":\"1038\",\"type\":\"Line\"},{\"attributes\":{\"axis_label\":\"infected\",\"formatter\":{\"id\":\"1044\",\"type\":\"BasicTickFormatter\"},\"ticker\":{\"id\":\"1019\",\"type\":\"BasicTicker\"}},\"id\":\"1018\",\"type\":\"LinearAxis\"},{\"attributes\":{},\"id\":\"1019\",\"type\":\"BasicTicker\"},{\"attributes\":{\"months\":[0,1,2,3,4,5,6,7,8,9,10,11]},\"id\":\"1057\",\"type\":\"MonthsTicker\"},{\"attributes\":{\"axis_label\":\"date\",\"formatter\":{\"id\":\"1046\",\"type\":\"DatetimeTickFormatter\"},\"ticker\":{\"id\":\"1014\",\"type\":\"DatetimeTicker\"}},\"id\":\"1013\",\"type\":\"DatetimeAxis\"},{\"attributes\":{\"callback\":null,\"start\":1582502400000.0},\"id\":\"1005\",\"type\":\"DataRange1d\"},{\"attributes\":{\"overlay\":{\"id\":\"1062\",\"type\":\"BoxAnnotation\"}},\"id\":\"1025\",\"type\":\"BoxZoomTool\"},{\"attributes\":{},\"id\":\"1011\",\"type\":\"LinearScale\"},{\"attributes\":{},\"id\":\"1028\",\"type\":\"HelpTool\"},{\"attributes\":{\"months\":[0,2,4,6,8,10]},\"id\":\"1058\",\"type\":\"MonthsTicker\"},{\"attributes\":{\"months\":[0,4,8]},\"id\":\"1059\",\"type\":\"MonthsTicker\"},{\"attributes\":{\"num_minor_ticks\":5,\"tickers\":[{\"id\":\"1050\",\"type\":\"AdaptiveTicker\"},{\"id\":\"1051\",\"type\":\"AdaptiveTicker\"},{\"id\":\"1052\",\"type\":\"AdaptiveTicker\"},{\"id\":\"1053\",\"type\":\"DaysTicker\"},{\"id\":\"1054\",\"type\":\"DaysTicker\"},{\"id\":\"1055\",\"type\":\"DaysTicker\"},{\"id\":\"1056\",\"type\":\"DaysTicker\"},{\"id\":\"1057\",\"type\":\"MonthsTicker\"},{\"id\":\"1058\",\"type\":\"MonthsTicker\"},{\"id\":\"1059\",\"type\":\"MonthsTicker\"},{\"id\":\"1060\",\"type\":\"MonthsTicker\"},{\"id\":\"1061\",\"type\":\"YearsTicker\"}]},\"id\":\"1014\",\"type\":\"DatetimeTicker\"},{\"attributes\":{\"callback\":null,\"formatters\":{\"x\":\"datetime\"},\"tooltips\":[[\"date\",\"@x{%F}\"],[\"total current infected\",\"@y\"]]},\"id\":\"1041\",\"type\":\"HoverTool\"},{\"attributes\":{},\"id\":\"1049\",\"type\":\"UnionRenderers\"},{\"attributes\":{},\"id\":\"1026\",\"type\":\"SaveTool\"},{\"attributes\":{\"source\":{\"id\":\"1036\",\"type\":\"ColumnDataSource\"}},\"id\":\"1040\",\"type\":\"CDSView\"},{\"attributes\":{\"days\":[1,4,7,10,13,16,19,22,25,28]},\"id\":\"1054\",\"type\":\"DaysTicker\"},{\"attributes\":{\"callback\":null,\"data\":{\"x\":[1582502400000.0,1582588800000.0,1582675200000.0,1582761600000.0,1582848000000.0,1582934400000.0,1583020800000.0,1583107200000.0,1583193600000.0,1583280000000.0,1583366400000.0,1583452800000.0,1583539200000.0,1583625600000.0,1583712000000.0,1583798400000.0,1583884800000.0,1583971200000.0,1584057600000.0,1584144000000.0,1584230400000.0,1584316800000.0,1584403200000.0,1584489600000.0,1584576000000.0,1584662400000.0,1584748800000.0,1584835200000.0,1584921600000.0,1585008000000.0,1585094400000.0,1585180800000.0,1585267200000.0,1585353600000.0,1585440000000.0,1585526400000.0,1585612800000.0,1585699200000.0,1585785600000.0,1585872000000.0,1585958400000.0,1586044800000.0,1586131200000.0,1586217600000.0,1586304000000.0,1586390400000.0,1586476800000.0,1586563200000.0,1586649600000.0,1586736000000.0,1586822400000.0,1586908800000.0,1586995200000.0,1587081600000.0,1587168000000.0,1587254400000.0,1587340800000.0,1587427200000.0,1587513600000.0,1587600000000.0,1587686400000.0,1587772800000.0,1587859200000.0,1587945600000.0,1588032000000.0,1588118400000.0,1588204800000.0,1588291200000.0,1588377600000.0,1588464000000.0,1588550400000.0,1588636800000.0,1588723200000.0,1588809600000.0,1588896000000.0,1588982400000.0,1589068800000.0,1589155200000.0,1589241600000.0,1589328000000.0,1589414400000.0,1589500800000.0,1589587200000.0,1589673600000.0,1589760000000.0,1589846400000.0,1589932800000.0,1590019200000.0,1590105600000.0,1590192000000.0,1590278400000.0,1590364800000.0,1590451200000.0,1590537600000.0,1590624000000.0,1590710400000.0,1590796800000.0,1590883200000.0,1590969600000.0,1591056000000.0,1591142400000.0,1591228800000.0,1591315200000.0,1591401600000.0,1591488000000.0,1591574400000.0,1591660800000.0,1591747200000.0,1591833600000.0,1591920000000.0,1592006400000.0,1592092800000.0,1592179200000.0,1592265600000.0,1592352000000.0,1592438400000.0,1592524800000.0,1592611200000.0,1592697600000.0,1592784000000.0,1592870400000.0,1592956800000.0,1593043200000.0,1593129600000.0,1593216000000.0,1593302400000.0,1593388800000.0,1593475200000.0,1593561600000.0,1593648000000.0,1593734400000.0,1593820800000.0,1593907200000.0,1593993600000.0,1594080000000.0,1594166400000.0,1594252800000.0,1594339200000.0,1594425600000.0,1594512000000.0,1594598400000.0,1594684800000.0,1594771200000.0,1594857600000.0,1594944000000.0,1595030400000.0,1595116800000.0,1595203200000.0,1595289600000.0,1595376000000.0,1595462400000.0,1595548800000.0,1595635200000.0,1595721600000.0,1595808000000.0,1595894400000.0,1595980800000.0,1596067200000.0,1596153600000.0,1596240000000.0,1596326400000.0,1596412800000.0,1596499200000.0,1596585600000.0,1596672000000.0,1596758400000.0,1596844800000.0,1596931200000.0,1597017600000.0,1597104000000.0,1597190400000.0,1597276800000.0,1597363200000.0,1597449600000.0,1597536000000.0,1597622400000.0,1597708800000.0,1597795200000.0,1597881600000.0,1597968000000.0,1598054400000.0,1598140800000.0,1598227200000.0,1598313600000.0,1598400000000.0,1598486400000.0,1598572800000.0,1598659200000.0,1598745600000.0,1598832000000.0,1598918400000.0,1599004800000.0,1599091200000.0,1599177600000.0,1599264000000.0,1599350400000.0,1599436800000.0,1599523200000.0,1599609600000.0,1599696000000.0,1599782400000.0,1599868800000.0,1599955200000.0,1600041600000.0,1600128000000.0,1600214400000.0,1600300800000.0,1600387200000.0,1600473600000.0,1600560000000.0,1600646400000.0,1600732800000.0,1600819200000.0,1600905600000.0,1600992000000.0,1601078400000.0,1601164800000.0,1601251200000.0,1601337600000.0,1601424000000.0,1601510400000.0,1601596800000.0,1601683200000.0,1601769600000.0,1601856000000.0,1601942400000.0,1602028800000.0,1602115200000.0,1602201600000.0,1602288000000.0,1602374400000.0,1602460800000.0,1602547200000.0,1602633600000.0,1602720000000.0,1602806400000.0,1602892800000.0,1602979200000.0,1603065600000.0,1603152000000.0,1603238400000.0,1603324800000.0,1603411200000.0,1603497600000.0,1603584000000.0,1603670400000.0,1603756800000.0,1603843200000.0,1603929600000.0,1604016000000.0,1604102400000.0,1604188800000.0,1604275200000.0,1604361600000.0,1604448000000.0,1604534400000.0,1604620800000.0,1604707200000.0,1604793600000.0,1604880000000.0,1604966400000.0,1605052800000.0,1605139200000.0,1605225600000.0,1605312000000.0,1605398400000.0,1605484800000.0,1605571200000.0,1605657600000.0,1605744000000.0,1605830400000.0,1605916800000.0,1606003200000.0,1606089600000.0,1606176000000.0,1606262400000.0,1606348800000.0,1606435200000.0,1606521600000.0,1606608000000.0,1606694400000.0,1606780800000.0,1606867200000.0,1606953600000.0,1607040000000.0,1607126400000.0,1607212800000.0,1607299200000.0,1607385600000.0,1607472000000.0,1607558400000.0,1607644800000.0,1607731200000.0,1607817600000.0,1607904000000.0,1607990400000.0,1608076800000.0,1608163200000.0,1608249600000.0,1608336000000.0,1608422400000.0,1608508800000.0,1608595200000.0,1608681600000.0,1608768000000.0,1608854400000.0,1608940800000.0,1609027200000.0,1609113600000.0,1609200000000.0,1609286400000.0,1609372800000.0,1609459200000.0,1609545600000.0,1609632000000.0,1609718400000.0,1609804800000.0,1609891200000.0,1609977600000.0,1610064000000.0,1610150400000.0,1610236800000.0,1610323200000.0,1610409600000.0,1610496000000.0,1610582400000.0,1610668800000.0,1610755200000.0,1610841600000.0,1610928000000.0,1611014400000.0,1611100800000.0,1611187200000.0,1611273600000.0,1611360000000.0,1611446400000.0,1611532800000.0,1611619200000.0,1611705600000.0,1611792000000.0,1611878400000.0,1611964800000.0,1612051200000.0,1612137600000.0,1612224000000.0,1612310400000.0,1612396800000.0,1612483200000.0,1612569600000.0,1612656000000.0,1612742400000.0,1612828800000.0,1612915200000.0,1613001600000.0,1613088000000.0,1613174400000.0,1613260800000.0,1613347200000.0,1613433600000.0,1613520000000.0,1613606400000.0,1613692800000.0,1613779200000.0,1613865600000.0,1613952000000.0,1614038400000.0,1614124800000.0,1614211200000.0,1614297600000.0,1614384000000.0,1614470400000.0,1614556800000.0,1614643200000.0,1614729600000.0,1614816000000.0,1614902400000.0,1614988800000.0,1615075200000.0,1615161600000.0,1615248000000.0,1615334400000.0,1615420800000.0,1615507200000.0,1615593600000.0,1615680000000.0,1615766400000.0,1615852800000.0,1615939200000.0,1616025600000.0,1616112000000.0,1616198400000.0,1616284800000.0,1616371200000.0,1616457600000.0,1616544000000.0,1616630400000.0,1616716800000.0,1616803200000.0,1616889600000.0,1616976000000.0,1617062400000.0,1617148800000.0,1617235200000.0,1617321600000.0,1617408000000.0,1617494400000.0,1617580800000.0,1617667200000.0,1617753600000.0,1617840000000.0,1617926400000.0,1618012800000.0,1618099200000.0,1618185600000.0,1618272000000.0,1618358400000.0,1618444800000.0,1618531200000.0,1618617600000.0,1618704000000.0,1618790400000.0,1618876800000.0,1618963200000.0,1619049600000.0,1619136000000.0,1619222400000.0,1619308800000.0,1619395200000.0,1619481600000.0,1619568000000.0,1619654400000.0,1619740800000.0,1619740800000.0],\"y\":[221,311,385,588,821,1049,1577,1835,2263,2706,3296,3916,5061,6387,7985,8514,10590,12839,14955,17750,20603,23073,26062,28710,33190,37860,42681,46638,50418,54030,57521,62013,66414,70065,73880,75528,77635,80572,83049,85388,88274,91246,93187,94067,95262,96877,98273,100269,102253,103616,104291,105418,106607,106962,107771,108257,108237,107709,107699,106848,106527,105847,106103,105813,105205,104657,101551,100943,100704,100179,99980,98467,91528,89624,87961,84842,83324,82488,81266,78457,76440,72070,70187,68351,66553,65129,62752,60960,59322,57752,56594,55300,52942,50966,47986,46175,43691,42097,41367,39893,39297,38429,36976,35877,35262,34730,32872,31710,30637,28997,27485,26274,25909,24569,23925,23101,21543,21212,20972,20637,19573,18655,18303,17638,16836,16681,16496,15563,15255,15060,14884,14621,14642,14709,14242,13595,13459,13428,13303,13179,13157,12919,12493,12473,12456,12368,12440,12404,12248,12322,12404,12301,12442,12565,12581,12609,12616,12230,12422,12457,12456,12474,12482,12646,12694,12924,12953,13263,13368,13561,13791,14081,14249,14406,14733,14867,15089,15360,16014,16678,17503,18438,19195,19714,20753,21932,23035,24156,25205,26078,26754,27817,28915,30099,31194,32078,32993,33789,34734,35708,36767,37503,38509,39187,39712,40532,41413,42457,43161,44098,45079,45489,46114,46780,47718,48593,49618,50323,50630,51263,52647,53997,55566,57429,58903,60134,62576,65952,70110,74829,79075,82764,87193,92445,99266,107312,116935,126237,134003,142739,155442,169302,186002,203182,222241,236684,255090,276457,299191,325786,351386,378129,396512,418142,443235,472348,499118,532536,558636,573334,590110,613358,635054,663926,688435,712490,717784,733810,743168,761671,777176,791746,805947,796849,798386,791697,795845,787893,789308,795771,788471,779945,761230,759982,757702,754169,755306,748819,737525,710515,696527,690323,684848,686031,675109,663313,645706,635343,627798,620166,622760,613582,605955,598816,593632,579886,580943,581760,575221,568728,564395,569896,574767,577062,576214,570458,569161,568712,571055,570389,572842,579932,575979,570040,564774,561380,558068,557717,553374,547059,535524,523553,516568,502053,498834,499278,491630,482417,477969,474617,467824,463352,453968,447589,437765,434722,430277,429118,427034,427024,419604,413967,410111,405019,402174,401413,402783,398098,393686,388864,384501,382448,384623,388895,387903,387948,389433,396143,404664,411966,422367,424333,430996,437421,446439,456470,465812,472862,472533,478883,487074,497350,509317,520061,531266,530357,536115,539008,547510,556539,565453,571672,563067,560654,561308,562958,566711,571815,573172,565930,562765,561053,563479,565295,564855,569035,570096,555705,547837,544330,536361,533085,533005,524417,519220,514660,510023,506738,505308,504611,493489,482715,475635,472196,465543,461448,461212,452812,448149,442771,438709,436270,436270]},\"selected\":{\"id\":\"1048\",\"type\":\"Selection\"},\"selection_policy\":{\"id\":\"1049\",\"type\":\"UnionRenderers\"}},\"id\":\"1036\",\"type\":\"ColumnDataSource\"},{\"attributes\":{\"base\":24,\"mantissas\":[1,2,4,6,8,12],\"max_interval\":43200000.0,\"min_interval\":3600000.0,\"num_minor_ticks\":0},\"id\":\"1052\",\"type\":\"AdaptiveTicker\"},{\"attributes\":{\"text\":\"Total current infected\"},\"id\":\"1003\",\"type\":\"Title\"},{\"attributes\":{},\"id\":\"1023\",\"type\":\"PanTool\"},{\"attributes\":{\"base\":60,\"mantissas\":[1,2,5,10,15,20,30],\"max_interval\":1800000.0,\"min_interval\":1000.0,\"num_minor_ticks\":0},\"id\":\"1051\",\"type\":\"AdaptiveTicker\"},{\"attributes\":{},\"id\":\"1046\",\"type\":\"DatetimeTickFormatter\"},{\"attributes\":{\"callback\":null},\"id\":\"1007\",\"type\":\"DataRange1d\"},{\"attributes\":{},\"id\":\"1027\",\"type\":\"ResetTool\"},{\"attributes\":{\"bottom_units\":\"screen\",\"fill_alpha\":{\"value\":0.5},\"fill_color\":{\"value\":\"lightgrey\"},\"left_units\":\"screen\",\"level\":\"overlay\",\"line_alpha\":{\"value\":1.0},\"line_color\":{\"value\":\"black\"},\"line_dash\":[4,4],\"line_width\":{\"value\":2},\"render_mode\":\"css\",\"right_units\":\"screen\",\"top_units\":\"screen\"},\"id\":\"1062\",\"type\":\"BoxAnnotation\"},{\"attributes\":{},\"id\":\"1044\",\"type\":\"BasicTickFormatter\"},{\"attributes\":{\"active_drag\":\"auto\",\"active_inspect\":\"auto\",\"active_multi\":null,\"active_scroll\":\"auto\",\"active_tap\":\"auto\",\"tools\":[{\"id\":\"1023\",\"type\":\"PanTool\"},{\"id\":\"1024\",\"type\":\"WheelZoomTool\"},{\"id\":\"1025\",\"type\":\"BoxZoomTool\"},{\"id\":\"1026\",\"type\":\"SaveTool\"},{\"id\":\"1027\",\"type\":\"ResetTool\"},{\"id\":\"1028\",\"type\":\"HelpTool\"},{\"id\":\"1041\",\"type\":\"HoverTool\"}]},\"id\":\"1029\",\"type\":\"Toolbar\"},{\"attributes\":{},\"id\":\"1024\",\"type\":\"WheelZoomTool\"},{\"attributes\":{},\"id\":\"1061\",\"type\":\"YearsTicker\"},{\"attributes\":{},\"id\":\"1048\",\"type\":\"Selection\"},{\"attributes\":{\"data_source\":{\"id\":\"1036\",\"type\":\"ColumnDataSource\"},\"glyph\":{\"id\":\"1037\",\"type\":\"Line\"},\"hover_glyph\":null,\"muted_glyph\":null,\"nonselection_glyph\":{\"id\":\"1038\",\"type\":\"Line\"},\"selection_glyph\":null,\"view\":{\"id\":\"1040\",\"type\":\"CDSView\"}},\"id\":\"1039\",\"type\":\"GlyphRenderer\"},{\"attributes\":{},\"id\":\"1009\",\"type\":\"LinearScale\"},{\"attributes\":{\"mantissas\":[1,2,5],\"max_interval\":500.0,\"num_minor_ticks\":0},\"id\":\"1050\",\"type\":\"AdaptiveTicker\"},{\"attributes\":{\"days\":[1,8,15,22]},\"id\":\"1055\",\"type\":\"DaysTicker\"},{\"attributes\":{\"line_alpha\":0.8,\"line_color\":\"#1f77b4\",\"line_width\":2,\"x\":{\"field\":\"x\"},\"y\":{\"field\":\"y\"}},\"id\":\"1037\",\"type\":\"Line\"},{\"attributes\":{\"ticker\":{\"id\":\"1014\",\"type\":\"DatetimeTicker\"}},\"id\":\"1017\",\"type\":\"Grid\"}],\"root_ids\":[\"1002\"]},\"title\":\"Bokeh Application\",\"version\":\"1.4.0\"}};\n",
       "  var render_items = [{\"docid\":\"86e19f32-e39c-4b0d-bfe4-e801645663cb\",\"roots\":{\"1002\":\"9519521e-ffa7-4ecb-995d-b7345ca7a7ce\"}}];\n",
       "  root.Bokeh.embed.embed_items_notebook(docs_json, render_items);\n",
       "\n",
       "  }\n",
       "  if (root.Bokeh !== undefined) {\n",
       "    embed_document(root);\n",
       "  } else {\n",
       "    var attempts = 0;\n",
       "    var timer = setInterval(function(root) {\n",
       "      if (root.Bokeh !== undefined) {\n",
       "        clearInterval(timer);\n",
       "        embed_document(root);\n",
       "      } else {\n",
       "        attempts++;\n",
       "        if (attempts > 100) {\n",
       "          clearInterval(timer);\n",
       "          console.log(\"Bokeh: ERROR: Unable to run BokehJS code because BokehJS library is missing\");\n",
       "        }\n",
       "      }\n",
       "    }, 10, root)\n",
       "  }\n",
       "})(window);"
      ],
      "application/vnd.bokehjs_exec.v0+json": ""
     },
     "metadata": {
      "application/vnd.bokehjs_exec.v0+json": {
       "id": "1002"
      }
     },
     "output_type": "display_data"
    }
   ],
   "source": [
    "fig = figure(title='Total current infected',\n",
    "             x_axis_label='date',\n",
    "             y_axis_label='infected',\n",
    "             width=800,\n",
    "             height=400,\n",
    "             x_axis_type='datetime')\n",
    "\n",
    "fig.line(df['only_data'],\n",
    "         df['totale_positivi'],\n",
    "         line_alpha=0.8, \n",
    "         line_width=2)\n",
    "\n",
    "fig.add_tools(HoverTool(\n",
    "    tooltips=[('date', '@x{%F}'), ('total current infected', '@y')],\n",
    "    formatters=dict(x='datetime')\n",
    "))\n",
    "fig.x_range.start = df['only_data'].min()\n",
    "\n",
    "show(fig)"
   ]
  },
  {
   "cell_type": "code",
   "execution_count": 8,
   "metadata": {},
   "outputs": [
    {
     "data": {
      "text/html": [
       "\n",
       "\n",
       "\n",
       "\n",
       "\n",
       "\n",
       "  <div class=\"bk-root\" id=\"e9c8461b-cbdb-4dcd-ad68-030ad4492404\" data-root-id=\"1183\"></div>\n"
      ]
     },
     "metadata": {},
     "output_type": "display_data"
    },
    {
     "data": {
      "application/javascript": [
       "(function(root) {\n",
       "  function embed_document(root) {\n",
       "    \n",
       "  var docs_json = {\"ff2b3291-9051-4433-b43b-d26bd828a9c6\":{\"roots\":{\"references\":[{\"attributes\":{\"below\":[{\"id\":\"1194\",\"type\":\"DatetimeAxis\"}],\"center\":[{\"id\":\"1198\",\"type\":\"Grid\"},{\"id\":\"1203\",\"type\":\"Grid\"}],\"left\":[{\"id\":\"1199\",\"type\":\"LinearAxis\"}],\"plot_height\":400,\"plot_width\":800,\"renderers\":[{\"id\":\"1220\",\"type\":\"GlyphRenderer\"}],\"title\":{\"id\":\"1184\",\"type\":\"Title\"},\"toolbar\":{\"id\":\"1210\",\"type\":\"Toolbar\"},\"x_range\":{\"id\":\"1186\",\"type\":\"DataRange1d\"},\"x_scale\":{\"id\":\"1190\",\"type\":\"LinearScale\"},\"y_range\":{\"id\":\"1188\",\"type\":\"DataRange1d\"},\"y_scale\":{\"id\":\"1192\",\"type\":\"LinearScale\"}},\"id\":\"1183\",\"subtype\":\"Figure\",\"type\":\"Plot\"},{\"attributes\":{\"axis_label\":\"new infected\",\"formatter\":{\"id\":\"1248\",\"type\":\"BasicTickFormatter\"},\"ticker\":{\"id\":\"1200\",\"type\":\"BasicTicker\"}},\"id\":\"1199\",\"type\":\"LinearAxis\"},{\"attributes\":{\"overlay\":{\"id\":\"1266\",\"type\":\"BoxAnnotation\"}},\"id\":\"1206\",\"type\":\"BoxZoomTool\"},{\"attributes\":{},\"id\":\"1252\",\"type\":\"Selection\"},{\"attributes\":{\"base\":60,\"mantissas\":[1,2,5,10,15,20,30],\"max_interval\":1800000.0,\"min_interval\":1000.0,\"num_minor_ticks\":0},\"id\":\"1255\",\"type\":\"AdaptiveTicker\"},{\"attributes\":{\"callback\":null,\"formatters\":{\"x\":\"datetime\"},\"tooltips\":[[\"date\",\"@x{%F}\"],[\"new infected\",\"@y\"]]},\"id\":\"1222\",\"type\":\"HoverTool\"},{\"attributes\":{},\"id\":\"1200\",\"type\":\"BasicTicker\"},{\"attributes\":{\"months\":[0,1,2,3,4,5,6,7,8,9,10,11]},\"id\":\"1261\",\"type\":\"MonthsTicker\"},{\"attributes\":{\"callback\":null,\"start\":1582502400000.0},\"id\":\"1186\",\"type\":\"DataRange1d\"},{\"attributes\":{},\"id\":\"1208\",\"type\":\"ResetTool\"},{\"attributes\":{},\"id\":\"1204\",\"type\":\"PanTool\"},{\"attributes\":{},\"id\":\"1250\",\"type\":\"DatetimeTickFormatter\"},{\"attributes\":{\"dimension\":1,\"ticker\":{\"id\":\"1200\",\"type\":\"BasicTicker\"}},\"id\":\"1203\",\"type\":\"Grid\"},{\"attributes\":{},\"id\":\"1209\",\"type\":\"HelpTool\"},{\"attributes\":{\"months\":[0,2,4,6,8,10]},\"id\":\"1262\",\"type\":\"MonthsTicker\"},{\"attributes\":{\"num_minor_ticks\":5,\"tickers\":[{\"id\":\"1254\",\"type\":\"AdaptiveTicker\"},{\"id\":\"1255\",\"type\":\"AdaptiveTicker\"},{\"id\":\"1256\",\"type\":\"AdaptiveTicker\"},{\"id\":\"1257\",\"type\":\"DaysTicker\"},{\"id\":\"1258\",\"type\":\"DaysTicker\"},{\"id\":\"1259\",\"type\":\"DaysTicker\"},{\"id\":\"1260\",\"type\":\"DaysTicker\"},{\"id\":\"1261\",\"type\":\"MonthsTicker\"},{\"id\":\"1262\",\"type\":\"MonthsTicker\"},{\"id\":\"1263\",\"type\":\"MonthsTicker\"},{\"id\":\"1264\",\"type\":\"MonthsTicker\"},{\"id\":\"1265\",\"type\":\"YearsTicker\"}]},\"id\":\"1195\",\"type\":\"DatetimeTicker\"},{\"attributes\":{\"days\":[1,15]},\"id\":\"1260\",\"type\":\"DaysTicker\"},{\"attributes\":{\"days\":[1,8,15,22]},\"id\":\"1259\",\"type\":\"DaysTicker\"},{\"attributes\":{\"months\":[0,4,8]},\"id\":\"1263\",\"type\":\"MonthsTicker\"},{\"attributes\":{\"callback\":null},\"id\":\"1188\",\"type\":\"DataRange1d\"},{\"attributes\":{\"ticker\":{\"id\":\"1195\",\"type\":\"DatetimeTicker\"}},\"id\":\"1198\",\"type\":\"Grid\"},{\"attributes\":{\"line_alpha\":0.8,\"line_color\":\"#1f77b4\",\"line_width\":2,\"x\":{\"field\":\"x\"},\"y\":{\"field\":\"y\"}},\"id\":\"1218\",\"type\":\"Line\"},{\"attributes\":{},\"id\":\"1190\",\"type\":\"LinearScale\"},{\"attributes\":{\"days\":[1,2,3,4,5,6,7,8,9,10,11,12,13,14,15,16,17,18,19,20,21,22,23,24,25,26,27,28,29,30,31]},\"id\":\"1257\",\"type\":\"DaysTicker\"},{\"attributes\":{\"bottom_units\":\"screen\",\"fill_alpha\":{\"value\":0.5},\"fill_color\":{\"value\":\"lightgrey\"},\"left_units\":\"screen\",\"level\":\"overlay\",\"line_alpha\":{\"value\":1.0},\"line_color\":{\"value\":\"black\"},\"line_dash\":[4,4],\"line_width\":{\"value\":2},\"render_mode\":\"css\",\"right_units\":\"screen\",\"top_units\":\"screen\"},\"id\":\"1266\",\"type\":\"BoxAnnotation\"},{\"attributes\":{},\"id\":\"1248\",\"type\":\"BasicTickFormatter\"},{\"attributes\":{\"callback\":null,\"data\":{\"x\":[1582502400000.0,1582588800000.0,1582675200000.0,1582761600000.0,1582848000000.0,1582934400000.0,1583020800000.0,1583107200000.0,1583193600000.0,1583280000000.0,1583366400000.0,1583452800000.0,1583539200000.0,1583625600000.0,1583712000000.0,1583798400000.0,1583884800000.0,1583971200000.0,1584057600000.0,1584144000000.0,1584230400000.0,1584316800000.0,1584403200000.0,1584489600000.0,1584576000000.0,1584662400000.0,1584748800000.0,1584835200000.0,1584921600000.0,1585008000000.0,1585094400000.0,1585180800000.0,1585267200000.0,1585353600000.0,1585440000000.0,1585526400000.0,1585612800000.0,1585699200000.0,1585785600000.0,1585872000000.0,1585958400000.0,1586044800000.0,1586131200000.0,1586217600000.0,1586304000000.0,1586390400000.0,1586476800000.0,1586563200000.0,1586649600000.0,1586736000000.0,1586822400000.0,1586908800000.0,1586995200000.0,1587081600000.0,1587168000000.0,1587254400000.0,1587340800000.0,1587427200000.0,1587513600000.0,1587600000000.0,1587686400000.0,1587772800000.0,1587859200000.0,1587945600000.0,1588032000000.0,1588118400000.0,1588204800000.0,1588291200000.0,1588377600000.0,1588464000000.0,1588550400000.0,1588636800000.0,1588723200000.0,1588809600000.0,1588896000000.0,1588982400000.0,1589068800000.0,1589155200000.0,1589241600000.0,1589328000000.0,1589414400000.0,1589500800000.0,1589587200000.0,1589673600000.0,1589760000000.0,1589846400000.0,1589932800000.0,1590019200000.0,1590105600000.0,1590192000000.0,1590278400000.0,1590364800000.0,1590451200000.0,1590537600000.0,1590624000000.0,1590710400000.0,1590796800000.0,1590883200000.0,1590969600000.0,1591056000000.0,1591142400000.0,1591228800000.0,1591315200000.0,1591401600000.0,1591488000000.0,1591574400000.0,1591660800000.0,1591747200000.0,1591833600000.0,1591920000000.0,1592006400000.0,1592092800000.0,1592179200000.0,1592265600000.0,1592352000000.0,1592438400000.0,1592524800000.0,1592611200000.0,1592697600000.0,1592784000000.0,1592870400000.0,1592956800000.0,1593043200000.0,1593129600000.0,1593216000000.0,1593302400000.0,1593388800000.0,1593475200000.0,1593561600000.0,1593648000000.0,1593734400000.0,1593820800000.0,1593907200000.0,1593993600000.0,1594080000000.0,1594166400000.0,1594252800000.0,1594339200000.0,1594425600000.0,1594512000000.0,1594598400000.0,1594684800000.0,1594771200000.0,1594857600000.0,1594944000000.0,1595030400000.0,1595116800000.0,1595203200000.0,1595289600000.0,1595376000000.0,1595462400000.0,1595548800000.0,1595635200000.0,1595721600000.0,1595808000000.0,1595894400000.0,1595980800000.0,1596067200000.0,1596153600000.0,1596240000000.0,1596326400000.0,1596412800000.0,1596499200000.0,1596585600000.0,1596672000000.0,1596758400000.0,1596844800000.0,1596931200000.0,1597017600000.0,1597104000000.0,1597190400000.0,1597276800000.0,1597363200000.0,1597449600000.0,1597536000000.0,1597622400000.0,1597708800000.0,1597795200000.0,1597881600000.0,1597968000000.0,1598054400000.0,1598140800000.0,1598227200000.0,1598313600000.0,1598400000000.0,1598486400000.0,1598572800000.0,1598659200000.0,1598745600000.0,1598832000000.0,1598918400000.0,1599004800000.0,1599091200000.0,1599177600000.0,1599264000000.0,1599350400000.0,1599436800000.0,1599523200000.0,1599609600000.0,1599696000000.0,1599782400000.0,1599868800000.0,1599955200000.0,1600041600000.0,1600128000000.0,1600214400000.0,1600300800000.0,1600387200000.0,1600473600000.0,1600560000000.0,1600646400000.0,1600732800000.0,1600819200000.0,1600905600000.0,1600992000000.0,1601078400000.0,1601164800000.0,1601251200000.0,1601337600000.0,1601424000000.0,1601510400000.0,1601596800000.0,1601683200000.0,1601769600000.0,1601856000000.0,1601942400000.0,1602028800000.0,1602115200000.0,1602201600000.0,1602288000000.0,1602374400000.0,1602460800000.0,1602547200000.0,1602633600000.0,1602720000000.0,1602806400000.0,1602892800000.0,1602979200000.0,1603065600000.0,1603152000000.0,1603238400000.0,1603324800000.0,1603411200000.0,1603497600000.0,1603584000000.0,1603670400000.0,1603756800000.0,1603843200000.0,1603929600000.0,1604016000000.0,1604102400000.0,1604188800000.0,1604275200000.0,1604361600000.0,1604448000000.0,1604534400000.0,1604620800000.0,1604707200000.0,1604793600000.0,1604880000000.0,1604966400000.0,1605052800000.0,1605139200000.0,1605225600000.0,1605312000000.0,1605398400000.0,1605484800000.0,1605571200000.0,1605657600000.0,1605744000000.0,1605830400000.0,1605916800000.0,1606003200000.0,1606089600000.0,1606176000000.0,1606262400000.0,1606348800000.0,1606435200000.0,1606521600000.0,1606608000000.0,1606694400000.0,1606780800000.0,1606867200000.0,1606953600000.0,1607040000000.0,1607126400000.0,1607212800000.0,1607299200000.0,1607385600000.0,1607472000000.0,1607558400000.0,1607644800000.0,1607731200000.0,1607817600000.0,1607904000000.0,1607990400000.0,1608076800000.0,1608163200000.0,1608249600000.0,1608336000000.0,1608422400000.0,1608508800000.0,1608595200000.0,1608681600000.0,1608768000000.0,1608854400000.0,1608940800000.0,1609027200000.0,1609113600000.0,1609200000000.0,1609286400000.0,1609372800000.0,1609459200000.0,1609545600000.0,1609632000000.0,1609718400000.0,1609804800000.0,1609891200000.0,1609977600000.0,1610064000000.0,1610150400000.0,1610236800000.0,1610323200000.0,1610409600000.0,1610496000000.0,1610582400000.0,1610668800000.0,1610755200000.0,1610841600000.0,1610928000000.0,1611014400000.0,1611100800000.0,1611187200000.0,1611273600000.0,1611360000000.0,1611446400000.0,1611532800000.0,1611619200000.0,1611705600000.0,1611792000000.0,1611878400000.0,1611964800000.0,1612051200000.0,1612137600000.0,1612224000000.0,1612310400000.0,1612396800000.0,1612483200000.0,1612569600000.0,1612656000000.0,1612742400000.0,1612828800000.0,1612915200000.0,1613001600000.0,1613088000000.0,1613174400000.0,1613260800000.0,1613347200000.0,1613433600000.0,1613520000000.0,1613606400000.0,1613692800000.0,1613779200000.0,1613865600000.0,1613952000000.0,1614038400000.0,1614124800000.0,1614211200000.0,1614297600000.0,1614384000000.0,1614470400000.0,1614556800000.0,1614643200000.0,1614729600000.0,1614816000000.0,1614902400000.0,1614988800000.0,1615075200000.0,1615161600000.0,1615248000000.0,1615334400000.0,1615420800000.0,1615507200000.0,1615593600000.0,1615680000000.0,1615766400000.0,1615852800000.0,1615939200000.0,1616025600000.0,1616112000000.0,1616198400000.0,1616284800000.0,1616371200000.0,1616457600000.0,1616544000000.0,1616630400000.0,1616716800000.0,1616803200000.0,1616889600000.0,1616976000000.0,1617062400000.0,1617148800000.0,1617235200000.0,1617321600000.0,1617408000000.0,1617494400000.0,1617580800000.0,1617667200000.0,1617753600000.0,1617840000000.0,1617926400000.0,1618012800000.0,1618099200000.0,1618185600000.0,1618272000000.0,1618358400000.0,1618444800000.0,1618531200000.0,1618617600000.0,1618704000000.0,1618790400000.0,1618876800000.0,1618963200000.0,1619049600000.0,1619136000000.0,1619222400000.0,1619308800000.0,1619395200000.0,1619481600000.0,1619568000000.0,1619654400000.0,1619740800000.0,1619740800000.0],\"y\":[221,93,78,250,238,240,566,342,466,587,769,778,1247,1492,1797,977,2313,2651,2547,3497,3590,3233,3526,4207,5322,5986,6557,5560,4789,5249,5210,6153,5959,5974,5217,4050,4053,4782,4668,4585,4805,4316,3599,3039,3836,4204,3951,4694,4092,3153,2972,2667,3786,3493,3491,3047,2256,2729,3370,2646,3021,2357,2324,1739,2091,2086,1872,1965,1900,1389,1221,1075,1444,1401,1327,1083,802,744,1402,888,992,789,875,675,451,813,665,642,652,669,531,300,397,584,593,516,416,355,178,318,321,177,518,270,197,280,283,202,379,163,346,338,303,210,329,333,251,262,224,218,122,190,296,259,175,174,126,142,187,201,223,235,192,208,138,193,229,276,188,234,169,114,163,230,233,249,219,190,129,282,306,252,275,255,170,212,289,386,379,295,239,159,190,384,402,552,347,463,259,412,481,523,574,629,479,320,403,642,845,947,1071,1210,953,878,1367,1411,1462,1444,1365,996,978,1326,1397,1733,1694,1297,1108,1370,1434,1597,1616,1501,1458,1008,1229,1452,1585,1907,1638,1587,1350,1392,1640,1786,1912,1869,1766,1494,1648,1851,2548,2499,2844,2578,2257,2677,3678,4458,5372,5724,5456,4619,5901,7332,8804,10010,10925,11705,9338,10874,15199,16079,19143,19644,21273,17012,21994,24991,26831,31084,31758,29907,22253,28244,30550,34505,37809,39811,32616,25271,35098,32961,37978,40902,37255,33979,27354,32191,34282,36176,37242,34767,28337,22930,23232,25853,29003,28352,26323,20648,16377,19350,20709,23225,24099,21052,18887,13720,14842,12756,16999,18727,19903,17938,12030,14844,17572,18236,17992,16308,15104,10872,13318,14522,18040,19037,10431,8913,8585,11224,16202,23477,22211,11831,14245,10800,15378,20331,18020,17533,19978,18627,12532,14242,15774,17246,16146,16310,12545,8825,10497,13571,14078,13633,13331,11629,8562,10593,15204,14372,13574,12715,11252,7925,9660,13189,13659,14218,13442,11641,7970,10630,12956,15146,13908,13532,11068,7351,10386,12074,13762,15479,14931,13452,9630,13314,16424,19886,20499,18916,17455,13114,17083,20884,22865,24036,23641,20765,13902,19749,22409,25673,26824,26062,21315,15267,20396,23059,24935,25735,23832,20159,13846,18765,21267,23798,23987,23776,19611,12916,16013,22516,23649,21932,21261,18025,10680,7767,13708,17221,18938,17567,15746,9789,13447,16168,16974,15943,15370,12694,8864,12074,13844,16050,14761,13817,13158,8444,10404,13385,14320,13446,13446]},\"selected\":{\"id\":\"1252\",\"type\":\"Selection\"},\"selection_policy\":{\"id\":\"1253\",\"type\":\"UnionRenderers\"}},\"id\":\"1217\",\"type\":\"ColumnDataSource\"},{\"attributes\":{\"line_alpha\":0.1,\"line_color\":\"#1f77b4\",\"line_width\":2,\"x\":{\"field\":\"x\"},\"y\":{\"field\":\"y\"}},\"id\":\"1219\",\"type\":\"Line\"},{\"attributes\":{\"base\":24,\"mantissas\":[1,2,4,6,8,12],\"max_interval\":43200000.0,\"min_interval\":3600000.0,\"num_minor_ticks\":0},\"id\":\"1256\",\"type\":\"AdaptiveTicker\"},{\"attributes\":{\"dimensions\":\"width\"},\"id\":\"1224\",\"type\":\"PanTool\"},{\"attributes\":{\"active_drag\":null,\"active_inspect\":\"auto\",\"active_multi\":null,\"active_scroll\":\"auto\",\"active_tap\":\"auto\",\"tools\":[{\"id\":\"1204\",\"type\":\"PanTool\"},{\"id\":\"1205\",\"type\":\"WheelZoomTool\"},{\"id\":\"1206\",\"type\":\"BoxZoomTool\"},{\"id\":\"1207\",\"type\":\"SaveTool\"},{\"id\":\"1208\",\"type\":\"ResetTool\"},{\"id\":\"1209\",\"type\":\"HelpTool\"},{\"id\":\"1222\",\"type\":\"HoverTool\"},{\"id\":\"1224\",\"type\":\"PanTool\"}]},\"id\":\"1210\",\"type\":\"Toolbar\"},{\"attributes\":{\"data_source\":{\"id\":\"1217\",\"type\":\"ColumnDataSource\"},\"glyph\":{\"id\":\"1218\",\"type\":\"Line\"},\"hover_glyph\":null,\"muted_glyph\":null,\"nonselection_glyph\":{\"id\":\"1219\",\"type\":\"Line\"},\"selection_glyph\":null,\"view\":{\"id\":\"1221\",\"type\":\"CDSView\"}},\"id\":\"1220\",\"type\":\"GlyphRenderer\"},{\"attributes\":{},\"id\":\"1253\",\"type\":\"UnionRenderers\"},{\"attributes\":{\"days\":[1,4,7,10,13,16,19,22,25,28]},\"id\":\"1258\",\"type\":\"DaysTicker\"},{\"attributes\":{},\"id\":\"1207\",\"type\":\"SaveTool\"},{\"attributes\":{},\"id\":\"1265\",\"type\":\"YearsTicker\"},{\"attributes\":{\"axis_label\":\"date\",\"formatter\":{\"id\":\"1250\",\"type\":\"DatetimeTickFormatter\"},\"ticker\":{\"id\":\"1195\",\"type\":\"DatetimeTicker\"}},\"id\":\"1194\",\"type\":\"DatetimeAxis\"},{\"attributes\":{\"months\":[0,6]},\"id\":\"1264\",\"type\":\"MonthsTicker\"},{\"attributes\":{},\"id\":\"1192\",\"type\":\"LinearScale\"},{\"attributes\":{\"mantissas\":[1,2,5],\"max_interval\":500.0,\"num_minor_ticks\":0},\"id\":\"1254\",\"type\":\"AdaptiveTicker\"},{\"attributes\":{\"text\":\"New daily infected trend\"},\"id\":\"1184\",\"type\":\"Title\"},{\"attributes\":{},\"id\":\"1205\",\"type\":\"WheelZoomTool\"},{\"attributes\":{\"source\":{\"id\":\"1217\",\"type\":\"ColumnDataSource\"}},\"id\":\"1221\",\"type\":\"CDSView\"}],\"root_ids\":[\"1183\"]},\"title\":\"Bokeh Application\",\"version\":\"1.4.0\"}};\n",
       "  var render_items = [{\"docid\":\"ff2b3291-9051-4433-b43b-d26bd828a9c6\",\"roots\":{\"1183\":\"e9c8461b-cbdb-4dcd-ad68-030ad4492404\"}}];\n",
       "  root.Bokeh.embed.embed_items_notebook(docs_json, render_items);\n",
       "\n",
       "  }\n",
       "  if (root.Bokeh !== undefined) {\n",
       "    embed_document(root);\n",
       "  } else {\n",
       "    var attempts = 0;\n",
       "    var timer = setInterval(function(root) {\n",
       "      if (root.Bokeh !== undefined) {\n",
       "        clearInterval(timer);\n",
       "        embed_document(root);\n",
       "      } else {\n",
       "        attempts++;\n",
       "        if (attempts > 100) {\n",
       "          clearInterval(timer);\n",
       "          console.log(\"Bokeh: ERROR: Unable to run BokehJS code because BokehJS library is missing\");\n",
       "        }\n",
       "      }\n",
       "    }, 10, root)\n",
       "  }\n",
       "})(window);"
      ],
      "application/vnd.bokehjs_exec.v0+json": ""
     },
     "metadata": {
      "application/vnd.bokehjs_exec.v0+json": {
       "id": "1183"
      }
     },
     "output_type": "display_data"
    }
   ],
   "source": [
    "fig = figure(title='New daily infected trend',\n",
    "             x_axis_label='date',\n",
    "             y_axis_label='new infected',\n",
    "             width=800,\n",
    "             height=400,\n",
    "             x_axis_type='datetime')\n",
    "\n",
    "fig.line(df['only_data'],\n",
    "         df['nuovi_positivi'],\n",
    "         line_alpha=0.8,\n",
    "         #legend_label='example value', \n",
    "         line_width=2)\n",
    "\n",
    "fig.add_tools(HoverTool(\n",
    "    tooltips=[('date', '@x{%F}'), ('new infected', '@y')],\n",
    "    formatters=dict(x='datetime')\n",
    "    )\n",
    ")\n",
    "fig.add_tools(PanTool(dimensions='width'))\n",
    "fig.toolbar.active_drag = None\n",
    "fig.x_range.start = df['only_data'].min()\n",
    "\n",
    "show(fig)"
   ]
  },
  {
   "cell_type": "code",
   "execution_count": 19,
   "metadata": {},
   "outputs": [],
   "source": [
    "max_date = df['only_data'].max()\n",
    "new_infected_today = df.query('only_data==@max_date')['nuovi_positivi'].iloc[0]"
   ]
  },
  {
   "cell_type": "code",
   "execution_count": 29,
   "metadata": {},
   "outputs": [
    {
     "name": "stdout",
     "output_type": "stream",
     "text": [
      "new infected in Italy for date 2021-04-30 are 13446\n"
     ]
    }
   ],
   "source": [
    "print(f'new infected in Italy for date {max_date} are {new_infected_today}') "
   ]
  },
  {
   "cell_type": "code",
   "execution_count": null,
   "metadata": {},
   "outputs": [],
   "source": []
  },
  {
   "cell_type": "code",
   "execution_count": 21,
   "metadata": {},
   "outputs": [],
   "source": [
    "columns_to_show = ['totale_casi', 'dimessi_guariti', 'deceduti']\n",
    "legend = {'totale_casi': 'total infected', 'dimessi_guariti': 'healed people', 'deceduti': 'dead people'}\n",
    "colors = []\n",
    "n = named.__dict__\n",
    "all_colors = n['__all__']\n",
    "while len(colors) < (len(columns_to_show)):\n",
    "    if choice(all_colors) not in colors:\n",
    "        colors.append(choice(all_colors))"
   ]
  },
  {
   "cell_type": "code",
   "execution_count": 22,
   "metadata": {},
   "outputs": [
    {
     "data": {
      "text/html": [
       "\n",
       "\n",
       "\n",
       "\n",
       "\n",
       "\n",
       "  <div class=\"bk-root\" id=\"b7e1b4ed-518e-411e-8eb1-906a015a3726\" data-root-id=\"2390\"></div>\n"
      ]
     },
     "metadata": {},
     "output_type": "display_data"
    },
    {
     "data": {
      "application/javascript": [
       "(function(root) {\n",
       "  function embed_document(root) {\n",
       "    \n",
       "  var docs_json = {\"f2b8470a-09cd-4982-b1ea-f535fd315ac1\":{\"roots\":{\"references\":[{\"attributes\":{\"below\":[{\"id\":\"2401\",\"type\":\"DatetimeAxis\"}],\"center\":[{\"id\":\"2405\",\"type\":\"Grid\"},{\"id\":\"2410\",\"type\":\"Grid\"},{\"id\":\"2447\",\"type\":\"Legend\"}],\"left\":[{\"id\":\"2406\",\"type\":\"LinearAxis\"}],\"plot_height\":400,\"plot_width\":800,\"renderers\":[{\"id\":\"2427\",\"type\":\"GlyphRenderer\"},{\"id\":\"2452\",\"type\":\"GlyphRenderer\"},{\"id\":\"2478\",\"type\":\"GlyphRenderer\"}],\"title\":{\"id\":\"2391\",\"type\":\"Title\"},\"toolbar\":{\"id\":\"2417\",\"type\":\"Toolbar\"},\"x_range\":{\"id\":\"2393\",\"type\":\"DataRange1d\"},\"x_scale\":{\"id\":\"2397\",\"type\":\"LinearScale\"},\"y_range\":{\"id\":\"2395\",\"type\":\"DataRange1d\"},\"y_scale\":{\"id\":\"2399\",\"type\":\"LinearScale\"}},\"id\":\"2390\",\"subtype\":\"Figure\",\"type\":\"Plot\"},{\"attributes\":{\"num_minor_ticks\":5,\"tickers\":[{\"id\":\"2434\",\"type\":\"AdaptiveTicker\"},{\"id\":\"2435\",\"type\":\"AdaptiveTicker\"},{\"id\":\"2436\",\"type\":\"AdaptiveTicker\"},{\"id\":\"2437\",\"type\":\"DaysTicker\"},{\"id\":\"2438\",\"type\":\"DaysTicker\"},{\"id\":\"2439\",\"type\":\"DaysTicker\"},{\"id\":\"2440\",\"type\":\"DaysTicker\"},{\"id\":\"2441\",\"type\":\"MonthsTicker\"},{\"id\":\"2442\",\"type\":\"MonthsTicker\"},{\"id\":\"2443\",\"type\":\"MonthsTicker\"},{\"id\":\"2444\",\"type\":\"MonthsTicker\"},{\"id\":\"2445\",\"type\":\"YearsTicker\"}]},\"id\":\"2402\",\"type\":\"DatetimeTicker\"},{\"attributes\":{},\"id\":\"2430\",\"type\":\"BasicTickFormatter\"},{\"attributes\":{\"axis_label\":\"date\",\"formatter\":{\"id\":\"2432\",\"type\":\"DatetimeTickFormatter\"},\"ticker\":{\"id\":\"2402\",\"type\":\"DatetimeTicker\"}},\"id\":\"2401\",\"type\":\"DatetimeAxis\"},{\"attributes\":{},\"id\":\"2459\",\"type\":\"Selection\"},{\"attributes\":{\"ticker\":{\"id\":\"2402\",\"type\":\"DatetimeTicker\"}},\"id\":\"2405\",\"type\":\"Grid\"},{\"attributes\":{},\"id\":\"2399\",\"type\":\"LinearScale\"},{\"attributes\":{\"axis_label\":\"count\",\"formatter\":{\"id\":\"2430\",\"type\":\"BasicTickFormatter\"},\"ticker\":{\"id\":\"2407\",\"type\":\"BasicTicker\"}},\"id\":\"2406\",\"type\":\"LinearAxis\"},{\"attributes\":{\"callback\":null},\"id\":\"2395\",\"type\":\"DataRange1d\"},{\"attributes\":{},\"id\":\"2460\",\"type\":\"UnionRenderers\"},{\"attributes\":{},\"id\":\"2407\",\"type\":\"BasicTicker\"},{\"attributes\":{\"callback\":null,\"start\":1582502400000.0},\"id\":\"2393\",\"type\":\"DataRange1d\"},{\"attributes\":{\"dimension\":1,\"ticker\":{\"id\":\"2407\",\"type\":\"BasicTicker\"}},\"id\":\"2410\",\"type\":\"Grid\"},{\"attributes\":{},\"id\":\"2412\",\"type\":\"WheelZoomTool\"},{\"attributes\":{},\"id\":\"2432\",\"type\":\"DatetimeTickFormatter\"},{\"attributes\":{\"active_drag\":\"auto\",\"active_inspect\":\"auto\",\"active_multi\":null,\"active_scroll\":\"auto\",\"active_tap\":\"auto\",\"tools\":[{\"id\":\"2411\",\"type\":\"PanTool\"},{\"id\":\"2412\",\"type\":\"WheelZoomTool\"},{\"id\":\"2413\",\"type\":\"BoxZoomTool\"},{\"id\":\"2414\",\"type\":\"SaveTool\"},{\"id\":\"2415\",\"type\":\"ResetTool\"},{\"id\":\"2416\",\"type\":\"HelpTool\"},{\"id\":\"2503\",\"type\":\"HoverTool\"},{\"id\":\"2505\",\"type\":\"PanTool\"}]},\"id\":\"2417\",\"type\":\"Toolbar\"},{\"attributes\":{},\"id\":\"2411\",\"type\":\"PanTool\"},{\"attributes\":{\"mantissas\":[1,2,5],\"max_interval\":500.0,\"num_minor_ticks\":0},\"id\":\"2434\",\"type\":\"AdaptiveTicker\"},{\"attributes\":{},\"id\":\"2416\",\"type\":\"HelpTool\"},{\"attributes\":{\"base\":60,\"mantissas\":[1,2,5,10,15,20,30],\"max_interval\":1800000.0,\"min_interval\":1000.0,\"num_minor_ticks\":0},\"id\":\"2435\",\"type\":\"AdaptiveTicker\"},{\"attributes\":{\"overlay\":{\"id\":\"2446\",\"type\":\"BoxAnnotation\"}},\"id\":\"2413\",\"type\":\"BoxZoomTool\"},{\"attributes\":{\"days\":[1,2,3,4,5,6,7,8,9,10,11,12,13,14,15,16,17,18,19,20,21,22,23,24,25,26,27,28,29,30,31]},\"id\":\"2437\",\"type\":\"DaysTicker\"},{\"attributes\":{},\"id\":\"2414\",\"type\":\"SaveTool\"},{\"attributes\":{\"base\":24,\"mantissas\":[1,2,4,6,8,12],\"max_interval\":43200000.0,\"min_interval\":3600000.0,\"num_minor_ticks\":0},\"id\":\"2436\",\"type\":\"AdaptiveTicker\"},{\"attributes\":{\"text\":\"Cumulative trend for dead people, healed people and total infected\"},\"id\":\"2391\",\"type\":\"Title\"},{\"attributes\":{},\"id\":\"2415\",\"type\":\"ResetTool\"},{\"attributes\":{\"callback\":null,\"data\":{\"x\":[1582502400000.0,1582588800000.0,1582675200000.0,1582761600000.0,1582848000000.0,1582934400000.0,1583020800000.0,1583107200000.0,1583193600000.0,1583280000000.0,1583366400000.0,1583452800000.0,1583539200000.0,1583625600000.0,1583712000000.0,1583798400000.0,1583884800000.0,1583971200000.0,1584057600000.0,1584144000000.0,1584230400000.0,1584316800000.0,1584403200000.0,1584489600000.0,1584576000000.0,1584662400000.0,1584748800000.0,1584835200000.0,1584921600000.0,1585008000000.0,1585094400000.0,1585180800000.0,1585267200000.0,1585353600000.0,1585440000000.0,1585526400000.0,1585612800000.0,1585699200000.0,1585785600000.0,1585872000000.0,1585958400000.0,1586044800000.0,1586131200000.0,1586217600000.0,1586304000000.0,1586390400000.0,1586476800000.0,1586563200000.0,1586649600000.0,1586736000000.0,1586822400000.0,1586908800000.0,1586995200000.0,1587081600000.0,1587168000000.0,1587254400000.0,1587340800000.0,1587427200000.0,1587513600000.0,1587600000000.0,1587686400000.0,1587772800000.0,1587859200000.0,1587945600000.0,1588032000000.0,1588118400000.0,1588204800000.0,1588291200000.0,1588377600000.0,1588464000000.0,1588550400000.0,1588636800000.0,1588723200000.0,1588809600000.0,1588896000000.0,1588982400000.0,1589068800000.0,1589155200000.0,1589241600000.0,1589328000000.0,1589414400000.0,1589500800000.0,1589587200000.0,1589673600000.0,1589760000000.0,1589846400000.0,1589932800000.0,1590019200000.0,1590105600000.0,1590192000000.0,1590278400000.0,1590364800000.0,1590451200000.0,1590537600000.0,1590624000000.0,1590710400000.0,1590796800000.0,1590883200000.0,1590969600000.0,1591056000000.0,1591142400000.0,1591228800000.0,1591315200000.0,1591401600000.0,1591488000000.0,1591574400000.0,1591660800000.0,1591747200000.0,1591833600000.0,1591920000000.0,1592006400000.0,1592092800000.0,1592179200000.0,1592265600000.0,1592352000000.0,1592438400000.0,1592524800000.0,1592611200000.0,1592697600000.0,1592784000000.0,1592870400000.0,1592956800000.0,1593043200000.0,1593129600000.0,1593216000000.0,1593302400000.0,1593388800000.0,1593475200000.0,1593561600000.0,1593648000000.0,1593734400000.0,1593820800000.0,1593907200000.0,1593993600000.0,1594080000000.0,1594166400000.0,1594252800000.0,1594339200000.0,1594425600000.0,1594512000000.0,1594598400000.0,1594684800000.0,1594771200000.0,1594857600000.0,1594944000000.0,1595030400000.0,1595116800000.0,1595203200000.0,1595289600000.0,1595376000000.0,1595462400000.0,1595548800000.0,1595635200000.0,1595721600000.0,1595808000000.0,1595894400000.0,1595980800000.0,1596067200000.0,1596153600000.0,1596240000000.0,1596326400000.0,1596412800000.0,1596499200000.0,1596585600000.0,1596672000000.0,1596758400000.0,1596844800000.0,1596931200000.0,1597017600000.0,1597104000000.0,1597190400000.0,1597276800000.0,1597363200000.0,1597449600000.0,1597536000000.0,1597622400000.0,1597708800000.0,1597795200000.0,1597881600000.0,1597968000000.0,1598054400000.0,1598140800000.0,1598227200000.0,1598313600000.0,1598400000000.0,1598486400000.0,1598572800000.0,1598659200000.0,1598745600000.0,1598832000000.0,1598918400000.0,1599004800000.0,1599091200000.0,1599177600000.0,1599264000000.0,1599350400000.0,1599436800000.0,1599523200000.0,1599609600000.0,1599696000000.0,1599782400000.0,1599868800000.0,1599955200000.0,1600041600000.0,1600128000000.0,1600214400000.0,1600300800000.0,1600387200000.0,1600473600000.0,1600560000000.0,1600646400000.0,1600732800000.0,1600819200000.0,1600905600000.0,1600992000000.0,1601078400000.0,1601164800000.0,1601251200000.0,1601337600000.0,1601424000000.0,1601510400000.0,1601596800000.0,1601683200000.0,1601769600000.0,1601856000000.0,1601942400000.0,1602028800000.0,1602115200000.0,1602201600000.0,1602288000000.0,1602374400000.0,1602460800000.0,1602547200000.0,1602633600000.0,1602720000000.0,1602806400000.0,1602892800000.0,1602979200000.0,1603065600000.0,1603152000000.0,1603238400000.0,1603324800000.0,1603411200000.0,1603497600000.0,1603584000000.0,1603670400000.0,1603756800000.0,1603843200000.0,1603929600000.0,1604016000000.0,1604102400000.0,1604188800000.0,1604275200000.0,1604361600000.0,1604448000000.0,1604534400000.0,1604620800000.0,1604707200000.0,1604793600000.0,1604880000000.0,1604966400000.0,1605052800000.0,1605139200000.0,1605225600000.0,1605312000000.0,1605398400000.0,1605484800000.0,1605571200000.0,1605657600000.0,1605744000000.0,1605830400000.0,1605916800000.0,1606003200000.0,1606089600000.0,1606176000000.0,1606262400000.0,1606348800000.0,1606435200000.0,1606521600000.0,1606608000000.0,1606694400000.0,1606780800000.0,1606867200000.0,1606953600000.0,1607040000000.0,1607126400000.0,1607212800000.0,1607299200000.0,1607385600000.0,1607472000000.0,1607558400000.0,1607644800000.0,1607731200000.0,1607817600000.0,1607904000000.0,1607990400000.0,1608076800000.0,1608163200000.0,1608249600000.0,1608336000000.0,1608422400000.0,1608508800000.0,1608595200000.0,1608681600000.0,1608768000000.0,1608854400000.0,1608940800000.0,1609027200000.0,1609113600000.0,1609200000000.0,1609286400000.0,1609372800000.0,1609459200000.0,1609545600000.0,1609632000000.0,1609718400000.0,1609804800000.0,1609891200000.0,1609977600000.0,1610064000000.0,1610150400000.0,1610236800000.0,1610323200000.0,1610409600000.0,1610496000000.0,1610582400000.0,1610668800000.0,1610755200000.0,1610841600000.0,1610928000000.0,1611014400000.0,1611100800000.0,1611187200000.0,1611273600000.0,1611360000000.0,1611446400000.0,1611532800000.0,1611619200000.0,1611705600000.0,1611792000000.0,1611878400000.0,1611964800000.0,1612051200000.0,1612137600000.0,1612224000000.0,1612310400000.0,1612396800000.0,1612483200000.0,1612569600000.0,1612656000000.0,1612742400000.0,1612828800000.0,1612915200000.0,1613001600000.0,1613088000000.0,1613174400000.0,1613260800000.0,1613347200000.0,1613433600000.0,1613520000000.0,1613606400000.0,1613692800000.0,1613779200000.0,1613865600000.0,1613952000000.0,1614038400000.0,1614124800000.0,1614211200000.0,1614297600000.0,1614384000000.0,1614470400000.0,1614556800000.0,1614643200000.0,1614729600000.0,1614816000000.0,1614902400000.0,1614988800000.0,1615075200000.0,1615161600000.0,1615248000000.0,1615334400000.0,1615420800000.0,1615507200000.0,1615593600000.0,1615680000000.0,1615766400000.0,1615852800000.0,1615939200000.0,1616025600000.0,1616112000000.0,1616198400000.0,1616284800000.0,1616371200000.0,1616457600000.0,1616544000000.0,1616630400000.0,1616716800000.0,1616803200000.0,1616889600000.0,1616976000000.0,1617062400000.0,1617148800000.0,1617235200000.0,1617321600000.0,1617408000000.0,1617494400000.0,1617580800000.0,1617667200000.0,1617753600000.0,1617840000000.0,1617926400000.0,1618012800000.0,1618099200000.0,1618185600000.0,1618272000000.0,1618358400000.0,1618444800000.0,1618531200000.0,1618617600000.0,1618704000000.0,1618790400000.0,1618876800000.0,1618963200000.0,1619049600000.0,1619136000000.0,1619222400000.0,1619308800000.0,1619395200000.0,1619481600000.0,1619568000000.0,1619654400000.0,1619740800000.0,1619740800000.0],\"y\":[7,10,12,17,21,29,34,52,79,107,148,197,233,366,463,631,827,1016,1266,1441,1809,2158,2503,2978,3405,4032,4825,5476,6077,6820,7503,8165,9134,10023,10779,11591,12428,13155,13915,14681,15362,15887,16523,17127,17669,18279,18849,19468,19899,20465,21067,21645,22170,22745,23227,23660,24114,24648,25085,25549,25969,26384,26644,26977,27359,27682,27967,28236,28710,28884,29079,29315,29684,29958,30201,30395,30560,30739,30911,31106,31368,31610,31763,31908,32007,32169,32330,32486,32616,32735,32785,32877,32955,33072,33142,33229,33340,33415,33475,33530,33601,33689,33774,33846,33899,33964,34043,34114,34167,34223,34301,34345,34371,34405,34448,34514,34561,34610,34634,34657,34675,34644,34678,34708,34716,34738,34744,34767,34788,34818,34833,34854,34861,34869,34899,34914,34926,34938,34945,34954,34967,34984,34997,35017,35028,35042,35045,35058,35073,35082,35092,35097,35102,35107,35112,35123,35129,35132,35141,35146,35154,35166,35171,35181,35187,35190,35203,35205,35209,35215,35225,35231,35234,35392,35396,35400,35405,35412,35418,35427,35430,35437,35441,35445,35458,35463,35472,35473,35477,35483,35491,35497,35507,35518,35533,35541,35553,35563,35577,35587,35597,35603,35610,35624,35633,35645,35658,35668,35692,35707,35724,35738,35758,35781,35801,35818,35835,35851,35875,35894,35918,35941,35968,35986,36002,36030,36061,36083,36111,36140,36166,36205,36246,36289,36372,36427,36474,36543,36616,36705,36832,36968,37059,37210,37338,37479,37700,37905,38122,38321,38618,38826,39059,39412,39747,40192,40638,41063,41394,41750,42330,42953,43589,44139,44683,45229,45733,46464,47217,47870,48569,49261,49823,50453,51306,52028,52850,53677,54363,54904,55576,56361,57045,58038,58852,59514,60078,60606,61240,61739,62626,63387,64036,64520,65011,65857,66537,67220,67894,68447,68799,69214,69842,70395,70900,71359,71627,71925,72370,73029,73604,74159,74621,74985,75332,75680,76329,76877,77291,77911,78394,78755,79203,79819,80326,80848,81325,81800,82177,82554,83157,83681,84202,84674,85162,85461,85881,86422,86889,87381,87858,88279,88516,88845,89343,89819,90241,90618,91003,91273,91580,92002,92338,92729,93045,93356,93577,93835,94171,94540,94882,95235,95486,95718,95992,96348,96666,96974,97227,97507,97699,97945,98288,98635,98974,99271,99578,99785,100103,100479,100811,101184,101564,101881,102145,102499,103001,103432,103855,104241,104642,104942,105328,105879,106339,106799,107256,107636,107933,108350,108879,109346,109847,110328,110704,111030,111326,111747,112374,112861,113579,113923,114254,114612,115088,115557,115937,116366,116676,116927,117243,117633,117997,118357,118699,119021,119238,119539,119912,120256,120544,120807,120807]},\"selected\":{\"id\":\"2626\",\"type\":\"Selection\"},\"selection_policy\":{\"id\":\"2627\",\"type\":\"UnionRenderers\"}},\"id\":\"2475\",\"type\":\"ColumnDataSource\"},{\"attributes\":{\"months\":[0,1,2,3,4,5,6,7,8,9,10,11]},\"id\":\"2441\",\"type\":\"MonthsTicker\"},{\"attributes\":{\"data_source\":{\"id\":\"2424\",\"type\":\"ColumnDataSource\"},\"glyph\":{\"id\":\"2425\",\"type\":\"Line\"},\"hover_glyph\":null,\"muted_glyph\":null,\"nonselection_glyph\":{\"id\":\"2426\",\"type\":\"Line\"},\"selection_glyph\":null,\"view\":{\"id\":\"2428\",\"type\":\"CDSView\"}},\"id\":\"2427\",\"type\":\"GlyphRenderer\"},{\"attributes\":{\"dimensions\":\"width\"},\"id\":\"2505\",\"type\":\"PanTool\"},{\"attributes\":{\"months\":[0,2,4,6,8,10]},\"id\":\"2442\",\"type\":\"MonthsTicker\"},{\"attributes\":{},\"id\":\"2397\",\"type\":\"LinearScale\"},{\"attributes\":{\"days\":[1,4,7,10,13,16,19,22,25,28]},\"id\":\"2438\",\"type\":\"DaysTicker\"},{\"attributes\":{},\"id\":\"2626\",\"type\":\"Selection\"},{\"attributes\":{\"days\":[1,15]},\"id\":\"2440\",\"type\":\"DaysTicker\"},{\"attributes\":{\"months\":[0,6]},\"id\":\"2444\",\"type\":\"MonthsTicker\"},{\"attributes\":{\"callback\":null,\"formatters\":{\"x\":\"datetime\"},\"tooltips\":[[\"date\",\"@x{%F}\"],[\"count\",\"@y\"]]},\"id\":\"2503\",\"type\":\"HoverTool\"},{\"attributes\":{},\"id\":\"2627\",\"type\":\"UnionRenderers\"},{\"attributes\":{\"days\":[1,8,15,22]},\"id\":\"2439\",\"type\":\"DaysTicker\"},{\"attributes\":{\"data_source\":{\"id\":\"2475\",\"type\":\"ColumnDataSource\"},\"glyph\":{\"id\":\"2476\",\"type\":\"Line\"},\"hover_glyph\":null,\"muted_glyph\":null,\"nonselection_glyph\":{\"id\":\"2477\",\"type\":\"Line\"},\"selection_glyph\":null,\"view\":{\"id\":\"2479\",\"type\":\"CDSView\"}},\"id\":\"2478\",\"type\":\"GlyphRenderer\"},{\"attributes\":{},\"id\":\"2445\",\"type\":\"YearsTicker\"},{\"attributes\":{\"callback\":null,\"data\":{\"x\":[1582502400000.0,1582588800000.0,1582675200000.0,1582761600000.0,1582848000000.0,1582934400000.0,1583020800000.0,1583107200000.0,1583193600000.0,1583280000000.0,1583366400000.0,1583452800000.0,1583539200000.0,1583625600000.0,1583712000000.0,1583798400000.0,1583884800000.0,1583971200000.0,1584057600000.0,1584144000000.0,1584230400000.0,1584316800000.0,1584403200000.0,1584489600000.0,1584576000000.0,1584662400000.0,1584748800000.0,1584835200000.0,1584921600000.0,1585008000000.0,1585094400000.0,1585180800000.0,1585267200000.0,1585353600000.0,1585440000000.0,1585526400000.0,1585612800000.0,1585699200000.0,1585785600000.0,1585872000000.0,1585958400000.0,1586044800000.0,1586131200000.0,1586217600000.0,1586304000000.0,1586390400000.0,1586476800000.0,1586563200000.0,1586649600000.0,1586736000000.0,1586822400000.0,1586908800000.0,1586995200000.0,1587081600000.0,1587168000000.0,1587254400000.0,1587340800000.0,1587427200000.0,1587513600000.0,1587600000000.0,1587686400000.0,1587772800000.0,1587859200000.0,1587945600000.0,1588032000000.0,1588118400000.0,1588204800000.0,1588291200000.0,1588377600000.0,1588464000000.0,1588550400000.0,1588636800000.0,1588723200000.0,1588809600000.0,1588896000000.0,1588982400000.0,1589068800000.0,1589155200000.0,1589241600000.0,1589328000000.0,1589414400000.0,1589500800000.0,1589587200000.0,1589673600000.0,1589760000000.0,1589846400000.0,1589932800000.0,1590019200000.0,1590105600000.0,1590192000000.0,1590278400000.0,1590364800000.0,1590451200000.0,1590537600000.0,1590624000000.0,1590710400000.0,1590796800000.0,1590883200000.0,1590969600000.0,1591056000000.0,1591142400000.0,1591228800000.0,1591315200000.0,1591401600000.0,1591488000000.0,1591574400000.0,1591660800000.0,1591747200000.0,1591833600000.0,1591920000000.0,1592006400000.0,1592092800000.0,1592179200000.0,1592265600000.0,1592352000000.0,1592438400000.0,1592524800000.0,1592611200000.0,1592697600000.0,1592784000000.0,1592870400000.0,1592956800000.0,1593043200000.0,1593129600000.0,1593216000000.0,1593302400000.0,1593388800000.0,1593475200000.0,1593561600000.0,1593648000000.0,1593734400000.0,1593820800000.0,1593907200000.0,1593993600000.0,1594080000000.0,1594166400000.0,1594252800000.0,1594339200000.0,1594425600000.0,1594512000000.0,1594598400000.0,1594684800000.0,1594771200000.0,1594857600000.0,1594944000000.0,1595030400000.0,1595116800000.0,1595203200000.0,1595289600000.0,1595376000000.0,1595462400000.0,1595548800000.0,1595635200000.0,1595721600000.0,1595808000000.0,1595894400000.0,1595980800000.0,1596067200000.0,1596153600000.0,1596240000000.0,1596326400000.0,1596412800000.0,1596499200000.0,1596585600000.0,1596672000000.0,1596758400000.0,1596844800000.0,1596931200000.0,1597017600000.0,1597104000000.0,1597190400000.0,1597276800000.0,1597363200000.0,1597449600000.0,1597536000000.0,1597622400000.0,1597708800000.0,1597795200000.0,1597881600000.0,1597968000000.0,1598054400000.0,1598140800000.0,1598227200000.0,1598313600000.0,1598400000000.0,1598486400000.0,1598572800000.0,1598659200000.0,1598745600000.0,1598832000000.0,1598918400000.0,1599004800000.0,1599091200000.0,1599177600000.0,1599264000000.0,1599350400000.0,1599436800000.0,1599523200000.0,1599609600000.0,1599696000000.0,1599782400000.0,1599868800000.0,1599955200000.0,1600041600000.0,1600128000000.0,1600214400000.0,1600300800000.0,1600387200000.0,1600473600000.0,1600560000000.0,1600646400000.0,1600732800000.0,1600819200000.0,1600905600000.0,1600992000000.0,1601078400000.0,1601164800000.0,1601251200000.0,1601337600000.0,1601424000000.0,1601510400000.0,1601596800000.0,1601683200000.0,1601769600000.0,1601856000000.0,1601942400000.0,1602028800000.0,1602115200000.0,1602201600000.0,1602288000000.0,1602374400000.0,1602460800000.0,1602547200000.0,1602633600000.0,1602720000000.0,1602806400000.0,1602892800000.0,1602979200000.0,1603065600000.0,1603152000000.0,1603238400000.0,1603324800000.0,1603411200000.0,1603497600000.0,1603584000000.0,1603670400000.0,1603756800000.0,1603843200000.0,1603929600000.0,1604016000000.0,1604102400000.0,1604188800000.0,1604275200000.0,1604361600000.0,1604448000000.0,1604534400000.0,1604620800000.0,1604707200000.0,1604793600000.0,1604880000000.0,1604966400000.0,1605052800000.0,1605139200000.0,1605225600000.0,1605312000000.0,1605398400000.0,1605484800000.0,1605571200000.0,1605657600000.0,1605744000000.0,1605830400000.0,1605916800000.0,1606003200000.0,1606089600000.0,1606176000000.0,1606262400000.0,1606348800000.0,1606435200000.0,1606521600000.0,1606608000000.0,1606694400000.0,1606780800000.0,1606867200000.0,1606953600000.0,1607040000000.0,1607126400000.0,1607212800000.0,1607299200000.0,1607385600000.0,1607472000000.0,1607558400000.0,1607644800000.0,1607731200000.0,1607817600000.0,1607904000000.0,1607990400000.0,1608076800000.0,1608163200000.0,1608249600000.0,1608336000000.0,1608422400000.0,1608508800000.0,1608595200000.0,1608681600000.0,1608768000000.0,1608854400000.0,1608940800000.0,1609027200000.0,1609113600000.0,1609200000000.0,1609286400000.0,1609372800000.0,1609459200000.0,1609545600000.0,1609632000000.0,1609718400000.0,1609804800000.0,1609891200000.0,1609977600000.0,1610064000000.0,1610150400000.0,1610236800000.0,1610323200000.0,1610409600000.0,1610496000000.0,1610582400000.0,1610668800000.0,1610755200000.0,1610841600000.0,1610928000000.0,1611014400000.0,1611100800000.0,1611187200000.0,1611273600000.0,1611360000000.0,1611446400000.0,1611532800000.0,1611619200000.0,1611705600000.0,1611792000000.0,1611878400000.0,1611964800000.0,1612051200000.0,1612137600000.0,1612224000000.0,1612310400000.0,1612396800000.0,1612483200000.0,1612569600000.0,1612656000000.0,1612742400000.0,1612828800000.0,1612915200000.0,1613001600000.0,1613088000000.0,1613174400000.0,1613260800000.0,1613347200000.0,1613433600000.0,1613520000000.0,1613606400000.0,1613692800000.0,1613779200000.0,1613865600000.0,1613952000000.0,1614038400000.0,1614124800000.0,1614211200000.0,1614297600000.0,1614384000000.0,1614470400000.0,1614556800000.0,1614643200000.0,1614729600000.0,1614816000000.0,1614902400000.0,1614988800000.0,1615075200000.0,1615161600000.0,1615248000000.0,1615334400000.0,1615420800000.0,1615507200000.0,1615593600000.0,1615680000000.0,1615766400000.0,1615852800000.0,1615939200000.0,1616025600000.0,1616112000000.0,1616198400000.0,1616284800000.0,1616371200000.0,1616457600000.0,1616544000000.0,1616630400000.0,1616716800000.0,1616803200000.0,1616889600000.0,1616976000000.0,1617062400000.0,1617148800000.0,1617235200000.0,1617321600000.0,1617408000000.0,1617494400000.0,1617580800000.0,1617667200000.0,1617753600000.0,1617840000000.0,1617926400000.0,1618012800000.0,1618099200000.0,1618185600000.0,1618272000000.0,1618358400000.0,1618444800000.0,1618531200000.0,1618617600000.0,1618704000000.0,1618790400000.0,1618876800000.0,1618963200000.0,1619049600000.0,1619136000000.0,1619222400000.0,1619308800000.0,1619395200000.0,1619481600000.0,1619568000000.0,1619654400000.0,1619740800000.0,1619740800000.0],\"y\":[229,322,400,650,888,1128,1694,2036,2502,3089,3858,4636,5883,7375,9172,10149,12462,15113,17660,21157,24747,27980,31506,35713,41035,47021,53578,59138,63927,69176,74386,80539,86498,92472,97689,101739,105792,110574,115242,119827,124632,128948,132547,135586,139422,143626,147577,152271,156363,159516,162488,165155,168941,172434,175925,178972,181228,183957,187327,189973,192994,195351,197675,199414,201505,203591,205463,207428,209328,210717,211938,213013,214457,215858,217185,218268,219070,219814,221216,222104,223096,223885,224760,225435,225886,226699,227364,228006,228658,229327,229858,230158,230555,231139,231732,232248,232664,233019,233197,233515,233836,234013,234531,234801,234998,235278,235561,235763,236142,236305,236651,236989,237290,237500,237828,238159,238011,238275,238499,238720,238833,239410,239706,239961,240136,240310,240436,240578,240760,240961,241184,241419,241611,241819,241956,242149,242363,242639,242827,243061,243230,243344,243506,243736,243967,244216,244434,244624,244752,245032,245338,245590,245864,246118,246286,246488,246776,247158,247537,247832,248070,248229,248419,248803,249204,249756,250103,250566,250825,251237,251713,252235,252809,253438,253915,254235,254636,255278,256118,257065,258136,259345,260298,261174,262540,263949,265409,266853,268218,269214,270189,271515,272912,274644,276337,277634,278784,280153,281583,283180,284796,286297,287753,288761,289990,291442,293025,294932,296569,298156,299506,300897,302537,304323,306235,308104,309870,311364,313011,314861,317409,319908,322751,325329,327586,330263,333940,338398,343770,349494,354950,359569,365467,372799,381602,391611,402536,414241,423578,434449,449648,465726,484869,504509,525782,542789,564778,589766,616595,647674,679430,709335,731588,759829,790377,824879,862681,902490,935104,960373,995463,1028424,1066401,1107303,1144552,1178529,1205881,1238072,1272352,1308528,1345767,1380531,1408868,1431795,1455022,1480874,1509875,1538217,1564532,1585178,1601554,1620901,1641610,1664829,1688939,1709991,1728878,1742557,1757394,1770149,1787147,1805873,1825775,1843712,1855737,1870576,1888144,1906377,1921778,1938083,1953185,1964054,1977370,1991278,2009317,2028354,2038783,2047696,2056277,2067487,2083689,2107166,2129376,2141201,2155446,2166244,2181619,2201945,2220361,2237890,2257866,2276491,2289021,2303263,2319036,2336279,2352423,2368733,2381277,2390102,2400598,2414166,2428221,2441854,2455185,2466813,2475372,2485956,2501147,2515507,2529070,2541783,2553032,2560957,2570608,2583790,2597446,2611659,2625098,2636738,2644707,2655319,2668266,2683403,2697296,2710819,2721879,2729223,2739591,2751657,2765412,2780882,2795796,2809246,2818863,2832162,2848564,2868435,2888923,2907825,2925265,2938371,2955434,2976274,2999119,3023129,3046762,3067486,3081368,3101093,3123368,3149017,3175807,3201838,3223142,3238394,3258770,3281810,3306711,3332418,3356331,3376376,3400877,3419616,3440862,3464645,3488619,3512390,3531994,3544894,3560945,3583444,3607083,3629000,3650247,3668264,3678944,3686707,3700393,3717602,3736526,3754077,3769814,3779594,3793033,3809193,3826156,3842079,3857443,3870131,3878994,3891063,3904899,3920945,3935703,3949517,3962674,3971114,3981512,3994894,4009208,4022653,4022653]},\"selected\":{\"id\":\"2459\",\"type\":\"Selection\"},\"selection_policy\":{\"id\":\"2460\",\"type\":\"UnionRenderers\"}},\"id\":\"2424\",\"type\":\"ColumnDataSource\"},{\"attributes\":{\"months\":[0,4,8]},\"id\":\"2443\",\"type\":\"MonthsTicker\"},{\"attributes\":{\"line_color\":\"whitesmoke\",\"line_width\":2,\"x\":{\"field\":\"x\"},\"y\":{\"field\":\"y\"}},\"id\":\"2425\",\"type\":\"Line\"},{\"attributes\":{\"data_source\":{\"id\":\"2449\",\"type\":\"ColumnDataSource\"},\"glyph\":{\"id\":\"2450\",\"type\":\"Line\"},\"hover_glyph\":null,\"muted_glyph\":null,\"nonselection_glyph\":{\"id\":\"2451\",\"type\":\"Line\"},\"selection_glyph\":null,\"view\":{\"id\":\"2453\",\"type\":\"CDSView\"}},\"id\":\"2452\",\"type\":\"GlyphRenderer\"},{\"attributes\":{\"label\":{\"value\":\"total infected\"},\"renderers\":[{\"id\":\"2427\",\"type\":\"GlyphRenderer\"}]},\"id\":\"2448\",\"type\":\"LegendItem\"},{\"attributes\":{\"label\":{\"value\":\"dead people\"},\"renderers\":[{\"id\":\"2478\",\"type\":\"GlyphRenderer\"}]},\"id\":\"2502\",\"type\":\"LegendItem\"},{\"attributes\":{\"source\":{\"id\":\"2475\",\"type\":\"ColumnDataSource\"}},\"id\":\"2479\",\"type\":\"CDSView\"},{\"attributes\":{\"line_color\":\"darkkhaki\",\"line_width\":2,\"x\":{\"field\":\"x\"},\"y\":{\"field\":\"y\"}},\"id\":\"2450\",\"type\":\"Line\"},{\"attributes\":{\"source\":{\"id\":\"2424\",\"type\":\"ColumnDataSource\"}},\"id\":\"2428\",\"type\":\"CDSView\"},{\"attributes\":{\"line_alpha\":0.1,\"line_color\":\"#1f77b4\",\"line_width\":2,\"x\":{\"field\":\"x\"},\"y\":{\"field\":\"y\"}},\"id\":\"2477\",\"type\":\"Line\"},{\"attributes\":{\"items\":[{\"id\":\"2448\",\"type\":\"LegendItem\"},{\"id\":\"2474\",\"type\":\"LegendItem\"},{\"id\":\"2502\",\"type\":\"LegendItem\"}],\"location\":\"top_left\"},\"id\":\"2447\",\"type\":\"Legend\"},{\"attributes\":{\"line_alpha\":0.1,\"line_color\":\"#1f77b4\",\"line_width\":2,\"x\":{\"field\":\"x\"},\"y\":{\"field\":\"y\"}},\"id\":\"2426\",\"type\":\"Line\"},{\"attributes\":{\"bottom_units\":\"screen\",\"fill_alpha\":{\"value\":0.5},\"fill_color\":{\"value\":\"lightgrey\"},\"left_units\":\"screen\",\"level\":\"overlay\",\"line_alpha\":{\"value\":1.0},\"line_color\":{\"value\":\"black\"},\"line_dash\":[4,4],\"line_width\":{\"value\":2},\"render_mode\":\"css\",\"right_units\":\"screen\",\"top_units\":\"screen\"},\"id\":\"2446\",\"type\":\"BoxAnnotation\"},{\"attributes\":{\"callback\":null,\"data\":{\"x\":[1582502400000.0,1582588800000.0,1582675200000.0,1582761600000.0,1582848000000.0,1582934400000.0,1583020800000.0,1583107200000.0,1583193600000.0,1583280000000.0,1583366400000.0,1583452800000.0,1583539200000.0,1583625600000.0,1583712000000.0,1583798400000.0,1583884800000.0,1583971200000.0,1584057600000.0,1584144000000.0,1584230400000.0,1584316800000.0,1584403200000.0,1584489600000.0,1584576000000.0,1584662400000.0,1584748800000.0,1584835200000.0,1584921600000.0,1585008000000.0,1585094400000.0,1585180800000.0,1585267200000.0,1585353600000.0,1585440000000.0,1585526400000.0,1585612800000.0,1585699200000.0,1585785600000.0,1585872000000.0,1585958400000.0,1586044800000.0,1586131200000.0,1586217600000.0,1586304000000.0,1586390400000.0,1586476800000.0,1586563200000.0,1586649600000.0,1586736000000.0,1586822400000.0,1586908800000.0,1586995200000.0,1587081600000.0,1587168000000.0,1587254400000.0,1587340800000.0,1587427200000.0,1587513600000.0,1587600000000.0,1587686400000.0,1587772800000.0,1587859200000.0,1587945600000.0,1588032000000.0,1588118400000.0,1588204800000.0,1588291200000.0,1588377600000.0,1588464000000.0,1588550400000.0,1588636800000.0,1588723200000.0,1588809600000.0,1588896000000.0,1588982400000.0,1589068800000.0,1589155200000.0,1589241600000.0,1589328000000.0,1589414400000.0,1589500800000.0,1589587200000.0,1589673600000.0,1589760000000.0,1589846400000.0,1589932800000.0,1590019200000.0,1590105600000.0,1590192000000.0,1590278400000.0,1590364800000.0,1590451200000.0,1590537600000.0,1590624000000.0,1590710400000.0,1590796800000.0,1590883200000.0,1590969600000.0,1591056000000.0,1591142400000.0,1591228800000.0,1591315200000.0,1591401600000.0,1591488000000.0,1591574400000.0,1591660800000.0,1591747200000.0,1591833600000.0,1591920000000.0,1592006400000.0,1592092800000.0,1592179200000.0,1592265600000.0,1592352000000.0,1592438400000.0,1592524800000.0,1592611200000.0,1592697600000.0,1592784000000.0,1592870400000.0,1592956800000.0,1593043200000.0,1593129600000.0,1593216000000.0,1593302400000.0,1593388800000.0,1593475200000.0,1593561600000.0,1593648000000.0,1593734400000.0,1593820800000.0,1593907200000.0,1593993600000.0,1594080000000.0,1594166400000.0,1594252800000.0,1594339200000.0,1594425600000.0,1594512000000.0,1594598400000.0,1594684800000.0,1594771200000.0,1594857600000.0,1594944000000.0,1595030400000.0,1595116800000.0,1595203200000.0,1595289600000.0,1595376000000.0,1595462400000.0,1595548800000.0,1595635200000.0,1595721600000.0,1595808000000.0,1595894400000.0,1595980800000.0,1596067200000.0,1596153600000.0,1596240000000.0,1596326400000.0,1596412800000.0,1596499200000.0,1596585600000.0,1596672000000.0,1596758400000.0,1596844800000.0,1596931200000.0,1597017600000.0,1597104000000.0,1597190400000.0,1597276800000.0,1597363200000.0,1597449600000.0,1597536000000.0,1597622400000.0,1597708800000.0,1597795200000.0,1597881600000.0,1597968000000.0,1598054400000.0,1598140800000.0,1598227200000.0,1598313600000.0,1598400000000.0,1598486400000.0,1598572800000.0,1598659200000.0,1598745600000.0,1598832000000.0,1598918400000.0,1599004800000.0,1599091200000.0,1599177600000.0,1599264000000.0,1599350400000.0,1599436800000.0,1599523200000.0,1599609600000.0,1599696000000.0,1599782400000.0,1599868800000.0,1599955200000.0,1600041600000.0,1600128000000.0,1600214400000.0,1600300800000.0,1600387200000.0,1600473600000.0,1600560000000.0,1600646400000.0,1600732800000.0,1600819200000.0,1600905600000.0,1600992000000.0,1601078400000.0,1601164800000.0,1601251200000.0,1601337600000.0,1601424000000.0,1601510400000.0,1601596800000.0,1601683200000.0,1601769600000.0,1601856000000.0,1601942400000.0,1602028800000.0,1602115200000.0,1602201600000.0,1602288000000.0,1602374400000.0,1602460800000.0,1602547200000.0,1602633600000.0,1602720000000.0,1602806400000.0,1602892800000.0,1602979200000.0,1603065600000.0,1603152000000.0,1603238400000.0,1603324800000.0,1603411200000.0,1603497600000.0,1603584000000.0,1603670400000.0,1603756800000.0,1603843200000.0,1603929600000.0,1604016000000.0,1604102400000.0,1604188800000.0,1604275200000.0,1604361600000.0,1604448000000.0,1604534400000.0,1604620800000.0,1604707200000.0,1604793600000.0,1604880000000.0,1604966400000.0,1605052800000.0,1605139200000.0,1605225600000.0,1605312000000.0,1605398400000.0,1605484800000.0,1605571200000.0,1605657600000.0,1605744000000.0,1605830400000.0,1605916800000.0,1606003200000.0,1606089600000.0,1606176000000.0,1606262400000.0,1606348800000.0,1606435200000.0,1606521600000.0,1606608000000.0,1606694400000.0,1606780800000.0,1606867200000.0,1606953600000.0,1607040000000.0,1607126400000.0,1607212800000.0,1607299200000.0,1607385600000.0,1607472000000.0,1607558400000.0,1607644800000.0,1607731200000.0,1607817600000.0,1607904000000.0,1607990400000.0,1608076800000.0,1608163200000.0,1608249600000.0,1608336000000.0,1608422400000.0,1608508800000.0,1608595200000.0,1608681600000.0,1608768000000.0,1608854400000.0,1608940800000.0,1609027200000.0,1609113600000.0,1609200000000.0,1609286400000.0,1609372800000.0,1609459200000.0,1609545600000.0,1609632000000.0,1609718400000.0,1609804800000.0,1609891200000.0,1609977600000.0,1610064000000.0,1610150400000.0,1610236800000.0,1610323200000.0,1610409600000.0,1610496000000.0,1610582400000.0,1610668800000.0,1610755200000.0,1610841600000.0,1610928000000.0,1611014400000.0,1611100800000.0,1611187200000.0,1611273600000.0,1611360000000.0,1611446400000.0,1611532800000.0,1611619200000.0,1611705600000.0,1611792000000.0,1611878400000.0,1611964800000.0,1612051200000.0,1612137600000.0,1612224000000.0,1612310400000.0,1612396800000.0,1612483200000.0,1612569600000.0,1612656000000.0,1612742400000.0,1612828800000.0,1612915200000.0,1613001600000.0,1613088000000.0,1613174400000.0,1613260800000.0,1613347200000.0,1613433600000.0,1613520000000.0,1613606400000.0,1613692800000.0,1613779200000.0,1613865600000.0,1613952000000.0,1614038400000.0,1614124800000.0,1614211200000.0,1614297600000.0,1614384000000.0,1614470400000.0,1614556800000.0,1614643200000.0,1614729600000.0,1614816000000.0,1614902400000.0,1614988800000.0,1615075200000.0,1615161600000.0,1615248000000.0,1615334400000.0,1615420800000.0,1615507200000.0,1615593600000.0,1615680000000.0,1615766400000.0,1615852800000.0,1615939200000.0,1616025600000.0,1616112000000.0,1616198400000.0,1616284800000.0,1616371200000.0,1616457600000.0,1616544000000.0,1616630400000.0,1616716800000.0,1616803200000.0,1616889600000.0,1616976000000.0,1617062400000.0,1617148800000.0,1617235200000.0,1617321600000.0,1617408000000.0,1617494400000.0,1617580800000.0,1617667200000.0,1617753600000.0,1617840000000.0,1617926400000.0,1618012800000.0,1618099200000.0,1618185600000.0,1618272000000.0,1618358400000.0,1618444800000.0,1618531200000.0,1618617600000.0,1618704000000.0,1618790400000.0,1618876800000.0,1618963200000.0,1619049600000.0,1619136000000.0,1619222400000.0,1619308800000.0,1619395200000.0,1619481600000.0,1619568000000.0,1619654400000.0,1619740800000.0,1619740800000.0],\"y\":[1,1,3,45,46,50,83,149,160,276,414,523,589,622,724,1004,1045,1258,1439,1966,2335,2749,2941,4025,4440,5129,6072,7024,7432,8326,9362,10361,10950,12384,13030,14620,15729,16847,18278,19758,20996,21815,22837,24392,26491,28470,30455,32534,34211,35435,37130,38092,40164,42727,44927,47055,48877,51600,54543,57576,60498,63120,64928,66624,68941,71252,75945,78249,79914,81654,82879,85231,93245,96276,99023,103031,105186,106587,109039,112541,115288,120205,122810,125176,127326,129401,132282,134560,136720,138840,140479,141981,144658,147101,150604,152844,155633,157507,158355,160092,160938,161895,163781,165078,165837,166584,168646,169939,171338,173085,174865,176370,177010,178526,179455,180544,181907,182453,182893,183426,184585,186111,186725,187615,188584,188891,189196,190248,190717,191083,191467,191944,192108,192241,192815,193640,193978,194273,194579,194928,195106,195441,196016,196246,196483,196806,196949,197162,197431,197628,197842,198192,198320,198446,198593,198756,199031,199796,199974,200229,200460,200589,200766,200976,201323,201642,201947,202098,202248,202461,202697,202923,203326,203640,203786,203968,204142,204506,204686,204960,205203,205470,205662,206015,206329,206554,206902,207224,207536,207653,207944,208201,208490,209027,209610,210015,210238,210801,211272,211885,212432,213191,213634,213950,214645,215265,215954,216807,217716,218351,218703,219670,220665,221762,222716,223693,224417,225190,226506,227704,228844,229970,231217,231914,232681,234099,235303,236363,237549,238525,239709,240600,242028,244065,245964,247872,249127,251461,252959,255005,257374,259456,261808,264117,266203,268626,271988,275404,279282,283567,289426,292380,296017,302275,307378,312339,322925,328891,335074,345289,363023,372113,387758,399238,411434,420810,442364,457798,481967,498987,520022,539524,553098,584493,605330,637149,661180,696647,720861,734503,757507,784595,823335,846809,872385,896308,913494,933132,958629,997895,1027994,1052163,1076891,1093161,1115617,1141406,1175901,1203814,1226086,1249470,1261626,1281258,1301573,1322067,1344785,1377109,1386213,1394011,1408686,1425730,1445690,1463111,1479988,1489154,1503900,1520106,1536129,1556356,1572015,1589590,1606630,1617804,1633839,1653404,1673936,1694051,1713030,1729216,1745726,1760489,1781917,1806932,1827451,1855127,1871189,1882074,1897861,1917117,1936289,1953509,1973388,1990152,2010548,2024523,2043500,2059248,2076928,2091923,2107061,2118441,2133523,2149350,2165817,2185655,2202077,2216050,2225519,2237290,2251734,2268253,2286029,2303199,2315687,2324633,2334968,2347866,2362465,2375318,2387032,2398352,2405199,2416093,2426150,2440218,2453706,2467388,2481372,2494839,2508732,2521731,2535483,2550483,2564926,2579896,2589731,2605538,2619654,2639370,2655346,2671638,2686236,2699762,2732482,2753083,2773215,2794888,2814652,2832939,2850889,2870614,2889301,2913045,2933757,2953377,2974688,2988199,2997522,3019255,3040182,3060411,3086586,3107069,3122555,3140565,3158725,3178976,3200196,3218975,3235459,3248593,3268262,3290715,3311267,3330392,3351461,3369048,3382224,3398763,3413451,3431867,3449955,3465576,3465576]},\"selected\":{\"id\":\"2487\",\"type\":\"Selection\"},\"selection_policy\":{\"id\":\"2488\",\"type\":\"UnionRenderers\"}},\"id\":\"2449\",\"type\":\"ColumnDataSource\"},{\"attributes\":{},\"id\":\"2487\",\"type\":\"Selection\"},{\"attributes\":{\"line_color\":\"seagreen\",\"line_width\":2,\"x\":{\"field\":\"x\"},\"y\":{\"field\":\"y\"}},\"id\":\"2476\",\"type\":\"Line\"},{\"attributes\":{},\"id\":\"2488\",\"type\":\"UnionRenderers\"},{\"attributes\":{\"source\":{\"id\":\"2449\",\"type\":\"ColumnDataSource\"}},\"id\":\"2453\",\"type\":\"CDSView\"},{\"attributes\":{\"label\":{\"value\":\"healed people\"},\"renderers\":[{\"id\":\"2452\",\"type\":\"GlyphRenderer\"}]},\"id\":\"2474\",\"type\":\"LegendItem\"},{\"attributes\":{\"line_alpha\":0.1,\"line_color\":\"#1f77b4\",\"line_width\":2,\"x\":{\"field\":\"x\"},\"y\":{\"field\":\"y\"}},\"id\":\"2451\",\"type\":\"Line\"}],\"root_ids\":[\"2390\"]},\"title\":\"Bokeh Application\",\"version\":\"1.4.0\"}};\n",
       "  var render_items = [{\"docid\":\"f2b8470a-09cd-4982-b1ea-f535fd315ac1\",\"roots\":{\"2390\":\"b7e1b4ed-518e-411e-8eb1-906a015a3726\"}}];\n",
       "  root.Bokeh.embed.embed_items_notebook(docs_json, render_items);\n",
       "\n",
       "  }\n",
       "  if (root.Bokeh !== undefined) {\n",
       "    embed_document(root);\n",
       "  } else {\n",
       "    var attempts = 0;\n",
       "    var timer = setInterval(function(root) {\n",
       "      if (root.Bokeh !== undefined) {\n",
       "        clearInterval(timer);\n",
       "        embed_document(root);\n",
       "      } else {\n",
       "        attempts++;\n",
       "        if (attempts > 100) {\n",
       "          clearInterval(timer);\n",
       "          console.log(\"Bokeh: ERROR: Unable to run BokehJS code because BokehJS library is missing\");\n",
       "        }\n",
       "      }\n",
       "    }, 10, root)\n",
       "  }\n",
       "})(window);"
      ],
      "application/vnd.bokehjs_exec.v0+json": ""
     },
     "metadata": {
      "application/vnd.bokehjs_exec.v0+json": {
       "id": "2390"
      }
     },
     "output_type": "display_data"
    }
   ],
   "source": [
    "fig = figure(title='Cumulative trend for dead people, healed people and total infected',\n",
    "             x_axis_label='date',\n",
    "             y_axis_label='count',\n",
    "             width=800,\n",
    "             height=400,\n",
    "             x_axis_type='datetime')\n",
    "\n",
    "for cl in columns_to_show:\n",
    "    fig.line(df['only_data'],\n",
    "             df[cl],\n",
    "             color=colors[columns_to_show.index(cl)],\n",
    "             legend_label=legend[cl], \n",
    "             line_width=2)\n",
    "\n",
    "fig.add_tools(HoverTool(\n",
    "    tooltips=[('date', '@x{%F}'), ('count', '@y')],\n",
    "    formatters=dict(x='datetime')\n",
    "))\n",
    "fig.add_tools(PanTool(dimensions='width'))\n",
    "fig.legend.location = 'top_left'\n",
    "fig.x_range.start = df['only_data'].min()\n",
    "\n",
    "show(fig)"
   ]
  },
  {
   "cell_type": "code",
   "execution_count": null,
   "metadata": {},
   "outputs": [],
   "source": []
  },
  {
   "cell_type": "markdown",
   "metadata": {},
   "source": [
    "## analysis of the hospitalizations trend"
   ]
  },
  {
   "cell_type": "code",
   "execution_count": 23,
   "metadata": {},
   "outputs": [
    {
     "data": {
      "text/html": [
       "\n",
       "\n",
       "\n",
       "\n",
       "\n",
       "\n",
       "  <div class=\"bk-root\" id=\"d11f10fc-3388-40ef-a092-300b0f0a0bf3\" data-root-id=\"2785\"></div>\n"
      ]
     },
     "metadata": {},
     "output_type": "display_data"
    },
    {
     "data": {
      "application/javascript": [
       "(function(root) {\n",
       "  function embed_document(root) {\n",
       "    \n",
       "  var docs_json = {\"bb885f9d-e2e0-4eff-84d9-3c61ee7af011\":{\"roots\":{\"references\":[{\"attributes\":{\"below\":[{\"id\":\"2796\",\"type\":\"DatetimeAxis\"}],\"center\":[{\"id\":\"2800\",\"type\":\"Grid\"},{\"id\":\"2805\",\"type\":\"Grid\"},{\"id\":\"2842\",\"type\":\"Legend\"}],\"left\":[{\"id\":\"2801\",\"type\":\"LinearAxis\"}],\"plot_height\":400,\"plot_width\":800,\"renderers\":[{\"id\":\"2822\",\"type\":\"GlyphRenderer\"},{\"id\":\"2847\",\"type\":\"GlyphRenderer\"}],\"title\":{\"id\":\"2786\",\"type\":\"Title\"},\"toolbar\":{\"id\":\"2812\",\"type\":\"Toolbar\"},\"x_range\":{\"id\":\"2788\",\"type\":\"DataRange1d\"},\"x_scale\":{\"id\":\"2792\",\"type\":\"LinearScale\"},\"y_range\":{\"id\":\"2790\",\"type\":\"DataRange1d\"},\"y_scale\":{\"id\":\"2794\",\"type\":\"LinearScale\"}},\"id\":\"2785\",\"subtype\":\"Figure\",\"type\":\"Plot\"},{\"attributes\":{\"days\":[1,15]},\"id\":\"2835\",\"type\":\"DaysTicker\"},{\"attributes\":{\"callback\":null,\"formatters\":{\"x\":\"datetime\"},\"tooltips\":[[\"date\",\"@x{%F}\"],[\"count\",\"@y\"]]},\"id\":\"2870\",\"type\":\"HoverTool\"},{\"attributes\":{},\"id\":\"2802\",\"type\":\"BasicTicker\"},{\"attributes\":{\"text\":\"hospitalizations trend\"},\"id\":\"2786\",\"type\":\"Title\"},{\"attributes\":{\"days\":[1,8,15,22]},\"id\":\"2834\",\"type\":\"DaysTicker\"},{\"attributes\":{\"data_source\":{\"id\":\"2844\",\"type\":\"ColumnDataSource\"},\"glyph\":{\"id\":\"2845\",\"type\":\"Line\"},\"hover_glyph\":null,\"muted_glyph\":null,\"nonselection_glyph\":{\"id\":\"2846\",\"type\":\"Line\"},\"selection_glyph\":null,\"view\":{\"id\":\"2848\",\"type\":\"CDSView\"}},\"id\":\"2847\",\"type\":\"GlyphRenderer\"},{\"attributes\":{\"months\":[0,1,2,3,4,5,6,7,8,9,10,11]},\"id\":\"2836\",\"type\":\"MonthsTicker\"},{\"attributes\":{\"line_color\":\"blue\",\"line_width\":2,\"x\":{\"field\":\"x\"},\"y\":{\"field\":\"y\"}},\"id\":\"2845\",\"type\":\"Line\"},{\"attributes\":{\"months\":[0,4,8]},\"id\":\"2838\",\"type\":\"MonthsTicker\"},{\"attributes\":{},\"id\":\"2792\",\"type\":\"LinearScale\"},{\"attributes\":{\"line_color\":\"red\",\"line_width\":2,\"x\":{\"field\":\"x\"},\"y\":{\"field\":\"y\"}},\"id\":\"2820\",\"type\":\"Line\"},{\"attributes\":{},\"id\":\"2825\",\"type\":\"BasicTickFormatter\"},{\"attributes\":{\"callback\":null},\"id\":\"2790\",\"type\":\"DataRange1d\"},{\"attributes\":{\"months\":[0,6]},\"id\":\"2839\",\"type\":\"MonthsTicker\"},{\"attributes\":{\"bottom_units\":\"screen\",\"fill_alpha\":{\"value\":0.5},\"fill_color\":{\"value\":\"lightgrey\"},\"left_units\":\"screen\",\"level\":\"overlay\",\"line_alpha\":{\"value\":1.0},\"line_color\":{\"value\":\"black\"},\"line_dash\":[4,4],\"line_width\":{\"value\":2},\"render_mode\":\"css\",\"right_units\":\"screen\",\"top_units\":\"screen\"},\"id\":\"2841\",\"type\":\"BoxAnnotation\"},{\"attributes\":{},\"id\":\"2794\",\"type\":\"LinearScale\"},{\"attributes\":{},\"id\":\"3016\",\"type\":\"UnionRenderers\"},{\"attributes\":{\"callback\":null,\"data\":{\"x\":[1582502400000.0,1582588800000.0,1582675200000.0,1582761600000.0,1582848000000.0,1582934400000.0,1583020800000.0,1583107200000.0,1583193600000.0,1583280000000.0,1583366400000.0,1583452800000.0,1583539200000.0,1583625600000.0,1583712000000.0,1583798400000.0,1583884800000.0,1583971200000.0,1584057600000.0,1584144000000.0,1584230400000.0,1584316800000.0,1584403200000.0,1584489600000.0,1584576000000.0,1584662400000.0,1584748800000.0,1584835200000.0,1584921600000.0,1585008000000.0,1585094400000.0,1585180800000.0,1585267200000.0,1585353600000.0,1585440000000.0,1585526400000.0,1585612800000.0,1585699200000.0,1585785600000.0,1585872000000.0,1585958400000.0,1586044800000.0,1586131200000.0,1586217600000.0,1586304000000.0,1586390400000.0,1586476800000.0,1586563200000.0,1586649600000.0,1586736000000.0,1586822400000.0,1586908800000.0,1586995200000.0,1587081600000.0,1587168000000.0,1587254400000.0,1587340800000.0,1587427200000.0,1587513600000.0,1587600000000.0,1587686400000.0,1587772800000.0,1587859200000.0,1587945600000.0,1588032000000.0,1588118400000.0,1588204800000.0,1588291200000.0,1588377600000.0,1588464000000.0,1588550400000.0,1588636800000.0,1588723200000.0,1588809600000.0,1588896000000.0,1588982400000.0,1589068800000.0,1589155200000.0,1589241600000.0,1589328000000.0,1589414400000.0,1589500800000.0,1589587200000.0,1589673600000.0,1589760000000.0,1589846400000.0,1589932800000.0,1590019200000.0,1590105600000.0,1590192000000.0,1590278400000.0,1590364800000.0,1590451200000.0,1590537600000.0,1590624000000.0,1590710400000.0,1590796800000.0,1590883200000.0,1590969600000.0,1591056000000.0,1591142400000.0,1591228800000.0,1591315200000.0,1591401600000.0,1591488000000.0,1591574400000.0,1591660800000.0,1591747200000.0,1591833600000.0,1591920000000.0,1592006400000.0,1592092800000.0,1592179200000.0,1592265600000.0,1592352000000.0,1592438400000.0,1592524800000.0,1592611200000.0,1592697600000.0,1592784000000.0,1592870400000.0,1592956800000.0,1593043200000.0,1593129600000.0,1593216000000.0,1593302400000.0,1593388800000.0,1593475200000.0,1593561600000.0,1593648000000.0,1593734400000.0,1593820800000.0,1593907200000.0,1593993600000.0,1594080000000.0,1594166400000.0,1594252800000.0,1594339200000.0,1594425600000.0,1594512000000.0,1594598400000.0,1594684800000.0,1594771200000.0,1594857600000.0,1594944000000.0,1595030400000.0,1595116800000.0,1595203200000.0,1595289600000.0,1595376000000.0,1595462400000.0,1595548800000.0,1595635200000.0,1595721600000.0,1595808000000.0,1595894400000.0,1595980800000.0,1596067200000.0,1596153600000.0,1596240000000.0,1596326400000.0,1596412800000.0,1596499200000.0,1596585600000.0,1596672000000.0,1596758400000.0,1596844800000.0,1596931200000.0,1597017600000.0,1597104000000.0,1597190400000.0,1597276800000.0,1597363200000.0,1597449600000.0,1597536000000.0,1597622400000.0,1597708800000.0,1597795200000.0,1597881600000.0,1597968000000.0,1598054400000.0,1598140800000.0,1598227200000.0,1598313600000.0,1598400000000.0,1598486400000.0,1598572800000.0,1598659200000.0,1598745600000.0,1598832000000.0,1598918400000.0,1599004800000.0,1599091200000.0,1599177600000.0,1599264000000.0,1599350400000.0,1599436800000.0,1599523200000.0,1599609600000.0,1599696000000.0,1599782400000.0,1599868800000.0,1599955200000.0,1600041600000.0,1600128000000.0,1600214400000.0,1600300800000.0,1600387200000.0,1600473600000.0,1600560000000.0,1600646400000.0,1600732800000.0,1600819200000.0,1600905600000.0,1600992000000.0,1601078400000.0,1601164800000.0,1601251200000.0,1601337600000.0,1601424000000.0,1601510400000.0,1601596800000.0,1601683200000.0,1601769600000.0,1601856000000.0,1601942400000.0,1602028800000.0,1602115200000.0,1602201600000.0,1602288000000.0,1602374400000.0,1602460800000.0,1602547200000.0,1602633600000.0,1602720000000.0,1602806400000.0,1602892800000.0,1602979200000.0,1603065600000.0,1603152000000.0,1603238400000.0,1603324800000.0,1603411200000.0,1603497600000.0,1603584000000.0,1603670400000.0,1603756800000.0,1603843200000.0,1603929600000.0,1604016000000.0,1604102400000.0,1604188800000.0,1604275200000.0,1604361600000.0,1604448000000.0,1604534400000.0,1604620800000.0,1604707200000.0,1604793600000.0,1604880000000.0,1604966400000.0,1605052800000.0,1605139200000.0,1605225600000.0,1605312000000.0,1605398400000.0,1605484800000.0,1605571200000.0,1605657600000.0,1605744000000.0,1605830400000.0,1605916800000.0,1606003200000.0,1606089600000.0,1606176000000.0,1606262400000.0,1606348800000.0,1606435200000.0,1606521600000.0,1606608000000.0,1606694400000.0,1606780800000.0,1606867200000.0,1606953600000.0,1607040000000.0,1607126400000.0,1607212800000.0,1607299200000.0,1607385600000.0,1607472000000.0,1607558400000.0,1607644800000.0,1607731200000.0,1607817600000.0,1607904000000.0,1607990400000.0,1608076800000.0,1608163200000.0,1608249600000.0,1608336000000.0,1608422400000.0,1608508800000.0,1608595200000.0,1608681600000.0,1608768000000.0,1608854400000.0,1608940800000.0,1609027200000.0,1609113600000.0,1609200000000.0,1609286400000.0,1609372800000.0,1609459200000.0,1609545600000.0,1609632000000.0,1609718400000.0,1609804800000.0,1609891200000.0,1609977600000.0,1610064000000.0,1610150400000.0,1610236800000.0,1610323200000.0,1610409600000.0,1610496000000.0,1610582400000.0,1610668800000.0,1610755200000.0,1610841600000.0,1610928000000.0,1611014400000.0,1611100800000.0,1611187200000.0,1611273600000.0,1611360000000.0,1611446400000.0,1611532800000.0,1611619200000.0,1611705600000.0,1611792000000.0,1611878400000.0,1611964800000.0,1612051200000.0,1612137600000.0,1612224000000.0,1612310400000.0,1612396800000.0,1612483200000.0,1612569600000.0,1612656000000.0,1612742400000.0,1612828800000.0,1612915200000.0,1613001600000.0,1613088000000.0,1613174400000.0,1613260800000.0,1613347200000.0,1613433600000.0,1613520000000.0,1613606400000.0,1613692800000.0,1613779200000.0,1613865600000.0,1613952000000.0,1614038400000.0,1614124800000.0,1614211200000.0,1614297600000.0,1614384000000.0,1614470400000.0,1614556800000.0,1614643200000.0,1614729600000.0,1614816000000.0,1614902400000.0,1614988800000.0,1615075200000.0,1615161600000.0,1615248000000.0,1615334400000.0,1615420800000.0,1615507200000.0,1615593600000.0,1615680000000.0,1615766400000.0,1615852800000.0,1615939200000.0,1616025600000.0,1616112000000.0,1616198400000.0,1616284800000.0,1616371200000.0,1616457600000.0,1616544000000.0,1616630400000.0,1616716800000.0,1616803200000.0,1616889600000.0,1616976000000.0,1617062400000.0,1617148800000.0,1617235200000.0,1617321600000.0,1617408000000.0,1617494400000.0,1617580800000.0,1617667200000.0,1617753600000.0,1617840000000.0,1617926400000.0,1618012800000.0,1618099200000.0,1618185600000.0,1618272000000.0,1618358400000.0,1618444800000.0,1618531200000.0,1618617600000.0,1618704000000.0,1618790400000.0,1618876800000.0,1618963200000.0,1619049600000.0,1619136000000.0,1619222400000.0,1619308800000.0,1619395200000.0,1619481600000.0,1619568000000.0,1619654400000.0,1619740800000.0,1619740800000.0],\"y\":[26,35,36,56,64,105,140,166,229,295,351,462,567,650,733,877,1028,1153,1328,1518,1672,1851,2060,2257,2498,2655,2857,3009,3204,3396,3489,3612,3732,3856,3906,3981,4023,4035,4053,4068,3994,3977,3898,3792,3693,3605,3497,3381,3343,3260,3186,3079,2936,2812,2733,2635,2573,2471,2384,2267,2173,2102,2009,1956,1863,1795,1694,1578,1539,1501,1479,1427,1333,1311,1168,1034,1027,999,952,893,855,808,775,762,749,716,676,640,595,572,553,541,521,505,489,475,450,435,424,408,353,338,316,293,287,283,263,249,236,227,220,209,207,177,163,168,161,152,148,127,115,107,103,105,97,98,96,93,87,82,79,71,74,72,70,71,69,65,67,68,65,60,57,53,50,50,49,47,49,48,49,46,41,44,45,40,38,47,41,43,42,41,41,41,42,42,43,45,46,49,53,55,56,55,56,58,58,66,68,69,64,69,65,66,69,67,74,79,86,94,107,109,120,121,121,133,142,143,150,164,175,182,187,197,201,207,212,208,215,222,232,239,244,246,244,247,254,264,271,280,291,294,297,303,323,319,337,358,387,390,420,452,514,539,586,638,705,750,797,870,926,992,1049,1128,1208,1284,1411,1536,1651,1746,1843,1939,2022,2225,2292,2391,2515,2634,2749,2849,2971,3081,3170,3230,3306,3422,3492,3612,3670,3712,3748,3758,3801,3810,3816,3848,3846,3782,3762,3753,3744,3663,3616,3597,3567,3517,3454,3382,3345,3320,3291,3265,3199,3158,3095,3003,2926,2855,2819,2784,2743,2731,2687,2624,2589,2584,2580,2580,2565,2549,2528,2555,2553,2569,2583,2579,2569,2571,2587,2587,2593,2615,2642,2636,2579,2557,2522,2520,2503,2544,2487,2461,2418,2390,2386,2400,2421,2372,2352,2288,2270,2218,2215,2252,2214,2145,2151,2142,2110,2107,2143,2143,2128,2126,2095,2062,2085,2089,2074,2043,2045,2059,2063,2094,2118,2146,2157,2168,2194,2216,2231,2289,2327,2411,2475,2525,2571,2605,2700,2756,2827,2859,2914,2982,3082,3157,3256,3317,3333,3364,3387,3448,3510,3546,3588,3620,3628,3635,3679,3721,3716,3710,3681,3704,3714,3703,3737,3743,3683,3663,3603,3588,3585,3593,3526,3490,3417,3366,3340,3311,3244,3151,3076,3021,2979,2894,2862,2849,2748,2711,2640,2583,2583]},\"selected\":{\"id\":\"3015\",\"type\":\"Selection\"},\"selection_policy\":{\"id\":\"3016\",\"type\":\"UnionRenderers\"}},\"id\":\"2844\",\"type\":\"ColumnDataSource\"},{\"attributes\":{},\"id\":\"3015\",\"type\":\"Selection\"},{\"attributes\":{\"items\":[{\"id\":\"2843\",\"type\":\"LegendItem\"},{\"id\":\"2869\",\"type\":\"LegendItem\"}],\"location\":\"top_left\"},\"id\":\"2842\",\"type\":\"Legend\"},{\"attributes\":{\"days\":[1,4,7,10,13,16,19,22,25,28]},\"id\":\"2833\",\"type\":\"DaysTicker\"},{\"attributes\":{\"data_source\":{\"id\":\"2819\",\"type\":\"ColumnDataSource\"},\"glyph\":{\"id\":\"2820\",\"type\":\"Line\"},\"hover_glyph\":null,\"muted_glyph\":null,\"nonselection_glyph\":{\"id\":\"2821\",\"type\":\"Line\"},\"selection_glyph\":null,\"view\":{\"id\":\"2823\",\"type\":\"CDSView\"}},\"id\":\"2822\",\"type\":\"GlyphRenderer\"},{\"attributes\":{},\"id\":\"2807\",\"type\":\"WheelZoomTool\"},{\"attributes\":{\"source\":{\"id\":\"2844\",\"type\":\"ColumnDataSource\"}},\"id\":\"2848\",\"type\":\"CDSView\"},{\"attributes\":{\"callback\":null,\"start\":1582502400000.0},\"id\":\"2788\",\"type\":\"DataRange1d\"},{\"attributes\":{\"axis_label\":\"date\",\"formatter\":{\"id\":\"2827\",\"type\":\"DatetimeTickFormatter\"},\"ticker\":{\"id\":\"2797\",\"type\":\"DatetimeTicker\"}},\"id\":\"2796\",\"type\":\"DatetimeAxis\"},{\"attributes\":{\"label\":{\"value\":\"intensive care unit\"},\"renderers\":[{\"id\":\"2847\",\"type\":\"GlyphRenderer\"}]},\"id\":\"2869\",\"type\":\"LegendItem\"},{\"attributes\":{\"line_alpha\":0.1,\"line_color\":\"#1f77b4\",\"line_width\":2,\"x\":{\"field\":\"x\"},\"y\":{\"field\":\"y\"}},\"id\":\"2846\",\"type\":\"Line\"},{\"attributes\":{\"active_drag\":\"auto\",\"active_inspect\":\"auto\",\"active_multi\":null,\"active_scroll\":\"auto\",\"active_tap\":\"auto\",\"tools\":[{\"id\":\"2806\",\"type\":\"PanTool\"},{\"id\":\"2807\",\"type\":\"WheelZoomTool\"},{\"id\":\"2808\",\"type\":\"BoxZoomTool\"},{\"id\":\"2809\",\"type\":\"SaveTool\"},{\"id\":\"2810\",\"type\":\"ResetTool\"},{\"id\":\"2811\",\"type\":\"HelpTool\"},{\"id\":\"2870\",\"type\":\"HoverTool\"},{\"id\":\"2872\",\"type\":\"PanTool\"}]},\"id\":\"2812\",\"type\":\"Toolbar\"},{\"attributes\":{\"source\":{\"id\":\"2819\",\"type\":\"ColumnDataSource\"}},\"id\":\"2823\",\"type\":\"CDSView\"},{\"attributes\":{},\"id\":\"2854\",\"type\":\"Selection\"},{\"attributes\":{\"dimensions\":\"width\"},\"id\":\"2872\",\"type\":\"PanTool\"},{\"attributes\":{\"num_minor_ticks\":5,\"tickers\":[{\"id\":\"2829\",\"type\":\"AdaptiveTicker\"},{\"id\":\"2830\",\"type\":\"AdaptiveTicker\"},{\"id\":\"2831\",\"type\":\"AdaptiveTicker\"},{\"id\":\"2832\",\"type\":\"DaysTicker\"},{\"id\":\"2833\",\"type\":\"DaysTicker\"},{\"id\":\"2834\",\"type\":\"DaysTicker\"},{\"id\":\"2835\",\"type\":\"DaysTicker\"},{\"id\":\"2836\",\"type\":\"MonthsTicker\"},{\"id\":\"2837\",\"type\":\"MonthsTicker\"},{\"id\":\"2838\",\"type\":\"MonthsTicker\"},{\"id\":\"2839\",\"type\":\"MonthsTicker\"},{\"id\":\"2840\",\"type\":\"YearsTicker\"}]},\"id\":\"2797\",\"type\":\"DatetimeTicker\"},{\"attributes\":{},\"id\":\"2855\",\"type\":\"UnionRenderers\"},{\"attributes\":{},\"id\":\"2811\",\"type\":\"HelpTool\"},{\"attributes\":{},\"id\":\"2810\",\"type\":\"ResetTool\"},{\"attributes\":{},\"id\":\"2827\",\"type\":\"DatetimeTickFormatter\"},{\"attributes\":{\"callback\":null,\"data\":{\"x\":[1582502400000.0,1582588800000.0,1582675200000.0,1582761600000.0,1582848000000.0,1582934400000.0,1583020800000.0,1583107200000.0,1583193600000.0,1583280000000.0,1583366400000.0,1583452800000.0,1583539200000.0,1583625600000.0,1583712000000.0,1583798400000.0,1583884800000.0,1583971200000.0,1584057600000.0,1584144000000.0,1584230400000.0,1584316800000.0,1584403200000.0,1584489600000.0,1584576000000.0,1584662400000.0,1584748800000.0,1584835200000.0,1584921600000.0,1585008000000.0,1585094400000.0,1585180800000.0,1585267200000.0,1585353600000.0,1585440000000.0,1585526400000.0,1585612800000.0,1585699200000.0,1585785600000.0,1585872000000.0,1585958400000.0,1586044800000.0,1586131200000.0,1586217600000.0,1586304000000.0,1586390400000.0,1586476800000.0,1586563200000.0,1586649600000.0,1586736000000.0,1586822400000.0,1586908800000.0,1586995200000.0,1587081600000.0,1587168000000.0,1587254400000.0,1587340800000.0,1587427200000.0,1587513600000.0,1587600000000.0,1587686400000.0,1587772800000.0,1587859200000.0,1587945600000.0,1588032000000.0,1588118400000.0,1588204800000.0,1588291200000.0,1588377600000.0,1588464000000.0,1588550400000.0,1588636800000.0,1588723200000.0,1588809600000.0,1588896000000.0,1588982400000.0,1589068800000.0,1589155200000.0,1589241600000.0,1589328000000.0,1589414400000.0,1589500800000.0,1589587200000.0,1589673600000.0,1589760000000.0,1589846400000.0,1589932800000.0,1590019200000.0,1590105600000.0,1590192000000.0,1590278400000.0,1590364800000.0,1590451200000.0,1590537600000.0,1590624000000.0,1590710400000.0,1590796800000.0,1590883200000.0,1590969600000.0,1591056000000.0,1591142400000.0,1591228800000.0,1591315200000.0,1591401600000.0,1591488000000.0,1591574400000.0,1591660800000.0,1591747200000.0,1591833600000.0,1591920000000.0,1592006400000.0,1592092800000.0,1592179200000.0,1592265600000.0,1592352000000.0,1592438400000.0,1592524800000.0,1592611200000.0,1592697600000.0,1592784000000.0,1592870400000.0,1592956800000.0,1593043200000.0,1593129600000.0,1593216000000.0,1593302400000.0,1593388800000.0,1593475200000.0,1593561600000.0,1593648000000.0,1593734400000.0,1593820800000.0,1593907200000.0,1593993600000.0,1594080000000.0,1594166400000.0,1594252800000.0,1594339200000.0,1594425600000.0,1594512000000.0,1594598400000.0,1594684800000.0,1594771200000.0,1594857600000.0,1594944000000.0,1595030400000.0,1595116800000.0,1595203200000.0,1595289600000.0,1595376000000.0,1595462400000.0,1595548800000.0,1595635200000.0,1595721600000.0,1595808000000.0,1595894400000.0,1595980800000.0,1596067200000.0,1596153600000.0,1596240000000.0,1596326400000.0,1596412800000.0,1596499200000.0,1596585600000.0,1596672000000.0,1596758400000.0,1596844800000.0,1596931200000.0,1597017600000.0,1597104000000.0,1597190400000.0,1597276800000.0,1597363200000.0,1597449600000.0,1597536000000.0,1597622400000.0,1597708800000.0,1597795200000.0,1597881600000.0,1597968000000.0,1598054400000.0,1598140800000.0,1598227200000.0,1598313600000.0,1598400000000.0,1598486400000.0,1598572800000.0,1598659200000.0,1598745600000.0,1598832000000.0,1598918400000.0,1599004800000.0,1599091200000.0,1599177600000.0,1599264000000.0,1599350400000.0,1599436800000.0,1599523200000.0,1599609600000.0,1599696000000.0,1599782400000.0,1599868800000.0,1599955200000.0,1600041600000.0,1600128000000.0,1600214400000.0,1600300800000.0,1600387200000.0,1600473600000.0,1600560000000.0,1600646400000.0,1600732800000.0,1600819200000.0,1600905600000.0,1600992000000.0,1601078400000.0,1601164800000.0,1601251200000.0,1601337600000.0,1601424000000.0,1601510400000.0,1601596800000.0,1601683200000.0,1601769600000.0,1601856000000.0,1601942400000.0,1602028800000.0,1602115200000.0,1602201600000.0,1602288000000.0,1602374400000.0,1602460800000.0,1602547200000.0,1602633600000.0,1602720000000.0,1602806400000.0,1602892800000.0,1602979200000.0,1603065600000.0,1603152000000.0,1603238400000.0,1603324800000.0,1603411200000.0,1603497600000.0,1603584000000.0,1603670400000.0,1603756800000.0,1603843200000.0,1603929600000.0,1604016000000.0,1604102400000.0,1604188800000.0,1604275200000.0,1604361600000.0,1604448000000.0,1604534400000.0,1604620800000.0,1604707200000.0,1604793600000.0,1604880000000.0,1604966400000.0,1605052800000.0,1605139200000.0,1605225600000.0,1605312000000.0,1605398400000.0,1605484800000.0,1605571200000.0,1605657600000.0,1605744000000.0,1605830400000.0,1605916800000.0,1606003200000.0,1606089600000.0,1606176000000.0,1606262400000.0,1606348800000.0,1606435200000.0,1606521600000.0,1606608000000.0,1606694400000.0,1606780800000.0,1606867200000.0,1606953600000.0,1607040000000.0,1607126400000.0,1607212800000.0,1607299200000.0,1607385600000.0,1607472000000.0,1607558400000.0,1607644800000.0,1607731200000.0,1607817600000.0,1607904000000.0,1607990400000.0,1608076800000.0,1608163200000.0,1608249600000.0,1608336000000.0,1608422400000.0,1608508800000.0,1608595200000.0,1608681600000.0,1608768000000.0,1608854400000.0,1608940800000.0,1609027200000.0,1609113600000.0,1609200000000.0,1609286400000.0,1609372800000.0,1609459200000.0,1609545600000.0,1609632000000.0,1609718400000.0,1609804800000.0,1609891200000.0,1609977600000.0,1610064000000.0,1610150400000.0,1610236800000.0,1610323200000.0,1610409600000.0,1610496000000.0,1610582400000.0,1610668800000.0,1610755200000.0,1610841600000.0,1610928000000.0,1611014400000.0,1611100800000.0,1611187200000.0,1611273600000.0,1611360000000.0,1611446400000.0,1611532800000.0,1611619200000.0,1611705600000.0,1611792000000.0,1611878400000.0,1611964800000.0,1612051200000.0,1612137600000.0,1612224000000.0,1612310400000.0,1612396800000.0,1612483200000.0,1612569600000.0,1612656000000.0,1612742400000.0,1612828800000.0,1612915200000.0,1613001600000.0,1613088000000.0,1613174400000.0,1613260800000.0,1613347200000.0,1613433600000.0,1613520000000.0,1613606400000.0,1613692800000.0,1613779200000.0,1613865600000.0,1613952000000.0,1614038400000.0,1614124800000.0,1614211200000.0,1614297600000.0,1614384000000.0,1614470400000.0,1614556800000.0,1614643200000.0,1614729600000.0,1614816000000.0,1614902400000.0,1614988800000.0,1615075200000.0,1615161600000.0,1615248000000.0,1615334400000.0,1615420800000.0,1615507200000.0,1615593600000.0,1615680000000.0,1615766400000.0,1615852800000.0,1615939200000.0,1616025600000.0,1616112000000.0,1616198400000.0,1616284800000.0,1616371200000.0,1616457600000.0,1616544000000.0,1616630400000.0,1616716800000.0,1616803200000.0,1616889600000.0,1616976000000.0,1617062400000.0,1617148800000.0,1617235200000.0,1617321600000.0,1617408000000.0,1617494400000.0,1617580800000.0,1617667200000.0,1617753600000.0,1617840000000.0,1617926400000.0,1618012800000.0,1618099200000.0,1618185600000.0,1618272000000.0,1618358400000.0,1618444800000.0,1618531200000.0,1618617600000.0,1618704000000.0,1618790400000.0,1618876800000.0,1618963200000.0,1619049600000.0,1619136000000.0,1619222400000.0,1619308800000.0,1619395200000.0,1619481600000.0,1619568000000.0,1619654400000.0,1619740800000.0,1619740800000.0],\"y\":[101,114,128,248,345,401,639,742,1034,1346,1790,2394,2651,3557,4316,5038,5838,6650,7426,8372,9663,11025,12894,14363,15757,16020,17708,19846,20692,21937,23112,24753,26029,26676,27386,27795,28192,28403,28540,28741,29010,28949,28976,28718,28485,28399,28242,28144,27847,28023,28011,27643,26893,25786,25007,25033,24906,24134,23805,22871,22068,21533,21372,20353,19723,19210,18149,17569,17357,17242,16823,16270,15769,15174,14636,13834,13618,13539,12865,12172,11453,10792,10400,10311,10207,9991,9624,9269,8957,8695,8613,8185,7917,7729,7379,7094,6680,6387,6099,5916,5742,5503,5301,5002,4864,4729,4581,4320,4131,3893,3747,3594,3489,3301,3113,2867,2632,2474,2314,2038,1853,1610,1515,1356,1260,1160,1120,1090,1025,963,956,940,945,946,940,899,871,844,826,776,768,777,797,750,771,757,743,745,732,724,713,713,731,735,740,749,731,748,716,705,708,734,761,764,762,779,771,763,779,801,779,786,771,764,787,810,843,866,883,919,924,971,1045,1058,1055,1131,1178,1168,1251,1288,1380,1437,1505,1607,1620,1683,1719,1760,1778,1836,1849,1951,2042,2122,2222,2285,2348,2387,2380,2365,2475,2604,2658,2731,2737,2746,2846,2977,3048,3047,3097,3142,3205,3287,3487,3625,3782,3925,4086,4336,4519,4821,5076,5470,5796,6178,6617,7131,7676,8454,9057,9694,10549,11287,12006,12997,13955,14981,15964,16994,17966,18902,19840,21114,22116,23256,24005,25109,26440,27636,28633,29444,29873,30914,31398,32047,32536,33074,33504,33610,33957,34063,34279,34697,34577,34313,34038,33684,33299,32879,33187,32811,32454,31772,31200,30158,30391,30524,30081,29653,29088,28562,28066,27735,27765,27342,26897,26427,25769,25364,25158,25145,24948,24546,24070,23402,23312,23571,23932,23662,23566,23151,22822,22948,23075,23317,23395,23174,23291,23313,23260,23427,23603,23712,23525,23110,22841,22784,22757,22884,22699,22469,22045,21691,21403,21309,21424,21355,21161,20778,20397,20098,20096,20260,20317,20071,19743,19575,19408,19266,19527,19512,19280,18942,18736,18500,18449,18515,18463,18274,17963,17831,17725,17804,18155,18295,18217,18257,18292,18372,18638,19112,19570,19763,20157,20374,20701,21144,21831,22393,22882,23247,23656,24153,24518,25338,26098,26517,26694,26858,27061,27484,28049,28428,28438,28424,28472,28621,28701,29163,29231,29180,28949,28704,28489,28432,28785,29337,29316,28851,28146,27654,27251,27329,26952,26369,25587,24743,24100,23648,23742,23255,22784,22094,21440,20971,20662,20635,20312,19860,19351,18940,18940]},\"selected\":{\"id\":\"2854\",\"type\":\"Selection\"},\"selection_policy\":{\"id\":\"2855\",\"type\":\"UnionRenderers\"}},\"id\":\"2819\",\"type\":\"ColumnDataSource\"},{\"attributes\":{},\"id\":\"2840\",\"type\":\"YearsTicker\"},{\"attributes\":{\"label\":{\"value\":\"hospitalized with symptoms\"},\"renderers\":[{\"id\":\"2822\",\"type\":\"GlyphRenderer\"}]},\"id\":\"2843\",\"type\":\"LegendItem\"},{\"attributes\":{\"ticker\":{\"id\":\"2797\",\"type\":\"DatetimeTicker\"}},\"id\":\"2800\",\"type\":\"Grid\"},{\"attributes\":{\"line_alpha\":0.1,\"line_color\":\"#1f77b4\",\"line_width\":2,\"x\":{\"field\":\"x\"},\"y\":{\"field\":\"y\"}},\"id\":\"2821\",\"type\":\"Line\"},{\"attributes\":{\"mantissas\":[1,2,5],\"max_interval\":500.0,\"num_minor_ticks\":0},\"id\":\"2829\",\"type\":\"AdaptiveTicker\"},{\"attributes\":{\"base\":60,\"mantissas\":[1,2,5,10,15,20,30],\"max_interval\":1800000.0,\"min_interval\":1000.0,\"num_minor_ticks\":0},\"id\":\"2830\",\"type\":\"AdaptiveTicker\"},{\"attributes\":{\"days\":[1,2,3,4,5,6,7,8,9,10,11,12,13,14,15,16,17,18,19,20,21,22,23,24,25,26,27,28,29,30,31]},\"id\":\"2832\",\"type\":\"DaysTicker\"},{\"attributes\":{\"axis_label\":\"count\",\"formatter\":{\"id\":\"2825\",\"type\":\"BasicTickFormatter\"},\"ticker\":{\"id\":\"2802\",\"type\":\"BasicTicker\"}},\"id\":\"2801\",\"type\":\"LinearAxis\"},{\"attributes\":{\"base\":24,\"mantissas\":[1,2,4,6,8,12],\"max_interval\":43200000.0,\"min_interval\":3600000.0,\"num_minor_ticks\":0},\"id\":\"2831\",\"type\":\"AdaptiveTicker\"},{\"attributes\":{},\"id\":\"2806\",\"type\":\"PanTool\"},{\"attributes\":{\"overlay\":{\"id\":\"2841\",\"type\":\"BoxAnnotation\"}},\"id\":\"2808\",\"type\":\"BoxZoomTool\"},{\"attributes\":{\"dimension\":1,\"ticker\":{\"id\":\"2802\",\"type\":\"BasicTicker\"}},\"id\":\"2805\",\"type\":\"Grid\"},{\"attributes\":{\"months\":[0,2,4,6,8,10]},\"id\":\"2837\",\"type\":\"MonthsTicker\"},{\"attributes\":{},\"id\":\"2809\",\"type\":\"SaveTool\"}],\"root_ids\":[\"2785\"]},\"title\":\"Bokeh Application\",\"version\":\"1.4.0\"}};\n",
       "  var render_items = [{\"docid\":\"bb885f9d-e2e0-4eff-84d9-3c61ee7af011\",\"roots\":{\"2785\":\"d11f10fc-3388-40ef-a092-300b0f0a0bf3\"}}];\n",
       "  root.Bokeh.embed.embed_items_notebook(docs_json, render_items);\n",
       "\n",
       "  }\n",
       "  if (root.Bokeh !== undefined) {\n",
       "    embed_document(root);\n",
       "  } else {\n",
       "    var attempts = 0;\n",
       "    var timer = setInterval(function(root) {\n",
       "      if (root.Bokeh !== undefined) {\n",
       "        clearInterval(timer);\n",
       "        embed_document(root);\n",
       "      } else {\n",
       "        attempts++;\n",
       "        if (attempts > 100) {\n",
       "          clearInterval(timer);\n",
       "          console.log(\"Bokeh: ERROR: Unable to run BokehJS code because BokehJS library is missing\");\n",
       "        }\n",
       "      }\n",
       "    }, 10, root)\n",
       "  }\n",
       "})(window);"
      ],
      "application/vnd.bokehjs_exec.v0+json": ""
     },
     "metadata": {
      "application/vnd.bokehjs_exec.v0+json": {
       "id": "2785"
      }
     },
     "output_type": "display_data"
    }
   ],
   "source": [
    "fig = figure(title='hospitalizations trend',\n",
    "             x_axis_label='date',\n",
    "             y_axis_label='count',\n",
    "             width=800,\n",
    "             height=400,\n",
    "             x_axis_type='datetime')\n",
    "\n",
    "fig.line(df['only_data'],\n",
    "         df['ricoverati_con_sintomi'],\n",
    "         legend_label='hospitalized with symptoms', \n",
    "         color='red',\n",
    "         line_width=2)\n",
    "fig.line(df['only_data'],\n",
    "         df['terapia_intensiva'],\n",
    "         legend_label='intensive care unit', \n",
    "         color='blue',\n",
    "         line_width=2)\n",
    "\n",
    "# add the hover tool\n",
    "fig.add_tools(HoverTool(\n",
    "    tooltips=[('date', '@x{%F}'), ('count', '@y')],\n",
    "    formatters=dict(x='datetime')\n",
    "))\n",
    "fig.add_tools(PanTool(dimensions='width'))\n",
    "fig.legend.location = 'top_left'\n",
    "fig.x_range.start = df['only_data'].min()\n",
    "\n",
    "# show the figure\n",
    "show(fig)"
   ]
  },
  {
   "cell_type": "code",
   "execution_count": null,
   "metadata": {},
   "outputs": [],
   "source": []
  },
  {
   "cell_type": "markdown",
   "metadata": {},
   "source": [
    "## trend for regions"
   ]
  },
  {
   "cell_type": "code",
   "execution_count": 24,
   "metadata": {},
   "outputs": [],
   "source": [
    "reg_path = \"infections/dati-regioni/dpc-covid19-ita-regioni-*.csv\""
   ]
  },
  {
   "cell_type": "code",
   "execution_count": 25,
   "metadata": {},
   "outputs": [],
   "source": [
    "df_reg = pd.concat(map(pd.read_csv, glob.glob(os.path.join('', f\"{reg_path}\"))))"
   ]
  },
  {
   "cell_type": "code",
   "execution_count": 26,
   "metadata": {},
   "outputs": [],
   "source": [
    "df_reg['only_data'] = pd.to_datetime(df_reg['data']).dt.date\n",
    "df_reg['week'] = pd.to_datetime(df_reg[\"data\"]).dt.strftime(\"%Y\")+\"_\"+pd.to_datetime(df_reg[\"data\"]).dt.strftime(\"%W\")"
   ]
  },
  {
   "cell_type": "code",
   "execution_count": 28,
   "metadata": {},
   "outputs": [],
   "source": [
    "new_infected_puglia = df_reg.query('only_data==@max_date & denominazione_regione==\"Puglia\"')['nuovi_positivi'].iloc[0]"
   ]
  },
  {
   "cell_type": "code",
   "execution_count": 30,
   "metadata": {},
   "outputs": [
    {
     "name": "stdout",
     "output_type": "stream",
     "text": [
      "new infected in Puglia for date 2021-04-30 are 1344\n"
     ]
    }
   ],
   "source": [
    "print(f'new infected in Puglia for date {max_date} are {new_infected_puglia}') "
   ]
  },
  {
   "cell_type": "markdown",
   "metadata": {},
   "source": [
    "This analysis is done for 'Puglia', 'Sicilia', 'Sardegna' regions..if you want to analyze other regions, put them in the below \"regioni\" list"
   ]
  },
  {
   "cell_type": "code",
   "execution_count": 31,
   "metadata": {},
   "outputs": [],
   "source": [
    "regioni = ['Puglia', 'Sicilia', 'Sardegna']\n",
    "colors = []\n",
    "n = named.__dict__\n",
    "all_colors = n['__all__']\n",
    "while len(colors) < (len(regioni)):\n",
    "    if choice(all_colors) not in colors:\n",
    "        colors.append(choice(all_colors))"
   ]
  },
  {
   "cell_type": "code",
   "execution_count": 32,
   "metadata": {},
   "outputs": [
    {
     "data": {
      "text/html": [
       "\n",
       "\n",
       "\n",
       "\n",
       "\n",
       "\n",
       "  <div class=\"bk-root\" id=\"f799f9d7-506d-4fb6-aef6-7786d547d562\" data-root-id=\"3162\"></div>\n"
      ]
     },
     "metadata": {},
     "output_type": "display_data"
    },
    {
     "data": {
      "application/javascript": [
       "(function(root) {\n",
       "  function embed_document(root) {\n",
       "    \n",
       "  var docs_json = {\"774643d7-79da-48a0-b972-f89e0214ace0\":{\"roots\":{\"references\":[{\"attributes\":{\"below\":[{\"id\":\"3173\",\"type\":\"DatetimeAxis\"}],\"center\":[{\"id\":\"3177\",\"type\":\"Grid\"},{\"id\":\"3182\",\"type\":\"Grid\"},{\"id\":\"3219\",\"type\":\"Legend\"}],\"left\":[{\"id\":\"3178\",\"type\":\"LinearAxis\"}],\"plot_height\":400,\"plot_width\":1000,\"renderers\":[{\"id\":\"3199\",\"type\":\"GlyphRenderer\"},{\"id\":\"3224\",\"type\":\"GlyphRenderer\"},{\"id\":\"3250\",\"type\":\"GlyphRenderer\"}],\"title\":{\"id\":\"3163\",\"type\":\"Title\"},\"toolbar\":{\"id\":\"3189\",\"type\":\"Toolbar\"},\"x_range\":{\"id\":\"3165\",\"type\":\"DataRange1d\"},\"x_scale\":{\"id\":\"3169\",\"type\":\"LinearScale\"},\"y_range\":{\"id\":\"3167\",\"type\":\"DataRange1d\"},\"y_scale\":{\"id\":\"3171\",\"type\":\"LinearScale\"}},\"id\":\"3162\",\"subtype\":\"Figure\",\"type\":\"Plot\"},{\"attributes\":{},\"id\":\"3202\",\"type\":\"BasicTickFormatter\"},{\"attributes\":{\"mantissas\":[1,2,5],\"max_interval\":500.0,\"num_minor_ticks\":0},\"id\":\"3206\",\"type\":\"AdaptiveTicker\"},{\"attributes\":{\"label\":{\"value\":\"Sardegna\"},\"renderers\":[{\"id\":\"3250\",\"type\":\"GlyphRenderer\"}]},\"id\":\"3274\",\"type\":\"LegendItem\"},{\"attributes\":{\"line_color\":\"peachpuff\",\"line_width\":1.5,\"x\":{\"field\":\"x\"},\"y\":{\"field\":\"y\"}},\"id\":\"3248\",\"type\":\"Line\"},{\"attributes\":{\"line_alpha\":0.1,\"line_color\":\"#1f77b4\",\"line_width\":1.5,\"x\":{\"field\":\"x\"},\"y\":{\"field\":\"y\"}},\"id\":\"3198\",\"type\":\"Line\"},{\"attributes\":{\"line_color\":\"lightpink\",\"line_width\":1.5,\"x\":{\"field\":\"x\"},\"y\":{\"field\":\"y\"}},\"id\":\"3197\",\"type\":\"Line\"},{\"attributes\":{\"callback\":null,\"data\":{\"x\":[1582502400000.0,1582588800000.0,1582675200000.0,1582761600000.0,1582848000000.0,1582934400000.0,1583020800000.0,1583107200000.0,1583193600000.0,1583280000000.0,1583366400000.0,1583452800000.0,1583539200000.0,1583625600000.0,1583712000000.0,1583798400000.0,1583884800000.0,1583971200000.0,1584057600000.0,1584144000000.0,1584230400000.0,1584316800000.0,1584403200000.0,1584489600000.0,1584576000000.0,1584662400000.0,1584748800000.0,1584835200000.0,1584921600000.0,1585008000000.0,1585094400000.0,1585180800000.0,1585267200000.0,1585353600000.0,1585440000000.0,1585526400000.0,1585612800000.0,1585699200000.0,1585785600000.0,1585872000000.0,1585958400000.0,1586044800000.0,1586131200000.0,1586217600000.0,1586304000000.0,1586390400000.0,1586476800000.0,1586563200000.0,1586649600000.0,1586736000000.0,1586822400000.0,1586908800000.0,1586995200000.0,1587081600000.0,1587168000000.0,1587254400000.0,1587340800000.0,1587427200000.0,1587513600000.0,1587600000000.0,1587686400000.0,1587772800000.0,1587859200000.0,1587945600000.0,1588032000000.0,1588118400000.0,1588204800000.0,1588291200000.0,1588377600000.0,1588464000000.0,1588550400000.0,1588636800000.0,1588723200000.0,1588809600000.0,1588896000000.0,1588982400000.0,1589068800000.0,1589155200000.0,1589241600000.0,1589328000000.0,1589414400000.0,1589500800000.0,1589587200000.0,1589673600000.0,1589760000000.0,1589846400000.0,1589932800000.0,1590019200000.0,1590105600000.0,1590192000000.0,1590278400000.0,1590364800000.0,1590451200000.0,1590537600000.0,1590624000000.0,1590710400000.0,1590796800000.0,1590883200000.0,1590969600000.0,1591056000000.0,1591142400000.0,1591228800000.0,1591315200000.0,1591401600000.0,1591488000000.0,1591574400000.0,1591660800000.0,1591747200000.0,1591833600000.0,1591920000000.0,1592006400000.0,1592092800000.0,1592179200000.0,1592265600000.0,1592352000000.0,1592438400000.0,1592524800000.0,1592611200000.0,1592697600000.0,1592784000000.0,1592870400000.0,1592956800000.0,1593043200000.0,1593129600000.0,1593216000000.0,1593302400000.0,1593388800000.0,1593475200000.0,1593561600000.0,1593648000000.0,1593734400000.0,1593820800000.0,1593907200000.0,1593993600000.0,1594080000000.0,1594166400000.0,1594252800000.0,1594339200000.0,1594425600000.0,1594512000000.0,1594598400000.0,1594684800000.0,1594771200000.0,1594857600000.0,1594944000000.0,1595030400000.0,1595116800000.0,1595203200000.0,1595289600000.0,1595376000000.0,1595462400000.0,1595548800000.0,1595635200000.0,1595721600000.0,1595808000000.0,1595894400000.0,1595980800000.0,1596067200000.0,1596153600000.0,1596240000000.0,1596326400000.0,1596412800000.0,1596499200000.0,1596585600000.0,1596672000000.0,1596758400000.0,1596844800000.0,1596931200000.0,1597017600000.0,1597104000000.0,1597190400000.0,1597276800000.0,1597363200000.0,1597449600000.0,1597536000000.0,1597622400000.0,1597708800000.0,1597795200000.0,1597881600000.0,1597968000000.0,1598054400000.0,1598140800000.0,1598227200000.0,1598313600000.0,1598400000000.0,1598486400000.0,1598572800000.0,1598659200000.0,1598745600000.0,1598832000000.0,1598918400000.0,1599004800000.0,1599091200000.0,1599177600000.0,1599264000000.0,1599350400000.0,1599436800000.0,1599523200000.0,1599609600000.0,1599696000000.0,1599782400000.0,1599868800000.0,1599955200000.0,1600041600000.0,1600128000000.0,1600214400000.0,1600300800000.0,1600387200000.0,1600473600000.0,1600560000000.0,1600646400000.0,1600732800000.0,1600819200000.0,1600905600000.0,1600992000000.0,1601078400000.0,1601164800000.0,1601251200000.0,1601337600000.0,1601424000000.0,1601510400000.0,1601596800000.0,1601683200000.0,1601769600000.0,1601856000000.0,1601942400000.0,1602028800000.0,1602115200000.0,1602201600000.0,1602288000000.0,1602374400000.0,1602460800000.0,1602547200000.0,1602633600000.0,1602720000000.0,1602806400000.0,1602892800000.0,1602979200000.0,1603065600000.0,1603152000000.0,1603238400000.0,1603324800000.0,1603411200000.0,1603497600000.0,1603584000000.0,1603670400000.0,1603756800000.0,1603843200000.0,1603929600000.0,1604016000000.0,1604102400000.0,1604188800000.0,1604275200000.0,1604361600000.0,1604448000000.0,1604534400000.0,1604620800000.0,1604707200000.0,1604793600000.0,1604880000000.0,1604966400000.0,1605052800000.0,1605139200000.0,1605225600000.0,1605312000000.0,1605398400000.0,1605484800000.0,1605571200000.0,1605657600000.0,1605744000000.0,1605830400000.0,1605916800000.0,1606003200000.0,1606089600000.0,1606176000000.0,1606262400000.0,1606348800000.0,1606435200000.0,1606521600000.0,1606608000000.0,1606694400000.0,1606780800000.0,1606867200000.0,1606953600000.0,1607040000000.0,1607126400000.0,1607212800000.0,1607299200000.0,1607385600000.0,1607472000000.0,1607558400000.0,1607644800000.0,1607731200000.0,1607817600000.0,1607904000000.0,1607990400000.0,1608076800000.0,1608163200000.0,1608249600000.0,1608336000000.0,1608422400000.0,1608508800000.0,1608595200000.0,1608681600000.0,1608768000000.0,1608854400000.0,1608940800000.0,1609027200000.0,1609113600000.0,1609200000000.0,1609286400000.0,1609372800000.0,1609459200000.0,1609545600000.0,1609632000000.0,1609718400000.0,1609804800000.0,1609891200000.0,1609977600000.0,1610064000000.0,1610150400000.0,1610236800000.0,1610323200000.0,1610409600000.0,1610496000000.0,1610582400000.0,1610668800000.0,1610755200000.0,1610841600000.0,1610928000000.0,1611014400000.0,1611100800000.0,1611187200000.0,1611273600000.0,1611360000000.0,1611446400000.0,1611532800000.0,1611619200000.0,1611705600000.0,1611792000000.0,1611878400000.0,1611964800000.0,1612051200000.0,1612137600000.0,1612224000000.0,1612310400000.0,1612396800000.0,1612483200000.0,1612569600000.0,1612656000000.0,1612742400000.0,1612828800000.0,1612915200000.0,1613001600000.0,1613088000000.0,1613174400000.0,1613260800000.0,1613347200000.0,1613433600000.0,1613520000000.0,1613606400000.0,1613692800000.0,1613779200000.0,1613865600000.0,1613952000000.0,1614038400000.0,1614124800000.0,1614211200000.0,1614297600000.0,1614384000000.0,1614470400000.0,1614556800000.0,1614643200000.0,1614729600000.0,1614816000000.0,1614902400000.0,1614988800000.0,1615075200000.0,1615161600000.0,1615248000000.0,1615334400000.0,1615420800000.0,1615507200000.0,1615593600000.0,1615680000000.0,1615766400000.0,1615852800000.0,1615939200000.0,1616025600000.0,1616112000000.0,1616198400000.0,1616284800000.0,1616371200000.0,1616457600000.0,1616544000000.0,1616630400000.0,1616716800000.0,1616803200000.0,1616889600000.0,1616976000000.0,1617062400000.0,1617148800000.0,1617235200000.0,1617321600000.0,1617408000000.0,1617494400000.0,1617580800000.0,1617667200000.0,1617753600000.0,1617840000000.0,1617926400000.0,1618012800000.0,1618099200000.0,1618185600000.0,1618272000000.0,1618358400000.0,1618444800000.0,1618531200000.0,1618617600000.0,1618704000000.0,1618790400000.0,1618876800000.0,1618963200000.0,1619049600000.0,1619136000000.0,1619222400000.0,1619308800000.0,1619395200000.0,1619481600000.0,1619568000000.0,1619654400000.0,1619740800000.0,1619740800000.0],\"y\":[0,3,0,1,0,0,5,-2,0,11,0,6,11,18,1,8,21,32,15,26,32,25,24,45,58,68,82,140,91,125,148,170,86,109,101,95,92,71,73,68,73,62,52,51,62,73,70,62,52,42,43,34,44,46,47,45,42,76,48,43,55,39,35,30,35,20,26,28,19,27,15,12,14,7,13,12,14,12,4,11,12,8,8,6,7,8,8,6,4,0,2,4,3,5,3,2,2,1,0,4,0,0,1,2,1,1,2,1,0,0,1,1,1,2,2,2,3,0,2,0,1,1,2,0,1,0,1,2,1,9,1,3,0,1,1,1,1,0,1,0,1,15,0,17,4,4,2,2,2,7,5,8,13,14,3,19,18,39,16,10,7,3,10,21,30,27,28,29,32,89,29,42,36,46,39,14,13,45,37,44,48,35,65,24,33,50,54,29,34,26,33,83,54,78,114,37,49,84,77,106,104,44,61,65,77,90,96,179,98,116,75,108,89,125,107,110,107,102,163,170,156,140,182,85,128,198,213,259,233,285,297,298,334,366,399,578,475,548,362,574,562,796,730,886,695,568,860,708,789,984,952,1095,1024,1048,1155,1322,1423,1363,1083,1023,1201,1487,1692,1707,1729,1422,1461,1698,1837,1871,1634,1838,1258,1249,1306,1317,1768,1566,1189,1024,1138,1399,1483,1294,1365,1240,1022,918,1148,753,1059,999,1016,808,914,1087,1065,872,731,878,792,669,894,932,853,720,337,682,650,995,1084,1299,1122,734,1047,1391,1576,1692,1435,1842,1839,1733,1587,1913,1969,1867,1945,1954,1439,1278,1641,1486,1230,1355,1158,875,885,970,996,994,944,846,716,766,984,886,789,616,836,574,478,744,695,760,491,543,479,332,625,484,480,440,474,411,412,452,542,613,578,518,453,478,566,539,560,519,592,576,515,595,695,672,679,650,613,523,598,782,789,859,782,699,666,751,765,895,892,890,953,799,0,1673,1282,1222,1014,1015,909,783,998,1287,1505,1229,1120,1110,1384,1542,1450,1370,1301,875,1123,1148,1288,1412,930,1095,1061,1069,940,980,1061,861,861]},\"selected\":{\"id\":\"3259\",\"type\":\"Selection\"},\"selection_policy\":{\"id\":\"3260\",\"type\":\"UnionRenderers\"}},\"id\":\"3221\",\"type\":\"ColumnDataSource\"},{\"attributes\":{\"days\":[1,8,15,22]},\"id\":\"3211\",\"type\":\"DaysTicker\"},{\"attributes\":{\"data_source\":{\"id\":\"3247\",\"type\":\"ColumnDataSource\"},\"glyph\":{\"id\":\"3248\",\"type\":\"Line\"},\"hover_glyph\":null,\"muted_glyph\":null,\"nonselection_glyph\":{\"id\":\"3249\",\"type\":\"Line\"},\"selection_glyph\":null,\"view\":{\"id\":\"3251\",\"type\":\"CDSView\"}},\"id\":\"3250\",\"type\":\"GlyphRenderer\"},{\"attributes\":{\"months\":[0,2,4,6,8,10]},\"id\":\"3214\",\"type\":\"MonthsTicker\"},{\"attributes\":{},\"id\":\"3187\",\"type\":\"ResetTool\"},{\"attributes\":{},\"id\":\"3260\",\"type\":\"UnionRenderers\"},{\"attributes\":{},\"id\":\"3186\",\"type\":\"SaveTool\"},{\"attributes\":{\"days\":[1,15]},\"id\":\"3212\",\"type\":\"DaysTicker\"},{\"attributes\":{},\"id\":\"3445\",\"type\":\"UnionRenderers\"},{\"attributes\":{\"overlay\":{\"id\":\"3218\",\"type\":\"BoxAnnotation\"}},\"id\":\"3185\",\"type\":\"BoxZoomTool\"},{\"attributes\":{},\"id\":\"3188\",\"type\":\"HelpTool\"},{\"attributes\":{},\"id\":\"3183\",\"type\":\"PanTool\"},{\"attributes\":{\"data_source\":{\"id\":\"3196\",\"type\":\"ColumnDataSource\"},\"glyph\":{\"id\":\"3197\",\"type\":\"Line\"},\"hover_glyph\":null,\"muted_glyph\":null,\"nonselection_glyph\":{\"id\":\"3198\",\"type\":\"Line\"},\"selection_glyph\":null,\"view\":{\"id\":\"3200\",\"type\":\"CDSView\"}},\"id\":\"3199\",\"type\":\"GlyphRenderer\"},{\"attributes\":{\"callback\":null,\"data\":{\"x\":[1582502400000.0,1582588800000.0,1582675200000.0,1582761600000.0,1582848000000.0,1582934400000.0,1583020800000.0,1583107200000.0,1583193600000.0,1583280000000.0,1583366400000.0,1583452800000.0,1583539200000.0,1583625600000.0,1583712000000.0,1583798400000.0,1583884800000.0,1583971200000.0,1584057600000.0,1584144000000.0,1584230400000.0,1584316800000.0,1584403200000.0,1584489600000.0,1584576000000.0,1584662400000.0,1584748800000.0,1584835200000.0,1584921600000.0,1585008000000.0,1585094400000.0,1585180800000.0,1585267200000.0,1585353600000.0,1585440000000.0,1585526400000.0,1585612800000.0,1585699200000.0,1585785600000.0,1585872000000.0,1585958400000.0,1586044800000.0,1586131200000.0,1586217600000.0,1586304000000.0,1586390400000.0,1586476800000.0,1586563200000.0,1586649600000.0,1586736000000.0,1586822400000.0,1586908800000.0,1586995200000.0,1587081600000.0,1587168000000.0,1587254400000.0,1587340800000.0,1587427200000.0,1587513600000.0,1587600000000.0,1587686400000.0,1587772800000.0,1587859200000.0,1587945600000.0,1588032000000.0,1588118400000.0,1588204800000.0,1588291200000.0,1588377600000.0,1588464000000.0,1588550400000.0,1588636800000.0,1588723200000.0,1588809600000.0,1588896000000.0,1588982400000.0,1589068800000.0,1589155200000.0,1589241600000.0,1589328000000.0,1589414400000.0,1589500800000.0,1589587200000.0,1589673600000.0,1589760000000.0,1589846400000.0,1589932800000.0,1590019200000.0,1590105600000.0,1590192000000.0,1590278400000.0,1590364800000.0,1590451200000.0,1590537600000.0,1590624000000.0,1590710400000.0,1590796800000.0,1590883200000.0,1590969600000.0,1591056000000.0,1591142400000.0,1591228800000.0,1591315200000.0,1591401600000.0,1591488000000.0,1591574400000.0,1591660800000.0,1591747200000.0,1591833600000.0,1591920000000.0,1592006400000.0,1592092800000.0,1592179200000.0,1592265600000.0,1592352000000.0,1592438400000.0,1592524800000.0,1592611200000.0,1592697600000.0,1592784000000.0,1592870400000.0,1592956800000.0,1593043200000.0,1593129600000.0,1593216000000.0,1593302400000.0,1593388800000.0,1593475200000.0,1593561600000.0,1593648000000.0,1593734400000.0,1593820800000.0,1593907200000.0,1593993600000.0,1594080000000.0,1594166400000.0,1594252800000.0,1594339200000.0,1594425600000.0,1594512000000.0,1594598400000.0,1594684800000.0,1594771200000.0,1594857600000.0,1594944000000.0,1595030400000.0,1595116800000.0,1595203200000.0,1595289600000.0,1595376000000.0,1595462400000.0,1595548800000.0,1595635200000.0,1595721600000.0,1595808000000.0,1595894400000.0,1595980800000.0,1596067200000.0,1596153600000.0,1596240000000.0,1596326400000.0,1596412800000.0,1596499200000.0,1596585600000.0,1596672000000.0,1596758400000.0,1596844800000.0,1596931200000.0,1597017600000.0,1597104000000.0,1597190400000.0,1597276800000.0,1597363200000.0,1597449600000.0,1597536000000.0,1597622400000.0,1597708800000.0,1597795200000.0,1597881600000.0,1597968000000.0,1598054400000.0,1598140800000.0,1598227200000.0,1598313600000.0,1598400000000.0,1598486400000.0,1598572800000.0,1598659200000.0,1598745600000.0,1598832000000.0,1598918400000.0,1599004800000.0,1599091200000.0,1599177600000.0,1599264000000.0,1599350400000.0,1599436800000.0,1599523200000.0,1599609600000.0,1599696000000.0,1599782400000.0,1599868800000.0,1599955200000.0,1600041600000.0,1600128000000.0,1600214400000.0,1600300800000.0,1600387200000.0,1600473600000.0,1600560000000.0,1600646400000.0,1600732800000.0,1600819200000.0,1600905600000.0,1600992000000.0,1601078400000.0,1601164800000.0,1601251200000.0,1601337600000.0,1601424000000.0,1601510400000.0,1601596800000.0,1601683200000.0,1601769600000.0,1601856000000.0,1601942400000.0,1602028800000.0,1602115200000.0,1602201600000.0,1602288000000.0,1602374400000.0,1602460800000.0,1602547200000.0,1602633600000.0,1602720000000.0,1602806400000.0,1602892800000.0,1602979200000.0,1603065600000.0,1603152000000.0,1603238400000.0,1603324800000.0,1603411200000.0,1603497600000.0,1603584000000.0,1603670400000.0,1603756800000.0,1603843200000.0,1603929600000.0,1604016000000.0,1604102400000.0,1604188800000.0,1604275200000.0,1604361600000.0,1604448000000.0,1604534400000.0,1604620800000.0,1604707200000.0,1604793600000.0,1604880000000.0,1604966400000.0,1605052800000.0,1605139200000.0,1605225600000.0,1605312000000.0,1605398400000.0,1605484800000.0,1605571200000.0,1605657600000.0,1605744000000.0,1605830400000.0,1605916800000.0,1606003200000.0,1606089600000.0,1606176000000.0,1606262400000.0,1606348800000.0,1606435200000.0,1606521600000.0,1606608000000.0,1606694400000.0,1606780800000.0,1606867200000.0,1606953600000.0,1607040000000.0,1607126400000.0,1607212800000.0,1607299200000.0,1607385600000.0,1607472000000.0,1607558400000.0,1607644800000.0,1607731200000.0,1607817600000.0,1607904000000.0,1607990400000.0,1608076800000.0,1608163200000.0,1608249600000.0,1608336000000.0,1608422400000.0,1608508800000.0,1608595200000.0,1608681600000.0,1608768000000.0,1608854400000.0,1608940800000.0,1609027200000.0,1609113600000.0,1609200000000.0,1609286400000.0,1609372800000.0,1609459200000.0,1609545600000.0,1609632000000.0,1609718400000.0,1609804800000.0,1609891200000.0,1609977600000.0,1610064000000.0,1610150400000.0,1610236800000.0,1610323200000.0,1610409600000.0,1610496000000.0,1610582400000.0,1610668800000.0,1610755200000.0,1610841600000.0,1610928000000.0,1611014400000.0,1611100800000.0,1611187200000.0,1611273600000.0,1611360000000.0,1611446400000.0,1611532800000.0,1611619200000.0,1611705600000.0,1611792000000.0,1611878400000.0,1611964800000.0,1612051200000.0,1612137600000.0,1612224000000.0,1612310400000.0,1612396800000.0,1612483200000.0,1612569600000.0,1612656000000.0,1612742400000.0,1612828800000.0,1612915200000.0,1613001600000.0,1613088000000.0,1613174400000.0,1613260800000.0,1613347200000.0,1613433600000.0,1613520000000.0,1613606400000.0,1613692800000.0,1613779200000.0,1613865600000.0,1613952000000.0,1614038400000.0,1614124800000.0,1614211200000.0,1614297600000.0,1614384000000.0,1614470400000.0,1614556800000.0,1614643200000.0,1614729600000.0,1614816000000.0,1614902400000.0,1614988800000.0,1615075200000.0,1615161600000.0,1615248000000.0,1615334400000.0,1615420800000.0,1615507200000.0,1615593600000.0,1615680000000.0,1615766400000.0,1615852800000.0,1615939200000.0,1616025600000.0,1616112000000.0,1616198400000.0,1616284800000.0,1616371200000.0,1616457600000.0,1616544000000.0,1616630400000.0,1616716800000.0,1616803200000.0,1616889600000.0,1616976000000.0,1617062400000.0,1617148800000.0,1617235200000.0,1617321600000.0,1617408000000.0,1617494400000.0,1617580800000.0,1617667200000.0,1617753600000.0,1617840000000.0,1617926400000.0,1618012800000.0,1618099200000.0,1618185600000.0,1618272000000.0,1618358400000.0,1618444800000.0,1618531200000.0,1618617600000.0,1618704000000.0,1618790400000.0,1618876800000.0,1618963200000.0,1619049600000.0,1619136000000.0,1619222400000.0,1619308800000.0,1619395200000.0,1619481600000.0,1619568000000.0,1619654400000.0,1619740800000.0,1619740800000.0],\"y\":[0,0,0,1,2,0,0,1,2,3,5,3,9,14,10,9,18,27,25,37,64,0,110,43,95,103,94,111,120,99,88,89,152,124,91,163,91,143,131,105,58,77,127,70,120,82,93,95,85,76,53,66,74,69,82,120,38,55,108,109,42,31,36,10,22,49,43,27,34,11,9,17,26,49,11,30,27,14,10,11,9,9,8,5,7,10,11,6,27,8,10,9,2,10,2,1,8,4,4,0,1,4,4,4,0,1,0,0,1,2,0,0,1,0,0,3,1,5,2,0,2,0,1,1,0,0,0,0,0,0,3,3,0,0,0,1,0,4,1,0,0,0,0,1,5,3,7,0,0,0,9,13,8,3,3,4,10,3,2,20,8,9,7,23,7,11,9,9,26,20,33,16,12,22,15,4,20,33,20,35,22,33,45,49,51,47,51,65,69,38,39,67,78,117,55,60,43,143,97,70,82,76,82,61,76,103,63,84,108,50,81,67,89,73,90,51,76,90,76,99,114,72,111,151,83,106,196,248,249,184,212,157,180,315,257,313,350,301,321,295,324,485,590,631,515,424,611,772,716,791,762,680,626,1163,994,850,946,1054,766,730,1245,1332,1434,1350,1741,905,1044,1234,1368,1263,1456,1377,1327,980,1567,1511,1436,1737,1573,907,1102,1659,1668,1602,1419,1884,1789,1001,915,917,1332,1813,1478,1175,656,1023,1388,1073,1314,1382,791,788,876,942,1458,1011,544,221,645,749,1470,1661,1395,344,950,631,1081,1581,657,1349,1499,1162,622,1261,1082,1524,1295,1123,908,403,850,1159,1275,1018,1023,954,401,995,1233,1159,1069,871,1069,379,879,1044,975,1215,926,765,377,681,1063,1248,1020,945,732,345,694,883,844,874,905,758,343,823,991,1154,1104,1123,1053,631,1021,1261,1438,1418,1483,1155,594,1286,1571,1634,1774,1700,1542,715,1126,1734,2082,1785,1983,1546,844,1664,1709,2033,2162,2008,1788,786,1527,1962,2369,2044,2142,1628,677,475,1255,1974,1791,1804,1359,815,1191,1488,1867,1537,1525,1278,584,1180,1141,1895,1692,1255,1203,477,1056,1282,1501,1344,1344]},\"selected\":{\"id\":\"3231\",\"type\":\"Selection\"},\"selection_policy\":{\"id\":\"3232\",\"type\":\"UnionRenderers\"}},\"id\":\"3196\",\"type\":\"ColumnDataSource\"},{\"attributes\":{\"source\":{\"id\":\"3221\",\"type\":\"ColumnDataSource\"}},\"id\":\"3225\",\"type\":\"CDSView\"},{\"attributes\":{\"active_drag\":\"auto\",\"active_inspect\":\"auto\",\"active_multi\":null,\"active_scroll\":\"auto\",\"active_tap\":\"auto\",\"tools\":[{\"id\":\"3183\",\"type\":\"PanTool\"},{\"id\":\"3184\",\"type\":\"WheelZoomTool\"},{\"id\":\"3185\",\"type\":\"BoxZoomTool\"},{\"id\":\"3186\",\"type\":\"SaveTool\"},{\"id\":\"3187\",\"type\":\"ResetTool\"},{\"id\":\"3188\",\"type\":\"HelpTool\"},{\"id\":\"3275\",\"type\":\"HoverTool\"},{\"id\":\"3277\",\"type\":\"PanTool\"}]},\"id\":\"3189\",\"type\":\"Toolbar\"},{\"attributes\":{\"line_alpha\":0.1,\"line_color\":\"#1f77b4\",\"line_width\":1.5,\"x\":{\"field\":\"x\"},\"y\":{\"field\":\"y\"}},\"id\":\"3249\",\"type\":\"Line\"},{\"attributes\":{},\"id\":\"3259\",\"type\":\"Selection\"},{\"attributes\":{\"base\":60,\"mantissas\":[1,2,5,10,15,20,30],\"max_interval\":1800000.0,\"min_interval\":1000.0,\"num_minor_ticks\":0},\"id\":\"3207\",\"type\":\"AdaptiveTicker\"},{\"attributes\":{\"dimension\":1,\"ticker\":{\"id\":\"3179\",\"type\":\"BasicTicker\"}},\"id\":\"3182\",\"type\":\"Grid\"},{\"attributes\":{},\"id\":\"3444\",\"type\":\"Selection\"},{\"attributes\":{},\"id\":\"3179\",\"type\":\"BasicTicker\"},{\"attributes\":{},\"id\":\"3204\",\"type\":\"DatetimeTickFormatter\"},{\"attributes\":{\"months\":[0,6]},\"id\":\"3216\",\"type\":\"MonthsTicker\"},{\"attributes\":{\"source\":{\"id\":\"3196\",\"type\":\"ColumnDataSource\"}},\"id\":\"3200\",\"type\":\"CDSView\"},{\"attributes\":{\"callback\":null,\"formatters\":{\"x\":\"datetime\"},\"tooltips\":[[\"data\",\"@x{%F}\"],[\"new infected\",\"@y\"]]},\"id\":\"3275\",\"type\":\"HoverTool\"},{\"attributes\":{},\"id\":\"3232\",\"type\":\"UnionRenderers\"},{\"attributes\":{\"axis_label\":\"new infected\",\"formatter\":{\"id\":\"3202\",\"type\":\"BasicTickFormatter\"},\"ticker\":{\"id\":\"3179\",\"type\":\"BasicTicker\"}},\"id\":\"3178\",\"type\":\"LinearAxis\"},{\"attributes\":{\"days\":[1,4,7,10,13,16,19,22,25,28]},\"id\":\"3210\",\"type\":\"DaysTicker\"},{\"attributes\":{},\"id\":\"3231\",\"type\":\"Selection\"},{\"attributes\":{\"base\":24,\"mantissas\":[1,2,4,6,8,12],\"max_interval\":43200000.0,\"min_interval\":3600000.0,\"num_minor_ticks\":0},\"id\":\"3208\",\"type\":\"AdaptiveTicker\"},{\"attributes\":{\"ticker\":{\"id\":\"3174\",\"type\":\"DatetimeTicker\"}},\"id\":\"3177\",\"type\":\"Grid\"},{\"attributes\":{\"label\":{\"value\":\"Puglia\"},\"renderers\":[{\"id\":\"3199\",\"type\":\"GlyphRenderer\"}]},\"id\":\"3220\",\"type\":\"LegendItem\"},{\"attributes\":{},\"id\":\"3169\",\"type\":\"LinearScale\"},{\"attributes\":{\"months\":[0,1,2,3,4,5,6,7,8,9,10,11]},\"id\":\"3213\",\"type\":\"MonthsTicker\"},{\"attributes\":{\"items\":[{\"id\":\"3220\",\"type\":\"LegendItem\"},{\"id\":\"3246\",\"type\":\"LegendItem\"},{\"id\":\"3274\",\"type\":\"LegendItem\"}],\"location\":\"top_left\"},\"id\":\"3219\",\"type\":\"Legend\"},{\"attributes\":{\"callback\":null},\"id\":\"3167\",\"type\":\"DataRange1d\"},{\"attributes\":{\"line_alpha\":0.1,\"line_color\":\"#1f77b4\",\"line_width\":1.5,\"x\":{\"field\":\"x\"},\"y\":{\"field\":\"y\"}},\"id\":\"3223\",\"type\":\"Line\"},{\"attributes\":{},\"id\":\"3171\",\"type\":\"LinearScale\"},{\"attributes\":{\"axis_label\":\"date\",\"formatter\":{\"id\":\"3204\",\"type\":\"DatetimeTickFormatter\"},\"ticker\":{\"id\":\"3174\",\"type\":\"DatetimeTicker\"}},\"id\":\"3173\",\"type\":\"DatetimeAxis\"},{\"attributes\":{\"callback\":null,\"start\":1582502400000.0},\"id\":\"3165\",\"type\":\"DataRange1d\"},{\"attributes\":{},\"id\":\"3217\",\"type\":\"YearsTicker\"},{\"attributes\":{\"num_minor_ticks\":5,\"tickers\":[{\"id\":\"3206\",\"type\":\"AdaptiveTicker\"},{\"id\":\"3207\",\"type\":\"AdaptiveTicker\"},{\"id\":\"3208\",\"type\":\"AdaptiveTicker\"},{\"id\":\"3209\",\"type\":\"DaysTicker\"},{\"id\":\"3210\",\"type\":\"DaysTicker\"},{\"id\":\"3211\",\"type\":\"DaysTicker\"},{\"id\":\"3212\",\"type\":\"DaysTicker\"},{\"id\":\"3213\",\"type\":\"MonthsTicker\"},{\"id\":\"3214\",\"type\":\"MonthsTicker\"},{\"id\":\"3215\",\"type\":\"MonthsTicker\"},{\"id\":\"3216\",\"type\":\"MonthsTicker\"},{\"id\":\"3217\",\"type\":\"YearsTicker\"}]},\"id\":\"3174\",\"type\":\"DatetimeTicker\"},{\"attributes\":{\"label\":{\"value\":\"Sicilia\"},\"renderers\":[{\"id\":\"3224\",\"type\":\"GlyphRenderer\"}]},\"id\":\"3246\",\"type\":\"LegendItem\"},{\"attributes\":{\"data_source\":{\"id\":\"3221\",\"type\":\"ColumnDataSource\"},\"glyph\":{\"id\":\"3222\",\"type\":\"Line\"},\"hover_glyph\":null,\"muted_glyph\":null,\"nonselection_glyph\":{\"id\":\"3223\",\"type\":\"Line\"},\"selection_glyph\":null,\"view\":{\"id\":\"3225\",\"type\":\"CDSView\"}},\"id\":\"3224\",\"type\":\"GlyphRenderer\"},{\"attributes\":{\"months\":[0,4,8]},\"id\":\"3215\",\"type\":\"MonthsTicker\"},{\"attributes\":{\"days\":[1,2,3,4,5,6,7,8,9,10,11,12,13,14,15,16,17,18,19,20,21,22,23,24,25,26,27,28,29,30,31]},\"id\":\"3209\",\"type\":\"DaysTicker\"},{\"attributes\":{\"callback\":null,\"data\":{\"x\":[1582502400000.0,1582588800000.0,1582675200000.0,1582761600000.0,1582848000000.0,1582934400000.0,1583020800000.0,1583107200000.0,1583193600000.0,1583280000000.0,1583366400000.0,1583452800000.0,1583539200000.0,1583625600000.0,1583712000000.0,1583798400000.0,1583884800000.0,1583971200000.0,1584057600000.0,1584144000000.0,1584230400000.0,1584316800000.0,1584403200000.0,1584489600000.0,1584576000000.0,1584662400000.0,1584748800000.0,1584835200000.0,1584921600000.0,1585008000000.0,1585094400000.0,1585180800000.0,1585267200000.0,1585353600000.0,1585440000000.0,1585526400000.0,1585612800000.0,1585699200000.0,1585785600000.0,1585872000000.0,1585958400000.0,1586044800000.0,1586131200000.0,1586217600000.0,1586304000000.0,1586390400000.0,1586476800000.0,1586563200000.0,1586649600000.0,1586736000000.0,1586822400000.0,1586908800000.0,1586995200000.0,1587081600000.0,1587168000000.0,1587254400000.0,1587340800000.0,1587427200000.0,1587513600000.0,1587600000000.0,1587686400000.0,1587772800000.0,1587859200000.0,1587945600000.0,1588032000000.0,1588118400000.0,1588204800000.0,1588291200000.0,1588377600000.0,1588464000000.0,1588550400000.0,1588636800000.0,1588723200000.0,1588809600000.0,1588896000000.0,1588982400000.0,1589068800000.0,1589155200000.0,1589241600000.0,1589328000000.0,1589414400000.0,1589500800000.0,1589587200000.0,1589673600000.0,1589760000000.0,1589846400000.0,1589932800000.0,1590019200000.0,1590105600000.0,1590192000000.0,1590278400000.0,1590364800000.0,1590451200000.0,1590537600000.0,1590624000000.0,1590710400000.0,1590796800000.0,1590883200000.0,1590969600000.0,1591056000000.0,1591142400000.0,1591228800000.0,1591315200000.0,1591401600000.0,1591488000000.0,1591574400000.0,1591660800000.0,1591747200000.0,1591833600000.0,1591920000000.0,1592006400000.0,1592092800000.0,1592179200000.0,1592265600000.0,1592352000000.0,1592438400000.0,1592524800000.0,1592611200000.0,1592697600000.0,1592784000000.0,1592870400000.0,1592956800000.0,1593043200000.0,1593129600000.0,1593216000000.0,1593302400000.0,1593388800000.0,1593475200000.0,1593561600000.0,1593648000000.0,1593734400000.0,1593820800000.0,1593907200000.0,1593993600000.0,1594080000000.0,1594166400000.0,1594252800000.0,1594339200000.0,1594425600000.0,1594512000000.0,1594598400000.0,1594684800000.0,1594771200000.0,1594857600000.0,1594944000000.0,1595030400000.0,1595116800000.0,1595203200000.0,1595289600000.0,1595376000000.0,1595462400000.0,1595548800000.0,1595635200000.0,1595721600000.0,1595808000000.0,1595894400000.0,1595980800000.0,1596067200000.0,1596153600000.0,1596240000000.0,1596326400000.0,1596412800000.0,1596499200000.0,1596585600000.0,1596672000000.0,1596758400000.0,1596844800000.0,1596931200000.0,1597017600000.0,1597104000000.0,1597190400000.0,1597276800000.0,1597363200000.0,1597449600000.0,1597536000000.0,1597622400000.0,1597708800000.0,1597795200000.0,1597881600000.0,1597968000000.0,1598054400000.0,1598140800000.0,1598227200000.0,1598313600000.0,1598400000000.0,1598486400000.0,1598572800000.0,1598659200000.0,1598745600000.0,1598832000000.0,1598918400000.0,1599004800000.0,1599091200000.0,1599177600000.0,1599264000000.0,1599350400000.0,1599436800000.0,1599523200000.0,1599609600000.0,1599696000000.0,1599782400000.0,1599868800000.0,1599955200000.0,1600041600000.0,1600128000000.0,1600214400000.0,1600300800000.0,1600387200000.0,1600473600000.0,1600560000000.0,1600646400000.0,1600732800000.0,1600819200000.0,1600905600000.0,1600992000000.0,1601078400000.0,1601164800000.0,1601251200000.0,1601337600000.0,1601424000000.0,1601510400000.0,1601596800000.0,1601683200000.0,1601769600000.0,1601856000000.0,1601942400000.0,1602028800000.0,1602115200000.0,1602201600000.0,1602288000000.0,1602374400000.0,1602460800000.0,1602547200000.0,1602633600000.0,1602720000000.0,1602806400000.0,1602892800000.0,1602979200000.0,1603065600000.0,1603152000000.0,1603238400000.0,1603324800000.0,1603411200000.0,1603497600000.0,1603584000000.0,1603670400000.0,1603756800000.0,1603843200000.0,1603929600000.0,1604016000000.0,1604102400000.0,1604188800000.0,1604275200000.0,1604361600000.0,1604448000000.0,1604534400000.0,1604620800000.0,1604707200000.0,1604793600000.0,1604880000000.0,1604966400000.0,1605052800000.0,1605139200000.0,1605225600000.0,1605312000000.0,1605398400000.0,1605484800000.0,1605571200000.0,1605657600000.0,1605744000000.0,1605830400000.0,1605916800000.0,1606003200000.0,1606089600000.0,1606176000000.0,1606262400000.0,1606348800000.0,1606435200000.0,1606521600000.0,1606608000000.0,1606694400000.0,1606780800000.0,1606867200000.0,1606953600000.0,1607040000000.0,1607126400000.0,1607212800000.0,1607299200000.0,1607385600000.0,1607472000000.0,1607558400000.0,1607644800000.0,1607731200000.0,1607817600000.0,1607904000000.0,1607990400000.0,1608076800000.0,1608163200000.0,1608249600000.0,1608336000000.0,1608422400000.0,1608508800000.0,1608595200000.0,1608681600000.0,1608768000000.0,1608854400000.0,1608940800000.0,1609027200000.0,1609113600000.0,1609200000000.0,1609286400000.0,1609372800000.0,1609459200000.0,1609545600000.0,1609632000000.0,1609718400000.0,1609804800000.0,1609891200000.0,1609977600000.0,1610064000000.0,1610150400000.0,1610236800000.0,1610323200000.0,1610409600000.0,1610496000000.0,1610582400000.0,1610668800000.0,1610755200000.0,1610841600000.0,1610928000000.0,1611014400000.0,1611100800000.0,1611187200000.0,1611273600000.0,1611360000000.0,1611446400000.0,1611532800000.0,1611619200000.0,1611705600000.0,1611792000000.0,1611878400000.0,1611964800000.0,1612051200000.0,1612137600000.0,1612224000000.0,1612310400000.0,1612396800000.0,1612483200000.0,1612569600000.0,1612656000000.0,1612742400000.0,1612828800000.0,1612915200000.0,1613001600000.0,1613088000000.0,1613174400000.0,1613260800000.0,1613347200000.0,1613433600000.0,1613520000000.0,1613606400000.0,1613692800000.0,1613779200000.0,1613865600000.0,1613952000000.0,1614038400000.0,1614124800000.0,1614211200000.0,1614297600000.0,1614384000000.0,1614470400000.0,1614556800000.0,1614643200000.0,1614729600000.0,1614816000000.0,1614902400000.0,1614988800000.0,1615075200000.0,1615161600000.0,1615248000000.0,1615334400000.0,1615420800000.0,1615507200000.0,1615593600000.0,1615680000000.0,1615766400000.0,1615852800000.0,1615939200000.0,1616025600000.0,1616112000000.0,1616198400000.0,1616284800000.0,1616371200000.0,1616457600000.0,1616544000000.0,1616630400000.0,1616716800000.0,1616803200000.0,1616889600000.0,1616976000000.0,1617062400000.0,1617148800000.0,1617235200000.0,1617321600000.0,1617408000000.0,1617494400000.0,1617580800000.0,1617667200000.0,1617753600000.0,1617840000000.0,1617926400000.0,1618012800000.0,1618099200000.0,1618185600000.0,1618272000000.0,1618358400000.0,1618444800000.0,1618531200000.0,1618617600000.0,1618704000000.0,1618790400000.0,1618876800000.0,1618963200000.0,1619049600000.0,1619136000000.0,1619222400000.0,1619308800000.0,1619395200000.0,1619481600000.0,1619568000000.0,1619654400000.0,1619740800000.0,1619740800000.0],\"y\":[0,0,0,0,0,0,0,0,1,1,0,3,0,6,8,1,17,2,4,4,30,30,10,17,72,87,37,9,20,62,21,52,36,94,14,44,40,23,49,31,49,33,15,13,40,51,37,28,22,15,10,23,3,14,20,17,13,8,11,7,3,14,9,3,2,5,5,18,2,4,-2,1,1,5,6,4,6,3,1,1,0,3,4,1,0,1,1,1,0,0,0,-2,0,1,0,1,0,0,1,0,0,0,2,3,0,0,-1,0,1,1,0,0,0,2,1,1,1,1,0,0,0,1,1,0,1,1,0,2,0,2,1,0,1,1,0,0,0,1,0,0,1,1,2,1,0,1,1,0,0,1,2,3,3,0,0,6,2,0,10,6,4,2,2,9,3,3,0,6,2,20,1,17,5,5,5,7,12,37,23,42,44,81,91,34,53,57,55,70,22,79,50,73,39,66,65,19,59,51,47,63,65,51,33,54,36,27,51,66,59,72,64,53,49,66,57,63,139,37,82,51,96,60,62,111,88,63,101,127,134,124,143,129,157,122,186,133,130,230,159,221,167,243,349,329,195,231,174,362,282,298,325,399,324,302,184,413,359,425,424,327,489,416,301,623,396,370,411,502,422,479,581,511,404,505,290,351,405,375,311,416,329,420,445,538,551,464,293,366,226,253,248,198,168,633,228,231,405,268,285,380,311,297,184,269,331,409,173,96,156,116,328,368,365,189,194,177,232,335,340,243,305,301,231,411,233,275,260,368,202,136,109,216,238,212,191,175,207,138,251,237,257,229,167,123,71,143,205,169,125,154,56,81,161,125,87,87,83,56,66,109,100,44,73,33,77,47,65,80,70,87,77,45,70,101,81,89,73,95,68,146,65,128,106,103,118,74,79,92,121,134,102,176,161,159,153,211,178,287,284,164,205,444,351,473,328,323,261,128,263,305,380,425,369,307,327,502,279,348,320,351,199,271,303,328,267,254,290,135,199,264,207,247,247]},\"selected\":{\"id\":\"3444\",\"type\":\"Selection\"},\"selection_policy\":{\"id\":\"3445\",\"type\":\"UnionRenderers\"}},\"id\":\"3247\",\"type\":\"ColumnDataSource\"},{\"attributes\":{\"text\":\"new daily infected for some regions\"},\"id\":\"3163\",\"type\":\"Title\"},{\"attributes\":{\"source\":{\"id\":\"3247\",\"type\":\"ColumnDataSource\"}},\"id\":\"3251\",\"type\":\"CDSView\"},{\"attributes\":{\"line_color\":\"gainsboro\",\"line_width\":1.5,\"x\":{\"field\":\"x\"},\"y\":{\"field\":\"y\"}},\"id\":\"3222\",\"type\":\"Line\"},{\"attributes\":{},\"id\":\"3184\",\"type\":\"WheelZoomTool\"},{\"attributes\":{\"bottom_units\":\"screen\",\"fill_alpha\":{\"value\":0.5},\"fill_color\":{\"value\":\"lightgrey\"},\"left_units\":\"screen\",\"level\":\"overlay\",\"line_alpha\":{\"value\":1.0},\"line_color\":{\"value\":\"black\"},\"line_dash\":[4,4],\"line_width\":{\"value\":2},\"render_mode\":\"css\",\"right_units\":\"screen\",\"top_units\":\"screen\"},\"id\":\"3218\",\"type\":\"BoxAnnotation\"},{\"attributes\":{\"dimensions\":\"width\"},\"id\":\"3277\",\"type\":\"PanTool\"}],\"root_ids\":[\"3162\"]},\"title\":\"Bokeh Application\",\"version\":\"1.4.0\"}};\n",
       "  var render_items = [{\"docid\":\"774643d7-79da-48a0-b972-f89e0214ace0\",\"roots\":{\"3162\":\"f799f9d7-506d-4fb6-aef6-7786d547d562\"}}];\n",
       "  root.Bokeh.embed.embed_items_notebook(docs_json, render_items);\n",
       "\n",
       "  }\n",
       "  if (root.Bokeh !== undefined) {\n",
       "    embed_document(root);\n",
       "  } else {\n",
       "    var attempts = 0;\n",
       "    var timer = setInterval(function(root) {\n",
       "      if (root.Bokeh !== undefined) {\n",
       "        clearInterval(timer);\n",
       "        embed_document(root);\n",
       "      } else {\n",
       "        attempts++;\n",
       "        if (attempts > 100) {\n",
       "          clearInterval(timer);\n",
       "          console.log(\"Bokeh: ERROR: Unable to run BokehJS code because BokehJS library is missing\");\n",
       "        }\n",
       "      }\n",
       "    }, 10, root)\n",
       "  }\n",
       "})(window);"
      ],
      "application/vnd.bokehjs_exec.v0+json": ""
     },
     "metadata": {
      "application/vnd.bokehjs_exec.v0+json": {
       "id": "3162"
      }
     },
     "output_type": "display_data"
    }
   ],
   "source": [
    "fig = figure(title='new daily infected for some regions', \n",
    "             width=1000, \n",
    "             height=400,\n",
    "             x_axis_label='date',\n",
    "             y_axis_label='new infected',\n",
    "             x_axis_type='datetime')\n",
    "\n",
    "for p in regioni:\n",
    "    df_reg_filtered = df_reg.query('denominazione_regione==@p').sort_values(by='only_data')\n",
    "    fig.line(df_reg_filtered['only_data'], df_reg_filtered['nuovi_positivi'], \n",
    "             color=colors[regioni.index(p)],\n",
    "             legend_label=p, \n",
    "             line_width=1.5)\n",
    "\n",
    "\n",
    "# add the hover tool\n",
    "fig.add_tools(HoverTool(\n",
    "    tooltips=[('data', '@x{%F}'), ('new infected', '@y')],\n",
    "    formatters=dict(x='datetime')\n",
    "))\n",
    "fig.add_tools(PanTool(dimensions='width'))\n",
    "fig.legend.location = 'top_left'\n",
    "fig.x_range.start = df_reg['only_data'].min()\n",
    "    \n",
    "# Show the figure\n",
    "show(fig)"
   ]
  },
  {
   "cell_type": "code",
   "execution_count": 33,
   "metadata": {},
   "outputs": [
    {
     "data": {
      "text/html": [
       "\n",
       "\n",
       "\n",
       "\n",
       "\n",
       "\n",
       "  <div class=\"bk-root\" id=\"23b99681-0e4b-40c5-b9ce-4456c72d4425\" data-root-id=\"3603\"></div>\n"
      ]
     },
     "metadata": {},
     "output_type": "display_data"
    },
    {
     "data": {
      "application/javascript": [
       "(function(root) {\n",
       "  function embed_document(root) {\n",
       "    \n",
       "  var docs_json = {\"f88692a0-922e-4c6b-a41c-4460aa6d2566\":{\"roots\":{\"references\":[{\"attributes\":{\"below\":[{\"id\":\"3614\",\"type\":\"DatetimeAxis\"}],\"center\":[{\"id\":\"3618\",\"type\":\"Grid\"},{\"id\":\"3623\",\"type\":\"Grid\"},{\"id\":\"3660\",\"type\":\"Legend\"}],\"left\":[{\"id\":\"3619\",\"type\":\"LinearAxis\"}],\"plot_height\":400,\"plot_width\":1000,\"renderers\":[{\"id\":\"3640\",\"type\":\"GlyphRenderer\"},{\"id\":\"3665\",\"type\":\"GlyphRenderer\"},{\"id\":\"3691\",\"type\":\"GlyphRenderer\"}],\"title\":{\"id\":\"3604\",\"type\":\"Title\"},\"toolbar\":{\"id\":\"3630\",\"type\":\"Toolbar\"},\"x_range\":{\"id\":\"3606\",\"type\":\"DataRange1d\"},\"x_scale\":{\"id\":\"3610\",\"type\":\"LinearScale\"},\"y_range\":{\"id\":\"3608\",\"type\":\"DataRange1d\"},\"y_scale\":{\"id\":\"3612\",\"type\":\"LinearScale\"}},\"id\":\"3603\",\"subtype\":\"Figure\",\"type\":\"Plot\"},{\"attributes\":{\"months\":[0,6]},\"id\":\"3657\",\"type\":\"MonthsTicker\"},{\"attributes\":{\"days\":[1,4,7,10,13,16,19,22,25,28]},\"id\":\"3651\",\"type\":\"DaysTicker\"},{\"attributes\":{},\"id\":\"3700\",\"type\":\"Selection\"},{\"attributes\":{\"days\":[1,15]},\"id\":\"3653\",\"type\":\"DaysTicker\"},{\"attributes\":{\"items\":[{\"id\":\"3661\",\"type\":\"LegendItem\"},{\"id\":\"3687\",\"type\":\"LegendItem\"},{\"id\":\"3715\",\"type\":\"LegendItem\"}],\"location\":\"top_left\"},\"id\":\"3660\",\"type\":\"Legend\"},{\"attributes\":{\"line_color\":\"lightpink\",\"line_width\":1.5,\"x\":{\"field\":\"x\"},\"y\":{\"field\":\"y\"}},\"id\":\"3638\",\"type\":\"Line\"},{\"attributes\":{\"days\":[1,8,15,22]},\"id\":\"3652\",\"type\":\"DaysTicker\"},{\"attributes\":{},\"id\":\"3612\",\"type\":\"LinearScale\"},{\"attributes\":{\"line_alpha\":0.1,\"line_color\":\"#1f77b4\",\"line_width\":1.5,\"x\":{\"field\":\"x\"},\"y\":{\"field\":\"y\"}},\"id\":\"3690\",\"type\":\"Line\"},{\"attributes\":{},\"id\":\"3701\",\"type\":\"UnionRenderers\"},{\"attributes\":{\"data_source\":{\"id\":\"3662\",\"type\":\"ColumnDataSource\"},\"glyph\":{\"id\":\"3663\",\"type\":\"Line\"},\"hover_glyph\":null,\"muted_glyph\":null,\"nonselection_glyph\":{\"id\":\"3664\",\"type\":\"Line\"},\"selection_glyph\":null,\"view\":{\"id\":\"3666\",\"type\":\"CDSView\"}},\"id\":\"3665\",\"type\":\"GlyphRenderer\"},{\"attributes\":{\"months\":[0,1,2,3,4,5,6,7,8,9,10,11]},\"id\":\"3654\",\"type\":\"MonthsTicker\"},{\"attributes\":{\"months\":[0,2,4,6,8,10]},\"id\":\"3655\",\"type\":\"MonthsTicker\"},{\"attributes\":{\"base\":24,\"mantissas\":[1,2,4,6,8,12],\"max_interval\":43200000.0,\"min_interval\":3600000.0,\"num_minor_ticks\":0},\"id\":\"3649\",\"type\":\"AdaptiveTicker\"},{\"attributes\":{\"callback\":null},\"id\":\"3608\",\"type\":\"DataRange1d\"},{\"attributes\":{\"dimension\":1,\"ticker\":{\"id\":\"3620\",\"type\":\"BasicTicker\"}},\"id\":\"3623\",\"type\":\"Grid\"},{\"attributes\":{\"dimensions\":\"width\"},\"id\":\"3718\",\"type\":\"PanTool\"},{\"attributes\":{\"callback\":null,\"data\":{\"x\":{\"__ndarray__\":\"AACARzYJd0IAAMAPdwt3QgAAANi3DXdCAABAoPgPd0IAAIBoORJ3QgAAwDB6FHdCAAAA+boWd0IAAEDB+xh3QgAAgIk8G3dCAADAUX0dd0IAAAAavh93QgAAQOL+IXdCAACAqj8kd0IAAMBygCZ3QgAAADvBKHdCAABAAwIrd0IAAIDLQi13QgAAwJODL3dCAAAAXMQxd0IAAEAkBTR3QgAAgOxFNndCAADAtIY4d0IAAAB9xzp3QgAAQEUIPXdCAACADUk/d0IAAMDViUF3QgAAAJ7KQ3dCAABAZgtGd0IAAIAuTEh3QgAAwPaMSndCAAAAv81Md0IAAECHDk93QgAAgE9PUXdCAADAF5BTd0IAAADg0FV3QgAAQKgRWHdCAACAcFJad0IAAMA4k1x3QgAAAAHUXndCAABAyRRhd0IAAICRVWN3QgAAwFmWZXdCAAAAItdnd0IAAEDqF2p3QgAAgLJYbHdCAADAeplud0IAAABD2nB3QgAAQAsbc3dCAACA01t1d0IAAMCbnHd3QgAAAGTdeXdCAABALB58d0IAAID0Xn53QgAAwLyfgHdCAAAAheCCd0IAAEBNIYV3QgAAgBVih3dCAADA3aKJd0IAAACm44t3QgAAQG4kjndCAACANmWQd0IAAMD+pZJ3Qg==\",\"dtype\":\"float64\",\"shape\":[62]},\"y\":[0,11,66,262,299,269,206,102,65,39,21,13,3,0,6,1,6,4,6,2,7,9,28,25,55,246,382,391,369,365,491,499,780,1087,1663,2071,2431,2922,3310,2653,3040,2092,2108,1759,1716,1933,1980,1277,1486,990,680,481,503,554,734,778,1433,2288,2131,2434,1912,1299]},\"selected\":{\"id\":\"3909\",\"type\":\"Selection\"},\"selection_policy\":{\"id\":\"3910\",\"type\":\"UnionRenderers\"}},\"id\":\"3688\",\"type\":\"ColumnDataSource\"},{\"attributes\":{},\"id\":\"3629\",\"type\":\"HelpTool\"},{\"attributes\":{\"months\":[0,4,8]},\"id\":\"3656\",\"type\":\"MonthsTicker\"},{\"attributes\":{\"callback\":null,\"data\":{\"x\":{\"__ndarray__\":\"AACARzYJd0IAAMAPdwt3QgAAANi3DXdCAABAoPgPd0IAAIBoORJ3QgAAwDB6FHdCAAAA+boWd0IAAEDB+xh3QgAAgIk8G3dCAADAUX0dd0IAAAAavh93QgAAQOL+IXdCAACAqj8kd0IAAMBygCZ3QgAAADvBKHdCAABAAwIrd0IAAIDLQi13QgAAwJODL3dCAAAAXMQxd0IAAEAkBTR3QgAAgOxFNndCAADAtIY4d0IAAAB9xzp3QgAAQEUIPXdCAACADUk/d0IAAMDViUF3QgAAAJ7KQ3dCAABAZgtGd0IAAIAuTEh3QgAAwPaMSndCAAAAv81Md0IAAECHDk93QgAAgE9PUXdCAADAF5BTd0IAAADg0FV3QgAAQKgRWHdCAACAcFJad0IAAMA4k1x3QgAAAAHUXndCAABAyRRhd0IAAICRVWN3QgAAwFmWZXdCAAAAItdnd0IAAEDqF2p3QgAAgLJYbHdCAADAeplud0IAAABD2nB3QgAAQAsbc3dCAACA01t1d0IAAMCbnHd3QgAAAGTdeXdCAABALB58d0IAAID0Xn53QgAAwLyfgHdCAAAAheCCd0IAAEBNIYV3QgAAgBVih3dCAADA3aKJd0IAAACm44t3QgAAQG4kjndCAACANmWQd0IAAMD+pZJ3Qg==\",\"dtype\":\"float64\",\"shape\":[62]},\"y\":[3,37,190,556,763,768,672,540,419,196,169,66,79,36,17,4,12,4,6,6,16,33,50,75,144,167,377,454,593,545,527,713,1278,1873,3161,4756,6399,8737,9069,9711,11123,8631,7627,5840,7214,7960,7815,6682,6797,6183,6066,5303,6591,8407,10101,10971,12208,12458,9335,9701,8950,7004]},\"selected\":{\"id\":\"3672\",\"type\":\"Selection\"},\"selection_policy\":{\"id\":\"3673\",\"type\":\"UnionRenderers\"}},\"id\":\"3637\",\"type\":\"ColumnDataSource\"},{\"attributes\":{\"ticker\":{\"id\":\"3615\",\"type\":\"DatetimeTicker\"}},\"id\":\"3618\",\"type\":\"Grid\"},{\"attributes\":{},\"id\":\"3672\",\"type\":\"Selection\"},{\"attributes\":{},\"id\":\"3620\",\"type\":\"BasicTicker\"},{\"attributes\":{\"data_source\":{\"id\":\"3637\",\"type\":\"ColumnDataSource\"},\"glyph\":{\"id\":\"3638\",\"type\":\"Line\"},\"hover_glyph\":null,\"muted_glyph\":null,\"nonselection_glyph\":{\"id\":\"3639\",\"type\":\"Line\"},\"selection_glyph\":null,\"view\":{\"id\":\"3641\",\"type\":\"CDSView\"}},\"id\":\"3640\",\"type\":\"GlyphRenderer\"},{\"attributes\":{},\"id\":\"3643\",\"type\":\"BasicTickFormatter\"},{\"attributes\":{\"text\":\"New weekly infected for some regions\"},\"id\":\"3604\",\"type\":\"Title\"},{\"attributes\":{\"label\":{\"value\":\"Sardegna\"},\"renderers\":[{\"id\":\"3691\",\"type\":\"GlyphRenderer\"}]},\"id\":\"3715\",\"type\":\"LegendItem\"},{\"attributes\":{},\"id\":\"3627\",\"type\":\"SaveTool\"},{\"attributes\":{\"overlay\":{\"id\":\"3659\",\"type\":\"BoxAnnotation\"}},\"id\":\"3626\",\"type\":\"BoxZoomTool\"},{\"attributes\":{\"bottom_units\":\"screen\",\"fill_alpha\":{\"value\":0.5},\"fill_color\":{\"value\":\"lightgrey\"},\"left_units\":\"screen\",\"level\":\"overlay\",\"line_alpha\":{\"value\":1.0},\"line_color\":{\"value\":\"black\"},\"line_dash\":[4,4],\"line_width\":{\"value\":2},\"render_mode\":\"css\",\"right_units\":\"screen\",\"top_units\":\"screen\"},\"id\":\"3659\",\"type\":\"BoxAnnotation\"},{\"attributes\":{},\"id\":\"3673\",\"type\":\"UnionRenderers\"},{\"attributes\":{\"line_alpha\":0.1,\"line_color\":\"#1f77b4\",\"line_width\":1.5,\"x\":{\"field\":\"x\"},\"y\":{\"field\":\"y\"}},\"id\":\"3639\",\"type\":\"Line\"},{\"attributes\":{\"active_drag\":\"auto\",\"active_inspect\":\"auto\",\"active_multi\":null,\"active_scroll\":\"auto\",\"active_tap\":\"auto\",\"tools\":[{\"id\":\"3624\",\"type\":\"PanTool\"},{\"id\":\"3625\",\"type\":\"WheelZoomTool\"},{\"id\":\"3626\",\"type\":\"BoxZoomTool\"},{\"id\":\"3627\",\"type\":\"SaveTool\"},{\"id\":\"3628\",\"type\":\"ResetTool\"},{\"id\":\"3629\",\"type\":\"HelpTool\"},{\"id\":\"3716\",\"type\":\"HoverTool\"},{\"id\":\"3718\",\"type\":\"PanTool\"}]},\"id\":\"3630\",\"type\":\"Toolbar\"},{\"attributes\":{\"line_alpha\":0.1,\"line_color\":\"#1f77b4\",\"line_width\":1.5,\"x\":{\"field\":\"x\"},\"y\":{\"field\":\"y\"}},\"id\":\"3664\",\"type\":\"Line\"},{\"attributes\":{},\"id\":\"3645\",\"type\":\"DatetimeTickFormatter\"},{\"attributes\":{},\"id\":\"3628\",\"type\":\"ResetTool\"},{\"attributes\":{\"callback\":null,\"start\":1582502400000.0},\"id\":\"3606\",\"type\":\"DataRange1d\"},{\"attributes\":{},\"id\":\"3624\",\"type\":\"PanTool\"},{\"attributes\":{},\"id\":\"3909\",\"type\":\"Selection\"},{\"attributes\":{\"line_color\":\"peachpuff\",\"line_width\":1.5,\"x\":{\"field\":\"x\"},\"y\":{\"field\":\"y\"}},\"id\":\"3689\",\"type\":\"Line\"},{\"attributes\":{},\"id\":\"3910\",\"type\":\"UnionRenderers\"},{\"attributes\":{\"callback\":null,\"formatters\":{\"x\":\"datetime\"},\"tooltips\":[[\"data\",\"@x{%F}\"],[\"new infected\",\"@y\"]]},\"id\":\"3716\",\"type\":\"HoverTool\"},{\"attributes\":{\"axis_label\":\"date\",\"formatter\":{\"id\":\"3645\",\"type\":\"DatetimeTickFormatter\"},\"ticker\":{\"id\":\"3615\",\"type\":\"DatetimeTicker\"}},\"id\":\"3614\",\"type\":\"DatetimeAxis\"},{\"attributes\":{\"line_color\":\"gainsboro\",\"line_width\":1.5,\"x\":{\"field\":\"x\"},\"y\":{\"field\":\"y\"}},\"id\":\"3663\",\"type\":\"Line\"},{\"attributes\":{\"callback\":null,\"data\":{\"x\":{\"__ndarray__\":\"AACARzYJd0IAAMAPdwt3QgAAANi3DXdCAABAoPgPd0IAAIBoORJ3QgAAwDB6FHdCAAAA+boWd0IAAEDB+xh3QgAAgIk8G3dCAADAUX0dd0IAAAAavh93QgAAQOL+IXdCAACAqj8kd0IAAMBygCZ3QgAAADvBKHdCAABAAwIrd0IAAIDLQi13QgAAwJODL3dCAAAAXMQxd0IAAEAkBTR3QgAAgOxFNndCAADAtIY4d0IAAAB9xzp3QgAAQEUIPXdCAACADUk/d0IAAMDViUF3QgAAAJ7KQ3dCAABAZgtGd0IAAIAuTEh3QgAAwPaMSndCAAAAv81Md0IAAECHDk93QgAAgE9PUXdCAADAF5BTd0IAAADg0FV3QgAAQKgRWHdCAACAcFJad0IAAMA4k1x3QgAAAAHUXndCAABAyRRhd0IAAICRVWN3QgAAwFmWZXdCAAAAItdnd0IAAEDqF2p3QgAAgLJYbHdCAADAeplud0IAAABD2nB3QgAAQAsbc3dCAACA01t1d0IAAMCbnHd3QgAAAGTdeXdCAABALB58d0IAAID0Xn53QgAAwLyfgHdCAAAAheCCd0IAAEBNIYV3QgAAgBVih3dCAADA3aKJd0IAAACm44t3QgAAQG4kjndCAACANmWQd0IAAMD+pZJ3Qg==\",\"dtype\":\"float64\",\"shape\":[62]},\"y\":[9,44,135,442,830,534,422,301,338,185,87,61,35,20,8,6,12,5,17,5,43,51,112,148,313,236,289,425,525,721,721,998,1613,2998,4605,5956,8418,10261,11597,9419,8941,6701,6339,5087,6931,11508,12674,9023,6351,5451,4190,3246,3568,3830,4419,5032,5812,7005,7831,9032,8057,5772]},\"selected\":{\"id\":\"3700\",\"type\":\"Selection\"},\"selection_policy\":{\"id\":\"3701\",\"type\":\"UnionRenderers\"}},\"id\":\"3662\",\"type\":\"ColumnDataSource\"},{\"attributes\":{\"days\":[1,2,3,4,5,6,7,8,9,10,11,12,13,14,15,16,17,18,19,20,21,22,23,24,25,26,27,28,29,30,31]},\"id\":\"3650\",\"type\":\"DaysTicker\"},{\"attributes\":{\"source\":{\"id\":\"3662\",\"type\":\"ColumnDataSource\"}},\"id\":\"3666\",\"type\":\"CDSView\"},{\"attributes\":{\"base\":60,\"mantissas\":[1,2,5,10,15,20,30],\"max_interval\":1800000.0,\"min_interval\":1000.0,\"num_minor_ticks\":0},\"id\":\"3648\",\"type\":\"AdaptiveTicker\"},{\"attributes\":{\"mantissas\":[1,2,5],\"max_interval\":500.0,\"num_minor_ticks\":0},\"id\":\"3647\",\"type\":\"AdaptiveTicker\"},{\"attributes\":{\"label\":{\"value\":\"Sicilia\"},\"renderers\":[{\"id\":\"3665\",\"type\":\"GlyphRenderer\"}]},\"id\":\"3687\",\"type\":\"LegendItem\"},{\"attributes\":{\"data_source\":{\"id\":\"3688\",\"type\":\"ColumnDataSource\"},\"glyph\":{\"id\":\"3689\",\"type\":\"Line\"},\"hover_glyph\":null,\"muted_glyph\":null,\"nonselection_glyph\":{\"id\":\"3690\",\"type\":\"Line\"},\"selection_glyph\":null,\"view\":{\"id\":\"3692\",\"type\":\"CDSView\"}},\"id\":\"3691\",\"type\":\"GlyphRenderer\"},{\"attributes\":{\"label\":{\"value\":\"Puglia\"},\"renderers\":[{\"id\":\"3640\",\"type\":\"GlyphRenderer\"}]},\"id\":\"3661\",\"type\":\"LegendItem\"},{\"attributes\":{\"num_minor_ticks\":5,\"tickers\":[{\"id\":\"3647\",\"type\":\"AdaptiveTicker\"},{\"id\":\"3648\",\"type\":\"AdaptiveTicker\"},{\"id\":\"3649\",\"type\":\"AdaptiveTicker\"},{\"id\":\"3650\",\"type\":\"DaysTicker\"},{\"id\":\"3651\",\"type\":\"DaysTicker\"},{\"id\":\"3652\",\"type\":\"DaysTicker\"},{\"id\":\"3653\",\"type\":\"DaysTicker\"},{\"id\":\"3654\",\"type\":\"MonthsTicker\"},{\"id\":\"3655\",\"type\":\"MonthsTicker\"},{\"id\":\"3656\",\"type\":\"MonthsTicker\"},{\"id\":\"3657\",\"type\":\"MonthsTicker\"},{\"id\":\"3658\",\"type\":\"YearsTicker\"}]},\"id\":\"3615\",\"type\":\"DatetimeTicker\"},{\"attributes\":{\"source\":{\"id\":\"3637\",\"type\":\"ColumnDataSource\"}},\"id\":\"3641\",\"type\":\"CDSView\"},{\"attributes\":{},\"id\":\"3625\",\"type\":\"WheelZoomTool\"},{\"attributes\":{},\"id\":\"3610\",\"type\":\"LinearScale\"},{\"attributes\":{\"source\":{\"id\":\"3688\",\"type\":\"ColumnDataSource\"}},\"id\":\"3692\",\"type\":\"CDSView\"},{\"attributes\":{\"axis_label\":\"new infected\",\"formatter\":{\"id\":\"3643\",\"type\":\"BasicTickFormatter\"},\"ticker\":{\"id\":\"3620\",\"type\":\"BasicTicker\"}},\"id\":\"3619\",\"type\":\"LinearAxis\"},{\"attributes\":{},\"id\":\"3658\",\"type\":\"YearsTicker\"}],\"root_ids\":[\"3603\"]},\"title\":\"Bokeh Application\",\"version\":\"1.4.0\"}};\n",
       "  var render_items = [{\"docid\":\"f88692a0-922e-4c6b-a41c-4460aa6d2566\",\"roots\":{\"3603\":\"23b99681-0e4b-40c5-b9ce-4456c72d4425\"}}];\n",
       "  root.Bokeh.embed.embed_items_notebook(docs_json, render_items);\n",
       "\n",
       "  }\n",
       "  if (root.Bokeh !== undefined) {\n",
       "    embed_document(root);\n",
       "  } else {\n",
       "    var attempts = 0;\n",
       "    var timer = setInterval(function(root) {\n",
       "      if (root.Bokeh !== undefined) {\n",
       "        clearInterval(timer);\n",
       "        embed_document(root);\n",
       "      } else {\n",
       "        attempts++;\n",
       "        if (attempts > 100) {\n",
       "          clearInterval(timer);\n",
       "          console.log(\"Bokeh: ERROR: Unable to run BokehJS code because BokehJS library is missing\");\n",
       "        }\n",
       "      }\n",
       "    }, 10, root)\n",
       "  }\n",
       "})(window);"
      ],
      "application/vnd.bokehjs_exec.v0+json": ""
     },
     "metadata": {
      "application/vnd.bokehjs_exec.v0+json": {
       "id": "3603"
      }
     },
     "output_type": "display_data"
    }
   ],
   "source": [
    "fig = figure(title='New weekly infected for some regions', \n",
    "             width=1000, \n",
    "             height=400,\n",
    "             x_axis_label='date',\n",
    "             y_axis_label='new infected',\n",
    "             x_axis_type='datetime')\n",
    "\n",
    "for p in regioni:\n",
    "    df_reg_filtered = df_reg.query('denominazione_regione==@p')[['only_data', 'nuovi_positivi']]\n",
    "    df_reg_filtered = df_reg_filtered.set_index(pd.to_datetime(df_reg_filtered['only_data']))['nuovi_positivi'].resample('W').sum()\n",
    "    fig.line(df_reg_filtered.index, df_reg_filtered, \n",
    "             color=colors[regioni.index(p)],\n",
    "             legend_label=p, \n",
    "             line_width=1.5)\n",
    "\n",
    "\n",
    "# add the hover tool\n",
    "fig.add_tools(HoverTool(\n",
    "    tooltips=[('data', '@x{%F}'), ('new infected', '@y')],\n",
    "    formatters=dict(x='datetime')\n",
    "))\n",
    "fig.add_tools(PanTool(dimensions='width'))\n",
    "fig.legend.location = 'top_left'\n",
    "fig.x_range.start = df_reg['only_data'].min()\n",
    "    \n",
    "# Show the figure\n",
    "show(fig)"
   ]
  },
  {
   "cell_type": "markdown",
   "metadata": {},
   "source": [
    "### new weekly infected on 100000 inhabitants in Puglia"
   ]
  },
  {
   "cell_type": "code",
   "execution_count": 34,
   "metadata": {},
   "outputs": [],
   "source": [
    "df_reg_filtered = df_reg.query('denominazione_regione==\"Puglia\"')[['only_data', 'nuovi_positivi']]\n",
    "df_reg_filtered = df_reg_filtered.set_index(pd.to_datetime(df_reg_filtered['only_data']))['nuovi_positivi'].resample('W').sum()"
   ]
  },
  {
   "cell_type": "code",
   "execution_count": 36,
   "metadata": {},
   "outputs": [
    {
     "data": {
      "text/html": [
       "\n",
       "\n",
       "\n",
       "\n",
       "\n",
       "\n",
       "  <div class=\"bk-root\" id=\"ce774ade-be54-4575-bbf8-d3e0e4c39c70\" data-root-id=\"4494\"></div>\n"
      ]
     },
     "metadata": {},
     "output_type": "display_data"
    },
    {
     "data": {
      "application/javascript": [
       "(function(root) {\n",
       "  function embed_document(root) {\n",
       "    \n",
       "  var docs_json = {\"f8627bf5-d18b-4fe3-a8dc-3fc3643f68c4\":{\"roots\":{\"references\":[{\"attributes\":{\"below\":[{\"id\":\"4505\",\"type\":\"DatetimeAxis\"}],\"center\":[{\"id\":\"4509\",\"type\":\"Grid\"},{\"id\":\"4514\",\"type\":\"Grid\"},{\"id\":\"4551\",\"type\":\"Legend\"}],\"left\":[{\"id\":\"4510\",\"type\":\"LinearAxis\"}],\"plot_height\":400,\"plot_width\":1000,\"renderers\":[{\"id\":\"4531\",\"type\":\"GlyphRenderer\"},{\"id\":\"4556\",\"type\":\"GlyphRenderer\"}],\"title\":{\"id\":\"4495\",\"type\":\"Title\"},\"toolbar\":{\"id\":\"4521\",\"type\":\"Toolbar\"},\"x_range\":{\"id\":\"4497\",\"type\":\"DataRange1d\"},\"x_scale\":{\"id\":\"4501\",\"type\":\"LinearScale\"},\"y_range\":{\"id\":\"4499\",\"type\":\"DataRange1d\"},\"y_scale\":{\"id\":\"4503\",\"type\":\"LinearScale\"}},\"id\":\"4494\",\"subtype\":\"Figure\",\"type\":\"Plot\"},{\"attributes\":{},\"id\":\"4516\",\"type\":\"WheelZoomTool\"},{\"attributes\":{\"days\":[1,15]},\"id\":\"4544\",\"type\":\"DaysTicker\"},{\"attributes\":{\"overlay\":{\"id\":\"4550\",\"type\":\"BoxAnnotation\"}},\"id\":\"4517\",\"type\":\"BoxZoomTool\"},{\"attributes\":{},\"id\":\"4520\",\"type\":\"HelpTool\"},{\"attributes\":{\"axis_label\":\"new infected on 100000 inhabitants\",\"formatter\":{\"id\":\"4534\",\"type\":\"BasicTickFormatter\"},\"ticker\":{\"id\":\"4511\",\"type\":\"BasicTicker\"}},\"id\":\"4510\",\"type\":\"LinearAxis\"},{\"attributes\":{\"callback\":null},\"id\":\"4499\",\"type\":\"DataRange1d\"},{\"attributes\":{},\"id\":\"4518\",\"type\":\"SaveTool\"},{\"attributes\":{\"line_color\":\"blue\",\"line_width\":1.5,\"x\":{\"field\":\"x\"},\"y\":{\"field\":\"y\"}},\"id\":\"4529\",\"type\":\"Line\"},{\"attributes\":{},\"id\":\"4519\",\"type\":\"ResetTool\"},{\"attributes\":{\"active_drag\":\"auto\",\"active_inspect\":\"auto\",\"active_multi\":null,\"active_scroll\":\"auto\",\"active_tap\":\"auto\",\"tools\":[{\"id\":\"4515\",\"type\":\"PanTool\"},{\"id\":\"4516\",\"type\":\"WheelZoomTool\"},{\"id\":\"4517\",\"type\":\"BoxZoomTool\"},{\"id\":\"4518\",\"type\":\"SaveTool\"},{\"id\":\"4519\",\"type\":\"ResetTool\"},{\"id\":\"4520\",\"type\":\"HelpTool\"},{\"id\":\"4558\",\"type\":\"HoverTool\"},{\"id\":\"4560\",\"type\":\"PanTool\"}]},\"id\":\"4521\",\"type\":\"Toolbar\"},{\"attributes\":{\"months\":[0,4,8]},\"id\":\"4547\",\"type\":\"MonthsTicker\"},{\"attributes\":{\"days\":[1,4,7,10,13,16,19,22,25,28]},\"id\":\"4542\",\"type\":\"DaysTicker\"},{\"attributes\":{},\"id\":\"4534\",\"type\":\"BasicTickFormatter\"},{\"attributes\":{\"line_alpha\":0.1,\"line_color\":\"#1f77b4\",\"line_width\":1.5,\"x\":{\"field\":\"x\"},\"y\":{\"field\":\"y\"}},\"id\":\"4530\",\"type\":\"Line\"},{\"attributes\":{\"callback\":null,\"formatters\":{\"x\":\"datetime\"},\"tooltips\":[[\"data\",\"@x{%F}\"],[\"new infected\",\"@y\"]]},\"id\":\"4558\",\"type\":\"HoverTool\"},{\"attributes\":{},\"id\":\"4795\",\"type\":\"Selection\"},{\"attributes\":{\"days\":[1,8,15,22]},\"id\":\"4543\",\"type\":\"DaysTicker\"},{\"attributes\":{\"months\":[0,1,2,3,4,5,6,7,8,9,10,11]},\"id\":\"4545\",\"type\":\"MonthsTicker\"},{\"attributes\":{\"data_source\":{\"id\":\"4553\",\"type\":\"ColumnDataSource\"},\"glyph\":{\"id\":\"4554\",\"type\":\"Line\"},\"hover_glyph\":null,\"muted_glyph\":null,\"nonselection_glyph\":{\"id\":\"4555\",\"type\":\"Line\"},\"selection_glyph\":null,\"view\":{\"id\":\"4557\",\"type\":\"CDSView\"}},\"id\":\"4556\",\"type\":\"GlyphRenderer\"},{\"attributes\":{\"months\":[0,6]},\"id\":\"4548\",\"type\":\"MonthsTicker\"},{\"attributes\":{},\"id\":\"4549\",\"type\":\"YearsTicker\"},{\"attributes\":{},\"id\":\"4793\",\"type\":\"Selection\"},{\"attributes\":{\"months\":[0,2,4,6,8,10]},\"id\":\"4546\",\"type\":\"MonthsTicker\"},{\"attributes\":{\"callback\":null,\"data\":{\"x\":{\"__ndarray__\":\"AACARzYJd0IAAMAPdwt3QgAAANi3DXdCAABAoPgPd0IAAIBoORJ3QgAAwDB6FHdCAAAA+boWd0IAAEDB+xh3QgAAgIk8G3dCAADAUX0dd0IAAAAavh93QgAAQOL+IXdCAACAqj8kd0IAAMBygCZ3QgAAADvBKHdCAABAAwIrd0IAAIDLQi13QgAAwJODL3dCAAAAXMQxd0IAAEAkBTR3QgAAgOxFNndCAADAtIY4d0IAAAB9xzp3QgAAQEUIPXdCAACADUk/d0IAAMDViUF3QgAAAJ7KQ3dCAABAZgtGd0IAAIAuTEh3QgAAwPaMSndCAAAAv81Md0IAAECHDk93QgAAgE9PUXdCAADAF5BTd0IAAADg0FV3QgAAQKgRWHdCAACAcFJad0IAAMA4k1x3QgAAAAHUXndCAABAyRRhd0IAAICRVWN3QgAAwFmWZXdCAAAAItdnd0IAAEDqF2p3QgAAgLJYbHdCAADAeplud0IAAABD2nB3QgAAQAsbc3dCAACA01t1d0IAAMCbnHd3QgAAAGTdeXdCAABALB58d0IAAID0Xn53QgAAwLyfgHdCAAAAheCCd0IAAEBNIYV3QgAAgBVih3dCAADA3aKJd0IAAACm44t3QgAAQG4kjndCAACANmWQd0IAAMD+pZJ3Qg==\",\"dtype\":\"float64\",\"shape\":[62]},\"y\":{\"__ndarray__\":\"2cM7aqiOsz9DIxz5mCbuP3kky1OBWhNA54gmLzlRLEA9YDX8D24zQNnDO2qojjNAXUv0XNMcMUBoC2TVnIArQF02lW7+ViVAmAIdl/b2E0ANmyzo5jYRQEotEpIn5Po/gC7B7A8YAEDFpVmf/FXtP8iq1OvDtNs/y69POIsTuj/ZwztqqI7TP8uvTziLE7o/2cM7aqiOwz/ZwztqqI7DP8uvTziLE9o/Si0Skifk6j9XQf7DRF/0PwJi/SXnjv4/xaVZn/xVDUCu+7vRvwIRQPGs9gJkMyNA4ajuclQfJ0AbS7i+ojMuQKDScLHNwStAcgV2zB3XKkAnfPWvGygyQPO5YyCyRUBApuDfsh/ZR0Aa/6QgtR9UQN+GImcxR15A2X6kJ3ReZED1vGYTqM9rQLX3ztcy3mxAbLbo8FrpbkBNuf6n/LNxQP80PFZHeWtA03A1JiJHaEDSzqS/7pZiQF+sZumV9mZAEW73hn1WaUD8RCD4VOBoQJR/3v4QRWVA9N0wO8eiZUD3ZOg7cK5jQJyB4sYYT2NAlNVbx1bhYED4XPZq6fpkQDAHsoe+wmpAzYDTkJQTcEAL/Fg9DnZxQD1gNfwPbnNAg1cJVOzTc0AbDhNN9bZtQIUdZ9U04W5AX48VKjp9bEBtIcWndUtmQA==\",\"dtype\":\"float64\",\"shape\":[62]}},\"selected\":{\"id\":\"4793\",\"type\":\"Selection\"},\"selection_policy\":{\"id\":\"4794\",\"type\":\"UnionRenderers\"}},\"id\":\"4528\",\"type\":\"ColumnDataSource\"},{\"attributes\":{\"dimension\":1,\"ticker\":{\"id\":\"4511\",\"type\":\"BasicTicker\"}},\"id\":\"4514\",\"type\":\"Grid\"},{\"attributes\":{},\"id\":\"4794\",\"type\":\"UnionRenderers\"},{\"attributes\":{\"data_source\":{\"id\":\"4528\",\"type\":\"ColumnDataSource\"},\"glyph\":{\"id\":\"4529\",\"type\":\"Line\"},\"hover_glyph\":null,\"muted_glyph\":null,\"nonselection_glyph\":{\"id\":\"4530\",\"type\":\"Line\"},\"selection_glyph\":null,\"view\":{\"id\":\"4532\",\"type\":\"CDSView\"}},\"id\":\"4531\",\"type\":\"GlyphRenderer\"},{\"attributes\":{\"text\":\"new weekly infected trend on 100000 inhabitants in Puglia\"},\"id\":\"4495\",\"type\":\"Title\"},{\"attributes\":{},\"id\":\"4515\",\"type\":\"PanTool\"},{\"attributes\":{},\"id\":\"4796\",\"type\":\"UnionRenderers\"},{\"attributes\":{},\"id\":\"4536\",\"type\":\"DatetimeTickFormatter\"},{\"attributes\":{\"source\":{\"id\":\"4528\",\"type\":\"ColumnDataSource\"}},\"id\":\"4532\",\"type\":\"CDSView\"},{\"attributes\":{},\"id\":\"4511\",\"type\":\"BasicTicker\"},{\"attributes\":{\"base\":60,\"mantissas\":[1,2,5,10,15,20,30],\"max_interval\":1800000.0,\"min_interval\":1000.0,\"num_minor_ticks\":0},\"id\":\"4539\",\"type\":\"AdaptiveTicker\"},{\"attributes\":{\"mantissas\":[1,2,5],\"max_interval\":500.0,\"num_minor_ticks\":0},\"id\":\"4538\",\"type\":\"AdaptiveTicker\"},{\"attributes\":{\"axis_label\":\"date\",\"formatter\":{\"id\":\"4536\",\"type\":\"DatetimeTickFormatter\"},\"ticker\":{\"id\":\"4506\",\"type\":\"DatetimeTicker\"}},\"id\":\"4505\",\"type\":\"DatetimeAxis\"},{\"attributes\":{\"days\":[1,2,3,4,5,6,7,8,9,10,11,12,13,14,15,16,17,18,19,20,21,22,23,24,25,26,27,28,29,30,31]},\"id\":\"4541\",\"type\":\"DaysTicker\"},{\"attributes\":{\"line_color\":\"red\",\"x\":{\"field\":\"x\"},\"y\":{\"value\":250}},\"id\":\"4554\",\"type\":\"Line\"},{\"attributes\":{\"base\":24,\"mantissas\":[1,2,4,6,8,12],\"max_interval\":43200000.0,\"min_interval\":3600000.0,\"num_minor_ticks\":0},\"id\":\"4540\",\"type\":\"AdaptiveTicker\"},{\"attributes\":{\"source\":{\"id\":\"4553\",\"type\":\"ColumnDataSource\"}},\"id\":\"4557\",\"type\":\"CDSView\"},{\"attributes\":{\"label\":{\"value\":\"Puglia\"},\"renderers\":[{\"id\":\"4531\",\"type\":\"GlyphRenderer\"}]},\"id\":\"4552\",\"type\":\"LegendItem\"},{\"attributes\":{\"bottom_units\":\"screen\",\"fill_alpha\":{\"value\":0.5},\"fill_color\":{\"value\":\"lightgrey\"},\"left_units\":\"screen\",\"level\":\"overlay\",\"line_alpha\":{\"value\":1.0},\"line_color\":{\"value\":\"black\"},\"line_dash\":[4,4],\"line_width\":{\"value\":2},\"render_mode\":\"css\",\"right_units\":\"screen\",\"top_units\":\"screen\"},\"id\":\"4550\",\"type\":\"BoxAnnotation\"},{\"attributes\":{\"items\":[{\"id\":\"4552\",\"type\":\"LegendItem\"}],\"location\":\"top_left\"},\"id\":\"4551\",\"type\":\"Legend\"},{\"attributes\":{\"line_alpha\":0.1,\"line_color\":\"#1f77b4\",\"x\":{\"field\":\"x\"},\"y\":{\"value\":250}},\"id\":\"4555\",\"type\":\"Line\"},{\"attributes\":{},\"id\":\"4503\",\"type\":\"LinearScale\"},{\"attributes\":{\"callback\":null,\"data\":{\"x\":{\"__ndarray__\":\"AACARzYJd0IAAMAPdwt3QgAAANi3DXdCAABAoPgPd0IAAIBoORJ3QgAAwDB6FHdCAAAA+boWd0IAAEDB+xh3QgAAgIk8G3dCAADAUX0dd0IAAAAavh93QgAAQOL+IXdCAACAqj8kd0IAAMBygCZ3QgAAADvBKHdCAABAAwIrd0IAAIDLQi13QgAAwJODL3dCAAAAXMQxd0IAAEAkBTR3QgAAgOxFNndCAADAtIY4d0IAAAB9xzp3QgAAQEUIPXdCAACADUk/d0IAAMDViUF3QgAAAJ7KQ3dCAABAZgtGd0IAAIAuTEh3QgAAwPaMSndCAAAAv81Md0IAAECHDk93QgAAgE9PUXdCAADAF5BTd0IAAADg0FV3QgAAQKgRWHdCAACAcFJad0IAAMA4k1x3QgAAAAHUXndCAABAyRRhd0IAAICRVWN3QgAAwFmWZXdCAAAAItdnd0IAAEDqF2p3QgAAgLJYbHdCAADAeplud0IAAABD2nB3QgAAQAsbc3dCAACA01t1d0IAAMCbnHd3QgAAAGTdeXdCAABALB58d0IAAID0Xn53QgAAwLyfgHdCAAAAheCCd0IAAEBNIYV3QgAAgBVih3dCAADA3aKJd0IAAACm44t3QgAAQG4kjndCAACANmWQd0IAAMD+pZJ3Qg==\",\"dtype\":\"float64\",\"shape\":[62]}},\"selected\":{\"id\":\"4795\",\"type\":\"Selection\"},\"selection_policy\":{\"id\":\"4796\",\"type\":\"UnionRenderers\"}},\"id\":\"4553\",\"type\":\"ColumnDataSource\"},{\"attributes\":{\"ticker\":{\"id\":\"4506\",\"type\":\"DatetimeTicker\"}},\"id\":\"4509\",\"type\":\"Grid\"},{\"attributes\":{\"num_minor_ticks\":5,\"tickers\":[{\"id\":\"4538\",\"type\":\"AdaptiveTicker\"},{\"id\":\"4539\",\"type\":\"AdaptiveTicker\"},{\"id\":\"4540\",\"type\":\"AdaptiveTicker\"},{\"id\":\"4541\",\"type\":\"DaysTicker\"},{\"id\":\"4542\",\"type\":\"DaysTicker\"},{\"id\":\"4543\",\"type\":\"DaysTicker\"},{\"id\":\"4544\",\"type\":\"DaysTicker\"},{\"id\":\"4545\",\"type\":\"MonthsTicker\"},{\"id\":\"4546\",\"type\":\"MonthsTicker\"},{\"id\":\"4547\",\"type\":\"MonthsTicker\"},{\"id\":\"4548\",\"type\":\"MonthsTicker\"},{\"id\":\"4549\",\"type\":\"YearsTicker\"}]},\"id\":\"4506\",\"type\":\"DatetimeTicker\"},{\"attributes\":{\"dimensions\":\"width\"},\"id\":\"4560\",\"type\":\"PanTool\"},{\"attributes\":{},\"id\":\"4501\",\"type\":\"LinearScale\"},{\"attributes\":{\"callback\":null,\"start\":1583020800000.0},\"id\":\"4497\",\"type\":\"DataRange1d\"}],\"root_ids\":[\"4494\"]},\"title\":\"Bokeh Application\",\"version\":\"1.4.0\"}};\n",
       "  var render_items = [{\"docid\":\"f8627bf5-d18b-4fe3-a8dc-3fc3643f68c4\",\"roots\":{\"4494\":\"ce774ade-be54-4575-bbf8-d3e0e4c39c70\"}}];\n",
       "  root.Bokeh.embed.embed_items_notebook(docs_json, render_items);\n",
       "\n",
       "  }\n",
       "  if (root.Bokeh !== undefined) {\n",
       "    embed_document(root);\n",
       "  } else {\n",
       "    var attempts = 0;\n",
       "    var timer = setInterval(function(root) {\n",
       "      if (root.Bokeh !== undefined) {\n",
       "        clearInterval(timer);\n",
       "        embed_document(root);\n",
       "      } else {\n",
       "        attempts++;\n",
       "        if (attempts > 100) {\n",
       "          clearInterval(timer);\n",
       "          console.log(\"Bokeh: ERROR: Unable to run BokehJS code because BokehJS library is missing\");\n",
       "        }\n",
       "      }\n",
       "    }, 10, root)\n",
       "  }\n",
       "})(window);"
      ],
      "application/vnd.bokehjs_exec.v0+json": ""
     },
     "metadata": {
      "application/vnd.bokehjs_exec.v0+json": {
       "id": "4494"
      }
     },
     "output_type": "display_data"
    }
   ],
   "source": [
    "fig = figure(title='new weekly infected trend on 100000 inhabitants in Puglia', \n",
    "             width=1000, \n",
    "             height=400,\n",
    "             x_axis_label='date',\n",
    "             y_axis_label='new infected on 100000 inhabitants',\n",
    "             x_axis_type='datetime')\n",
    "\n",
    "\n",
    "df_reg_filtered = df_reg.query('denominazione_regione==\"Puglia\"')[['only_data', 'nuovi_positivi']]\n",
    "df_reg_filtered = df_reg_filtered.set_index(pd.to_datetime(df_reg_filtered['only_data']))['nuovi_positivi'].resample('W').sum()\n",
    "fig.line(df_reg_filtered.index, \n",
    "         df_reg_filtered*100_000/3_926_931, \n",
    "         color='blue',\n",
    "         legend_label=\"Puglia\", \n",
    "         line_width=1.5)\n",
    "\n",
    "fig.line(df_reg_filtered.index,\n",
    "         250,\n",
    "         color='red',\n",
    "         line_width=1)\n",
    "\n",
    "\n",
    "# add the hover tool\n",
    "fig.add_tools(HoverTool(\n",
    "    tooltips=[('data', '@x{%F}'), ('new infected', '@y')],\n",
    "    formatters=dict(x='datetime')\n",
    "))\n",
    "fig.add_tools(PanTool(dimensions='width'))\n",
    "fig.legend.location = 'top_left'\n",
    "fig.x_range.start = df_reg_filtered.index.min()\n",
    "    \n",
    "# Show the figure\n",
    "show(fig)"
   ]
  },
  {
   "cell_type": "code",
   "execution_count": null,
   "metadata": {},
   "outputs": [],
   "source": []
  },
  {
   "cell_type": "markdown",
   "metadata": {},
   "source": [
    "## Trend for some provinces"
   ]
  },
  {
   "cell_type": "code",
   "execution_count": 37,
   "metadata": {},
   "outputs": [],
   "source": [
    "prov_path = \"infections/dati-province/dpc-covid19-ita-province-*.csv\""
   ]
  },
  {
   "cell_type": "code",
   "execution_count": 38,
   "metadata": {},
   "outputs": [],
   "source": [
    "df_prov = pd.concat(map(pd.read_csv, glob.glob(os.path.join('', f\"{prov_path}\"))))"
   ]
  },
  {
   "cell_type": "code",
   "execution_count": 39,
   "metadata": {},
   "outputs": [],
   "source": [
    "df_prov['only_data'] = pd.to_datetime(df_prov['data']).dt.date"
   ]
  },
  {
   "cell_type": "markdown",
   "metadata": {},
   "source": [
    "This analysis is done for 'Taranto', 'Lecce', 'Messina', 'Cagliari' and  'Bari' provinces..if you want to analyze other provinces, put them in the below \"province\" list"
   ]
  },
  {
   "cell_type": "code",
   "execution_count": 40,
   "metadata": {},
   "outputs": [],
   "source": [
    "province = ['Taranto', 'Lecce', 'Messina', 'Cagliari', 'Bari']\n",
    "colors = []\n",
    "n = named.__dict__\n",
    "all_colors = n['__all__']\n",
    "while len(colors) < (len(province)):\n",
    "    if choice(all_colors) not in colors:\n",
    "        colors.append(choice(all_colors))"
   ]
  },
  {
   "cell_type": "code",
   "execution_count": 41,
   "metadata": {},
   "outputs": [
    {
     "data": {
      "text/html": [
       "\n",
       "\n",
       "\n",
       "\n",
       "\n",
       "\n",
       "  <div class=\"bk-root\" id=\"519602d3-4dd3-45d4-af43-d474f3ee48e0\" data-root-id=\"4942\"></div>\n"
      ]
     },
     "metadata": {},
     "output_type": "display_data"
    },
    {
     "data": {
      "application/javascript": [
       "(function(root) {\n",
       "  function embed_document(root) {\n",
       "    \n",
       "  var docs_json = {\"0db4cd9d-db7f-41d7-9684-ba73dce26808\":{\"roots\":{\"references\":[{\"attributes\":{\"below\":[{\"id\":\"4953\",\"type\":\"DatetimeAxis\"}],\"center\":[{\"id\":\"4957\",\"type\":\"Grid\"},{\"id\":\"4962\",\"type\":\"Grid\"},{\"id\":\"4999\",\"type\":\"Legend\"}],\"left\":[{\"id\":\"4958\",\"type\":\"LinearAxis\"}],\"plot_height\":400,\"plot_width\":1000,\"renderers\":[{\"id\":\"4979\",\"type\":\"GlyphRenderer\"},{\"id\":\"5004\",\"type\":\"GlyphRenderer\"},{\"id\":\"5030\",\"type\":\"GlyphRenderer\"},{\"id\":\"5058\",\"type\":\"GlyphRenderer\"},{\"id\":\"5088\",\"type\":\"GlyphRenderer\"}],\"title\":{\"id\":\"4943\",\"type\":\"Title\"},\"toolbar\":{\"id\":\"4969\",\"type\":\"Toolbar\"},\"x_range\":{\"id\":\"4945\",\"type\":\"DataRange1d\"},\"x_scale\":{\"id\":\"4949\",\"type\":\"LinearScale\"},\"y_range\":{\"id\":\"4947\",\"type\":\"DataRange1d\"},\"y_scale\":{\"id\":\"4951\",\"type\":\"LinearScale\"}},\"id\":\"4942\",\"subtype\":\"Figure\",\"type\":\"Plot\"},{\"attributes\":{},\"id\":\"5070\",\"type\":\"UnionRenderers\"},{\"attributes\":{\"line_color\":\"olive\",\"line_width\":1.5,\"x\":{\"field\":\"x\"},\"y\":{\"field\":\"y\"}},\"id\":\"5056\",\"type\":\"Line\"},{\"attributes\":{},\"id\":\"5040\",\"type\":\"UnionRenderers\"},{\"attributes\":{\"label\":{\"value\":\"Taranto\"},\"renderers\":[{\"id\":\"4979\",\"type\":\"GlyphRenderer\"}]},\"id\":\"5000\",\"type\":\"LegendItem\"},{\"attributes\":{},\"id\":\"5069\",\"type\":\"Selection\"},{\"attributes\":{\"label\":{\"value\":\"Bari\"},\"renderers\":[{\"id\":\"5088\",\"type\":\"GlyphRenderer\"}]},\"id\":\"5116\",\"type\":\"LegendItem\"},{\"attributes\":{\"data_source\":{\"id\":\"4976\",\"type\":\"ColumnDataSource\"},\"glyph\":{\"id\":\"4977\",\"type\":\"Line\"},\"hover_glyph\":null,\"muted_glyph\":null,\"nonselection_glyph\":{\"id\":\"4978\",\"type\":\"Line\"},\"selection_glyph\":null,\"view\":{\"id\":\"4980\",\"type\":\"CDSView\"}},\"id\":\"4979\",\"type\":\"GlyphRenderer\"},{\"attributes\":{},\"id\":\"5383\",\"type\":\"UnionRenderers\"},{\"attributes\":{\"callback\":null,\"data\":{\"x\":[1582502400000.0,1582588800000.0,1582675200000.0,1582761600000.0,1582848000000.0,1582934400000.0,1583020800000.0,1583107200000.0,1583193600000.0,1583280000000.0,1583366400000.0,1583452800000.0,1583539200000.0,1583625600000.0,1583712000000.0,1583798400000.0,1583884800000.0,1583971200000.0,1584057600000.0,1584144000000.0,1584230400000.0,1584316800000.0,1584403200000.0,1584489600000.0,1584576000000.0,1584662400000.0,1584748800000.0,1584835200000.0,1584921600000.0,1585008000000.0,1585094400000.0,1585180800000.0,1585267200000.0,1585353600000.0,1585440000000.0,1585526400000.0,1585612800000.0,1585699200000.0,1585785600000.0,1585872000000.0,1585958400000.0,1586044800000.0,1586131200000.0,1586217600000.0,1586304000000.0,1586390400000.0,1586476800000.0,1586563200000.0,1586649600000.0,1586736000000.0,1586822400000.0,1586908800000.0,1586995200000.0,1587081600000.0,1587168000000.0,1587254400000.0,1587340800000.0,1587427200000.0,1587513600000.0,1587600000000.0,1587686400000.0,1587772800000.0,1587859200000.0,1587945600000.0,1588032000000.0,1588118400000.0,1588204800000.0,1588291200000.0,1588377600000.0,1588464000000.0,1588550400000.0,1588636800000.0,1588723200000.0,1588809600000.0,1588896000000.0,1588982400000.0,1589068800000.0,1589155200000.0,1589241600000.0,1589328000000.0,1589414400000.0,1589500800000.0,1589587200000.0,1589673600000.0,1589760000000.0,1589846400000.0,1589932800000.0,1590019200000.0,1590105600000.0,1590192000000.0,1590278400000.0,1590364800000.0,1590451200000.0,1590537600000.0,1590624000000.0,1590710400000.0,1590796800000.0,1590883200000.0,1590969600000.0,1591056000000.0,1591142400000.0,1591228800000.0,1591315200000.0,1591401600000.0,1591488000000.0,1591574400000.0,1591660800000.0,1591747200000.0,1591833600000.0,1591920000000.0,1592006400000.0,1592092800000.0,1592179200000.0,1592265600000.0,1592352000000.0,1592438400000.0,1592524800000.0,1592611200000.0,1592697600000.0,1592784000000.0,1592870400000.0,1592956800000.0,1593043200000.0,1593129600000.0,1593216000000.0,1593302400000.0,1593388800000.0,1593475200000.0,1593561600000.0,1593648000000.0,1593734400000.0,1593820800000.0,1593907200000.0,1593993600000.0,1594080000000.0,1594166400000.0,1594252800000.0,1594339200000.0,1594425600000.0,1594512000000.0,1594598400000.0,1594684800000.0,1594771200000.0,1594857600000.0,1594944000000.0,1595030400000.0,1595116800000.0,1595203200000.0,1595289600000.0,1595376000000.0,1595462400000.0,1595548800000.0,1595635200000.0,1595721600000.0,1595808000000.0,1595894400000.0,1595980800000.0,1596067200000.0,1596153600000.0,1596240000000.0,1596326400000.0,1596412800000.0,1596499200000.0,1596585600000.0,1596672000000.0,1596758400000.0,1596844800000.0,1596931200000.0,1597017600000.0,1597104000000.0,1597190400000.0,1597276800000.0,1597363200000.0,1597449600000.0,1597536000000.0,1597622400000.0,1597708800000.0,1597795200000.0,1597881600000.0,1597968000000.0,1598054400000.0,1598140800000.0,1598227200000.0,1598313600000.0,1598400000000.0,1598486400000.0,1598572800000.0,1598659200000.0,1598745600000.0,1598832000000.0,1598918400000.0,1599004800000.0,1599091200000.0,1599177600000.0,1599264000000.0,1599350400000.0,1599436800000.0,1599523200000.0,1599609600000.0,1599696000000.0,1599782400000.0,1599868800000.0,1599955200000.0,1600041600000.0,1600128000000.0,1600214400000.0,1600300800000.0,1600387200000.0,1600473600000.0,1600560000000.0,1600646400000.0,1600732800000.0,1600819200000.0,1600905600000.0,1600992000000.0,1601078400000.0,1601164800000.0,1601251200000.0,1601337600000.0,1601424000000.0,1601510400000.0,1601596800000.0,1601683200000.0,1601769600000.0,1601856000000.0,1601942400000.0,1602028800000.0,1602115200000.0,1602201600000.0,1602288000000.0,1602374400000.0,1602460800000.0,1602547200000.0,1602633600000.0,1602720000000.0,1602806400000.0,1602892800000.0,1602979200000.0,1603065600000.0,1603152000000.0,1603238400000.0,1603324800000.0,1603411200000.0,1603497600000.0,1603584000000.0,1603670400000.0,1603756800000.0,1603843200000.0,1603929600000.0,1604016000000.0,1604102400000.0,1604188800000.0,1604275200000.0,1604361600000.0,1604448000000.0,1604534400000.0,1604620800000.0,1604707200000.0,1604793600000.0,1604880000000.0,1604966400000.0,1605052800000.0,1605139200000.0,1605225600000.0,1605312000000.0,1605398400000.0,1605484800000.0,1605571200000.0,1605657600000.0,1605744000000.0,1605830400000.0,1605916800000.0,1606003200000.0,1606089600000.0,1606176000000.0,1606262400000.0,1606348800000.0,1606435200000.0,1606521600000.0,1606608000000.0,1606694400000.0,1606780800000.0,1606867200000.0,1606953600000.0,1607040000000.0,1607126400000.0,1607212800000.0,1607299200000.0,1607385600000.0,1607472000000.0,1607558400000.0,1607644800000.0,1607731200000.0,1607817600000.0,1607904000000.0,1607990400000.0,1608076800000.0,1608163200000.0,1608249600000.0,1608336000000.0,1608422400000.0,1608508800000.0,1608595200000.0,1608681600000.0,1608768000000.0,1608854400000.0,1608940800000.0,1609027200000.0,1609113600000.0,1609200000000.0,1609286400000.0,1609372800000.0,1609459200000.0,1609545600000.0,1609632000000.0,1609718400000.0,1609804800000.0,1609891200000.0,1609977600000.0,1610064000000.0,1610150400000.0,1610236800000.0,1610323200000.0,1610409600000.0,1610496000000.0,1610582400000.0,1610668800000.0,1610755200000.0,1610841600000.0,1610928000000.0,1611014400000.0,1611100800000.0,1611187200000.0,1611273600000.0,1611360000000.0,1611446400000.0,1611532800000.0,1611619200000.0,1611705600000.0,1611792000000.0,1611878400000.0,1611964800000.0,1612051200000.0,1612137600000.0,1612224000000.0,1612310400000.0,1612396800000.0,1612483200000.0,1612569600000.0,1612656000000.0,1612742400000.0,1612828800000.0,1612915200000.0,1613001600000.0,1613088000000.0,1613174400000.0,1613260800000.0,1613347200000.0,1613433600000.0,1613520000000.0,1613606400000.0,1613692800000.0,1613779200000.0,1613865600000.0,1613952000000.0,1614038400000.0,1614124800000.0,1614211200000.0,1614297600000.0,1614384000000.0,1614470400000.0,1614556800000.0,1614643200000.0,1614729600000.0,1614816000000.0,1614902400000.0,1614988800000.0,1615075200000.0,1615161600000.0,1615248000000.0,1615334400000.0,1615420800000.0,1615507200000.0,1615593600000.0,1615680000000.0,1615766400000.0,1615852800000.0,1615939200000.0,1616025600000.0,1616112000000.0,1616198400000.0,1616284800000.0,1616371200000.0,1616457600000.0,1616544000000.0,1616630400000.0,1616716800000.0,1616803200000.0,1616889600000.0,1616976000000.0,1617062400000.0,1617148800000.0,1617235200000.0,1617321600000.0,1617408000000.0,1617494400000.0,1617580800000.0,1617667200000.0,1617753600000.0,1617840000000.0,1617926400000.0,1618012800000.0,1618099200000.0,1618185600000.0,1618272000000.0,1618358400000.0,1618444800000.0,1618531200000.0,1618617600000.0,1618704000000.0,1618790400000.0,1618876800000.0,1618963200000.0,1619049600000.0,1619136000000.0,1619222400000.0,1619308800000.0,1619395200000.0,1619481600000.0,1619568000000.0,1619654400000.0,1619740800000.0,1619740800000.0],\"y\":[0,0,0,0,0,0,0,0,1,2,2,3,3,9,14,15,15,11,15,16,18,24,27,32,41,43,45,52,61,64,74,83,83,97,102,103,111,116,126,134,144,146,146,148,151,161,179,185,191,197,201,207,208,211,212,217,218,226,228,228,229,230,231,232,232,234,235,239,240,241,242,243,243,243,243,243,244,245,246,246,246,246,247,248,248,249,249,249,249,249,249,249,249,250,250,251,251,251,252,252,252,252,252,252,252,252,252,252,252,252,252,252,252,252,252,252,252,252,252,252,250,250,251,251,252,253,253,253,253,253,253,253,253,254,254,254,254,255,255,255,255,256,258,259,259,259,259,259,259,259,259,259,259,259,259,261,261,261,261,261,261,262,262,267,269,271,271,271,271,271,272,276,277,277,278,279,280,283,290,303,309,326,331,334,343,349,362,378,383,401,406,418,423,431,434,435,445,447,454,460,466,473,478,483,488,489,495,504,508,514,531,536,550,557,565,571,581,585,591,601,610,618,621,639,650,669,684,706,744,763,785,794,832,851,881,904,928,998,1044,1114,1141,1223,1309,1359,1418,1463,1543,1676,1745,1796,1885,1971,2050,2127,2203,2264,2310,2364,2465,2547,2648,2776,2880,2992,3063,3123,3223,3349,3440,3556,3675,3783,3866,3951,4016,4095,4157,4245,4321,4434,4496,4581,4628,4779,4886,4998,5151,5290,5353,5385,5493,5557,5602,5667,5722,5782,5894,5958,6035,6151,6268,6379,6407,6470,6558,6678,6716,6743,6775,6821,6882,6974,7060,7128,7142,7224,7293,7353,7430,7502,7551,7645,7733,7870,7921,7963,8021,8143,8207,8254,8284,8328,8376,8431,8467,8517,8567,8595,8647,8707,8757,8799,8861,8888,8913,8948,9015,9065,9091,9140,9167,9181,9209,9271,9313,9357,9414,9438,9457,9480,9537,9558,9580,9603,9644,9660,9677,9700,9726,9759,9790,9814,9841,9872,9901,9951,9982,10042,10088,10190,10204,10261,10304,10331,10392,10434,10461,10484,10538,10571,10634,10726,10797,10846,10906,10956,11029,11089,11200,11286,11365,11455,11580,11687,11774,11874,11955,12045,12121,12197,12284,12431,12523,12603,12715,12882,12972,13128,13262,13352,13435,13499,13552,13653,13753,13797,13927,13977,14057,14110,14181,14259,14259]},\"selected\":{\"id\":\"5101\",\"type\":\"Selection\"},\"selection_policy\":{\"id\":\"5102\",\"type\":\"UnionRenderers\"}},\"id\":\"5055\",\"type\":\"ColumnDataSource\"},{\"attributes\":{\"source\":{\"id\":\"4976\",\"type\":\"ColumnDataSource\"}},\"id\":\"4980\",\"type\":\"CDSView\"},{\"attributes\":{},\"id\":\"5382\",\"type\":\"Selection\"},{\"attributes\":{\"source\":{\"id\":\"5085\",\"type\":\"ColumnDataSource\"}},\"id\":\"5089\",\"type\":\"CDSView\"},{\"attributes\":{\"line_color\":\"lightgoldenrodyellow\",\"line_width\":1.5,\"x\":{\"field\":\"x\"},\"y\":{\"field\":\"y\"}},\"id\":\"5086\",\"type\":\"Line\"},{\"attributes\":{\"source\":{\"id\":\"5055\",\"type\":\"ColumnDataSource\"}},\"id\":\"5059\",\"type\":\"CDSView\"},{\"attributes\":{\"items\":[{\"id\":\"5000\",\"type\":\"LegendItem\"},{\"id\":\"5026\",\"type\":\"LegendItem\"},{\"id\":\"5054\",\"type\":\"LegendItem\"},{\"id\":\"5084\",\"type\":\"LegendItem\"},{\"id\":\"5116\",\"type\":\"LegendItem\"}],\"location\":\"top_left\"},\"id\":\"4999\",\"type\":\"Legend\"},{\"attributes\":{\"callback\":null,\"data\":{\"x\":[1582502400000.0,1582588800000.0,1582675200000.0,1582761600000.0,1582848000000.0,1582934400000.0,1583020800000.0,1583107200000.0,1583193600000.0,1583280000000.0,1583366400000.0,1583452800000.0,1583539200000.0,1583625600000.0,1583712000000.0,1583798400000.0,1583884800000.0,1583971200000.0,1584057600000.0,1584144000000.0,1584230400000.0,1584316800000.0,1584403200000.0,1584489600000.0,1584576000000.0,1584662400000.0,1584748800000.0,1584835200000.0,1584921600000.0,1585008000000.0,1585094400000.0,1585180800000.0,1585267200000.0,1585353600000.0,1585440000000.0,1585526400000.0,1585612800000.0,1585699200000.0,1585785600000.0,1585872000000.0,1585958400000.0,1586044800000.0,1586131200000.0,1586217600000.0,1586304000000.0,1586390400000.0,1586476800000.0,1586563200000.0,1586649600000.0,1586736000000.0,1586822400000.0,1586908800000.0,1586995200000.0,1587081600000.0,1587168000000.0,1587254400000.0,1587340800000.0,1587427200000.0,1587513600000.0,1587600000000.0,1587686400000.0,1587772800000.0,1587859200000.0,1587945600000.0,1588032000000.0,1588118400000.0,1588204800000.0,1588291200000.0,1588377600000.0,1588464000000.0,1588550400000.0,1588636800000.0,1588723200000.0,1588809600000.0,1588896000000.0,1588982400000.0,1589068800000.0,1589155200000.0,1589241600000.0,1589328000000.0,1589414400000.0,1589500800000.0,1589587200000.0,1589673600000.0,1589760000000.0,1589846400000.0,1589932800000.0,1590019200000.0,1590105600000.0,1590192000000.0,1590278400000.0,1590364800000.0,1590451200000.0,1590537600000.0,1590624000000.0,1590710400000.0,1590796800000.0,1590883200000.0,1590969600000.0,1591056000000.0,1591142400000.0,1591228800000.0,1591315200000.0,1591401600000.0,1591488000000.0,1591574400000.0,1591660800000.0,1591747200000.0,1591833600000.0,1591920000000.0,1592006400000.0,1592092800000.0,1592179200000.0,1592265600000.0,1592352000000.0,1592438400000.0,1592524800000.0,1592611200000.0,1592697600000.0,1592784000000.0,1592870400000.0,1592956800000.0,1593043200000.0,1593129600000.0,1593216000000.0,1593302400000.0,1593388800000.0,1593475200000.0,1593561600000.0,1593648000000.0,1593734400000.0,1593820800000.0,1593907200000.0,1593993600000.0,1594080000000.0,1594166400000.0,1594252800000.0,1594339200000.0,1594425600000.0,1594512000000.0,1594598400000.0,1594684800000.0,1594771200000.0,1594857600000.0,1594944000000.0,1595030400000.0,1595116800000.0,1595203200000.0,1595289600000.0,1595376000000.0,1595462400000.0,1595548800000.0,1595635200000.0,1595721600000.0,1595808000000.0,1595894400000.0,1595980800000.0,1596067200000.0,1596153600000.0,1596240000000.0,1596326400000.0,1596412800000.0,1596499200000.0,1596585600000.0,1596672000000.0,1596758400000.0,1596844800000.0,1596931200000.0,1597017600000.0,1597104000000.0,1597190400000.0,1597276800000.0,1597363200000.0,1597449600000.0,1597536000000.0,1597622400000.0,1597708800000.0,1597795200000.0,1597881600000.0,1597968000000.0,1598054400000.0,1598140800000.0,1598227200000.0,1598313600000.0,1598400000000.0,1598486400000.0,1598572800000.0,1598659200000.0,1598745600000.0,1598832000000.0,1598918400000.0,1599004800000.0,1599091200000.0,1599177600000.0,1599264000000.0,1599350400000.0,1599436800000.0,1599523200000.0,1599609600000.0,1599696000000.0,1599782400000.0,1599868800000.0,1599955200000.0,1600041600000.0,1600128000000.0,1600214400000.0,1600300800000.0,1600387200000.0,1600473600000.0,1600560000000.0,1600646400000.0,1600732800000.0,1600819200000.0,1600905600000.0,1600992000000.0,1601078400000.0,1601164800000.0,1601251200000.0,1601337600000.0,1601424000000.0,1601510400000.0,1601596800000.0,1601683200000.0,1601769600000.0,1601856000000.0,1601942400000.0,1602028800000.0,1602115200000.0,1602201600000.0,1602288000000.0,1602374400000.0,1602460800000.0,1602547200000.0,1602633600000.0,1602720000000.0,1602806400000.0,1602892800000.0,1602979200000.0,1603065600000.0,1603152000000.0,1603238400000.0,1603324800000.0,1603411200000.0,1603497600000.0,1603584000000.0,1603670400000.0,1603756800000.0,1603843200000.0,1603929600000.0,1604016000000.0,1604102400000.0,1604188800000.0,1604275200000.0,1604361600000.0,1604448000000.0,1604534400000.0,1604620800000.0,1604707200000.0,1604793600000.0,1604880000000.0,1604966400000.0,1605052800000.0,1605139200000.0,1605225600000.0,1605312000000.0,1605398400000.0,1605484800000.0,1605571200000.0,1605657600000.0,1605744000000.0,1605830400000.0,1605916800000.0,1606003200000.0,1606089600000.0,1606176000000.0,1606262400000.0,1606348800000.0,1606435200000.0,1606521600000.0,1606608000000.0,1606694400000.0,1606780800000.0,1606867200000.0,1606953600000.0,1607040000000.0,1607126400000.0,1607212800000.0,1607299200000.0,1607385600000.0,1607472000000.0,1607558400000.0,1607644800000.0,1607731200000.0,1607817600000.0,1607904000000.0,1607990400000.0,1608076800000.0,1608163200000.0,1608249600000.0,1608336000000.0,1608422400000.0,1608508800000.0,1608595200000.0,1608681600000.0,1608768000000.0,1608854400000.0,1608940800000.0,1609027200000.0,1609113600000.0,1609200000000.0,1609286400000.0,1609372800000.0,1609459200000.0,1609545600000.0,1609632000000.0,1609718400000.0,1609804800000.0,1609891200000.0,1609977600000.0,1610064000000.0,1610150400000.0,1610236800000.0,1610323200000.0,1610409600000.0,1610496000000.0,1610582400000.0,1610668800000.0,1610755200000.0,1610841600000.0,1610928000000.0,1611014400000.0,1611100800000.0,1611187200000.0,1611273600000.0,1611360000000.0,1611446400000.0,1611532800000.0,1611619200000.0,1611705600000.0,1611792000000.0,1611878400000.0,1611964800000.0,1612051200000.0,1612137600000.0,1612224000000.0,1612310400000.0,1612396800000.0,1612483200000.0,1612569600000.0,1612656000000.0,1612742400000.0,1612828800000.0,1612915200000.0,1613001600000.0,1613088000000.0,1613174400000.0,1613260800000.0,1613347200000.0,1613433600000.0,1613520000000.0,1613606400000.0,1613692800000.0,1613779200000.0,1613865600000.0,1613952000000.0,1614038400000.0,1614124800000.0,1614211200000.0,1614297600000.0,1614384000000.0,1614470400000.0,1614556800000.0,1614643200000.0,1614729600000.0,1614816000000.0,1614902400000.0,1614988800000.0,1615075200000.0,1615161600000.0,1615248000000.0,1615334400000.0,1615420800000.0,1615507200000.0,1615593600000.0,1615680000000.0,1615766400000.0,1615852800000.0,1615939200000.0,1616025600000.0,1616112000000.0,1616198400000.0,1616284800000.0,1616371200000.0,1616457600000.0,1616544000000.0,1616630400000.0,1616716800000.0,1616803200000.0,1616889600000.0,1616976000000.0,1617062400000.0,1617148800000.0,1617235200000.0,1617321600000.0,1617408000000.0,1617494400000.0,1617580800000.0,1617667200000.0,1617753600000.0,1617840000000.0,1617926400000.0,1618012800000.0,1618099200000.0,1618185600000.0,1618272000000.0,1618358400000.0,1618444800000.0,1618531200000.0,1618617600000.0,1618704000000.0,1618790400000.0,1618876800000.0,1618963200000.0,1619049600000.0,1619136000000.0,1619222400000.0,1619308800000.0,1619395200000.0,1619481600000.0,1619568000000.0,1619654400000.0,1619740800000.0,1619740800000.0],\"y\":[0,0,0,0,3,3,3,3,3,3,3,3,3,3,3,3,4,6,8,8,10,10,17,19,23,33,35,41,46,51,56,74,78,93,99,121,126,148,163,178,180,182,190,192,201,206,208,218,221,225,226,228,235,235,239,242,243,244,249,251,253,253,255,255,255,255,258,261,263,263,265,265,268,270,270,270,270,271,272,273,275,275,275,275,275,275,276,276,278,278,278,280,280,280,281,281,281,281,281,281,281,281,281,281,281,281,281,281,281,281,280,280,280,280,280,280,280,280,280,280,280,280,281,281,281,281,281,281,281,281,281,281,281,281,281,281,281,281,281,281,281,281,281,281,281,281,281,281,281,281,281,281,281,281,281,281,281,281,281,281,281,281,281,281,282,282,282,282,282,284,285,285,288,290,290,290,290,290,291,291,293,293,294,296,302,304,309,309,313,313,316,323,347,370,378,382,382,415,418,435,444,451,453,460,470,474,484,490,493,495,496,503,509,515,518,520,532,532,538,540,548,550,564,572,574,599,626,643,670,713,723,730,748,785,825,877,931,944,957,1003,1064,1147,1212,1272,1317,1333,1391,1518,1647,1750,1851,1908,1949,2050,2203,2282,2365,2519,2625,2679,2810,2963,3146,3385,3647,3771,3898,4143,4260,4447,4562,4723,4920,5059,5201,5385,5605,5855,6120,6246,6408,6567,6741,6904,7039,7294,7553,7653,7943,7976,8133,8352,8633,8725,8738,8867,9009,9144,9312,9621,9699,9716,9915,10123,10369,10479,10497,10520,10536,10642,10890,11115,11287,11308,11386,11407,11618,11911,12040,12308,12580,12690,12708,12940,13050,13500,13778,14017,14082,14100,14307,14593,14800,14990,15273,15447,15477,15723,15926,16126,16237,16488,16651,16683,16826,17123,17286,17566,17753,17902,17931,18099,18406,18710,18964,19132,19248,19301,19480,19677,19862,20035,20212,20330,20346,20520,20716,20949,21207,21460,21526,21626,21749,21997,22331,22604,22914,23048,23077,23333,23643,23934,24286,24620,24835,24859,25048,25403,25724,26039,26410,26660,26685,27039,27333,27683,28064,28464,28819,28862,29210,29539,29913,30328,30902,31186,31230,31245,31568,31891,32218,32594,32781,32807,33037,33405,33802,34130,34373,34584,34607,34822,35111,35382,35659,35896,36017,36025,36257,36536,36715,36972,36972]},\"selected\":{\"id\":\"5011\",\"type\":\"Selection\"},\"selection_policy\":{\"id\":\"5012\",\"type\":\"UnionRenderers\"}},\"id\":\"4976\",\"type\":\"ColumnDataSource\"},{\"attributes\":{},\"id\":\"5011\",\"type\":\"Selection\"},{\"attributes\":{\"line_alpha\":0.1,\"line_color\":\"#1f77b4\",\"line_width\":1.5,\"x\":{\"field\":\"x\"},\"y\":{\"field\":\"y\"}},\"id\":\"5057\",\"type\":\"Line\"},{\"attributes\":{\"line_color\":\"olive\",\"line_width\":1.5,\"x\":{\"field\":\"x\"},\"y\":{\"field\":\"y\"}},\"id\":\"4977\",\"type\":\"Line\"},{\"attributes\":{\"data_source\":{\"id\":\"5055\",\"type\":\"ColumnDataSource\"},\"glyph\":{\"id\":\"5056\",\"type\":\"Line\"},\"hover_glyph\":null,\"muted_glyph\":null,\"nonselection_glyph\":{\"id\":\"5057\",\"type\":\"Line\"},\"selection_glyph\":null,\"view\":{\"id\":\"5059\",\"type\":\"CDSView\"}},\"id\":\"5058\",\"type\":\"GlyphRenderer\"},{\"attributes\":{\"data_source\":{\"id\":\"5085\",\"type\":\"ColumnDataSource\"},\"glyph\":{\"id\":\"5086\",\"type\":\"Line\"},\"hover_glyph\":null,\"muted_glyph\":null,\"nonselection_glyph\":{\"id\":\"5087\",\"type\":\"Line\"},\"selection_glyph\":null,\"view\":{\"id\":\"5089\",\"type\":\"CDSView\"}},\"id\":\"5088\",\"type\":\"GlyphRenderer\"},{\"attributes\":{\"line_alpha\":0.1,\"line_color\":\"#1f77b4\",\"line_width\":1.5,\"x\":{\"field\":\"x\"},\"y\":{\"field\":\"y\"}},\"id\":\"4978\",\"type\":\"Line\"},{\"attributes\":{},\"id\":\"5012\",\"type\":\"UnionRenderers\"},{\"attributes\":{\"line_alpha\":0.1,\"line_color\":\"#1f77b4\",\"line_width\":1.5,\"x\":{\"field\":\"x\"},\"y\":{\"field\":\"y\"}},\"id\":\"5087\",\"type\":\"Line\"},{\"attributes\":{\"callback\":null,\"data\":{\"x\":[1582502400000.0,1582588800000.0,1582675200000.0,1582761600000.0,1582848000000.0,1582934400000.0,1583020800000.0,1583107200000.0,1583193600000.0,1583280000000.0,1583366400000.0,1583452800000.0,1583539200000.0,1583625600000.0,1583712000000.0,1583798400000.0,1583884800000.0,1583971200000.0,1584057600000.0,1584144000000.0,1584230400000.0,1584316800000.0,1584403200000.0,1584489600000.0,1584576000000.0,1584662400000.0,1584748800000.0,1584835200000.0,1584921600000.0,1585008000000.0,1585094400000.0,1585180800000.0,1585267200000.0,1585353600000.0,1585440000000.0,1585526400000.0,1585612800000.0,1585699200000.0,1585785600000.0,1585872000000.0,1585958400000.0,1586044800000.0,1586131200000.0,1586217600000.0,1586304000000.0,1586390400000.0,1586476800000.0,1586563200000.0,1586649600000.0,1586736000000.0,1586822400000.0,1586908800000.0,1586995200000.0,1587081600000.0,1587168000000.0,1587254400000.0,1587340800000.0,1587427200000.0,1587513600000.0,1587600000000.0,1587686400000.0,1587772800000.0,1587859200000.0,1587945600000.0,1588032000000.0,1588118400000.0,1588204800000.0,1588291200000.0,1588377600000.0,1588464000000.0,1588550400000.0,1588636800000.0,1588723200000.0,1588809600000.0,1588896000000.0,1588982400000.0,1589068800000.0,1589155200000.0,1589241600000.0,1589328000000.0,1589414400000.0,1589500800000.0,1589587200000.0,1589673600000.0,1589760000000.0,1589846400000.0,1589932800000.0,1590019200000.0,1590105600000.0,1590192000000.0,1590278400000.0,1590364800000.0,1590451200000.0,1590537600000.0,1590624000000.0,1590710400000.0,1590796800000.0,1590883200000.0,1590969600000.0,1591056000000.0,1591142400000.0,1591228800000.0,1591315200000.0,1591401600000.0,1591488000000.0,1591574400000.0,1591660800000.0,1591747200000.0,1591833600000.0,1591920000000.0,1592006400000.0,1592092800000.0,1592179200000.0,1592265600000.0,1592352000000.0,1592438400000.0,1592524800000.0,1592611200000.0,1592697600000.0,1592784000000.0,1592870400000.0,1592956800000.0,1593043200000.0,1593129600000.0,1593216000000.0,1593302400000.0,1593388800000.0,1593475200000.0,1593561600000.0,1593648000000.0,1593734400000.0,1593820800000.0,1593907200000.0,1593993600000.0,1594080000000.0,1594166400000.0,1594252800000.0,1594339200000.0,1594425600000.0,1594512000000.0,1594598400000.0,1594684800000.0,1594771200000.0,1594857600000.0,1594944000000.0,1595030400000.0,1595116800000.0,1595203200000.0,1595289600000.0,1595376000000.0,1595462400000.0,1595548800000.0,1595635200000.0,1595721600000.0,1595808000000.0,1595894400000.0,1595980800000.0,1596067200000.0,1596153600000.0,1596240000000.0,1596326400000.0,1596412800000.0,1596499200000.0,1596585600000.0,1596672000000.0,1596758400000.0,1596844800000.0,1596931200000.0,1597017600000.0,1597104000000.0,1597190400000.0,1597276800000.0,1597363200000.0,1597449600000.0,1597536000000.0,1597622400000.0,1597708800000.0,1597795200000.0,1597881600000.0,1597968000000.0,1598054400000.0,1598140800000.0,1598227200000.0,1598313600000.0,1598400000000.0,1598486400000.0,1598572800000.0,1598659200000.0,1598745600000.0,1598832000000.0,1598918400000.0,1599004800000.0,1599091200000.0,1599177600000.0,1599264000000.0,1599350400000.0,1599436800000.0,1599523200000.0,1599609600000.0,1599696000000.0,1599782400000.0,1599868800000.0,1599955200000.0,1600041600000.0,1600128000000.0,1600214400000.0,1600300800000.0,1600387200000.0,1600473600000.0,1600560000000.0,1600646400000.0,1600732800000.0,1600819200000.0,1600905600000.0,1600992000000.0,1601078400000.0,1601164800000.0,1601251200000.0,1601337600000.0,1601424000000.0,1601510400000.0,1601596800000.0,1601683200000.0,1601769600000.0,1601856000000.0,1601942400000.0,1602028800000.0,1602115200000.0,1602201600000.0,1602288000000.0,1602374400000.0,1602460800000.0,1602547200000.0,1602633600000.0,1602720000000.0,1602806400000.0,1602892800000.0,1602979200000.0,1603065600000.0,1603152000000.0,1603238400000.0,1603324800000.0,1603411200000.0,1603497600000.0,1603584000000.0,1603670400000.0,1603756800000.0,1603843200000.0,1603929600000.0,1604016000000.0,1604102400000.0,1604188800000.0,1604275200000.0,1604361600000.0,1604448000000.0,1604534400000.0,1604620800000.0,1604707200000.0,1604793600000.0,1604880000000.0,1604966400000.0,1605052800000.0,1605139200000.0,1605225600000.0,1605312000000.0,1605398400000.0,1605484800000.0,1605571200000.0,1605657600000.0,1605744000000.0,1605830400000.0,1605916800000.0,1606003200000.0,1606089600000.0,1606176000000.0,1606262400000.0,1606348800000.0,1606435200000.0,1606521600000.0,1606608000000.0,1606694400000.0,1606780800000.0,1606867200000.0,1606953600000.0,1607040000000.0,1607126400000.0,1607212800000.0,1607299200000.0,1607385600000.0,1607472000000.0,1607558400000.0,1607644800000.0,1607731200000.0,1607817600000.0,1607904000000.0,1607990400000.0,1608076800000.0,1608163200000.0,1608249600000.0,1608336000000.0,1608422400000.0,1608508800000.0,1608595200000.0,1608681600000.0,1608768000000.0,1608854400000.0,1608940800000.0,1609027200000.0,1609113600000.0,1609200000000.0,1609286400000.0,1609372800000.0,1609459200000.0,1609545600000.0,1609632000000.0,1609718400000.0,1609804800000.0,1609891200000.0,1609977600000.0,1610064000000.0,1610150400000.0,1610236800000.0,1610323200000.0,1610409600000.0,1610496000000.0,1610582400000.0,1610668800000.0,1610755200000.0,1610841600000.0,1610928000000.0,1611014400000.0,1611100800000.0,1611187200000.0,1611273600000.0,1611360000000.0,1611446400000.0,1611532800000.0,1611619200000.0,1611705600000.0,1611792000000.0,1611878400000.0,1611964800000.0,1612051200000.0,1612137600000.0,1612224000000.0,1612310400000.0,1612396800000.0,1612483200000.0,1612569600000.0,1612656000000.0,1612742400000.0,1612828800000.0,1612915200000.0,1613001600000.0,1613088000000.0,1613174400000.0,1613260800000.0,1613347200000.0,1613433600000.0,1613520000000.0,1613606400000.0,1613692800000.0,1613779200000.0,1613865600000.0,1613952000000.0,1614038400000.0,1614124800000.0,1614211200000.0,1614297600000.0,1614384000000.0,1614470400000.0,1614556800000.0,1614643200000.0,1614729600000.0,1614816000000.0,1614902400000.0,1614988800000.0,1615075200000.0,1615161600000.0,1615248000000.0,1615334400000.0,1615420800000.0,1615507200000.0,1615593600000.0,1615680000000.0,1615766400000.0,1615852800000.0,1615939200000.0,1616025600000.0,1616112000000.0,1616198400000.0,1616284800000.0,1616371200000.0,1616457600000.0,1616544000000.0,1616630400000.0,1616716800000.0,1616803200000.0,1616889600000.0,1616976000000.0,1617062400000.0,1617148800000.0,1617235200000.0,1617321600000.0,1617408000000.0,1617494400000.0,1617580800000.0,1617667200000.0,1617753600000.0,1617840000000.0,1617926400000.0,1618012800000.0,1618099200000.0,1618185600000.0,1618272000000.0,1618358400000.0,1618444800000.0,1618531200000.0,1618617600000.0,1618704000000.0,1618790400000.0,1618876800000.0,1618963200000.0,1619049600000.0,1619136000000.0,1619222400000.0,1619308800000.0,1619395200000.0,1619481600000.0,1619568000000.0,1619654400000.0,1619740800000.0,1619740800000.0],\"y\":[0,0,0,1,0,0,0,1,2,2,2,3,5,5,6,15,18,25,38,42,58,58,95,112,137,165,194,231,268,304,336,387,444,469,518,594,616,655,700,741,762,790,807,834,861,870,886,913,921,962,989,1013,1029,1050,1075,1110,1138,1160,1188,1247,1268,1274,1282,1285,1285,1301,1313,1316,1319,1322,1328,1328,1333,1362,1371,1391,1413,1420,1427,1429,1431,1432,1434,1435,1442,1442,1443,1447,1461,1462,1465,1474,1474,1473,1472,1474,1481,1483,1486,1487,1487,1488,1488,1489,1488,1489,1488,1488,1488,1488,1488,1488,1488,1488,1488,1489,1489,1490,1491,1491,1491,1491,1491,1491,1491,1491,1491,1491,1491,1491,1493,1494,1494,1493,1492,1492,1492,1493,1494,1494,1494,1494,1494,1494,1497,1497,1498,1498,1497,1497,1500,1500,1502,1502,1502,1502,1503,1503,1504,1508,1508,1511,1513,1516,1519,1524,1526,1527,1538,1547,1563,1568,1571,1578,1586,1589,1593,1600,1604,1618,1630,1641,1671,1696,1718,1745,1765,1821,1862,1890,1914,1964,1989,2059,2091,2113,2135,2209,2273,2305,2336,2383,2439,2487,2521,2572,2605,2640,2680,2709,2746,2780,2809,2846,2869,2896,2926,2978,3002,3034,3108,3136,3201,3298,3327,3357,3425,3600,3666,3718,3789,3903,3995,4164,4308,4470,4628,4782,4947,5060,5183,5361,5595,5879,6087,6285,6524,6883,7123,7425,7688,7838,8044,8760,9133,9410,9669,9946,10106,10382,10961,11638,12317,12789,13373,13574,13841,14336,14948,15503,15981,16489,16892,17296,17833,18386,19005,19680,20190,20324,20839,21416,22294,23015,23756,24385,25168,25446,25661,25984,26250,26917,27455,27975,28187,28554,29101,29624,30110,30676,31090,31327,31667,31973,32539,33051,33212,33341,33560,33847,34429,35127,35691,35805,36232,36550,36936,37534,37704,38104,38598,39101,39329,39727,40162,40607,41060,41466,41877,42052,42423,42893,43371,43741,44075,44408,44538,44810,45269,45726,46070,46412,46766,46892,47266,47618,48120,48481,48777,49109,49251,49456,49806,50237,50675,50990,51301,51416,51653,51995,52321,52680,53048,53384,53558,53866,54427,54847,55276,55782,56355,56647,57057,57643,58289,58899,59499,60069,60370,60894,61691,62416,63130,63908,64595,64952,65397,65967,67015,67667,68491,69114,69614,70252,71007,71865,72682,73502,74063,74413,74934,75701,76561,77337,78048,78636,78847,79008,79408,80217,80842,81372,81935,82232,82488,83143,83824,84386,84952,85426,85704,85971,86377,87107,87765,88098,88596,88696,88890,89392,89814,90134,90134]},\"selected\":{\"id\":\"5382\",\"type\":\"Selection\"},\"selection_policy\":{\"id\":\"5383\",\"type\":\"UnionRenderers\"}},\"id\":\"5085\",\"type\":\"ColumnDataSource\"},{\"attributes\":{\"days\":[1,8,15,22]},\"id\":\"4991\",\"type\":\"DaysTicker\"},{\"attributes\":{\"line_color\":\"darkslateblue\",\"line_width\":1.5,\"x\":{\"field\":\"x\"},\"y\":{\"field\":\"y\"}},\"id\":\"5002\",\"type\":\"Line\"},{\"attributes\":{},\"id\":\"4951\",\"type\":\"LinearScale\"},{\"attributes\":{\"bottom_units\":\"screen\",\"fill_alpha\":{\"value\":0.5},\"fill_color\":{\"value\":\"lightgrey\"},\"left_units\":\"screen\",\"level\":\"overlay\",\"line_alpha\":{\"value\":1.0},\"line_color\":{\"value\":\"black\"},\"line_dash\":[4,4],\"line_width\":{\"value\":2},\"render_mode\":\"css\",\"right_units\":\"screen\",\"top_units\":\"screen\"},\"id\":\"4998\",\"type\":\"BoxAnnotation\"},{\"attributes\":{\"dimension\":1,\"ticker\":{\"id\":\"4959\",\"type\":\"BasicTicker\"}},\"id\":\"4962\",\"type\":\"Grid\"},{\"attributes\":{},\"id\":\"5039\",\"type\":\"Selection\"},{\"attributes\":{\"source\":{\"id\":\"5027\",\"type\":\"ColumnDataSource\"}},\"id\":\"5031\",\"type\":\"CDSView\"},{\"attributes\":{\"callback\":null,\"data\":{\"x\":[1582502400000.0,1582588800000.0,1582675200000.0,1582761600000.0,1582848000000.0,1582934400000.0,1583020800000.0,1583107200000.0,1583193600000.0,1583280000000.0,1583366400000.0,1583452800000.0,1583539200000.0,1583625600000.0,1583712000000.0,1583798400000.0,1583884800000.0,1583971200000.0,1584057600000.0,1584144000000.0,1584230400000.0,1584316800000.0,1584403200000.0,1584489600000.0,1584576000000.0,1584662400000.0,1584748800000.0,1584835200000.0,1584921600000.0,1585008000000.0,1585094400000.0,1585180800000.0,1585267200000.0,1585353600000.0,1585440000000.0,1585526400000.0,1585612800000.0,1585699200000.0,1585785600000.0,1585872000000.0,1585958400000.0,1586044800000.0,1586131200000.0,1586217600000.0,1586304000000.0,1586390400000.0,1586476800000.0,1586563200000.0,1586649600000.0,1586736000000.0,1586822400000.0,1586908800000.0,1586995200000.0,1587081600000.0,1587168000000.0,1587254400000.0,1587340800000.0,1587427200000.0,1587513600000.0,1587600000000.0,1587686400000.0,1587772800000.0,1587859200000.0,1587945600000.0,1588032000000.0,1588118400000.0,1588204800000.0,1588291200000.0,1588377600000.0,1588464000000.0,1588550400000.0,1588636800000.0,1588723200000.0,1588809600000.0,1588896000000.0,1588982400000.0,1589068800000.0,1589155200000.0,1589241600000.0,1589328000000.0,1589414400000.0,1589500800000.0,1589587200000.0,1589673600000.0,1589760000000.0,1589846400000.0,1589932800000.0,1590019200000.0,1590105600000.0,1590192000000.0,1590278400000.0,1590364800000.0,1590451200000.0,1590537600000.0,1590624000000.0,1590710400000.0,1590796800000.0,1590883200000.0,1590969600000.0,1591056000000.0,1591142400000.0,1591228800000.0,1591315200000.0,1591401600000.0,1591488000000.0,1591574400000.0,1591660800000.0,1591747200000.0,1591833600000.0,1591920000000.0,1592006400000.0,1592092800000.0,1592179200000.0,1592265600000.0,1592352000000.0,1592438400000.0,1592524800000.0,1592611200000.0,1592697600000.0,1592784000000.0,1592870400000.0,1592956800000.0,1593043200000.0,1593129600000.0,1593216000000.0,1593302400000.0,1593388800000.0,1593475200000.0,1593561600000.0,1593648000000.0,1593734400000.0,1593820800000.0,1593907200000.0,1593993600000.0,1594080000000.0,1594166400000.0,1594252800000.0,1594339200000.0,1594425600000.0,1594512000000.0,1594598400000.0,1594684800000.0,1594771200000.0,1594857600000.0,1594944000000.0,1595030400000.0,1595116800000.0,1595203200000.0,1595289600000.0,1595376000000.0,1595462400000.0,1595548800000.0,1595635200000.0,1595721600000.0,1595808000000.0,1595894400000.0,1595980800000.0,1596067200000.0,1596153600000.0,1596240000000.0,1596326400000.0,1596412800000.0,1596499200000.0,1596585600000.0,1596672000000.0,1596758400000.0,1596844800000.0,1596931200000.0,1597017600000.0,1597104000000.0,1597190400000.0,1597276800000.0,1597363200000.0,1597449600000.0,1597536000000.0,1597622400000.0,1597708800000.0,1597795200000.0,1597881600000.0,1597968000000.0,1598054400000.0,1598140800000.0,1598227200000.0,1598313600000.0,1598400000000.0,1598486400000.0,1598572800000.0,1598659200000.0,1598745600000.0,1598832000000.0,1598918400000.0,1599004800000.0,1599091200000.0,1599177600000.0,1599264000000.0,1599350400000.0,1599436800000.0,1599523200000.0,1599609600000.0,1599696000000.0,1599782400000.0,1599868800000.0,1599955200000.0,1600041600000.0,1600128000000.0,1600214400000.0,1600300800000.0,1600387200000.0,1600473600000.0,1600560000000.0,1600646400000.0,1600732800000.0,1600819200000.0,1600905600000.0,1600992000000.0,1601078400000.0,1601164800000.0,1601251200000.0,1601337600000.0,1601424000000.0,1601510400000.0,1601596800000.0,1601683200000.0,1601769600000.0,1601856000000.0,1601942400000.0,1602028800000.0,1602115200000.0,1602201600000.0,1602288000000.0,1602374400000.0,1602460800000.0,1602547200000.0,1602633600000.0,1602720000000.0,1602806400000.0,1602892800000.0,1602979200000.0,1603065600000.0,1603152000000.0,1603238400000.0,1603324800000.0,1603411200000.0,1603497600000.0,1603584000000.0,1603670400000.0,1603756800000.0,1603843200000.0,1603929600000.0,1604016000000.0,1604102400000.0,1604188800000.0,1604275200000.0,1604361600000.0,1604448000000.0,1604534400000.0,1604620800000.0,1604707200000.0,1604793600000.0,1604880000000.0,1604966400000.0,1605052800000.0,1605139200000.0,1605225600000.0,1605312000000.0,1605398400000.0,1605484800000.0,1605571200000.0,1605657600000.0,1605744000000.0,1605830400000.0,1605916800000.0,1606003200000.0,1606089600000.0,1606176000000.0,1606262400000.0,1606348800000.0,1606435200000.0,1606521600000.0,1606608000000.0,1606694400000.0,1606780800000.0,1606867200000.0,1606953600000.0,1607040000000.0,1607126400000.0,1607212800000.0,1607299200000.0,1607385600000.0,1607472000000.0,1607558400000.0,1607644800000.0,1607731200000.0,1607817600000.0,1607904000000.0,1607990400000.0,1608076800000.0,1608163200000.0,1608249600000.0,1608336000000.0,1608422400000.0,1608508800000.0,1608595200000.0,1608681600000.0,1608768000000.0,1608854400000.0,1608940800000.0,1609027200000.0,1609113600000.0,1609200000000.0,1609286400000.0,1609372800000.0,1609459200000.0,1609545600000.0,1609632000000.0,1609718400000.0,1609804800000.0,1609891200000.0,1609977600000.0,1610064000000.0,1610150400000.0,1610236800000.0,1610323200000.0,1610409600000.0,1610496000000.0,1610582400000.0,1610668800000.0,1610755200000.0,1610841600000.0,1610928000000.0,1611014400000.0,1611100800000.0,1611187200000.0,1611273600000.0,1611360000000.0,1611446400000.0,1611532800000.0,1611619200000.0,1611705600000.0,1611792000000.0,1611878400000.0,1611964800000.0,1612051200000.0,1612137600000.0,1612224000000.0,1612310400000.0,1612396800000.0,1612483200000.0,1612569600000.0,1612656000000.0,1612742400000.0,1612828800000.0,1612915200000.0,1613001600000.0,1613088000000.0,1613174400000.0,1613260800000.0,1613347200000.0,1613433600000.0,1613520000000.0,1613606400000.0,1613692800000.0,1613779200000.0,1613865600000.0,1613952000000.0,1614038400000.0,1614124800000.0,1614211200000.0,1614297600000.0,1614384000000.0,1614470400000.0,1614556800000.0,1614643200000.0,1614729600000.0,1614816000000.0,1614902400000.0,1614988800000.0,1615075200000.0,1615161600000.0,1615248000000.0,1615334400000.0,1615420800000.0,1615507200000.0,1615593600000.0,1615680000000.0,1615766400000.0,1615852800000.0,1615939200000.0,1616025600000.0,1616112000000.0,1616198400000.0,1616284800000.0,1616371200000.0,1616457600000.0,1616544000000.0,1616630400000.0,1616716800000.0,1616803200000.0,1616889600000.0,1616976000000.0,1617062400000.0,1617148800000.0,1617235200000.0,1617321600000.0,1617408000000.0,1617494400000.0,1617580800000.0,1617667200000.0,1617753600000.0,1617840000000.0,1617926400000.0,1618012800000.0,1618099200000.0,1618185600000.0,1618272000000.0,1618358400000.0,1618444800000.0,1618531200000.0,1618617600000.0,1618704000000.0,1618790400000.0,1618876800000.0,1618963200000.0,1619049600000.0,1619136000000.0,1619222400000.0,1619308800000.0,1619395200000.0,1619481600000.0,1619568000000.0,1619654400000.0,1619740800000.0,1619740800000.0],\"y\":[0,0,0,0,0,0,0,0,0,1,1,3,4,10,10,10,12,18,19,24,38,38,62,65,71,88,103,120,149,161,164,177,215,239,239,293,303,321,353,359,362,368,378,384,389,395,403,418,418,424,425,426,427,434,443,451,452,452,461,466,466,470,475,476,480,484,487,489,495,497,497,498,500,502,503,503,504,505,505,508,508,507,508,508,508,509,509,509,511,511,511,511,511,511,513,515,515,515,515,515,515,517,519,519,519,519,519,519,519,519,519,519,520,520,520,520,520,520,520,520,520,520,520,521,521,521,521,521,521,521,521,522,522,522,522,522,522,525,525,525,525,525,525,525,525,525,527,527,527,527,530,537,540,543,545,547,554,557,557,561,562,567,567,575,577,580,584,585,591,597,597,598,606,606,610,610,619,634,637,642,643,647,649,661,662,664,667,668,669,670,672,675,676,684,686,700,701,704,709,710,712,716,722,722,723,732,738,743,749,755,759,765,767,772,781,787,790,794,795,797,803,807,818,821,822,829,839,849,873,882,889,893,900,911,919,924,933,940,960,964,974,993,1012,1048,1091,1119,1134,1173,1221,1262,1287,1360,1447,1492,1518,1591,1697,1792,1855,1953,2012,2122,2243,2356,2478,2601,2672,2766,2863,2961,3136,3237,3388,3404,3513,3617,3728,3865,4000,4054,4119,4197,4295,4430,4527,4666,4886,4971,5056,5153,5318,5421,5513,5608,5667,5813,5955,6115,6205,6260,6348,6381,6445,6535,6606,6649,6678,6695,6781,6840,6988,7090,7170,7180,7267,7338,7449,7607,7688,7808,7989,8128,8212,8294,8398,8536,8623,8702,8802,8864,8949,9053,9191,9300,9405,9480,9544,9707,9851,9987,10153,10264,10344,10426,10492,10575,10661,10767,10875,10950,11011,11078,11186,11258,11341,11382,11426,11469,11517,11589,11664,11743,11829,11907,11954,12024,12123,12222,12298,12371,12440,12524,12629,12754,12841,13039,13209,13293,13410,13557,13758,13901,14121,14337,14510,14637,14832,15079,15270,15509,15776,15945,16034,16273,16582,16734,16977,17213,17509,17608,17850,18134,18425,18642,18898,19129,19254,19344,19537,19734,19910,20123,20246,20470,20649,20789,20961,21122,21285,21422,21499,21627,21829,22038,22214,22359,22525,22608,22775,22961,23187,23370,23370]},\"selected\":{\"id\":\"5039\",\"type\":\"Selection\"},\"selection_policy\":{\"id\":\"5040\",\"type\":\"UnionRenderers\"}},\"id\":\"5001\",\"type\":\"ColumnDataSource\"},{\"attributes\":{\"data_source\":{\"id\":\"5001\",\"type\":\"ColumnDataSource\"},\"glyph\":{\"id\":\"5002\",\"type\":\"Line\"},\"hover_glyph\":null,\"muted_glyph\":null,\"nonselection_glyph\":{\"id\":\"5003\",\"type\":\"Line\"},\"selection_glyph\":null,\"view\":{\"id\":\"5005\",\"type\":\"CDSView\"}},\"id\":\"5004\",\"type\":\"GlyphRenderer\"},{\"attributes\":{\"label\":{\"value\":\"Messina\"},\"renderers\":[{\"id\":\"5030\",\"type\":\"GlyphRenderer\"}]},\"id\":\"5054\",\"type\":\"LegendItem\"},{\"attributes\":{},\"id\":\"4982\",\"type\":\"BasicTickFormatter\"},{\"attributes\":{\"line_alpha\":0.1,\"line_color\":\"#1f77b4\",\"line_width\":1.5,\"x\":{\"field\":\"x\"},\"y\":{\"field\":\"y\"}},\"id\":\"5003\",\"type\":\"Line\"},{\"attributes\":{\"overlay\":{\"id\":\"4998\",\"type\":\"BoxAnnotation\"}},\"id\":\"4965\",\"type\":\"BoxZoomTool\"},{\"attributes\":{},\"id\":\"4963\",\"type\":\"PanTool\"},{\"attributes\":{\"data_source\":{\"id\":\"5027\",\"type\":\"ColumnDataSource\"},\"glyph\":{\"id\":\"5028\",\"type\":\"Line\"},\"hover_glyph\":null,\"muted_glyph\":null,\"nonselection_glyph\":{\"id\":\"5029\",\"type\":\"Line\"},\"selection_glyph\":null,\"view\":{\"id\":\"5031\",\"type\":\"CDSView\"}},\"id\":\"5030\",\"type\":\"GlyphRenderer\"},{\"attributes\":{\"dimensions\":\"width\"},\"id\":\"5119\",\"type\":\"PanTool\"},{\"attributes\":{\"label\":{\"value\":\"Cagliari\"},\"renderers\":[{\"id\":\"5058\",\"type\":\"GlyphRenderer\"}]},\"id\":\"5084\",\"type\":\"LegendItem\"},{\"attributes\":{\"days\":[1,2,3,4,5,6,7,8,9,10,11,12,13,14,15,16,17,18,19,20,21,22,23,24,25,26,27,28,29,30,31]},\"id\":\"4989\",\"type\":\"DaysTicker\"},{\"attributes\":{\"mantissas\":[1,2,5],\"max_interval\":500.0,\"num_minor_ticks\":0},\"id\":\"4986\",\"type\":\"AdaptiveTicker\"},{\"attributes\":{},\"id\":\"4966\",\"type\":\"SaveTool\"},{\"attributes\":{\"text\":\"Total infected trend for some provinces\"},\"id\":\"4943\",\"type\":\"Title\"},{\"attributes\":{\"ticker\":{\"id\":\"4954\",\"type\":\"DatetimeTicker\"}},\"id\":\"4957\",\"type\":\"Grid\"},{\"attributes\":{\"source\":{\"id\":\"5001\",\"type\":\"ColumnDataSource\"}},\"id\":\"5005\",\"type\":\"CDSView\"},{\"attributes\":{\"axis_label\":\"total infected\",\"formatter\":{\"id\":\"4982\",\"type\":\"BasicTickFormatter\"},\"ticker\":{\"id\":\"4959\",\"type\":\"BasicTicker\"}},\"id\":\"4958\",\"type\":\"LinearAxis\"},{\"attributes\":{},\"id\":\"4967\",\"type\":\"ResetTool\"},{\"attributes\":{\"line_alpha\":0.1,\"line_color\":\"#1f77b4\",\"line_width\":1.5,\"x\":{\"field\":\"x\"},\"y\":{\"field\":\"y\"}},\"id\":\"5029\",\"type\":\"Line\"},{\"attributes\":{\"label\":{\"value\":\"Lecce\"},\"renderers\":[{\"id\":\"5004\",\"type\":\"GlyphRenderer\"}]},\"id\":\"5026\",\"type\":\"LegendItem\"},{\"attributes\":{\"callback\":null,\"formatters\":{\"x\":\"datetime\"},\"tooltips\":[[\"data\",\"@x{%F}\"],[\"total infected\",\"@y\"]]},\"id\":\"5117\",\"type\":\"HoverTool\"},{\"attributes\":{\"months\":[0,6]},\"id\":\"4996\",\"type\":\"MonthsTicker\"},{\"attributes\":{\"days\":[1,15]},\"id\":\"4992\",\"type\":\"DaysTicker\"},{\"attributes\":{},\"id\":\"4968\",\"type\":\"HelpTool\"},{\"attributes\":{\"base\":60,\"mantissas\":[1,2,5,10,15,20,30],\"max_interval\":1800000.0,\"min_interval\":1000.0,\"num_minor_ticks\":0},\"id\":\"4987\",\"type\":\"AdaptiveTicker\"},{\"attributes\":{\"callback\":null,\"data\":{\"x\":[1582502400000.0,1582588800000.0,1582675200000.0,1582761600000.0,1582848000000.0,1582934400000.0,1583020800000.0,1583107200000.0,1583193600000.0,1583280000000.0,1583366400000.0,1583452800000.0,1583539200000.0,1583625600000.0,1583712000000.0,1583798400000.0,1583884800000.0,1583971200000.0,1584057600000.0,1584144000000.0,1584230400000.0,1584316800000.0,1584403200000.0,1584489600000.0,1584576000000.0,1584662400000.0,1584748800000.0,1584835200000.0,1584921600000.0,1585008000000.0,1585094400000.0,1585180800000.0,1585267200000.0,1585353600000.0,1585440000000.0,1585526400000.0,1585612800000.0,1585699200000.0,1585785600000.0,1585872000000.0,1585958400000.0,1586044800000.0,1586131200000.0,1586217600000.0,1586304000000.0,1586390400000.0,1586476800000.0,1586563200000.0,1586649600000.0,1586736000000.0,1586822400000.0,1586908800000.0,1586995200000.0,1587081600000.0,1587168000000.0,1587254400000.0,1587340800000.0,1587427200000.0,1587513600000.0,1587600000000.0,1587686400000.0,1587772800000.0,1587859200000.0,1587945600000.0,1588032000000.0,1588118400000.0,1588204800000.0,1588291200000.0,1588377600000.0,1588464000000.0,1588550400000.0,1588636800000.0,1588723200000.0,1588809600000.0,1588896000000.0,1588982400000.0,1589068800000.0,1589155200000.0,1589241600000.0,1589328000000.0,1589414400000.0,1589500800000.0,1589587200000.0,1589673600000.0,1589760000000.0,1589846400000.0,1589932800000.0,1590019200000.0,1590105600000.0,1590192000000.0,1590278400000.0,1590364800000.0,1590451200000.0,1590537600000.0,1590624000000.0,1590710400000.0,1590796800000.0,1590883200000.0,1590969600000.0,1591056000000.0,1591142400000.0,1591228800000.0,1591315200000.0,1591401600000.0,1591488000000.0,1591574400000.0,1591660800000.0,1591747200000.0,1591833600000.0,1591920000000.0,1592006400000.0,1592092800000.0,1592179200000.0,1592265600000.0,1592352000000.0,1592438400000.0,1592524800000.0,1592611200000.0,1592697600000.0,1592784000000.0,1592870400000.0,1592956800000.0,1593043200000.0,1593129600000.0,1593216000000.0,1593302400000.0,1593388800000.0,1593475200000.0,1593561600000.0,1593648000000.0,1593734400000.0,1593820800000.0,1593907200000.0,1593993600000.0,1594080000000.0,1594166400000.0,1594252800000.0,1594339200000.0,1594425600000.0,1594512000000.0,1594598400000.0,1594684800000.0,1594771200000.0,1594857600000.0,1594944000000.0,1595030400000.0,1595116800000.0,1595203200000.0,1595289600000.0,1595376000000.0,1595462400000.0,1595548800000.0,1595635200000.0,1595721600000.0,1595808000000.0,1595894400000.0,1595980800000.0,1596067200000.0,1596153600000.0,1596240000000.0,1596326400000.0,1596412800000.0,1596499200000.0,1596585600000.0,1596672000000.0,1596758400000.0,1596844800000.0,1596931200000.0,1597017600000.0,1597104000000.0,1597190400000.0,1597276800000.0,1597363200000.0,1597449600000.0,1597536000000.0,1597622400000.0,1597708800000.0,1597795200000.0,1597881600000.0,1597968000000.0,1598054400000.0,1598140800000.0,1598227200000.0,1598313600000.0,1598400000000.0,1598486400000.0,1598572800000.0,1598659200000.0,1598745600000.0,1598832000000.0,1598918400000.0,1599004800000.0,1599091200000.0,1599177600000.0,1599264000000.0,1599350400000.0,1599436800000.0,1599523200000.0,1599609600000.0,1599696000000.0,1599782400000.0,1599868800000.0,1599955200000.0,1600041600000.0,1600128000000.0,1600214400000.0,1600300800000.0,1600387200000.0,1600473600000.0,1600560000000.0,1600646400000.0,1600732800000.0,1600819200000.0,1600905600000.0,1600992000000.0,1601078400000.0,1601164800000.0,1601251200000.0,1601337600000.0,1601424000000.0,1601510400000.0,1601596800000.0,1601683200000.0,1601769600000.0,1601856000000.0,1601942400000.0,1602028800000.0,1602115200000.0,1602201600000.0,1602288000000.0,1602374400000.0,1602460800000.0,1602547200000.0,1602633600000.0,1602720000000.0,1602806400000.0,1602892800000.0,1602979200000.0,1603065600000.0,1603152000000.0,1603238400000.0,1603324800000.0,1603411200000.0,1603497600000.0,1603584000000.0,1603670400000.0,1603756800000.0,1603843200000.0,1603929600000.0,1604016000000.0,1604102400000.0,1604188800000.0,1604275200000.0,1604361600000.0,1604448000000.0,1604534400000.0,1604620800000.0,1604707200000.0,1604793600000.0,1604880000000.0,1604966400000.0,1605052800000.0,1605139200000.0,1605225600000.0,1605312000000.0,1605398400000.0,1605484800000.0,1605571200000.0,1605657600000.0,1605744000000.0,1605830400000.0,1605916800000.0,1606003200000.0,1606089600000.0,1606176000000.0,1606262400000.0,1606348800000.0,1606435200000.0,1606521600000.0,1606608000000.0,1606694400000.0,1606780800000.0,1606867200000.0,1606953600000.0,1607040000000.0,1607126400000.0,1607212800000.0,1607299200000.0,1607385600000.0,1607472000000.0,1607558400000.0,1607644800000.0,1607731200000.0,1607817600000.0,1607904000000.0,1607990400000.0,1608076800000.0,1608163200000.0,1608249600000.0,1608336000000.0,1608422400000.0,1608508800000.0,1608595200000.0,1608681600000.0,1608768000000.0,1608854400000.0,1608940800000.0,1609027200000.0,1609113600000.0,1609200000000.0,1609286400000.0,1609372800000.0,1609459200000.0,1609545600000.0,1609632000000.0,1609718400000.0,1609804800000.0,1609891200000.0,1609977600000.0,1610064000000.0,1610150400000.0,1610236800000.0,1610323200000.0,1610409600000.0,1610496000000.0,1610582400000.0,1610668800000.0,1610755200000.0,1610841600000.0,1610928000000.0,1611014400000.0,1611100800000.0,1611187200000.0,1611273600000.0,1611360000000.0,1611446400000.0,1611532800000.0,1611619200000.0,1611705600000.0,1611792000000.0,1611878400000.0,1611964800000.0,1612051200000.0,1612137600000.0,1612224000000.0,1612310400000.0,1612396800000.0,1612483200000.0,1612569600000.0,1612656000000.0,1612742400000.0,1612828800000.0,1612915200000.0,1613001600000.0,1613088000000.0,1613174400000.0,1613260800000.0,1613347200000.0,1613433600000.0,1613520000000.0,1613606400000.0,1613692800000.0,1613779200000.0,1613865600000.0,1613952000000.0,1614038400000.0,1614124800000.0,1614211200000.0,1614297600000.0,1614384000000.0,1614470400000.0,1614556800000.0,1614643200000.0,1614729600000.0,1614816000000.0,1614902400000.0,1614988800000.0,1615075200000.0,1615161600000.0,1615248000000.0,1615334400000.0,1615420800000.0,1615507200000.0,1615593600000.0,1615680000000.0,1615766400000.0,1615852800000.0,1615939200000.0,1616025600000.0,1616112000000.0,1616198400000.0,1616284800000.0,1616371200000.0,1616457600000.0,1616544000000.0,1616630400000.0,1616716800000.0,1616803200000.0,1616889600000.0,1616976000000.0,1617062400000.0,1617148800000.0,1617235200000.0,1617321600000.0,1617408000000.0,1617494400000.0,1617580800000.0,1617667200000.0,1617753600000.0,1617840000000.0,1617926400000.0,1618012800000.0,1618099200000.0,1618185600000.0,1618272000000.0,1618358400000.0,1618444800000.0,1618531200000.0,1618617600000.0,1618704000000.0,1618790400000.0,1618876800000.0,1618963200000.0,1619049600000.0,1619136000000.0,1619222400000.0,1619308800000.0,1619395200000.0,1619481600000.0,1619568000000.0,1619654400000.0,1619740800000.0,1619740800000.0],\"y\":[0,0,0,0,0,0,0,0,0,0,0,0,2,2,2,2,4,9,9,9,10,11,16,16,16,39,70,112,120,139,174,221,227,279,289,305,311,319,323,337,344,353,362,370,376,399,412,422,429,436,439,449,456,467,481,489,497,513,515,519,525,530,533,533,533,533,538,548,549,550,550,551,552,552,552,553,557,557,558,558,558,558,560,560,560,560,562,562,562,562,563,563,564,564,565,565,565,565,565,565,565,565,565,565,565,565,565,565,565,565,565,565,565,565,566,566,470,470,472,472,472,472,473,473,473,473,474,474,474,474,474,474,474,474,474,474,474,474,474,474,474,474,474,474,474,474,474,475,475,475,475,480,481,483,483,487,491,493,494,495,495,495,496,501,507,510,511,511,512,512,512,516,519,520,521,526,529,531,538,539,550,558,559,564,568,575,585,590,593,594,596,596,619,631,642,645,651,655,670,675,680,680,680,680,682,686,694,698,707,710,715,718,719,725,727,729,735,736,741,748,758,762,773,776,786,791,802,825,847,891,954,1014,1048,1087,1109,1152,1166,1189,1196,1224,1277,1324,1398,1446,1498,1587,1639,1663,1751,1822,1923,2029,2121,2201,2304,2403,2560,2633,2833,2966,3068,3206,3311,3427,3730,3941,4051,4235,4559,4823,5009,5154,5248,5293,5453,5517,5643,5778,5937,6063,6161,6247,6489,6615,6889,6978,7060,7169,7274,7312,7455,7573,7741,7824,8025,8135,8388,8529,8618,8808,8897,8930,9129,9370,9447,9648,9752,9947,10059,10346,10578,10840,11011,11114,11303,11513,11735,11942,12304,12665,12948,13235,13481,13812,14192,14414,14741,15175,15420,15621,15819,16071,16198,16495,16754,16978,17144,17248,17440,17597,17734,17819,17961,18041,18167,18290,18339,18392,18502,18600,18717,18788,18881,18947,19036,19103,19204,19255,19293,19349,19400,19454,19488,19544,19587,19608,19648,19717,19783,19814,19841,19899,19926,19962,20013,20041,20104,20130,20153,20197,20230,20281,20325,20356,20400,20459,20477,20502,20565,20646,20695,20751,20803,20851,20929,20987,21017,21100,21221,21272,21272,21433,21539,21671,21795,21875,21908,22032,22120,22189,22317,22431,22593,22714,22827,22954,23076,23211,23316,23395,23482,23607,23705,23801,23860,23956,24102,24203,24274,24324,24393,24506,24506]},\"selected\":{\"id\":\"5069\",\"type\":\"Selection\"},\"selection_policy\":{\"id\":\"5070\",\"type\":\"UnionRenderers\"}},\"id\":\"5027\",\"type\":\"ColumnDataSource\"},{\"attributes\":{\"active_drag\":\"auto\",\"active_inspect\":\"auto\",\"active_multi\":null,\"active_scroll\":\"auto\",\"active_tap\":\"auto\",\"tools\":[{\"id\":\"4963\",\"type\":\"PanTool\"},{\"id\":\"4964\",\"type\":\"WheelZoomTool\"},{\"id\":\"4965\",\"type\":\"BoxZoomTool\"},{\"id\":\"4966\",\"type\":\"SaveTool\"},{\"id\":\"4967\",\"type\":\"ResetTool\"},{\"id\":\"4968\",\"type\":\"HelpTool\"},{\"id\":\"5117\",\"type\":\"HoverTool\"},{\"id\":\"5119\",\"type\":\"PanTool\"}]},\"id\":\"4969\",\"type\":\"Toolbar\"},{\"attributes\":{\"num_minor_ticks\":5,\"tickers\":[{\"id\":\"4986\",\"type\":\"AdaptiveTicker\"},{\"id\":\"4987\",\"type\":\"AdaptiveTicker\"},{\"id\":\"4988\",\"type\":\"AdaptiveTicker\"},{\"id\":\"4989\",\"type\":\"DaysTicker\"},{\"id\":\"4990\",\"type\":\"DaysTicker\"},{\"id\":\"4991\",\"type\":\"DaysTicker\"},{\"id\":\"4992\",\"type\":\"DaysTicker\"},{\"id\":\"4993\",\"type\":\"MonthsTicker\"},{\"id\":\"4994\",\"type\":\"MonthsTicker\"},{\"id\":\"4995\",\"type\":\"MonthsTicker\"},{\"id\":\"4996\",\"type\":\"MonthsTicker\"},{\"id\":\"4997\",\"type\":\"YearsTicker\"}]},\"id\":\"4954\",\"type\":\"DatetimeTicker\"},{\"attributes\":{},\"id\":\"4964\",\"type\":\"WheelZoomTool\"},{\"attributes\":{\"months\":[0,2,4,6,8,10]},\"id\":\"4994\",\"type\":\"MonthsTicker\"},{\"attributes\":{},\"id\":\"4959\",\"type\":\"BasicTicker\"},{\"attributes\":{\"callback\":null,\"start\":1582502400000.0},\"id\":\"4945\",\"type\":\"DataRange1d\"},{\"attributes\":{\"line_color\":\"lightgoldenrodyellow\",\"line_width\":1.5,\"x\":{\"field\":\"x\"},\"y\":{\"field\":\"y\"}},\"id\":\"5028\",\"type\":\"Line\"},{\"attributes\":{\"base\":24,\"mantissas\":[1,2,4,6,8,12],\"max_interval\":43200000.0,\"min_interval\":3600000.0,\"num_minor_ticks\":0},\"id\":\"4988\",\"type\":\"AdaptiveTicker\"},{\"attributes\":{\"months\":[0,4,8]},\"id\":\"4995\",\"type\":\"MonthsTicker\"},{\"attributes\":{\"callback\":null},\"id\":\"4947\",\"type\":\"DataRange1d\"},{\"attributes\":{},\"id\":\"4949\",\"type\":\"LinearScale\"},{\"attributes\":{},\"id\":\"4997\",\"type\":\"YearsTicker\"},{\"attributes\":{\"axis_label\":\"date\",\"formatter\":{\"id\":\"4984\",\"type\":\"DatetimeTickFormatter\"},\"ticker\":{\"id\":\"4954\",\"type\":\"DatetimeTicker\"}},\"id\":\"4953\",\"type\":\"DatetimeAxis\"},{\"attributes\":{},\"id\":\"5101\",\"type\":\"Selection\"},{\"attributes\":{\"days\":[1,4,7,10,13,16,19,22,25,28]},\"id\":\"4990\",\"type\":\"DaysTicker\"},{\"attributes\":{},\"id\":\"4984\",\"type\":\"DatetimeTickFormatter\"},{\"attributes\":{},\"id\":\"5102\",\"type\":\"UnionRenderers\"},{\"attributes\":{\"months\":[0,1,2,3,4,5,6,7,8,9,10,11]},\"id\":\"4993\",\"type\":\"MonthsTicker\"}],\"root_ids\":[\"4942\"]},\"title\":\"Bokeh Application\",\"version\":\"1.4.0\"}};\n",
       "  var render_items = [{\"docid\":\"0db4cd9d-db7f-41d7-9684-ba73dce26808\",\"roots\":{\"4942\":\"519602d3-4dd3-45d4-af43-d474f3ee48e0\"}}];\n",
       "  root.Bokeh.embed.embed_items_notebook(docs_json, render_items);\n",
       "\n",
       "  }\n",
       "  if (root.Bokeh !== undefined) {\n",
       "    embed_document(root);\n",
       "  } else {\n",
       "    var attempts = 0;\n",
       "    var timer = setInterval(function(root) {\n",
       "      if (root.Bokeh !== undefined) {\n",
       "        clearInterval(timer);\n",
       "        embed_document(root);\n",
       "      } else {\n",
       "        attempts++;\n",
       "        if (attempts > 100) {\n",
       "          clearInterval(timer);\n",
       "          console.log(\"Bokeh: ERROR: Unable to run BokehJS code because BokehJS library is missing\");\n",
       "        }\n",
       "      }\n",
       "    }, 10, root)\n",
       "  }\n",
       "})(window);"
      ],
      "application/vnd.bokehjs_exec.v0+json": ""
     },
     "metadata": {
      "application/vnd.bokehjs_exec.v0+json": {
       "id": "4942"
      }
     },
     "output_type": "display_data"
    }
   ],
   "source": [
    "fig = figure(title='Total infected trend for some provinces', \n",
    "             width=1000, \n",
    "             height=400,\n",
    "             x_axis_label='date',\n",
    "             y_axis_label='total infected',\n",
    "             x_axis_type='datetime')\n",
    "\n",
    "for p in province:\n",
    "    df_prov_filtered = df_prov.query('denominazione_provincia==@p').sort_values(by='only_data')\n",
    "    fig.line(df_prov_filtered['only_data'], df_prov_filtered['totale_casi'], \n",
    "             color=colors[province.index(p)],\n",
    "             legend_label=p, \n",
    "             line_width=1.5)\n",
    "\n",
    "\n",
    "# add the hover tool\n",
    "fig.add_tools(HoverTool(\n",
    "    tooltips=[('data', '@x{%F}'), ('total infected', '@y')],\n",
    "    formatters=dict(x='datetime')\n",
    "))\n",
    "\n",
    "fig.add_tools(PanTool(dimensions='width'))\n",
    "fig.legend.location = 'top_left'\n",
    "fig.x_range.start = df_prov['only_data'].min()\n",
    "    \n",
    "# Show the figure\n",
    "show(fig)"
   ]
  },
  {
   "cell_type": "code",
   "execution_count": null,
   "metadata": {},
   "outputs": [],
   "source": []
  },
  {
   "cell_type": "code",
   "execution_count": 50,
   "metadata": {},
   "outputs": [],
   "source": []
  },
  {
   "cell_type": "markdown",
   "metadata": {},
   "source": [
    "# Analysis on the use of vaccines"
   ]
  },
  {
   "cell_type": "markdown",
   "metadata": {},
   "source": [
    "In this section you can find an analysis of the vaccines use against COVID-19, both in a cumulative way and for day, related to:\n",
    "\n",
    "- all the Italy globally considered;\n",
    "- some regions of the Italy;\n",
    "- for supplier;\n",
    "- for range of age"
   ]
  },
  {
   "cell_type": "code",
   "execution_count": 44,
   "metadata": {},
   "outputs": [],
   "source": [
    "dati_vaccini = pd.read_csv('vaccines/dati/somministrazioni-vaccini-latest.csv')"
   ]
  },
  {
   "cell_type": "code",
   "execution_count": 45,
   "metadata": {},
   "outputs": [],
   "source": [
    "dati_vaccini['data_somministrazione'] = pd.to_datetime(dati_vaccini['data_somministrazione']).dt.date"
   ]
  },
  {
   "cell_type": "code",
   "execution_count": 46,
   "metadata": {},
   "outputs": [],
   "source": [
    "dati_vaccini['totale_somministrazioni'] = dati_vaccini['sesso_maschile'] + dati_vaccini['sesso_femminile']"
   ]
  },
  {
   "cell_type": "markdown",
   "metadata": {},
   "source": [
    "## Italy globally considered"
   ]
  },
  {
   "cell_type": "code",
   "execution_count": 47,
   "metadata": {},
   "outputs": [
    {
     "data": {
      "text/html": [
       "\n",
       "\n",
       "\n",
       "\n",
       "\n",
       "\n",
       "  <div class=\"bk-root\" id=\"64132c0a-f4fe-4556-ac41-302596cafd52\" data-root-id=\"5599\"></div>\n"
      ]
     },
     "metadata": {},
     "output_type": "display_data"
    },
    {
     "data": {
      "application/javascript": [
       "(function(root) {\n",
       "  function embed_document(root) {\n",
       "    \n",
       "  var docs_json = {\"205a186a-ee3d-46b1-bf48-33a3de395779\":{\"roots\":{\"references\":[{\"attributes\":{\"below\":[{\"id\":\"5610\",\"type\":\"DatetimeAxis\"}],\"center\":[{\"id\":\"5614\",\"type\":\"Grid\"},{\"id\":\"5619\",\"type\":\"Grid\"}],\"left\":[{\"id\":\"5615\",\"type\":\"LinearAxis\"}],\"plot_height\":400,\"plot_width\":800,\"renderers\":[{\"id\":\"5636\",\"type\":\"GlyphRenderer\"}],\"title\":{\"id\":\"5600\",\"type\":\"Title\"},\"toolbar\":{\"id\":\"5626\",\"type\":\"Toolbar\"},\"x_range\":{\"id\":\"5602\",\"type\":\"DataRange1d\"},\"x_scale\":{\"id\":\"5606\",\"type\":\"LinearScale\"},\"y_range\":{\"id\":\"5604\",\"type\":\"DataRange1d\"},\"y_scale\":{\"id\":\"5608\",\"type\":\"LinearScale\"}},\"id\":\"5599\",\"subtype\":\"Figure\",\"type\":\"Plot\"},{\"attributes\":{\"bottom_units\":\"screen\",\"fill_alpha\":{\"value\":0.5},\"fill_color\":{\"value\":\"lightgrey\"},\"left_units\":\"screen\",\"level\":\"overlay\",\"line_alpha\":{\"value\":1.0},\"line_color\":{\"value\":\"black\"},\"line_dash\":[4,4],\"line_width\":{\"value\":2},\"render_mode\":\"css\",\"right_units\":\"screen\",\"top_units\":\"screen\"},\"id\":\"5937\",\"type\":\"BoxAnnotation\"},{\"attributes\":{\"callback\":null,\"start\":1609027200000.0},\"id\":\"5602\",\"type\":\"DataRange1d\"},{\"attributes\":{\"months\":[0,1,2,3,4,5,6,7,8,9,10,11]},\"id\":\"5932\",\"type\":\"MonthsTicker\"},{\"attributes\":{\"source\":{\"id\":\"5633\",\"type\":\"ColumnDataSource\"}},\"id\":\"5637\",\"type\":\"CDSView\"},{\"attributes\":{\"months\":[0,2,4,6,8,10]},\"id\":\"5933\",\"type\":\"MonthsTicker\"},{\"attributes\":{\"axis_label\":\"date\",\"formatter\":{\"id\":\"5921\",\"type\":\"DatetimeTickFormatter\"},\"ticker\":{\"id\":\"5611\",\"type\":\"DatetimeTicker\"}},\"id\":\"5610\",\"type\":\"DatetimeAxis\"},{\"attributes\":{\"days\":[1,15]},\"id\":\"5931\",\"type\":\"DaysTicker\"},{\"attributes\":{\"days\":[1,4,7,10,13,16,19,22,25,28]},\"id\":\"5929\",\"type\":\"DaysTicker\"},{\"attributes\":{\"dimension\":1,\"ticker\":{\"id\":\"5616\",\"type\":\"BasicTicker\"}},\"id\":\"5619\",\"type\":\"Grid\"},{\"attributes\":{},\"id\":\"5608\",\"type\":\"LinearScale\"},{\"attributes\":{\"days\":[1,8,15,22]},\"id\":\"5930\",\"type\":\"DaysTicker\"},{\"attributes\":{},\"id\":\"5936\",\"type\":\"YearsTicker\"},{\"attributes\":{},\"id\":\"5921\",\"type\":\"DatetimeTickFormatter\"},{\"attributes\":{},\"id\":\"5606\",\"type\":\"LinearScale\"},{\"attributes\":{\"months\":[0,4,8]},\"id\":\"5934\",\"type\":\"MonthsTicker\"},{\"attributes\":{\"line_alpha\":0.1,\"line_color\":\"#1f77b4\",\"line_width\":2,\"x\":{\"field\":\"x\"},\"y\":{\"field\":\"y\"}},\"id\":\"5635\",\"type\":\"Line\"},{\"attributes\":{},\"id\":\"5625\",\"type\":\"HelpTool\"},{\"attributes\":{},\"id\":\"5616\",\"type\":\"BasicTicker\"},{\"attributes\":{\"active_drag\":\"auto\",\"active_inspect\":\"auto\",\"active_multi\":null,\"active_scroll\":\"auto\",\"active_tap\":\"auto\",\"tools\":[{\"id\":\"5620\",\"type\":\"PanTool\"},{\"id\":\"5621\",\"type\":\"WheelZoomTool\"},{\"id\":\"5622\",\"type\":\"BoxZoomTool\"},{\"id\":\"5623\",\"type\":\"SaveTool\"},{\"id\":\"5624\",\"type\":\"ResetTool\"},{\"id\":\"5625\",\"type\":\"HelpTool\"},{\"id\":\"5638\",\"type\":\"HoverTool\"},{\"id\":\"5640\",\"type\":\"PanTool\"}]},\"id\":\"5626\",\"type\":\"Toolbar\"},{\"attributes\":{\"callback\":null,\"data\":{\"x\":[1609027200000.0,1609113600000.0,1609200000000.0,1609286400000.0,1609372800000.0,1609459200000.0,1609545600000.0,1609632000000.0,1609718400000.0,1609804800000.0,1609891200000.0,1609977600000.0,1610064000000.0,1610150400000.0,1610236800000.0,1610323200000.0,1610409600000.0,1610496000000.0,1610582400000.0,1610668800000.0,1610755200000.0,1610841600000.0,1610928000000.0,1611014400000.0,1611100800000.0,1611187200000.0,1611273600000.0,1611360000000.0,1611446400000.0,1611532800000.0,1611619200000.0,1611705600000.0,1611792000000.0,1611878400000.0,1611964800000.0,1612051200000.0,1612137600000.0,1612224000000.0,1612310400000.0,1612396800000.0,1612483200000.0,1612569600000.0,1612656000000.0,1612742400000.0,1612828800000.0,1612915200000.0,1613001600000.0,1613088000000.0,1613174400000.0,1613260800000.0,1613347200000.0,1613433600000.0,1613520000000.0,1613606400000.0,1613692800000.0,1613779200000.0,1613865600000.0,1613952000000.0,1614038400000.0,1614124800000.0,1614211200000.0,1614297600000.0,1614384000000.0,1614470400000.0,1614556800000.0,1614643200000.0,1614729600000.0,1614816000000.0,1614902400000.0,1614988800000.0,1615075200000.0,1615161600000.0,1615248000000.0,1615334400000.0,1615420800000.0,1615507200000.0,1615593600000.0,1615680000000.0,1615766400000.0,1615852800000.0,1615939200000.0,1616025600000.0,1616112000000.0,1616198400000.0,1616284800000.0,1616371200000.0,1616457600000.0,1616544000000.0,1616630400000.0,1616716800000.0,1616803200000.0,1616889600000.0,1616976000000.0,1617062400000.0,1617148800000.0,1617235200000.0,1617321600000.0,1617408000000.0,1617494400000.0,1617580800000.0,1617667200000.0,1617753600000.0,1617840000000.0,1617926400000.0,1618012800000.0,1618099200000.0,1618185600000.0,1618272000000.0,1618358400000.0,1618444800000.0,1618531200000.0,1618617600000.0,1618704000000.0,1618790400000.0,1618876800000.0,1618963200000.0,1619049600000.0,1619136000000.0,1619222400000.0,1619308800000.0,1619395200000.0,1619481600000.0,1619568000000.0,1619654400000.0,1619740800000.0],\"y\":[7175,1425,1009,4728,25479,11059,38523,35165,68763,79796,65189,92251,95624,86987,60367,80974,82062,94549,93753,89675,64949,36995,43761,32860,30660,35479,26551,38707,33857,69026,80242,70831,93505,97737,90206,59525,85576,87855,99572,107464,107144,76942,41701,66779,66644,72652,74588,73893,52583,29404,62701,71057,79904,89511,92305,77881,50932,105445,106443,121984,128170,136344,126232,77961,135336,160391,185636,195677,203125,176300,100982,178348,191015,211704,219128,208681,175656,105382,170927,140073,165169,163165,174769,174105,129415,191785,221135,251703,264178,265679,238478,161793,238911,264478,301264,282637,279008,228109,96101,170099,281714,320336,331607,331868,317966,200869,265003,286417,317962,347973,376526,354820,240663,308297,330986,370312,394083,399235,381197,265331,340935,366541,401071,515242,492660]},\"selected\":{\"id\":\"5923\",\"type\":\"Selection\"},\"selection_policy\":{\"id\":\"5924\",\"type\":\"UnionRenderers\"}},\"id\":\"5633\",\"type\":\"ColumnDataSource\"},{\"attributes\":{\"callback\":null},\"id\":\"5604\",\"type\":\"DataRange1d\"},{\"attributes\":{\"overlay\":{\"id\":\"5937\",\"type\":\"BoxAnnotation\"}},\"id\":\"5622\",\"type\":\"BoxZoomTool\"},{\"attributes\":{\"mantissas\":[1,2,5],\"max_interval\":500.0,\"num_minor_ticks\":0},\"id\":\"5925\",\"type\":\"AdaptiveTicker\"},{\"attributes\":{\"base\":60,\"mantissas\":[1,2,5,10,15,20,30],\"max_interval\":1800000.0,\"min_interval\":1000.0,\"num_minor_ticks\":0},\"id\":\"5926\",\"type\":\"AdaptiveTicker\"},{\"attributes\":{},\"id\":\"5620\",\"type\":\"PanTool\"},{\"attributes\":{\"callback\":null,\"formatters\":{\"x\":\"datetime\"},\"tooltips\":[[\"date\",\"@x{%F}\"],[\"total\",\"@y\"]]},\"id\":\"5638\",\"type\":\"HoverTool\"},{\"attributes\":{},\"id\":\"5919\",\"type\":\"BasicTickFormatter\"},{\"attributes\":{\"data_source\":{\"id\":\"5633\",\"type\":\"ColumnDataSource\"},\"glyph\":{\"id\":\"5634\",\"type\":\"Line\"},\"hover_glyph\":null,\"muted_glyph\":null,\"nonselection_glyph\":{\"id\":\"5635\",\"type\":\"Line\"},\"selection_glyph\":null,\"view\":{\"id\":\"5637\",\"type\":\"CDSView\"}},\"id\":\"5636\",\"type\":\"GlyphRenderer\"},{\"attributes\":{},\"id\":\"5623\",\"type\":\"SaveTool\"},{\"attributes\":{},\"id\":\"5624\",\"type\":\"ResetTool\"},{\"attributes\":{},\"id\":\"5923\",\"type\":\"Selection\"},{\"attributes\":{\"axis_label\":\"total\",\"formatter\":{\"id\":\"5919\",\"type\":\"BasicTickFormatter\"},\"ticker\":{\"id\":\"5616\",\"type\":\"BasicTicker\"}},\"id\":\"5615\",\"type\":\"LinearAxis\"},{\"attributes\":{},\"id\":\"5621\",\"type\":\"WheelZoomTool\"},{\"attributes\":{\"ticker\":{\"id\":\"5611\",\"type\":\"DatetimeTicker\"}},\"id\":\"5614\",\"type\":\"Grid\"},{\"attributes\":{\"months\":[0,6]},\"id\":\"5935\",\"type\":\"MonthsTicker\"},{\"attributes\":{\"text\":\"trend for the daily vaccines done\"},\"id\":\"5600\",\"type\":\"Title\"},{\"attributes\":{},\"id\":\"5924\",\"type\":\"UnionRenderers\"},{\"attributes\":{\"days\":[1,2,3,4,5,6,7,8,9,10,11,12,13,14,15,16,17,18,19,20,21,22,23,24,25,26,27,28,29,30,31]},\"id\":\"5928\",\"type\":\"DaysTicker\"},{\"attributes\":{\"base\":24,\"mantissas\":[1,2,4,6,8,12],\"max_interval\":43200000.0,\"min_interval\":3600000.0,\"num_minor_ticks\":0},\"id\":\"5927\",\"type\":\"AdaptiveTicker\"},{\"attributes\":{\"line_color\":\"#1f77b4\",\"line_width\":2,\"x\":{\"field\":\"x\"},\"y\":{\"field\":\"y\"}},\"id\":\"5634\",\"type\":\"Line\"},{\"attributes\":{\"dimensions\":\"width\"},\"id\":\"5640\",\"type\":\"PanTool\"},{\"attributes\":{\"num_minor_ticks\":5,\"tickers\":[{\"id\":\"5925\",\"type\":\"AdaptiveTicker\"},{\"id\":\"5926\",\"type\":\"AdaptiveTicker\"},{\"id\":\"5927\",\"type\":\"AdaptiveTicker\"},{\"id\":\"5928\",\"type\":\"DaysTicker\"},{\"id\":\"5929\",\"type\":\"DaysTicker\"},{\"id\":\"5930\",\"type\":\"DaysTicker\"},{\"id\":\"5931\",\"type\":\"DaysTicker\"},{\"id\":\"5932\",\"type\":\"MonthsTicker\"},{\"id\":\"5933\",\"type\":\"MonthsTicker\"},{\"id\":\"5934\",\"type\":\"MonthsTicker\"},{\"id\":\"5935\",\"type\":\"MonthsTicker\"},{\"id\":\"5936\",\"type\":\"YearsTicker\"}]},\"id\":\"5611\",\"type\":\"DatetimeTicker\"}],\"root_ids\":[\"5599\"]},\"title\":\"Bokeh Application\",\"version\":\"1.4.0\"}};\n",
       "  var render_items = [{\"docid\":\"205a186a-ee3d-46b1-bf48-33a3de395779\",\"roots\":{\"5599\":\"64132c0a-f4fe-4556-ac41-302596cafd52\"}}];\n",
       "  root.Bokeh.embed.embed_items_notebook(docs_json, render_items);\n",
       "\n",
       "  }\n",
       "  if (root.Bokeh !== undefined) {\n",
       "    embed_document(root);\n",
       "  } else {\n",
       "    var attempts = 0;\n",
       "    var timer = setInterval(function(root) {\n",
       "      if (root.Bokeh !== undefined) {\n",
       "        clearInterval(timer);\n",
       "        embed_document(root);\n",
       "      } else {\n",
       "        attempts++;\n",
       "        if (attempts > 100) {\n",
       "          clearInterval(timer);\n",
       "          console.log(\"Bokeh: ERROR: Unable to run BokehJS code because BokehJS library is missing\");\n",
       "        }\n",
       "      }\n",
       "    }, 10, root)\n",
       "  }\n",
       "})(window);"
      ],
      "application/vnd.bokehjs_exec.v0+json": ""
     },
     "metadata": {
      "application/vnd.bokehjs_exec.v0+json": {
       "id": "5599"
      }
     },
     "output_type": "display_data"
    }
   ],
   "source": [
    "fig = figure(title='trend for the daily vaccines done',\n",
    "             x_axis_label='date',\n",
    "             y_axis_label='total',\n",
    "             width=800,\n",
    "             height=400,\n",
    "             x_axis_type='datetime')\n",
    "\n",
    "df = dati_vaccini[['data_somministrazione', 'totale_somministrazioni']].groupby('data_somministrazione').sum()\n",
    "fig.line(df.index,\n",
    "         df['totale_somministrazioni'],\n",
    "         #legend_label='example value', \n",
    "         line_width=2)\n",
    "\n",
    "fig.add_tools(HoverTool(\n",
    "    tooltips=[('date', '@x{%F}'), ('total', '@y')],\n",
    "    formatters=dict(x='datetime')\n",
    "))\n",
    "fig.add_tools(PanTool(dimensions='width'))\n",
    "fig.x_range.start = dati_vaccini['data_somministrazione'].min()\n",
    "\n",
    "show(fig)"
   ]
  },
  {
   "cell_type": "code",
   "execution_count": 48,
   "metadata": {},
   "outputs": [
    {
     "data": {
      "text/html": [
       "\n",
       "\n",
       "\n",
       "\n",
       "\n",
       "\n",
       "  <div class=\"bk-root\" id=\"e49de56f-b097-4892-b2aa-e7c416640d27\" data-root-id=\"6058\"></div>\n"
      ]
     },
     "metadata": {},
     "output_type": "display_data"
    },
    {
     "data": {
      "application/javascript": [
       "(function(root) {\n",
       "  function embed_document(root) {\n",
       "    \n",
       "  var docs_json = {\"e61676c6-dbc8-40bc-abb1-0e5b4a361185\":{\"roots\":{\"references\":[{\"attributes\":{\"below\":[{\"id\":\"6069\",\"type\":\"DatetimeAxis\"}],\"center\":[{\"id\":\"6073\",\"type\":\"Grid\"},{\"id\":\"6078\",\"type\":\"Grid\"},{\"id\":\"6115\",\"type\":\"Legend\"}],\"left\":[{\"id\":\"6074\",\"type\":\"LinearAxis\"}],\"plot_height\":400,\"plot_width\":800,\"renderers\":[{\"id\":\"6095\",\"type\":\"GlyphRenderer\"},{\"id\":\"6120\",\"type\":\"GlyphRenderer\"}],\"title\":{\"id\":\"6059\",\"type\":\"Title\"},\"toolbar\":{\"id\":\"6085\",\"type\":\"Toolbar\"},\"x_range\":{\"id\":\"6061\",\"type\":\"DataRange1d\"},\"x_scale\":{\"id\":\"6065\",\"type\":\"LinearScale\"},\"y_range\":{\"id\":\"6063\",\"type\":\"DataRange1d\"},\"y_scale\":{\"id\":\"6067\",\"type\":\"LinearScale\"}},\"id\":\"6058\",\"subtype\":\"Figure\",\"type\":\"Plot\"},{\"attributes\":{\"text\":\"trend for the daily vaccines done as first and second dose\"},\"id\":\"6059\",\"type\":\"Title\"},{\"attributes\":{\"months\":[0,4,8]},\"id\":\"6111\",\"type\":\"MonthsTicker\"},{\"attributes\":{\"dimensions\":\"width\"},\"id\":\"6145\",\"type\":\"PanTool\"},{\"attributes\":{},\"id\":\"6079\",\"type\":\"PanTool\"},{\"attributes\":{\"data_source\":{\"id\":\"6117\",\"type\":\"ColumnDataSource\"},\"glyph\":{\"id\":\"6118\",\"type\":\"Line\"},\"hover_glyph\":null,\"muted_glyph\":null,\"nonselection_glyph\":{\"id\":\"6119\",\"type\":\"Line\"},\"selection_glyph\":null,\"view\":{\"id\":\"6121\",\"type\":\"CDSView\"}},\"id\":\"6120\",\"type\":\"GlyphRenderer\"},{\"attributes\":{\"line_color\":\"blue\",\"line_width\":2,\"x\":{\"field\":\"x\"},\"y\":{\"field\":\"y\"}},\"id\":\"6118\",\"type\":\"Line\"},{\"attributes\":{\"callback\":null,\"start\":1609027200000.0},\"id\":\"6061\",\"type\":\"DataRange1d\"},{\"attributes\":{\"callback\":null,\"formatters\":{\"x\":\"datetime\"},\"tooltips\":[[\"date\",\"@x{%F}\"],[\"total\",\"@y\"]]},\"id\":\"6143\",\"type\":\"HoverTool\"},{\"attributes\":{\"label\":{\"value\":\"first dose\"},\"renderers\":[{\"id\":\"6095\",\"type\":\"GlyphRenderer\"}]},\"id\":\"6116\",\"type\":\"LegendItem\"},{\"attributes\":{},\"id\":\"6451\",\"type\":\"UnionRenderers\"},{\"attributes\":{\"bottom_units\":\"screen\",\"fill_alpha\":{\"value\":0.5},\"fill_color\":{\"value\":\"lightgrey\"},\"left_units\":\"screen\",\"level\":\"overlay\",\"line_alpha\":{\"value\":1.0},\"line_color\":{\"value\":\"black\"},\"line_dash\":[4,4],\"line_width\":{\"value\":2},\"render_mode\":\"css\",\"right_units\":\"screen\",\"top_units\":\"screen\"},\"id\":\"6114\",\"type\":\"BoxAnnotation\"},{\"attributes\":{\"callback\":null,\"data\":{\"x\":[1609027200000.0,1609113600000.0,1609200000000.0,1609286400000.0,1609372800000.0,1609459200000.0,1609545600000.0,1609632000000.0,1609718400000.0,1609804800000.0,1609891200000.0,1609977600000.0,1610064000000.0,1610150400000.0,1610236800000.0,1610323200000.0,1610409600000.0,1610496000000.0,1610582400000.0,1610668800000.0,1610755200000.0,1610841600000.0,1610928000000.0,1611014400000.0,1611100800000.0,1611187200000.0,1611273600000.0,1611360000000.0,1611446400000.0,1611532800000.0,1611619200000.0,1611705600000.0,1611792000000.0,1611878400000.0,1611964800000.0,1612051200000.0,1612137600000.0,1612224000000.0,1612310400000.0,1612396800000.0,1612483200000.0,1612569600000.0,1612656000000.0,1612742400000.0,1612828800000.0,1612915200000.0,1613001600000.0,1613088000000.0,1613174400000.0,1613260800000.0,1613347200000.0,1613433600000.0,1613520000000.0,1613606400000.0,1613692800000.0,1613779200000.0,1613865600000.0,1613952000000.0,1614038400000.0,1614124800000.0,1614211200000.0,1614297600000.0,1614384000000.0,1614470400000.0,1614556800000.0,1614643200000.0,1614729600000.0,1614816000000.0,1614902400000.0,1614988800000.0,1615075200000.0,1615161600000.0,1615248000000.0,1615334400000.0,1615420800000.0,1615507200000.0,1615593600000.0,1615680000000.0,1615766400000.0,1615852800000.0,1615939200000.0,1616025600000.0,1616112000000.0,1616198400000.0,1616284800000.0,1616371200000.0,1616457600000.0,1616544000000.0,1616630400000.0,1616716800000.0,1616803200000.0,1616889600000.0,1616976000000.0,1617062400000.0,1617148800000.0,1617235200000.0,1617321600000.0,1617408000000.0,1617494400000.0,1617580800000.0,1617667200000.0,1617753600000.0,1617840000000.0,1617926400000.0,1618012800000.0,1618099200000.0,1618185600000.0,1618272000000.0,1618358400000.0,1618444800000.0,1618531200000.0,1618617600000.0,1618704000000.0,1618790400000.0,1618876800000.0,1618963200000.0,1619049600000.0,1619136000000.0,1619222400000.0,1619308800000.0,1619395200000.0,1619481600000.0,1619568000000.0,1619654400000.0,1619740800000.0],\"y\":[0,0,0,0,0,0,0,0,0,0,0,0,0,0,0,0,0,0,0,0,0,2914,4940,1699,4511,19592,13964,32774,30628,64236,75904,64640,88711,92905,85980,56924,81266,81457,90328,94135,89280,62299,32536,39952,32062,27717,19274,15148,6612,2530,5899,6062,9329,7800,6339,4264,2163,5229,5237,7900,11881,14736,11743,8138,24362,30602,41873,47102,52061,39049,20028,47355,49382,54720,59117,60762,48264,33154,70060,71811,80415,79036,78173,61918,45231,65597,70920,85311,83008,77809,66504,40308,65996,75214,90215,89381,78549,59964,20408,37742,74999,85772,87534,81235,67970,41082,61758,66852,79137,97941,98732,82553,53728,87319,96568,118032,133501,127549,112546,46312,81201,109662,137240,168804,175808]},\"selected\":{\"id\":\"6450\",\"type\":\"Selection\"},\"selection_policy\":{\"id\":\"6451\",\"type\":\"UnionRenderers\"}},\"id\":\"6117\",\"type\":\"ColumnDataSource\"},{\"attributes\":{\"line_alpha\":0.1,\"line_color\":\"#1f77b4\",\"line_width\":2,\"x\":{\"field\":\"x\"},\"y\":{\"field\":\"y\"}},\"id\":\"6094\",\"type\":\"Line\"},{\"attributes\":{},\"id\":\"6450\",\"type\":\"Selection\"},{\"attributes\":{},\"id\":\"6080\",\"type\":\"WheelZoomTool\"},{\"attributes\":{\"items\":[{\"id\":\"6116\",\"type\":\"LegendItem\"},{\"id\":\"6142\",\"type\":\"LegendItem\"}],\"location\":\"top_left\"},\"id\":\"6115\",\"type\":\"Legend\"},{\"attributes\":{\"source\":{\"id\":\"6117\",\"type\":\"ColumnDataSource\"}},\"id\":\"6121\",\"type\":\"CDSView\"},{\"attributes\":{\"callback\":null},\"id\":\"6063\",\"type\":\"DataRange1d\"},{\"attributes\":{\"label\":{\"value\":\"second dose\"},\"renderers\":[{\"id\":\"6120\",\"type\":\"GlyphRenderer\"}]},\"id\":\"6142\",\"type\":\"LegendItem\"},{\"attributes\":{\"line_alpha\":0.1,\"line_color\":\"#1f77b4\",\"line_width\":2,\"x\":{\"field\":\"x\"},\"y\":{\"field\":\"y\"}},\"id\":\"6119\",\"type\":\"Line\"},{\"attributes\":{\"days\":[1,2,3,4,5,6,7,8,9,10,11,12,13,14,15,16,17,18,19,20,21,22,23,24,25,26,27,28,29,30,31]},\"id\":\"6105\",\"type\":\"DaysTicker\"},{\"attributes\":{},\"id\":\"6098\",\"type\":\"BasicTickFormatter\"},{\"attributes\":{\"source\":{\"id\":\"6092\",\"type\":\"ColumnDataSource\"}},\"id\":\"6096\",\"type\":\"CDSView\"},{\"attributes\":{},\"id\":\"6067\",\"type\":\"LinearScale\"},{\"attributes\":{},\"id\":\"6127\",\"type\":\"Selection\"},{\"attributes\":{\"ticker\":{\"id\":\"6070\",\"type\":\"DatetimeTicker\"}},\"id\":\"6073\",\"type\":\"Grid\"},{\"attributes\":{},\"id\":\"6100\",\"type\":\"DatetimeTickFormatter\"},{\"attributes\":{},\"id\":\"6128\",\"type\":\"UnionRenderers\"},{\"attributes\":{},\"id\":\"6075\",\"type\":\"BasicTicker\"},{\"attributes\":{\"active_drag\":\"auto\",\"active_inspect\":\"auto\",\"active_multi\":null,\"active_scroll\":\"auto\",\"active_tap\":\"auto\",\"tools\":[{\"id\":\"6079\",\"type\":\"PanTool\"},{\"id\":\"6080\",\"type\":\"WheelZoomTool\"},{\"id\":\"6081\",\"type\":\"BoxZoomTool\"},{\"id\":\"6082\",\"type\":\"SaveTool\"},{\"id\":\"6083\",\"type\":\"ResetTool\"},{\"id\":\"6084\",\"type\":\"HelpTool\"},{\"id\":\"6143\",\"type\":\"HoverTool\"},{\"id\":\"6145\",\"type\":\"PanTool\"}]},\"id\":\"6085\",\"type\":\"Toolbar\"},{\"attributes\":{},\"id\":\"6084\",\"type\":\"HelpTool\"},{\"attributes\":{\"axis_label\":\"data\",\"formatter\":{\"id\":\"6100\",\"type\":\"DatetimeTickFormatter\"},\"ticker\":{\"id\":\"6070\",\"type\":\"DatetimeTicker\"}},\"id\":\"6069\",\"type\":\"DatetimeAxis\"},{\"attributes\":{},\"id\":\"6065\",\"type\":\"LinearScale\"},{\"attributes\":{},\"id\":\"6083\",\"type\":\"ResetTool\"},{\"attributes\":{\"mantissas\":[1,2,5],\"max_interval\":500.0,\"num_minor_ticks\":0},\"id\":\"6102\",\"type\":\"AdaptiveTicker\"},{\"attributes\":{\"base\":60,\"mantissas\":[1,2,5,10,15,20,30],\"max_interval\":1800000.0,\"min_interval\":1000.0,\"num_minor_ticks\":0},\"id\":\"6103\",\"type\":\"AdaptiveTicker\"},{\"attributes\":{\"days\":[1,4,7,10,13,16,19,22,25,28]},\"id\":\"6106\",\"type\":\"DaysTicker\"},{\"attributes\":{\"data_source\":{\"id\":\"6092\",\"type\":\"ColumnDataSource\"},\"glyph\":{\"id\":\"6093\",\"type\":\"Line\"},\"hover_glyph\":null,\"muted_glyph\":null,\"nonselection_glyph\":{\"id\":\"6094\",\"type\":\"Line\"},\"selection_glyph\":null,\"view\":{\"id\":\"6096\",\"type\":\"CDSView\"}},\"id\":\"6095\",\"type\":\"GlyphRenderer\"},{\"attributes\":{\"num_minor_ticks\":5,\"tickers\":[{\"id\":\"6102\",\"type\":\"AdaptiveTicker\"},{\"id\":\"6103\",\"type\":\"AdaptiveTicker\"},{\"id\":\"6104\",\"type\":\"AdaptiveTicker\"},{\"id\":\"6105\",\"type\":\"DaysTicker\"},{\"id\":\"6106\",\"type\":\"DaysTicker\"},{\"id\":\"6107\",\"type\":\"DaysTicker\"},{\"id\":\"6108\",\"type\":\"DaysTicker\"},{\"id\":\"6109\",\"type\":\"MonthsTicker\"},{\"id\":\"6110\",\"type\":\"MonthsTicker\"},{\"id\":\"6111\",\"type\":\"MonthsTicker\"},{\"id\":\"6112\",\"type\":\"MonthsTicker\"},{\"id\":\"6113\",\"type\":\"YearsTicker\"}]},\"id\":\"6070\",\"type\":\"DatetimeTicker\"},{\"attributes\":{\"base\":24,\"mantissas\":[1,2,4,6,8,12],\"max_interval\":43200000.0,\"min_interval\":3600000.0,\"num_minor_ticks\":0},\"id\":\"6104\",\"type\":\"AdaptiveTicker\"},{\"attributes\":{},\"id\":\"6082\",\"type\":\"SaveTool\"},{\"attributes\":{\"axis_label\":\"total\",\"formatter\":{\"id\":\"6098\",\"type\":\"BasicTickFormatter\"},\"ticker\":{\"id\":\"6075\",\"type\":\"BasicTicker\"}},\"id\":\"6074\",\"type\":\"LinearAxis\"},{\"attributes\":{\"months\":[0,1,2,3,4,5,6,7,8,9,10,11]},\"id\":\"6109\",\"type\":\"MonthsTicker\"},{\"attributes\":{\"line_color\":\"red\",\"line_width\":2,\"x\":{\"field\":\"x\"},\"y\":{\"field\":\"y\"}},\"id\":\"6093\",\"type\":\"Line\"},{\"attributes\":{\"days\":[1,8,15,22]},\"id\":\"6107\",\"type\":\"DaysTicker\"},{\"attributes\":{\"dimension\":1,\"ticker\":{\"id\":\"6075\",\"type\":\"BasicTicker\"}},\"id\":\"6078\",\"type\":\"Grid\"},{\"attributes\":{\"callback\":null,\"data\":{\"x\":[1609027200000.0,1609113600000.0,1609200000000.0,1609286400000.0,1609372800000.0,1609459200000.0,1609545600000.0,1609632000000.0,1609718400000.0,1609804800000.0,1609891200000.0,1609977600000.0,1610064000000.0,1610150400000.0,1610236800000.0,1610323200000.0,1610409600000.0,1610496000000.0,1610582400000.0,1610668800000.0,1610755200000.0,1610841600000.0,1610928000000.0,1611014400000.0,1611100800000.0,1611187200000.0,1611273600000.0,1611360000000.0,1611446400000.0,1611532800000.0,1611619200000.0,1611705600000.0,1611792000000.0,1611878400000.0,1611964800000.0,1612051200000.0,1612137600000.0,1612224000000.0,1612310400000.0,1612396800000.0,1612483200000.0,1612569600000.0,1612656000000.0,1612742400000.0,1612828800000.0,1612915200000.0,1613001600000.0,1613088000000.0,1613174400000.0,1613260800000.0,1613347200000.0,1613433600000.0,1613520000000.0,1613606400000.0,1613692800000.0,1613779200000.0,1613865600000.0,1613952000000.0,1614038400000.0,1614124800000.0,1614211200000.0,1614297600000.0,1614384000000.0,1614470400000.0,1614556800000.0,1614643200000.0,1614729600000.0,1614816000000.0,1614902400000.0,1614988800000.0,1615075200000.0,1615161600000.0,1615248000000.0,1615334400000.0,1615420800000.0,1615507200000.0,1615593600000.0,1615680000000.0,1615766400000.0,1615852800000.0,1615939200000.0,1616025600000.0,1616112000000.0,1616198400000.0,1616284800000.0,1616371200000.0,1616457600000.0,1616544000000.0,1616630400000.0,1616716800000.0,1616803200000.0,1616889600000.0,1616976000000.0,1617062400000.0,1617148800000.0,1617235200000.0,1617321600000.0,1617408000000.0,1617494400000.0,1617580800000.0,1617667200000.0,1617753600000.0,1617840000000.0,1617926400000.0,1618012800000.0,1618099200000.0,1618185600000.0,1618272000000.0,1618358400000.0,1618444800000.0,1618531200000.0,1618617600000.0,1618704000000.0,1618790400000.0,1618876800000.0,1618963200000.0,1619049600000.0,1619136000000.0,1619222400000.0,1619308800000.0,1619395200000.0,1619481600000.0,1619568000000.0,1619654400000.0,1619740800000.0],\"y\":[7175,1425,1009,4728,25479,11059,38523,35165,68763,79796,65189,92251,95624,86987,60367,80974,82062,94549,93753,89675,64949,34081,38821,31161,26149,15887,12587,5933,3229,4790,4338,6191,4794,4832,4226,2601,4310,6398,9244,13329,17864,14643,9165,26827,34582,44935,55314,58745,45971,26874,56802,64995,70575,81711,85966,73617,48769,100216,101206,114084,116289,121608,114489,69823,110974,129789,143763,148575,151064,137251,80954,130993,141633,156984,160011,147919,127392,72228,100867,68262,84754,84129,96596,112187,84184,126188,150215,166392,181170,187870,171974,121485,172915,189264,211049,193256,200459,168145,75693,132357,206715,234564,244073,250633,249996,159787,203245,219565,238825,250032,277794,272267,186935,220978,234418,252280,260582,271686,268651,219019,259734,256879,263831,346438,316852]},\"selected\":{\"id\":\"6127\",\"type\":\"Selection\"},\"selection_policy\":{\"id\":\"6128\",\"type\":\"UnionRenderers\"}},\"id\":\"6092\",\"type\":\"ColumnDataSource\"},{\"attributes\":{\"days\":[1,15]},\"id\":\"6108\",\"type\":\"DaysTicker\"},{\"attributes\":{\"months\":[0,6]},\"id\":\"6112\",\"type\":\"MonthsTicker\"},{\"attributes\":{\"overlay\":{\"id\":\"6114\",\"type\":\"BoxAnnotation\"}},\"id\":\"6081\",\"type\":\"BoxZoomTool\"},{\"attributes\":{\"months\":[0,2,4,6,8,10]},\"id\":\"6110\",\"type\":\"MonthsTicker\"},{\"attributes\":{},\"id\":\"6113\",\"type\":\"YearsTicker\"}],\"root_ids\":[\"6058\"]},\"title\":\"Bokeh Application\",\"version\":\"1.4.0\"}};\n",
       "  var render_items = [{\"docid\":\"e61676c6-dbc8-40bc-abb1-0e5b4a361185\",\"roots\":{\"6058\":\"e49de56f-b097-4892-b2aa-e7c416640d27\"}}];\n",
       "  root.Bokeh.embed.embed_items_notebook(docs_json, render_items);\n",
       "\n",
       "  }\n",
       "  if (root.Bokeh !== undefined) {\n",
       "    embed_document(root);\n",
       "  } else {\n",
       "    var attempts = 0;\n",
       "    var timer = setInterval(function(root) {\n",
       "      if (root.Bokeh !== undefined) {\n",
       "        clearInterval(timer);\n",
       "        embed_document(root);\n",
       "      } else {\n",
       "        attempts++;\n",
       "        if (attempts > 100) {\n",
       "          clearInterval(timer);\n",
       "          console.log(\"Bokeh: ERROR: Unable to run BokehJS code because BokehJS library is missing\");\n",
       "        }\n",
       "      }\n",
       "    }, 10, root)\n",
       "  }\n",
       "})(window);"
      ],
      "application/vnd.bokehjs_exec.v0+json": ""
     },
     "metadata": {
      "application/vnd.bokehjs_exec.v0+json": {
       "id": "6058"
      }
     },
     "output_type": "display_data"
    }
   ],
   "source": [
    "fig = figure(title='trend for the daily vaccines done as first and second dose',\n",
    "             x_axis_label='data',\n",
    "             y_axis_label='total',\n",
    "             width=800,\n",
    "             height=400,\n",
    "             x_axis_type='datetime')\n",
    "\n",
    "df = dati_vaccini[['data_somministrazione', 'prima_dose', 'seconda_dose']].groupby('data_somministrazione').sum()\n",
    "fig.line(df.index,\n",
    "         df['prima_dose'],\n",
    "         legend_label='first dose', \n",
    "         color='red',\n",
    "         line_width=2)\n",
    "fig.line(df.index,\n",
    "         df['seconda_dose'],\n",
    "         legend_label='second dose', \n",
    "         color='blue',\n",
    "         line_width=2)\n",
    "\n",
    "fig.add_tools(HoverTool(\n",
    "    tooltips=[('date', '@x{%F}'), ('total', '@y')],\n",
    "    formatters=dict(x='datetime')\n",
    "))\n",
    "fig.add_tools(PanTool(dimensions='width'))\n",
    "fig.legend.location = 'top_left'\n",
    "fig.x_range.start = dati_vaccini['data_somministrazione'].min()\n",
    "\n",
    "show(fig)"
   ]
  },
  {
   "cell_type": "code",
   "execution_count": 49,
   "metadata": {},
   "outputs": [
    {
     "data": {
      "text/html": [
       "\n",
       "\n",
       "\n",
       "\n",
       "\n",
       "\n",
       "  <div class=\"bk-root\" id=\"3969dc45-64e8-46b7-a54a-3f2fe6dfa021\" data-root-id=\"6597\"></div>\n"
      ]
     },
     "metadata": {},
     "output_type": "display_data"
    },
    {
     "data": {
      "application/javascript": [
       "(function(root) {\n",
       "  function embed_document(root) {\n",
       "    \n",
       "  var docs_json = {\"8788748e-9a18-4226-b234-24d2fecc336f\":{\"roots\":{\"references\":[{\"attributes\":{\"below\":[{\"id\":\"6608\",\"type\":\"DatetimeAxis\"}],\"center\":[{\"id\":\"6612\",\"type\":\"Grid\"},{\"id\":\"6617\",\"type\":\"Grid\"},{\"id\":\"6654\",\"type\":\"Legend\"}],\"left\":[{\"id\":\"6613\",\"type\":\"LinearAxis\"}],\"plot_height\":400,\"plot_width\":800,\"renderers\":[{\"id\":\"6634\",\"type\":\"GlyphRenderer\"},{\"id\":\"6659\",\"type\":\"GlyphRenderer\"}],\"title\":{\"id\":\"6598\",\"type\":\"Title\"},\"toolbar\":{\"id\":\"6624\",\"type\":\"Toolbar\"},\"x_range\":{\"id\":\"6600\",\"type\":\"DataRange1d\"},\"x_scale\":{\"id\":\"6604\",\"type\":\"LinearScale\"},\"y_range\":{\"id\":\"6602\",\"type\":\"DataRange1d\"},\"y_scale\":{\"id\":\"6606\",\"type\":\"LinearScale\"}},\"id\":\"6597\",\"subtype\":\"Figure\",\"type\":\"Plot\"},{\"attributes\":{\"items\":[{\"id\":\"6655\",\"type\":\"LegendItem\"},{\"id\":\"6681\",\"type\":\"LegendItem\"}],\"location\":\"top_left\"},\"id\":\"6654\",\"type\":\"Legend\"},{\"attributes\":{\"label\":{\"value\":\"second dose\"},\"renderers\":[{\"id\":\"6659\",\"type\":\"GlyphRenderer\"}]},\"id\":\"6681\",\"type\":\"LegendItem\"},{\"attributes\":{},\"id\":\"6604\",\"type\":\"LinearScale\"},{\"attributes\":{\"line_alpha\":0.1,\"line_color\":\"#1f77b4\",\"line_width\":2,\"x\":{\"field\":\"x\"},\"y\":{\"field\":\"y\"}},\"id\":\"6658\",\"type\":\"Line\"},{\"attributes\":{},\"id\":\"6606\",\"type\":\"LinearScale\"},{\"attributes\":{\"callback\":null,\"formatters\":{\"x\":\"datetime\"},\"tooltips\":[[\"date\",\"@x{%F}\"],[\"total\",\"@y\"]]},\"id\":\"6682\",\"type\":\"HoverTool\"},{\"attributes\":{\"num_minor_ticks\":5,\"tickers\":[{\"id\":\"6641\",\"type\":\"AdaptiveTicker\"},{\"id\":\"6642\",\"type\":\"AdaptiveTicker\"},{\"id\":\"6643\",\"type\":\"AdaptiveTicker\"},{\"id\":\"6644\",\"type\":\"DaysTicker\"},{\"id\":\"6645\",\"type\":\"DaysTicker\"},{\"id\":\"6646\",\"type\":\"DaysTicker\"},{\"id\":\"6647\",\"type\":\"DaysTicker\"},{\"id\":\"6648\",\"type\":\"MonthsTicker\"},{\"id\":\"6649\",\"type\":\"MonthsTicker\"},{\"id\":\"6650\",\"type\":\"MonthsTicker\"},{\"id\":\"6651\",\"type\":\"MonthsTicker\"},{\"id\":\"6652\",\"type\":\"YearsTicker\"}]},\"id\":\"6609\",\"type\":\"DatetimeTicker\"},{\"attributes\":{\"axis_label\":\"data\",\"formatter\":{\"id\":\"6639\",\"type\":\"DatetimeTickFormatter\"},\"ticker\":{\"id\":\"6609\",\"type\":\"DatetimeTicker\"}},\"id\":\"6608\",\"type\":\"DatetimeAxis\"},{\"attributes\":{\"ticker\":{\"id\":\"6609\",\"type\":\"DatetimeTicker\"}},\"id\":\"6612\",\"type\":\"Grid\"},{\"attributes\":{},\"id\":\"6666\",\"type\":\"Selection\"},{\"attributes\":{},\"id\":\"6639\",\"type\":\"DatetimeTickFormatter\"},{\"attributes\":{\"axis_label\":\"total\",\"formatter\":{\"id\":\"6637\",\"type\":\"BasicTickFormatter\"},\"ticker\":{\"id\":\"6614\",\"type\":\"BasicTicker\"}},\"id\":\"6613\",\"type\":\"LinearAxis\"},{\"attributes\":{},\"id\":\"6614\",\"type\":\"BasicTicker\"},{\"attributes\":{},\"id\":\"6667\",\"type\":\"UnionRenderers\"},{\"attributes\":{\"dimension\":1,\"ticker\":{\"id\":\"6614\",\"type\":\"BasicTicker\"}},\"id\":\"6617\",\"type\":\"Grid\"},{\"attributes\":{\"text\":\"trend for the total vaccines done as first and second dose\"},\"id\":\"6598\",\"type\":\"Title\"},{\"attributes\":{},\"id\":\"6619\",\"type\":\"WheelZoomTool\"},{\"attributes\":{\"active_drag\":\"auto\",\"active_inspect\":\"auto\",\"active_multi\":null,\"active_scroll\":\"auto\",\"active_tap\":\"auto\",\"tools\":[{\"id\":\"6618\",\"type\":\"PanTool\"},{\"id\":\"6619\",\"type\":\"WheelZoomTool\"},{\"id\":\"6620\",\"type\":\"BoxZoomTool\"},{\"id\":\"6621\",\"type\":\"SaveTool\"},{\"id\":\"6622\",\"type\":\"ResetTool\"},{\"id\":\"6623\",\"type\":\"HelpTool\"},{\"id\":\"6682\",\"type\":\"HoverTool\"},{\"id\":\"6684\",\"type\":\"PanTool\"}]},\"id\":\"6624\",\"type\":\"Toolbar\"},{\"attributes\":{\"line_alpha\":0.1,\"line_color\":\"#1f77b4\",\"line_width\":2,\"x\":{\"field\":\"x\"},\"y\":{\"field\":\"y\"}},\"id\":\"6633\",\"type\":\"Line\"},{\"attributes\":{},\"id\":\"6618\",\"type\":\"PanTool\"},{\"attributes\":{\"line_color\":\"red\",\"line_width\":2,\"x\":{\"field\":\"x\"},\"y\":{\"field\":\"y\"}},\"id\":\"6632\",\"type\":\"Line\"},{\"attributes\":{\"mantissas\":[1,2,5],\"max_interval\":500.0,\"num_minor_ticks\":0},\"id\":\"6641\",\"type\":\"AdaptiveTicker\"},{\"attributes\":{},\"id\":\"6623\",\"type\":\"HelpTool\"},{\"attributes\":{\"base\":60,\"mantissas\":[1,2,5,10,15,20,30],\"max_interval\":1800000.0,\"min_interval\":1000.0,\"num_minor_ticks\":0},\"id\":\"6642\",\"type\":\"AdaptiveTicker\"},{\"attributes\":{\"days\":[1,8,15,22]},\"id\":\"6646\",\"type\":\"DaysTicker\"},{\"attributes\":{\"overlay\":{\"id\":\"6653\",\"type\":\"BoxAnnotation\"}},\"id\":\"6620\",\"type\":\"BoxZoomTool\"},{\"attributes\":{\"days\":[1,2,3,4,5,6,7,8,9,10,11,12,13,14,15,16,17,18,19,20,21,22,23,24,25,26,27,28,29,30,31]},\"id\":\"6644\",\"type\":\"DaysTicker\"},{\"attributes\":{},\"id\":\"6621\",\"type\":\"SaveTool\"},{\"attributes\":{\"base\":24,\"mantissas\":[1,2,4,6,8,12],\"max_interval\":43200000.0,\"min_interval\":3600000.0,\"num_minor_ticks\":0},\"id\":\"6643\",\"type\":\"AdaptiveTicker\"},{\"attributes\":{},\"id\":\"6622\",\"type\":\"ResetTool\"},{\"attributes\":{\"months\":[0,1,2,3,4,5,6,7,8,9,10,11]},\"id\":\"6648\",\"type\":\"MonthsTicker\"},{\"attributes\":{},\"id\":\"6637\",\"type\":\"BasicTickFormatter\"},{\"attributes\":{\"dimensions\":\"width\"},\"id\":\"6684\",\"type\":\"PanTool\"},{\"attributes\":{\"days\":[1,4,7,10,13,16,19,22,25,28]},\"id\":\"6645\",\"type\":\"DaysTicker\"},{\"attributes\":{\"callback\":null,\"start\":1609027200000.0},\"id\":\"6600\",\"type\":\"DataRange1d\"},{\"attributes\":{\"months\":[0,6]},\"id\":\"6651\",\"type\":\"MonthsTicker\"},{\"attributes\":{\"months\":[0,2,4,6,8,10]},\"id\":\"6649\",\"type\":\"MonthsTicker\"},{\"attributes\":{\"days\":[1,15]},\"id\":\"6647\",\"type\":\"DaysTicker\"},{\"attributes\":{},\"id\":\"6652\",\"type\":\"YearsTicker\"},{\"attributes\":{\"months\":[0,4,8]},\"id\":\"6650\",\"type\":\"MonthsTicker\"},{\"attributes\":{\"source\":{\"id\":\"6631\",\"type\":\"ColumnDataSource\"}},\"id\":\"6635\",\"type\":\"CDSView\"},{\"attributes\":{\"data_source\":{\"id\":\"6656\",\"type\":\"ColumnDataSource\"},\"glyph\":{\"id\":\"6657\",\"type\":\"Line\"},\"hover_glyph\":null,\"muted_glyph\":null,\"nonselection_glyph\":{\"id\":\"6658\",\"type\":\"Line\"},\"selection_glyph\":null,\"view\":{\"id\":\"6660\",\"type\":\"CDSView\"}},\"id\":\"6659\",\"type\":\"GlyphRenderer\"},{\"attributes\":{},\"id\":\"7012\",\"type\":\"UnionRenderers\"},{\"attributes\":{},\"id\":\"7011\",\"type\":\"Selection\"},{\"attributes\":{\"line_color\":\"blue\",\"line_width\":2,\"x\":{\"field\":\"x\"},\"y\":{\"field\":\"y\"}},\"id\":\"6657\",\"type\":\"Line\"},{\"attributes\":{\"bottom_units\":\"screen\",\"fill_alpha\":{\"value\":0.5},\"fill_color\":{\"value\":\"lightgrey\"},\"left_units\":\"screen\",\"level\":\"overlay\",\"line_alpha\":{\"value\":1.0},\"line_color\":{\"value\":\"black\"},\"line_dash\":[4,4],\"line_width\":{\"value\":2},\"render_mode\":\"css\",\"right_units\":\"screen\",\"top_units\":\"screen\"},\"id\":\"6653\",\"type\":\"BoxAnnotation\"},{\"attributes\":{\"data_source\":{\"id\":\"6631\",\"type\":\"ColumnDataSource\"},\"glyph\":{\"id\":\"6632\",\"type\":\"Line\"},\"hover_glyph\":null,\"muted_glyph\":null,\"nonselection_glyph\":{\"id\":\"6633\",\"type\":\"Line\"},\"selection_glyph\":null,\"view\":{\"id\":\"6635\",\"type\":\"CDSView\"}},\"id\":\"6634\",\"type\":\"GlyphRenderer\"},{\"attributes\":{\"callback\":null,\"data\":{\"x\":[1609027200000.0,1609113600000.0,1609200000000.0,1609286400000.0,1609372800000.0,1609459200000.0,1609545600000.0,1609632000000.0,1609718400000.0,1609804800000.0,1609891200000.0,1609977600000.0,1610064000000.0,1610150400000.0,1610236800000.0,1610323200000.0,1610409600000.0,1610496000000.0,1610582400000.0,1610668800000.0,1610755200000.0,1610841600000.0,1610928000000.0,1611014400000.0,1611100800000.0,1611187200000.0,1611273600000.0,1611360000000.0,1611446400000.0,1611532800000.0,1611619200000.0,1611705600000.0,1611792000000.0,1611878400000.0,1611964800000.0,1612051200000.0,1612137600000.0,1612224000000.0,1612310400000.0,1612396800000.0,1612483200000.0,1612569600000.0,1612656000000.0,1612742400000.0,1612828800000.0,1612915200000.0,1613001600000.0,1613088000000.0,1613174400000.0,1613260800000.0,1613347200000.0,1613433600000.0,1613520000000.0,1613606400000.0,1613692800000.0,1613779200000.0,1613865600000.0,1613952000000.0,1614038400000.0,1614124800000.0,1614211200000.0,1614297600000.0,1614384000000.0,1614470400000.0,1614556800000.0,1614643200000.0,1614729600000.0,1614816000000.0,1614902400000.0,1614988800000.0,1615075200000.0,1615161600000.0,1615248000000.0,1615334400000.0,1615420800000.0,1615507200000.0,1615593600000.0,1615680000000.0,1615766400000.0,1615852800000.0,1615939200000.0,1616025600000.0,1616112000000.0,1616198400000.0,1616284800000.0,1616371200000.0,1616457600000.0,1616544000000.0,1616630400000.0,1616716800000.0,1616803200000.0,1616889600000.0,1616976000000.0,1617062400000.0,1617148800000.0,1617235200000.0,1617321600000.0,1617408000000.0,1617494400000.0,1617580800000.0,1617667200000.0,1617753600000.0,1617840000000.0,1617926400000.0,1618012800000.0,1618099200000.0,1618185600000.0,1618272000000.0,1618358400000.0,1618444800000.0,1618531200000.0,1618617600000.0,1618704000000.0,1618790400000.0,1618876800000.0,1618963200000.0,1619049600000.0,1619136000000.0,1619222400000.0,1619308800000.0,1619395200000.0,1619481600000.0,1619568000000.0,1619654400000.0,1619740800000.0],\"y\":[7175,8600,9609,14337,39816,50875,89398,124563,193326,273122,338311,430562,526186,613173,673540,754514,836576,931125,1024878,1114553,1179502,1213583,1252404,1283565,1309714,1325601,1338188,1344121,1347350,1352140,1356478,1362669,1367463,1372295,1376521,1379122,1383432,1389830,1399074,1412403,1430267,1444910,1454075,1480902,1515484,1560419,1615733,1674478,1720449,1747323,1804125,1869120,1939695,2021406,2107372,2180989,2229758,2329974,2431180,2545264,2661553,2783161,2897650,2967473,3078447,3208236,3351999,3500574,3651638,3788889,3869843,4000836,4142469,4299453,4459464,4607383,4734775,4807003,4907870,4976132,5060886,5145015,5241611,5353798,5437982,5564170,5714385,5880777,6061947,6249817,6421791,6543276,6716191,6905455,7116504,7309760,7510219,7678364,7754057,7886414,8093129,8327693,8571766,8822399,9072395,9232182,9435427,9654992,9893817,10143849,10421643,10693910,10880845,11101823,11336241,11588521,11849103,12120789,12389440,12608459,12868193,13125072,13388903,13735341,14052193]},\"selected\":{\"id\":\"6666\",\"type\":\"Selection\"},\"selection_policy\":{\"id\":\"6667\",\"type\":\"UnionRenderers\"}},\"id\":\"6631\",\"type\":\"ColumnDataSource\"},{\"attributes\":{\"callback\":null,\"data\":{\"x\":[1609027200000.0,1609113600000.0,1609200000000.0,1609286400000.0,1609372800000.0,1609459200000.0,1609545600000.0,1609632000000.0,1609718400000.0,1609804800000.0,1609891200000.0,1609977600000.0,1610064000000.0,1610150400000.0,1610236800000.0,1610323200000.0,1610409600000.0,1610496000000.0,1610582400000.0,1610668800000.0,1610755200000.0,1610841600000.0,1610928000000.0,1611014400000.0,1611100800000.0,1611187200000.0,1611273600000.0,1611360000000.0,1611446400000.0,1611532800000.0,1611619200000.0,1611705600000.0,1611792000000.0,1611878400000.0,1611964800000.0,1612051200000.0,1612137600000.0,1612224000000.0,1612310400000.0,1612396800000.0,1612483200000.0,1612569600000.0,1612656000000.0,1612742400000.0,1612828800000.0,1612915200000.0,1613001600000.0,1613088000000.0,1613174400000.0,1613260800000.0,1613347200000.0,1613433600000.0,1613520000000.0,1613606400000.0,1613692800000.0,1613779200000.0,1613865600000.0,1613952000000.0,1614038400000.0,1614124800000.0,1614211200000.0,1614297600000.0,1614384000000.0,1614470400000.0,1614556800000.0,1614643200000.0,1614729600000.0,1614816000000.0,1614902400000.0,1614988800000.0,1615075200000.0,1615161600000.0,1615248000000.0,1615334400000.0,1615420800000.0,1615507200000.0,1615593600000.0,1615680000000.0,1615766400000.0,1615852800000.0,1615939200000.0,1616025600000.0,1616112000000.0,1616198400000.0,1616284800000.0,1616371200000.0,1616457600000.0,1616544000000.0,1616630400000.0,1616716800000.0,1616803200000.0,1616889600000.0,1616976000000.0,1617062400000.0,1617148800000.0,1617235200000.0,1617321600000.0,1617408000000.0,1617494400000.0,1617580800000.0,1617667200000.0,1617753600000.0,1617840000000.0,1617926400000.0,1618012800000.0,1618099200000.0,1618185600000.0,1618272000000.0,1618358400000.0,1618444800000.0,1618531200000.0,1618617600000.0,1618704000000.0,1618790400000.0,1618876800000.0,1618963200000.0,1619049600000.0,1619136000000.0,1619222400000.0,1619308800000.0,1619395200000.0,1619481600000.0,1619568000000.0,1619654400000.0,1619740800000.0],\"y\":[0,0,0,0,0,0,0,0,0,0,0,0,0,0,0,0,0,0,0,0,0,2914,7854,9553,14064,33656,47620,80394,111022,175258,251162,315802,404513,497418,583398,640322,721588,803045,893373,987508,1076788,1139087,1171623,1211575,1243637,1271354,1290628,1305776,1312388,1314918,1320817,1326879,1336208,1344008,1350347,1354611,1356774,1362003,1367240,1375140,1387021,1401757,1413500,1421638,1446000,1476602,1518475,1565577,1617638,1656687,1676715,1724070,1773452,1828172,1887289,1948051,1996315,2029469,2099529,2171340,2251755,2330791,2408964,2470882,2516113,2581710,2652630,2737941,2820949,2898758,2965262,3005570,3071566,3146780,3236995,3326376,3404925,3464889,3485297,3523039,3598038,3683810,3771344,3852579,3920549,3961631,4023389,4090241,4169378,4267319,4366051,4448604,4502332,4589651,4686219,4804251,4937752,5065301,5177847,5224159,5305360,5415022,5552262,5721066,5896874]},\"selected\":{\"id\":\"7011\",\"type\":\"Selection\"},\"selection_policy\":{\"id\":\"7012\",\"type\":\"UnionRenderers\"}},\"id\":\"6656\",\"type\":\"ColumnDataSource\"},{\"attributes\":{\"callback\":null},\"id\":\"6602\",\"type\":\"DataRange1d\"},{\"attributes\":{\"label\":{\"value\":\"first dose\"},\"renderers\":[{\"id\":\"6634\",\"type\":\"GlyphRenderer\"}]},\"id\":\"6655\",\"type\":\"LegendItem\"},{\"attributes\":{\"source\":{\"id\":\"6656\",\"type\":\"ColumnDataSource\"}},\"id\":\"6660\",\"type\":\"CDSView\"}],\"root_ids\":[\"6597\"]},\"title\":\"Bokeh Application\",\"version\":\"1.4.0\"}};\n",
       "  var render_items = [{\"docid\":\"8788748e-9a18-4226-b234-24d2fecc336f\",\"roots\":{\"6597\":\"3969dc45-64e8-46b7-a54a-3f2fe6dfa021\"}}];\n",
       "  root.Bokeh.embed.embed_items_notebook(docs_json, render_items);\n",
       "\n",
       "  }\n",
       "  if (root.Bokeh !== undefined) {\n",
       "    embed_document(root);\n",
       "  } else {\n",
       "    var attempts = 0;\n",
       "    var timer = setInterval(function(root) {\n",
       "      if (root.Bokeh !== undefined) {\n",
       "        clearInterval(timer);\n",
       "        embed_document(root);\n",
       "      } else {\n",
       "        attempts++;\n",
       "        if (attempts > 100) {\n",
       "          clearInterval(timer);\n",
       "          console.log(\"Bokeh: ERROR: Unable to run BokehJS code because BokehJS library is missing\");\n",
       "        }\n",
       "      }\n",
       "    }, 10, root)\n",
       "  }\n",
       "})(window);"
      ],
      "application/vnd.bokehjs_exec.v0+json": ""
     },
     "metadata": {
      "application/vnd.bokehjs_exec.v0+json": {
       "id": "6597"
      }
     },
     "output_type": "display_data"
    }
   ],
   "source": [
    "fig = figure(title='trend for the total vaccines done as first and second dose',\n",
    "             x_axis_label='data',\n",
    "             y_axis_label='total',\n",
    "             width=800,\n",
    "             height=400,\n",
    "             x_axis_type='datetime')\n",
    "\n",
    "# Draw the line\n",
    "df = dati_vaccini[['data_somministrazione', 'prima_dose', 'seconda_dose']].groupby('data_somministrazione').sum().cumsum()\n",
    "fig.line(df.index,\n",
    "         df['prima_dose'],\n",
    "         legend_label='first dose', \n",
    "         color='red',\n",
    "         line_width=2)\n",
    "fig.line(df.index,\n",
    "         df['seconda_dose'],\n",
    "         legend_label='second dose', \n",
    "         color='blue',\n",
    "         line_width=2)\n",
    "\n",
    "# add the hover tool\n",
    "fig.add_tools(HoverTool(\n",
    "    tooltips=[('date', '@x{%F}'), ('total', '@y')],\n",
    "    formatters=dict(x='datetime')\n",
    "))\n",
    "fig.add_tools(PanTool(dimensions='width'))\n",
    "fig.legend.location = 'top_left'\n",
    "fig.x_range.start = dati_vaccini['data_somministrazione'].min()\n",
    "\n",
    "# show the figure\n",
    "show(fig)"
   ]
  },
  {
   "cell_type": "code",
   "execution_count": null,
   "metadata": {},
   "outputs": [],
   "source": []
  },
  {
   "cell_type": "code",
   "execution_count": null,
   "metadata": {},
   "outputs": [],
   "source": []
  },
  {
   "cell_type": "markdown",
   "metadata": {},
   "source": [
    "## Regional trend"
   ]
  },
  {
   "cell_type": "code",
   "execution_count": 50,
   "metadata": {},
   "outputs": [],
   "source": [
    "regioni_to_show = ['Puglia', 'Sicilia', 'Lombardia']\n",
    "colors = []\n",
    "n = named.__dict__\n",
    "all_colors = n['__all__']\n",
    "while len(colors) < (len(regioni_to_show)):\n",
    "    if choice(all_colors) not in colors:\n",
    "        colors.append(choice(all_colors))"
   ]
  },
  {
   "cell_type": "code",
   "execution_count": 51,
   "metadata": {},
   "outputs": [
    {
     "data": {
      "text/html": [
       "\n",
       "\n",
       "\n",
       "\n",
       "\n",
       "\n",
       "  <div class=\"bk-root\" id=\"61673800-adad-4338-b4ba-76d561386b45\" data-root-id=\"7158\"></div>\n"
      ]
     },
     "metadata": {},
     "output_type": "display_data"
    },
    {
     "data": {
      "application/javascript": [
       "(function(root) {\n",
       "  function embed_document(root) {\n",
       "    \n",
       "  var docs_json = {\"1684f712-dcfa-4c8a-ae7c-42ba6ec39ee6\":{\"roots\":{\"references\":[{\"attributes\":{\"below\":[{\"id\":\"7169\",\"type\":\"DatetimeAxis\"}],\"center\":[{\"id\":\"7173\",\"type\":\"Grid\"},{\"id\":\"7178\",\"type\":\"Grid\"},{\"id\":\"7215\",\"type\":\"Legend\"}],\"left\":[{\"id\":\"7174\",\"type\":\"LinearAxis\"}],\"plot_height\":400,\"plot_width\":1000,\"renderers\":[{\"id\":\"7195\",\"type\":\"GlyphRenderer\"},{\"id\":\"7220\",\"type\":\"GlyphRenderer\"},{\"id\":\"7246\",\"type\":\"GlyphRenderer\"}],\"title\":{\"id\":\"7159\",\"type\":\"Title\"},\"toolbar\":{\"id\":\"7185\",\"type\":\"Toolbar\"},\"x_range\":{\"id\":\"7161\",\"type\":\"DataRange1d\"},\"x_scale\":{\"id\":\"7165\",\"type\":\"LinearScale\"},\"y_range\":{\"id\":\"7163\",\"type\":\"DataRange1d\"},\"y_scale\":{\"id\":\"7167\",\"type\":\"LinearScale\"}},\"id\":\"7158\",\"subtype\":\"Figure\",\"type\":\"Plot\"},{\"attributes\":{\"days\":[1,15]},\"id\":\"7208\",\"type\":\"DaysTicker\"},{\"attributes\":{\"data_source\":{\"id\":\"7217\",\"type\":\"ColumnDataSource\"},\"glyph\":{\"id\":\"7218\",\"type\":\"Line\"},\"hover_glyph\":null,\"muted_glyph\":null,\"nonselection_glyph\":{\"id\":\"7219\",\"type\":\"Line\"},\"selection_glyph\":null,\"view\":{\"id\":\"7221\",\"type\":\"CDSView\"}},\"id\":\"7220\",\"type\":\"GlyphRenderer\"},{\"attributes\":{\"items\":[{\"id\":\"7216\",\"type\":\"LegendItem\"},{\"id\":\"7242\",\"type\":\"LegendItem\"},{\"id\":\"7270\",\"type\":\"LegendItem\"}],\"location\":\"top_left\"},\"id\":\"7215\",\"type\":\"Legend\"},{\"attributes\":{\"source\":{\"id\":\"7192\",\"type\":\"ColumnDataSource\"}},\"id\":\"7196\",\"type\":\"CDSView\"},{\"attributes\":{\"source\":{\"id\":\"7243\",\"type\":\"ColumnDataSource\"}},\"id\":\"7247\",\"type\":\"CDSView\"},{\"attributes\":{\"line_color\":\"grey\",\"line_width\":1.5,\"x\":{\"field\":\"x\"},\"y\":{\"field\":\"y\"}},\"id\":\"7218\",\"type\":\"Line\"},{\"attributes\":{},\"id\":\"7179\",\"type\":\"PanTool\"},{\"attributes\":{\"axis_label\":\"data\",\"formatter\":{\"id\":\"7200\",\"type\":\"DatetimeTickFormatter\"},\"ticker\":{\"id\":\"7170\",\"type\":\"DatetimeTicker\"}},\"id\":\"7169\",\"type\":\"DatetimeAxis\"},{\"attributes\":{\"data_source\":{\"id\":\"7243\",\"type\":\"ColumnDataSource\"},\"glyph\":{\"id\":\"7244\",\"type\":\"Line\"},\"hover_glyph\":null,\"muted_glyph\":null,\"nonselection_glyph\":{\"id\":\"7245\",\"type\":\"Line\"},\"selection_glyph\":null,\"view\":{\"id\":\"7247\",\"type\":\"CDSView\"}},\"id\":\"7246\",\"type\":\"GlyphRenderer\"},{\"attributes\":{\"line_alpha\":0.1,\"line_color\":\"#1f77b4\",\"line_width\":1.5,\"x\":{\"field\":\"x\"},\"y\":{\"field\":\"y\"}},\"id\":\"7194\",\"type\":\"Line\"},{\"attributes\":{\"callback\":null,\"formatters\":{\"x\":\"datetime\"},\"tooltips\":[[\"data\",\"@x{%F}\"],[\"totale_somministrazioni\",\"@y\"]]},\"id\":\"7271\",\"type\":\"HoverTool\"},{\"attributes\":{\"callback\":null,\"data\":{\"x\":[1609027200000.0,1609113600000.0,1609200000000.0,1609286400000.0,1609372800000.0,1609459200000.0,1609545600000.0,1609632000000.0,1609718400000.0,1609804800000.0,1609891200000.0,1609977600000.0,1610064000000.0,1610150400000.0,1610236800000.0,1610323200000.0,1610409600000.0,1610496000000.0,1610582400000.0,1610668800000.0,1610755200000.0,1610841600000.0,1610928000000.0,1611014400000.0,1611100800000.0,1611187200000.0,1611273600000.0,1611360000000.0,1611446400000.0,1611532800000.0,1611619200000.0,1611705600000.0,1611792000000.0,1611878400000.0,1611964800000.0,1612051200000.0,1612137600000.0,1612224000000.0,1612310400000.0,1612396800000.0,1612483200000.0,1612569600000.0,1612656000000.0,1612742400000.0,1612828800000.0,1612915200000.0,1613001600000.0,1613088000000.0,1613174400000.0,1613260800000.0,1613347200000.0,1613433600000.0,1613520000000.0,1613606400000.0,1613692800000.0,1613779200000.0,1613865600000.0,1613952000000.0,1614038400000.0,1614124800000.0,1614211200000.0,1614297600000.0,1614384000000.0,1614470400000.0,1614556800000.0,1614643200000.0,1614729600000.0,1614816000000.0,1614902400000.0,1614988800000.0,1615075200000.0,1615161600000.0,1615248000000.0,1615334400000.0,1615420800000.0,1615507200000.0,1615593600000.0,1615680000000.0,1615766400000.0,1615852800000.0,1615939200000.0,1616025600000.0,1616112000000.0,1616198400000.0,1616284800000.0,1616371200000.0,1616457600000.0,1616544000000.0,1616630400000.0,1616716800000.0,1616803200000.0,1616889600000.0,1616976000000.0,1617062400000.0,1617148800000.0,1617235200000.0,1617321600000.0,1617408000000.0,1617494400000.0,1617580800000.0,1617667200000.0,1617753600000.0,1617840000000.0,1617926400000.0,1618012800000.0,1618099200000.0,1618185600000.0,1618272000000.0,1618358400000.0,1618444800000.0,1618531200000.0,1618617600000.0,1618704000000.0,1618790400000.0,1618876800000.0,1618963200000.0,1619049600000.0,1619136000000.0,1619222400000.0,1619308800000.0,1619395200000.0,1619481600000.0,1619568000000.0,1619654400000.0,1619740800000.0],\"y\":[90,207,235,173,878,815,4876,4695,8373,10528,6472,9173,8328,7326,3619,5906,4543,5263,5259,5082,2776,1299,1578,1274,810,1340,1237,4191,4341,7517,9530,7535,9333,9364,7839,4113,6080,5542,6106,6969,7217,5071,2349,4086,4371,4434,5335,4747,3107,1057,3968,4414,5434,5497,5177,7285,5178,8041,8951,9601,10175,12249,12450,7181,12983,14957,14710,15216,15948,12956,9300,13586,13247,13991,15506,13146,12465,8835,10876,10176,15457,15647,16532,18944,15227,16869,21098,21186,20529,17962,15815,11042,15034,14625,14648,14478,14058,16398,6987,8193,18177,15766,17038,20689,20687,15506,19100,20157,20670,21421,28842,26210,19797,18595,19359,22650,27066,28913,31329,21329,21967,26277,29399,31639,33504]},\"selected\":{\"id\":\"7255\",\"type\":\"Selection\"},\"selection_policy\":{\"id\":\"7256\",\"type\":\"UnionRenderers\"}},\"id\":\"7217\",\"type\":\"ColumnDataSource\"},{\"attributes\":{},\"id\":\"7200\",\"type\":\"DatetimeTickFormatter\"},{\"attributes\":{\"text\":\"trend for the daily vaccines done\"},\"id\":\"7159\",\"type\":\"Title\"},{\"attributes\":{\"callback\":null,\"data\":{\"x\":[1609027200000.0,1609286400000.0,1609372800000.0,1609459200000.0,1609545600000.0,1609632000000.0,1609718400000.0,1609804800000.0,1609891200000.0,1609977600000.0,1610064000000.0,1610150400000.0,1610236800000.0,1610323200000.0,1610409600000.0,1610496000000.0,1610582400000.0,1610668800000.0,1610755200000.0,1610841600000.0,1610928000000.0,1611014400000.0,1611100800000.0,1611187200000.0,1611273600000.0,1611360000000.0,1611446400000.0,1611532800000.0,1611619200000.0,1611705600000.0,1611792000000.0,1611878400000.0,1611964800000.0,1612051200000.0,1612137600000.0,1612224000000.0,1612310400000.0,1612396800000.0,1612483200000.0,1612569600000.0,1612656000000.0,1612742400000.0,1612828800000.0,1612915200000.0,1613001600000.0,1613088000000.0,1613174400000.0,1613260800000.0,1613347200000.0,1613433600000.0,1613520000000.0,1613606400000.0,1613692800000.0,1613779200000.0,1613865600000.0,1613952000000.0,1614038400000.0,1614124800000.0,1614211200000.0,1614297600000.0,1614384000000.0,1614470400000.0,1614556800000.0,1614643200000.0,1614729600000.0,1614816000000.0,1614902400000.0,1614988800000.0,1615075200000.0,1615161600000.0,1615248000000.0,1615334400000.0,1615420800000.0,1615507200000.0,1615593600000.0,1615680000000.0,1615766400000.0,1615852800000.0,1615939200000.0,1616025600000.0,1616112000000.0,1616198400000.0,1616284800000.0,1616371200000.0,1616457600000.0,1616544000000.0,1616630400000.0,1616716800000.0,1616803200000.0,1616889600000.0,1616976000000.0,1617062400000.0,1617148800000.0,1617235200000.0,1617321600000.0,1617408000000.0,1617494400000.0,1617580800000.0,1617667200000.0,1617753600000.0,1617840000000.0,1617926400000.0,1618012800000.0,1618099200000.0,1618185600000.0,1618272000000.0,1618358400000.0,1618444800000.0,1618531200000.0,1618617600000.0,1618704000000.0,1618790400000.0,1618876800000.0,1618963200000.0,1619049600000.0,1619136000000.0,1619222400000.0,1619308800000.0,1619395200000.0,1619481600000.0,1619568000000.0,1619654400000.0,1619740800000.0],\"y\":[507,1,1635,146,2948,2007,4503,5099,3942,5714,5577,4876,2349,3749,4208,4537,4066,4551,2507,1309,1846,1221,1546,2129,1409,3037,1669,3820,5358,4576,5465,6192,5526,1808,3961,4339,5031,5897,5630,4510,1578,3993,3838,3635,3698,4099,3723,785,3254,3378,4268,4370,4729,2967,2172,9620,9338,10026,11889,13662,14111,5886,15048,16282,16571,15029,17031,15892,4914,14656,13157,14373,14344,13907,10294,3313,11758,9855,10268,9392,7949,8234,2688,9345,10389,12945,10782,11433,12077,3520,12819,11812,14007,13363,12465,10363,5930,12658,13323,14856,17131,21457,30175,16139,28706,28269,31531,31823,35194,38674,22282,27207,20613,22811,22430,28500,28520,10657,25446,25653,18776,23928,28256]},\"selected\":{\"id\":\"7227\",\"type\":\"Selection\"},\"selection_policy\":{\"id\":\"7228\",\"type\":\"UnionRenderers\"}},\"id\":\"7192\",\"type\":\"ColumnDataSource\"},{\"attributes\":{\"line_color\":\"red\",\"line_width\":1.5,\"x\":{\"field\":\"x\"},\"y\":{\"field\":\"y\"}},\"id\":\"7244\",\"type\":\"Line\"},{\"attributes\":{},\"id\":\"7183\",\"type\":\"ResetTool\"},{\"attributes\":{\"mantissas\":[1,2,5],\"max_interval\":500.0,\"num_minor_ticks\":0},\"id\":\"7202\",\"type\":\"AdaptiveTicker\"},{\"attributes\":{},\"id\":\"7227\",\"type\":\"Selection\"},{\"attributes\":{\"base\":60,\"mantissas\":[1,2,5,10,15,20,30],\"max_interval\":1800000.0,\"min_interval\":1000.0,\"num_minor_ticks\":0},\"id\":\"7203\",\"type\":\"AdaptiveTicker\"},{\"attributes\":{\"data_source\":{\"id\":\"7192\",\"type\":\"ColumnDataSource\"},\"glyph\":{\"id\":\"7193\",\"type\":\"Line\"},\"hover_glyph\":null,\"muted_glyph\":null,\"nonselection_glyph\":{\"id\":\"7194\",\"type\":\"Line\"},\"selection_glyph\":null,\"view\":{\"id\":\"7196\",\"type\":\"CDSView\"}},\"id\":\"7195\",\"type\":\"GlyphRenderer\"},{\"attributes\":{\"label\":{\"value\":\"Sicilia\"},\"renderers\":[{\"id\":\"7220\",\"type\":\"GlyphRenderer\"}]},\"id\":\"7242\",\"type\":\"LegendItem\"},{\"attributes\":{\"base\":24,\"mantissas\":[1,2,4,6,8,12],\"max_interval\":43200000.0,\"min_interval\":3600000.0,\"num_minor_ticks\":0},\"id\":\"7204\",\"type\":\"AdaptiveTicker\"},{\"attributes\":{\"months\":[0,1,2,3,4,5,6,7,8,9,10,11]},\"id\":\"7209\",\"type\":\"MonthsTicker\"},{\"attributes\":{\"active_drag\":\"auto\",\"active_inspect\":\"auto\",\"active_multi\":null,\"active_scroll\":\"auto\",\"active_tap\":\"auto\",\"tools\":[{\"id\":\"7179\",\"type\":\"PanTool\"},{\"id\":\"7180\",\"type\":\"WheelZoomTool\"},{\"id\":\"7181\",\"type\":\"BoxZoomTool\"},{\"id\":\"7182\",\"type\":\"SaveTool\"},{\"id\":\"7183\",\"type\":\"ResetTool\"},{\"id\":\"7184\",\"type\":\"HelpTool\"},{\"id\":\"7271\",\"type\":\"HoverTool\"},{\"id\":\"7273\",\"type\":\"PanTool\"}]},\"id\":\"7185\",\"type\":\"Toolbar\"},{\"attributes\":{\"source\":{\"id\":\"7217\",\"type\":\"ColumnDataSource\"}},\"id\":\"7221\",\"type\":\"CDSView\"},{\"attributes\":{\"months\":[0,2,4,6,8,10]},\"id\":\"7210\",\"type\":\"MonthsTicker\"},{\"attributes\":{},\"id\":\"7182\",\"type\":\"SaveTool\"},{\"attributes\":{\"days\":[1,4,7,10,13,16,19,22,25,28]},\"id\":\"7206\",\"type\":\"DaysTicker\"},{\"attributes\":{},\"id\":\"7184\",\"type\":\"HelpTool\"},{\"attributes\":{\"months\":[0,6]},\"id\":\"7212\",\"type\":\"MonthsTicker\"},{\"attributes\":{},\"id\":\"7624\",\"type\":\"Selection\"},{\"attributes\":{\"ticker\":{\"id\":\"7170\",\"type\":\"DatetimeTicker\"}},\"id\":\"7173\",\"type\":\"Grid\"},{\"attributes\":{\"days\":[1,8,15,22]},\"id\":\"7207\",\"type\":\"DaysTicker\"},{\"attributes\":{\"callback\":null},\"id\":\"7163\",\"type\":\"DataRange1d\"},{\"attributes\":{},\"id\":\"7213\",\"type\":\"YearsTicker\"},{\"attributes\":{\"overlay\":{\"id\":\"7214\",\"type\":\"BoxAnnotation\"}},\"id\":\"7181\",\"type\":\"BoxZoomTool\"},{\"attributes\":{\"axis_label\":\"total\",\"formatter\":{\"id\":\"7198\",\"type\":\"BasicTickFormatter\"},\"ticker\":{\"id\":\"7175\",\"type\":\"BasicTicker\"}},\"id\":\"7174\",\"type\":\"LinearAxis\"},{\"attributes\":{},\"id\":\"7625\",\"type\":\"UnionRenderers\"},{\"attributes\":{\"months\":[0,4,8]},\"id\":\"7211\",\"type\":\"MonthsTicker\"},{\"attributes\":{\"dimensions\":\"width\"},\"id\":\"7273\",\"type\":\"PanTool\"},{\"attributes\":{\"dimension\":1,\"ticker\":{\"id\":\"7175\",\"type\":\"BasicTicker\"}},\"id\":\"7178\",\"type\":\"Grid\"},{\"attributes\":{\"line_color\":\"skyblue\",\"line_width\":1.5,\"x\":{\"field\":\"x\"},\"y\":{\"field\":\"y\"}},\"id\":\"7193\",\"type\":\"Line\"},{\"attributes\":{},\"id\":\"7228\",\"type\":\"UnionRenderers\"},{\"attributes\":{},\"id\":\"7255\",\"type\":\"Selection\"},{\"attributes\":{\"line_alpha\":0.1,\"line_color\":\"#1f77b4\",\"line_width\":1.5,\"x\":{\"field\":\"x\"},\"y\":{\"field\":\"y\"}},\"id\":\"7245\",\"type\":\"Line\"},{\"attributes\":{\"bottom_units\":\"screen\",\"fill_alpha\":{\"value\":0.5},\"fill_color\":{\"value\":\"lightgrey\"},\"left_units\":\"screen\",\"level\":\"overlay\",\"line_alpha\":{\"value\":1.0},\"line_color\":{\"value\":\"black\"},\"line_dash\":[4,4],\"line_width\":{\"value\":2},\"render_mode\":\"css\",\"right_units\":\"screen\",\"top_units\":\"screen\"},\"id\":\"7214\",\"type\":\"BoxAnnotation\"},{\"attributes\":{\"num_minor_ticks\":5,\"tickers\":[{\"id\":\"7202\",\"type\":\"AdaptiveTicker\"},{\"id\":\"7203\",\"type\":\"AdaptiveTicker\"},{\"id\":\"7204\",\"type\":\"AdaptiveTicker\"},{\"id\":\"7205\",\"type\":\"DaysTicker\"},{\"id\":\"7206\",\"type\":\"DaysTicker\"},{\"id\":\"7207\",\"type\":\"DaysTicker\"},{\"id\":\"7208\",\"type\":\"DaysTicker\"},{\"id\":\"7209\",\"type\":\"MonthsTicker\"},{\"id\":\"7210\",\"type\":\"MonthsTicker\"},{\"id\":\"7211\",\"type\":\"MonthsTicker\"},{\"id\":\"7212\",\"type\":\"MonthsTicker\"},{\"id\":\"7213\",\"type\":\"YearsTicker\"}]},\"id\":\"7170\",\"type\":\"DatetimeTicker\"},{\"attributes\":{\"label\":{\"value\":\"Puglia\"},\"renderers\":[{\"id\":\"7195\",\"type\":\"GlyphRenderer\"}]},\"id\":\"7216\",\"type\":\"LegendItem\"},{\"attributes\":{},\"id\":\"7175\",\"type\":\"BasicTicker\"},{\"attributes\":{\"label\":{\"value\":\"Lombardia\"},\"renderers\":[{\"id\":\"7246\",\"type\":\"GlyphRenderer\"}]},\"id\":\"7270\",\"type\":\"LegendItem\"},{\"attributes\":{},\"id\":\"7180\",\"type\":\"WheelZoomTool\"},{\"attributes\":{},\"id\":\"7198\",\"type\":\"BasicTickFormatter\"},{\"attributes\":{\"callback\":null,\"data\":{\"x\":[1609027200000.0,1609113600000.0,1609200000000.0,1609286400000.0,1609372800000.0,1609459200000.0,1609545600000.0,1609632000000.0,1609718400000.0,1609804800000.0,1609891200000.0,1609977600000.0,1610064000000.0,1610150400000.0,1610236800000.0,1610323200000.0,1610409600000.0,1610496000000.0,1610582400000.0,1610668800000.0,1610755200000.0,1610841600000.0,1610928000000.0,1611014400000.0,1611100800000.0,1611187200000.0,1611273600000.0,1611360000000.0,1611446400000.0,1611532800000.0,1611619200000.0,1611705600000.0,1611792000000.0,1611878400000.0,1611964800000.0,1612051200000.0,1612137600000.0,1612224000000.0,1612310400000.0,1612396800000.0,1612483200000.0,1612569600000.0,1612656000000.0,1612742400000.0,1612828800000.0,1612915200000.0,1613001600000.0,1613088000000.0,1613174400000.0,1613260800000.0,1613347200000.0,1613433600000.0,1613520000000.0,1613606400000.0,1613692800000.0,1613779200000.0,1613865600000.0,1613952000000.0,1614038400000.0,1614124800000.0,1614211200000.0,1614297600000.0,1614384000000.0,1614470400000.0,1614556800000.0,1614643200000.0,1614729600000.0,1614816000000.0,1614902400000.0,1614988800000.0,1615075200000.0,1615161600000.0,1615248000000.0,1615334400000.0,1615420800000.0,1615507200000.0,1615593600000.0,1615680000000.0,1615766400000.0,1615852800000.0,1615939200000.0,1616025600000.0,1616112000000.0,1616198400000.0,1616284800000.0,1616371200000.0,1616457600000.0,1616544000000.0,1616630400000.0,1616716800000.0,1616803200000.0,1616889600000.0,1616976000000.0,1617062400000.0,1617148800000.0,1617235200000.0,1617321600000.0,1617408000000.0,1617494400000.0,1617580800000.0,1617667200000.0,1617753600000.0,1617840000000.0,1617926400000.0,1618012800000.0,1618099200000.0,1618185600000.0,1618272000000.0,1618358400000.0,1618444800000.0,1618531200000.0,1618617600000.0,1618704000000.0,1618790400000.0,1618876800000.0,1618963200000.0,1619049600000.0,1619136000000.0,1619222400000.0,1619308800000.0,1619395200000.0,1619481600000.0,1619568000000.0,1619654400000.0,1619740800000.0],\"y\":[717,107,104,114,713,24,199,853,6075,7817,7058,11713,12664,12407,10518,16035,19859,26213,26727,25134,15358,8290,9155,8101,5579,5341,3097,1114,1201,7024,8338,8044,12180,13438,12321,9745,16054,19844,25544,27644,25584,15249,7208,10076,12247,14390,17040,13945,6414,3578,8913,9539,11965,14037,14110,9431,5052,11891,11770,14667,15181,18344,13942,7884,18774,22812,26900,29307,28970,21313,11916,29730,33232,33218,36169,35239,27116,14875,31529,25472,26150,27415,32365,32508,23577,40258,42415,43223,42444,41073,32173,20377,39972,39409,41835,42673,41014,36135,7613,27339,42975,50440,52053,51947,51661,32050,47124,47754,46902,49073,53445,47693,36228,60016,67337,71314,73106,73108,74571,51102,87575,85252,94491,113298,113435]},\"selected\":{\"id\":\"7624\",\"type\":\"Selection\"},\"selection_policy\":{\"id\":\"7625\",\"type\":\"UnionRenderers\"}},\"id\":\"7243\",\"type\":\"ColumnDataSource\"},{\"attributes\":{},\"id\":\"7165\",\"type\":\"LinearScale\"},{\"attributes\":{\"days\":[1,2,3,4,5,6,7,8,9,10,11,12,13,14,15,16,17,18,19,20,21,22,23,24,25,26,27,28,29,30,31]},\"id\":\"7205\",\"type\":\"DaysTicker\"},{\"attributes\":{},\"id\":\"7167\",\"type\":\"LinearScale\"},{\"attributes\":{},\"id\":\"7256\",\"type\":\"UnionRenderers\"},{\"attributes\":{\"line_alpha\":0.1,\"line_color\":\"#1f77b4\",\"line_width\":1.5,\"x\":{\"field\":\"x\"},\"y\":{\"field\":\"y\"}},\"id\":\"7219\",\"type\":\"Line\"},{\"attributes\":{\"callback\":null,\"start\":1609027200000.0},\"id\":\"7161\",\"type\":\"DataRange1d\"}],\"root_ids\":[\"7158\"]},\"title\":\"Bokeh Application\",\"version\":\"1.4.0\"}};\n",
       "  var render_items = [{\"docid\":\"1684f712-dcfa-4c8a-ae7c-42ba6ec39ee6\",\"roots\":{\"7158\":\"61673800-adad-4338-b4ba-76d561386b45\"}}];\n",
       "  root.Bokeh.embed.embed_items_notebook(docs_json, render_items);\n",
       "\n",
       "  }\n",
       "  if (root.Bokeh !== undefined) {\n",
       "    embed_document(root);\n",
       "  } else {\n",
       "    var attempts = 0;\n",
       "    var timer = setInterval(function(root) {\n",
       "      if (root.Bokeh !== undefined) {\n",
       "        clearInterval(timer);\n",
       "        embed_document(root);\n",
       "      } else {\n",
       "        attempts++;\n",
       "        if (attempts > 100) {\n",
       "          clearInterval(timer);\n",
       "          console.log(\"Bokeh: ERROR: Unable to run BokehJS code because BokehJS library is missing\");\n",
       "        }\n",
       "      }\n",
       "    }, 10, root)\n",
       "  }\n",
       "})(window);"
      ],
      "application/vnd.bokehjs_exec.v0+json": ""
     },
     "metadata": {
      "application/vnd.bokehjs_exec.v0+json": {
       "id": "7158"
      }
     },
     "output_type": "display_data"
    }
   ],
   "source": [
    "fig = figure(title='trend for the daily vaccines done', \n",
    "             width=1000, \n",
    "             height=400,\n",
    "             x_axis_label='data',\n",
    "             y_axis_label='total',\n",
    "             x_axis_type='datetime')\n",
    "\n",
    "for p in regioni_to_show:\n",
    "    df_filtered = dati_vaccini.query('nome_area==@p')[['data_somministrazione', 'totale_somministrazioni']].groupby('data_somministrazione').sum()\n",
    "    fig.line(df_filtered.index, \n",
    "             df_filtered['totale_somministrazioni'], \n",
    "             color=colors[regioni_to_show.index(p)],\n",
    "             legend_label=p, \n",
    "             line_width=1.5)\n",
    "\n",
    "\n",
    "# add the hover tool\n",
    "fig.add_tools(HoverTool(\n",
    "    tooltips=[('data', '@x{%F}'), ('totale_somministrazioni', '@y')],\n",
    "    formatters=dict(x='datetime')\n",
    "))\n",
    "\n",
    "fig.add_tools(PanTool(dimensions='width'))\n",
    "fig.legend.location = 'top_left'\n",
    "fig.x_range.start = dati_vaccini['data_somministrazione'].min()\n",
    "    \n",
    "# Show the figure\n",
    "show(fig)"
   ]
  },
  {
   "cell_type": "code",
   "execution_count": 52,
   "metadata": {},
   "outputs": [
    {
     "data": {
      "text/html": [
       "\n",
       "\n",
       "\n",
       "\n",
       "\n",
       "\n",
       "  <div class=\"bk-root\" id=\"20da0dbf-361e-4961-858c-b4ab4e76e580\" data-root-id=\"7783\"></div>\n"
      ]
     },
     "metadata": {},
     "output_type": "display_data"
    },
    {
     "data": {
      "application/javascript": [
       "(function(root) {\n",
       "  function embed_document(root) {\n",
       "    \n",
       "  var docs_json = {\"9b8bb294-94d0-40f0-b352-80b135905562\":{\"roots\":{\"references\":[{\"attributes\":{\"below\":[{\"id\":\"7794\",\"type\":\"DatetimeAxis\"}],\"center\":[{\"id\":\"7798\",\"type\":\"Grid\"},{\"id\":\"7803\",\"type\":\"Grid\"},{\"id\":\"7840\",\"type\":\"Legend\"}],\"left\":[{\"id\":\"7799\",\"type\":\"LinearAxis\"}],\"plot_height\":400,\"plot_width\":1000,\"renderers\":[{\"id\":\"7820\",\"type\":\"GlyphRenderer\"},{\"id\":\"7845\",\"type\":\"GlyphRenderer\"},{\"id\":\"7871\",\"type\":\"GlyphRenderer\"}],\"title\":{\"id\":\"7784\",\"type\":\"Title\"},\"toolbar\":{\"id\":\"7810\",\"type\":\"Toolbar\"},\"x_range\":{\"id\":\"7786\",\"type\":\"DataRange1d\"},\"x_scale\":{\"id\":\"7790\",\"type\":\"LinearScale\"},\"y_range\":{\"id\":\"7788\",\"type\":\"DataRange1d\"},\"y_scale\":{\"id\":\"7792\",\"type\":\"LinearScale\"}},\"id\":\"7783\",\"subtype\":\"Figure\",\"type\":\"Plot\"},{\"attributes\":{\"months\":[0,6]},\"id\":\"7837\",\"type\":\"MonthsTicker\"},{\"attributes\":{\"mantissas\":[1,2,5],\"max_interval\":500.0,\"num_minor_ticks\":0},\"id\":\"7827\",\"type\":\"AdaptiveTicker\"},{\"attributes\":{\"source\":{\"id\":\"7817\",\"type\":\"ColumnDataSource\"}},\"id\":\"7821\",\"type\":\"CDSView\"},{\"attributes\":{},\"id\":\"8273\",\"type\":\"Selection\"},{\"attributes\":{\"label\":{\"value\":\"Sicilia\"},\"renderers\":[{\"id\":\"7845\",\"type\":\"GlyphRenderer\"}]},\"id\":\"7867\",\"type\":\"LegendItem\"},{\"attributes\":{\"base\":60,\"mantissas\":[1,2,5,10,15,20,30],\"max_interval\":1800000.0,\"min_interval\":1000.0,\"num_minor_ticks\":0},\"id\":\"7828\",\"type\":\"AdaptiveTicker\"},{\"attributes\":{\"days\":[1,2,3,4,5,6,7,8,9,10,11,12,13,14,15,16,17,18,19,20,21,22,23,24,25,26,27,28,29,30,31]},\"id\":\"7830\",\"type\":\"DaysTicker\"},{\"attributes\":{},\"id\":\"7881\",\"type\":\"UnionRenderers\"},{\"attributes\":{\"days\":[1,15]},\"id\":\"7833\",\"type\":\"DaysTicker\"},{\"attributes\":{},\"id\":\"7804\",\"type\":\"PanTool\"},{\"attributes\":{\"base\":24,\"mantissas\":[1,2,4,6,8,12],\"max_interval\":43200000.0,\"min_interval\":3600000.0,\"num_minor_ticks\":0},\"id\":\"7829\",\"type\":\"AdaptiveTicker\"},{\"attributes\":{\"line_color\":\"grey\",\"line_width\":1.5,\"x\":{\"field\":\"x\"},\"y\":{\"field\":\"y\"}},\"id\":\"7843\",\"type\":\"Line\"},{\"attributes\":{\"dimension\":1,\"ticker\":{\"id\":\"7800\",\"type\":\"BasicTicker\"}},\"id\":\"7803\",\"type\":\"Grid\"},{\"attributes\":{},\"id\":\"7880\",\"type\":\"Selection\"},{\"attributes\":{\"line_color\":\"skyblue\",\"line_width\":1.5,\"x\":{\"field\":\"x\"},\"y\":{\"field\":\"y\"}},\"id\":\"7818\",\"type\":\"Line\"},{\"attributes\":{\"days\":[1,8,15,22]},\"id\":\"7832\",\"type\":\"DaysTicker\"},{\"attributes\":{},\"id\":\"7823\",\"type\":\"BasicTickFormatter\"},{\"attributes\":{},\"id\":\"8274\",\"type\":\"UnionRenderers\"},{\"attributes\":{\"callback\":null,\"formatters\":{\"x\":\"datetime\"},\"tooltips\":[[\"data\",\"@x{%F}\"],[\"total\",\"@y\"]]},\"id\":\"7896\",\"type\":\"HoverTool\"},{\"attributes\":{\"label\":{\"value\":\"Lombardia\"},\"renderers\":[{\"id\":\"7871\",\"type\":\"GlyphRenderer\"}]},\"id\":\"7895\",\"type\":\"LegendItem\"},{\"attributes\":{\"label\":{\"value\":\"Puglia\"},\"renderers\":[{\"id\":\"7820\",\"type\":\"GlyphRenderer\"}]},\"id\":\"7841\",\"type\":\"LegendItem\"},{\"attributes\":{},\"id\":\"7825\",\"type\":\"DatetimeTickFormatter\"},{\"attributes\":{\"source\":{\"id\":\"7868\",\"type\":\"ColumnDataSource\"}},\"id\":\"7872\",\"type\":\"CDSView\"},{\"attributes\":{\"callback\":null,\"data\":{\"x\":[1609027200000.0,1609113600000.0,1609200000000.0,1609286400000.0,1609372800000.0,1609459200000.0,1609545600000.0,1609632000000.0,1609718400000.0,1609804800000.0,1609891200000.0,1609977600000.0,1610064000000.0,1610150400000.0,1610236800000.0,1610323200000.0,1610409600000.0,1610496000000.0,1610582400000.0,1610668800000.0,1610755200000.0,1610841600000.0,1610928000000.0,1611014400000.0,1611100800000.0,1611187200000.0,1611273600000.0,1611360000000.0,1611446400000.0,1611532800000.0,1611619200000.0,1611705600000.0,1611792000000.0,1611878400000.0,1611964800000.0,1612051200000.0,1612137600000.0,1612224000000.0,1612310400000.0,1612396800000.0,1612483200000.0,1612569600000.0,1612656000000.0,1612742400000.0,1612828800000.0,1612915200000.0,1613001600000.0,1613088000000.0,1613174400000.0,1613260800000.0,1613347200000.0,1613433600000.0,1613520000000.0,1613606400000.0,1613692800000.0,1613779200000.0,1613865600000.0,1613952000000.0,1614038400000.0,1614124800000.0,1614211200000.0,1614297600000.0,1614384000000.0,1614470400000.0,1614556800000.0,1614643200000.0,1614729600000.0,1614816000000.0,1614902400000.0,1614988800000.0,1615075200000.0,1615161600000.0,1615248000000.0,1615334400000.0,1615420800000.0,1615507200000.0,1615593600000.0,1615680000000.0,1615766400000.0,1615852800000.0,1615939200000.0,1616025600000.0,1616112000000.0,1616198400000.0,1616284800000.0,1616371200000.0,1616457600000.0,1616544000000.0,1616630400000.0,1616716800000.0,1616803200000.0,1616889600000.0,1616976000000.0,1617062400000.0,1617148800000.0,1617235200000.0,1617321600000.0,1617408000000.0,1617494400000.0,1617580800000.0,1617667200000.0,1617753600000.0,1617840000000.0,1617926400000.0,1618012800000.0,1618099200000.0,1618185600000.0,1618272000000.0,1618358400000.0,1618444800000.0,1618531200000.0,1618617600000.0,1618704000000.0,1618790400000.0,1618876800000.0,1618963200000.0,1619049600000.0,1619136000000.0,1619222400000.0,1619308800000.0,1619395200000.0,1619481600000.0,1619568000000.0,1619654400000.0,1619740800000.0],\"y\":[717,824,928,1042,1755,1779,1978,2831,8906,16723,23781,35494,48158,60565,71083,87118,106977,133190,159917,185051,200409,208699,217854,225955,231534,236875,239972,241086,242287,249311,257649,265693,277873,291311,303632,313377,329431,349275,374819,402463,428047,443296,450504,460580,472827,487217,504257,518202,524616,528194,537107,546646,558611,572648,586758,596189,601241,613132,624902,639569,654750,673094,687036,694920,713694,736506,763406,792713,821683,842996,854912,884642,917874,951092,987261,1022500,1049616,1064491,1096020,1121492,1147642,1175057,1207422,1239930,1263507,1303765,1346180,1389403,1431847,1472920,1505093,1525470,1565442,1604851,1646686,1689359,1730373,1766508,1774121,1801460,1844435,1894875,1946928,1998875,2050536,2082586,2129710,2177464,2224366,2273439,2326884,2374577,2410805,2470821,2538158,2609472,2682578,2755686,2830257,2881359,2968934,3054186,3148677,3261975,3375410]},\"selected\":{\"id\":\"8273\",\"type\":\"Selection\"},\"selection_policy\":{\"id\":\"8274\",\"type\":\"UnionRenderers\"}},\"id\":\"7868\",\"type\":\"ColumnDataSource\"},{\"attributes\":{\"days\":[1,4,7,10,13,16,19,22,25,28]},\"id\":\"7831\",\"type\":\"DaysTicker\"},{\"attributes\":{\"axis_label\":\"total\",\"formatter\":{\"id\":\"7823\",\"type\":\"BasicTickFormatter\"},\"ticker\":{\"id\":\"7800\",\"type\":\"BasicTicker\"}},\"id\":\"7799\",\"type\":\"LinearAxis\"},{\"attributes\":{\"line_alpha\":0.1,\"line_color\":\"#1f77b4\",\"line_width\":1.5,\"x\":{\"field\":\"x\"},\"y\":{\"field\":\"y\"}},\"id\":\"7870\",\"type\":\"Line\"},{\"attributes\":{},\"id\":\"7852\",\"type\":\"Selection\"},{\"attributes\":{},\"id\":\"7792\",\"type\":\"LinearScale\"},{\"attributes\":{\"line_color\":\"red\",\"line_width\":1.5,\"x\":{\"field\":\"x\"},\"y\":{\"field\":\"y\"}},\"id\":\"7869\",\"type\":\"Line\"},{\"attributes\":{},\"id\":\"7808\",\"type\":\"ResetTool\"},{\"attributes\":{\"months\":[0,1,2,3,4,5,6,7,8,9,10,11]},\"id\":\"7834\",\"type\":\"MonthsTicker\"},{\"attributes\":{\"data_source\":{\"id\":\"7817\",\"type\":\"ColumnDataSource\"},\"glyph\":{\"id\":\"7818\",\"type\":\"Line\"},\"hover_glyph\":null,\"muted_glyph\":null,\"nonselection_glyph\":{\"id\":\"7819\",\"type\":\"Line\"},\"selection_glyph\":null,\"view\":{\"id\":\"7821\",\"type\":\"CDSView\"}},\"id\":\"7820\",\"type\":\"GlyphRenderer\"},{\"attributes\":{\"months\":[0,2,4,6,8,10]},\"id\":\"7835\",\"type\":\"MonthsTicker\"},{\"attributes\":{\"callback\":null,\"data\":{\"x\":[1609027200000.0,1609286400000.0,1609372800000.0,1609459200000.0,1609545600000.0,1609632000000.0,1609718400000.0,1609804800000.0,1609891200000.0,1609977600000.0,1610064000000.0,1610150400000.0,1610236800000.0,1610323200000.0,1610409600000.0,1610496000000.0,1610582400000.0,1610668800000.0,1610755200000.0,1610841600000.0,1610928000000.0,1611014400000.0,1611100800000.0,1611187200000.0,1611273600000.0,1611360000000.0,1611446400000.0,1611532800000.0,1611619200000.0,1611705600000.0,1611792000000.0,1611878400000.0,1611964800000.0,1612051200000.0,1612137600000.0,1612224000000.0,1612310400000.0,1612396800000.0,1612483200000.0,1612569600000.0,1612656000000.0,1612742400000.0,1612828800000.0,1612915200000.0,1613001600000.0,1613088000000.0,1613174400000.0,1613260800000.0,1613347200000.0,1613433600000.0,1613520000000.0,1613606400000.0,1613692800000.0,1613779200000.0,1613865600000.0,1613952000000.0,1614038400000.0,1614124800000.0,1614211200000.0,1614297600000.0,1614384000000.0,1614470400000.0,1614556800000.0,1614643200000.0,1614729600000.0,1614816000000.0,1614902400000.0,1614988800000.0,1615075200000.0,1615161600000.0,1615248000000.0,1615334400000.0,1615420800000.0,1615507200000.0,1615593600000.0,1615680000000.0,1615766400000.0,1615852800000.0,1615939200000.0,1616025600000.0,1616112000000.0,1616198400000.0,1616284800000.0,1616371200000.0,1616457600000.0,1616544000000.0,1616630400000.0,1616716800000.0,1616803200000.0,1616889600000.0,1616976000000.0,1617062400000.0,1617148800000.0,1617235200000.0,1617321600000.0,1617408000000.0,1617494400000.0,1617580800000.0,1617667200000.0,1617753600000.0,1617840000000.0,1617926400000.0,1618012800000.0,1618099200000.0,1618185600000.0,1618272000000.0,1618358400000.0,1618444800000.0,1618531200000.0,1618617600000.0,1618704000000.0,1618790400000.0,1618876800000.0,1618963200000.0,1619049600000.0,1619136000000.0,1619222400000.0,1619308800000.0,1619395200000.0,1619481600000.0,1619568000000.0,1619654400000.0,1619740800000.0],\"y\":[507,508,2143,2289,5237,7244,11747,16846,20788,26502,32079,36955,39304,43053,47261,51798,55864,60415,62922,64231,66077,67298,68844,70973,72382,75419,77088,80908,86266,90842,96307,102499,108025,109833,113794,118133,123164,129061,134691,139201,140779,144772,148610,152245,155943,160042,163765,164550,167804,171182,175450,179820,184549,187516,189688,199308,208646,218672,230561,244223,258334,264220,279268,295550,312121,327150,344181,360073,364987,379643,392800,407173,421517,435424,445718,449031,460789,470644,480912,490304,498253,506487,509175,518520,528909,541854,552636,564069,576146,579666,592485,604297,618304,631667,644132,654495,660425,673083,686406,701262,718393,739850,770025,786164,814870,843139,874670,906493,941687,980361,1002643,1029850,1050463,1073274,1095704,1124204,1152724,1163381,1188827,1214480,1233256,1257184,1285440]},\"selected\":{\"id\":\"7852\",\"type\":\"Selection\"},\"selection_policy\":{\"id\":\"7853\",\"type\":\"UnionRenderers\"}},\"id\":\"7817\",\"type\":\"ColumnDataSource\"},{\"attributes\":{\"dimensions\":\"width\"},\"id\":\"7898\",\"type\":\"PanTool\"},{\"attributes\":{\"line_alpha\":0.1,\"line_color\":\"#1f77b4\",\"line_width\":1.5,\"x\":{\"field\":\"x\"},\"y\":{\"field\":\"y\"}},\"id\":\"7819\",\"type\":\"Line\"},{\"attributes\":{\"callback\":null,\"data\":{\"x\":[1609027200000.0,1609113600000.0,1609200000000.0,1609286400000.0,1609372800000.0,1609459200000.0,1609545600000.0,1609632000000.0,1609718400000.0,1609804800000.0,1609891200000.0,1609977600000.0,1610064000000.0,1610150400000.0,1610236800000.0,1610323200000.0,1610409600000.0,1610496000000.0,1610582400000.0,1610668800000.0,1610755200000.0,1610841600000.0,1610928000000.0,1611014400000.0,1611100800000.0,1611187200000.0,1611273600000.0,1611360000000.0,1611446400000.0,1611532800000.0,1611619200000.0,1611705600000.0,1611792000000.0,1611878400000.0,1611964800000.0,1612051200000.0,1612137600000.0,1612224000000.0,1612310400000.0,1612396800000.0,1612483200000.0,1612569600000.0,1612656000000.0,1612742400000.0,1612828800000.0,1612915200000.0,1613001600000.0,1613088000000.0,1613174400000.0,1613260800000.0,1613347200000.0,1613433600000.0,1613520000000.0,1613606400000.0,1613692800000.0,1613779200000.0,1613865600000.0,1613952000000.0,1614038400000.0,1614124800000.0,1614211200000.0,1614297600000.0,1614384000000.0,1614470400000.0,1614556800000.0,1614643200000.0,1614729600000.0,1614816000000.0,1614902400000.0,1614988800000.0,1615075200000.0,1615161600000.0,1615248000000.0,1615334400000.0,1615420800000.0,1615507200000.0,1615593600000.0,1615680000000.0,1615766400000.0,1615852800000.0,1615939200000.0,1616025600000.0,1616112000000.0,1616198400000.0,1616284800000.0,1616371200000.0,1616457600000.0,1616544000000.0,1616630400000.0,1616716800000.0,1616803200000.0,1616889600000.0,1616976000000.0,1617062400000.0,1617148800000.0,1617235200000.0,1617321600000.0,1617408000000.0,1617494400000.0,1617580800000.0,1617667200000.0,1617753600000.0,1617840000000.0,1617926400000.0,1618012800000.0,1618099200000.0,1618185600000.0,1618272000000.0,1618358400000.0,1618444800000.0,1618531200000.0,1618617600000.0,1618704000000.0,1618790400000.0,1618876800000.0,1618963200000.0,1619049600000.0,1619136000000.0,1619222400000.0,1619308800000.0,1619395200000.0,1619481600000.0,1619568000000.0,1619654400000.0,1619740800000.0],\"y\":[90,297,532,705,1583,2398,7274,11969,20342,30870,37342,46515,54843,62169,65788,71694,76237,81500,86759,91841,94617,95916,97494,98768,99578,100918,102155,106346,110687,118204,127734,135269,144602,153966,161805,165918,171998,177540,183646,190615,197832,202903,205252,209338,213709,218143,223478,228225,231332,232389,236357,240771,246205,251702,256879,264164,269342,277383,286334,295935,306110,318359,330809,337990,350973,365930,380640,395856,411804,424760,434060,447646,460893,474884,490390,503536,516001,524836,535712,545888,561345,576992,593524,612468,627695,644564,665662,686848,707377,725339,741154,752196,767230,781855,796503,810981,825039,841437,848424,856617,874794,890560,907598,928287,948974,964480,983580,1003737,1024407,1045828,1074670,1100880,1120677,1139272,1158631,1181281,1208347,1237260,1268589,1289918,1311885,1338162,1367561,1399200,1432704]},\"selected\":{\"id\":\"7880\",\"type\":\"Selection\"},\"selection_policy\":{\"id\":\"7881\",\"type\":\"UnionRenderers\"}},\"id\":\"7842\",\"type\":\"ColumnDataSource\"},{\"attributes\":{},\"id\":\"7807\",\"type\":\"SaveTool\"},{\"attributes\":{\"months\":[0,4,8]},\"id\":\"7836\",\"type\":\"MonthsTicker\"},{\"attributes\":{},\"id\":\"7853\",\"type\":\"UnionRenderers\"},{\"attributes\":{\"data_source\":{\"id\":\"7868\",\"type\":\"ColumnDataSource\"},\"glyph\":{\"id\":\"7869\",\"type\":\"Line\"},\"hover_glyph\":null,\"muted_glyph\":null,\"nonselection_glyph\":{\"id\":\"7870\",\"type\":\"Line\"},\"selection_glyph\":null,\"view\":{\"id\":\"7872\",\"type\":\"CDSView\"}},\"id\":\"7871\",\"type\":\"GlyphRenderer\"},{\"attributes\":{\"active_drag\":\"auto\",\"active_inspect\":\"auto\",\"active_multi\":null,\"active_scroll\":\"auto\",\"active_tap\":\"auto\",\"tools\":[{\"id\":\"7804\",\"type\":\"PanTool\"},{\"id\":\"7805\",\"type\":\"WheelZoomTool\"},{\"id\":\"7806\",\"type\":\"BoxZoomTool\"},{\"id\":\"7807\",\"type\":\"SaveTool\"},{\"id\":\"7808\",\"type\":\"ResetTool\"},{\"id\":\"7809\",\"type\":\"HelpTool\"},{\"id\":\"7896\",\"type\":\"HoverTool\"},{\"id\":\"7898\",\"type\":\"PanTool\"}]},\"id\":\"7810\",\"type\":\"Toolbar\"},{\"attributes\":{\"text\":\"cumulative trend for the total vaccines done\"},\"id\":\"7784\",\"type\":\"Title\"},{\"attributes\":{\"items\":[{\"id\":\"7841\",\"type\":\"LegendItem\"},{\"id\":\"7867\",\"type\":\"LegendItem\"},{\"id\":\"7895\",\"type\":\"LegendItem\"}],\"location\":\"top_left\"},\"id\":\"7840\",\"type\":\"Legend\"},{\"attributes\":{},\"id\":\"7838\",\"type\":\"YearsTicker\"},{\"attributes\":{\"source\":{\"id\":\"7842\",\"type\":\"ColumnDataSource\"}},\"id\":\"7846\",\"type\":\"CDSView\"},{\"attributes\":{\"num_minor_ticks\":5,\"tickers\":[{\"id\":\"7827\",\"type\":\"AdaptiveTicker\"},{\"id\":\"7828\",\"type\":\"AdaptiveTicker\"},{\"id\":\"7829\",\"type\":\"AdaptiveTicker\"},{\"id\":\"7830\",\"type\":\"DaysTicker\"},{\"id\":\"7831\",\"type\":\"DaysTicker\"},{\"id\":\"7832\",\"type\":\"DaysTicker\"},{\"id\":\"7833\",\"type\":\"DaysTicker\"},{\"id\":\"7834\",\"type\":\"MonthsTicker\"},{\"id\":\"7835\",\"type\":\"MonthsTicker\"},{\"id\":\"7836\",\"type\":\"MonthsTicker\"},{\"id\":\"7837\",\"type\":\"MonthsTicker\"},{\"id\":\"7838\",\"type\":\"YearsTicker\"}]},\"id\":\"7795\",\"type\":\"DatetimeTicker\"},{\"attributes\":{},\"id\":\"7809\",\"type\":\"HelpTool\"},{\"attributes\":{\"ticker\":{\"id\":\"7795\",\"type\":\"DatetimeTicker\"}},\"id\":\"7798\",\"type\":\"Grid\"},{\"attributes\":{\"overlay\":{\"id\":\"7839\",\"type\":\"BoxAnnotation\"}},\"id\":\"7806\",\"type\":\"BoxZoomTool\"},{\"attributes\":{\"bottom_units\":\"screen\",\"fill_alpha\":{\"value\":0.5},\"fill_color\":{\"value\":\"lightgrey\"},\"left_units\":\"screen\",\"level\":\"overlay\",\"line_alpha\":{\"value\":1.0},\"line_color\":{\"value\":\"black\"},\"line_dash\":[4,4],\"line_width\":{\"value\":2},\"render_mode\":\"css\",\"right_units\":\"screen\",\"top_units\":\"screen\"},\"id\":\"7839\",\"type\":\"BoxAnnotation\"},{\"attributes\":{\"callback\":null,\"start\":1609027200000.0},\"id\":\"7786\",\"type\":\"DataRange1d\"},{\"attributes\":{\"axis_label\":\"data\",\"formatter\":{\"id\":\"7825\",\"type\":\"DatetimeTickFormatter\"},\"ticker\":{\"id\":\"7795\",\"type\":\"DatetimeTicker\"}},\"id\":\"7794\",\"type\":\"DatetimeAxis\"},{\"attributes\":{\"data_source\":{\"id\":\"7842\",\"type\":\"ColumnDataSource\"},\"glyph\":{\"id\":\"7843\",\"type\":\"Line\"},\"hover_glyph\":null,\"muted_glyph\":null,\"nonselection_glyph\":{\"id\":\"7844\",\"type\":\"Line\"},\"selection_glyph\":null,\"view\":{\"id\":\"7846\",\"type\":\"CDSView\"}},\"id\":\"7845\",\"type\":\"GlyphRenderer\"},{\"attributes\":{\"line_alpha\":0.1,\"line_color\":\"#1f77b4\",\"line_width\":1.5,\"x\":{\"field\":\"x\"},\"y\":{\"field\":\"y\"}},\"id\":\"7844\",\"type\":\"Line\"},{\"attributes\":{},\"id\":\"7805\",\"type\":\"WheelZoomTool\"},{\"attributes\":{\"callback\":null},\"id\":\"7788\",\"type\":\"DataRange1d\"},{\"attributes\":{},\"id\":\"7790\",\"type\":\"LinearScale\"},{\"attributes\":{},\"id\":\"7800\",\"type\":\"BasicTicker\"}],\"root_ids\":[\"7783\"]},\"title\":\"Bokeh Application\",\"version\":\"1.4.0\"}};\n",
       "  var render_items = [{\"docid\":\"9b8bb294-94d0-40f0-b352-80b135905562\",\"roots\":{\"7783\":\"20da0dbf-361e-4961-858c-b4ab4e76e580\"}}];\n",
       "  root.Bokeh.embed.embed_items_notebook(docs_json, render_items);\n",
       "\n",
       "  }\n",
       "  if (root.Bokeh !== undefined) {\n",
       "    embed_document(root);\n",
       "  } else {\n",
       "    var attempts = 0;\n",
       "    var timer = setInterval(function(root) {\n",
       "      if (root.Bokeh !== undefined) {\n",
       "        clearInterval(timer);\n",
       "        embed_document(root);\n",
       "      } else {\n",
       "        attempts++;\n",
       "        if (attempts > 100) {\n",
       "          clearInterval(timer);\n",
       "          console.log(\"Bokeh: ERROR: Unable to run BokehJS code because BokehJS library is missing\");\n",
       "        }\n",
       "      }\n",
       "    }, 10, root)\n",
       "  }\n",
       "})(window);"
      ],
      "application/vnd.bokehjs_exec.v0+json": ""
     },
     "metadata": {
      "application/vnd.bokehjs_exec.v0+json": {
       "id": "7783"
      }
     },
     "output_type": "display_data"
    }
   ],
   "source": [
    "fig = figure(title='cumulative trend for the total vaccines done', \n",
    "             width=1000, \n",
    "             height=400,\n",
    "             x_axis_label='data',\n",
    "             y_axis_label='total',\n",
    "             x_axis_type='datetime')\n",
    "\n",
    "for p in regioni_to_show:\n",
    "    df_filtered = dati_vaccini.query('nome_area==@p')[['data_somministrazione', 'totale_somministrazioni']].groupby('data_somministrazione').sum().cumsum()\n",
    "    fig.line(df_filtered.index, \n",
    "             df_filtered['totale_somministrazioni'], \n",
    "             color=colors[regioni_to_show.index(p)],\n",
    "             legend_label=p, \n",
    "             line_width=1.5)\n",
    "\n",
    "\n",
    "# add the hover tool\n",
    "fig.add_tools(HoverTool(\n",
    "    tooltips=[('data', '@x{%F}'), ('total', '@y')],\n",
    "    formatters=dict(x='datetime')\n",
    "))\n",
    "\n",
    "fig.add_tools(PanTool(dimensions='width'))\n",
    "fig.legend.location = 'top_left'\n",
    "fig.x_range.start = dati_vaccini['data_somministrazione'].min()\n",
    "    \n",
    "# Show the figure\n",
    "show(fig)"
   ]
  },
  {
   "cell_type": "code",
   "execution_count": null,
   "metadata": {},
   "outputs": [],
   "source": []
  },
  {
   "cell_type": "code",
   "execution_count": null,
   "metadata": {},
   "outputs": [],
   "source": []
  },
  {
   "cell_type": "markdown",
   "metadata": {},
   "source": [
    "## analysis on all types of vaccine"
   ]
  },
  {
   "cell_type": "code",
   "execution_count": 53,
   "metadata": {},
   "outputs": [],
   "source": [
    "vaccini = list(dati_vaccini.fornitore.unique())\n",
    "colors = ['red', 'blue', 'green', 'yellow']"
   ]
  },
  {
   "cell_type": "code",
   "execution_count": 54,
   "metadata": {},
   "outputs": [
    {
     "data": {
      "text/html": [
       "\n",
       "\n",
       "\n",
       "\n",
       "\n",
       "\n",
       "  <div class=\"bk-root\" id=\"50e2ea18-5abb-4878-b4b8-3919e42487d8\" data-root-id=\"8432\"></div>\n"
      ]
     },
     "metadata": {},
     "output_type": "display_data"
    },
    {
     "data": {
      "application/javascript": [
       "(function(root) {\n",
       "  function embed_document(root) {\n",
       "    \n",
       "  var docs_json = {\"27ea65a1-c7c2-4953-b869-e14cdb75ca55\":{\"roots\":{\"references\":[{\"attributes\":{\"below\":[{\"id\":\"8443\",\"type\":\"DatetimeAxis\"}],\"center\":[{\"id\":\"8447\",\"type\":\"Grid\"},{\"id\":\"8452\",\"type\":\"Grid\"},{\"id\":\"8489\",\"type\":\"Legend\"}],\"left\":[{\"id\":\"8448\",\"type\":\"LinearAxis\"}],\"plot_height\":400,\"plot_width\":1000,\"renderers\":[{\"id\":\"8469\",\"type\":\"GlyphRenderer\"},{\"id\":\"8494\",\"type\":\"GlyphRenderer\"},{\"id\":\"8520\",\"type\":\"GlyphRenderer\"},{\"id\":\"8548\",\"type\":\"GlyphRenderer\"}],\"title\":{\"id\":\"8433\",\"type\":\"Title\"},\"toolbar\":{\"id\":\"8459\",\"type\":\"Toolbar\"},\"x_range\":{\"id\":\"8435\",\"type\":\"DataRange1d\"},\"x_scale\":{\"id\":\"8439\",\"type\":\"LinearScale\"},\"y_range\":{\"id\":\"8437\",\"type\":\"DataRange1d\"},\"y_scale\":{\"id\":\"8441\",\"type\":\"LinearScale\"}},\"id\":\"8432\",\"subtype\":\"Figure\",\"type\":\"Plot\"},{\"attributes\":{\"months\":[0,2,4,6,8,10]},\"id\":\"8484\",\"type\":\"MonthsTicker\"},{\"attributes\":{},\"id\":\"8502\",\"type\":\"UnionRenderers\"},{\"attributes\":{},\"id\":\"8474\",\"type\":\"DatetimeTickFormatter\"},{\"attributes\":{\"days\":[1,2,3,4,5,6,7,8,9,10,11,12,13,14,15,16,17,18,19,20,21,22,23,24,25,26,27,28,29,30,31]},\"id\":\"8479\",\"type\":\"DaysTicker\"},{\"attributes\":{\"line_color\":\"green\",\"line_width\":1.5,\"x\":{\"field\":\"x\"},\"y\":{\"field\":\"y\"}},\"id\":\"8518\",\"type\":\"Line\"},{\"attributes\":{\"months\":[0,1,2,3,4,5,6,7,8,9,10,11]},\"id\":\"8483\",\"type\":\"MonthsTicker\"},{\"attributes\":{\"days\":[1,15]},\"id\":\"8482\",\"type\":\"DaysTicker\"},{\"attributes\":{\"active_drag\":\"auto\",\"active_inspect\":\"auto\",\"active_multi\":null,\"active_scroll\":\"auto\",\"active_tap\":\"auto\",\"tools\":[{\"id\":\"8453\",\"type\":\"PanTool\"},{\"id\":\"8454\",\"type\":\"WheelZoomTool\"},{\"id\":\"8455\",\"type\":\"BoxZoomTool\"},{\"id\":\"8456\",\"type\":\"SaveTool\"},{\"id\":\"8457\",\"type\":\"ResetTool\"},{\"id\":\"8458\",\"type\":\"HelpTool\"},{\"id\":\"8575\",\"type\":\"HoverTool\"},{\"id\":\"8577\",\"type\":\"PanTool\"}]},\"id\":\"8459\",\"type\":\"Toolbar\"},{\"attributes\":{\"text\":\"trend for the daily vaccines done by supplier\"},\"id\":\"8433\",\"type\":\"Title\"},{\"attributes\":{},\"id\":\"8529\",\"type\":\"Selection\"},{\"attributes\":{\"source\":{\"id\":\"8517\",\"type\":\"ColumnDataSource\"}},\"id\":\"8521\",\"type\":\"CDSView\"},{\"attributes\":{\"months\":[0,6]},\"id\":\"8486\",\"type\":\"MonthsTicker\"},{\"attributes\":{},\"id\":\"8978\",\"type\":\"Selection\"},{\"attributes\":{\"days\":[1,8,15,22]},\"id\":\"8481\",\"type\":\"DaysTicker\"},{\"attributes\":{\"callback\":null,\"data\":{\"x\":[1610064000000.0,1610496000000.0,1610582400000.0,1610668800000.0,1610755200000.0,1610841600000.0,1610928000000.0,1611014400000.0,1611100800000.0,1611187200000.0,1611273600000.0,1611360000000.0,1611446400000.0,1611532800000.0,1611619200000.0,1611705600000.0,1611792000000.0,1611878400000.0,1611964800000.0,1612051200000.0,1612137600000.0,1612224000000.0,1612310400000.0,1612396800000.0,1612483200000.0,1612569600000.0,1612656000000.0,1612742400000.0,1612828800000.0,1612915200000.0,1613001600000.0,1613088000000.0,1613174400000.0,1613260800000.0,1613347200000.0,1613433600000.0,1613520000000.0,1613606400000.0,1613692800000.0,1613779200000.0,1613865600000.0,1613952000000.0,1614038400000.0,1614124800000.0,1614211200000.0,1614297600000.0,1614384000000.0,1614470400000.0,1614556800000.0,1614643200000.0,1614729600000.0,1614816000000.0,1614902400000.0,1614988800000.0,1615075200000.0,1615161600000.0,1615248000000.0,1615334400000.0,1615420800000.0,1615507200000.0,1615593600000.0,1615680000000.0,1615766400000.0,1615852800000.0,1615939200000.0,1616025600000.0,1616112000000.0,1616198400000.0,1616284800000.0,1616371200000.0,1616457600000.0,1616544000000.0,1616630400000.0,1616716800000.0,1616803200000.0,1616889600000.0,1616976000000.0,1617062400000.0,1617148800000.0,1617235200000.0,1617321600000.0,1617408000000.0,1617494400000.0,1617580800000.0,1617667200000.0,1617753600000.0,1617840000000.0,1617926400000.0,1618012800000.0,1618099200000.0,1618185600000.0,1618272000000.0,1618358400000.0,1618444800000.0,1618531200000.0,1618617600000.0,1618704000000.0,1618790400000.0,1618876800000.0,1618963200000.0,1619049600000.0,1619136000000.0,1619222400000.0,1619308800000.0,1619395200000.0,1619481600000.0,1619568000000.0,1619654400000.0,1619740800000.0],\"y\":[2,1,84,1095,911,293,1218,2091,3277,2792,1736,1000,794,598,747,620,774,809,466,197,551,1122,1404,1643,3225,2090,592,2613,3347,2817,3130,4126,3884,1201,4150,6679,7741,7030,6972,6389,5476,6057,5335,6249,6217,5724,6983,2694,7059,7503,9964,10960,12236,13144,7737,12303,12337,10978,12106,9839,11102,6916,11068,12132,11354,12926,11188,12431,9481,11982,13491,15534,18121,19052,28669,17132,24486,28786,23277,24904,30226,35847,12147,20073,39466,29378,33347,34947,39785,17809,24288,27485,26808,24696,21101,21313,12884,17012,23411,29412,31608,31611,41024,31755,38142,51544,52301,51734,42606]},\"selected\":{\"id\":\"8529\",\"type\":\"Selection\"},\"selection_policy\":{\"id\":\"8530\",\"type\":\"UnionRenderers\"}},\"id\":\"8491\",\"type\":\"ColumnDataSource\"},{\"attributes\":{},\"id\":\"8487\",\"type\":\"YearsTicker\"},{\"attributes\":{},\"id\":\"8453\",\"type\":\"PanTool\"},{\"attributes\":{\"months\":[0,4,8]},\"id\":\"8485\",\"type\":\"MonthsTicker\"},{\"attributes\":{\"overlay\":{\"id\":\"8488\",\"type\":\"BoxAnnotation\"}},\"id\":\"8455\",\"type\":\"BoxZoomTool\"},{\"attributes\":{\"mantissas\":[1,2,5],\"max_interval\":500.0,\"num_minor_ticks\":0},\"id\":\"8476\",\"type\":\"AdaptiveTicker\"},{\"attributes\":{\"source\":{\"id\":\"8466\",\"type\":\"ColumnDataSource\"}},\"id\":\"8470\",\"type\":\"CDSView\"},{\"attributes\":{\"callback\":null,\"formatters\":{\"x\":\"datetime\"},\"tooltips\":[[\"data\",\"@x{%F}\"],[\"total\",\"@y\"]]},\"id\":\"8575\",\"type\":\"HoverTool\"},{\"attributes\":{\"callback\":null},\"id\":\"8437\",\"type\":\"DataRange1d\"},{\"attributes\":{\"line_alpha\":0.1,\"line_color\":\"#1f77b4\",\"line_width\":1.5,\"x\":{\"field\":\"x\"},\"y\":{\"field\":\"y\"}},\"id\":\"8547\",\"type\":\"Line\"},{\"attributes\":{\"days\":[1,4,7,10,13,16,19,22,25,28]},\"id\":\"8480\",\"type\":\"DaysTicker\"},{\"attributes\":{\"dimension\":1,\"ticker\":{\"id\":\"8449\",\"type\":\"BasicTicker\"}},\"id\":\"8452\",\"type\":\"Grid\"},{\"attributes\":{\"line_alpha\":0.1,\"line_color\":\"#1f77b4\",\"line_width\":1.5,\"x\":{\"field\":\"x\"},\"y\":{\"field\":\"y\"}},\"id\":\"8519\",\"type\":\"Line\"},{\"attributes\":{},\"id\":\"8979\",\"type\":\"UnionRenderers\"},{\"attributes\":{\"base\":24,\"mantissas\":[1,2,4,6,8,12],\"max_interval\":43200000.0,\"min_interval\":3600000.0,\"num_minor_ticks\":0},\"id\":\"8478\",\"type\":\"AdaptiveTicker\"},{\"attributes\":{},\"id\":\"8449\",\"type\":\"BasicTicker\"},{\"attributes\":{\"label\":{\"value\":\"Janssen\"},\"renderers\":[{\"id\":\"8548\",\"type\":\"GlyphRenderer\"}]},\"id\":\"8574\",\"type\":\"LegendItem\"},{\"attributes\":{\"bottom_units\":\"screen\",\"fill_alpha\":{\"value\":0.5},\"fill_color\":{\"value\":\"lightgrey\"},\"left_units\":\"screen\",\"level\":\"overlay\",\"line_alpha\":{\"value\":1.0},\"line_color\":{\"value\":\"black\"},\"line_dash\":[4,4],\"line_width\":{\"value\":2},\"render_mode\":\"css\",\"right_units\":\"screen\",\"top_units\":\"screen\"},\"id\":\"8488\",\"type\":\"BoxAnnotation\"},{\"attributes\":{\"label\":{\"value\":\"Pfizer/BioNTech\"},\"renderers\":[{\"id\":\"8469\",\"type\":\"GlyphRenderer\"}]},\"id\":\"8490\",\"type\":\"LegendItem\"},{\"attributes\":{\"callback\":null,\"start\":1609027200000.0},\"id\":\"8435\",\"type\":\"DataRange1d\"},{\"attributes\":{\"data_source\":{\"id\":\"8517\",\"type\":\"ColumnDataSource\"},\"glyph\":{\"id\":\"8518\",\"type\":\"Line\"},\"hover_glyph\":null,\"muted_glyph\":null,\"nonselection_glyph\":{\"id\":\"8519\",\"type\":\"Line\"},\"selection_glyph\":null,\"view\":{\"id\":\"8521\",\"type\":\"CDSView\"}},\"id\":\"8520\",\"type\":\"GlyphRenderer\"},{\"attributes\":{\"ticker\":{\"id\":\"8444\",\"type\":\"DatetimeTicker\"}},\"id\":\"8447\",\"type\":\"Grid\"},{\"attributes\":{},\"id\":\"8501\",\"type\":\"Selection\"},{\"attributes\":{\"label\":{\"value\":\"Moderna\"},\"renderers\":[{\"id\":\"8494\",\"type\":\"GlyphRenderer\"}]},\"id\":\"8516\",\"type\":\"LegendItem\"},{\"attributes\":{\"axis_label\":\"date\",\"formatter\":{\"id\":\"8474\",\"type\":\"DatetimeTickFormatter\"},\"ticker\":{\"id\":\"8444\",\"type\":\"DatetimeTicker\"}},\"id\":\"8443\",\"type\":\"DatetimeAxis\"},{\"attributes\":{},\"id\":\"8439\",\"type\":\"LinearScale\"},{\"attributes\":{\"items\":[{\"id\":\"8490\",\"type\":\"LegendItem\"},{\"id\":\"8516\",\"type\":\"LegendItem\"},{\"id\":\"8544\",\"type\":\"LegendItem\"},{\"id\":\"8574\",\"type\":\"LegendItem\"}],\"location\":\"top_left\"},\"id\":\"8489\",\"type\":\"Legend\"},{\"attributes\":{\"source\":{\"id\":\"8491\",\"type\":\"ColumnDataSource\"}},\"id\":\"8495\",\"type\":\"CDSView\"},{\"attributes\":{\"line_alpha\":0.1,\"line_color\":\"#1f77b4\",\"line_width\":1.5,\"x\":{\"field\":\"x\"},\"y\":{\"field\":\"y\"}},\"id\":\"8468\",\"type\":\"Line\"},{\"attributes\":{\"callback\":null,\"data\":{\"x\":[1611273600000.0,1611964800000.0,1612137600000.0,1612224000000.0,1612483200000.0,1612656000000.0,1612742400000.0,1612915200000.0,1613001600000.0,1613088000000.0,1613174400000.0,1613260800000.0,1613347200000.0,1613433600000.0,1613520000000.0,1613606400000.0,1613692800000.0,1613779200000.0,1613865600000.0,1613952000000.0,1614038400000.0,1614124800000.0,1614211200000.0,1614297600000.0,1614384000000.0,1614470400000.0,1614556800000.0,1614643200000.0,1614729600000.0,1614816000000.0,1614902400000.0,1614988800000.0,1615075200000.0,1615161600000.0,1615248000000.0,1615334400000.0,1615420800000.0,1615507200000.0,1615593600000.0,1615680000000.0,1615766400000.0,1615852800000.0,1615939200000.0,1616025600000.0,1616112000000.0,1616198400000.0,1616284800000.0,1616371200000.0,1616457600000.0,1616544000000.0,1616630400000.0,1616716800000.0,1616803200000.0,1616889600000.0,1616976000000.0,1617062400000.0,1617148800000.0,1617235200000.0,1617321600000.0,1617408000000.0,1617494400000.0,1617580800000.0,1617667200000.0,1617753600000.0,1617840000000.0,1617926400000.0,1618012800000.0,1618099200000.0,1618185600000.0,1618272000000.0,1618358400000.0,1618444800000.0,1618531200000.0,1618617600000.0,1618704000000.0,1618790400000.0,1618876800000.0,1618963200000.0,1619049600000.0,1619136000000.0,1619222400000.0,1619308800000.0,1619395200000.0,1619481600000.0,1619568000000.0,1619654400000.0,1619740800000.0],\"y\":[3,1,1,10,2,1,1,1,2903,4748,5253,7053,6968,9255,12595,17387,19055,18975,10645,23301,24770,27166,31537,40174,44543,26398,39875,55570,56888,58917,63712,62625,35643,56978,59451,63233,67526,69654,66126,40276,46959,415,319,162,17922,49358,43974,67192,75772,73017,77456,78753,66722,54945,69200,71294,68110,52690,64524,46890,38095,58759,83509,79721,55977,51813,60379,37239,78460,95752,100417,90329,107100,108439,72807,95578,96945,101517,90934,96006,93050,75613,64222,67424,76240,87325,82203]},\"selected\":{\"id\":\"8559\",\"type\":\"Selection\"},\"selection_policy\":{\"id\":\"8560\",\"type\":\"UnionRenderers\"}},\"id\":\"8517\",\"type\":\"ColumnDataSource\"},{\"attributes\":{\"line_alpha\":0.1,\"line_color\":\"#1f77b4\",\"line_width\":1.5,\"x\":{\"field\":\"x\"},\"y\":{\"field\":\"y\"}},\"id\":\"8493\",\"type\":\"Line\"},{\"attributes\":{\"line_color\":\"red\",\"line_width\":1.5,\"x\":{\"field\":\"x\"},\"y\":{\"field\":\"y\"}},\"id\":\"8467\",\"type\":\"Line\"},{\"attributes\":{\"line_color\":\"blue\",\"line_width\":1.5,\"x\":{\"field\":\"x\"},\"y\":{\"field\":\"y\"}},\"id\":\"8492\",\"type\":\"Line\"},{\"attributes\":{\"data_source\":{\"id\":\"8545\",\"type\":\"ColumnDataSource\"},\"glyph\":{\"id\":\"8546\",\"type\":\"Line\"},\"hover_glyph\":null,\"muted_glyph\":null,\"nonselection_glyph\":{\"id\":\"8547\",\"type\":\"Line\"},\"selection_glyph\":null,\"view\":{\"id\":\"8549\",\"type\":\"CDSView\"}},\"id\":\"8548\",\"type\":\"GlyphRenderer\"},{\"attributes\":{\"num_minor_ticks\":5,\"tickers\":[{\"id\":\"8476\",\"type\":\"AdaptiveTicker\"},{\"id\":\"8477\",\"type\":\"AdaptiveTicker\"},{\"id\":\"8478\",\"type\":\"AdaptiveTicker\"},{\"id\":\"8479\",\"type\":\"DaysTicker\"},{\"id\":\"8480\",\"type\":\"DaysTicker\"},{\"id\":\"8481\",\"type\":\"DaysTicker\"},{\"id\":\"8482\",\"type\":\"DaysTicker\"},{\"id\":\"8483\",\"type\":\"MonthsTicker\"},{\"id\":\"8484\",\"type\":\"MonthsTicker\"},{\"id\":\"8485\",\"type\":\"MonthsTicker\"},{\"id\":\"8486\",\"type\":\"MonthsTicker\"},{\"id\":\"8487\",\"type\":\"YearsTicker\"}]},\"id\":\"8444\",\"type\":\"DatetimeTicker\"},{\"attributes\":{},\"id\":\"8441\",\"type\":\"LinearScale\"},{\"attributes\":{},\"id\":\"8559\",\"type\":\"Selection\"},{\"attributes\":{\"base\":60,\"mantissas\":[1,2,5,10,15,20,30],\"max_interval\":1800000.0,\"min_interval\":1000.0,\"num_minor_ticks\":0},\"id\":\"8477\",\"type\":\"AdaptiveTicker\"},{\"attributes\":{\"data_source\":{\"id\":\"8466\",\"type\":\"ColumnDataSource\"},\"glyph\":{\"id\":\"8467\",\"type\":\"Line\"},\"hover_glyph\":null,\"muted_glyph\":null,\"nonselection_glyph\":{\"id\":\"8468\",\"type\":\"Line\"},\"selection_glyph\":null,\"view\":{\"id\":\"8470\",\"type\":\"CDSView\"}},\"id\":\"8469\",\"type\":\"GlyphRenderer\"},{\"attributes\":{\"dimensions\":\"width\"},\"id\":\"8577\",\"type\":\"PanTool\"},{\"attributes\":{},\"id\":\"8472\",\"type\":\"BasicTickFormatter\"},{\"attributes\":{\"source\":{\"id\":\"8545\",\"type\":\"ColumnDataSource\"}},\"id\":\"8549\",\"type\":\"CDSView\"},{\"attributes\":{},\"id\":\"8458\",\"type\":\"HelpTool\"},{\"attributes\":{},\"id\":\"8530\",\"type\":\"UnionRenderers\"},{\"attributes\":{\"line_color\":\"yellow\",\"line_width\":1.5,\"x\":{\"field\":\"x\"},\"y\":{\"field\":\"y\"}},\"id\":\"8546\",\"type\":\"Line\"},{\"attributes\":{},\"id\":\"8560\",\"type\":\"UnionRenderers\"},{\"attributes\":{\"data_source\":{\"id\":\"8491\",\"type\":\"ColumnDataSource\"},\"glyph\":{\"id\":\"8492\",\"type\":\"Line\"},\"hover_glyph\":null,\"muted_glyph\":null,\"nonselection_glyph\":{\"id\":\"8493\",\"type\":\"Line\"},\"selection_glyph\":null,\"view\":{\"id\":\"8495\",\"type\":\"CDSView\"}},\"id\":\"8494\",\"type\":\"GlyphRenderer\"},{\"attributes\":{\"callback\":null,\"data\":{\"x\":[1609027200000.0,1609113600000.0,1609200000000.0,1609286400000.0,1609372800000.0,1609459200000.0,1609545600000.0,1609632000000.0,1609718400000.0,1609804800000.0,1609891200000.0,1609977600000.0,1610064000000.0,1610150400000.0,1610236800000.0,1610323200000.0,1610409600000.0,1610496000000.0,1610582400000.0,1610668800000.0,1610755200000.0,1610841600000.0,1610928000000.0,1611014400000.0,1611100800000.0,1611187200000.0,1611273600000.0,1611360000000.0,1611446400000.0,1611532800000.0,1611619200000.0,1611705600000.0,1611792000000.0,1611878400000.0,1611964800000.0,1612051200000.0,1612137600000.0,1612224000000.0,1612310400000.0,1612396800000.0,1612483200000.0,1612569600000.0,1612656000000.0,1612742400000.0,1612828800000.0,1612915200000.0,1613001600000.0,1613088000000.0,1613174400000.0,1613260800000.0,1613347200000.0,1613433600000.0,1613520000000.0,1613606400000.0,1613692800000.0,1613779200000.0,1613865600000.0,1613952000000.0,1614038400000.0,1614124800000.0,1614211200000.0,1614297600000.0,1614384000000.0,1614470400000.0,1614556800000.0,1614643200000.0,1614729600000.0,1614816000000.0,1614902400000.0,1614988800000.0,1615075200000.0,1615161600000.0,1615248000000.0,1615334400000.0,1615420800000.0,1615507200000.0,1615593600000.0,1615680000000.0,1615766400000.0,1615852800000.0,1615939200000.0,1616025600000.0,1616112000000.0,1616198400000.0,1616284800000.0,1616371200000.0,1616457600000.0,1616544000000.0,1616630400000.0,1616716800000.0,1616803200000.0,1616889600000.0,1616976000000.0,1617062400000.0,1617148800000.0,1617235200000.0,1617321600000.0,1617408000000.0,1617494400000.0,1617580800000.0,1617667200000.0,1617753600000.0,1617840000000.0,1617926400000.0,1618012800000.0,1618099200000.0,1618185600000.0,1618272000000.0,1618358400000.0,1618444800000.0,1618531200000.0,1618617600000.0,1618704000000.0,1618790400000.0,1618876800000.0,1618963200000.0,1619049600000.0,1619136000000.0,1619222400000.0,1619308800000.0,1619395200000.0,1619481600000.0,1619568000000.0,1619654400000.0,1619740800000.0],\"y\":[7175,1425,1009,4728,25479,11059,38523,35165,68763,79796,65189,92251,95622,86987,60367,80974,82062,94548,93669,88580,64038,36702,42543,30769,27383,32687,24812,37707,33063,68428,79495,70211,92731,96928,89739,59328,85024,86723,98168,105821,103917,74852,41108,64165,63297,69834,68555,65019,43446,21150,51583,55123,59568,65094,66278,52517,34811,76087,76338,88569,90416,90446,74706,48869,88402,97318,118784,125800,127177,100531,57602,109067,119227,137493,139496,129188,98428,58190,112900,127526,153496,150077,145659,112316,75960,112611,131872,163152,168601,167874,143087,89716,145225,164398,209877,205043,184258,145372,45859,91267,158734,211237,242283,245108,217802,145821,162255,163180,190737,232948,248325,225068,154972,195707,210630,239383,271253,271084,244327,149408,229383,239967,264748,367383,354587]},\"selected\":{\"id\":\"8501\",\"type\":\"Selection\"},\"selection_policy\":{\"id\":\"8502\",\"type\":\"UnionRenderers\"}},\"id\":\"8466\",\"type\":\"ColumnDataSource\"},{\"attributes\":{},\"id\":\"8456\",\"type\":\"SaveTool\"},{\"attributes\":{\"callback\":null,\"data\":{\"x\":[1617667200000.0,1619049600000.0,1619136000000.0,1619222400000.0,1619308800000.0,1619395200000.0,1619481600000.0,1619568000000.0,1619654400000.0,1619740800000.0],\"y\":[5,288,534,2796,8555,9188,7606,7782,8800,13264]},\"selected\":{\"id\":\"8978\",\"type\":\"Selection\"},\"selection_policy\":{\"id\":\"8979\",\"type\":\"UnionRenderers\"}},\"id\":\"8545\",\"type\":\"ColumnDataSource\"},{\"attributes\":{},\"id\":\"8454\",\"type\":\"WheelZoomTool\"},{\"attributes\":{\"axis_label\":\"total\",\"formatter\":{\"id\":\"8472\",\"type\":\"BasicTickFormatter\"},\"ticker\":{\"id\":\"8449\",\"type\":\"BasicTicker\"}},\"id\":\"8448\",\"type\":\"LinearAxis\"},{\"attributes\":{},\"id\":\"8457\",\"type\":\"ResetTool\"},{\"attributes\":{\"label\":{\"value\":\"Vaxzevria (AstraZeneca)\"},\"renderers\":[{\"id\":\"8520\",\"type\":\"GlyphRenderer\"}]},\"id\":\"8544\",\"type\":\"LegendItem\"}],\"root_ids\":[\"8432\"]},\"title\":\"Bokeh Application\",\"version\":\"1.4.0\"}};\n",
       "  var render_items = [{\"docid\":\"27ea65a1-c7c2-4953-b869-e14cdb75ca55\",\"roots\":{\"8432\":\"50e2ea18-5abb-4878-b4b8-3919e42487d8\"}}];\n",
       "  root.Bokeh.embed.embed_items_notebook(docs_json, render_items);\n",
       "\n",
       "  }\n",
       "  if (root.Bokeh !== undefined) {\n",
       "    embed_document(root);\n",
       "  } else {\n",
       "    var attempts = 0;\n",
       "    var timer = setInterval(function(root) {\n",
       "      if (root.Bokeh !== undefined) {\n",
       "        clearInterval(timer);\n",
       "        embed_document(root);\n",
       "      } else {\n",
       "        attempts++;\n",
       "        if (attempts > 100) {\n",
       "          clearInterval(timer);\n",
       "          console.log(\"Bokeh: ERROR: Unable to run BokehJS code because BokehJS library is missing\");\n",
       "        }\n",
       "      }\n",
       "    }, 10, root)\n",
       "  }\n",
       "})(window);"
      ],
      "application/vnd.bokehjs_exec.v0+json": ""
     },
     "metadata": {
      "application/vnd.bokehjs_exec.v0+json": {
       "id": "8432"
      }
     },
     "output_type": "display_data"
    }
   ],
   "source": [
    "fig = figure(title='trend for the daily vaccines done by supplier', \n",
    "             width=1000, \n",
    "             height=400,\n",
    "             x_axis_label='date',\n",
    "             y_axis_label='total',\n",
    "             x_axis_type='datetime')\n",
    "\n",
    "for p in vaccini:\n",
    "    df_filtered = dati_vaccini.query('fornitore==@p')[['data_somministrazione', 'totale_somministrazioni']].groupby('data_somministrazione').sum()\n",
    "    fig.line(df_filtered.index, df_filtered['totale_somministrazioni'], \n",
    "             color=colors[vaccini.index(p)],\n",
    "             legend_label=p, \n",
    "             line_width=1.5)\n",
    "\n",
    "\n",
    "# add the hover tool\n",
    "fig.add_tools(HoverTool(\n",
    "    tooltips=[('data', '@x{%F}'), ('total', '@y')],\n",
    "    formatters=dict(x='datetime')\n",
    "))\n",
    "\n",
    "fig.add_tools(PanTool(dimensions='width'))\n",
    "fig.legend.location = 'top_left'\n",
    "fig.x_range.start = dati_vaccini['data_somministrazione'].min()\n",
    "    \n",
    "# Show the figure\n",
    "show(fig)"
   ]
  },
  {
   "cell_type": "code",
   "execution_count": 55,
   "metadata": {},
   "outputs": [
    {
     "data": {
      "text/html": [
       "\n",
       "\n",
       "\n",
       "\n",
       "\n",
       "\n",
       "  <div class=\"bk-root\" id=\"fcb16f88-c4ac-4a23-b572-145b8905f43c\" data-root-id=\"9149\"></div>\n"
      ]
     },
     "metadata": {},
     "output_type": "display_data"
    },
    {
     "data": {
      "application/javascript": [
       "(function(root) {\n",
       "  function embed_document(root) {\n",
       "    \n",
       "  var docs_json = {\"c32639e0-5236-4c96-9762-e361f0783d04\":{\"roots\":{\"references\":[{\"attributes\":{\"below\":[{\"id\":\"9160\",\"type\":\"DatetimeAxis\"}],\"center\":[{\"id\":\"9164\",\"type\":\"Grid\"},{\"id\":\"9169\",\"type\":\"Grid\"},{\"id\":\"9206\",\"type\":\"Legend\"}],\"left\":[{\"id\":\"9165\",\"type\":\"LinearAxis\"}],\"plot_height\":400,\"plot_width\":1000,\"renderers\":[{\"id\":\"9186\",\"type\":\"GlyphRenderer\"},{\"id\":\"9211\",\"type\":\"GlyphRenderer\"},{\"id\":\"9237\",\"type\":\"GlyphRenderer\"},{\"id\":\"9265\",\"type\":\"GlyphRenderer\"}],\"title\":{\"id\":\"9150\",\"type\":\"Title\"},\"toolbar\":{\"id\":\"9176\",\"type\":\"Toolbar\"},\"x_range\":{\"id\":\"9152\",\"type\":\"DataRange1d\"},\"x_scale\":{\"id\":\"9156\",\"type\":\"LinearScale\"},\"y_range\":{\"id\":\"9154\",\"type\":\"DataRange1d\"},\"y_scale\":{\"id\":\"9158\",\"type\":\"LinearScale\"}},\"id\":\"9149\",\"subtype\":\"Figure\",\"type\":\"Plot\"},{\"attributes\":{},\"id\":\"9174\",\"type\":\"ResetTool\"},{\"attributes\":{\"callback\":null},\"id\":\"9154\",\"type\":\"DataRange1d\"},{\"attributes\":{\"base\":60,\"mantissas\":[1,2,5,10,15,20,30],\"max_interval\":1800000.0,\"min_interval\":1000.0,\"num_minor_ticks\":0},\"id\":\"9194\",\"type\":\"AdaptiveTicker\"},{\"attributes\":{},\"id\":\"9170\",\"type\":\"PanTool\"},{\"attributes\":{},\"id\":\"9247\",\"type\":\"UnionRenderers\"},{\"attributes\":{\"axis_label\":\"total\",\"formatter\":{\"id\":\"9189\",\"type\":\"BasicTickFormatter\"},\"ticker\":{\"id\":\"9166\",\"type\":\"BasicTicker\"}},\"id\":\"9165\",\"type\":\"LinearAxis\"},{\"attributes\":{\"bottom_units\":\"screen\",\"fill_alpha\":{\"value\":0.5},\"fill_color\":{\"value\":\"lightgrey\"},\"left_units\":\"screen\",\"level\":\"overlay\",\"line_alpha\":{\"value\":1.0},\"line_color\":{\"value\":\"black\"},\"line_dash\":[4,4],\"line_width\":{\"value\":2},\"render_mode\":\"css\",\"right_units\":\"screen\",\"top_units\":\"screen\"},\"id\":\"9205\",\"type\":\"BoxAnnotation\"},{\"attributes\":{},\"id\":\"9166\",\"type\":\"BasicTicker\"},{\"attributes\":{\"days\":[1,2,3,4,5,6,7,8,9,10,11,12,13,14,15,16,17,18,19,20,21,22,23,24,25,26,27,28,29,30,31]},\"id\":\"9196\",\"type\":\"DaysTicker\"},{\"attributes\":{\"source\":{\"id\":\"9262\",\"type\":\"ColumnDataSource\"}},\"id\":\"9266\",\"type\":\"CDSView\"},{\"attributes\":{\"line_alpha\":0.1,\"line_color\":\"#1f77b4\",\"line_width\":1.5,\"x\":{\"field\":\"x\"},\"y\":{\"field\":\"y\"}},\"id\":\"9236\",\"type\":\"Line\"},{\"attributes\":{},\"id\":\"9171\",\"type\":\"WheelZoomTool\"},{\"attributes\":{\"callback\":null,\"data\":{\"x\":[1609027200000.0,1609113600000.0,1609200000000.0,1609286400000.0,1609372800000.0,1609459200000.0,1609545600000.0,1609632000000.0,1609718400000.0,1609804800000.0,1609891200000.0,1609977600000.0,1610064000000.0,1610150400000.0,1610236800000.0,1610323200000.0,1610409600000.0,1610496000000.0,1610582400000.0,1610668800000.0,1610755200000.0,1610841600000.0,1610928000000.0,1611014400000.0,1611100800000.0,1611187200000.0,1611273600000.0,1611360000000.0,1611446400000.0,1611532800000.0,1611619200000.0,1611705600000.0,1611792000000.0,1611878400000.0,1611964800000.0,1612051200000.0,1612137600000.0,1612224000000.0,1612310400000.0,1612396800000.0,1612483200000.0,1612569600000.0,1612656000000.0,1612742400000.0,1612828800000.0,1612915200000.0,1613001600000.0,1613088000000.0,1613174400000.0,1613260800000.0,1613347200000.0,1613433600000.0,1613520000000.0,1613606400000.0,1613692800000.0,1613779200000.0,1613865600000.0,1613952000000.0,1614038400000.0,1614124800000.0,1614211200000.0,1614297600000.0,1614384000000.0,1614470400000.0,1614556800000.0,1614643200000.0,1614729600000.0,1614816000000.0,1614902400000.0,1614988800000.0,1615075200000.0,1615161600000.0,1615248000000.0,1615334400000.0,1615420800000.0,1615507200000.0,1615593600000.0,1615680000000.0,1615766400000.0,1615852800000.0,1615939200000.0,1616025600000.0,1616112000000.0,1616198400000.0,1616284800000.0,1616371200000.0,1616457600000.0,1616544000000.0,1616630400000.0,1616716800000.0,1616803200000.0,1616889600000.0,1616976000000.0,1617062400000.0,1617148800000.0,1617235200000.0,1617321600000.0,1617408000000.0,1617494400000.0,1617580800000.0,1617667200000.0,1617753600000.0,1617840000000.0,1617926400000.0,1618012800000.0,1618099200000.0,1618185600000.0,1618272000000.0,1618358400000.0,1618444800000.0,1618531200000.0,1618617600000.0,1618704000000.0,1618790400000.0,1618876800000.0,1618963200000.0,1619049600000.0,1619136000000.0,1619222400000.0,1619308800000.0,1619395200000.0,1619481600000.0,1619568000000.0,1619654400000.0,1619740800000.0],\"y\":[7175,8600,9609,14337,39816,50875,89398,124563,193326,273122,338311,430562,526184,613171,673538,754512,836574,931122,1024791,1113371,1177409,1214111,1256654,1287423,1314806,1347493,1372305,1410012,1443075,1511503,1590998,1661209,1753940,1850868,1940607,1999935,2084959,2171682,2269850,2375671,2479588,2554440,2595548,2659713,2723010,2792844,2861399,2926418,2969864,2991014,3042597,3097720,3157288,3222382,3288660,3341177,3375988,3452075,3528413,3616982,3707398,3797844,3872550,3921419,4009821,4107139,4225923,4351723,4478900,4579431,4637033,4746100,4865327,5002820,5142316,5271504,5369932,5428122,5541022,5668548,5822044,5972121,6117780,6230096,6306056,6418667,6550539,6713691,6882292,7050166,7193253,7282969,7428194,7592592,7802469,8007512,8191770,8337142,8383001,8474268,8633002,8844239,9086522,9331630,9549432,9695253,9857508,10020688,10211425,10444373,10692698,10917766,11072738,11268445,11479075,11718458,11989711,12260795,12505122,12654530,12883913,13123880,13388628,13756011,14110598]},\"selected\":{\"id\":\"9218\",\"type\":\"Selection\"},\"selection_policy\":{\"id\":\"9219\",\"type\":\"UnionRenderers\"}},\"id\":\"9183\",\"type\":\"ColumnDataSource\"},{\"attributes\":{\"overlay\":{\"id\":\"9205\",\"type\":\"BoxAnnotation\"}},\"id\":\"9172\",\"type\":\"BoxZoomTool\"},{\"attributes\":{},\"id\":\"9219\",\"type\":\"UnionRenderers\"},{\"attributes\":{},\"id\":\"9276\",\"type\":\"Selection\"},{\"attributes\":{\"days\":[1,8,15,22]},\"id\":\"9198\",\"type\":\"DaysTicker\"},{\"attributes\":{},\"id\":\"9189\",\"type\":\"BasicTickFormatter\"},{\"attributes\":{\"callback\":null,\"data\":{\"x\":[1617667200000.0,1619049600000.0,1619136000000.0,1619222400000.0,1619308800000.0,1619395200000.0,1619481600000.0,1619568000000.0,1619654400000.0,1619740800000.0],\"y\":[5,293,827,3623,12178,21366,28972,36754,45554,58818]},\"selected\":{\"id\":\"9721\",\"type\":\"Selection\"},\"selection_policy\":{\"id\":\"9722\",\"type\":\"UnionRenderers\"}},\"id\":\"9262\",\"type\":\"ColumnDataSource\"},{\"attributes\":{\"data_source\":{\"id\":\"9183\",\"type\":\"ColumnDataSource\"},\"glyph\":{\"id\":\"9184\",\"type\":\"Line\"},\"hover_glyph\":null,\"muted_glyph\":null,\"nonselection_glyph\":{\"id\":\"9185\",\"type\":\"Line\"},\"selection_glyph\":null,\"view\":{\"id\":\"9187\",\"type\":\"CDSView\"}},\"id\":\"9186\",\"type\":\"GlyphRenderer\"},{\"attributes\":{\"axis_label\":\"date\",\"formatter\":{\"id\":\"9191\",\"type\":\"DatetimeTickFormatter\"},\"ticker\":{\"id\":\"9161\",\"type\":\"DatetimeTicker\"}},\"id\":\"9160\",\"type\":\"DatetimeAxis\"},{\"attributes\":{\"line_color\":\"yellow\",\"line_width\":1.5,\"x\":{\"field\":\"x\"},\"y\":{\"field\":\"y\"}},\"id\":\"9263\",\"type\":\"Line\"},{\"attributes\":{\"ticker\":{\"id\":\"9161\",\"type\":\"DatetimeTicker\"}},\"id\":\"9164\",\"type\":\"Grid\"},{\"attributes\":{\"label\":{\"value\":\"Vaxzevria (AstraZeneca)\"},\"renderers\":[{\"id\":\"9237\",\"type\":\"GlyphRenderer\"}]},\"id\":\"9261\",\"type\":\"LegendItem\"},{\"attributes\":{},\"id\":\"9175\",\"type\":\"HelpTool\"},{\"attributes\":{\"active_drag\":\"auto\",\"active_inspect\":\"auto\",\"active_multi\":null,\"active_scroll\":\"auto\",\"active_tap\":\"auto\",\"tools\":[{\"id\":\"9170\",\"type\":\"PanTool\"},{\"id\":\"9171\",\"type\":\"WheelZoomTool\"},{\"id\":\"9172\",\"type\":\"BoxZoomTool\"},{\"id\":\"9173\",\"type\":\"SaveTool\"},{\"id\":\"9174\",\"type\":\"ResetTool\"},{\"id\":\"9175\",\"type\":\"HelpTool\"},{\"id\":\"9292\",\"type\":\"HoverTool\"},{\"id\":\"9294\",\"type\":\"PanTool\"}]},\"id\":\"9176\",\"type\":\"Toolbar\"},{\"attributes\":{},\"id\":\"9158\",\"type\":\"LinearScale\"},{\"attributes\":{\"dimension\":1,\"ticker\":{\"id\":\"9166\",\"type\":\"BasicTicker\"}},\"id\":\"9169\",\"type\":\"Grid\"},{\"attributes\":{\"line_alpha\":0.1,\"line_color\":\"#1f77b4\",\"line_width\":1.5,\"x\":{\"field\":\"x\"},\"y\":{\"field\":\"y\"}},\"id\":\"9264\",\"type\":\"Line\"},{\"attributes\":{\"months\":[0,2,4,6,8,10]},\"id\":\"9201\",\"type\":\"MonthsTicker\"},{\"attributes\":{\"months\":[0,4,8]},\"id\":\"9202\",\"type\":\"MonthsTicker\"},{\"attributes\":{\"days\":[1,15]},\"id\":\"9199\",\"type\":\"DaysTicker\"},{\"attributes\":{},\"id\":\"9156\",\"type\":\"LinearScale\"},{\"attributes\":{\"items\":[{\"id\":\"9207\",\"type\":\"LegendItem\"},{\"id\":\"9233\",\"type\":\"LegendItem\"},{\"id\":\"9261\",\"type\":\"LegendItem\"},{\"id\":\"9291\",\"type\":\"LegendItem\"}],\"location\":\"top_left\"},\"id\":\"9206\",\"type\":\"Legend\"},{\"attributes\":{},\"id\":\"9277\",\"type\":\"UnionRenderers\"},{\"attributes\":{},\"id\":\"9722\",\"type\":\"UnionRenderers\"},{\"attributes\":{},\"id\":\"9246\",\"type\":\"Selection\"},{\"attributes\":{\"source\":{\"id\":\"9234\",\"type\":\"ColumnDataSource\"}},\"id\":\"9238\",\"type\":\"CDSView\"},{\"attributes\":{\"line_color\":\"red\",\"line_width\":1.5,\"x\":{\"field\":\"x\"},\"y\":{\"field\":\"y\"}},\"id\":\"9184\",\"type\":\"Line\"},{\"attributes\":{},\"id\":\"9721\",\"type\":\"Selection\"},{\"attributes\":{},\"id\":\"9191\",\"type\":\"DatetimeTickFormatter\"},{\"attributes\":{\"num_minor_ticks\":5,\"tickers\":[{\"id\":\"9193\",\"type\":\"AdaptiveTicker\"},{\"id\":\"9194\",\"type\":\"AdaptiveTicker\"},{\"id\":\"9195\",\"type\":\"AdaptiveTicker\"},{\"id\":\"9196\",\"type\":\"DaysTicker\"},{\"id\":\"9197\",\"type\":\"DaysTicker\"},{\"id\":\"9198\",\"type\":\"DaysTicker\"},{\"id\":\"9199\",\"type\":\"DaysTicker\"},{\"id\":\"9200\",\"type\":\"MonthsTicker\"},{\"id\":\"9201\",\"type\":\"MonthsTicker\"},{\"id\":\"9202\",\"type\":\"MonthsTicker\"},{\"id\":\"9203\",\"type\":\"MonthsTicker\"},{\"id\":\"9204\",\"type\":\"YearsTicker\"}]},\"id\":\"9161\",\"type\":\"DatetimeTicker\"},{\"attributes\":{\"line_alpha\":0.1,\"line_color\":\"#1f77b4\",\"line_width\":1.5,\"x\":{\"field\":\"x\"},\"y\":{\"field\":\"y\"}},\"id\":\"9210\",\"type\":\"Line\"},{\"attributes\":{\"days\":[1,4,7,10,13,16,19,22,25,28]},\"id\":\"9197\",\"type\":\"DaysTicker\"},{\"attributes\":{\"data_source\":{\"id\":\"9208\",\"type\":\"ColumnDataSource\"},\"glyph\":{\"id\":\"9209\",\"type\":\"Line\"},\"hover_glyph\":null,\"muted_glyph\":null,\"nonselection_glyph\":{\"id\":\"9210\",\"type\":\"Line\"},\"selection_glyph\":null,\"view\":{\"id\":\"9212\",\"type\":\"CDSView\"}},\"id\":\"9211\",\"type\":\"GlyphRenderer\"},{\"attributes\":{\"data_source\":{\"id\":\"9234\",\"type\":\"ColumnDataSource\"},\"glyph\":{\"id\":\"9235\",\"type\":\"Line\"},\"hover_glyph\":null,\"muted_glyph\":null,\"nonselection_glyph\":{\"id\":\"9236\",\"type\":\"Line\"},\"selection_glyph\":null,\"view\":{\"id\":\"9238\",\"type\":\"CDSView\"}},\"id\":\"9237\",\"type\":\"GlyphRenderer\"},{\"attributes\":{\"mantissas\":[1,2,5],\"max_interval\":500.0,\"num_minor_ticks\":0},\"id\":\"9193\",\"type\":\"AdaptiveTicker\"},{\"attributes\":{\"months\":[0,6]},\"id\":\"9203\",\"type\":\"MonthsTicker\"},{\"attributes\":{\"text\":\"cumulative trend for the total vaccines done by supplier\"},\"id\":\"9150\",\"type\":\"Title\"},{\"attributes\":{\"line_alpha\":0.1,\"line_color\":\"#1f77b4\",\"line_width\":1.5,\"x\":{\"field\":\"x\"},\"y\":{\"field\":\"y\"}},\"id\":\"9185\",\"type\":\"Line\"},{\"attributes\":{\"source\":{\"id\":\"9183\",\"type\":\"ColumnDataSource\"}},\"id\":\"9187\",\"type\":\"CDSView\"},{\"attributes\":{\"callback\":null,\"data\":{\"x\":[1611273600000.0,1611964800000.0,1612137600000.0,1612224000000.0,1612483200000.0,1612656000000.0,1612742400000.0,1612915200000.0,1613001600000.0,1613088000000.0,1613174400000.0,1613260800000.0,1613347200000.0,1613433600000.0,1613520000000.0,1613606400000.0,1613692800000.0,1613779200000.0,1613865600000.0,1613952000000.0,1614038400000.0,1614124800000.0,1614211200000.0,1614297600000.0,1614384000000.0,1614470400000.0,1614556800000.0,1614643200000.0,1614729600000.0,1614816000000.0,1614902400000.0,1614988800000.0,1615075200000.0,1615161600000.0,1615248000000.0,1615334400000.0,1615420800000.0,1615507200000.0,1615593600000.0,1615680000000.0,1615766400000.0,1615852800000.0,1615939200000.0,1616025600000.0,1616112000000.0,1616198400000.0,1616284800000.0,1616371200000.0,1616457600000.0,1616544000000.0,1616630400000.0,1616716800000.0,1616803200000.0,1616889600000.0,1616976000000.0,1617062400000.0,1617148800000.0,1617235200000.0,1617321600000.0,1617408000000.0,1617494400000.0,1617580800000.0,1617667200000.0,1617753600000.0,1617840000000.0,1617926400000.0,1618012800000.0,1618099200000.0,1618185600000.0,1618272000000.0,1618358400000.0,1618444800000.0,1618531200000.0,1618617600000.0,1618704000000.0,1618790400000.0,1618876800000.0,1618963200000.0,1619049600000.0,1619136000000.0,1619222400000.0,1619308800000.0,1619395200000.0,1619481600000.0,1619568000000.0,1619654400000.0,1619740800000.0],\"y\":[3,4,5,15,17,18,19,20,2923,7671,12924,19977,26945,36200,48795,66182,85237,104212,114857,138158,162928,190094,221631,261805,306348,332746,372621,428191,485079,543996,607708,670333,705976,762954,822405,885638,953164,1022818,1088944,1129220,1176179,1176594,1176913,1177075,1194997,1244355,1288329,1355521,1431293,1504310,1581766,1660519,1727241,1782186,1851386,1922680,1990790,2043480,2108004,2154894,2192989,2251748,2335257,2414978,2470955,2522768,2583147,2620386,2698846,2794598,2895015,2985344,3092444,3200883,3273690,3369268,3466213,3567730,3658664,3754670,3847720,3923333,3987555,4054979,4131219,4218544,4300747]},\"selected\":{\"id\":\"9276\",\"type\":\"Selection\"},\"selection_policy\":{\"id\":\"9277\",\"type\":\"UnionRenderers\"}},\"id\":\"9234\",\"type\":\"ColumnDataSource\"},{\"attributes\":{\"base\":24,\"mantissas\":[1,2,4,6,8,12],\"max_interval\":43200000.0,\"min_interval\":3600000.0,\"num_minor_ticks\":0},\"id\":\"9195\",\"type\":\"AdaptiveTicker\"},{\"attributes\":{\"data_source\":{\"id\":\"9262\",\"type\":\"ColumnDataSource\"},\"glyph\":{\"id\":\"9263\",\"type\":\"Line\"},\"hover_glyph\":null,\"muted_glyph\":null,\"nonselection_glyph\":{\"id\":\"9264\",\"type\":\"Line\"},\"selection_glyph\":null,\"view\":{\"id\":\"9266\",\"type\":\"CDSView\"}},\"id\":\"9265\",\"type\":\"GlyphRenderer\"},{\"attributes\":{\"callback\":null,\"formatters\":{\"x\":\"datetime\"},\"tooltips\":[[\"data\",\"@x{%F}\"],[\"totale_somministrazioni\",\"@y\"]]},\"id\":\"9292\",\"type\":\"HoverTool\"},{\"attributes\":{\"source\":{\"id\":\"9208\",\"type\":\"ColumnDataSource\"}},\"id\":\"9212\",\"type\":\"CDSView\"},{\"attributes\":{\"label\":{\"value\":\"Pfizer/BioNTech\"},\"renderers\":[{\"id\":\"9186\",\"type\":\"GlyphRenderer\"}]},\"id\":\"9207\",\"type\":\"LegendItem\"},{\"attributes\":{},\"id\":\"9204\",\"type\":\"YearsTicker\"},{\"attributes\":{\"months\":[0,1,2,3,4,5,6,7,8,9,10,11]},\"id\":\"9200\",\"type\":\"MonthsTicker\"},{\"attributes\":{\"label\":{\"value\":\"Janssen\"},\"renderers\":[{\"id\":\"9265\",\"type\":\"GlyphRenderer\"}]},\"id\":\"9291\",\"type\":\"LegendItem\"},{\"attributes\":{\"line_color\":\"green\",\"line_width\":1.5,\"x\":{\"field\":\"x\"},\"y\":{\"field\":\"y\"}},\"id\":\"9235\",\"type\":\"Line\"},{\"attributes\":{\"dimensions\":\"width\"},\"id\":\"9294\",\"type\":\"PanTool\"},{\"attributes\":{\"callback\":null,\"data\":{\"x\":[1610064000000.0,1610496000000.0,1610582400000.0,1610668800000.0,1610755200000.0,1610841600000.0,1610928000000.0,1611014400000.0,1611100800000.0,1611187200000.0,1611273600000.0,1611360000000.0,1611446400000.0,1611532800000.0,1611619200000.0,1611705600000.0,1611792000000.0,1611878400000.0,1611964800000.0,1612051200000.0,1612137600000.0,1612224000000.0,1612310400000.0,1612396800000.0,1612483200000.0,1612569600000.0,1612656000000.0,1612742400000.0,1612828800000.0,1612915200000.0,1613001600000.0,1613088000000.0,1613174400000.0,1613260800000.0,1613347200000.0,1613433600000.0,1613520000000.0,1613606400000.0,1613692800000.0,1613779200000.0,1613865600000.0,1613952000000.0,1614038400000.0,1614124800000.0,1614211200000.0,1614297600000.0,1614384000000.0,1614470400000.0,1614556800000.0,1614643200000.0,1614729600000.0,1614816000000.0,1614902400000.0,1614988800000.0,1615075200000.0,1615161600000.0,1615248000000.0,1615334400000.0,1615420800000.0,1615507200000.0,1615593600000.0,1615680000000.0,1615766400000.0,1615852800000.0,1615939200000.0,1616025600000.0,1616112000000.0,1616198400000.0,1616284800000.0,1616371200000.0,1616457600000.0,1616544000000.0,1616630400000.0,1616716800000.0,1616803200000.0,1616889600000.0,1616976000000.0,1617062400000.0,1617148800000.0,1617235200000.0,1617321600000.0,1617408000000.0,1617494400000.0,1617580800000.0,1617667200000.0,1617753600000.0,1617840000000.0,1617926400000.0,1618012800000.0,1618099200000.0,1618185600000.0,1618272000000.0,1618358400000.0,1618444800000.0,1618531200000.0,1618617600000.0,1618704000000.0,1618790400000.0,1618876800000.0,1618963200000.0,1619049600000.0,1619136000000.0,1619222400000.0,1619308800000.0,1619395200000.0,1619481600000.0,1619568000000.0,1619654400000.0,1619740800000.0],\"y\":[2,3,87,1182,2093,2386,3604,5695,8972,11764,13500,14500,15294,15892,16639,17259,18033,18842,19308,19505,20056,21178,22582,24225,27450,29540,30132,32745,36092,38909,42039,46165,50049,51250,55400,62079,69820,76850,83822,90211,95687,101744,107079,113328,119545,125269,132252,134946,142005,149508,159472,170432,182668,195812,203549,215852,228189,239167,251273,261112,272214,279130,290198,302330,313684,326610,337798,350229,359710,371692,385183,400717,418838,437890,466559,483691,508177,536963,560240,585144,615370,651217,663364,683437,722903,752281,785628,820575,860360,878169,902457,929942,956750,981446,1002547,1023860,1036744,1053756,1077167,1106579,1138187,1169798,1210822,1242577,1280719,1332263,1384564,1436298,1478904]},\"selected\":{\"id\":\"9246\",\"type\":\"Selection\"},\"selection_policy\":{\"id\":\"9247\",\"type\":\"UnionRenderers\"}},\"id\":\"9208\",\"type\":\"ColumnDataSource\"},{\"attributes\":{},\"id\":\"9218\",\"type\":\"Selection\"},{\"attributes\":{\"label\":{\"value\":\"Moderna\"},\"renderers\":[{\"id\":\"9211\",\"type\":\"GlyphRenderer\"}]},\"id\":\"9233\",\"type\":\"LegendItem\"},{\"attributes\":{\"callback\":null,\"start\":1609027200000.0},\"id\":\"9152\",\"type\":\"DataRange1d\"},{\"attributes\":{\"line_color\":\"blue\",\"line_width\":1.5,\"x\":{\"field\":\"x\"},\"y\":{\"field\":\"y\"}},\"id\":\"9209\",\"type\":\"Line\"},{\"attributes\":{},\"id\":\"9173\",\"type\":\"SaveTool\"}],\"root_ids\":[\"9149\"]},\"title\":\"Bokeh Application\",\"version\":\"1.4.0\"}};\n",
       "  var render_items = [{\"docid\":\"c32639e0-5236-4c96-9762-e361f0783d04\",\"roots\":{\"9149\":\"fcb16f88-c4ac-4a23-b572-145b8905f43c\"}}];\n",
       "  root.Bokeh.embed.embed_items_notebook(docs_json, render_items);\n",
       "\n",
       "  }\n",
       "  if (root.Bokeh !== undefined) {\n",
       "    embed_document(root);\n",
       "  } else {\n",
       "    var attempts = 0;\n",
       "    var timer = setInterval(function(root) {\n",
       "      if (root.Bokeh !== undefined) {\n",
       "        clearInterval(timer);\n",
       "        embed_document(root);\n",
       "      } else {\n",
       "        attempts++;\n",
       "        if (attempts > 100) {\n",
       "          clearInterval(timer);\n",
       "          console.log(\"Bokeh: ERROR: Unable to run BokehJS code because BokehJS library is missing\");\n",
       "        }\n",
       "      }\n",
       "    }, 10, root)\n",
       "  }\n",
       "})(window);"
      ],
      "application/vnd.bokehjs_exec.v0+json": ""
     },
     "metadata": {
      "application/vnd.bokehjs_exec.v0+json": {
       "id": "9149"
      }
     },
     "output_type": "display_data"
    }
   ],
   "source": [
    "fig = figure(title='cumulative trend for the total vaccines done by supplier', \n",
    "             width=1000, \n",
    "             height=400,\n",
    "             x_axis_label='date',\n",
    "             y_axis_label='total',\n",
    "             x_axis_type='datetime')\n",
    "\n",
    "for p in vaccini:\n",
    "    df_filtered = dati_vaccini.query('fornitore==@p')[['data_somministrazione', 'totale_somministrazioni']].groupby('data_somministrazione').sum().cumsum()\n",
    "    fig.line(df_filtered.index, df_filtered['totale_somministrazioni'], \n",
    "             color=colors[vaccini.index(p)],\n",
    "             legend_label=p, \n",
    "             line_width=1.5)\n",
    "\n",
    "\n",
    "# add the hover tool\n",
    "fig.add_tools(HoverTool(\n",
    "    tooltips=[('data', '@x{%F}'), ('totale_somministrazioni', '@y')],\n",
    "    formatters=dict(x='datetime')\n",
    "))\n",
    "\n",
    "fig.add_tools(PanTool(dimensions='width'))\n",
    "fig.legend.location = 'top_left'\n",
    "fig.x_range.start = dati_vaccini['data_somministrazione'].min()\n",
    "    \n",
    "# Show the figure\n",
    "show(fig)"
   ]
  },
  {
   "cell_type": "code",
   "execution_count": null,
   "metadata": {},
   "outputs": [],
   "source": []
  },
  {
   "cell_type": "markdown",
   "metadata": {},
   "source": [
    "## analysis based on people age"
   ]
  },
  {
   "cell_type": "code",
   "execution_count": 56,
   "metadata": {},
   "outputs": [],
   "source": [
    "fasce = list(dati_vaccini.fascia_anagrafica.unique())\n",
    "colors = []\n",
    "n = named.__dict__\n",
    "all_colors = n['__all__']\n",
    "while len(colors) < (len(fasce)):\n",
    "    if choice(all_colors) not in colors:\n",
    "        colors.append(choice(all_colors))"
   ]
  },
  {
   "cell_type": "code",
   "execution_count": 57,
   "metadata": {},
   "outputs": [
    {
     "data": {
      "text/html": [
       "\n",
       "\n",
       "\n",
       "\n",
       "\n",
       "\n",
       "  <div class=\"bk-root\" id=\"c900aaa5-2d14-42dd-99a3-241952251259\" data-root-id=\"9892\"></div>\n"
      ]
     },
     "metadata": {},
     "output_type": "display_data"
    },
    {
     "data": {
      "application/javascript": [
       "(function(root) {\n",
       "  function embed_document(root) {\n",
       "    \n",
       "  var docs_json = {\"c9d998a4-0aa9-40bf-bc9a-08502485e957\":{\"roots\":{\"references\":[{\"attributes\":{\"below\":[{\"id\":\"9903\",\"type\":\"DatetimeAxis\"}],\"center\":[{\"id\":\"9907\",\"type\":\"Grid\"},{\"id\":\"9912\",\"type\":\"Grid\"},{\"id\":\"9949\",\"type\":\"Legend\"}],\"left\":[{\"id\":\"9908\",\"type\":\"LinearAxis\"}],\"plot_height\":400,\"plot_width\":1000,\"renderers\":[{\"id\":\"9929\",\"type\":\"GlyphRenderer\"},{\"id\":\"9954\",\"type\":\"GlyphRenderer\"},{\"id\":\"9980\",\"type\":\"GlyphRenderer\"},{\"id\":\"10008\",\"type\":\"GlyphRenderer\"},{\"id\":\"10038\",\"type\":\"GlyphRenderer\"},{\"id\":\"10070\",\"type\":\"GlyphRenderer\"},{\"id\":\"10104\",\"type\":\"GlyphRenderer\"},{\"id\":\"10140\",\"type\":\"GlyphRenderer\"},{\"id\":\"10178\",\"type\":\"GlyphRenderer\"}],\"title\":{\"id\":\"9893\",\"type\":\"Title\"},\"toolbar\":{\"id\":\"9919\",\"type\":\"Toolbar\"},\"x_range\":{\"id\":\"9895\",\"type\":\"DataRange1d\"},\"x_scale\":{\"id\":\"9899\",\"type\":\"LinearScale\"},\"y_range\":{\"id\":\"9897\",\"type\":\"DataRange1d\"},\"y_scale\":{\"id\":\"9901\",\"type\":\"LinearScale\"}},\"id\":\"9892\",\"subtype\":\"Figure\",\"type\":\"Plot\"},{\"attributes\":{\"days\":[1,2,3,4,5,6,7,8,9,10,11,12,13,14,15,16,17,18,19,20,21,22,23,24,25,26,27,28,29,30,31]},\"id\":\"9939\",\"type\":\"DaysTicker\"},{\"attributes\":{},\"id\":\"10159\",\"type\":\"Selection\"},{\"attributes\":{},\"id\":\"9961\",\"type\":\"Selection\"},{\"attributes\":{},\"id\":\"10680\",\"type\":\"Selection\"},{\"attributes\":{},\"id\":\"9962\",\"type\":\"UnionRenderers\"},{\"attributes\":{\"line_alpha\":0.1,\"line_color\":\"#1f77b4\",\"line_width\":1.5,\"x\":{\"field\":\"x\"},\"y\":{\"field\":\"y\"}},\"id\":\"9953\",\"type\":\"Line\"},{\"attributes\":{\"callback\":null,\"data\":{\"x\":[1609027200000.0,1609113600000.0,1609200000000.0,1609286400000.0,1609372800000.0,1609459200000.0,1609545600000.0,1609632000000.0,1609718400000.0,1609804800000.0,1609891200000.0,1609977600000.0,1610064000000.0,1610150400000.0,1610236800000.0,1610323200000.0,1610409600000.0,1610496000000.0,1610582400000.0,1610668800000.0,1610755200000.0,1610841600000.0,1610928000000.0,1611014400000.0,1611100800000.0,1611187200000.0,1611273600000.0,1611360000000.0,1611446400000.0,1611532800000.0,1611619200000.0,1611705600000.0,1611792000000.0,1611878400000.0,1611964800000.0,1612051200000.0,1612137600000.0,1612224000000.0,1612310400000.0,1612396800000.0,1612483200000.0,1612569600000.0,1612656000000.0,1612742400000.0,1612828800000.0,1612915200000.0,1613001600000.0,1613088000000.0,1613174400000.0,1613260800000.0,1613347200000.0,1613433600000.0,1613520000000.0,1613606400000.0,1613692800000.0,1613779200000.0,1613865600000.0,1613952000000.0,1614038400000.0,1614124800000.0,1614211200000.0,1614297600000.0,1614384000000.0,1614470400000.0,1614556800000.0,1614643200000.0,1614729600000.0,1614816000000.0,1614902400000.0,1614988800000.0,1615075200000.0,1615161600000.0,1615248000000.0,1615334400000.0,1615420800000.0,1615507200000.0,1615593600000.0,1615680000000.0,1615766400000.0,1615852800000.0,1615939200000.0,1616025600000.0,1616112000000.0,1616198400000.0,1616284800000.0,1616371200000.0,1616457600000.0,1616544000000.0,1616630400000.0,1616716800000.0,1616803200000.0,1616889600000.0,1616976000000.0,1617062400000.0,1617148800000.0,1617235200000.0,1617321600000.0,1617408000000.0,1617494400000.0,1617580800000.0,1617667200000.0,1617753600000.0,1617840000000.0,1617926400000.0,1618012800000.0,1618099200000.0,1618185600000.0,1618272000000.0,1618358400000.0,1618444800000.0,1618531200000.0,1618617600000.0,1618704000000.0,1618790400000.0,1618876800000.0,1618963200000.0,1619049600000.0,1619136000000.0,1619222400000.0,1619308800000.0,1619395200000.0,1619481600000.0,1619568000000.0,1619654400000.0,1619740800000.0],\"y\":[1473,1825,2042,3258,8974,11416,19883,27677,42313,59053,71929,90975,110579,127066,138544,154223,169738,187361,204411,220594,231615,237608,245180,250474,255900,262829,267853,275902,283087,297703,314337,328135,347387,367384,384709,396329,412753,429203,447883,467671,487108,500333,507455,518221,528667,539745,551613,564385,573462,578899,588451,599459,611113,624453,639128,650345,656909,671310,685450,700060,714896,731980,748463,757804,774588,795179,817320,841367,868662,892681,906190,929599,953693,978094,1002256,1026412,1046538,1058297,1074882,1081834,1089020,1095744,1106126,1119439,1129901,1144835,1161816,1180008,1198998,1218186,1234310,1244686,1258851,1273050,1288868,1303297,1317517,1326989,1331617,1339524,1352982,1366580,1381022,1396631,1410138,1419554,1429776,1439713,1450950,1464777,1479778,1494208,1503677,1515212,1526732,1539271,1554953,1572169,1587835,1598788,1612853,1628973,1647053,1672498,1698056]},\"selected\":{\"id\":\"10019\",\"type\":\"Selection\"},\"selection_policy\":{\"id\":\"10020\",\"type\":\"UnionRenderers\"}},\"id\":\"9977\",\"type\":\"ColumnDataSource\"},{\"attributes\":{\"label\":{\"value\":\"30-39\"},\"renderers\":[{\"id\":\"9954\",\"type\":\"GlyphRenderer\"}]},\"id\":\"9976\",\"type\":\"LegendItem\"},{\"attributes\":{\"line_alpha\":0.1,\"line_color\":\"#1f77b4\",\"line_width\":1.5,\"x\":{\"field\":\"x\"},\"y\":{\"field\":\"y\"}},\"id\":\"9979\",\"type\":\"Line\"},{\"attributes\":{\"data_source\":{\"id\":\"9926\",\"type\":\"ColumnDataSource\"},\"glyph\":{\"id\":\"9927\",\"type\":\"Line\"},\"hover_glyph\":null,\"muted_glyph\":null,\"nonselection_glyph\":{\"id\":\"9928\",\"type\":\"Line\"},\"selection_glyph\":null,\"view\":{\"id\":\"9930\",\"type\":\"CDSView\"}},\"id\":\"9929\",\"type\":\"GlyphRenderer\"},{\"attributes\":{\"source\":{\"id\":\"9951\",\"type\":\"ColumnDataSource\"}},\"id\":\"9955\",\"type\":\"CDSView\"},{\"attributes\":{\"data_source\":{\"id\":\"10035\",\"type\":\"ColumnDataSource\"},\"glyph\":{\"id\":\"10036\",\"type\":\"Line\"},\"hover_glyph\":null,\"muted_glyph\":null,\"nonselection_glyph\":{\"id\":\"10037\",\"type\":\"Line\"},\"selection_glyph\":null,\"view\":{\"id\":\"10039\",\"type\":\"CDSView\"}},\"id\":\"10038\",\"type\":\"GlyphRenderer\"},{\"attributes\":{\"line_color\":\"lightsteelblue\",\"line_width\":1.5,\"x\":{\"field\":\"x\"},\"y\":{\"field\":\"y\"}},\"id\":\"9927\",\"type\":\"Line\"},{\"attributes\":{\"line_color\":\"darkslateblue\",\"line_width\":1.5,\"x\":{\"field\":\"x\"},\"y\":{\"field\":\"y\"}},\"id\":\"9978\",\"type\":\"Line\"},{\"attributes\":{},\"id\":\"10160\",\"type\":\"UnionRenderers\"},{\"attributes\":{\"data_source\":{\"id\":\"9977\",\"type\":\"ColumnDataSource\"},\"glyph\":{\"id\":\"9978\",\"type\":\"Line\"},\"hover_glyph\":null,\"muted_glyph\":null,\"nonselection_glyph\":{\"id\":\"9979\",\"type\":\"Line\"},\"selection_glyph\":null,\"view\":{\"id\":\"9981\",\"type\":\"CDSView\"}},\"id\":\"9980\",\"type\":\"GlyphRenderer\"},{\"attributes\":{},\"id\":\"9989\",\"type\":\"Selection\"},{\"attributes\":{\"label\":{\"value\":\"50-59\"},\"renderers\":[{\"id\":\"10008\",\"type\":\"GlyphRenderer\"}]},\"id\":\"10034\",\"type\":\"LegendItem\"},{\"attributes\":{},\"id\":\"10681\",\"type\":\"UnionRenderers\"},{\"attributes\":{\"data_source\":{\"id\":\"10067\",\"type\":\"ColumnDataSource\"},\"glyph\":{\"id\":\"10068\",\"type\":\"Line\"},\"hover_glyph\":null,\"muted_glyph\":null,\"nonselection_glyph\":{\"id\":\"10069\",\"type\":\"Line\"},\"selection_glyph\":null,\"view\":{\"id\":\"10071\",\"type\":\"CDSView\"}},\"id\":\"10070\",\"type\":\"GlyphRenderer\"},{\"attributes\":{\"label\":{\"value\":\"40-49\"},\"renderers\":[{\"id\":\"9980\",\"type\":\"GlyphRenderer\"}]},\"id\":\"10004\",\"type\":\"LegendItem\"},{\"attributes\":{\"source\":{\"id\":\"9977\",\"type\":\"ColumnDataSource\"}},\"id\":\"9981\",\"type\":\"CDSView\"},{\"attributes\":{\"mantissas\":[1,2,5],\"max_interval\":500.0,\"num_minor_ticks\":0},\"id\":\"9936\",\"type\":\"AdaptiveTicker\"},{\"attributes\":{},\"id\":\"9990\",\"type\":\"UnionRenderers\"},{\"attributes\":{\"data_source\":{\"id\":\"9951\",\"type\":\"ColumnDataSource\"},\"glyph\":{\"id\":\"9952\",\"type\":\"Line\"},\"hover_glyph\":null,\"muted_glyph\":null,\"nonselection_glyph\":{\"id\":\"9953\",\"type\":\"Line\"},\"selection_glyph\":null,\"view\":{\"id\":\"9955\",\"type\":\"CDSView\"}},\"id\":\"9954\",\"type\":\"GlyphRenderer\"},{\"attributes\":{\"base\":60,\"mantissas\":[1,2,5,10,15,20,30],\"max_interval\":1800000.0,\"min_interval\":1000.0,\"num_minor_ticks\":0},\"id\":\"9937\",\"type\":\"AdaptiveTicker\"},{\"attributes\":{\"data_source\":{\"id\":\"10005\",\"type\":\"ColumnDataSource\"},\"glyph\":{\"id\":\"10006\",\"type\":\"Line\"},\"hover_glyph\":null,\"muted_glyph\":null,\"nonselection_glyph\":{\"id\":\"10007\",\"type\":\"Line\"},\"selection_glyph\":null,\"view\":{\"id\":\"10009\",\"type\":\"CDSView\"}},\"id\":\"10008\",\"type\":\"GlyphRenderer\"},{\"attributes\":{\"line_color\":\"orange\",\"line_width\":1.5,\"x\":{\"field\":\"x\"},\"y\":{\"field\":\"y\"}},\"id\":\"10006\",\"type\":\"Line\"},{\"attributes\":{\"label\":{\"value\":\"70-79\"},\"renderers\":[{\"id\":\"10070\",\"type\":\"GlyphRenderer\"}]},\"id\":\"10100\",\"type\":\"LegendItem\"},{\"attributes\":{\"line_color\":\"lightskyblue\",\"line_width\":1.5,\"x\":{\"field\":\"x\"},\"y\":{\"field\":\"y\"}},\"id\":\"10138\",\"type\":\"Line\"},{\"attributes\":{\"data_source\":{\"id\":\"10101\",\"type\":\"ColumnDataSource\"},\"glyph\":{\"id\":\"10102\",\"type\":\"Line\"},\"hover_glyph\":null,\"muted_glyph\":null,\"nonselection_glyph\":{\"id\":\"10103\",\"type\":\"Line\"},\"selection_glyph\":null,\"view\":{\"id\":\"10105\",\"type\":\"CDSView\"}},\"id\":\"10104\",\"type\":\"GlyphRenderer\"},{\"attributes\":{},\"id\":\"9934\",\"type\":\"DatetimeTickFormatter\"},{\"attributes\":{\"source\":{\"id\":\"10067\",\"type\":\"ColumnDataSource\"}},\"id\":\"10071\",\"type\":\"CDSView\"},{\"attributes\":{\"line_color\":\"darkturquoise\",\"line_width\":1.5,\"x\":{\"field\":\"x\"},\"y\":{\"field\":\"y\"}},\"id\":\"10102\",\"type\":\"Line\"},{\"attributes\":{},\"id\":\"10085\",\"type\":\"Selection\"},{\"attributes\":{},\"id\":\"10051\",\"type\":\"Selection\"},{\"attributes\":{\"callback\":null,\"data\":{\"x\":[1609027200000.0,1609113600000.0,1609200000000.0,1609286400000.0,1609372800000.0,1609459200000.0,1609545600000.0,1609632000000.0,1609718400000.0,1609804800000.0,1609891200000.0,1609977600000.0,1610064000000.0,1610150400000.0,1610236800000.0,1610323200000.0,1610409600000.0,1610496000000.0,1610582400000.0,1610668800000.0,1610755200000.0,1610841600000.0,1610928000000.0,1611014400000.0,1611100800000.0,1611187200000.0,1611273600000.0,1611360000000.0,1611446400000.0,1611532800000.0,1611619200000.0,1611705600000.0,1611792000000.0,1611878400000.0,1611964800000.0,1612051200000.0,1612137600000.0,1612224000000.0,1612310400000.0,1612396800000.0,1612483200000.0,1612569600000.0,1612656000000.0,1612742400000.0,1612828800000.0,1612915200000.0,1613001600000.0,1613088000000.0,1613174400000.0,1613260800000.0,1613347200000.0,1613433600000.0,1613520000000.0,1613606400000.0,1613692800000.0,1613779200000.0,1613865600000.0,1613952000000.0,1614038400000.0,1614124800000.0,1614211200000.0,1614297600000.0,1614384000000.0,1614470400000.0,1614556800000.0,1614643200000.0,1614729600000.0,1614816000000.0,1614902400000.0,1614988800000.0,1615075200000.0,1615161600000.0,1615248000000.0,1615334400000.0,1615420800000.0,1615507200000.0,1615593600000.0,1615680000000.0,1615766400000.0,1615852800000.0,1615939200000.0,1616025600000.0,1616112000000.0,1616198400000.0,1616284800000.0,1616371200000.0,1616457600000.0,1616544000000.0,1616630400000.0,1616716800000.0,1616803200000.0,1616889600000.0,1616976000000.0,1617062400000.0,1617148800000.0,1617235200000.0,1617321600000.0,1617408000000.0,1617494400000.0,1617580800000.0,1617667200000.0,1617753600000.0,1617840000000.0,1617926400000.0,1618012800000.0,1618099200000.0,1618185600000.0,1618272000000.0,1618358400000.0,1618444800000.0,1618531200000.0,1618617600000.0,1618704000000.0,1618790400000.0,1618876800000.0,1618963200000.0,1619049600000.0,1619136000000.0,1619222400000.0,1619308800000.0,1619395200000.0,1619481600000.0,1619568000000.0,1619654400000.0,1619740800000.0],\"y\":[1461,1700,1886,2453,5991,7688,14271,20255,32260,46454,58342,73875,89959,106944,117632,130681,143694,157615,170733,183015,192925,198407,204335,208593,212460,217631,221319,228026,233889,245525,259674,272275,288141,304596,322279,332902,346554,360284,374945,390299,405122,416981,423209,431865,440143,449073,457703,465743,471848,474707,480434,486247,492212,498249,504112,508172,510391,515137,519373,525300,533613,544256,555555,564014,575792,593129,613266,633587,654580,674952,685231,701350,718541,736553,756521,776278,795488,806323,820973,827979,836855,846115,857051,869488,880152,894951,914372,937350,961387,985354,1008094,1024037,1044698,1068179,1093990,1119897,1145341,1167700,1176647,1190583,1215952,1243246,1276342,1313550,1349895,1376481,1409673,1449663,1493464,1547839,1613605,1683511,1734008,1793226,1861147,1934342,2013594,2103013,2194472,2270478,2364514,2463244,2568130,2718547,2858409]},\"selected\":{\"id\":\"10085\",\"type\":\"Selection\"},\"selection_policy\":{\"id\":\"10086\",\"type\":\"UnionRenderers\"}},\"id\":\"10035\",\"type\":\"ColumnDataSource\"},{\"attributes\":{},\"id\":\"10020\",\"type\":\"UnionRenderers\"},{\"attributes\":{\"callback\":null,\"data\":{\"x\":[1609027200000.0,1609113600000.0,1609200000000.0,1609286400000.0,1609372800000.0,1609459200000.0,1609545600000.0,1609632000000.0,1609718400000.0,1609804800000.0,1609891200000.0,1609977600000.0,1610064000000.0,1610150400000.0,1610236800000.0,1610323200000.0,1610409600000.0,1610496000000.0,1610582400000.0,1610668800000.0,1610755200000.0,1610841600000.0,1610928000000.0,1611014400000.0,1611100800000.0,1611187200000.0,1611273600000.0,1611360000000.0,1611446400000.0,1611532800000.0,1611619200000.0,1611705600000.0,1611792000000.0,1611878400000.0,1611964800000.0,1612051200000.0,1612137600000.0,1612224000000.0,1612310400000.0,1612396800000.0,1612483200000.0,1612569600000.0,1612656000000.0,1612742400000.0,1612828800000.0,1612915200000.0,1613001600000.0,1613088000000.0,1613174400000.0,1613260800000.0,1613347200000.0,1613433600000.0,1613520000000.0,1613606400000.0,1613692800000.0,1613779200000.0,1613865600000.0,1613952000000.0,1614038400000.0,1614124800000.0,1614211200000.0,1614297600000.0,1614384000000.0,1614470400000.0,1614556800000.0,1614643200000.0,1614729600000.0,1614816000000.0,1614902400000.0,1614988800000.0,1615075200000.0,1615161600000.0,1615248000000.0,1615334400000.0,1615420800000.0,1615507200000.0,1615593600000.0,1615680000000.0,1615766400000.0,1615852800000.0,1615939200000.0,1616025600000.0,1616112000000.0,1616198400000.0,1616284800000.0,1616371200000.0,1616457600000.0,1616544000000.0,1616630400000.0,1616716800000.0,1616803200000.0,1616889600000.0,1616976000000.0,1617062400000.0,1617148800000.0,1617235200000.0,1617321600000.0,1617408000000.0,1617494400000.0,1617580800000.0,1617667200000.0,1617753600000.0,1617840000000.0,1617926400000.0,1618012800000.0,1618099200000.0,1618185600000.0,1618272000000.0,1618358400000.0,1618444800000.0,1618531200000.0,1618617600000.0,1618704000000.0,1618790400000.0,1618876800000.0,1618963200000.0,1619049600000.0,1619136000000.0,1619222400000.0,1619308800000.0,1619395200000.0,1619481600000.0,1619568000000.0,1619654400000.0,1619740800000.0],\"y\":[685,851,930,1407,3795,4722,8241,11715,17689,24521,31109,38830,47864,56760,64237,72581,81224,91482,101862,112147,120239,125235,129469,132581,135104,137931,140082,143455,146708,152825,159462,166794,174685,184024,193113,200251,209345,218659,229705,241558,254055,263758,269640,276766,283770,292063,300642,309499,315315,318246,324680,330293,336921,344819,352939,358409,361276,367126,373136,379030,385200,392170,397952,401824,409072,418083,428622,440289,453033,463860,469363,479484,489455,500258,511754,523740,533103,538623,546989,551723,556426,560721,566375,572829,578784,586739,595220,604148,613652,623182,631908,637523,644990,652218,660661,668389,675947,680513,682387,686347,693416,700439,707603,715440,721638,726233,731080,735658,740640,746866,754057,760269,764196,769514,774761,780325,786976,794049,800546,805557,812122,819742,828422,841247,854316]},\"selected\":{\"id\":\"9961\",\"type\":\"Selection\"},\"selection_policy\":{\"id\":\"9962\",\"type\":\"UnionRenderers\"}},\"id\":\"9926\",\"type\":\"ColumnDataSource\"},{\"attributes\":{\"days\":[1,15]},\"id\":\"9942\",\"type\":\"DaysTicker\"},{\"attributes\":{},\"id\":\"9914\",\"type\":\"WheelZoomTool\"},{\"attributes\":{},\"id\":\"9932\",\"type\":\"BasicTickFormatter\"},{\"attributes\":{\"callback\":null,\"data\":{\"x\":[1609027200000.0,1609113600000.0,1609200000000.0,1609286400000.0,1609372800000.0,1609459200000.0,1609545600000.0,1609632000000.0,1609718400000.0,1609804800000.0,1609891200000.0,1609977600000.0,1610064000000.0,1610150400000.0,1610236800000.0,1610323200000.0,1610409600000.0,1610496000000.0,1610582400000.0,1610668800000.0,1610755200000.0,1610841600000.0,1610928000000.0,1611014400000.0,1611100800000.0,1611187200000.0,1611273600000.0,1611360000000.0,1611446400000.0,1611532800000.0,1611619200000.0,1611705600000.0,1611792000000.0,1611878400000.0,1611964800000.0,1612051200000.0,1612137600000.0,1612224000000.0,1612310400000.0,1612396800000.0,1612483200000.0,1612569600000.0,1612656000000.0,1612742400000.0,1612828800000.0,1612915200000.0,1613001600000.0,1613088000000.0,1613174400000.0,1613260800000.0,1613347200000.0,1613433600000.0,1613520000000.0,1613606400000.0,1613692800000.0,1613779200000.0,1613865600000.0,1613952000000.0,1614038400000.0,1614124800000.0,1614211200000.0,1614297600000.0,1614384000000.0,1614470400000.0,1614556800000.0,1614643200000.0,1614729600000.0,1614816000000.0,1614902400000.0,1614988800000.0,1615075200000.0,1615161600000.0,1615248000000.0,1615334400000.0,1615420800000.0,1615507200000.0,1615593600000.0,1615680000000.0,1615766400000.0,1615852800000.0,1615939200000.0,1616025600000.0,1616112000000.0,1616198400000.0,1616284800000.0,1616371200000.0,1616457600000.0,1616544000000.0,1616630400000.0,1616716800000.0,1616803200000.0,1616889600000.0,1616976000000.0,1617062400000.0,1617148800000.0,1617235200000.0,1617321600000.0,1617408000000.0,1617494400000.0,1617580800000.0,1617667200000.0,1617753600000.0,1617840000000.0,1617926400000.0,1618012800000.0,1618099200000.0,1618185600000.0,1618272000000.0,1618358400000.0,1618444800000.0,1618531200000.0,1618617600000.0,1618704000000.0,1618790400000.0,1618876800000.0,1618963200000.0,1619049600000.0,1619136000000.0,1619222400000.0,1619308800000.0,1619395200000.0,1619481600000.0,1619568000000.0,1619654400000.0,1619740800000.0],\"y\":[1066,1320,1513,2371,6665,8638,15578,21716,33867,47599,58898,74029,89463,103024,112973,125030,136941,150723,163979,176502,185298,190098,195940,200219,204239,209590,213374,219945,225793,237742,251484,263376,278596,294203,308379,318297,331231,343942,358533,373809,389357,400079,405702,414275,422749,431954,441634,452074,459750,464489,472315,480627,489758,499472,509289,517191,521852,530561,539405,548640,558160,569495,579499,585330,595703,608997,623995,640242,658558,674918,683898,699491,715524,731689,748334,764460,778184,786636,798370,803853,809263,814317,822142,831857,839941,851218,863677,876579,889984,903578,915413,923010,932821,943079,953738,963769,973445,979511,982157,987194,996391,1005455,1014827,1025001,1032967,1038765,1044995,1051322,1057955,1066202,1075125,1083507,1088851,1095769,1102580,1109879,1119085,1128937,1137921,1144268,1152523,1162095,1172671,1187657,1203292]},\"selected\":{\"id\":\"9989\",\"type\":\"Selection\"},\"selection_policy\":{\"id\":\"9990\",\"type\":\"UnionRenderers\"}},\"id\":\"9951\",\"type\":\"ColumnDataSource\"},{\"attributes\":{\"label\":{\"value\":\"20-29\"},\"renderers\":[{\"id\":\"9929\",\"type\":\"GlyphRenderer\"}]},\"id\":\"9950\",\"type\":\"LegendItem\"},{\"attributes\":{\"callback\":null,\"data\":{\"x\":[1609286400000.0,1609372800000.0,1609459200000.0,1609545600000.0,1609718400000.0,1609804800000.0,1609891200000.0,1609977600000.0,1610064000000.0,1610150400000.0,1610236800000.0,1610323200000.0,1610409600000.0,1610496000000.0,1610582400000.0,1610668800000.0,1610755200000.0,1610841600000.0,1610928000000.0,1611014400000.0,1611100800000.0,1611187200000.0,1611273600000.0,1611360000000.0,1611446400000.0,1611532800000.0,1611619200000.0,1611705600000.0,1611792000000.0,1611878400000.0,1611964800000.0,1612051200000.0,1612137600000.0,1612224000000.0,1612310400000.0,1612396800000.0,1612483200000.0,1612569600000.0,1612656000000.0,1612742400000.0,1612828800000.0,1612915200000.0,1613001600000.0,1613088000000.0,1613174400000.0,1613260800000.0,1613347200000.0,1613433600000.0,1613520000000.0,1613606400000.0,1613692800000.0,1613779200000.0,1613865600000.0,1613952000000.0,1614038400000.0,1614124800000.0,1614211200000.0,1614297600000.0,1614384000000.0,1614470400000.0,1614556800000.0,1614643200000.0,1614729600000.0,1614816000000.0,1614902400000.0,1614988800000.0,1615075200000.0,1615161600000.0,1615248000000.0,1615334400000.0,1615420800000.0,1615507200000.0,1615593600000.0,1615680000000.0,1615766400000.0,1615852800000.0,1615939200000.0,1616025600000.0,1616112000000.0,1616198400000.0,1616284800000.0,1616371200000.0,1616457600000.0,1616544000000.0,1616630400000.0,1616716800000.0,1616803200000.0,1616889600000.0,1616976000000.0,1617062400000.0,1617148800000.0,1617235200000.0,1617321600000.0,1617408000000.0,1617494400000.0,1617580800000.0,1617667200000.0,1617753600000.0,1617840000000.0,1617926400000.0,1618012800000.0,1618099200000.0,1618185600000.0,1618272000000.0,1618358400000.0,1618444800000.0,1618531200000.0,1618617600000.0,1618704000000.0,1618790400000.0,1618876800000.0,1618963200000.0,1619049600000.0,1619136000000.0,1619222400000.0,1619308800000.0,1619395200000.0,1619481600000.0,1619568000000.0,1619654400000.0,1619740800000.0],\"y\":[2,25,27,46,58,80,118,149,192,270,414,497,564,711,846,947,1093,1176,1237,1276,1305,1334,1363,1384,1392,1402,1419,1464,1502,1549,1614,1747,1843,1916,2051,2213,2348,2539,2652,2737,2818,2920,3017,3127,3233,3275,3381,3446,3512,3595,3703,3761,3793,3876,3964,4062,4169,4293,4415,4482,4576,4692,4859,5004,5211,5422,5539,5790,5972,6144,6401,6589,6730,6843,7028,7204,7434,7652,7937,8191,8364,8627,8950,9297,9719,10238,10658,10945,11340,11736,12229,12818,13401,13807,14035,14421,14945,15524,16137,16876,17709,18357,19047,19608,20230,21137,22048,23043,23776,24542,25278,26146,27180,28318,29372,30242,31309,32537,33792,35674,37403]},\"selected\":{\"id\":\"10680\",\"type\":\"Selection\"},\"selection_policy\":{\"id\":\"10681\",\"type\":\"UnionRenderers\"}},\"id\":\"10175\",\"type\":\"ColumnDataSource\"},{\"attributes\":{\"line_alpha\":0.1,\"line_color\":\"#1f77b4\",\"line_width\":1.5,\"x\":{\"field\":\"x\"},\"y\":{\"field\":\"y\"}},\"id\":\"10177\",\"type\":\"Line\"},{\"attributes\":{},\"id\":\"10199\",\"type\":\"Selection\"},{\"attributes\":{},\"id\":\"9901\",\"type\":\"LinearScale\"},{\"attributes\":{\"line_alpha\":0.1,\"line_color\":\"#1f77b4\",\"line_width\":1.5,\"x\":{\"field\":\"x\"},\"y\":{\"field\":\"y\"}},\"id\":\"10007\",\"type\":\"Line\"},{\"attributes\":{\"label\":{\"value\":\"16-19\"},\"renderers\":[{\"id\":\"10178\",\"type\":\"GlyphRenderer\"}]},\"id\":\"10214\",\"type\":\"LegendItem\"},{\"attributes\":{\"source\":{\"id\":\"10175\",\"type\":\"ColumnDataSource\"}},\"id\":\"10179\",\"type\":\"CDSView\"},{\"attributes\":{\"dimensions\":\"width\"},\"id\":\"10217\",\"type\":\"PanTool\"},{\"attributes\":{\"days\":[1,4,7,10,13,16,19,22,25,28]},\"id\":\"9940\",\"type\":\"DaysTicker\"},{\"attributes\":{\"months\":[0,1,2,3,4,5,6,7,8,9,10,11]},\"id\":\"9943\",\"type\":\"MonthsTicker\"},{\"attributes\":{\"months\":[0,4,8]},\"id\":\"9945\",\"type\":\"MonthsTicker\"},{\"attributes\":{\"num_minor_ticks\":5,\"tickers\":[{\"id\":\"9936\",\"type\":\"AdaptiveTicker\"},{\"id\":\"9937\",\"type\":\"AdaptiveTicker\"},{\"id\":\"9938\",\"type\":\"AdaptiveTicker\"},{\"id\":\"9939\",\"type\":\"DaysTicker\"},{\"id\":\"9940\",\"type\":\"DaysTicker\"},{\"id\":\"9941\",\"type\":\"DaysTicker\"},{\"id\":\"9942\",\"type\":\"DaysTicker\"},{\"id\":\"9943\",\"type\":\"MonthsTicker\"},{\"id\":\"9944\",\"type\":\"MonthsTicker\"},{\"id\":\"9945\",\"type\":\"MonthsTicker\"},{\"id\":\"9946\",\"type\":\"MonthsTicker\"},{\"id\":\"9947\",\"type\":\"YearsTicker\"}]},\"id\":\"9904\",\"type\":\"DatetimeTicker\"},{\"attributes\":{\"days\":[1,8,15,22]},\"id\":\"9941\",\"type\":\"DaysTicker\"},{\"attributes\":{},\"id\":\"10052\",\"type\":\"UnionRenderers\"},{\"attributes\":{\"months\":[0,6]},\"id\":\"9946\",\"type\":\"MonthsTicker\"},{\"attributes\":{},\"id\":\"9947\",\"type\":\"YearsTicker\"},{\"attributes\":{\"active_drag\":\"auto\",\"active_inspect\":\"auto\",\"active_multi\":null,\"active_scroll\":\"auto\",\"active_tap\":\"auto\",\"tools\":[{\"id\":\"9913\",\"type\":\"PanTool\"},{\"id\":\"9914\",\"type\":\"WheelZoomTool\"},{\"id\":\"9915\",\"type\":\"BoxZoomTool\"},{\"id\":\"9916\",\"type\":\"SaveTool\"},{\"id\":\"9917\",\"type\":\"ResetTool\"},{\"id\":\"9918\",\"type\":\"HelpTool\"},{\"id\":\"10215\",\"type\":\"HoverTool\"},{\"id\":\"10217\",\"type\":\"PanTool\"}]},\"id\":\"9919\",\"type\":\"Toolbar\"},{\"attributes\":{\"months\":[0,2,4,6,8,10]},\"id\":\"9944\",\"type\":\"MonthsTicker\"},{\"attributes\":{\"line_color\":\"lightgrey\",\"line_width\":1.5,\"x\":{\"field\":\"x\"},\"y\":{\"field\":\"y\"}},\"id\":\"9952\",\"type\":\"Line\"},{\"attributes\":{\"callback\":null,\"start\":1609027200000.0},\"id\":\"9895\",\"type\":\"DataRange1d\"},{\"attributes\":{},\"id\":\"10019\",\"type\":\"Selection\"},{\"attributes\":{\"line_alpha\":0.1,\"line_color\":\"#1f77b4\",\"line_width\":1.5,\"x\":{\"field\":\"x\"},\"y\":{\"field\":\"y\"}},\"id\":\"10069\",\"type\":\"Line\"},{\"attributes\":{},\"id\":\"10122\",\"type\":\"UnionRenderers\"},{\"attributes\":{\"line_color\":\"skyblue\",\"line_width\":1.5,\"x\":{\"field\":\"x\"},\"y\":{\"field\":\"y\"}},\"id\":\"10176\",\"type\":\"Line\"},{\"attributes\":{},\"id\":\"9918\",\"type\":\"HelpTool\"},{\"attributes\":{\"base\":24,\"mantissas\":[1,2,4,6,8,12],\"max_interval\":43200000.0,\"min_interval\":3600000.0,\"num_minor_ticks\":0},\"id\":\"9938\",\"type\":\"AdaptiveTicker\"},{\"attributes\":{},\"id\":\"10200\",\"type\":\"UnionRenderers\"},{\"attributes\":{\"source\":{\"id\":\"10137\",\"type\":\"ColumnDataSource\"}},\"id\":\"10141\",\"type\":\"CDSView\"},{\"attributes\":{\"callback\":null,\"data\":{\"x\":[1609027200000.0,1609200000000.0,1609286400000.0,1609372800000.0,1609459200000.0,1609545600000.0,1609632000000.0,1609718400000.0,1609804800000.0,1609891200000.0,1609977600000.0,1610064000000.0,1610150400000.0,1610236800000.0,1610323200000.0,1610409600000.0,1610496000000.0,1610582400000.0,1610668800000.0,1610755200000.0,1610841600000.0,1610928000000.0,1611014400000.0,1611100800000.0,1611187200000.0,1611273600000.0,1611360000000.0,1611446400000.0,1611532800000.0,1611619200000.0,1611705600000.0,1611792000000.0,1611878400000.0,1611964800000.0,1612051200000.0,1612137600000.0,1612224000000.0,1612310400000.0,1612396800000.0,1612483200000.0,1612569600000.0,1612656000000.0,1612742400000.0,1612828800000.0,1612915200000.0,1613001600000.0,1613088000000.0,1613174400000.0,1613260800000.0,1613347200000.0,1613433600000.0,1613520000000.0,1613606400000.0,1613692800000.0,1613779200000.0,1613865600000.0,1613952000000.0,1614038400000.0,1614124800000.0,1614211200000.0,1614297600000.0,1614384000000.0,1614470400000.0,1614556800000.0,1614643200000.0,1614729600000.0,1614816000000.0,1614902400000.0,1614988800000.0,1615075200000.0,1615161600000.0,1615248000000.0,1615334400000.0,1615420800000.0,1615507200000.0,1615593600000.0,1615680000000.0,1615766400000.0,1615852800000.0,1615939200000.0,1616025600000.0,1616112000000.0,1616198400000.0,1616284800000.0,1616371200000.0,1616457600000.0,1616544000000.0,1616630400000.0,1616716800000.0,1616803200000.0,1616889600000.0,1616976000000.0,1617062400000.0,1617148800000.0,1617235200000.0,1617321600000.0,1617408000000.0,1617494400000.0,1617580800000.0,1617667200000.0,1617753600000.0,1617840000000.0,1617926400000.0,1618012800000.0,1618099200000.0,1618185600000.0,1618272000000.0,1618358400000.0,1618444800000.0,1618531200000.0,1618617600000.0,1618704000000.0,1618790400000.0,1618876800000.0,1618963200000.0,1619049600000.0,1619136000000.0,1619222400000.0,1619308800000.0,1619395200000.0,1619481600000.0,1619568000000.0,1619654400000.0,1619740800000.0],\"y\":[77,86,183,974,1300,2051,2583,3940,5744,7167,10023,12749,15196,16572,19470,23176,28299,34148,39533,42953,44758,48117,51134,53854,56038,58010,59205,59787,61490,63593,65544,68321,71086,73318,74379,77561,81664,86909,93089,99043,102741,104276,108935,114119,119326,124786,129419,132133,133249,136524,141393,147680,156349,164123,171049,176170,185437,196606,212317,225982,238284,248966,255578,266169,278562,297615,317945,334950,346851,353146,369064,383608,403344,424548,442963,456898,464552,478810,499354,523866,544898,563198,577816,586950,603220,619684,644348,671011,694335,713083,722667,743625,764654,791964,816179,837365,853172,856888,866452,885197,906026,927013,946329,966673,975344,989138,1002104,1016939,1033912,1050506,1065721,1073590,1085761,1099910,1118192,1134255,1150358,1163924,1169663,1179186,1189651,1201946,1215673,1228007]},\"selected\":{\"id\":\"10199\",\"type\":\"Selection\"},\"selection_policy\":{\"id\":\"10200\",\"type\":\"UnionRenderers\"}},\"id\":\"10137\",\"type\":\"ColumnDataSource\"},{\"attributes\":{\"axis_label\":\"total\",\"formatter\":{\"id\":\"9932\",\"type\":\"BasicTickFormatter\"},\"ticker\":{\"id\":\"9909\",\"type\":\"BasicTicker\"}},\"id\":\"9908\",\"type\":\"LinearAxis\"},{\"attributes\":{\"line_alpha\":0.1,\"line_color\":\"#1f77b4\",\"line_width\":1.5,\"x\":{\"field\":\"x\"},\"y\":{\"field\":\"y\"}},\"id\":\"10103\",\"type\":\"Line\"},{\"attributes\":{},\"id\":\"9913\",\"type\":\"PanTool\"},{\"attributes\":{\"bottom_units\":\"screen\",\"fill_alpha\":{\"value\":0.5},\"fill_color\":{\"value\":\"lightgrey\"},\"left_units\":\"screen\",\"level\":\"overlay\",\"line_alpha\":{\"value\":1.0},\"line_color\":{\"value\":\"black\"},\"line_dash\":[4,4],\"line_width\":{\"value\":2},\"render_mode\":\"css\",\"right_units\":\"screen\",\"top_units\":\"screen\"},\"id\":\"9948\",\"type\":\"BoxAnnotation\"},{\"attributes\":{\"line_alpha\":0.1,\"line_color\":\"#1f77b4\",\"line_width\":1.5,\"x\":{\"field\":\"x\"},\"y\":{\"field\":\"y\"}},\"id\":\"9928\",\"type\":\"Line\"},{\"attributes\":{\"line_color\":\"mediumslateblue\",\"line_width\":1.5,\"x\":{\"field\":\"x\"},\"y\":{\"field\":\"y\"}},\"id\":\"10036\",\"type\":\"Line\"},{\"attributes\":{\"label\":{\"value\":\"90+\"},\"renderers\":[{\"id\":\"10140\",\"type\":\"GlyphRenderer\"}]},\"id\":\"10174\",\"type\":\"LegendItem\"},{\"attributes\":{},\"id\":\"9917\",\"type\":\"ResetTool\"},{\"attributes\":{\"source\":{\"id\":\"10035\",\"type\":\"ColumnDataSource\"}},\"id\":\"10039\",\"type\":\"CDSView\"},{\"attributes\":{\"dimension\":1,\"ticker\":{\"id\":\"9909\",\"type\":\"BasicTicker\"}},\"id\":\"9912\",\"type\":\"Grid\"},{\"attributes\":{\"callback\":null,\"data\":{\"x\":[1609027200000.0,1609200000000.0,1609286400000.0,1609372800000.0,1609459200000.0,1609545600000.0,1609632000000.0,1609718400000.0,1609804800000.0,1609891200000.0,1609977600000.0,1610064000000.0,1610150400000.0,1610236800000.0,1610323200000.0,1610409600000.0,1610496000000.0,1610582400000.0,1610668800000.0,1610755200000.0,1610841600000.0,1610928000000.0,1611014400000.0,1611100800000.0,1611187200000.0,1611273600000.0,1611360000000.0,1611446400000.0,1611532800000.0,1611619200000.0,1611705600000.0,1611792000000.0,1611878400000.0,1611964800000.0,1612051200000.0,1612137600000.0,1612224000000.0,1612310400000.0,1612396800000.0,1612483200000.0,1612569600000.0,1612656000000.0,1612742400000.0,1612828800000.0,1612915200000.0,1613001600000.0,1613088000000.0,1613174400000.0,1613260800000.0,1613347200000.0,1613433600000.0,1613520000000.0,1613606400000.0,1613692800000.0,1613779200000.0,1613865600000.0,1613952000000.0,1614038400000.0,1614124800000.0,1614211200000.0,1614297600000.0,1614384000000.0,1614470400000.0,1614556800000.0,1614643200000.0,1614729600000.0,1614816000000.0,1614902400000.0,1614988800000.0,1615075200000.0,1615161600000.0,1615248000000.0,1615334400000.0,1615420800000.0,1615507200000.0,1615593600000.0,1615680000000.0,1615766400000.0,1615852800000.0,1615939200000.0,1616025600000.0,1616112000000.0,1616198400000.0,1616284800000.0,1616371200000.0,1616457600000.0,1616544000000.0,1616630400000.0,1616716800000.0,1616803200000.0,1616889600000.0,1616976000000.0,1617062400000.0,1617148800000.0,1617235200000.0,1617321600000.0,1617408000000.0,1617494400000.0,1617580800000.0,1617667200000.0,1617753600000.0,1617840000000.0,1617926400000.0,1618012800000.0,1618099200000.0,1618185600000.0,1618272000000.0,1618358400000.0,1618444800000.0,1618531200000.0,1618617600000.0,1618704000000.0,1618790400000.0,1618876800000.0,1618963200000.0,1619049600000.0,1619136000000.0,1619222400000.0,1619308800000.0,1619395200000.0,1619481600000.0,1619568000000.0,1619654400000.0,1619740800000.0],\"y\":[129,137,231,803,988,1587,2120,3244,4818,6515,8845,11526,14575,16798,19843,23469,27626,32032,36234,39906,41809,44107,46117,47983,49420,50633,51595,52309,53665,55444,57390,59773,62541,65627,67720,70986,74911,79333,84410,89435,93679,95904,99259,102870,107070,111030,114818,117465,118855,121816,124538,127598,130590,133327,135241,136292,138431,140543,142914,145177,147520,149681,150990,153628,156791,162428,168697,175844,181677,184416,189400,194665,200170,208425,216216,225283,231642,241623,247601,255489,265522,280517,303034,321766,349440,384446,417735,458311,505519,548090,583990,635847,694014,754387,807347,873487,931135,970675,1026428,1116854,1212840,1303095,1393952,1490758,1553408,1670535,1798175,1935171,2070302,2221700,2365463,2466414,2599609,2737596,2885966,3036406,3183293,3323725,3432987,3563401,3696539,3831406,3990905,4141513]},\"selected\":{\"id\":\"10121\",\"type\":\"Selection\"},\"selection_policy\":{\"id\":\"10122\",\"type\":\"UnionRenderers\"}},\"id\":\"10067\",\"type\":\"ColumnDataSource\"},{\"attributes\":{\"source\":{\"id\":\"9926\",\"type\":\"ColumnDataSource\"}},\"id\":\"9930\",\"type\":\"CDSView\"},{\"attributes\":{},\"id\":\"10121\",\"type\":\"Selection\"},{\"attributes\":{},\"id\":\"9899\",\"type\":\"LinearScale\"},{\"attributes\":{\"label\":{\"value\":\"60-69\"},\"renderers\":[{\"id\":\"10038\",\"type\":\"GlyphRenderer\"}]},\"id\":\"10066\",\"type\":\"LegendItem\"},{\"attributes\":{\"label\":{\"value\":\"80-89\"},\"renderers\":[{\"id\":\"10104\",\"type\":\"GlyphRenderer\"}]},\"id\":\"10136\",\"type\":\"LegendItem\"},{\"attributes\":{},\"id\":\"9916\",\"type\":\"SaveTool\"},{\"attributes\":{\"source\":{\"id\":\"10005\",\"type\":\"ColumnDataSource\"}},\"id\":\"10009\",\"type\":\"CDSView\"},{\"attributes\":{\"callback\":null,\"formatters\":{\"x\":\"datetime\"},\"tooltips\":[[\"data\",\"@x{%F}\"],[\"total\",\"@y\"]]},\"id\":\"10215\",\"type\":\"HoverTool\"},{\"attributes\":{},\"id\":\"9909\",\"type\":\"BasicTicker\"},{\"attributes\":{\"data_source\":{\"id\":\"10175\",\"type\":\"ColumnDataSource\"},\"glyph\":{\"id\":\"10176\",\"type\":\"Line\"},\"hover_glyph\":null,\"muted_glyph\":null,\"nonselection_glyph\":{\"id\":\"10177\",\"type\":\"Line\"},\"selection_glyph\":null,\"view\":{\"id\":\"10179\",\"type\":\"CDSView\"}},\"id\":\"10178\",\"type\":\"GlyphRenderer\"},{\"attributes\":{\"text\":\"trend for the daily vaccines done by range of age\"},\"id\":\"9893\",\"type\":\"Title\"},{\"attributes\":{\"data_source\":{\"id\":\"10137\",\"type\":\"ColumnDataSource\"},\"glyph\":{\"id\":\"10138\",\"type\":\"Line\"},\"hover_glyph\":null,\"muted_glyph\":null,\"nonselection_glyph\":{\"id\":\"10139\",\"type\":\"Line\"},\"selection_glyph\":null,\"view\":{\"id\":\"10141\",\"type\":\"CDSView\"}},\"id\":\"10140\",\"type\":\"GlyphRenderer\"},{\"attributes\":{\"callback\":null},\"id\":\"9897\",\"type\":\"DataRange1d\"},{\"attributes\":{\"line_alpha\":0.1,\"line_color\":\"#1f77b4\",\"line_width\":1.5,\"x\":{\"field\":\"x\"},\"y\":{\"field\":\"y\"}},\"id\":\"10139\",\"type\":\"Line\"},{\"attributes\":{\"axis_label\":\"date\",\"formatter\":{\"id\":\"9934\",\"type\":\"DatetimeTickFormatter\"},\"ticker\":{\"id\":\"9904\",\"type\":\"DatetimeTicker\"}},\"id\":\"9903\",\"type\":\"DatetimeAxis\"},{\"attributes\":{\"ticker\":{\"id\":\"9904\",\"type\":\"DatetimeTicker\"}},\"id\":\"9907\",\"type\":\"Grid\"},{\"attributes\":{\"line_alpha\":0.1,\"line_color\":\"#1f77b4\",\"line_width\":1.5,\"x\":{\"field\":\"x\"},\"y\":{\"field\":\"y\"}},\"id\":\"10037\",\"type\":\"Line\"},{\"attributes\":{\"source\":{\"id\":\"10101\",\"type\":\"ColumnDataSource\"}},\"id\":\"10105\",\"type\":\"CDSView\"},{\"attributes\":{\"overlay\":{\"id\":\"9948\",\"type\":\"BoxAnnotation\"}},\"id\":\"9915\",\"type\":\"BoxZoomTool\"},{\"attributes\":{\"callback\":null,\"data\":{\"x\":[1609027200000.0,1609113600000.0,1609200000000.0,1609286400000.0,1609372800000.0,1609459200000.0,1609545600000.0,1609632000000.0,1609718400000.0,1609804800000.0,1609891200000.0,1609977600000.0,1610064000000.0,1610150400000.0,1610236800000.0,1610323200000.0,1610409600000.0,1610496000000.0,1610582400000.0,1610668800000.0,1610755200000.0,1610841600000.0,1610928000000.0,1611014400000.0,1611100800000.0,1611187200000.0,1611273600000.0,1611360000000.0,1611446400000.0,1611532800000.0,1611619200000.0,1611705600000.0,1611792000000.0,1611878400000.0,1611964800000.0,1612051200000.0,1612137600000.0,1612224000000.0,1612310400000.0,1612396800000.0,1612483200000.0,1612569600000.0,1612656000000.0,1612742400000.0,1612828800000.0,1612915200000.0,1613001600000.0,1613088000000.0,1613174400000.0,1613260800000.0,1613347200000.0,1613433600000.0,1613520000000.0,1613606400000.0,1613692800000.0,1613779200000.0,1613865600000.0,1613952000000.0,1614038400000.0,1614124800000.0,1614211200000.0,1614297600000.0,1614384000000.0,1614470400000.0,1614556800000.0,1614643200000.0,1614729600000.0,1614816000000.0,1614902400000.0,1614988800000.0,1615075200000.0,1615161600000.0,1615248000000.0,1615334400000.0,1615420800000.0,1615507200000.0,1615593600000.0,1615680000000.0,1615766400000.0,1615852800000.0,1615939200000.0,1616025600000.0,1616112000000.0,1616198400000.0,1616284800000.0,1616371200000.0,1616457600000.0,1616544000000.0,1616630400000.0,1616716800000.0,1616803200000.0,1616889600000.0,1616976000000.0,1617062400000.0,1617148800000.0,1617235200000.0,1617321600000.0,1617408000000.0,1617494400000.0,1617580800000.0,1617667200000.0,1617753600000.0,1617840000000.0,1617926400000.0,1618012800000.0,1618099200000.0,1618185600000.0,1618272000000.0,1618358400000.0,1618444800000.0,1618531200000.0,1618617600000.0,1618704000000.0,1618790400000.0,1618876800000.0,1618963200000.0,1619049600000.0,1619136000000.0,1619222400000.0,1619308800000.0,1619395200000.0,1619481600000.0,1619568000000.0,1619654400000.0,1619740800000.0],\"y\":[2166,2579,2887,4145,11264,14488,25329,35442,55468,78508,96353,122799,149706,172249,187536,209587,230898,254646,277328,298754,312913,320812,330673,337436,344071,352900,359267,369681,379232,398916,421699,440708,467662,495063,518697,534129,557034,579694,604294,630327,655621,672504,681434,695505,708693,722588,736680,750145,759516,764384,774530,785017,796948,810584,825539,836937,842945,857439,871650,887223,904982,927413,949453,962539,985247,1014749,1046307,1079873,1116308,1147465,1165123,1195127,1226287,1256829,1288472,1320317,1346803,1362151,1383736,1392451,1401998,1411409,1424353,1441307,1455027,1474858,1497553,1522216,1547791,1572942,1594652,1609158,1628552,1648937,1671255,1691841,1712098,1726798,1732368,1743112,1763060,1783403,1805781,1830506,1852396,1867920,1884010,1900355,1918588,1941791,1967623,1992879,2009838,2029817,2049620,2071314,2097689,2127051,2154439,2173032,2198004,2226061,2258137,2304919,2357522]},\"selected\":{\"id\":\"10051\",\"type\":\"Selection\"},\"selection_policy\":{\"id\":\"10052\",\"type\":\"UnionRenderers\"}},\"id\":\"10005\",\"type\":\"ColumnDataSource\"},{\"attributes\":{\"callback\":null,\"data\":{\"x\":[1609027200000.0,1609113600000.0,1609200000000.0,1609286400000.0,1609372800000.0,1609459200000.0,1609545600000.0,1609632000000.0,1609718400000.0,1609804800000.0,1609891200000.0,1609977600000.0,1610064000000.0,1610150400000.0,1610236800000.0,1610323200000.0,1610409600000.0,1610496000000.0,1610582400000.0,1610668800000.0,1610755200000.0,1610841600000.0,1610928000000.0,1611014400000.0,1611100800000.0,1611187200000.0,1611273600000.0,1611360000000.0,1611446400000.0,1611532800000.0,1611619200000.0,1611705600000.0,1611792000000.0,1611878400000.0,1611964800000.0,1612051200000.0,1612137600000.0,1612224000000.0,1612310400000.0,1612396800000.0,1612483200000.0,1612569600000.0,1612656000000.0,1612742400000.0,1612828800000.0,1612915200000.0,1613001600000.0,1613088000000.0,1613174400000.0,1613260800000.0,1613347200000.0,1613433600000.0,1613520000000.0,1613606400000.0,1613692800000.0,1613779200000.0,1613865600000.0,1613952000000.0,1614038400000.0,1614124800000.0,1614211200000.0,1614297600000.0,1614384000000.0,1614470400000.0,1614556800000.0,1614643200000.0,1614729600000.0,1614816000000.0,1614902400000.0,1614988800000.0,1615075200000.0,1615161600000.0,1615248000000.0,1615334400000.0,1615420800000.0,1615507200000.0,1615593600000.0,1615680000000.0,1615766400000.0,1615852800000.0,1615939200000.0,1616025600000.0,1616112000000.0,1616198400000.0,1616284800000.0,1616371200000.0,1616457600000.0,1616544000000.0,1616630400000.0,1616716800000.0,1616803200000.0,1616889600000.0,1616976000000.0,1617062400000.0,1617148800000.0,1617235200000.0,1617321600000.0,1617408000000.0,1617494400000.0,1617580800000.0,1617667200000.0,1617753600000.0,1617840000000.0,1617926400000.0,1618012800000.0,1618099200000.0,1618185600000.0,1618272000000.0,1618358400000.0,1618444800000.0,1618531200000.0,1618617600000.0,1618704000000.0,1618790400000.0,1618876800000.0,1618963200000.0,1619049600000.0,1619136000000.0,1619222400000.0,1619308800000.0,1619395200000.0,1619481600000.0,1619568000000.0,1619654400000.0,1619740800000.0],\"y\":[118,119,128,287,1325,1608,2412,3009,4487,6345,7880,11037,14148,17089,18834,22602,26872,32662,39539,46827,52560,56594,61200,65288,68862,71584,73907,75322,76175,78130,80528,82785,85909,89267,92183,93690,97713,102602,108794,116535,124966,131383,135426,144914,155292,167034,179256,191044,200115,206137,222811,244979,270161,297303,325559,354495,376904,422660,468293,520858,576395,629507,677166,706550,759672,814656,876062,939147,1002130,1057750,1093652,1155601,1228176,1314544,1400042,1478459,1542063,1581405,1654988,1735473,1832290,1929428,2022876,2100719,2153210,2231992,2321297,2427037,2532043,2635241,2730845,2792830,2887033,2996368,3126407,3252599,3366543,3463628,3492580,3555392,3652370,3777990,3911290,4036693,4150770,4217751,4280562,4348635,4429258,4518342,4603252,4673913,4718827,4778024,4844836,4927337,5016717,5098902,5175053,5207603,5259641,5321252,5399608,5489287,5570549]},\"selected\":{\"id\":\"10159\",\"type\":\"Selection\"},\"selection_policy\":{\"id\":\"10160\",\"type\":\"UnionRenderers\"}},\"id\":\"10101\",\"type\":\"ColumnDataSource\"},{\"attributes\":{\"items\":[{\"id\":\"9950\",\"type\":\"LegendItem\"},{\"id\":\"9976\",\"type\":\"LegendItem\"},{\"id\":\"10004\",\"type\":\"LegendItem\"},{\"id\":\"10034\",\"type\":\"LegendItem\"},{\"id\":\"10066\",\"type\":\"LegendItem\"},{\"id\":\"10100\",\"type\":\"LegendItem\"},{\"id\":\"10136\",\"type\":\"LegendItem\"},{\"id\":\"10174\",\"type\":\"LegendItem\"},{\"id\":\"10214\",\"type\":\"LegendItem\"}],\"location\":\"top_left\"},\"id\":\"9949\",\"type\":\"Legend\"},{\"attributes\":{\"line_color\":\"gray\",\"line_width\":1.5,\"x\":{\"field\":\"x\"},\"y\":{\"field\":\"y\"}},\"id\":\"10068\",\"type\":\"Line\"},{\"attributes\":{},\"id\":\"10086\",\"type\":\"UnionRenderers\"}],\"root_ids\":[\"9892\"]},\"title\":\"Bokeh Application\",\"version\":\"1.4.0\"}};\n",
       "  var render_items = [{\"docid\":\"c9d998a4-0aa9-40bf-bc9a-08502485e957\",\"roots\":{\"9892\":\"c900aaa5-2d14-42dd-99a3-241952251259\"}}];\n",
       "  root.Bokeh.embed.embed_items_notebook(docs_json, render_items);\n",
       "\n",
       "  }\n",
       "  if (root.Bokeh !== undefined) {\n",
       "    embed_document(root);\n",
       "  } else {\n",
       "    var attempts = 0;\n",
       "    var timer = setInterval(function(root) {\n",
       "      if (root.Bokeh !== undefined) {\n",
       "        clearInterval(timer);\n",
       "        embed_document(root);\n",
       "      } else {\n",
       "        attempts++;\n",
       "        if (attempts > 100) {\n",
       "          clearInterval(timer);\n",
       "          console.log(\"Bokeh: ERROR: Unable to run BokehJS code because BokehJS library is missing\");\n",
       "        }\n",
       "      }\n",
       "    }, 10, root)\n",
       "  }\n",
       "})(window);"
      ],
      "application/vnd.bokehjs_exec.v0+json": ""
     },
     "metadata": {
      "application/vnd.bokehjs_exec.v0+json": {
       "id": "9892"
      }
     },
     "output_type": "display_data"
    }
   ],
   "source": [
    "fig = figure(title='trend for the daily vaccines done by range of age', \n",
    "             width=1000, \n",
    "             height=400,\n",
    "             x_axis_label='date',\n",
    "             y_axis_label='total',\n",
    "             x_axis_type='datetime')\n",
    "\n",
    "for p in fasce:\n",
    "    df_filtered = dati_vaccini.query('fascia_anagrafica==@p')[['data_somministrazione', 'totale_somministrazioni']].groupby('data_somministrazione').sum().cumsum()\n",
    "    fig.line(df_filtered.index, \n",
    "             df_filtered['totale_somministrazioni'], \n",
    "             color=colors[fasce.index(p)],\n",
    "             legend_label=p, \n",
    "             line_width=1.5)\n",
    "\n",
    "\n",
    "# add the hover tool\n",
    "fig.add_tools(HoverTool(\n",
    "    tooltips=[('data', '@x{%F}'), ('total', '@y')],\n",
    "    formatters=dict(x='datetime')\n",
    "))\n",
    "\n",
    "fig.add_tools(PanTool(dimensions='width'))\n",
    "fig.legend.location = 'top_left'\n",
    "fig.x_range.start = dati_vaccini['data_somministrazione'].min()\n",
    "    \n",
    "# Show the figure\n",
    "show(fig)"
   ]
  },
  {
   "cell_type": "code",
   "execution_count": null,
   "metadata": {},
   "outputs": [],
   "source": []
  }
 ],
 "metadata": {
  "kernelspec": {
   "display_name": "Python 3",
   "language": "python",
   "name": "python3"
  },
  "language_info": {
   "codemirror_mode": {
    "name": "ipython",
    "version": 3
   },
   "file_extension": ".py",
   "mimetype": "text/x-python",
   "name": "python",
   "nbconvert_exporter": "python",
   "pygments_lexer": "ipython3",
   "version": "3.8.3"
  }
 },
 "nbformat": 4,
 "nbformat_minor": 4
}
